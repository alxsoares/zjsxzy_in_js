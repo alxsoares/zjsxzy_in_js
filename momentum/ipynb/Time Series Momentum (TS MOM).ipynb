{
 "cells": [
  {
   "cell_type": "code",
   "execution_count": 1,
   "metadata": {
    "collapsed": false
   },
   "outputs": [
    {
     "name": "stderr",
     "output_type": "stream",
     "text": [
      "WARNING (theano.configdefaults): g++ not detected ! Theano will be unable to execute optimized C-implementations (for both CPU and GPU) and will default to Python implementations. Performance will be severely degraded. To remove this warning, set Theano flags cxx to an empty string.\n"
     ]
    }
   ],
   "source": [
    "import pandas as pd\n",
    "import numpy as np\n",
    "import statsmodels.api as sm\n",
    "import datetime\n",
    "import seaborn as sns\n",
    "import pyfolio as pf\n",
    "from WindPy import w\n",
    "%matplotlib inline"
   ]
  },
  {
   "cell_type": "code",
   "execution_count": 2,
   "metadata": {
    "collapsed": true
   },
   "outputs": [],
   "source": [
    "sns.set(style=\"darkgrid\")"
   ]
  },
  {
   "cell_type": "code",
   "execution_count": 69,
   "metadata": {
    "collapsed": false
   },
   "outputs": [
    {
     "data": {
      "text/plain": [
       ".ErrorCode=0\n",
       ".Data=[Already conntected!]"
      ]
     },
     "execution_count": 69,
     "metadata": {},
     "output_type": "execute_result"
    }
   ],
   "source": [
    "w.start()"
   ]
  },
  {
   "cell_type": "code",
   "execution_count": 71,
   "metadata": {
    "collapsed": true
   },
   "outputs": [],
   "source": [
    "contracts = pd.read_csv(\"../data/momentum.csv\")"
   ]
  },
  {
   "cell_type": "code",
   "execution_count": 72,
   "metadata": {
    "collapsed": false
   },
   "outputs": [],
   "source": [
    "contracts = contracts[\"Contract\"].tolist()"
   ]
  },
  {
   "cell_type": "code",
   "execution_count": 73,
   "metadata": {
    "collapsed": false
   },
   "outputs": [
    {
     "data": {
      "text/plain": [
       "['IF00.CFE',\n",
       " 'CU03.SHF',\n",
       " 'A00.DCE',\n",
       " 'I00.DCE',\n",
       " 'IC00.CFE',\n",
       " 'IM00.SHF',\n",
       " 'J00.DCE',\n",
       " 'JD00.DCE',\n",
       " 'JM00.DCE',\n",
       " 'L00.DCE',\n",
       " 'M00.DCE',\n",
       " 'MA00.CZC',\n",
       " 'NI00.SHF',\n",
       " 'OI00.CZC',\n",
       " 'P00.DCE',\n",
       " 'PB00.SHF',\n",
       " 'PM00.CZC',\n",
       " 'PP00.DCE',\n",
       " 'RB00.SHF']"
      ]
     },
     "execution_count": 73,
     "metadata": {},
     "output_type": "execute_result"
    }
   ],
   "source": [
    "contracts"
   ]
  },
  {
   "cell_type": "code",
   "execution_count": 74,
   "metadata": {
    "collapsed": false
   },
   "outputs": [
    {
     "name": "stdout",
     "output_type": "stream",
     "text": [
      "(1642, 2)\n",
      "(3646, 3)\n",
      "(3646, 4)\n",
      "(3646, 5)\n",
      "(3646, 6)\n",
      "(3646, 7)\n",
      "(3646, 8)\n",
      "(3646, 9)\n",
      "(3646, 10)\n",
      "(3646, 11)\n",
      "(3646, 12)\n",
      "(3646, 13)\n",
      "(3646, 14)\n",
      "(3646, 15)\n",
      "(3646, 16)\n",
      "(3646, 17)\n",
      "(3646, 18)\n",
      "(3646, 19)\n",
      "(3646, 20)\n"
     ]
    }
   ],
   "source": [
    "ret = pd.DataFrame()\n",
    "for contract in contracts:\n",
    "    raw = w.wsd(contract, \"close\", beginTime=\"2002-01-01\", endTime=\"2017-01-17\")\n",
    "    dic = {}\n",
    "    for data, field in zip(raw.Data, raw.Fields):\n",
    "        dic[str.lower(str(field))] = data\n",
    "    df = pd.DataFrame(dic, index=raw.Times)\n",
    "    df.columns = [contract]\n",
    "    df[contract] = df[contract].pct_change()\n",
    "    df.dropna(inplace=True)\n",
    "    df[\"Date\"] = df.index.map(lambda x: x.strftime(\"%Y-%m-%d\"))\n",
    "    if ret.empty:\n",
    "        ret = df\n",
    "    else:\n",
    "        ret = ret.merge(df, on=\"Date\", how=\"outer\")\n",
    "    print ret.shape"
   ]
  },
  {
   "cell_type": "code",
   "execution_count": 65,
   "metadata": {
    "collapsed": false
   },
   "outputs": [
    {
     "data": {
      "text/html": [
       "<div>\n",
       "<table border=\"1\" class=\"dataframe\">\n",
       "  <thead>\n",
       "    <tr style=\"text-align: right;\">\n",
       "      <th></th>\n",
       "      <th>IF00.CFE</th>\n",
       "      <th>Date</th>\n",
       "      <th>CU03.SHF</th>\n",
       "      <th>A00.DCE</th>\n",
       "      <th>I00.DCE</th>\n",
       "      <th>IC00.CFE</th>\n",
       "      <th>IM00.SHF</th>\n",
       "      <th>J00.DCE</th>\n",
       "      <th>JD00.DCE</th>\n",
       "      <th>JM00.DCE</th>\n",
       "      <th>L00.DCE</th>\n",
       "      <th>M00.DCE</th>\n",
       "      <th>MA00.CZC</th>\n",
       "      <th>NI00.SHF</th>\n",
       "      <th>OI00.CZC</th>\n",
       "      <th>P00.DCE</th>\n",
       "      <th>PB00.SHF</th>\n",
       "      <th>PM00.CZC</th>\n",
       "      <th>PP00.DCE</th>\n",
       "      <th>RB00.SHF</th>\n",
       "    </tr>\n",
       "  </thead>\n",
       "  <tbody>\n",
       "    <tr>\n",
       "      <th>0</th>\n",
       "      <td>-0.063883</td>\n",
       "      <td>2010-04-19</td>\n",
       "      <td>-0.037422</td>\n",
       "      <td>-0.006192</td>\n",
       "      <td>NaN</td>\n",
       "      <td>NaN</td>\n",
       "      <td>NaN</td>\n",
       "      <td>NaN</td>\n",
       "      <td>NaN</td>\n",
       "      <td>NaN</td>\n",
       "      <td>-0.023789</td>\n",
       "      <td>-0.005976</td>\n",
       "      <td>NaN</td>\n",
       "      <td>NaN</td>\n",
       "      <td>-0.004035</td>\n",
       "      <td>-0.013415</td>\n",
       "      <td>NaN</td>\n",
       "      <td>NaN</td>\n",
       "      <td>NaN</td>\n",
       "      <td>-0.011741</td>\n",
       "    </tr>\n",
       "    <tr>\n",
       "      <th>1</th>\n",
       "      <td>0.005379</td>\n",
       "      <td>2010-04-20</td>\n",
       "      <td>0.014122</td>\n",
       "      <td>0.003115</td>\n",
       "      <td>NaN</td>\n",
       "      <td>NaN</td>\n",
       "      <td>NaN</td>\n",
       "      <td>NaN</td>\n",
       "      <td>NaN</td>\n",
       "      <td>NaN</td>\n",
       "      <td>0.007220</td>\n",
       "      <td>0.005344</td>\n",
       "      <td>NaN</td>\n",
       "      <td>NaN</td>\n",
       "      <td>0.001773</td>\n",
       "      <td>0.000887</td>\n",
       "      <td>NaN</td>\n",
       "      <td>NaN</td>\n",
       "      <td>NaN</td>\n",
       "      <td>0.002914</td>\n",
       "    </tr>\n",
       "    <tr>\n",
       "      <th>2</th>\n",
       "      <td>0.016363</td>\n",
       "      <td>2010-04-21</td>\n",
       "      <td>0.001638</td>\n",
       "      <td>0.004141</td>\n",
       "      <td>NaN</td>\n",
       "      <td>NaN</td>\n",
       "      <td>NaN</td>\n",
       "      <td>NaN</td>\n",
       "      <td>NaN</td>\n",
       "      <td>NaN</td>\n",
       "      <td>0.000896</td>\n",
       "      <td>-0.002658</td>\n",
       "      <td>NaN</td>\n",
       "      <td>NaN</td>\n",
       "      <td>0.001011</td>\n",
       "      <td>0.000000</td>\n",
       "      <td>NaN</td>\n",
       "      <td>NaN</td>\n",
       "      <td>NaN</td>\n",
       "      <td>-0.004247</td>\n",
       "    </tr>\n",
       "    <tr>\n",
       "      <th>3</th>\n",
       "      <td>-0.009488</td>\n",
       "      <td>2010-04-22</td>\n",
       "      <td>-0.005070</td>\n",
       "      <td>0.004897</td>\n",
       "      <td>NaN</td>\n",
       "      <td>NaN</td>\n",
       "      <td>NaN</td>\n",
       "      <td>NaN</td>\n",
       "      <td>NaN</td>\n",
       "      <td>NaN</td>\n",
       "      <td>-0.007610</td>\n",
       "      <td>0.000999</td>\n",
       "      <td>NaN</td>\n",
       "      <td>NaN</td>\n",
       "      <td>0.000000</td>\n",
       "      <td>-0.005316</td>\n",
       "      <td>NaN</td>\n",
       "      <td>NaN</td>\n",
       "      <td>NaN</td>\n",
       "      <td>-0.002694</td>\n",
       "    </tr>\n",
       "    <tr>\n",
       "      <th>4</th>\n",
       "      <td>-0.004635</td>\n",
       "      <td>2010-04-23</td>\n",
       "      <td>-0.000822</td>\n",
       "      <td>0.001795</td>\n",
       "      <td>NaN</td>\n",
       "      <td>NaN</td>\n",
       "      <td>NaN</td>\n",
       "      <td>NaN</td>\n",
       "      <td>NaN</td>\n",
       "      <td>NaN</td>\n",
       "      <td>-0.001804</td>\n",
       "      <td>0.005324</td>\n",
       "      <td>NaN</td>\n",
       "      <td>NaN</td>\n",
       "      <td>0.001010</td>\n",
       "      <td>0.017221</td>\n",
       "      <td>NaN</td>\n",
       "      <td>NaN</td>\n",
       "      <td>NaN</td>\n",
       "      <td>-0.004727</td>\n",
       "    </tr>\n",
       "  </tbody>\n",
       "</table>\n",
       "</div>"
      ],
      "text/plain": [
       "   IF00.CFE        Date  CU03.SHF   A00.DCE  I00.DCE  IC00.CFE  IM00.SHF  \\\n",
       "0 -0.063883  2010-04-19 -0.037422 -0.006192      NaN       NaN       NaN   \n",
       "1  0.005379  2010-04-20  0.014122  0.003115      NaN       NaN       NaN   \n",
       "2  0.016363  2010-04-21  0.001638  0.004141      NaN       NaN       NaN   \n",
       "3 -0.009488  2010-04-22 -0.005070  0.004897      NaN       NaN       NaN   \n",
       "4 -0.004635  2010-04-23 -0.000822  0.001795      NaN       NaN       NaN   \n",
       "\n",
       "   J00.DCE  JD00.DCE  JM00.DCE   L00.DCE   M00.DCE  MA00.CZC  NI00.SHF  \\\n",
       "0      NaN       NaN       NaN -0.023789 -0.005976       NaN       NaN   \n",
       "1      NaN       NaN       NaN  0.007220  0.005344       NaN       NaN   \n",
       "2      NaN       NaN       NaN  0.000896 -0.002658       NaN       NaN   \n",
       "3      NaN       NaN       NaN -0.007610  0.000999       NaN       NaN   \n",
       "4      NaN       NaN       NaN -0.001804  0.005324       NaN       NaN   \n",
       "\n",
       "   OI00.CZC   P00.DCE  PB00.SHF  PM00.CZC  PP00.DCE  RB00.SHF  \n",
       "0 -0.004035 -0.013415       NaN       NaN       NaN -0.011741  \n",
       "1  0.001773  0.000887       NaN       NaN       NaN  0.002914  \n",
       "2  0.001011  0.000000       NaN       NaN       NaN -0.004247  \n",
       "3  0.000000 -0.005316       NaN       NaN       NaN -0.002694  \n",
       "4  0.001010  0.017221       NaN       NaN       NaN -0.004727  "
      ]
     },
     "execution_count": 65,
     "metadata": {},
     "output_type": "execute_result"
    }
   ],
   "source": [
    "ret.head()"
   ]
  },
  {
   "cell_type": "code",
   "execution_count": null,
   "metadata": {
    "collapsed": true
   },
   "outputs": [],
   "source": []
  }
 ],
 "metadata": {
  "anaconda-cloud": {},
  "kernelspec": {
   "display_name": "Python [default]",
   "language": "python",
   "name": "python2"
  },
  "language_info": {
   "codemirror_mode": {
    "name": "ipython",
    "version": 2
   },
   "file_extension": ".py",
   "mimetype": "text/x-python",
   "name": "python",
   "nbconvert_exporter": "python",
   "pygments_lexer": "ipython2",
   "version": "2.7.12"
  }
 },
 "nbformat": 4,
 "nbformat_minor": 1
}
