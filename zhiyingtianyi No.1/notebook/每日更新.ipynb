{
 "cells": [
  {
   "cell_type": "code",
   "execution_count": 223,
   "metadata": {
    "collapsed": true
   },
   "outputs": [],
   "source": [
    "import pandas as pd\n",
    "import numpy as np\n",
    "import datetime\n",
    "import pyfolio as pf\n",
    "import matplotlib.pyplot as plt\n",
    "import seaborn as sns\n",
    "%matplotlib inline"
   ]
  },
  {
   "cell_type": "code",
   "execution_count": 3,
   "metadata": {
    "collapsed": true
   },
   "outputs": [],
   "source": [
    "DATA_DIR = \"C:/Users/jgtzsx01/Documents/sheet/zhiyingtianyi portfolio\""
   ]
  },
  {
   "cell_type": "code",
   "execution_count": 4,
   "metadata": {
    "collapsed": false
   },
   "outputs": [],
   "source": [
    "zhiying_df = pd.read_csv(\"%s/zhiyingtianyi No.1.csv\"%(DATA_DIR))"
   ]
  },
  {
   "cell_type": "code",
   "execution_count": 5,
   "metadata": {
    "collapsed": false
   },
   "outputs": [
    {
     "data": {
      "text/html": [
       "<div>\n",
       "<table border=\"1\" class=\"dataframe\">\n",
       "  <thead>\n",
       "    <tr style=\"text-align: right;\">\n",
       "      <th></th>\n",
       "      <th>date</th>\n",
       "      <th>4</th>\n",
       "      <th>5</th>\n",
       "      <th>6</th>\n",
       "      <th>7</th>\n",
       "      <th>8</th>\n",
       "      <th>9</th>\n",
       "      <th>10</th>\n",
       "      <th>11</th>\n",
       "      <th>12</th>\n",
       "      <th>13</th>\n",
       "      <th>14</th>\n",
       "      <th>15</th>\n",
       "      <th>16</th>\n",
       "      <th>17</th>\n",
       "    </tr>\n",
       "  </thead>\n",
       "  <tbody>\n",
       "    <tr>\n",
       "      <th>0</th>\n",
       "      <td>2016/6/17</td>\n",
       "      <td>50000.00</td>\n",
       "      <td>NaN</td>\n",
       "      <td>NaN</td>\n",
       "      <td>NaN</td>\n",
       "      <td>NaN</td>\n",
       "      <td>NaN</td>\n",
       "      <td>NaN</td>\n",
       "      <td>NaN</td>\n",
       "      <td>NaN</td>\n",
       "      <td>NaN</td>\n",
       "      <td>NaN</td>\n",
       "      <td>NaN</td>\n",
       "      <td>NaN</td>\n",
       "      <td>NaN</td>\n",
       "    </tr>\n",
       "    <tr>\n",
       "      <th>1</th>\n",
       "      <td>2016/6/20</td>\n",
       "      <td>50014.01</td>\n",
       "      <td>NaN</td>\n",
       "      <td>NaN</td>\n",
       "      <td>NaN</td>\n",
       "      <td>NaN</td>\n",
       "      <td>NaN</td>\n",
       "      <td>NaN</td>\n",
       "      <td>NaN</td>\n",
       "      <td>NaN</td>\n",
       "      <td>NaN</td>\n",
       "      <td>NaN</td>\n",
       "      <td>NaN</td>\n",
       "      <td>NaN</td>\n",
       "      <td>NaN</td>\n",
       "    </tr>\n",
       "    <tr>\n",
       "      <th>2</th>\n",
       "      <td>2016/6/21</td>\n",
       "      <td>50021.60</td>\n",
       "      <td>NaN</td>\n",
       "      <td>NaN</td>\n",
       "      <td>NaN</td>\n",
       "      <td>NaN</td>\n",
       "      <td>NaN</td>\n",
       "      <td>NaN</td>\n",
       "      <td>NaN</td>\n",
       "      <td>NaN</td>\n",
       "      <td>NaN</td>\n",
       "      <td>NaN</td>\n",
       "      <td>NaN</td>\n",
       "      <td>NaN</td>\n",
       "      <td>NaN</td>\n",
       "    </tr>\n",
       "    <tr>\n",
       "      <th>3</th>\n",
       "      <td>2016/6/22</td>\n",
       "      <td>50009.39</td>\n",
       "      <td>NaN</td>\n",
       "      <td>NaN</td>\n",
       "      <td>NaN</td>\n",
       "      <td>NaN</td>\n",
       "      <td>NaN</td>\n",
       "      <td>NaN</td>\n",
       "      <td>NaN</td>\n",
       "      <td>NaN</td>\n",
       "      <td>NaN</td>\n",
       "      <td>NaN</td>\n",
       "      <td>NaN</td>\n",
       "      <td>NaN</td>\n",
       "      <td>NaN</td>\n",
       "    </tr>\n",
       "    <tr>\n",
       "      <th>4</th>\n",
       "      <td>2016/6/23</td>\n",
       "      <td>50026.21</td>\n",
       "      <td>NaN</td>\n",
       "      <td>NaN</td>\n",
       "      <td>NaN</td>\n",
       "      <td>NaN</td>\n",
       "      <td>NaN</td>\n",
       "      <td>NaN</td>\n",
       "      <td>NaN</td>\n",
       "      <td>NaN</td>\n",
       "      <td>NaN</td>\n",
       "      <td>NaN</td>\n",
       "      <td>NaN</td>\n",
       "      <td>NaN</td>\n",
       "      <td>NaN</td>\n",
       "    </tr>\n",
       "  </tbody>\n",
       "</table>\n",
       "</div>"
      ],
      "text/plain": [
       "        date         4   5   6   7   8   9  10  11  12  13  14  15  16  17\n",
       "0  2016/6/17  50000.00 NaN NaN NaN NaN NaN NaN NaN NaN NaN NaN NaN NaN NaN\n",
       "1  2016/6/20  50014.01 NaN NaN NaN NaN NaN NaN NaN NaN NaN NaN NaN NaN NaN\n",
       "2  2016/6/21  50021.60 NaN NaN NaN NaN NaN NaN NaN NaN NaN NaN NaN NaN NaN\n",
       "3  2016/6/22  50009.39 NaN NaN NaN NaN NaN NaN NaN NaN NaN NaN NaN NaN NaN\n",
       "4  2016/6/23  50026.21 NaN NaN NaN NaN NaN NaN NaN NaN NaN NaN NaN NaN NaN"
      ]
     },
     "execution_count": 5,
     "metadata": {},
     "output_type": "execute_result"
    }
   ],
   "source": [
    "zhiying_df.head()"
   ]
  },
  {
   "cell_type": "code",
   "execution_count": 6,
   "metadata": {
    "collapsed": false
   },
   "outputs": [
    {
     "data": {
      "text/html": [
       "<div>\n",
       "<table border=\"1\" class=\"dataframe\">\n",
       "  <thead>\n",
       "    <tr style=\"text-align: right;\">\n",
       "      <th></th>\n",
       "      <th>date</th>\n",
       "      <th>4</th>\n",
       "      <th>5</th>\n",
       "      <th>6</th>\n",
       "      <th>7</th>\n",
       "      <th>8</th>\n",
       "      <th>9</th>\n",
       "      <th>10</th>\n",
       "      <th>11</th>\n",
       "      <th>12</th>\n",
       "      <th>13</th>\n",
       "      <th>14</th>\n",
       "      <th>15</th>\n",
       "      <th>16</th>\n",
       "      <th>17</th>\n",
       "    </tr>\n",
       "  </thead>\n",
       "  <tbody>\n",
       "    <tr>\n",
       "      <th>377</th>\n",
       "      <td>2017/12/29</td>\n",
       "      <td>NaN</td>\n",
       "      <td>NaN</td>\n",
       "      <td>NaN</td>\n",
       "      <td>NaN</td>\n",
       "      <td>NaN</td>\n",
       "      <td>NaN</td>\n",
       "      <td>NaN</td>\n",
       "      <td>NaN</td>\n",
       "      <td>NaN</td>\n",
       "      <td>NaN</td>\n",
       "      <td>NaN</td>\n",
       "      <td>NaN</td>\n",
       "      <td>NaN</td>\n",
       "      <td>NaN</td>\n",
       "    </tr>\n",
       "    <tr>\n",
       "      <th>378</th>\n",
       "      <td>2017/12/26</td>\n",
       "      <td>NaN</td>\n",
       "      <td>NaN</td>\n",
       "      <td>NaN</td>\n",
       "      <td>NaN</td>\n",
       "      <td>NaN</td>\n",
       "      <td>NaN</td>\n",
       "      <td>NaN</td>\n",
       "      <td>NaN</td>\n",
       "      <td>NaN</td>\n",
       "      <td>NaN</td>\n",
       "      <td>NaN</td>\n",
       "      <td>NaN</td>\n",
       "      <td>NaN</td>\n",
       "      <td>NaN</td>\n",
       "    </tr>\n",
       "    <tr>\n",
       "      <th>379</th>\n",
       "      <td>2017/12/27</td>\n",
       "      <td>NaN</td>\n",
       "      <td>NaN</td>\n",
       "      <td>NaN</td>\n",
       "      <td>NaN</td>\n",
       "      <td>NaN</td>\n",
       "      <td>NaN</td>\n",
       "      <td>NaN</td>\n",
       "      <td>NaN</td>\n",
       "      <td>NaN</td>\n",
       "      <td>NaN</td>\n",
       "      <td>NaN</td>\n",
       "      <td>NaN</td>\n",
       "      <td>NaN</td>\n",
       "      <td>NaN</td>\n",
       "    </tr>\n",
       "    <tr>\n",
       "      <th>380</th>\n",
       "      <td>2017/12/28</td>\n",
       "      <td>NaN</td>\n",
       "      <td>NaN</td>\n",
       "      <td>NaN</td>\n",
       "      <td>NaN</td>\n",
       "      <td>NaN</td>\n",
       "      <td>NaN</td>\n",
       "      <td>NaN</td>\n",
       "      <td>NaN</td>\n",
       "      <td>NaN</td>\n",
       "      <td>NaN</td>\n",
       "      <td>NaN</td>\n",
       "      <td>NaN</td>\n",
       "      <td>NaN</td>\n",
       "      <td>NaN</td>\n",
       "    </tr>\n",
       "    <tr>\n",
       "      <th>381</th>\n",
       "      <td>2017/12/29</td>\n",
       "      <td>NaN</td>\n",
       "      <td>NaN</td>\n",
       "      <td>NaN</td>\n",
       "      <td>NaN</td>\n",
       "      <td>NaN</td>\n",
       "      <td>NaN</td>\n",
       "      <td>NaN</td>\n",
       "      <td>NaN</td>\n",
       "      <td>NaN</td>\n",
       "      <td>NaN</td>\n",
       "      <td>NaN</td>\n",
       "      <td>NaN</td>\n",
       "      <td>NaN</td>\n",
       "      <td>NaN</td>\n",
       "    </tr>\n",
       "  </tbody>\n",
       "</table>\n",
       "</div>"
      ],
      "text/plain": [
       "           date   4   5   6   7   8   9  10  11  12  13  14  15  16  17\n",
       "377  2017/12/29 NaN NaN NaN NaN NaN NaN NaN NaN NaN NaN NaN NaN NaN NaN\n",
       "378  2017/12/26 NaN NaN NaN NaN NaN NaN NaN NaN NaN NaN NaN NaN NaN NaN\n",
       "379  2017/12/27 NaN NaN NaN NaN NaN NaN NaN NaN NaN NaN NaN NaN NaN NaN\n",
       "380  2017/12/28 NaN NaN NaN NaN NaN NaN NaN NaN NaN NaN NaN NaN NaN NaN\n",
       "381  2017/12/29 NaN NaN NaN NaN NaN NaN NaN NaN NaN NaN NaN NaN NaN NaN"
      ]
     },
     "execution_count": 6,
     "metadata": {},
     "output_type": "execute_result"
    }
   ],
   "source": [
    "zhiying_df.tail()"
   ]
  },
  {
   "cell_type": "code",
   "execution_count": 7,
   "metadata": {
    "collapsed": false
   },
   "outputs": [],
   "source": [
    "zhiying_df.index = pd.to_datetime(zhiying_df['date'], format=\"%Y/%m/%d\")"
   ]
  },
  {
   "cell_type": "code",
   "execution_count": 8,
   "metadata": {
    "collapsed": false
   },
   "outputs": [
    {
     "data": {
      "text/html": [
       "<div>\n",
       "<table border=\"1\" class=\"dataframe\">\n",
       "  <thead>\n",
       "    <tr style=\"text-align: right;\">\n",
       "      <th></th>\n",
       "      <th>date</th>\n",
       "      <th>4</th>\n",
       "      <th>5</th>\n",
       "      <th>6</th>\n",
       "      <th>7</th>\n",
       "      <th>8</th>\n",
       "      <th>9</th>\n",
       "      <th>10</th>\n",
       "      <th>11</th>\n",
       "      <th>12</th>\n",
       "      <th>13</th>\n",
       "      <th>14</th>\n",
       "      <th>15</th>\n",
       "      <th>16</th>\n",
       "      <th>17</th>\n",
       "    </tr>\n",
       "    <tr>\n",
       "      <th>date</th>\n",
       "      <th></th>\n",
       "      <th></th>\n",
       "      <th></th>\n",
       "      <th></th>\n",
       "      <th></th>\n",
       "      <th></th>\n",
       "      <th></th>\n",
       "      <th></th>\n",
       "      <th></th>\n",
       "      <th></th>\n",
       "      <th></th>\n",
       "      <th></th>\n",
       "      <th></th>\n",
       "      <th></th>\n",
       "      <th></th>\n",
       "    </tr>\n",
       "  </thead>\n",
       "  <tbody>\n",
       "    <tr>\n",
       "      <th>2016-06-17</th>\n",
       "      <td>2016/6/17</td>\n",
       "      <td>50000.00</td>\n",
       "      <td>NaN</td>\n",
       "      <td>NaN</td>\n",
       "      <td>NaN</td>\n",
       "      <td>NaN</td>\n",
       "      <td>NaN</td>\n",
       "      <td>NaN</td>\n",
       "      <td>NaN</td>\n",
       "      <td>NaN</td>\n",
       "      <td>NaN</td>\n",
       "      <td>NaN</td>\n",
       "      <td>NaN</td>\n",
       "      <td>NaN</td>\n",
       "      <td>NaN</td>\n",
       "    </tr>\n",
       "    <tr>\n",
       "      <th>2016-06-20</th>\n",
       "      <td>2016/6/20</td>\n",
       "      <td>50014.01</td>\n",
       "      <td>NaN</td>\n",
       "      <td>NaN</td>\n",
       "      <td>NaN</td>\n",
       "      <td>NaN</td>\n",
       "      <td>NaN</td>\n",
       "      <td>NaN</td>\n",
       "      <td>NaN</td>\n",
       "      <td>NaN</td>\n",
       "      <td>NaN</td>\n",
       "      <td>NaN</td>\n",
       "      <td>NaN</td>\n",
       "      <td>NaN</td>\n",
       "      <td>NaN</td>\n",
       "    </tr>\n",
       "    <tr>\n",
       "      <th>2016-06-21</th>\n",
       "      <td>2016/6/21</td>\n",
       "      <td>50021.60</td>\n",
       "      <td>NaN</td>\n",
       "      <td>NaN</td>\n",
       "      <td>NaN</td>\n",
       "      <td>NaN</td>\n",
       "      <td>NaN</td>\n",
       "      <td>NaN</td>\n",
       "      <td>NaN</td>\n",
       "      <td>NaN</td>\n",
       "      <td>NaN</td>\n",
       "      <td>NaN</td>\n",
       "      <td>NaN</td>\n",
       "      <td>NaN</td>\n",
       "      <td>NaN</td>\n",
       "    </tr>\n",
       "    <tr>\n",
       "      <th>2016-06-22</th>\n",
       "      <td>2016/6/22</td>\n",
       "      <td>50009.39</td>\n",
       "      <td>NaN</td>\n",
       "      <td>NaN</td>\n",
       "      <td>NaN</td>\n",
       "      <td>NaN</td>\n",
       "      <td>NaN</td>\n",
       "      <td>NaN</td>\n",
       "      <td>NaN</td>\n",
       "      <td>NaN</td>\n",
       "      <td>NaN</td>\n",
       "      <td>NaN</td>\n",
       "      <td>NaN</td>\n",
       "      <td>NaN</td>\n",
       "      <td>NaN</td>\n",
       "    </tr>\n",
       "    <tr>\n",
       "      <th>2016-06-23</th>\n",
       "      <td>2016/6/23</td>\n",
       "      <td>50026.21</td>\n",
       "      <td>NaN</td>\n",
       "      <td>NaN</td>\n",
       "      <td>NaN</td>\n",
       "      <td>NaN</td>\n",
       "      <td>NaN</td>\n",
       "      <td>NaN</td>\n",
       "      <td>NaN</td>\n",
       "      <td>NaN</td>\n",
       "      <td>NaN</td>\n",
       "      <td>NaN</td>\n",
       "      <td>NaN</td>\n",
       "      <td>NaN</td>\n",
       "      <td>NaN</td>\n",
       "    </tr>\n",
       "  </tbody>\n",
       "</table>\n",
       "</div>"
      ],
      "text/plain": [
       "                 date         4   5   6   7   8   9  10  11  12  13  14  15  \\\n",
       "date                                                                          \n",
       "2016-06-17  2016/6/17  50000.00 NaN NaN NaN NaN NaN NaN NaN NaN NaN NaN NaN   \n",
       "2016-06-20  2016/6/20  50014.01 NaN NaN NaN NaN NaN NaN NaN NaN NaN NaN NaN   \n",
       "2016-06-21  2016/6/21  50021.60 NaN NaN NaN NaN NaN NaN NaN NaN NaN NaN NaN   \n",
       "2016-06-22  2016/6/22  50009.39 NaN NaN NaN NaN NaN NaN NaN NaN NaN NaN NaN   \n",
       "2016-06-23  2016/6/23  50026.21 NaN NaN NaN NaN NaN NaN NaN NaN NaN NaN NaN   \n",
       "\n",
       "            16  17  \n",
       "date                \n",
       "2016-06-17 NaN NaN  \n",
       "2016-06-20 NaN NaN  \n",
       "2016-06-21 NaN NaN  \n",
       "2016-06-22 NaN NaN  \n",
       "2016-06-23 NaN NaN  "
      ]
     },
     "execution_count": 8,
     "metadata": {},
     "output_type": "execute_result"
    }
   ],
   "source": [
    "zhiying_df.head()"
   ]
  },
  {
   "cell_type": "code",
   "execution_count": 9,
   "metadata": {
    "collapsed": false
   },
   "outputs": [
    {
     "data": {
      "text/plain": [
       "Index([u'date', u'4', u'5', u'6', u'7', u'8', u'9', u'10', u'11', u'12', u'13',\n",
       "       u'14', u'15', u'16', u'17'],\n",
       "      dtype='object')"
      ]
     },
     "execution_count": 9,
     "metadata": {},
     "output_type": "execute_result"
    }
   ],
   "source": [
    "zhiying_df.columns"
   ]
  },
  {
   "cell_type": "markdown",
   "metadata": {},
   "source": [
    "# 合并最新值"
   ]
  },
  {
   "cell_type": "code",
   "execution_count": 46,
   "metadata": {
    "collapsed": true
   },
   "outputs": [],
   "source": [
    "date = \"2017-02-15\""
   ]
  },
  {
   "cell_type": "code",
   "execution_count": 47,
   "metadata": {
    "collapsed": false
   },
   "outputs": [],
   "source": [
    "today_df = pd.read_csv(\"%s/%s.csv\"%(DATA_DIR, date))"
   ]
  },
  {
   "cell_type": "code",
   "execution_count": 48,
   "metadata": {
    "collapsed": false
   },
   "outputs": [
    {
     "data": {
      "text/html": [
       "<div>\n",
       "<table border=\"1\" class=\"dataframe\">\n",
       "  <thead>\n",
       "    <tr style=\"text-align: right;\">\n",
       "      <th></th>\n",
       "      <th>4</th>\n",
       "      <th>5</th>\n",
       "      <th>6</th>\n",
       "      <th>7</th>\n",
       "      <th>8</th>\n",
       "      <th>9</th>\n",
       "      <th>10</th>\n",
       "      <th>11</th>\n",
       "      <th>12</th>\n",
       "      <th>13</th>\n",
       "      <th>14</th>\n",
       "      <th>15</th>\n",
       "      <th>16</th>\n",
       "      <th>17</th>\n",
       "    </tr>\n",
       "  </thead>\n",
       "  <tbody>\n",
       "    <tr>\n",
       "      <th>0</th>\n",
       "      <td>50381.39</td>\n",
       "      <td>50064.44</td>\n",
       "      <td>50068.53</td>\n",
       "      <td>50060.55</td>\n",
       "      <td>50056.46</td>\n",
       "      <td>49938.41</td>\n",
       "      <td>49894.54</td>\n",
       "      <td>50007.46</td>\n",
       "      <td>50073.49</td>\n",
       "      <td>50061.21</td>\n",
       "      <td>50168.15</td>\n",
       "      <td>50284.52</td>\n",
       "      <td>50284.04</td>\n",
       "      <td>50085.32</td>\n",
       "    </tr>\n",
       "  </tbody>\n",
       "</table>\n",
       "</div>"
      ],
      "text/plain": [
       "          4         5         6         7         8         9        10  \\\n",
       "0  50381.39  50064.44  50068.53  50060.55  50056.46  49938.41  49894.54   \n",
       "\n",
       "         11        12        13        14        15        16        17  \n",
       "0  50007.46  50073.49  50061.21  50168.15  50284.52  50284.04  50085.32  "
      ]
     },
     "execution_count": 48,
     "metadata": {},
     "output_type": "execute_result"
    }
   ],
   "source": [
    "today_df"
   ]
  },
  {
   "cell_type": "code",
   "execution_count": 49,
   "metadata": {
    "collapsed": true
   },
   "outputs": [],
   "source": [
    "date = pd.to_datetime(date, format=\"%Y-%m-%d\")"
   ]
  },
  {
   "cell_type": "code",
   "execution_count": 50,
   "metadata": {
    "collapsed": false
   },
   "outputs": [],
   "source": [
    "zhiying_df.ix[date] = [date.strftime(\"%Y/%m/%d\")] + today_df.ix[0].tolist()"
   ]
  },
  {
   "cell_type": "code",
   "execution_count": 51,
   "metadata": {
    "collapsed": false
   },
   "outputs": [
    {
     "data": {
      "text/plain": [
       "date    2017/02/15\n",
       "4          50381.4\n",
       "5          50064.4\n",
       "6          50068.5\n",
       "7          50060.6\n",
       "8          50056.5\n",
       "9          49938.4\n",
       "10         49894.5\n",
       "11         50007.5\n",
       "12         50073.5\n",
       "13         50061.2\n",
       "14         50168.2\n",
       "15         50284.5\n",
       "16           50284\n",
       "17         50085.3\n",
       "Name: 2017-02-15 00:00:00, dtype: object"
      ]
     },
     "execution_count": 51,
     "metadata": {},
     "output_type": "execute_result"
    }
   ],
   "source": [
    "zhiying_df.ix[date]"
   ]
  },
  {
   "cell_type": "code",
   "execution_count": 53,
   "metadata": {
    "collapsed": false
   },
   "outputs": [],
   "source": [
    "zhiying_df.to_csv(\"%s/zhiyingtianyi No.1.csv\"%(DATA_DIR), index=False)"
   ]
  },
  {
   "cell_type": "markdown",
   "metadata": {},
   "source": [
    "# 统计数据"
   ]
  },
  {
   "cell_type": "code",
   "execution_count": 61,
   "metadata": {
    "collapsed": true
   },
   "outputs": [],
   "source": [
    "zhiying_df = pd.read_csv(\"%s/zhiyingtianyi No.1.csv\"%(DATA_DIR))"
   ]
  },
  {
   "cell_type": "code",
   "execution_count": 62,
   "metadata": {
    "collapsed": false
   },
   "outputs": [
    {
     "data": {
      "text/html": [
       "<div>\n",
       "<table border=\"1\" class=\"dataframe\">\n",
       "  <thead>\n",
       "    <tr style=\"text-align: right;\">\n",
       "      <th></th>\n",
       "      <th>date</th>\n",
       "      <th>4</th>\n",
       "      <th>5</th>\n",
       "      <th>6</th>\n",
       "      <th>7</th>\n",
       "      <th>8</th>\n",
       "      <th>9</th>\n",
       "      <th>10</th>\n",
       "      <th>11</th>\n",
       "      <th>12</th>\n",
       "      <th>13</th>\n",
       "      <th>14</th>\n",
       "      <th>15</th>\n",
       "      <th>16</th>\n",
       "      <th>17</th>\n",
       "    </tr>\n",
       "  </thead>\n",
       "  <tbody>\n",
       "    <tr>\n",
       "      <th>0</th>\n",
       "      <td>2016/6/17</td>\n",
       "      <td>50000.00</td>\n",
       "      <td>NaN</td>\n",
       "      <td>NaN</td>\n",
       "      <td>NaN</td>\n",
       "      <td>NaN</td>\n",
       "      <td>NaN</td>\n",
       "      <td>NaN</td>\n",
       "      <td>NaN</td>\n",
       "      <td>NaN</td>\n",
       "      <td>NaN</td>\n",
       "      <td>NaN</td>\n",
       "      <td>NaN</td>\n",
       "      <td>NaN</td>\n",
       "      <td>NaN</td>\n",
       "    </tr>\n",
       "    <tr>\n",
       "      <th>1</th>\n",
       "      <td>2016/6/20</td>\n",
       "      <td>50014.01</td>\n",
       "      <td>NaN</td>\n",
       "      <td>NaN</td>\n",
       "      <td>NaN</td>\n",
       "      <td>NaN</td>\n",
       "      <td>NaN</td>\n",
       "      <td>NaN</td>\n",
       "      <td>NaN</td>\n",
       "      <td>NaN</td>\n",
       "      <td>NaN</td>\n",
       "      <td>NaN</td>\n",
       "      <td>NaN</td>\n",
       "      <td>NaN</td>\n",
       "      <td>NaN</td>\n",
       "    </tr>\n",
       "    <tr>\n",
       "      <th>2</th>\n",
       "      <td>2016/6/21</td>\n",
       "      <td>50021.60</td>\n",
       "      <td>NaN</td>\n",
       "      <td>NaN</td>\n",
       "      <td>NaN</td>\n",
       "      <td>NaN</td>\n",
       "      <td>NaN</td>\n",
       "      <td>NaN</td>\n",
       "      <td>NaN</td>\n",
       "      <td>NaN</td>\n",
       "      <td>NaN</td>\n",
       "      <td>NaN</td>\n",
       "      <td>NaN</td>\n",
       "      <td>NaN</td>\n",
       "      <td>NaN</td>\n",
       "    </tr>\n",
       "    <tr>\n",
       "      <th>3</th>\n",
       "      <td>2016/6/22</td>\n",
       "      <td>50009.39</td>\n",
       "      <td>NaN</td>\n",
       "      <td>NaN</td>\n",
       "      <td>NaN</td>\n",
       "      <td>NaN</td>\n",
       "      <td>NaN</td>\n",
       "      <td>NaN</td>\n",
       "      <td>NaN</td>\n",
       "      <td>NaN</td>\n",
       "      <td>NaN</td>\n",
       "      <td>NaN</td>\n",
       "      <td>NaN</td>\n",
       "      <td>NaN</td>\n",
       "      <td>NaN</td>\n",
       "    </tr>\n",
       "    <tr>\n",
       "      <th>4</th>\n",
       "      <td>2016/6/23</td>\n",
       "      <td>50026.21</td>\n",
       "      <td>NaN</td>\n",
       "      <td>NaN</td>\n",
       "      <td>NaN</td>\n",
       "      <td>NaN</td>\n",
       "      <td>NaN</td>\n",
       "      <td>NaN</td>\n",
       "      <td>NaN</td>\n",
       "      <td>NaN</td>\n",
       "      <td>NaN</td>\n",
       "      <td>NaN</td>\n",
       "      <td>NaN</td>\n",
       "      <td>NaN</td>\n",
       "      <td>NaN</td>\n",
       "    </tr>\n",
       "  </tbody>\n",
       "</table>\n",
       "</div>"
      ],
      "text/plain": [
       "        date         4   5   6   7   8   9  10  11  12  13  14  15  16  17\n",
       "0  2016/6/17  50000.00 NaN NaN NaN NaN NaN NaN NaN NaN NaN NaN NaN NaN NaN\n",
       "1  2016/6/20  50014.01 NaN NaN NaN NaN NaN NaN NaN NaN NaN NaN NaN NaN NaN\n",
       "2  2016/6/21  50021.60 NaN NaN NaN NaN NaN NaN NaN NaN NaN NaN NaN NaN NaN\n",
       "3  2016/6/22  50009.39 NaN NaN NaN NaN NaN NaN NaN NaN NaN NaN NaN NaN NaN\n",
       "4  2016/6/23  50026.21 NaN NaN NaN NaN NaN NaN NaN NaN NaN NaN NaN NaN NaN"
      ]
     },
     "execution_count": 62,
     "metadata": {},
     "output_type": "execute_result"
    }
   ],
   "source": [
    "zhiying_df.head()"
   ]
  },
  {
   "cell_type": "code",
   "execution_count": 63,
   "metadata": {
    "collapsed": true
   },
   "outputs": [],
   "source": [
    "zhiying_df.index = pd.to_datetime(zhiying_df['date'], format='%Y/%m/%d')"
   ]
  },
  {
   "cell_type": "code",
   "execution_count": 64,
   "metadata": {
    "collapsed": true
   },
   "outputs": [],
   "source": [
    "assets = [unicode(x) for x in range(4, 18)]"
   ]
  },
  {
   "cell_type": "code",
   "execution_count": 65,
   "metadata": {
    "collapsed": false
   },
   "outputs": [],
   "source": [
    "asset = assets[0]"
   ]
  },
  {
   "cell_type": "code",
   "execution_count": 92,
   "metadata": {
    "collapsed": true
   },
   "outputs": [],
   "source": [
    "df = zhiying_df[[asset]]"
   ]
  },
  {
   "cell_type": "code",
   "execution_count": 93,
   "metadata": {
    "collapsed": false,
    "scrolled": true
   },
   "outputs": [],
   "source": [
    "df = df.dropna()"
   ]
  },
  {
   "cell_type": "code",
   "execution_count": 94,
   "metadata": {
    "collapsed": false
   },
   "outputs": [
    {
     "data": {
      "text/html": [
       "<div>\n",
       "<table border=\"1\" class=\"dataframe\">\n",
       "  <thead>\n",
       "    <tr style=\"text-align: right;\">\n",
       "      <th></th>\n",
       "      <th>4</th>\n",
       "    </tr>\n",
       "    <tr>\n",
       "      <th>date</th>\n",
       "      <th></th>\n",
       "    </tr>\n",
       "  </thead>\n",
       "  <tbody>\n",
       "    <tr>\n",
       "      <th>2016-06-17</th>\n",
       "      <td>50000.00</td>\n",
       "    </tr>\n",
       "    <tr>\n",
       "      <th>2016-06-20</th>\n",
       "      <td>50014.01</td>\n",
       "    </tr>\n",
       "    <tr>\n",
       "      <th>2016-06-21</th>\n",
       "      <td>50021.60</td>\n",
       "    </tr>\n",
       "    <tr>\n",
       "      <th>2016-06-22</th>\n",
       "      <td>50009.39</td>\n",
       "    </tr>\n",
       "    <tr>\n",
       "      <th>2016-06-23</th>\n",
       "      <td>50026.21</td>\n",
       "    </tr>\n",
       "  </tbody>\n",
       "</table>\n",
       "</div>"
      ],
      "text/plain": [
       "                   4\n",
       "date                \n",
       "2016-06-17  50000.00\n",
       "2016-06-20  50014.01\n",
       "2016-06-21  50021.60\n",
       "2016-06-22  50009.39\n",
       "2016-06-23  50026.21"
      ]
     },
     "execution_count": 94,
     "metadata": {},
     "output_type": "execute_result"
    }
   ],
   "source": [
    "df.head()"
   ]
  },
  {
   "cell_type": "code",
   "execution_count": 95,
   "metadata": {
    "collapsed": false
   },
   "outputs": [],
   "source": [
    "df.loc[:, 'return'] = df.pct_change()"
   ]
  },
  {
   "cell_type": "code",
   "execution_count": 96,
   "metadata": {
    "collapsed": false
   },
   "outputs": [
    {
     "data": {
      "text/html": [
       "<div>\n",
       "<table border=\"1\" class=\"dataframe\">\n",
       "  <thead>\n",
       "    <tr style=\"text-align: right;\">\n",
       "      <th></th>\n",
       "      <th>4</th>\n",
       "      <th>return</th>\n",
       "    </tr>\n",
       "    <tr>\n",
       "      <th>date</th>\n",
       "      <th></th>\n",
       "      <th></th>\n",
       "    </tr>\n",
       "  </thead>\n",
       "  <tbody>\n",
       "    <tr>\n",
       "      <th>2016-06-17</th>\n",
       "      <td>50000.00</td>\n",
       "      <td>NaN</td>\n",
       "    </tr>\n",
       "    <tr>\n",
       "      <th>2016-06-20</th>\n",
       "      <td>50014.01</td>\n",
       "      <td>0.000280</td>\n",
       "    </tr>\n",
       "    <tr>\n",
       "      <th>2016-06-21</th>\n",
       "      <td>50021.60</td>\n",
       "      <td>0.000152</td>\n",
       "    </tr>\n",
       "    <tr>\n",
       "      <th>2016-06-22</th>\n",
       "      <td>50009.39</td>\n",
       "      <td>-0.000244</td>\n",
       "    </tr>\n",
       "    <tr>\n",
       "      <th>2016-06-23</th>\n",
       "      <td>50026.21</td>\n",
       "      <td>0.000336</td>\n",
       "    </tr>\n",
       "  </tbody>\n",
       "</table>\n",
       "</div>"
      ],
      "text/plain": [
       "                   4    return\n",
       "date                          \n",
       "2016-06-17  50000.00       NaN\n",
       "2016-06-20  50014.01  0.000280\n",
       "2016-06-21  50021.60  0.000152\n",
       "2016-06-22  50009.39 -0.000244\n",
       "2016-06-23  50026.21  0.000336"
      ]
     },
     "execution_count": 96,
     "metadata": {},
     "output_type": "execute_result"
    }
   ],
   "source": [
    "df.head()"
   ]
  },
  {
   "cell_type": "code",
   "execution_count": 97,
   "metadata": {
    "collapsed": false
   },
   "outputs": [],
   "source": [
    "df.loc[:, 'net value'] = (1+df['return']).cumprod()"
   ]
  },
  {
   "cell_type": "code",
   "execution_count": 98,
   "metadata": {
    "collapsed": false
   },
   "outputs": [
    {
     "data": {
      "text/html": [
       "<div>\n",
       "<table border=\"1\" class=\"dataframe\">\n",
       "  <thead>\n",
       "    <tr style=\"text-align: right;\">\n",
       "      <th></th>\n",
       "      <th>4</th>\n",
       "      <th>return</th>\n",
       "      <th>net value</th>\n",
       "    </tr>\n",
       "    <tr>\n",
       "      <th>date</th>\n",
       "      <th></th>\n",
       "      <th></th>\n",
       "      <th></th>\n",
       "    </tr>\n",
       "  </thead>\n",
       "  <tbody>\n",
       "    <tr>\n",
       "      <th>2016-06-17</th>\n",
       "      <td>50000.00</td>\n",
       "      <td>NaN</td>\n",
       "      <td>NaN</td>\n",
       "    </tr>\n",
       "    <tr>\n",
       "      <th>2016-06-20</th>\n",
       "      <td>50014.01</td>\n",
       "      <td>0.000280</td>\n",
       "      <td>1.000280</td>\n",
       "    </tr>\n",
       "    <tr>\n",
       "      <th>2016-06-21</th>\n",
       "      <td>50021.60</td>\n",
       "      <td>0.000152</td>\n",
       "      <td>1.000432</td>\n",
       "    </tr>\n",
       "    <tr>\n",
       "      <th>2016-06-22</th>\n",
       "      <td>50009.39</td>\n",
       "      <td>-0.000244</td>\n",
       "      <td>1.000188</td>\n",
       "    </tr>\n",
       "    <tr>\n",
       "      <th>2016-06-23</th>\n",
       "      <td>50026.21</td>\n",
       "      <td>0.000336</td>\n",
       "      <td>1.000524</td>\n",
       "    </tr>\n",
       "  </tbody>\n",
       "</table>\n",
       "</div>"
      ],
      "text/plain": [
       "                   4    return  net value\n",
       "date                                     \n",
       "2016-06-17  50000.00       NaN        NaN\n",
       "2016-06-20  50014.01  0.000280   1.000280\n",
       "2016-06-21  50021.60  0.000152   1.000432\n",
       "2016-06-22  50009.39 -0.000244   1.000188\n",
       "2016-06-23  50026.21  0.000336   1.000524"
      ]
     },
     "execution_count": 98,
     "metadata": {},
     "output_type": "execute_result"
    }
   ],
   "source": [
    "df.head()"
   ]
  },
  {
   "cell_type": "code",
   "execution_count": 102,
   "metadata": {
    "collapsed": false
   },
   "outputs": [],
   "source": [
    "df.loc[df.index[0], 'net value'] = 1"
   ]
  },
  {
   "cell_type": "code",
   "execution_count": 103,
   "metadata": {
    "collapsed": false
   },
   "outputs": [
    {
     "data": {
      "text/html": [
       "<div>\n",
       "<table border=\"1\" class=\"dataframe\">\n",
       "  <thead>\n",
       "    <tr style=\"text-align: right;\">\n",
       "      <th></th>\n",
       "      <th>4</th>\n",
       "      <th>return</th>\n",
       "      <th>net value</th>\n",
       "    </tr>\n",
       "    <tr>\n",
       "      <th>date</th>\n",
       "      <th></th>\n",
       "      <th></th>\n",
       "      <th></th>\n",
       "    </tr>\n",
       "  </thead>\n",
       "  <tbody>\n",
       "    <tr>\n",
       "      <th>2016-06-17</th>\n",
       "      <td>50000.00</td>\n",
       "      <td>NaN</td>\n",
       "      <td>1.000000</td>\n",
       "    </tr>\n",
       "    <tr>\n",
       "      <th>2016-06-20</th>\n",
       "      <td>50014.01</td>\n",
       "      <td>0.000280</td>\n",
       "      <td>1.000280</td>\n",
       "    </tr>\n",
       "    <tr>\n",
       "      <th>2016-06-21</th>\n",
       "      <td>50021.60</td>\n",
       "      <td>0.000152</td>\n",
       "      <td>1.000432</td>\n",
       "    </tr>\n",
       "    <tr>\n",
       "      <th>2016-06-22</th>\n",
       "      <td>50009.39</td>\n",
       "      <td>-0.000244</td>\n",
       "      <td>1.000188</td>\n",
       "    </tr>\n",
       "    <tr>\n",
       "      <th>2016-06-23</th>\n",
       "      <td>50026.21</td>\n",
       "      <td>0.000336</td>\n",
       "      <td>1.000524</td>\n",
       "    </tr>\n",
       "  </tbody>\n",
       "</table>\n",
       "</div>"
      ],
      "text/plain": [
       "                   4    return  net value\n",
       "date                                     \n",
       "2016-06-17  50000.00       NaN   1.000000\n",
       "2016-06-20  50014.01  0.000280   1.000280\n",
       "2016-06-21  50021.60  0.000152   1.000432\n",
       "2016-06-22  50009.39 -0.000244   1.000188\n",
       "2016-06-23  50026.21  0.000336   1.000524"
      ]
     },
     "execution_count": 103,
     "metadata": {},
     "output_type": "execute_result"
    }
   ],
   "source": [
    "df.head()"
   ]
  },
  {
   "cell_type": "code",
   "execution_count": 104,
   "metadata": {
    "collapsed": false
   },
   "outputs": [
    {
     "data": {
      "text/html": [
       "<div>\n",
       "<table border=\"1\" class=\"dataframe\">\n",
       "  <thead>\n",
       "    <tr style=\"text-align: right;\">\n",
       "      <th></th>\n",
       "      <th>4</th>\n",
       "      <th>return</th>\n",
       "      <th>net value</th>\n",
       "    </tr>\n",
       "    <tr>\n",
       "      <th>date</th>\n",
       "      <th></th>\n",
       "      <th></th>\n",
       "      <th></th>\n",
       "    </tr>\n",
       "  </thead>\n",
       "  <tbody>\n",
       "    <tr>\n",
       "      <th>2017-02-10</th>\n",
       "      <td>50339.00</td>\n",
       "      <td>0.000084</td>\n",
       "      <td>1.006780</td>\n",
       "    </tr>\n",
       "    <tr>\n",
       "      <th>2017-02-13</th>\n",
       "      <td>50351.82</td>\n",
       "      <td>0.000255</td>\n",
       "      <td>1.007036</td>\n",
       "    </tr>\n",
       "    <tr>\n",
       "      <th>2017-02-14</th>\n",
       "      <td>50373.43</td>\n",
       "      <td>0.000429</td>\n",
       "      <td>1.007469</td>\n",
       "    </tr>\n",
       "    <tr>\n",
       "      <th>2017-02-15</th>\n",
       "      <td>50381.39</td>\n",
       "      <td>0.000158</td>\n",
       "      <td>1.007628</td>\n",
       "    </tr>\n",
       "    <tr>\n",
       "      <th>2017-02-16</th>\n",
       "      <td>50387.84</td>\n",
       "      <td>0.000128</td>\n",
       "      <td>1.007757</td>\n",
       "    </tr>\n",
       "  </tbody>\n",
       "</table>\n",
       "</div>"
      ],
      "text/plain": [
       "                   4    return  net value\n",
       "date                                     \n",
       "2017-02-10  50339.00  0.000084   1.006780\n",
       "2017-02-13  50351.82  0.000255   1.007036\n",
       "2017-02-14  50373.43  0.000429   1.007469\n",
       "2017-02-15  50381.39  0.000158   1.007628\n",
       "2017-02-16  50387.84  0.000128   1.007757"
      ]
     },
     "execution_count": 104,
     "metadata": {},
     "output_type": "execute_result"
    }
   ],
   "source": [
    "df.tail()"
   ]
  },
  {
   "cell_type": "code",
   "execution_count": 178,
   "metadata": {
    "collapsed": false
   },
   "outputs": [],
   "source": [
    "portfolio_name, net_value, year_return, total_return, max_drawdown, sharpe, volatility = [], [], [], [], [], [], []\n",
    "for asset in assets:\n",
    "    df = zhiying_df[[asset]]\n",
    "    df = df.dropna()\n",
    "    df.loc[:, 'return'] = df.pct_change()\n",
    "    df.loc[:, 'net value'] = (1+df['return']).cumprod()\n",
    "    df.loc[df.index[0], 'net value'] = 1\n",
    "    \n",
    "    portfolio_name.append(u\"智盈添易一号第%s期\"%(asset))\n",
    "    net_value.append(df.loc[df.index[-1], 'net value'])\n",
    "    total_return.append(df.loc[df.index[-1], 'net value'] - 1)\n",
    "    max_drawdown.append(pf.empyrical.max_drawdown(df['return'].dropna()))\n",
    "    sharpe.append(pf.empyrical.sharpe_ratio(df['return'].dropna()))\n",
    "    volatility.append(pf.empyrical.annual_volatility(df['return'].dropna()))\n",
    "    df = df[df.index >= datetime.datetime(2017, 1, 1)]\n",
    "    start_value = df.loc[df.index[0], 'net value']\n",
    "    end_value = df.loc[df.index[-1], 'net value']\n",
    "    year_return.append((end_value-start_value)/start_value)"
   ]
  },
  {
   "cell_type": "code",
   "execution_count": 179,
   "metadata": {
    "collapsed": true
   },
   "outputs": [],
   "source": [
    "ret = {u'组合': portfolio_name, \n",
    "       u'单位净值': net_value, \n",
    "       u'今年以来业绩': year_return, \n",
    "       u'成立以来业绩': total_return, \n",
    "       u'最大回撤': max_drawdown, \n",
    "       u'夏普率': sharpe, \n",
    "       u'波动率': volatility\n",
    "}"
   ]
  },
  {
   "cell_type": "code",
   "execution_count": 180,
   "metadata": {
    "collapsed": true
   },
   "outputs": [],
   "source": [
    "df = pd.DataFrame(ret)"
   ]
  },
  {
   "cell_type": "code",
   "execution_count": 181,
   "metadata": {
    "collapsed": false
   },
   "outputs": [],
   "source": [
    "df = df[[u\"组合\", u'单位净值', u'今年以来业绩', u'成立以来业绩', u'最大回撤', u'夏普率', u'波动率']]"
   ]
  },
  {
   "cell_type": "code",
   "execution_count": 182,
   "metadata": {
    "collapsed": false
   },
   "outputs": [
    {
     "data": {
      "text/html": [
       "<div>\n",
       "<table border=\"1\" class=\"dataframe\">\n",
       "  <thead>\n",
       "    <tr style=\"text-align: right;\">\n",
       "      <th></th>\n",
       "      <th>组合</th>\n",
       "      <th>单位净值</th>\n",
       "      <th>今年以来业绩</th>\n",
       "      <th>成立以来业绩</th>\n",
       "      <th>最大回撤</th>\n",
       "      <th>夏普率</th>\n",
       "      <th>波动率</th>\n",
       "    </tr>\n",
       "  </thead>\n",
       "  <tbody>\n",
       "    <tr>\n",
       "      <th>0</th>\n",
       "      <td>智盈添易一号第4期</td>\n",
       "      <td>1.007757</td>\n",
       "      <td>0.003928</td>\n",
       "      <td>0.007757</td>\n",
       "      <td>-0.017175</td>\n",
       "      <td>0.645762</td>\n",
       "      <td>0.019007</td>\n",
       "    </tr>\n",
       "    <tr>\n",
       "      <th>1</th>\n",
       "      <td>智盈添易一号第5期</td>\n",
       "      <td>1.001386</td>\n",
       "      <td>0.003873</td>\n",
       "      <td>0.001386</td>\n",
       "      <td>-0.017245</td>\n",
       "      <td>0.134117</td>\n",
       "      <td>0.018243</td>\n",
       "    </tr>\n",
       "    <tr>\n",
       "      <th>2</th>\n",
       "      <td>智盈添易一号第6期</td>\n",
       "      <td>1.001468</td>\n",
       "      <td>0.003723</td>\n",
       "      <td>0.001468</td>\n",
       "      <td>-0.017222</td>\n",
       "      <td>0.157141</td>\n",
       "      <td>0.017407</td>\n",
       "    </tr>\n",
       "    <tr>\n",
       "      <th>3</th>\n",
       "      <td>智盈添易一号第7期</td>\n",
       "      <td>1.001308</td>\n",
       "      <td>0.004064</td>\n",
       "      <td>0.001308</td>\n",
       "      <td>-0.017230</td>\n",
       "      <td>0.152708</td>\n",
       "      <td>0.017320</td>\n",
       "    </tr>\n",
       "    <tr>\n",
       "      <th>4</th>\n",
       "      <td>智盈添易一号第8期</td>\n",
       "      <td>1.001226</td>\n",
       "      <td>0.004064</td>\n",
       "      <td>0.001226</td>\n",
       "      <td>-0.017240</td>\n",
       "      <td>0.153687</td>\n",
       "      <td>0.017303</td>\n",
       "    </tr>\n",
       "    <tr>\n",
       "      <th>5</th>\n",
       "      <td>智盈添易一号第9期</td>\n",
       "      <td>0.998863</td>\n",
       "      <td>0.004008</td>\n",
       "      <td>-0.001137</td>\n",
       "      <td>-0.017259</td>\n",
       "      <td>-0.150439</td>\n",
       "      <td>0.016287</td>\n",
       "    </tr>\n",
       "    <tr>\n",
       "      <th>6</th>\n",
       "      <td>智盈添易一号第10期</td>\n",
       "      <td>0.997986</td>\n",
       "      <td>0.004008</td>\n",
       "      <td>-0.002014</td>\n",
       "      <td>-0.017266</td>\n",
       "      <td>-0.291388</td>\n",
       "      <td>0.016786</td>\n",
       "    </tr>\n",
       "    <tr>\n",
       "      <th>7</th>\n",
       "      <td>智盈添易一号第11期</td>\n",
       "      <td>1.000246</td>\n",
       "      <td>0.004362</td>\n",
       "      <td>0.000246</td>\n",
       "      <td>-0.012158</td>\n",
       "      <td>0.063753</td>\n",
       "      <td>0.012052</td>\n",
       "    </tr>\n",
       "    <tr>\n",
       "      <th>8</th>\n",
       "      <td>智盈添易一号第12期</td>\n",
       "      <td>1.001567</td>\n",
       "      <td>0.004561</td>\n",
       "      <td>0.001567</td>\n",
       "      <td>-0.008686</td>\n",
       "      <td>0.563378</td>\n",
       "      <td>0.009416</td>\n",
       "    </tr>\n",
       "    <tr>\n",
       "      <th>9</th>\n",
       "      <td>智盈添易一号第13期</td>\n",
       "      <td>1.001321</td>\n",
       "      <td>0.004561</td>\n",
       "      <td>0.001321</td>\n",
       "      <td>-0.008703</td>\n",
       "      <td>0.515447</td>\n",
       "      <td>0.010027</td>\n",
       "    </tr>\n",
       "    <tr>\n",
       "      <th>10</th>\n",
       "      <td>智盈添易一号第14期</td>\n",
       "      <td>1.003469</td>\n",
       "      <td>0.004926</td>\n",
       "      <td>0.003469</td>\n",
       "      <td>-0.003531</td>\n",
       "      <td>3.047057</td>\n",
       "      <td>0.005309</td>\n",
       "    </tr>\n",
       "    <tr>\n",
       "      <th>11</th>\n",
       "      <td>智盈添易一号第15期</td>\n",
       "      <td>1.005808</td>\n",
       "      <td>0.004273</td>\n",
       "      <td>0.005808</td>\n",
       "      <td>-0.000025</td>\n",
       "      <td>17.576397</td>\n",
       "      <td>0.001845</td>\n",
       "    </tr>\n",
       "    <tr>\n",
       "      <th>12</th>\n",
       "      <td>智盈添易一号第16期</td>\n",
       "      <td>1.005811</td>\n",
       "      <td>0.004962</td>\n",
       "      <td>0.005811</td>\n",
       "      <td>0.000000</td>\n",
       "      <td>13.868864</td>\n",
       "      <td>0.003097</td>\n",
       "    </tr>\n",
       "    <tr>\n",
       "      <th>13</th>\n",
       "      <td>智盈添易一号第17期</td>\n",
       "      <td>1.001803</td>\n",
       "      <td>0.001803</td>\n",
       "      <td>0.001803</td>\n",
       "      <td>0.000000</td>\n",
       "      <td>16.915665</td>\n",
       "      <td>0.002685</td>\n",
       "    </tr>\n",
       "  </tbody>\n",
       "</table>\n",
       "</div>"
      ],
      "text/plain": [
       "            组合      单位净值    今年以来业绩    成立以来业绩      最大回撤        夏普率       波动率\n",
       "0    智盈添易一号第4期  1.007757  0.003928  0.007757 -0.017175   0.645762  0.019007\n",
       "1    智盈添易一号第5期  1.001386  0.003873  0.001386 -0.017245   0.134117  0.018243\n",
       "2    智盈添易一号第6期  1.001468  0.003723  0.001468 -0.017222   0.157141  0.017407\n",
       "3    智盈添易一号第7期  1.001308  0.004064  0.001308 -0.017230   0.152708  0.017320\n",
       "4    智盈添易一号第8期  1.001226  0.004064  0.001226 -0.017240   0.153687  0.017303\n",
       "5    智盈添易一号第9期  0.998863  0.004008 -0.001137 -0.017259  -0.150439  0.016287\n",
       "6   智盈添易一号第10期  0.997986  0.004008 -0.002014 -0.017266  -0.291388  0.016786\n",
       "7   智盈添易一号第11期  1.000246  0.004362  0.000246 -0.012158   0.063753  0.012052\n",
       "8   智盈添易一号第12期  1.001567  0.004561  0.001567 -0.008686   0.563378  0.009416\n",
       "9   智盈添易一号第13期  1.001321  0.004561  0.001321 -0.008703   0.515447  0.010027\n",
       "10  智盈添易一号第14期  1.003469  0.004926  0.003469 -0.003531   3.047057  0.005309\n",
       "11  智盈添易一号第15期  1.005808  0.004273  0.005808 -0.000025  17.576397  0.001845\n",
       "12  智盈添易一号第16期  1.005811  0.004962  0.005811  0.000000  13.868864  0.003097\n",
       "13  智盈添易一号第17期  1.001803  0.001803  0.001803  0.000000  16.915665  0.002685"
      ]
     },
     "execution_count": 182,
     "metadata": {},
     "output_type": "execute_result"
    }
   ],
   "source": [
    "df"
   ]
  },
  {
   "cell_type": "markdown",
   "metadata": {},
   "source": [
    "# 输出到excel"
   ]
  },
  {
   "cell_type": "code",
   "execution_count": 183,
   "metadata": {
    "collapsed": true
   },
   "outputs": [],
   "source": [
    "df.loc[:, u'单位净值'] = df[u'单位净值'].map(lambda x: \"%.4f\"%x)"
   ]
  },
  {
   "cell_type": "code",
   "execution_count": 184,
   "metadata": {
    "collapsed": false
   },
   "outputs": [],
   "source": [
    "df.loc[:, u'今年以来业绩'] = df[u'今年以来业绩'].map(lambda x: \"%.2f%%\"%(x*100))"
   ]
  },
  {
   "cell_type": "code",
   "execution_count": 185,
   "metadata": {
    "collapsed": false
   },
   "outputs": [],
   "source": [
    "df.loc[:, u\"成立以来业绩\"] = df[u\"成立以来业绩\"].map(lambda x: \"%.2f%%\"%(x*100))"
   ]
  },
  {
   "cell_type": "code",
   "execution_count": 186,
   "metadata": {
    "collapsed": false
   },
   "outputs": [],
   "source": [
    "df.loc[:, u\"最大回撤\"] = df[u\"最大回撤\"].map(lambda x: \"%.2f%%\"%(-x*100))"
   ]
  },
  {
   "cell_type": "code",
   "execution_count": 187,
   "metadata": {
    "collapsed": true
   },
   "outputs": [],
   "source": [
    "df.loc[:, u\"夏普率\"] = df[u\"夏普率\"].map(lambda x: \"%.2f\"%x)"
   ]
  },
  {
   "cell_type": "code",
   "execution_count": 188,
   "metadata": {
    "collapsed": true
   },
   "outputs": [],
   "source": [
    "df.loc[:, u\"波动率\"] = df[u\"波动率\"].map(lambda x: \"%.2f%%\"%(x*100))"
   ]
  },
  {
   "cell_type": "code",
   "execution_count": 189,
   "metadata": {
    "collapsed": false
   },
   "outputs": [
    {
     "data": {
      "text/html": [
       "<div>\n",
       "<table border=\"1\" class=\"dataframe\">\n",
       "  <thead>\n",
       "    <tr style=\"text-align: right;\">\n",
       "      <th></th>\n",
       "      <th>组合</th>\n",
       "      <th>单位净值</th>\n",
       "      <th>今年以来业绩</th>\n",
       "      <th>成立以来业绩</th>\n",
       "      <th>最大回撤</th>\n",
       "      <th>夏普率</th>\n",
       "      <th>波动率</th>\n",
       "    </tr>\n",
       "  </thead>\n",
       "  <tbody>\n",
       "    <tr>\n",
       "      <th>0</th>\n",
       "      <td>智盈添易一号第4期</td>\n",
       "      <td>1.0078</td>\n",
       "      <td>0.39%</td>\n",
       "      <td>0.78%</td>\n",
       "      <td>1.72%</td>\n",
       "      <td>0.65</td>\n",
       "      <td>1.90%</td>\n",
       "    </tr>\n",
       "    <tr>\n",
       "      <th>1</th>\n",
       "      <td>智盈添易一号第5期</td>\n",
       "      <td>1.0014</td>\n",
       "      <td>0.39%</td>\n",
       "      <td>0.14%</td>\n",
       "      <td>1.72%</td>\n",
       "      <td>0.13</td>\n",
       "      <td>1.82%</td>\n",
       "    </tr>\n",
       "    <tr>\n",
       "      <th>2</th>\n",
       "      <td>智盈添易一号第6期</td>\n",
       "      <td>1.0015</td>\n",
       "      <td>0.37%</td>\n",
       "      <td>0.15%</td>\n",
       "      <td>1.72%</td>\n",
       "      <td>0.16</td>\n",
       "      <td>1.74%</td>\n",
       "    </tr>\n",
       "    <tr>\n",
       "      <th>3</th>\n",
       "      <td>智盈添易一号第7期</td>\n",
       "      <td>1.0013</td>\n",
       "      <td>0.41%</td>\n",
       "      <td>0.13%</td>\n",
       "      <td>1.72%</td>\n",
       "      <td>0.15</td>\n",
       "      <td>1.73%</td>\n",
       "    </tr>\n",
       "    <tr>\n",
       "      <th>4</th>\n",
       "      <td>智盈添易一号第8期</td>\n",
       "      <td>1.0012</td>\n",
       "      <td>0.41%</td>\n",
       "      <td>0.12%</td>\n",
       "      <td>1.72%</td>\n",
       "      <td>0.15</td>\n",
       "      <td>1.73%</td>\n",
       "    </tr>\n",
       "    <tr>\n",
       "      <th>5</th>\n",
       "      <td>智盈添易一号第9期</td>\n",
       "      <td>0.9989</td>\n",
       "      <td>0.40%</td>\n",
       "      <td>-0.11%</td>\n",
       "      <td>1.73%</td>\n",
       "      <td>-0.15</td>\n",
       "      <td>1.63%</td>\n",
       "    </tr>\n",
       "    <tr>\n",
       "      <th>6</th>\n",
       "      <td>智盈添易一号第10期</td>\n",
       "      <td>0.9980</td>\n",
       "      <td>0.40%</td>\n",
       "      <td>-0.20%</td>\n",
       "      <td>1.73%</td>\n",
       "      <td>-0.29</td>\n",
       "      <td>1.68%</td>\n",
       "    </tr>\n",
       "    <tr>\n",
       "      <th>7</th>\n",
       "      <td>智盈添易一号第11期</td>\n",
       "      <td>1.0002</td>\n",
       "      <td>0.44%</td>\n",
       "      <td>0.02%</td>\n",
       "      <td>1.22%</td>\n",
       "      <td>0.06</td>\n",
       "      <td>1.21%</td>\n",
       "    </tr>\n",
       "    <tr>\n",
       "      <th>8</th>\n",
       "      <td>智盈添易一号第12期</td>\n",
       "      <td>1.0016</td>\n",
       "      <td>0.46%</td>\n",
       "      <td>0.16%</td>\n",
       "      <td>0.87%</td>\n",
       "      <td>0.56</td>\n",
       "      <td>0.94%</td>\n",
       "    </tr>\n",
       "    <tr>\n",
       "      <th>9</th>\n",
       "      <td>智盈添易一号第13期</td>\n",
       "      <td>1.0013</td>\n",
       "      <td>0.46%</td>\n",
       "      <td>0.13%</td>\n",
       "      <td>0.87%</td>\n",
       "      <td>0.52</td>\n",
       "      <td>1.00%</td>\n",
       "    </tr>\n",
       "    <tr>\n",
       "      <th>10</th>\n",
       "      <td>智盈添易一号第14期</td>\n",
       "      <td>1.0035</td>\n",
       "      <td>0.49%</td>\n",
       "      <td>0.35%</td>\n",
       "      <td>0.35%</td>\n",
       "      <td>3.05</td>\n",
       "      <td>0.53%</td>\n",
       "    </tr>\n",
       "    <tr>\n",
       "      <th>11</th>\n",
       "      <td>智盈添易一号第15期</td>\n",
       "      <td>1.0058</td>\n",
       "      <td>0.43%</td>\n",
       "      <td>0.58%</td>\n",
       "      <td>0.00%</td>\n",
       "      <td>17.58</td>\n",
       "      <td>0.18%</td>\n",
       "    </tr>\n",
       "    <tr>\n",
       "      <th>12</th>\n",
       "      <td>智盈添易一号第16期</td>\n",
       "      <td>1.0058</td>\n",
       "      <td>0.50%</td>\n",
       "      <td>0.58%</td>\n",
       "      <td>-0.00%</td>\n",
       "      <td>13.87</td>\n",
       "      <td>0.31%</td>\n",
       "    </tr>\n",
       "    <tr>\n",
       "      <th>13</th>\n",
       "      <td>智盈添易一号第17期</td>\n",
       "      <td>1.0018</td>\n",
       "      <td>0.18%</td>\n",
       "      <td>0.18%</td>\n",
       "      <td>-0.00%</td>\n",
       "      <td>16.92</td>\n",
       "      <td>0.27%</td>\n",
       "    </tr>\n",
       "  </tbody>\n",
       "</table>\n",
       "</div>"
      ],
      "text/plain": [
       "            组合    单位净值 今年以来业绩  成立以来业绩    最大回撤    夏普率    波动率\n",
       "0    智盈添易一号第4期  1.0078  0.39%   0.78%   1.72%   0.65  1.90%\n",
       "1    智盈添易一号第5期  1.0014  0.39%   0.14%   1.72%   0.13  1.82%\n",
       "2    智盈添易一号第6期  1.0015  0.37%   0.15%   1.72%   0.16  1.74%\n",
       "3    智盈添易一号第7期  1.0013  0.41%   0.13%   1.72%   0.15  1.73%\n",
       "4    智盈添易一号第8期  1.0012  0.41%   0.12%   1.72%   0.15  1.73%\n",
       "5    智盈添易一号第9期  0.9989  0.40%  -0.11%   1.73%  -0.15  1.63%\n",
       "6   智盈添易一号第10期  0.9980  0.40%  -0.20%   1.73%  -0.29  1.68%\n",
       "7   智盈添易一号第11期  1.0002  0.44%   0.02%   1.22%   0.06  1.21%\n",
       "8   智盈添易一号第12期  1.0016  0.46%   0.16%   0.87%   0.56  0.94%\n",
       "9   智盈添易一号第13期  1.0013  0.46%   0.13%   0.87%   0.52  1.00%\n",
       "10  智盈添易一号第14期  1.0035  0.49%   0.35%   0.35%   3.05  0.53%\n",
       "11  智盈添易一号第15期  1.0058  0.43%   0.58%   0.00%  17.58  0.18%\n",
       "12  智盈添易一号第16期  1.0058  0.50%   0.58%  -0.00%  13.87  0.31%\n",
       "13  智盈添易一号第17期  1.0018  0.18%   0.18%  -0.00%  16.92  0.27%"
      ]
     },
     "execution_count": 189,
     "metadata": {},
     "output_type": "execute_result"
    }
   ],
   "source": [
    "df"
   ]
  },
  {
   "cell_type": "code",
   "execution_count": 198,
   "metadata": {
    "collapsed": false
   },
   "outputs": [],
   "source": [
    "writer = pd.ExcelWriter('%s/%s.xlsx'%(DATA_DIR, \"2017-02-16\"))"
   ]
  },
  {
   "cell_type": "code",
   "execution_count": 199,
   "metadata": {
    "collapsed": true
   },
   "outputs": [],
   "source": [
    "df.to_excel(writer, index=False)"
   ]
  },
  {
   "cell_type": "code",
   "execution_count": 200,
   "metadata": {
    "collapsed": false
   },
   "outputs": [],
   "source": [
    "writer.save()"
   ]
  },
  {
   "cell_type": "code",
   "execution_count": 202,
   "metadata": {
    "collapsed": false
   },
   "outputs": [],
   "source": [
    "df = pd.read_excel('%s/%s.xlsx'%(DATA_DIR, \"2017-02-16\"))"
   ]
  },
  {
   "cell_type": "code",
   "execution_count": 206,
   "metadata": {
    "collapsed": false
   },
   "outputs": [
    {
     "data": {
      "text/plain": [
       "datetime.datetime(2017, 2, 16, 12, 37, 8, 906000)"
      ]
     },
     "execution_count": 206,
     "metadata": {},
     "output_type": "execute_result"
    }
   ],
   "source": [
    "datetime.datetime.now() - datetime.timedelta(1)"
   ]
  },
  {
   "cell_type": "code",
   "execution_count": 213,
   "metadata": {
    "collapsed": false
   },
   "outputs": [],
   "source": [
    "?pf.empyrical.annual_volatility"
   ]
  },
  {
   "cell_type": "code",
   "execution_count": 217,
   "metadata": {
    "collapsed": false
   },
   "outputs": [],
   "source": [
    "from bokeh.plotting import figure"
   ]
  },
  {
   "cell_type": "code",
   "execution_count": 218,
   "metadata": {
    "collapsed": true
   },
   "outputs": [],
   "source": [
    "p = figure()"
   ]
  },
  {
   "cell_type": "code",
   "execution_count": 224,
   "metadata": {
    "collapsed": false
   },
   "outputs": [],
   "source": [
    "df = pd.DataFrame({'a': [1,2,3,4,5,6,7,8,9,10,np.nan], 'b': [1,2,3,4,5,6,7,8,9,10,np.nan]})"
   ]
  },
  {
   "cell_type": "code",
   "execution_count": 225,
   "metadata": {
    "collapsed": false
   },
   "outputs": [
    {
     "name": "stderr",
     "output_type": "stream",
     "text": [
      "C:\\Users\\jgtzsx01\\AppData\\Local\\Continuum\\Anaconda2\\lib\\site-packages\\numpy\\lib\\function_base.py:3834: RuntimeWarning: Invalid value encountered in percentile\n",
      "  RuntimeWarning)\n"
     ]
    },
    {
     "data": {
      "text/plain": [
       "a   NaN\n",
       "b   NaN\n",
       "dtype: float64"
      ]
     },
     "execution_count": 225,
     "metadata": {},
     "output_type": "execute_result"
    }
   ],
   "source": [
    "df.quantile(0.75, axis=0)"
   ]
  },
  {
   "cell_type": "code",
   "execution_count": 226,
   "metadata": {
    "collapsed": false
   },
   "outputs": [
    {
     "data": {
      "text/html": [
       "<div>\n",
       "<table border=\"1\" class=\"dataframe\">\n",
       "  <thead>\n",
       "    <tr style=\"text-align: right;\">\n",
       "      <th></th>\n",
       "      <th>a</th>\n",
       "      <th>b</th>\n",
       "    </tr>\n",
       "  </thead>\n",
       "  <tbody>\n",
       "    <tr>\n",
       "      <th>count</th>\n",
       "      <td>10.00000</td>\n",
       "      <td>10.00000</td>\n",
       "    </tr>\n",
       "    <tr>\n",
       "      <th>mean</th>\n",
       "      <td>5.50000</td>\n",
       "      <td>5.50000</td>\n",
       "    </tr>\n",
       "    <tr>\n",
       "      <th>std</th>\n",
       "      <td>3.02765</td>\n",
       "      <td>3.02765</td>\n",
       "    </tr>\n",
       "    <tr>\n",
       "      <th>min</th>\n",
       "      <td>1.00000</td>\n",
       "      <td>1.00000</td>\n",
       "    </tr>\n",
       "    <tr>\n",
       "      <th>25%</th>\n",
       "      <td>NaN</td>\n",
       "      <td>NaN</td>\n",
       "    </tr>\n",
       "    <tr>\n",
       "      <th>50%</th>\n",
       "      <td>NaN</td>\n",
       "      <td>NaN</td>\n",
       "    </tr>\n",
       "    <tr>\n",
       "      <th>75%</th>\n",
       "      <td>NaN</td>\n",
       "      <td>NaN</td>\n",
       "    </tr>\n",
       "    <tr>\n",
       "      <th>max</th>\n",
       "      <td>10.00000</td>\n",
       "      <td>10.00000</td>\n",
       "    </tr>\n",
       "  </tbody>\n",
       "</table>\n",
       "</div>"
      ],
      "text/plain": [
       "              a         b\n",
       "count  10.00000  10.00000\n",
       "mean    5.50000   5.50000\n",
       "std     3.02765   3.02765\n",
       "min     1.00000   1.00000\n",
       "25%         NaN       NaN\n",
       "50%         NaN       NaN\n",
       "75%         NaN       NaN\n",
       "max    10.00000  10.00000"
      ]
     },
     "execution_count": 226,
     "metadata": {},
     "output_type": "execute_result"
    }
   ],
   "source": [
    "df.describe()"
   ]
  },
  {
   "cell_type": "code",
   "execution_count": null,
   "metadata": {
    "collapsed": true
   },
   "outputs": [],
   "source": []
  }
 ],
 "metadata": {
  "anaconda-cloud": {},
  "kernelspec": {
   "display_name": "Python [default]",
   "language": "python",
   "name": "python2"
  },
  "language_info": {
   "codemirror_mode": {
    "name": "ipython",
    "version": 2
   },
   "file_extension": ".py",
   "mimetype": "text/x-python",
   "name": "python",
   "nbconvert_exporter": "python",
   "pygments_lexer": "ipython2",
   "version": "2.7.12"
  }
 },
 "nbformat": 4,
 "nbformat_minor": 1
}
