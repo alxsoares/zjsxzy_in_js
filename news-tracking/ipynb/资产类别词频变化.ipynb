{
 "cells": [
  {
   "cell_type": "code",
   "execution_count": 1,
   "metadata": {
    "collapsed": false
   },
   "outputs": [
    {
     "name": "stderr",
     "output_type": "stream",
     "text": [
      "C:\\Users\\jgtzsx01\\AppData\\Local\\Continuum\\Anaconda2\\lib\\site-packages\\gensim\\utils.py:855: UserWarning: detected Windows; aliasing chunkize to chunkize_serial\n",
      "  warnings.warn(\"detected Windows; aliasing chunkize to chunkize_serial\")\n"
     ]
    }
   ],
   "source": [
    "import os\n",
    "import pandas as pd\n",
    "import datetime\n",
    "import json\n",
    "import re\n",
    "import tushare as ts\n",
    "import gensim\n",
    "import seaborn as sns\n",
    "import numpy as np\n",
    "import matplotlib.pyplot as plt\n",
    "%matplotlib inline"
   ]
  },
  {
   "cell_type": "code",
   "execution_count": 33,
   "metadata": {
    "collapsed": true
   },
   "outputs": [],
   "source": [
    "import matplotlib as mpl\n",
    "mpl.rcParams['font.sans-serif'] = ['Microsoft YaHei'] #指定默认字体  \n",
    "mpl.rcParams['axes.unicode_minus'] = False # 解决保存图像是负号'-'显示为方块的问题\n",
    "# sns.axes_style()，可以看到是否成功设定字体为微软雅黑。"
   ]
  },
  {
   "cell_type": "code",
   "execution_count": 2,
   "metadata": {
    "collapsed": true
   },
   "outputs": [],
   "source": [
    "sns.set_style(\"whitegrid\")\n",
    "sns.set_context(\"talk\")"
   ]
  },
  {
   "cell_type": "code",
   "execution_count": 90,
   "metadata": {
    "collapsed": true
   },
   "outputs": [],
   "source": [
    "data_dir = \"C:/Users/jgtzsx01/Documents/workspace/data/sina\"\n",
    "csv_dir = \"%s/day-news\"%(data_dir)\n",
    "key_words_dir = \"%s/week-keywords\"%(data_dir)\n",
    "word_count_file = \"%s/word_count.json\"%(data_dir)\n",
    "asset_class_dir = \"C:/Users/jgtzsx01/Documents/workspace/data/asset-class\""
   ]
  },
  {
   "cell_type": "code",
   "execution_count": 203,
   "metadata": {
    "collapsed": true
   },
   "outputs": [],
   "source": [
    "# model = gensim.models.Word2Vec.load(\"C:/Users/jgtzsx01/Documents/workspace/model/model\")\n",
    "model = gensim.models.Word2Vec.load(\"C:/Users/jgtzsx01/Documents/workspace/model/wallstreet_model\")"
   ]
  },
  {
   "cell_type": "code",
   "execution_count": 204,
   "metadata": {
    "collapsed": false
   },
   "outputs": [
    {
     "data": {
      "text/plain": [
       "84956"
      ]
     },
     "execution_count": 204,
     "metadata": {},
     "output_type": "execute_result"
    }
   ],
   "source": [
    "len(model.vocab)"
   ]
  },
  {
   "cell_type": "code",
   "execution_count": 205,
   "metadata": {
    "collapsed": true
   },
   "outputs": [],
   "source": [
    "# 判断是否是中文\n",
    "def isChinese(word):\n",
    "    for w in word:\n",
    "        if re.match('[ \\u4e00 -\\u9fa5]+',w) == None:\n",
    "            continue\n",
    "        else:\n",
    "            return False\n",
    "    return True"
   ]
  },
  {
   "cell_type": "code",
   "execution_count": 206,
   "metadata": {
    "collapsed": true
   },
   "outputs": [],
   "source": [
    "with open(word_count_file, 'r') as f:\n",
    "    word_cnt = json.load(f)"
   ]
  },
  {
   "cell_type": "code",
   "execution_count": 207,
   "metadata": {
    "collapsed": true
   },
   "outputs": [],
   "source": [
    "total_word_count = {}\n",
    "for word in word_cnt:\n",
    "    for day, value in word_cnt[word].iteritems():\n",
    "        if not total_word_count.has_key(day):\n",
    "            total_word_count[day] = 0\n",
    "        total_word_count[day] += value * 1.0 / 10"
   ]
  },
  {
   "cell_type": "code",
   "execution_count": 282,
   "metadata": {
    "collapsed": false
   },
   "outputs": [
    {
     "name": "stdout",
     "output_type": "stream",
     "text": [
      "商品价格 0.5750259161\n",
      "大宗 0.572187960148\n",
      "商品交易 0.491748958826\n",
      "色系 0.464725375175\n",
      "从康波 0.439159065485\n",
      "国内定价 0.435334742069\n",
      "走势 0.408672451973\n",
      "商品生产 0.408352673054\n",
      "概况 0.392053604126\n",
      "市场走势 0.391019999981\n",
      "金银铜 0.390180617571\n"
     ]
    }
   ],
   "source": [
    "key_word = u\"商品\"\n",
    "save_name = \"commodity\"\n",
    "for w, v in model.most_similar(key_word, topn=15):\n",
    "    if isChinese(w):\n",
    "        print w, v"
   ]
  },
  {
   "cell_type": "code",
   "execution_count": 283,
   "metadata": {
    "collapsed": false
   },
   "outputs": [],
   "source": [
    "word_df = pd.DataFrame({\"date\": word_cnt[key_word].keys(), \"count\": word_cnt[key_word].values()})"
   ]
  },
  {
   "cell_type": "code",
   "execution_count": 284,
   "metadata": {
    "collapsed": true
   },
   "outputs": [],
   "source": [
    "word_df.index = word_df[\"date\"].map(lambda x: datetime.datetime.strptime(x, \"%Y-%m-%d\"))\n",
    "word_df.sort_index(inplace=True)"
   ]
  },
  {
   "cell_type": "code",
   "execution_count": 285,
   "metadata": {
    "collapsed": false
   },
   "outputs": [
    {
     "data": {
      "text/html": [
       "<div>\n",
       "<table border=\"1\" class=\"dataframe\">\n",
       "  <thead>\n",
       "    <tr style=\"text-align: right;\">\n",
       "      <th></th>\n",
       "      <th>count</th>\n",
       "      <th>date</th>\n",
       "    </tr>\n",
       "    <tr>\n",
       "      <th>date</th>\n",
       "      <th></th>\n",
       "      <th></th>\n",
       "    </tr>\n",
       "  </thead>\n",
       "  <tbody>\n",
       "    <tr>\n",
       "      <th>2017-01-12</th>\n",
       "      <td>14</td>\n",
       "      <td>2017-01-12</td>\n",
       "    </tr>\n",
       "    <tr>\n",
       "      <th>2017-01-13</th>\n",
       "      <td>81</td>\n",
       "      <td>2017-01-13</td>\n",
       "    </tr>\n",
       "    <tr>\n",
       "      <th>2017-01-14</th>\n",
       "      <td>44</td>\n",
       "      <td>2017-01-14</td>\n",
       "    </tr>\n",
       "    <tr>\n",
       "      <th>2017-01-15</th>\n",
       "      <td>36</td>\n",
       "      <td>2017-01-15</td>\n",
       "    </tr>\n",
       "    <tr>\n",
       "      <th>2017-01-16</th>\n",
       "      <td>126</td>\n",
       "      <td>2017-01-16</td>\n",
       "    </tr>\n",
       "    <tr>\n",
       "      <th>2017-01-17</th>\n",
       "      <td>116</td>\n",
       "      <td>2017-01-17</td>\n",
       "    </tr>\n",
       "    <tr>\n",
       "      <th>2017-01-18</th>\n",
       "      <td>105</td>\n",
       "      <td>2017-01-18</td>\n",
       "    </tr>\n",
       "    <tr>\n",
       "      <th>2017-01-19</th>\n",
       "      <td>170</td>\n",
       "      <td>2017-01-19</td>\n",
       "    </tr>\n",
       "    <tr>\n",
       "      <th>2017-01-20</th>\n",
       "      <td>103</td>\n",
       "      <td>2017-01-20</td>\n",
       "    </tr>\n",
       "    <tr>\n",
       "      <th>2017-01-21</th>\n",
       "      <td>34</td>\n",
       "      <td>2017-01-21</td>\n",
       "    </tr>\n",
       "    <tr>\n",
       "      <th>2017-01-22</th>\n",
       "      <td>24</td>\n",
       "      <td>2017-01-22</td>\n",
       "    </tr>\n",
       "    <tr>\n",
       "      <th>2017-01-23</th>\n",
       "      <td>56</td>\n",
       "      <td>2017-01-23</td>\n",
       "    </tr>\n",
       "    <tr>\n",
       "      <th>2017-01-24</th>\n",
       "      <td>36</td>\n",
       "      <td>2017-01-24</td>\n",
       "    </tr>\n",
       "  </tbody>\n",
       "</table>\n",
       "</div>"
      ],
      "text/plain": [
       "            count        date\n",
       "date                         \n",
       "2017-01-12     14  2017-01-12\n",
       "2017-01-13     81  2017-01-13\n",
       "2017-01-14     44  2017-01-14\n",
       "2017-01-15     36  2017-01-15\n",
       "2017-01-16    126  2017-01-16\n",
       "2017-01-17    116  2017-01-17\n",
       "2017-01-18    105  2017-01-18\n",
       "2017-01-19    170  2017-01-19\n",
       "2017-01-20    103  2017-01-20\n",
       "2017-01-21     34  2017-01-21\n",
       "2017-01-22     24  2017-01-22\n",
       "2017-01-23     56  2017-01-23\n",
       "2017-01-24     36  2017-01-24"
      ]
     },
     "execution_count": 285,
     "metadata": {},
     "output_type": "execute_result"
    }
   ],
   "source": [
    "word_df"
   ]
  },
  {
   "cell_type": "code",
   "execution_count": 286,
   "metadata": {
    "collapsed": false
   },
   "outputs": [],
   "source": [
    "hot_val = {}\n",
    "threshold = 0.1\n",
    "for word in word_cnt:\n",
    "    if isChinese(word) and word in model.vocab:\n",
    "        dis = model.similarity(word, key_word)\n",
    "        if dis >= threshold:\n",
    "            for day, value in word_cnt[word].iteritems():\n",
    "                if not hot_val.has_key(day):\n",
    "                    hot_val[day] = 0\n",
    "                hot_val[day] += value * dis\n",
    "for key, value in hot_val.iteritems():\n",
    "    hot_val[key] = value / total_word_count[key]"
   ]
  },
  {
   "cell_type": "code",
   "execution_count": 287,
   "metadata": {
    "collapsed": true
   },
   "outputs": [],
   "source": [
    "hot_df = pd.DataFrame({\"date\": hot_val.keys(), \"value\": hot_val.values()})"
   ]
  },
  {
   "cell_type": "code",
   "execution_count": 288,
   "metadata": {
    "collapsed": true
   },
   "outputs": [],
   "source": [
    "hot_df[\"value\"] = hot_df[\"value\"] * 10000"
   ]
  },
  {
   "cell_type": "code",
   "execution_count": 289,
   "metadata": {
    "collapsed": true
   },
   "outputs": [],
   "source": [
    "hot_df.index = hot_df[\"date\"].map(lambda x: datetime.datetime.strptime(x, \"%Y-%m-%d\"))\n",
    "hot_df.sort_index(inplace=True)"
   ]
  },
  {
   "cell_type": "code",
   "execution_count": 290,
   "metadata": {
    "collapsed": false
   },
   "outputs": [
    {
     "data": {
      "text/html": [
       "<div>\n",
       "<table border=\"1\" class=\"dataframe\">\n",
       "  <thead>\n",
       "    <tr style=\"text-align: right;\">\n",
       "      <th></th>\n",
       "      <th>date</th>\n",
       "      <th>value</th>\n",
       "    </tr>\n",
       "    <tr>\n",
       "      <th>date</th>\n",
       "      <th></th>\n",
       "      <th></th>\n",
       "    </tr>\n",
       "  </thead>\n",
       "  <tbody>\n",
       "    <tr>\n",
       "      <th>2017-01-12</th>\n",
       "      <td>2017-01-12</td>\n",
       "      <td>1168.429384</td>\n",
       "    </tr>\n",
       "    <tr>\n",
       "      <th>2017-01-13</th>\n",
       "      <td>2017-01-13</td>\n",
       "      <td>1565.657473</td>\n",
       "    </tr>\n",
       "    <tr>\n",
       "      <th>2017-01-14</th>\n",
       "      <td>2017-01-14</td>\n",
       "      <td>1445.571045</td>\n",
       "    </tr>\n",
       "    <tr>\n",
       "      <th>2017-01-15</th>\n",
       "      <td>2017-01-15</td>\n",
       "      <td>1672.667643</td>\n",
       "    </tr>\n",
       "    <tr>\n",
       "      <th>2017-01-16</th>\n",
       "      <td>2017-01-16</td>\n",
       "      <td>1736.061555</td>\n",
       "    </tr>\n",
       "    <tr>\n",
       "      <th>2017-01-17</th>\n",
       "      <td>2017-01-17</td>\n",
       "      <td>1560.283852</td>\n",
       "    </tr>\n",
       "    <tr>\n",
       "      <th>2017-01-18</th>\n",
       "      <td>2017-01-18</td>\n",
       "      <td>1748.775102</td>\n",
       "    </tr>\n",
       "    <tr>\n",
       "      <th>2017-01-19</th>\n",
       "      <td>2017-01-19</td>\n",
       "      <td>1723.476771</td>\n",
       "    </tr>\n",
       "    <tr>\n",
       "      <th>2017-01-20</th>\n",
       "      <td>2017-01-20</td>\n",
       "      <td>1680.230861</td>\n",
       "    </tr>\n",
       "    <tr>\n",
       "      <th>2017-01-21</th>\n",
       "      <td>2017-01-21</td>\n",
       "      <td>1430.344653</td>\n",
       "    </tr>\n",
       "    <tr>\n",
       "      <th>2017-01-22</th>\n",
       "      <td>2017-01-22</td>\n",
       "      <td>1734.319784</td>\n",
       "    </tr>\n",
       "    <tr>\n",
       "      <th>2017-01-23</th>\n",
       "      <td>2017-01-23</td>\n",
       "      <td>1702.527819</td>\n",
       "    </tr>\n",
       "    <tr>\n",
       "      <th>2017-01-24</th>\n",
       "      <td>2017-01-24</td>\n",
       "      <td>1588.477917</td>\n",
       "    </tr>\n",
       "  </tbody>\n",
       "</table>\n",
       "</div>"
      ],
      "text/plain": [
       "                  date        value\n",
       "date                               \n",
       "2017-01-12  2017-01-12  1168.429384\n",
       "2017-01-13  2017-01-13  1565.657473\n",
       "2017-01-14  2017-01-14  1445.571045\n",
       "2017-01-15  2017-01-15  1672.667643\n",
       "2017-01-16  2017-01-16  1736.061555\n",
       "2017-01-17  2017-01-17  1560.283852\n",
       "2017-01-18  2017-01-18  1748.775102\n",
       "2017-01-19  2017-01-19  1723.476771\n",
       "2017-01-20  2017-01-20  1680.230861\n",
       "2017-01-21  2017-01-21  1430.344653\n",
       "2017-01-22  2017-01-22  1734.319784\n",
       "2017-01-23  2017-01-23  1702.527819\n",
       "2017-01-24  2017-01-24  1588.477917"
      ]
     },
     "execution_count": 290,
     "metadata": {},
     "output_type": "execute_result"
    }
   ],
   "source": [
    "hot_df"
   ]
  },
  {
   "cell_type": "code",
   "execution_count": 291,
   "metadata": {
    "collapsed": true
   },
   "outputs": [],
   "source": [
    "hot_df[\"date\"] = hot_df[\"date\"].map(lambda x: datetime.datetime.strptime(x, \"%Y-%m-%d\").strftime(\"%Y%m%d\"))"
   ]
  },
  {
   "cell_type": "code",
   "execution_count": 292,
   "metadata": {
    "collapsed": false
   },
   "outputs": [],
   "source": [
    "hot_df.to_csv(\"%s/%s.csv\"%(asset_class_dir, save_name), index=False)"
   ]
  },
  {
   "cell_type": "code",
   "execution_count": null,
   "metadata": {
    "collapsed": true
   },
   "outputs": [],
   "source": []
  },
  {
   "cell_type": "code",
   "execution_count": 160,
   "metadata": {
    "collapsed": false
   },
   "outputs": [],
   "source": [
    "df = ts.get_hist_data(\"sh\")"
   ]
  },
  {
   "cell_type": "code",
   "execution_count": 162,
   "metadata": {
    "collapsed": true
   },
   "outputs": [],
   "source": [
    "df.index = pd.to_datetime(df.index)"
   ]
  },
  {
   "cell_type": "code",
   "execution_count": 163,
   "metadata": {
    "collapsed": false
   },
   "outputs": [],
   "source": [
    "df = df[df.index >= datetime.datetime(2017, 1, 12)]"
   ]
  },
  {
   "cell_type": "code",
   "execution_count": 165,
   "metadata": {
    "collapsed": false
   },
   "outputs": [],
   "source": [
    "df = df[[\"close\"]]"
   ]
  },
  {
   "cell_type": "code",
   "execution_count": 166,
   "metadata": {
    "collapsed": true
   },
   "outputs": [],
   "source": [
    "df.columns = [\"value\"]"
   ]
  },
  {
   "cell_type": "code",
   "execution_count": 167,
   "metadata": {
    "collapsed": false
   },
   "outputs": [
    {
     "name": "stderr",
     "output_type": "stream",
     "text": [
      "C:\\Users\\jgtzsx01\\AppData\\Local\\Continuum\\Anaconda2\\lib\\site-packages\\ipykernel\\__main__.py:1: SettingWithCopyWarning: \n",
      "A value is trying to be set on a copy of a slice from a DataFrame.\n",
      "Try using .loc[row_indexer,col_indexer] = value instead\n",
      "\n",
      "See the caveats in the documentation: http://pandas.pydata.org/pandas-docs/stable/indexing.html#indexing-view-versus-copy\n",
      "  if __name__ == '__main__':\n"
     ]
    }
   ],
   "source": [
    "df[\"date\"] = df.index.map(lambda x: x.strftime(\"%Y%m%d\"))"
   ]
  },
  {
   "cell_type": "code",
   "execution_count": 168,
   "metadata": {
    "collapsed": false
   },
   "outputs": [
    {
     "data": {
      "text/html": [
       "<div>\n",
       "<table border=\"1\" class=\"dataframe\">\n",
       "  <thead>\n",
       "    <tr style=\"text-align: right;\">\n",
       "      <th></th>\n",
       "      <th>value</th>\n",
       "      <th>date</th>\n",
       "    </tr>\n",
       "    <tr>\n",
       "      <th>date</th>\n",
       "      <th></th>\n",
       "      <th></th>\n",
       "    </tr>\n",
       "  </thead>\n",
       "  <tbody>\n",
       "    <tr>\n",
       "      <th>2017-01-24</th>\n",
       "      <td>3142.88</td>\n",
       "      <td>20170124</td>\n",
       "    </tr>\n",
       "    <tr>\n",
       "      <th>2017-01-23</th>\n",
       "      <td>3136.77</td>\n",
       "      <td>20170123</td>\n",
       "    </tr>\n",
       "    <tr>\n",
       "      <th>2017-01-20</th>\n",
       "      <td>3123.14</td>\n",
       "      <td>20170120</td>\n",
       "    </tr>\n",
       "    <tr>\n",
       "      <th>2017-01-19</th>\n",
       "      <td>3101.30</td>\n",
       "      <td>20170119</td>\n",
       "    </tr>\n",
       "    <tr>\n",
       "      <th>2017-01-18</th>\n",
       "      <td>3113.01</td>\n",
       "      <td>20170118</td>\n",
       "    </tr>\n",
       "    <tr>\n",
       "      <th>2017-01-17</th>\n",
       "      <td>3108.77</td>\n",
       "      <td>20170117</td>\n",
       "    </tr>\n",
       "    <tr>\n",
       "      <th>2017-01-16</th>\n",
       "      <td>3103.43</td>\n",
       "      <td>20170116</td>\n",
       "    </tr>\n",
       "    <tr>\n",
       "      <th>2017-01-13</th>\n",
       "      <td>3112.76</td>\n",
       "      <td>20170113</td>\n",
       "    </tr>\n",
       "    <tr>\n",
       "      <th>2017-01-12</th>\n",
       "      <td>3119.29</td>\n",
       "      <td>20170112</td>\n",
       "    </tr>\n",
       "  </tbody>\n",
       "</table>\n",
       "</div>"
      ],
      "text/plain": [
       "              value      date\n",
       "date                         \n",
       "2017-01-24  3142.88  20170124\n",
       "2017-01-23  3136.77  20170123\n",
       "2017-01-20  3123.14  20170120\n",
       "2017-01-19  3101.30  20170119\n",
       "2017-01-18  3113.01  20170118\n",
       "2017-01-17  3108.77  20170117\n",
       "2017-01-16  3103.43  20170116\n",
       "2017-01-13  3112.76  20170113\n",
       "2017-01-12  3119.29  20170112"
      ]
     },
     "execution_count": 168,
     "metadata": {},
     "output_type": "execute_result"
    }
   ],
   "source": [
    "df"
   ]
  },
  {
   "cell_type": "code",
   "execution_count": 169,
   "metadata": {
    "collapsed": true
   },
   "outputs": [],
   "source": [
    "df.to_csv(\"%s/stock.csv\"%(asset_class_dir), index=False)"
   ]
  },
  {
   "cell_type": "code",
   "execution_count": null,
   "metadata": {
    "collapsed": true
   },
   "outputs": [],
   "source": []
  }
 ],
 "metadata": {
  "anaconda-cloud": {},
  "kernelspec": {
   "display_name": "Python [default]",
   "language": "python",
   "name": "python2"
  },
  "language_info": {
   "codemirror_mode": {
    "name": "ipython",
    "version": 2
   },
   "file_extension": ".py",
   "mimetype": "text/x-python",
   "name": "python",
   "nbconvert_exporter": "python",
   "pygments_lexer": "ipython2",
   "version": "2.7.12"
  }
 },
 "nbformat": 4,
 "nbformat_minor": 1
}
