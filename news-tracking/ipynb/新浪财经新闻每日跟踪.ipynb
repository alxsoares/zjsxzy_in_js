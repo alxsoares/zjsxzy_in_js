{
 "cells": [
  {
   "cell_type": "code",
   "execution_count": 1,
   "metadata": {
    "collapsed": false
   },
   "outputs": [
    {
     "name": "stderr",
     "output_type": "stream",
     "text": [
      "C:\\Users\\jgtzsx01\\AppData\\Local\\Continuum\\Anaconda2\\lib\\site-packages\\gensim\\utils.py:855: UserWarning: detected Windows; aliasing chunkize to chunkize_serial\n",
      "  warnings.warn(\"detected Windows; aliasing chunkize to chunkize_serial\")\n"
     ]
    }
   ],
   "source": [
    "import jieba\n",
    "import jieba.analyse\n",
    "import os\n",
    "import datetime\n",
    "import pandas as pd\n",
    "import tushare as ts\n",
    "import gensim\n",
    "import re\n",
    "import sys\n",
    "import numpy as np\n",
    "import matplotlib.pyplot as plot"
   ]
  },
  {
   "cell_type": "code",
   "execution_count": 156,
   "metadata": {
    "collapsed": false
   },
   "outputs": [
    {
     "name": "stdout",
     "output_type": "stream",
     "text": [
      "line 346: htmlParseEntityRef: expecting ';'\n",
      "line 361: htmlParseEntityRef: expecting ';'\n",
      "line 1071: Excessive depth in document: 256 use XML_PARSE_HUGE option\n",
      "line 395: htmlParseEntityRef: expecting ';'\n",
      "line 381: htmlParseEntityRef: expecting ';'\n",
      "line 350: htmlParseEntityRef: expecting ';'\n",
      "line 417: htmlParseEntityRef: expecting ';'\n",
      "line 341: htmlParseEntityRef: expecting ';'\n",
      "line 457: htmlParseEntityRef: expecting ';'\n",
      "line 405: htmlParseEntityRef: expecting ';'\n",
      "line 351: htmlParseEntityRef: expecting ';'\n",
      "line 347: htmlParseEntityRef: expecting ';'\n",
      "line 347: htmlParseEntityRef: expecting ';'\n",
      "line 1612: Comment not terminated \n",
      "<!-- SU<div DataFcn\"ads_boxt=coscpomadNonn\">\n",
      "ctio<div\n",
      "line 346: htmlParseEntityRef: expecting ';'\n",
      "line 351: htmlParseEntityRef: expecting ';'\n",
      "line 352: htmlParseEntityRef: expecting ';'\n",
      "line 1567: Element script embeds close tag\n",
      "line 376: htmlParseEntityRef: expecting ';'\n",
      "line 417: htmlParseEntityRef: expecting ';'\n",
      "line 367: htmlParseEntityRef: expecting ';'\n",
      "line 397: htmlParseEntityRef: expecting ';'\n",
      "line 1729: Element script embeds close tag\n",
      "line 341: htmlParseEntityRef: expecting ';'\n",
      "line 350: htmlParseEntityRef: expecting ';'\n",
      "line 442: htmlParseEntityRef: expecting ';'\n",
      "line 353: htmlParseEntityRef: expecting ';'\n",
      "line 367: htmlParseEntityRef: expecting ';'\n",
      "line 347: htmlParseEntityRef: expecting ';'\n",
      "line 418: htmlParseEntityRef: expecting ';'\n",
      "line 365: htmlParseEntityRef: expecting ';'\n",
      "line 350: htmlParseEntityRef: expecting ';'\n",
      "line 402: htmlParseEntityRef: expecting ';'\n",
      "line 363: htmlParseEntityRef: expecting ';'\n",
      "line 395: htmlParseEntityRef: expecting ';'\n",
      "line 1566: Element script embeds close tag\n",
      "line 1566: Element script embeds close tag\n",
      "line 351: htmlParseEntityRef: expecting ';'\n",
      "line 366: htmlParseEntityRef: expecting ';'\n",
      "line 397: htmlParseEntityRef: expecting ';'\n",
      "IO_ENCODER\n",
      "line 426: htmlParseEntityRef: expecting ';'\n",
      "line 370: htmlParseEntityRef: expecting ';'\n",
      "line 351: htmlParseEntityRef: expecting ';'\n",
      "line 409: htmlParseEntityRef: expecting ';'\n",
      "line 363: htmlParseEntityRef: expecting ';'\n",
      "line 1392: Opening and ending tag mismatch: body and s\n",
      "line 405: htmlParseEntityRef: expecting ';'\n",
      "line 350: htmlParseEntityRef: expecting ';'\n",
      "line 396: htmlParseEntityRef: expecting ';'\n",
      "line 421: htmlParseEntityRef: expecting ';'\n",
      "line 363: htmlParseEntityRef: expecting ';'\n",
      "line 347: htmlParseEntityRef: expecting ';'\n",
      "line 387: htmlParseEntityRef: expecting ';'\n",
      "line 1521: Element script embeds close tag\n",
      "line 1578: Element script embeds close tag\n",
      "line 1530: Element script embeds close tag\n",
      "line 366: htmlParseEntityRef: expecting ';'\n",
      "line 1529: Element script embeds close tag\n",
      "line 1534: Element script embeds close tag\n",
      "line 448: htmlParseEntityRef: expecting ';'\n",
      "line 388: htmlParseEntityRef: expecting ';'\n",
      "line 1543: Element script embeds close tag\n",
      "line 373: htmlParseEntityRef: expecting ';'\n",
      "Error reading file 'http://video.sina.com.cnhttp://cj.sina.com.cn/article/detail/5672749772/146231': failed to load external entity \"http://video.sina.com.cnhttp://cj.sina.com.cn/article/detail/5672749772/146231\"\n",
      "line 393: htmlParseEntityRef: expecting ';'\n",
      "line 405: htmlParseEntityRef: expecting ';'\n",
      "line 347: htmlParseEntityRef: expecting ';'\n",
      "line 393: htmlParseEntityRef: expecting ';'\n",
      "line 1543: Element script embeds close tag\n",
      "line 364: htmlParseEntityRef: expecting ';'\n",
      "line 1498: Element script embeds close tag\n"
     ]
    }
   ],
   "source": [
    "df = ts.get_latest_news(show_content=True, top=5000)"
   ]
  },
  {
   "cell_type": "markdown",
   "metadata": {},
   "source": [
    "# 保存每日新闻"
   ]
  },
  {
   "cell_type": "code",
   "execution_count": 157,
   "metadata": {
    "collapsed": false
   },
   "outputs": [
    {
     "data": {
      "text/html": [
       "<div>\n",
       "<table border=\"1\" class=\"dataframe\">\n",
       "  <thead>\n",
       "    <tr style=\"text-align: right;\">\n",
       "      <th></th>\n",
       "      <th>classify</th>\n",
       "      <th>title</th>\n",
       "      <th>time</th>\n",
       "      <th>url</th>\n",
       "      <th>content</th>\n",
       "    </tr>\n",
       "  </thead>\n",
       "  <tbody>\n",
       "    <tr>\n",
       "      <th>4995</th>\n",
       "      <td>国内财经</td>\n",
       "      <td>职场年终奖人均1.2万 超过半数白领空手而归</td>\n",
       "      <td>01-12 18:35</td>\n",
       "      <td>http://finance.sina.com.cn/roll/2017-01-12/doc...</td>\n",
       "      <td>职场年终奖人均1.2万 超过半数白领“空手而归”\\n每到春节放假之前，年终奖就成为职场群众关...</td>\n",
       "    </tr>\n",
       "    <tr>\n",
       "      <th>4996</th>\n",
       "      <td>生活</td>\n",
       "      <td>天津市消协比较试验：步阳和盼盼等甲级防盗门不合格</td>\n",
       "      <td>01-12 18:28</td>\n",
       "      <td>http://finance.sina.com.cn/consume/puguangtai/...</td>\n",
       "      <td>近日，天津市消费者协会发布了甲级防盗安全门比较试验结果。结果显示整体质量堪忧，16个样品中有...</td>\n",
       "    </tr>\n",
       "    <tr>\n",
       "      <th>4997</th>\n",
       "      <td>证券</td>\n",
       "      <td>高手出击频频抓妖股 牛人短线把把赚大钱</td>\n",
       "      <td>01-12 18:28</td>\n",
       "      <td>http://finance.sina.com.cn/stock/yjdt/2017-01-...</td>\n",
       "      <td>最近行情窄幅震荡，很多财友开始小心翼翼起来。而茹嘉平理财师频频出手，且一击必中，交...</td>\n",
       "    </tr>\n",
       "    <tr>\n",
       "      <th>4998</th>\n",
       "      <td>国内财经</td>\n",
       "      <td>国税总局：坚决落实减免税 配合研究新减税措施</td>\n",
       "      <td>01-12 18:28</td>\n",
       "      <td>http://finance.sina.com.cn/china/gncj/2017-01-...</td>\n",
       "      <td>深化改革集成发展扎实推进税收现代化建设 \\n图为 国家税务总局党组书记、局长王军在全国税务工...</td>\n",
       "    </tr>\n",
       "    <tr>\n",
       "      <th>4999</th>\n",
       "      <td>国内财经</td>\n",
       "      <td>工行：严格个人住房贷款审查 抑制炒房加杠杆行为</td>\n",
       "      <td>01-12 18:28</td>\n",
       "      <td>http://finance.sina.com.cn/roll/2017-01-12/doc...</td>\n",
       "      <td>工行：严格个人住房贷款审查审批 抑制投机炒房的加杠杆行为\\n记者 高翔\\n中国工商银行公司信...</td>\n",
       "    </tr>\n",
       "  </tbody>\n",
       "</table>\n",
       "</div>"
      ],
      "text/plain": [
       "     classify                     title         time  \\\n",
       "4995     国内财经    职场年终奖人均1.2万 超过半数白领空手而归  01-12 18:35   \n",
       "4996       生活  天津市消协比较试验：步阳和盼盼等甲级防盗门不合格  01-12 18:28   \n",
       "4997       证券       高手出击频频抓妖股 牛人短线把把赚大钱  01-12 18:28   \n",
       "4998     国内财经    国税总局：坚决落实减免税 配合研究新减税措施  01-12 18:28   \n",
       "4999     国内财经   工行：严格个人住房贷款审查 抑制炒房加杠杆行为  01-12 18:28   \n",
       "\n",
       "                                                    url  \\\n",
       "4995  http://finance.sina.com.cn/roll/2017-01-12/doc...   \n",
       "4996  http://finance.sina.com.cn/consume/puguangtai/...   \n",
       "4997  http://finance.sina.com.cn/stock/yjdt/2017-01-...   \n",
       "4998  http://finance.sina.com.cn/china/gncj/2017-01-...   \n",
       "4999  http://finance.sina.com.cn/roll/2017-01-12/doc...   \n",
       "\n",
       "                                                content  \n",
       "4995  职场年终奖人均1.2万 超过半数白领“空手而归”\\n每到春节放假之前，年终奖就成为职场群众关...  \n",
       "4996  近日，天津市消费者协会发布了甲级防盗安全门比较试验结果。结果显示整体质量堪忧，16个样品中有...  \n",
       "4997       最近行情窄幅震荡，很多财友开始小心翼翼起来。而茹嘉平理财师频频出手，且一击必中，交...  \n",
       "4998  深化改革集成发展扎实推进税收现代化建设 \\n图为 国家税务总局党组书记、局长王军在全国税务工...  \n",
       "4999  工行：严格个人住房贷款审查审批 抑制投机炒房的加杠杆行为\\n记者 高翔\\n中国工商银行公司信...  "
      ]
     },
     "execution_count": 157,
     "metadata": {},
     "output_type": "execute_result"
    }
   ],
   "source": [
    "df.tail()"
   ]
  },
  {
   "cell_type": "code",
   "execution_count": 158,
   "metadata": {
    "collapsed": false
   },
   "outputs": [],
   "source": [
    "df[\"date\"] = df[\"time\"].map(lambda x: \"2017-\" + x.split(' ')[0]) # 默认是2017年"
   ]
  },
  {
   "cell_type": "code",
   "execution_count": 159,
   "metadata": {
    "collapsed": false
   },
   "outputs": [],
   "source": [
    "dates = df[\"date\"].unique()"
   ]
  },
  {
   "cell_type": "code",
   "execution_count": 160,
   "metadata": {
    "collapsed": true
   },
   "outputs": [],
   "source": [
    "csv_dir = \"C:/Users/jgtzsx01/Documents/workspace/data/sina/day-news/\""
   ]
  },
  {
   "cell_type": "code",
   "execution_count": 161,
   "metadata": {
    "collapsed": false
   },
   "outputs": [
    {
     "name": "stdout",
     "output_type": "stream",
     "text": [
      "(303, 6)\n",
      "C:/Users/jgtzsx01/Documents/workspace/data/sina/day-news/2017-01-24.csv\n",
      "(466, 6)\n",
      "C:/Users/jgtzsx01/Documents/workspace/data/sina/day-news/2017-01-23.csv\n",
      "(84, 6)\n",
      "C:/Users/jgtzsx01/Documents/workspace/data/sina/day-news/2017-01-22.csv\n",
      "(182, 6)\n",
      "C:/Users/jgtzsx01/Documents/workspace/data/sina/day-news/2017-01-21.csv\n",
      "(582, 6)\n",
      "C:/Users/jgtzsx01/Documents/workspace/data/sina/day-news/2017-01-20.csv\n",
      "(584, 6)\n",
      "C:/Users/jgtzsx01/Documents/workspace/data/sina/day-news/2017-01-19.csv\n",
      "(616, 6)\n",
      "C:/Users/jgtzsx01/Documents/workspace/data/sina/day-news/2017-01-18.csv\n",
      "(562, 6)\n",
      "C:/Users/jgtzsx01/Documents/workspace/data/sina/day-news/2017-01-17.csv\n",
      "(583, 6)\n",
      "C:/Users/jgtzsx01/Documents/workspace/data/sina/day-news/2017-01-16.csv\n",
      "(145, 6)\n",
      "C:/Users/jgtzsx01/Documents/workspace/data/sina/day-news/2017-01-15.csv\n",
      "(171, 6)\n",
      "C:/Users/jgtzsx01/Documents/workspace/data/sina/day-news/2017-01-14.csv\n",
      "(624, 6)\n",
      "C:/Users/jgtzsx01/Documents/workspace/data/sina/day-news/2017-01-13.csv\n",
      "(98, 6)\n",
      "C:/Users/jgtzsx01/Documents/workspace/data/sina/day-news/2017-01-12.csv\n"
     ]
    }
   ],
   "source": [
    "for date in dates:\n",
    "    date_df = df[df[\"date\"] == date]\n",
    "    print date_df.shape\n",
    "    filename = \"%s%s.csv\"%(csv_dir, date)\n",
    "    print filename\n",
    "    if os.path.exists(filename):\n",
    "        old_df = pd.read_csv(filename)\n",
    "        if old_df.shape[0] < date_df.shape[0]:\n",
    "            date_df.to_csv(filename, index=False, encoding='utf-8')\n",
    "    else:\n",
    "        date_df.to_csv(filename, index=False, encoding='utf-8')"
   ]
  },
  {
   "cell_type": "markdown",
   "metadata": {},
   "source": [
    "# 提取周关键词"
   ]
  },
  {
   "cell_type": "markdown",
   "metadata": {},
   "source": [
    "### 每周一统计周关键词"
   ]
  },
  {
   "cell_type": "code",
   "execution_count": 30,
   "metadata": {
    "collapsed": false
   },
   "outputs": [],
   "source": [
    "files = [f for f in os.listdir(csv_dir)]"
   ]
  },
  {
   "cell_type": "code",
   "execution_count": 32,
   "metadata": {
    "collapsed": false
   },
   "outputs": [],
   "source": [
    "def get_week_df(week_num):\n",
    "    df = pd.DataFrame()\n",
    "    for f in files:\n",
    "        date = datetime.datetime.strptime(f.split(\".\")[0], \"%Y-%m-%d\")\n",
    "        (year, week, _) = date.isocalendar()\n",
    "        if week_num == week:\n",
    "            print date\n",
    "            filename = \"%s%s.csv\"%(csv_dir, date.strftime(\"%Y-%m-%d\"))\n",
    "            date_df = pd.read_csv(filename)\n",
    "            if df.empty:\n",
    "                df = date_df\n",
    "            else:\n",
    "                df = df.append(date_df, ignore_index=True)\n",
    "    return df"
   ]
  },
  {
   "cell_type": "code",
   "execution_count": 33,
   "metadata": {
    "collapsed": false
   },
   "outputs": [
    {
     "name": "stdout",
     "output_type": "stream",
     "text": [
      "2017-01-20 00:00:00\n",
      "2017-01-21 00:00:00\n",
      "2017-01-22 00:00:00\n"
     ]
    }
   ],
   "source": [
    "df = get_week_df(3)"
   ]
  },
  {
   "cell_type": "code",
   "execution_count": 34,
   "metadata": {
    "collapsed": false
   },
   "outputs": [
    {
     "data": {
      "text/html": [
       "<div>\n",
       "<table border=\"1\" class=\"dataframe\">\n",
       "  <thead>\n",
       "    <tr style=\"text-align: right;\">\n",
       "      <th></th>\n",
       "      <th>classify</th>\n",
       "      <th>title</th>\n",
       "      <th>time</th>\n",
       "      <th>url</th>\n",
       "      <th>content</th>\n",
       "      <th>date</th>\n",
       "    </tr>\n",
       "  </thead>\n",
       "  <tbody>\n",
       "    <tr>\n",
       "      <th>0</th>\n",
       "      <td>证券</td>\n",
       "      <td>大佬有困难夫人来救场 马云等大佬背后的女人功不可没</td>\n",
       "      <td>01-20 23:46</td>\n",
       "      <td>http://finance.sina.com.cn/stock/stockaritcle/...</td>\n",
       "      <td>当这些商界大佬们身处困境时，是她们义无反顾地倾囊相助；而当帮助自己的丈夫取得成功后，她们却激...</td>\n",
       "      <td>2017-01-20</td>\n",
       "    </tr>\n",
       "    <tr>\n",
       "      <th>1</th>\n",
       "      <td>美股</td>\n",
       "      <td>美国证交会调查康宝莱在华反腐措施</td>\n",
       "      <td>01-20 23:39</td>\n",
       "      <td>http://finance.sina.com.cn/stock/usstock/c/201...</td>\n",
       "      <td>新浪美股 北京时间20日晚讯 康宝莱公司（Herbalife，HLF）周五表示，美国证券交易...</td>\n",
       "      <td>2017-01-20</td>\n",
       "    </tr>\n",
       "    <tr>\n",
       "      <th>2</th>\n",
       "      <td>期货</td>\n",
       "      <td>洪水重创泰国产胶区 天然橡胶供应或现短缺</td>\n",
       "      <td>01-20 23:33</td>\n",
       "      <td>http://finance.sina.com.cn/roll/2017-01-20/doc...</td>\n",
       "      <td>华夏时报（公众号：chinatimes）记者 叶青 北京报道\\r\\n对于天然橡胶，大家或许并...</td>\n",
       "      <td>2017-01-20</td>\n",
       "    </tr>\n",
       "    <tr>\n",
       "      <th>3</th>\n",
       "      <td>证券</td>\n",
       "      <td>圣龙股份一股独大 财务数据涉嫌造假</td>\n",
       "      <td>01-20 23:33</td>\n",
       "      <td>http://finance.sina.com.cn/roll/2017-01-20/doc...</td>\n",
       "      <td>圣龙股份一股独大 财务数据涉嫌造假\\r\\n《红周刊》作者王宗耀\\r\\n继湘油泵在去年11月末...</td>\n",
       "      <td>2017-01-20</td>\n",
       "    </tr>\n",
       "    <tr>\n",
       "      <th>4</th>\n",
       "      <td>证券</td>\n",
       "      <td>评论：IPO的认识误区必须打破</td>\n",
       "      <td>01-20 23:32</td>\n",
       "      <td>http://finance.sina.com.cn/roll/2017-01-20/doc...</td>\n",
       "      <td>IPO的认识误区必须打破\\r\\n《红周刊》特约作者胡东辉\\r\\n市场激辩IPO的是是非非，仍...</td>\n",
       "      <td>2017-01-20</td>\n",
       "    </tr>\n",
       "  </tbody>\n",
       "</table>\n",
       "</div>"
      ],
      "text/plain": [
       "  classify                      title         time  \\\n",
       "0       证券  大佬有困难夫人来救场 马云等大佬背后的女人功不可没  01-20 23:46   \n",
       "1       美股           美国证交会调查康宝莱在华反腐措施  01-20 23:39   \n",
       "2       期货       洪水重创泰国产胶区 天然橡胶供应或现短缺  01-20 23:33   \n",
       "3       证券          圣龙股份一股独大 财务数据涉嫌造假  01-20 23:33   \n",
       "4       证券            评论：IPO的认识误区必须打破  01-20 23:32   \n",
       "\n",
       "                                                 url  \\\n",
       "0  http://finance.sina.com.cn/stock/stockaritcle/...   \n",
       "1  http://finance.sina.com.cn/stock/usstock/c/201...   \n",
       "2  http://finance.sina.com.cn/roll/2017-01-20/doc...   \n",
       "3  http://finance.sina.com.cn/roll/2017-01-20/doc...   \n",
       "4  http://finance.sina.com.cn/roll/2017-01-20/doc...   \n",
       "\n",
       "                                             content        date  \n",
       "0  当这些商界大佬们身处困境时，是她们义无反顾地倾囊相助；而当帮助自己的丈夫取得成功后，她们却激...  2017-01-20  \n",
       "1  新浪美股 北京时间20日晚讯 康宝莱公司（Herbalife，HLF）周五表示，美国证券交易...  2017-01-20  \n",
       "2  华夏时报（公众号：chinatimes）记者 叶青 北京报道\\r\\n对于天然橡胶，大家或许并...  2017-01-20  \n",
       "3  圣龙股份一股独大 财务数据涉嫌造假\\r\\n《红周刊》作者王宗耀\\r\\n继湘油泵在去年11月末...  2017-01-20  \n",
       "4  IPO的认识误区必须打破\\r\\n《红周刊》特约作者胡东辉\\r\\n市场激辩IPO的是是非非，仍...  2017-01-20  "
      ]
     },
     "execution_count": 34,
     "metadata": {},
     "output_type": "execute_result"
    }
   ],
   "source": [
    "df.head()"
   ]
  },
  {
   "cell_type": "code",
   "execution_count": 35,
   "metadata": {
    "collapsed": false
   },
   "outputs": [
    {
     "data": {
      "text/html": [
       "<div>\n",
       "<table border=\"1\" class=\"dataframe\">\n",
       "  <thead>\n",
       "    <tr style=\"text-align: right;\">\n",
       "      <th></th>\n",
       "      <th>classify</th>\n",
       "      <th>title</th>\n",
       "      <th>time</th>\n",
       "      <th>url</th>\n",
       "      <th>content</th>\n",
       "      <th>date</th>\n",
       "    </tr>\n",
       "  </thead>\n",
       "  <tbody>\n",
       "    <tr>\n",
       "      <th>272</th>\n",
       "      <td>国内财经</td>\n",
       "      <td>第二批PPP典型案例迎初考：200个项目初选毙四分之三</td>\n",
       "      <td>01-22 00:30</td>\n",
       "      <td>http://finance.sina.com.cn/roll/2017-01-22/doc...</td>\n",
       "      <td>第二批PPP典型案例迎“初考”：200个项目初选“毙”了四分之三\\r\\n杜涛\\r\\n2017...</td>\n",
       "      <td>2017-01-22</td>\n",
       "    </tr>\n",
       "    <tr>\n",
       "      <th>273</th>\n",
       "      <td>国内财经</td>\n",
       "      <td>国有企业混合所有制改革突破口 推动大型国企股权多元化</td>\n",
       "      <td>01-22 00:29</td>\n",
       "      <td>http://finance.sina.com.cn/roll/2017-01-22/doc...</td>\n",
       "      <td>国有企业混合所有制改革的突破口\\r\\n姜华欣 邱健威 王绛\\r\\n1999年党的十五届四中全...</td>\n",
       "      <td>2017-01-22</td>\n",
       "    </tr>\n",
       "    <tr>\n",
       "      <th>274</th>\n",
       "      <td>美股</td>\n",
       "      <td>美国证交会就康宝莱在中国的反腐措施进行调查</td>\n",
       "      <td>01-22 00:26</td>\n",
       "      <td>http://finance.sina.com.cn/stock/usstock/c/201...</td>\n",
       "      <td>来源：界面\\r\\n美国时间周五，营养健康公司康宝莱表示，美国证券交易委员会（下称SEC）正在...</td>\n",
       "      <td>2017-01-22</td>\n",
       "    </tr>\n",
       "    <tr>\n",
       "      <th>275</th>\n",
       "      <td>美股</td>\n",
       "      <td>韩国民众严寒中再次集会要求朴槿惠立即辞职</td>\n",
       "      <td>01-22 00:20</td>\n",
       "      <td>http://finance.sina.com.cn/stock/usstock/c/201...</td>\n",
       "      <td>新华社首尔1月21日电 （记者耿学鹏杜白羽）韩国民众21日举行第13次周末烛光集会，要求总统...</td>\n",
       "      <td>2017-01-22</td>\n",
       "    </tr>\n",
       "    <tr>\n",
       "      <th>276</th>\n",
       "      <td>美股</td>\n",
       "      <td>国际问题专家：中国崛起关键在于实现工业化</td>\n",
       "      <td>01-22 00:06</td>\n",
       "      <td>http://finance.sina.com.cn/stock/usstock/c/201...</td>\n",
       "      <td>中新网义乌1月21日电（记者 赵晔娇）中国为什么能崛起？21日，中国人民大学国际关系学院副院...</td>\n",
       "      <td>2017-01-22</td>\n",
       "    </tr>\n",
       "  </tbody>\n",
       "</table>\n",
       "</div>"
      ],
      "text/plain": [
       "    classify                        title         time  \\\n",
       "272     国内财经  第二批PPP典型案例迎初考：200个项目初选毙四分之三  01-22 00:30   \n",
       "273     国内财经   国有企业混合所有制改革突破口 推动大型国企股权多元化  01-22 00:29   \n",
       "274       美股        美国证交会就康宝莱在中国的反腐措施进行调查  01-22 00:26   \n",
       "275       美股         韩国民众严寒中再次集会要求朴槿惠立即辞职  01-22 00:20   \n",
       "276       美股         国际问题专家：中国崛起关键在于实现工业化  01-22 00:06   \n",
       "\n",
       "                                                   url  \\\n",
       "272  http://finance.sina.com.cn/roll/2017-01-22/doc...   \n",
       "273  http://finance.sina.com.cn/roll/2017-01-22/doc...   \n",
       "274  http://finance.sina.com.cn/stock/usstock/c/201...   \n",
       "275  http://finance.sina.com.cn/stock/usstock/c/201...   \n",
       "276  http://finance.sina.com.cn/stock/usstock/c/201...   \n",
       "\n",
       "                                               content        date  \n",
       "272  第二批PPP典型案例迎“初考”：200个项目初选“毙”了四分之三\\r\\n杜涛\\r\\n2017...  2017-01-22  \n",
       "273  国有企业混合所有制改革的突破口\\r\\n姜华欣 邱健威 王绛\\r\\n1999年党的十五届四中全...  2017-01-22  \n",
       "274  来源：界面\\r\\n美国时间周五，营养健康公司康宝莱表示，美国证券交易委员会（下称SEC）正在...  2017-01-22  \n",
       "275  新华社首尔1月21日电 （记者耿学鹏杜白羽）韩国民众21日举行第13次周末烛光集会，要求总统...  2017-01-22  \n",
       "276  中新网义乌1月21日电（记者 赵晔娇）中国为什么能崛起？21日，中国人民大学国际关系学院副院...  2017-01-22  "
      ]
     },
     "execution_count": 35,
     "metadata": {},
     "output_type": "execute_result"
    }
   ],
   "source": [
    "df.tail()"
   ]
  },
  {
   "cell_type": "markdown",
   "metadata": {},
   "source": [
    "### 读取stop words"
   ]
  },
  {
   "cell_type": "code",
   "execution_count": 116,
   "metadata": {
    "collapsed": true
   },
   "outputs": [],
   "source": [
    "with open(\"./stop_words_zh.txt\", 'r') as f:\n",
    "    stop_words = set([line.strip() for line in f.readlines()])"
   ]
  },
  {
   "cell_type": "markdown",
   "metadata": {},
   "source": [
    "### 分词、提取关键词并保存到文本"
   ]
  },
  {
   "cell_type": "code",
   "execution_count": 117,
   "metadata": {
    "collapsed": true
   },
   "outputs": [],
   "source": [
    "df = df[df[\"classify\"] == \"国内财经\"]"
   ]
  },
  {
   "cell_type": "code",
   "execution_count": 118,
   "metadata": {
    "collapsed": true
   },
   "outputs": [],
   "source": [
    "df.index = range(df.shape[0])"
   ]
  },
  {
   "cell_type": "code",
   "execution_count": 119,
   "metadata": {
    "collapsed": false
   },
   "outputs": [],
   "source": [
    "f = open(\"./text\", 'w')\n",
    "count = {}\n",
    "topK = 50\n",
    "for i in df.index:\n",
    "    if not isinstance(df.content[i], str):\n",
    "        continue\n",
    "    tags = jieba.analyse.textrank(df[\"content\"][i], withWeight=True, topK=topK, allowPOS=('ns', 'n', 'vn', 'v'))\n",
    "    doc = \" \".join([word.encode(\"utf-8\") for word in jieba.cut(df[\"content\"][i]) if not word.encode('utf-8') in stop_words])\n",
    "    f.write(doc + \"\\n\")\n",
    "    \n",
    "    for word, weight in tags:\n",
    "        if not count.has_key(word):\n",
    "            count[word] = 0\n",
    "        count[word] += weight\n",
    "f.close()"
   ]
  },
  {
   "cell_type": "code",
   "execution_count": 120,
   "metadata": {
    "collapsed": false
   },
   "outputs": [
    {
     "name": "stdout",
     "output_type": "stream",
     "text": [
      "金融机构\n"
     ]
    }
   ],
   "source": [
    "print count.keys()[0]"
   ]
  },
  {
   "cell_type": "code",
   "execution_count": 121,
   "metadata": {
    "collapsed": true
   },
   "outputs": [],
   "source": [
    "sort_count = sorted(count.iteritems(), key=lambda x: x[1], reverse=True)"
   ]
  },
  {
   "cell_type": "code",
   "execution_count": 122,
   "metadata": {
    "collapsed": false
   },
   "outputs": [
    {
     "name": "stdout",
     "output_type": "stream",
     "text": [
      "经济 23.5576258661\n",
      "中国 17.3201466786\n",
      "企业 15.5376537447\n",
      "增长 14.9606318697\n",
      "市场 14.5474900196\n",
      "发展 13.6789974421\n",
      "城市 12.7563546414\n",
      "投资 10.7497595447\n",
      "增速 9.57866670185\n",
      "工作 9.57646837471\n",
      "改革 9.53248905212\n",
      "流动性 9.26665993139\n",
      "贷款 8.89382316293\n",
      "项目 8.53213951912\n",
      "房价 7.48831478698\n",
      "表示 7.06853017819\n",
      "地产 6.76262104453\n",
      "政府 6.57764981676\n",
      "问题 6.22176515149\n",
      "公司 6.08666290136\n"
     ]
    }
   ],
   "source": [
    "for word, v in sort_count[:20]:\n",
    "    print word, v"
   ]
  },
  {
   "cell_type": "markdown",
   "metadata": {},
   "source": [
    "### 训练词向量"
   ]
  },
  {
   "cell_type": "code",
   "execution_count": 123,
   "metadata": {
    "collapsed": false
   },
   "outputs": [
    {
     "name": "stderr",
     "output_type": "stream",
     "text": [
      "C:\\Users\\jgtzsx01\\AppData\\Local\\Continuum\\Anaconda2\\lib\\site-packages\\gensim\\utils.py:855: UserWarning: detected Windows; aliasing chunkize to chunkize_serial\n",
      "  warnings.warn(\"detected Windows; aliasing chunkize to chunkize_serial\")\n",
      "2017-01-24 12:03:41,421: INFO: running word2vec.py ./text model vector\n",
      "2017-01-24 12:03:41,421: INFO: collecting all words and their counts\n",
      "2017-01-24 12:03:41,421: INFO: PROGRESS: at sentence #0, processed 0 words, keeping 0 word types\n",
      "2017-01-24 12:03:41,447: INFO: collected 11867 word types from a corpus of 58994 raw words and 1613 sentences\n",
      "2017-01-24 12:03:41,447: INFO: Loading a fresh vocabulary\n",
      "2017-01-24 12:03:41,476: INFO: min_count=1 retains 11867 unique words (100% of original 11867, drops 0)\n",
      "2017-01-24 12:03:41,476: INFO: min_count=1 leaves 58994 word corpus (100% of original 58994, drops 0)\n",
      "2017-01-24 12:03:41,519: INFO: deleting the raw counts dictionary of 11867 items\n",
      "2017-01-24 12:03:41,520: INFO: sample=0.001 downsamples 15 most-common words\n",
      "2017-01-24 12:03:41,520: INFO: downsampling leaves estimated 57751 word corpus (97.9% of prior 58994)\n",
      "2017-01-24 12:03:41,520: INFO: estimated required memory for 11867 words and 400 dimensions: 43907900 bytes\n",
      "2017-01-24 12:03:41,552: INFO: resetting layer weights\n",
      "2017-01-24 12:03:41,844: INFO: training model with 4 workers on 11867 vocabulary and 400 features, using sg=0 hs=0 sample=0.001 negative=5 window=10\n",
      "2017-01-24 12:03:41,844: INFO: expecting 1613 sentences, matching count from corpus used for vocabulary survey\n",
      "2017-01-24 12:03:42,309: INFO: worker thread finished; awaiting finish of 3 more threads\n",
      "2017-01-24 12:03:42,311: INFO: worker thread finished; awaiting finish of 2 more threads\n",
      "2017-01-24 12:03:42,336: INFO: worker thread finished; awaiting finish of 1 more threads\n",
      "2017-01-24 12:03:42,352: INFO: worker thread finished; awaiting finish of 0 more threads\n",
      "2017-01-24 12:03:42,352: INFO: training on 294970 raw words (288777 effective words) took 0.5s, 569925 effective words/s\n",
      "2017-01-24 12:03:42,352: WARNING: under 10 jobs per worker: consider setting a smaller `batch_words' for smoother alpha decay\n",
      "2017-01-24 12:03:42,352: INFO: saving Word2Vec object under model, separately None\n",
      "2017-01-24 12:03:42,354: INFO: not storing attribute syn0norm\n",
      "2017-01-24 12:03:42,354: INFO: not storing attribute cum_table\n",
      "2017-01-24 12:03:42,509: INFO: saved model\n",
      "2017-01-24 12:03:42,509: INFO: storing 11867x400 projection weights into vector\n"
     ]
    }
   ],
   "source": [
    "!python word2vec.py ./text model vector"
   ]
  },
  {
   "cell_type": "code",
   "execution_count": 124,
   "metadata": {
    "collapsed": true
   },
   "outputs": [],
   "source": [
    "model = gensim.models.Word2Vec.load(\"model\")"
   ]
  },
  {
   "cell_type": "code",
   "execution_count": 125,
   "metadata": {
    "collapsed": false
   },
   "outputs": [
    {
     "name": "stdout",
     "output_type": "stream",
     "text": [
      "中国\n"
     ]
    }
   ],
   "source": [
    "word = sort_count[1][0]\n",
    "print word"
   ]
  },
  {
   "cell_type": "code",
   "execution_count": 126,
   "metadata": {
    "collapsed": false
   },
   "outputs": [
    {
     "name": "stdout",
     "output_type": "stream",
     "text": [
      "企业 0.999980807304\n",
      "项目 0.999979376793\n",
      "经济 0.999978125095\n",
      "发展 0.999977588654\n",
      "行业 0.99997651577\n",
      "2017 0.999974727631\n",
      "公司 0.999972164631\n",
      "说 0.999970555305\n",
      "工作 0.999969899654\n",
      "主要 0.99996972084\n",
      "今年 0.999969542027\n",
      "记者 0.999966263771\n",
      "房地产 0.999965906143\n",
      "问题 0.999965190887\n",
      "城市 0.999965012074\n",
      "社会 0.999963879585\n",
      "市场 0.999963402748\n",
      "集团 0.999963223934\n",
      "建设 0.999962329865\n",
      "政策 0.999962031841\n"
     ]
    }
   ],
   "source": [
    "result = model.most_similar(word, topn=20)\n",
    "for x in result:\n",
    "    print x[0], x[1]"
   ]
  },
  {
   "cell_type": "markdown",
   "metadata": {},
   "source": [
    "### 保存每周词排名"
   ]
  },
  {
   "cell_type": "code",
   "execution_count": 142,
   "metadata": {
    "collapsed": false
   },
   "outputs": [
    {
     "name": "stdout",
     "output_type": "stream",
     "text": [
      "表示\n",
      "没有\n",
      "可能\n",
      "认为\n",
      "基本\n",
      "个人\n",
      "进行\n",
      "还有\n",
      "不会\n",
      "作为\n",
      "出现\n",
      "有关\n",
      "开始\n",
      "才能\n",
      "不能\n",
      "土巴\n",
      "食药\n",
      "时候\n",
      "爱像\n",
      "截至\n",
      "了以\n",
      "等到\n",
      "比如\n",
      "说选\n",
      "房难\n",
      "老矿因\n",
      "加上\n",
      "大家\n",
      "出来\n",
      "来讲\n",
      "看来\n",
      "进来\n",
      "人民\n",
      "过于\n",
      "看上去\n",
      "姨家\n",
      "请加\n",
      "城施\n",
      "结果\n",
      "加以\n",
      "了有\n",
      "个税\n",
      "不来\n",
      "潞苑\n",
      "出去\n",
      "了上\n",
      "使得\n",
      "挨着\n",
      "拿地\n",
      "两者\n",
      "可得\n",
      "着挤\n",
      "不力\n"
     ]
    }
   ],
   "source": [
    "dic = {\"rank\": [], \"word\": [], \"related words\": []}\n",
    "for i, (word, _) in enumerate(sort_count):\n",
    "    if not word in model.vocab:\n",
    "        print word\n",
    "        continue\n",
    "    dic[\"rank\"].append(i + 1)\n",
    "    dic[\"word\"].append(word)\n",
    "    result = model.most_similar(word, topn=20)\n",
    "    related = u\"，\".join([x[0] for x in result])\n",
    "    dic[\"related words\"].append(related)"
   ]
  },
  {
   "cell_type": "code",
   "execution_count": 143,
   "metadata": {
    "collapsed": true
   },
   "outputs": [],
   "source": [
    "out_df = pd.DataFrame(dic)"
   ]
  },
  {
   "cell_type": "code",
   "execution_count": 144,
   "metadata": {
    "collapsed": true
   },
   "outputs": [],
   "source": [
    "out_df.columns = [\"rank\", \"word\", \"related words\"]"
   ]
  },
  {
   "cell_type": "code",
   "execution_count": 145,
   "metadata": {
    "collapsed": true
   },
   "outputs": [],
   "source": [
    "key_words_dir = \"C:/Users/jgtzsx01/Documents/workspace/data/sina/week-keywords/\""
   ]
  },
  {
   "cell_type": "code",
   "execution_count": 146,
   "metadata": {
    "collapsed": true
   },
   "outputs": [],
   "source": [
    "filename = \"%s2017-week-%d.csv\"%(key_words_dir, week_num)"
   ]
  },
  {
   "cell_type": "code",
   "execution_count": 147,
   "metadata": {
    "collapsed": true
   },
   "outputs": [],
   "source": [
    "out_df.to_csv(filename, index=False, encoding='utf-8')"
   ]
  },
  {
   "cell_type": "code",
   "execution_count": 148,
   "metadata": {
    "collapsed": true
   },
   "outputs": [],
   "source": [
    "df = pd.read_csv(filename)"
   ]
  },
  {
   "cell_type": "code",
   "execution_count": 150,
   "metadata": {
    "collapsed": false
   },
   "outputs": [
    {
     "data": {
      "text/html": [
       "<div>\n",
       "<table border=\"1\" class=\"dataframe\">\n",
       "  <thead>\n",
       "    <tr style=\"text-align: right;\">\n",
       "      <th></th>\n",
       "      <th>rank</th>\n",
       "      <th>word</th>\n",
       "      <th>related words</th>\n",
       "    </tr>\n",
       "  </thead>\n",
       "  <tbody>\n",
       "    <tr>\n",
       "      <th>0</th>\n",
       "      <td>1</td>\n",
       "      <td>中国，企业，发展，2017，今年，项目，房地产，行业，全国，目标，主要，工作，说，数据，公司...</td>\n",
       "      <td>经济</td>\n",
       "    </tr>\n",
       "    <tr>\n",
       "      <th>1</th>\n",
       "      <td>2</td>\n",
       "      <td>企业，项目，经济，发展，行业，2017，公司，说，工作，主要，今年，记者，房地产，问题，城市...</td>\n",
       "      <td>中国</td>\n",
       "    </tr>\n",
       "    <tr>\n",
       "      <th>2</th>\n",
       "      <td>3</td>\n",
       "      <td>中国，项目，公司，2017，行业，工作，发展，今年，说，主要，经济，地产，全国，记者，集团，...</td>\n",
       "      <td>企业</td>\n",
       "    </tr>\n",
       "    <tr>\n",
       "      <th>3</th>\n",
       "      <td>4</td>\n",
       "      <td>增速，增加，11，GDP，贷款，百分点，投资，开发，上年，面积，住宅，12，月份，回落，提高...</td>\n",
       "      <td>增长</td>\n",
       "    </tr>\n",
       "    <tr>\n",
       "      <th>4</th>\n",
       "      <td>5</td>\n",
       "      <td>发展，问题，项目，行业，工作，2017，政策，说，公司，需要，中国，企业，今年，集团，记者，...</td>\n",
       "      <td>市场</td>\n",
       "    </tr>\n",
       "    <tr>\n",
       "      <th>5</th>\n",
       "      <td>6</td>\n",
       "      <td>中国，工作，行业，市场，问题，项目，2017，企业，今年，公司，主要，城市，经济，政策，说，...</td>\n",
       "      <td>发展</td>\n",
       "    </tr>\n",
       "    <tr>\n",
       "      <th>6</th>\n",
       "      <td>7</td>\n",
       "      <td>房价，发展，项目，行业，工作，中国，2017，公司，房地产，政策，主要，说，市场，企业，今年...</td>\n",
       "      <td>城市</td>\n",
       "    </tr>\n",
       "    <tr>\n",
       "      <th>7</th>\n",
       "      <td>8</td>\n",
       "      <td>全国，房地产，企业，11，数据，提高，收入，经济，下降，中国，价格，去年，开发，销售，消费，...</td>\n",
       "      <td>投资</td>\n",
       "    </tr>\n",
       "    <tr>\n",
       "      <th>8</th>\n",
       "      <td>9</td>\n",
       "      <td>增长，GDP，增加，百分点，11，贷款，上年，月份，投资，开发，12，回落，实际，住宅，面积...</td>\n",
       "      <td>增速</td>\n",
       "    </tr>\n",
       "    <tr>\n",
       "      <th>9</th>\n",
       "      <td>10</td>\n",
       "      <td>发展，项目，问题，行业，政府，企业，中国，市场，公司，说，2017，城市，主要，今年，集团，...</td>\n",
       "      <td>工作</td>\n",
       "    </tr>\n",
       "    <tr>\n",
       "      <th>10</th>\n",
       "      <td>11</td>\n",
       "      <td>推进，供给，需求，发展，不断，国有企业，工作，结构，加大，重要，方面，今年，问题，需要，政策...</td>\n",
       "      <td>改革</td>\n",
       "    </tr>\n",
       "    <tr>\n",
       "      <th>11</th>\n",
       "      <td>12</td>\n",
       "      <td>央行，投放，操作，资金，春节，商业银行，提供，期限，银行，降准，支持，利率，公开市场，此次，...</td>\n",
       "      <td>流动性</td>\n",
       "    </tr>\n",
       "    <tr>\n",
       "      <th>12</th>\n",
       "      <td>13</td>\n",
       "      <td>增加，增长，12，增速，11，投资，开发，下降，月份，百分点，提高，占，销售，人民币，面积，...</td>\n",
       "      <td>贷款</td>\n",
       "    </tr>\n",
       "    <tr>\n",
       "      <th>13</th>\n",
       "      <td>14</td>\n",
       "      <td>公司，行业，企业，中国，说，问题，工作，集团，2017，记者，发展，市场，主要，政府，地产，...</td>\n",
       "      <td>项目</td>\n",
       "    </tr>\n",
       "    <tr>\n",
       "      <th>14</th>\n",
       "      <td>15</td>\n",
       "      <td>城市，项目，政策，行业，2017，发展，公司，说，主要，中国，市场，企业，工作，今年，房地产...</td>\n",
       "      <td>房价</td>\n",
       "    </tr>\n",
       "  </tbody>\n",
       "</table>\n",
       "</div>"
      ],
      "text/plain": [
       "    rank                                               word related words\n",
       "0      1  中国，企业，发展，2017，今年，项目，房地产，行业，全国，目标，主要，工作，说，数据，公司...            经济\n",
       "1      2  企业，项目，经济，发展，行业，2017，公司，说，工作，主要，今年，记者，房地产，问题，城市...            中国\n",
       "2      3  中国，项目，公司，2017，行业，工作，发展，今年，说，主要，经济，地产，全国，记者，集团，...            企业\n",
       "3      4  增速，增加，11，GDP，贷款，百分点，投资，开发，上年，面积，住宅，12，月份，回落，提高...            增长\n",
       "4      5  发展，问题，项目，行业，工作，2017，政策，说，公司，需要，中国，企业，今年，集团，记者，...            市场\n",
       "5      6  中国，工作，行业，市场，问题，项目，2017，企业，今年，公司，主要，城市，经济，政策，说，...            发展\n",
       "6      7  房价，发展，项目，行业，工作，中国，2017，公司，房地产，政策，主要，说，市场，企业，今年...            城市\n",
       "7      8  全国，房地产，企业，11，数据，提高，收入，经济，下降，中国，价格，去年，开发，销售，消费，...            投资\n",
       "8      9  增长，GDP，增加，百分点，11，贷款，上年，月份，投资，开发，12，回落，实际，住宅，面积...            增速\n",
       "9     10  发展，项目，问题，行业，政府，企业，中国，市场，公司，说，2017，城市，主要，今年，集团，...            工作\n",
       "10    11  推进，供给，需求，发展，不断，国有企业，工作，结构，加大，重要，方面，今年，问题，需要，政策...            改革\n",
       "11    12  央行，投放，操作，资金，春节，商业银行，提供，期限，银行，降准，支持，利率，公开市场，此次，...           流动性\n",
       "12    13  增加，增长，12，增速，11，投资，开发，下降，月份，百分点，提高，占，销售，人民币，面积，...            贷款\n",
       "13    14  公司，行业，企业，中国，说，问题，工作，集团，2017，记者，发展，市场，主要，政府，地产，...            项目\n",
       "14    15  城市，项目，政策，行业，2017，发展，公司，说，主要，中国，市场，企业，工作，今年，房地产...            房价"
      ]
     },
     "execution_count": 150,
     "metadata": {},
     "output_type": "execute_result"
    }
   ],
   "source": [
    "df.head(n=15)"
   ]
  },
  {
   "cell_type": "markdown",
   "metadata": {},
   "source": [
    "### vis词排名变化"
   ]
  },
  {
   "cell_type": "code",
   "execution_count": null,
   "metadata": {
    "collapsed": true
   },
   "outputs": [],
   "source": []
  }
 ],
 "metadata": {
  "anaconda-cloud": {},
  "kernelspec": {
   "display_name": "Python [default]",
   "language": "python",
   "name": "python2"
  },
  "language_info": {
   "codemirror_mode": {
    "name": "ipython",
    "version": 2
   },
   "file_extension": ".py",
   "mimetype": "text/x-python",
   "name": "python",
   "nbconvert_exporter": "python",
   "pygments_lexer": "ipython2",
   "version": "2.7.12"
  }
 },
 "nbformat": 4,
 "nbformat_minor": 1
}
