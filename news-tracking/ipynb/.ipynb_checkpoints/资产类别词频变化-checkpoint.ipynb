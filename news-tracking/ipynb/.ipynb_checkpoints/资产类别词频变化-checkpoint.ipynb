{
 "cells": [
  {
   "cell_type": "code",
   "execution_count": 1,
   "metadata": {
    "collapsed": false
   },
   "outputs": [
    {
     "name": "stderr",
     "output_type": "stream",
     "text": [
      "C:\\Users\\jgtzsx01\\AppData\\Local\\Continuum\\Anaconda2\\lib\\site-packages\\gensim\\utils.py:855: UserWarning: detected Windows; aliasing chunkize to chunkize_serial\n",
      "  warnings.warn(\"detected Windows; aliasing chunkize to chunkize_serial\")\n"
     ]
    }
   ],
   "source": [
    "import os\n",
    "import pandas as pd\n",
    "import datetime\n",
    "import json\n",
    "import re\n",
    "import tushare as ts\n",
    "import gensim\n",
    "import seaborn as sns\n",
    "import numpy as np\n",
    "import matplotlib.pyplot as plt\n",
    "%matplotlib inline"
   ]
  },
  {
   "cell_type": "code",
   "execution_count": 33,
   "metadata": {
    "collapsed": true
   },
   "outputs": [],
   "source": [
    "import matplotlib as mpl\n",
    "mpl.rcParams['font.sans-serif'] = ['Microsoft YaHei'] #指定默认字体  \n",
    "mpl.rcParams['axes.unicode_minus'] = False # 解决保存图像是负号'-'显示为方块的问题\n",
    "# sns.axes_style()，可以看到是否成功设定字体为微软雅黑。"
   ]
  },
  {
   "cell_type": "code",
   "execution_count": 2,
   "metadata": {
    "collapsed": true
   },
   "outputs": [],
   "source": [
    "sns.set_style(\"whitegrid\")\n",
    "sns.set_context(\"talk\")"
   ]
  },
  {
   "cell_type": "code",
   "execution_count": 90,
   "metadata": {
    "collapsed": true
   },
   "outputs": [],
   "source": [
    "data_dir = \"C:/Users/jgtzsx01/Documents/workspace/data/sina\"\n",
    "csv_dir = \"%s/day-news\"%(data_dir)\n",
    "key_words_dir = \"%s/week-keywords\"%(data_dir)\n",
    "word_count_file = \"%s/word_count.json\"%(data_dir)\n",
    "asset_class_dir = \"C:/Users/jgtzsx01/Documents/workspace/data/asset-class\""
   ]
  },
  {
   "cell_type": "code",
   "execution_count": 3,
   "metadata": {
    "collapsed": true
   },
   "outputs": [],
   "source": [
    "model = gensim.models.Word2Vec.load(\"C:/Users/jgtzsx01/Documents/workspace/model/model\")"
   ]
  },
  {
   "cell_type": "code",
   "execution_count": 4,
   "metadata": {
    "collapsed": false
   },
   "outputs": [
    {
     "data": {
      "text/plain": [
       "11867"
      ]
     },
     "execution_count": 4,
     "metadata": {},
     "output_type": "execute_result"
    }
   ],
   "source": [
    "len(model.vocab)"
   ]
  },
  {
   "cell_type": "code",
   "execution_count": 5,
   "metadata": {
    "collapsed": true
   },
   "outputs": [],
   "source": [
    "# 判断是否是中文\n",
    "def isChinese(word):\n",
    "    for w in word:\n",
    "        if re.match('[ \\u4e00 -\\u9fa5]+',w) == None:\n",
    "            continue\n",
    "        else:\n",
    "            return False\n",
    "    return True"
   ]
  },
  {
   "cell_type": "code",
   "execution_count": 36,
   "metadata": {
    "collapsed": true
   },
   "outputs": [],
   "source": [
    "with open(word_count_file, 'r') as f:\n",
    "    word_cnt = json.load(f)"
   ]
  },
  {
   "cell_type": "code",
   "execution_count": 47,
   "metadata": {
    "collapsed": true
   },
   "outputs": [],
   "source": [
    "total_word_count = {}\n",
    "for word in word_cnt:\n",
    "    for day, value in word_cnt[word].iteritems():\n",
    "        if not total_word_count.has_key(day):\n",
    "            total_word_count[day] = 0\n",
    "        total_word_count[day] += value * 1.0 / 10"
   ]
  },
  {
   "cell_type": "code",
   "execution_count": 192,
   "metadata": {
    "collapsed": false
   },
   "outputs": [
    {
     "name": "stdout",
     "output_type": "stream",
     "text": [
      "债务 0.999874591827\n",
      "地方 0.999865651131\n",
      "项目 0.999859809875\n",
      "政府 0.999857366085\n",
      "公司 0.999856472015\n",
      "工作 0.999856472015\n",
      "问题 0.999852180481\n",
      "企业 0.999851882458\n",
      "集团 0.999850571156\n",
      "行业 0.999848902225\n",
      "市场 0.999848604202\n",
      "记者 0.999846041203\n",
      "今年 0.999845504761\n",
      "影响 0.999844908714\n",
      "规模 0.999842941761\n"
     ]
    }
   ],
   "source": [
    "key_word = u\"债券\"\n",
    "save_name = \"bond\"\n",
    "for w, v in model.most_similar(key_word, topn=15):\n",
    "    if isChinese(w):\n",
    "        print w, v"
   ]
  },
  {
   "cell_type": "code",
   "execution_count": 193,
   "metadata": {
    "collapsed": false
   },
   "outputs": [],
   "source": [
    "word_df = pd.DataFrame({\"date\": word_cnt[key_word].keys(), \"count\": word_cnt[key_word].values()})"
   ]
  },
  {
   "cell_type": "code",
   "execution_count": 194,
   "metadata": {
    "collapsed": true
   },
   "outputs": [],
   "source": [
    "word_df.index = word_df[\"date\"].map(lambda x: datetime.datetime.strptime(x, \"%Y-%m-%d\"))\n",
    "word_df.sort_index(inplace=True)"
   ]
  },
  {
   "cell_type": "code",
   "execution_count": 195,
   "metadata": {
    "collapsed": false
   },
   "outputs": [
    {
     "data": {
      "text/html": [
       "<div>\n",
       "<table border=\"1\" class=\"dataframe\">\n",
       "  <thead>\n",
       "    <tr style=\"text-align: right;\">\n",
       "      <th></th>\n",
       "      <th>count</th>\n",
       "      <th>date</th>\n",
       "    </tr>\n",
       "    <tr>\n",
       "      <th>date</th>\n",
       "      <th></th>\n",
       "      <th></th>\n",
       "    </tr>\n",
       "  </thead>\n",
       "  <tbody>\n",
       "    <tr>\n",
       "      <th>2017-01-12</th>\n",
       "      <td>10</td>\n",
       "      <td>2017-01-12</td>\n",
       "    </tr>\n",
       "    <tr>\n",
       "      <th>2017-01-13</th>\n",
       "      <td>85</td>\n",
       "      <td>2017-01-13</td>\n",
       "    </tr>\n",
       "    <tr>\n",
       "      <th>2017-01-14</th>\n",
       "      <td>8</td>\n",
       "      <td>2017-01-14</td>\n",
       "    </tr>\n",
       "    <tr>\n",
       "      <th>2017-01-15</th>\n",
       "      <td>20</td>\n",
       "      <td>2017-01-15</td>\n",
       "    </tr>\n",
       "    <tr>\n",
       "      <th>2017-01-16</th>\n",
       "      <td>56</td>\n",
       "      <td>2017-01-16</td>\n",
       "    </tr>\n",
       "    <tr>\n",
       "      <th>2017-01-17</th>\n",
       "      <td>36</td>\n",
       "      <td>2017-01-17</td>\n",
       "    </tr>\n",
       "    <tr>\n",
       "      <th>2017-01-18</th>\n",
       "      <td>95</td>\n",
       "      <td>2017-01-18</td>\n",
       "    </tr>\n",
       "    <tr>\n",
       "      <th>2017-01-19</th>\n",
       "      <td>58</td>\n",
       "      <td>2017-01-19</td>\n",
       "    </tr>\n",
       "    <tr>\n",
       "      <th>2017-01-20</th>\n",
       "      <td>84</td>\n",
       "      <td>2017-01-20</td>\n",
       "    </tr>\n",
       "    <tr>\n",
       "      <th>2017-01-21</th>\n",
       "      <td>60</td>\n",
       "      <td>2017-01-21</td>\n",
       "    </tr>\n",
       "    <tr>\n",
       "      <th>2017-01-22</th>\n",
       "      <td>7</td>\n",
       "      <td>2017-01-22</td>\n",
       "    </tr>\n",
       "    <tr>\n",
       "      <th>2017-01-23</th>\n",
       "      <td>109</td>\n",
       "      <td>2017-01-23</td>\n",
       "    </tr>\n",
       "    <tr>\n",
       "      <th>2017-01-24</th>\n",
       "      <td>20</td>\n",
       "      <td>2017-01-24</td>\n",
       "    </tr>\n",
       "  </tbody>\n",
       "</table>\n",
       "</div>"
      ],
      "text/plain": [
       "            count        date\n",
       "date                         \n",
       "2017-01-12     10  2017-01-12\n",
       "2017-01-13     85  2017-01-13\n",
       "2017-01-14      8  2017-01-14\n",
       "2017-01-15     20  2017-01-15\n",
       "2017-01-16     56  2017-01-16\n",
       "2017-01-17     36  2017-01-17\n",
       "2017-01-18     95  2017-01-18\n",
       "2017-01-19     58  2017-01-19\n",
       "2017-01-20     84  2017-01-20\n",
       "2017-01-21     60  2017-01-21\n",
       "2017-01-22      7  2017-01-22\n",
       "2017-01-23    109  2017-01-23\n",
       "2017-01-24     20  2017-01-24"
      ]
     },
     "execution_count": 195,
     "metadata": {},
     "output_type": "execute_result"
    }
   ],
   "source": [
    "word_df"
   ]
  },
  {
   "cell_type": "code",
   "execution_count": 196,
   "metadata": {
    "collapsed": false
   },
   "outputs": [],
   "source": [
    "hot_val = {}\n",
    "threshold = 1\n",
    "for word in word_cnt:\n",
    "    if isChinese(word) and word in model.vocab:\n",
    "        dis = model.similarity(word, key_word)\n",
    "        if dis >= threshold:\n",
    "            for day, value in word_cnt[word].iteritems():\n",
    "                if not hot_val.has_key(day):\n",
    "                    hot_val[day] = 0\n",
    "                hot_val[day] += value * dis\n",
    "for key, value in hot_val.iteritems():\n",
    "    hot_val[key] = value / total_word_count[key]"
   ]
  },
  {
   "cell_type": "code",
   "execution_count": 197,
   "metadata": {
    "collapsed": true
   },
   "outputs": [],
   "source": [
    "hot_df = pd.DataFrame({\"date\": hot_val.keys(), \"value\": hot_val.values()})"
   ]
  },
  {
   "cell_type": "code",
   "execution_count": 198,
   "metadata": {
    "collapsed": true
   },
   "outputs": [],
   "source": [
    "hot_df[\"value\"] = hot_df[\"value\"] * 100000"
   ]
  },
  {
   "cell_type": "code",
   "execution_count": 199,
   "metadata": {
    "collapsed": true
   },
   "outputs": [],
   "source": [
    "hot_df.index = hot_df[\"date\"].map(lambda x: datetime.datetime.strptime(x, \"%Y-%m-%d\"))\n",
    "hot_df.sort_index(inplace=True)"
   ]
  },
  {
   "cell_type": "code",
   "execution_count": 200,
   "metadata": {
    "collapsed": false
   },
   "outputs": [
    {
     "data": {
      "text/html": [
       "<div>\n",
       "<table border=\"1\" class=\"dataframe\">\n",
       "  <thead>\n",
       "    <tr style=\"text-align: right;\">\n",
       "      <th></th>\n",
       "      <th>date</th>\n",
       "      <th>value</th>\n",
       "    </tr>\n",
       "    <tr>\n",
       "      <th>date</th>\n",
       "      <th></th>\n",
       "      <th></th>\n",
       "    </tr>\n",
       "  </thead>\n",
       "  <tbody>\n",
       "    <tr>\n",
       "      <th>2017-01-12</th>\n",
       "      <td>2017-01-12</td>\n",
       "      <td>165.931039</td>\n",
       "    </tr>\n",
       "    <tr>\n",
       "      <th>2017-01-13</th>\n",
       "      <td>2017-01-13</td>\n",
       "      <td>300.133824</td>\n",
       "    </tr>\n",
       "    <tr>\n",
       "      <th>2017-01-14</th>\n",
       "      <td>2017-01-14</td>\n",
       "      <td>69.107903</td>\n",
       "    </tr>\n",
       "    <tr>\n",
       "      <th>2017-01-15</th>\n",
       "      <td>2017-01-15</td>\n",
       "      <td>190.550596</td>\n",
       "    </tr>\n",
       "    <tr>\n",
       "      <th>2017-01-16</th>\n",
       "      <td>2017-01-16</td>\n",
       "      <td>196.414041</td>\n",
       "    </tr>\n",
       "    <tr>\n",
       "      <th>2017-01-17</th>\n",
       "      <td>2017-01-17</td>\n",
       "      <td>145.341209</td>\n",
       "    </tr>\n",
       "    <tr>\n",
       "      <th>2017-01-18</th>\n",
       "      <td>2017-01-18</td>\n",
       "      <td>382.560092</td>\n",
       "    </tr>\n",
       "    <tr>\n",
       "      <th>2017-01-19</th>\n",
       "      <td>2017-01-19</td>\n",
       "      <td>254.528858</td>\n",
       "    </tr>\n",
       "    <tr>\n",
       "      <th>2017-01-20</th>\n",
       "      <td>2017-01-20</td>\n",
       "      <td>352.328303</td>\n",
       "    </tr>\n",
       "    <tr>\n",
       "      <th>2017-01-21</th>\n",
       "      <td>2017-01-21</td>\n",
       "      <td>547.175662</td>\n",
       "    </tr>\n",
       "    <tr>\n",
       "      <th>2017-01-22</th>\n",
       "      <td>2017-01-22</td>\n",
       "      <td>108.805471</td>\n",
       "    </tr>\n",
       "    <tr>\n",
       "      <th>2017-01-23</th>\n",
       "      <td>2017-01-23</td>\n",
       "      <td>472.837851</td>\n",
       "    </tr>\n",
       "    <tr>\n",
       "      <th>2017-01-24</th>\n",
       "      <td>2017-01-24</td>\n",
       "      <td>146.500828</td>\n",
       "    </tr>\n",
       "  </tbody>\n",
       "</table>\n",
       "</div>"
      ],
      "text/plain": [
       "                  date       value\n",
       "date                              \n",
       "2017-01-12  2017-01-12  165.931039\n",
       "2017-01-13  2017-01-13  300.133824\n",
       "2017-01-14  2017-01-14   69.107903\n",
       "2017-01-15  2017-01-15  190.550596\n",
       "2017-01-16  2017-01-16  196.414041\n",
       "2017-01-17  2017-01-17  145.341209\n",
       "2017-01-18  2017-01-18  382.560092\n",
       "2017-01-19  2017-01-19  254.528858\n",
       "2017-01-20  2017-01-20  352.328303\n",
       "2017-01-21  2017-01-21  547.175662\n",
       "2017-01-22  2017-01-22  108.805471\n",
       "2017-01-23  2017-01-23  472.837851\n",
       "2017-01-24  2017-01-24  146.500828"
      ]
     },
     "execution_count": 200,
     "metadata": {},
     "output_type": "execute_result"
    }
   ],
   "source": [
    "hot_df"
   ]
  },
  {
   "cell_type": "code",
   "execution_count": 201,
   "metadata": {
    "collapsed": true
   },
   "outputs": [],
   "source": [
    "hot_df[\"date\"] = hot_df[\"date\"].map(lambda x: datetime.datetime.strptime(x, \"%Y-%m-%d\").strftime(\"%Y%m%d\"))"
   ]
  },
  {
   "cell_type": "code",
   "execution_count": 202,
   "metadata": {
    "collapsed": false
   },
   "outputs": [],
   "source": [
    "hot_df.to_csv(\"%s/%s.csv\"%(asset_class_dir, save_name), index=False)"
   ]
  },
  {
   "cell_type": "code",
   "execution_count": null,
   "metadata": {
    "collapsed": true
   },
   "outputs": [],
   "source": []
  },
  {
   "cell_type": "code",
   "execution_count": 160,
   "metadata": {
    "collapsed": false
   },
   "outputs": [],
   "source": [
    "df = ts.get_hist_data(\"sh\")"
   ]
  },
  {
   "cell_type": "code",
   "execution_count": 162,
   "metadata": {
    "collapsed": true
   },
   "outputs": [],
   "source": [
    "df.index = pd.to_datetime(df.index)"
   ]
  },
  {
   "cell_type": "code",
   "execution_count": 163,
   "metadata": {
    "collapsed": false
   },
   "outputs": [],
   "source": [
    "df = df[df.index >= datetime.datetime(2017, 1, 12)]"
   ]
  },
  {
   "cell_type": "code",
   "execution_count": 165,
   "metadata": {
    "collapsed": false
   },
   "outputs": [],
   "source": [
    "df = df[[\"close\"]]"
   ]
  },
  {
   "cell_type": "code",
   "execution_count": 166,
   "metadata": {
    "collapsed": true
   },
   "outputs": [],
   "source": [
    "df.columns = [\"value\"]"
   ]
  },
  {
   "cell_type": "code",
   "execution_count": 167,
   "metadata": {
    "collapsed": false
   },
   "outputs": [
    {
     "name": "stderr",
     "output_type": "stream",
     "text": [
      "C:\\Users\\jgtzsx01\\AppData\\Local\\Continuum\\Anaconda2\\lib\\site-packages\\ipykernel\\__main__.py:1: SettingWithCopyWarning: \n",
      "A value is trying to be set on a copy of a slice from a DataFrame.\n",
      "Try using .loc[row_indexer,col_indexer] = value instead\n",
      "\n",
      "See the caveats in the documentation: http://pandas.pydata.org/pandas-docs/stable/indexing.html#indexing-view-versus-copy\n",
      "  if __name__ == '__main__':\n"
     ]
    }
   ],
   "source": [
    "df[\"date\"] = df.index.map(lambda x: x.strftime(\"%Y%m%d\"))"
   ]
  },
  {
   "cell_type": "code",
   "execution_count": 168,
   "metadata": {
    "collapsed": false
   },
   "outputs": [
    {
     "data": {
      "text/html": [
       "<div>\n",
       "<table border=\"1\" class=\"dataframe\">\n",
       "  <thead>\n",
       "    <tr style=\"text-align: right;\">\n",
       "      <th></th>\n",
       "      <th>value</th>\n",
       "      <th>date</th>\n",
       "    </tr>\n",
       "    <tr>\n",
       "      <th>date</th>\n",
       "      <th></th>\n",
       "      <th></th>\n",
       "    </tr>\n",
       "  </thead>\n",
       "  <tbody>\n",
       "    <tr>\n",
       "      <th>2017-01-24</th>\n",
       "      <td>3142.88</td>\n",
       "      <td>20170124</td>\n",
       "    </tr>\n",
       "    <tr>\n",
       "      <th>2017-01-23</th>\n",
       "      <td>3136.77</td>\n",
       "      <td>20170123</td>\n",
       "    </tr>\n",
       "    <tr>\n",
       "      <th>2017-01-20</th>\n",
       "      <td>3123.14</td>\n",
       "      <td>20170120</td>\n",
       "    </tr>\n",
       "    <tr>\n",
       "      <th>2017-01-19</th>\n",
       "      <td>3101.30</td>\n",
       "      <td>20170119</td>\n",
       "    </tr>\n",
       "    <tr>\n",
       "      <th>2017-01-18</th>\n",
       "      <td>3113.01</td>\n",
       "      <td>20170118</td>\n",
       "    </tr>\n",
       "    <tr>\n",
       "      <th>2017-01-17</th>\n",
       "      <td>3108.77</td>\n",
       "      <td>20170117</td>\n",
       "    </tr>\n",
       "    <tr>\n",
       "      <th>2017-01-16</th>\n",
       "      <td>3103.43</td>\n",
       "      <td>20170116</td>\n",
       "    </tr>\n",
       "    <tr>\n",
       "      <th>2017-01-13</th>\n",
       "      <td>3112.76</td>\n",
       "      <td>20170113</td>\n",
       "    </tr>\n",
       "    <tr>\n",
       "      <th>2017-01-12</th>\n",
       "      <td>3119.29</td>\n",
       "      <td>20170112</td>\n",
       "    </tr>\n",
       "  </tbody>\n",
       "</table>\n",
       "</div>"
      ],
      "text/plain": [
       "              value      date\n",
       "date                         \n",
       "2017-01-24  3142.88  20170124\n",
       "2017-01-23  3136.77  20170123\n",
       "2017-01-20  3123.14  20170120\n",
       "2017-01-19  3101.30  20170119\n",
       "2017-01-18  3113.01  20170118\n",
       "2017-01-17  3108.77  20170117\n",
       "2017-01-16  3103.43  20170116\n",
       "2017-01-13  3112.76  20170113\n",
       "2017-01-12  3119.29  20170112"
      ]
     },
     "execution_count": 168,
     "metadata": {},
     "output_type": "execute_result"
    }
   ],
   "source": [
    "df"
   ]
  },
  {
   "cell_type": "code",
   "execution_count": 169,
   "metadata": {
    "collapsed": true
   },
   "outputs": [],
   "source": [
    "df.to_csv(\"%s/stock.csv\"%(asset_class_dir), index=False)"
   ]
  },
  {
   "cell_type": "code",
   "execution_count": null,
   "metadata": {
    "collapsed": true
   },
   "outputs": [],
   "source": []
  }
 ],
 "metadata": {
  "anaconda-cloud": {},
  "kernelspec": {
   "display_name": "Python [default]",
   "language": "python",
   "name": "python2"
  },
  "language_info": {
   "codemirror_mode": {
    "name": "ipython",
    "version": 2
   },
   "file_extension": ".py",
   "mimetype": "text/x-python",
   "name": "python",
   "nbconvert_exporter": "python",
   "pygments_lexer": "ipython2",
   "version": "2.7.12"
  }
 },
 "nbformat": 4,
 "nbformat_minor": 1
}
