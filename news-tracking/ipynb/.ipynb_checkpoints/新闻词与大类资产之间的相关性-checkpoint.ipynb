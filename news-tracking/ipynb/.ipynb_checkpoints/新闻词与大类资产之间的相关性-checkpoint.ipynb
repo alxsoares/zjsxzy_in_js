{
 "cells": [
  {
   "cell_type": "code",
   "execution_count": 55,
   "metadata": {
    "collapsed": true
   },
   "outputs": [],
   "source": [
    "import pandas as pd\n",
    "import numpy as np\n",
    "import os"
   ]
  },
  {
   "cell_type": "code",
   "execution_count": 21,
   "metadata": {
    "collapsed": true
   },
   "outputs": [],
   "source": [
    "WORD_DIR = 'C:/Users/jgtzsx01/Documents/workspace/data/asset-class/'\n",
    "ASSET_DIR = 'C:/Users/jgtzsx01/Documents/workspace/zjsxzy_in_js/website/everyday-update/data/'"
   ]
  },
  {
   "cell_type": "code",
   "execution_count": 22,
   "metadata": {
    "collapsed": true
   },
   "outputs": [],
   "source": [
    "word_files = [f for f in os.listdir(WORD_DIR) if f.find('words') == -1]\n",
    "asset_files = [f for f in os.listdir(ASSET_DIR) if f.endswith('.csv')]"
   ]
  },
  {
   "cell_type": "code",
   "execution_count": 23,
   "metadata": {
    "collapsed": true
   },
   "outputs": [],
   "source": [
    "words = [w[:-4] for w in word_files]\n",
    "assets = [a[:-4] for a in asset_files]"
   ]
  },
  {
   "cell_type": "code",
   "execution_count": 41,
   "metadata": {
    "collapsed": true
   },
   "outputs": [],
   "source": [
    "def rank_percentile(array):\n",
    "    \"\"\"\n",
    "    返回s的最后一个元素在s中的分位值\n",
    "    \"\"\"\n",
    "    s = pd.Series(array)\n",
    "    s = s.rank(pct=True)\n",
    "    return s.iloc[-1]"
   ]
  },
  {
   "cell_type": "code",
   "execution_count": 81,
   "metadata": {
    "collapsed": true
   },
   "outputs": [],
   "source": [
    "def roll(df, w):\n",
    "    \"\"\"\n",
    "    This fucntion comes from:\n",
    "    http://stackoverflow.com/questions/37486502/why-does-pandas-rolling-use-single-dimension-ndarray/37491779#37491779\n",
    "    \"\"\"\n",
    "    df.fillna(df.mean(), inplace=True)\n",
    "    roll_array = np.dstack([df.values[i:i+w, :] for i in range(len(df.index) - w + 1)]).T\n",
    "    panel = pd.Panel(roll_array,\n",
    "                     items=df.index[w-1:],\n",
    "                     major_axis=df.columns,\n",
    "                     minor_axis=pd.Index(range(w), name='roll'))\n",
    "    return panel.to_frame().unstack().T.groupby(level=0)"
   ]
  },
  {
   "cell_type": "code",
   "execution_count": 90,
   "metadata": {
    "collapsed": true
   },
   "outputs": [],
   "source": [
    "def get_correlation(s1, s2):\n",
    "    start_date = '2016-03-01'\n",
    "    end_date = min(s1.index[-1], s2.index[-1])\n",
    "    s1 = s1[(s1.index >= start_date) & (s1.index <= end_date)]\n",
    "    s2 = s2[(s2.index >= start_date) & (s2.index <= end_date)]\n",
    "#     s1, s2 = s1.fillna('mean'), s2.fillna('mean')\n",
    "    df = pd.DataFrame({'s1': s1, 's2': s2}, index=s1.index)\n",
    "    rolled_df = roll(df, 60)\n",
    "    corr = rolled_df.apply(lambda df: df['s1'].corr(df['s2']))\n",
    "    return corr[-1], rank_percentile(corr)"
   ]
  },
  {
   "cell_type": "code",
   "execution_count": 103,
   "metadata": {
    "collapsed": false
   },
   "outputs": [],
   "source": [
    "words = [unicode(w, 'gbk') for w in words]"
   ]
  },
  {
   "cell_type": "code",
   "execution_count": 104,
   "metadata": {
    "collapsed": false
   },
   "outputs": [
    {
     "name": "stdout",
     "output_type": "stream",
     "text": [
      "CPI_0.5 065.CS\n",
      "CPI_0.5 881001.WI\n",
      "CPI_0.5 AU9999.SGE\n",
      "CPI_0.5 B.IPE\n",
      "CPI_0.5 CA.LME\n",
      "CPI_0.5 HSI.HI\n",
      "CPI_0.5 SPGSCITR.SPI\n",
      "CPI_0.5 SPX.GI\n",
      "CPI_0.5 SX5P.GI\n",
      "CPI_0.5 USDCNY.FX\n",
      "CPI_0.5 USDX.FX\n",
      "CPI_0.5 VIX.GI\n",
      "债券_0.5 065.CS\n",
      "债券_0.5 881001.WI\n",
      "债券_0.5 AU9999.SGE\n",
      "债券_0.5 B.IPE\n",
      "债券_0.5 CA.LME\n",
      "债券_0.5 HSI.HI\n",
      "债券_0.5 SPGSCITR.SPI\n",
      "债券_0.5 SPX.GI\n",
      "债券_0.5 SX5P.GI\n",
      "债券_0.5 USDCNY.FX\n",
      "债券_0.5 USDX.FX\n",
      "债券_0.5 VIX.GI\n",
      "外汇_0.5 065.CS\n",
      "外汇_0.5 881001.WI\n",
      "外汇_0.5 AU9999.SGE\n",
      "外汇_0.5 B.IPE\n",
      "外汇_0.5 CA.LME\n",
      "外汇_0.5 HSI.HI\n",
      "外汇_0.5 SPGSCITR.SPI\n",
      "外汇_0.5 SPX.GI\n",
      "外汇_0.5 SX5P.GI\n",
      "外汇_0.5 USDCNY.FX\n",
      "外汇_0.5 USDX.FX\n",
      "外汇_0.5 VIX.GI\n",
      "房地产_0.5 065.CS\n",
      "房地产_0.5 881001.WI\n",
      "房地产_0.5 AU9999.SGE\n",
      "房地产_0.5 B.IPE\n",
      "房地产_0.5 CA.LME\n",
      "房地产_0.5 HSI.HI\n",
      "房地产_0.5 SPGSCITR.SPI\n",
      "房地产_0.5 SPX.GI\n",
      "房地产_0.5 SX5P.GI\n",
      "房地产_0.5 USDCNY.FX\n",
      "房地产_0.5 USDX.FX\n",
      "房地产_0.5 VIX.GI\n",
      "杠杆_0.5 065.CS\n",
      "杠杆_0.5 881001.WI\n",
      "杠杆_0.5 AU9999.SGE\n",
      "杠杆_0.5 B.IPE\n",
      "杠杆_0.5 CA.LME\n",
      "杠杆_0.5 HSI.HI\n",
      "杠杆_0.5 SPGSCITR.SPI\n",
      "杠杆_0.5 SPX.GI\n",
      "杠杆_0.5 SX5P.GI\n",
      "杠杆_0.5 USDCNY.FX\n",
      "杠杆_0.5 USDX.FX\n",
      "杠杆_0.5 VIX.GI\n",
      "楼市_0.5 065.CS\n",
      "楼市_0.5 881001.WI\n",
      "楼市_0.5 AU9999.SGE\n",
      "楼市_0.5 B.IPE\n",
      "楼市_0.5 CA.LME\n",
      "楼市_0.5 HSI.HI\n",
      "楼市_0.5 SPGSCITR.SPI\n",
      "楼市_0.5 SPX.GI\n",
      "楼市_0.5 SX5P.GI\n",
      "楼市_0.5 USDCNY.FX\n",
      "楼市_0.5 USDX.FX\n",
      "楼市_0.5 VIX.GI\n",
      "汇率_0.5 065.CS\n",
      "汇率_0.5 881001.WI\n",
      "汇率_0.5 AU9999.SGE\n",
      "汇率_0.5 B.IPE\n",
      "汇率_0.5 CA.LME\n",
      "汇率_0.5 HSI.HI\n",
      "汇率_0.5 SPGSCITR.SPI\n",
      "汇率_0.5 SPX.GI\n",
      "汇率_0.5 SX5P.GI\n",
      "汇率_0.5 USDCNY.FX\n",
      "汇率_0.5 USDX.FX\n",
      "汇率_0.5 VIX.GI\n",
      "港股_0.5 065.CS\n",
      "港股_0.5 881001.WI\n",
      "港股_0.5 AU9999.SGE\n",
      "港股_0.5 B.IPE\n",
      "港股_0.5 CA.LME\n",
      "港股_0.5 HSI.HI\n",
      "港股_0.5 SPGSCITR.SPI\n",
      "港股_0.5 SPX.GI\n",
      "港股_0.5 SX5P.GI\n",
      "港股_0.5 USDCNY.FX\n",
      "港股_0.5 USDX.FX\n",
      "港股_0.5 VIX.GI\n",
      "美股_0.5 065.CS\n",
      "美股_0.5 881001.WI\n",
      "美股_0.5 AU9999.SGE\n",
      "美股_0.5 B.IPE\n",
      "美股_0.5 CA.LME\n",
      "美股_0.5 HSI.HI\n",
      "美股_0.5 SPGSCITR.SPI\n",
      "美股_0.5 SPX.GI\n",
      "美股_0.5 SX5P.GI\n",
      "美股_0.5 USDCNY.FX\n",
      "美股_0.5 USDX.FX\n",
      "美股_0.5 VIX.GI\n",
      "股票_0.5 065.CS\n",
      "股票_0.5 881001.WI\n",
      "股票_0.5 AU9999.SGE\n",
      "股票_0.5 B.IPE\n",
      "股票_0.5 CA.LME\n",
      "股票_0.5 HSI.HI\n",
      "股票_0.5 SPGSCITR.SPI\n",
      "股票_0.5 SPX.GI\n",
      "股票_0.5 SX5P.GI\n",
      "股票_0.5 USDCNY.FX\n",
      "股票_0.5 USDX.FX\n",
      "股票_0.5 VIX.GI\n",
      "通胀_0.5 065.CS\n",
      "通胀_0.5 881001.WI\n",
      "通胀_0.5 AU9999.SGE\n",
      "通胀_0.5 B.IPE\n",
      "通胀_0.5 CA.LME\n",
      "通胀_0.5 HSI.HI\n",
      "通胀_0.5 SPGSCITR.SPI\n",
      "通胀_0.5 SPX.GI\n",
      "通胀_0.5 SX5P.GI\n",
      "通胀_0.5 USDCNY.FX\n",
      "通胀_0.5 USDX.FX\n",
      "通胀_0.5 VIX.GI\n",
      "黄金_0.5 065.CS\n",
      "黄金_0.5 881001.WI\n",
      "黄金_0.5 AU9999.SGE\n",
      "黄金_0.5 B.IPE\n",
      "黄金_0.5 CA.LME\n",
      "黄金_0.5 HSI.HI\n",
      "黄金_0.5 SPGSCITR.SPI\n",
      "黄金_0.5 SPX.GI\n",
      "黄金_0.5 SX5P.GI\n",
      "黄金_0.5 USDCNY.FX\n",
      "黄金_0.5 USDX.FX\n",
      "黄金_0.5 VIX.GI\n"
     ]
    }
   ],
   "source": [
    "absolute_df = pd.DataFrame(index=assets, columns=words)\n",
    "relative_df = pd.DataFrame(index=assets, columns=words)\n",
    "for w in words:\n",
    "    for a in assets:\n",
    "        print w, a\n",
    "        wdf = pd.read_csv('%s/%s.csv'%(WORD_DIR, w))\n",
    "        adf = pd.read_csv('%s/%s.csv'%(ASSET_DIR, a))\n",
    "        wdf.index = pd.to_datetime(wdf['date'], format='%Y-%m-%d')\n",
    "        adf.index = pd.to_datetime(adf['date'], format='%Y-%m-%d')\n",
    "        absolute_corr, relative_corr = get_correlation(wdf['relative'], adf['close'])\n",
    "        absolute_df.loc[a, w] = absolute_corr\n",
    "        relative_df.loc[a, w] = relative_corr"
   ]
  },
  {
   "cell_type": "code",
   "execution_count": 106,
   "metadata": {
    "collapsed": false
   },
   "outputs": [],
   "source": [
    "absolute_df.to_excel('absolute_correlation.xlsx')"
   ]
  },
  {
   "cell_type": "code",
   "execution_count": null,
   "metadata": {
    "collapsed": true
   },
   "outputs": [],
   "source": []
  }
 ],
 "metadata": {
  "anaconda-cloud": {},
  "kernelspec": {
   "display_name": "Python [default]",
   "language": "python",
   "name": "python2"
  },
  "language_info": {
   "codemirror_mode": {
    "name": "ipython",
    "version": 2
   },
   "file_extension": ".py",
   "mimetype": "text/x-python",
   "name": "python",
   "nbconvert_exporter": "python",
   "pygments_lexer": "ipython2",
   "version": "2.7.12"
  }
 },
 "nbformat": 4,
 "nbformat_minor": 1
}
