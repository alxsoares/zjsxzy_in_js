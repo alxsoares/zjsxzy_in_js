{
 "cells": [
  {
   "cell_type": "code",
   "execution_count": 1,
   "metadata": {
    "collapsed": true
   },
   "outputs": [],
   "source": [
    "import urllib2\n",
    "from bs4 import BeautifulSoup\n",
    "import httplib\n",
    "import datetime\n",
    "import os\n",
    "import requests"
   ]
  },
  {
   "cell_type": "markdown",
   "metadata": {},
   "source": [
    "# 华尔街见闻"
   ]
  },
  {
   "cell_type": "code",
   "execution_count": 3,
   "metadata": {
    "collapsed": true
   },
   "outputs": [],
   "source": [
    "base_url = \"http://wallstreetcn.com/node\""
   ]
  },
  {
   "cell_type": "code",
   "execution_count": 58,
   "metadata": {
    "collapsed": true
   },
   "outputs": [],
   "source": [
    "# node_id = 286749\n",
    "node_id = 286749"
   ]
  },
  {
   "cell_type": "code",
   "execution_count": 59,
   "metadata": {
    "collapsed": true
   },
   "outputs": [],
   "source": [
    "conn = httplib.HTTPConnection(\"wallstreetcn.com\")\n",
    "url = \"%s/%d\"%(base_url, node_id)\n",
    "conn.request('GET', url)\n",
    "response = conn.getresponse()\n",
    "text = response.read()\n",
    "soup = BeautifulSoup(text, \"html.parser\")"
   ]
  },
  {
   "cell_type": "code",
   "execution_count": 60,
   "metadata": {
    "collapsed": false
   },
   "outputs": [
    {
     "name": "stdout",
     "output_type": "stream",
     "text": [
      "瑞银重磅报告：中国债务问题全透视-华尔街见闻\n"
     ]
    }
   ],
   "source": [
    "print soup.title.get_text()"
   ]
  },
  {
   "cell_type": "code",
   "execution_count": 61,
   "metadata": {
    "collapsed": false
   },
   "outputs": [
    {
     "name": "stdout",
     "output_type": "stream",
     "text": [
      "\n",
      "本文节选自瑞银中国首席经济学家、亚洲经济研究联席主管汪涛所撰报告《中国经济透视：解析中国经济（第二部分）——债务问题有多严重？》，授权华尔街见闻发表。\n",
      "中国的债务问题一直是各方关注的焦点，目前债务规模几何，未被统计的影子信贷有多少，离“明斯基时刻”还有多远，各方一直争论不断。\n",
      "瑞银中国首席经济学家、亚洲经济研究联席主管汪涛指出，截至去年底，中国非金融部门负债规模达205万亿、占GDP的比重为277%。预计中国债务规模还将继续增长，未来两年该比重或超300%。\n",
      "包括企业债等在内的影子信贷规模约为60-70万亿，若将“缺失”的22万亿影子信贷纳入社融统计，去年全年整体信贷增速将提高2个百分点。\n",
      "不过，中国短期内出现债务危机风险较低，信贷周期更可能是漫长、渐进的过程，不太可能像其他典型债务危机一样，被流动性相关冲击“阻断”。\n",
      "中国债务规模几何？\n",
      "瑞银汪涛认为，金融危机以来，非金融部门负债占GDP的比重已攀升了130个百分点，截至2016年底，非金融部门负债规模达205万亿、占GDP的比重为277%。而截至2015年底，该规模为175万亿、占GDP比重254%。上述债务包括人民币及外币银行贷\n"
     ]
    }
   ],
   "source": [
    "print soup.find(class_=\"page-article-content\").get_text()[:500]"
   ]
  },
  {
   "cell_type": "code",
   "execution_count": 51,
   "metadata": {
    "collapsed": false
   },
   "outputs": [
    {
     "name": "stdout",
     "output_type": "stream",
     "text": [
      "2017年01月24日 16:03:59                        \n"
     ]
    }
   ],
   "source": [
    "print soup.find(class_=\"title-meta-time\").contents[-1]"
   ]
  },
  {
   "cell_type": "code",
   "execution_count": 53,
   "metadata": {
    "collapsed": false
   },
   "outputs": [
    {
     "name": "stdout",
     "output_type": "stream",
     "text": [
      "汪涛\n"
     ]
    }
   ],
   "source": [
    "print soup.find(class_=\"author-meta-name\").get_text()"
   ]
  },
  {
   "cell_type": "code",
   "execution_count": null,
   "metadata": {
    "collapsed": true
   },
   "outputs": [],
   "source": []
  }
 ],
 "metadata": {
  "anaconda-cloud": {},
  "kernelspec": {
   "display_name": "Python [default]",
   "language": "python",
   "name": "python2"
  },
  "language_info": {
   "codemirror_mode": {
    "name": "ipython",
    "version": 2
   },
   "file_extension": ".py",
   "mimetype": "text/x-python",
   "name": "python",
   "nbconvert_exporter": "python",
   "pygments_lexer": "ipython2",
   "version": "2.7.12"
  }
 },
 "nbformat": 4,
 "nbformat_minor": 1
}
