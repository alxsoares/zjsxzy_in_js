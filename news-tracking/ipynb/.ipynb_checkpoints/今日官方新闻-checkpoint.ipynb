{
 "cells": [
  {
   "cell_type": "code",
   "execution_count": 2,
   "metadata": {
    "collapsed": true
   },
   "outputs": [],
   "source": [
    "import os\n",
    "import datetime"
   ]
  },
  {
   "cell_type": "code",
   "execution_count": 3,
   "metadata": {
    "collapsed": true
   },
   "outputs": [],
   "source": [
    "today = datetime.datetime.today().strftime('%Y-%m-%d')"
   ]
  },
  {
   "cell_type": "code",
   "execution_count": 17,
   "metadata": {
    "collapsed": true
   },
   "outputs": [],
   "source": [
    "dnames = [d for d in os.listdir('D:/Data/gov/') if not d.endswith('.txt')]"
   ]
  },
  {
   "cell_type": "code",
   "execution_count": null,
   "metadata": {
    "collapsed": false
   },
   "outputs": [],
   "source": [
    "fnames = []\n",
    "for d in dnames:\n",
    "    files = ['%s: %s'%(d, f) for f in os.listdir('D:/Data/gov/%s'%(d)) if f.startswith(today)]\n",
    "    fnames += files"
   ]
  },
  {
   "cell_type": "code",
   "execution_count": 16,
   "metadata": {
    "collapsed": false
   },
   "outputs": [
    {
     "name": "stdout",
     "output_type": "stream",
     "text": [
      "人民日报: 2017-05-11 07-14_凝聚更多智慧与共识.txt\n",
      "人民日报: 2017-05-11 07-19_奏响共同发展的交响乐——写在“一带一路”国际合作高峰论坛举行之际.txt\n",
      "人民日报: 2017-05-11 07-23_让政府采购充满“阳光的味道”.txt\n",
      "人民日报: 2017-05-11 07-26_“放管服”释放新红利.txt\n",
      "人民日报: 2017-05-11 07-36_今年85%以上地市为居民配家庭医生.txt\n",
      "人民日报: 2017-05-11 07-42_中国人民银行副行长：为一带一路提供长期可靠金融支持.txt\n",
      "公务员局: 2017-05-11 07-39_2017年中央机关公开遴选和公开选调公务员公告.txt\n",
      "国土资源部: 2017-05-11 07-26_全国村土地利用规划工作全面启动.txt\n",
      "教育部: 2017-05-11 06-44_教育部部署2017年普通高等教育招生计划管理工作.txt\n",
      "新华社: 2017-05-11 07-19_重庆始发“渝桂新”南向通道试运行班列.txt\n",
      "新华社: 2017-05-11 07-23_防灾减灾演练进校园.txt\n",
      "新华社: 2017-05-11 07-28_“蛟龙”号完成今年南海最后一潜.txt\n",
      "新华社: 2017-05-11 07-29_共建“一带一路”：理念实践与中国的贡献.txt\n",
      "新华社: 2017-05-11 08-07_辽宁自贸区沈阳片区挂牌满月 注册企业破千家.txt\n",
      "新华社: 2017-05-11 08-08_湖北襄阳夏粮开镰收割.txt\n",
      "经济日报: 2017-05-11 07-26_“绿色矿山”成矿业发展风向标.txt\n",
      "经济日报: 2017-05-11 07-28_环保部对河北廊坊市大气环境问题挂牌督办.txt\n",
      "经济日报: 2017-05-11 07-35_以品牌引领建品牌强国.txt\n",
      "食品药品监管总局: 2017-05-11 07-44_食品药品监管总局通告3批次乳制品不合格.txt\n"
     ]
    }
   ],
   "source": [
    "for f in fnames:\n",
    "    print f.decode('gbk')"
   ]
  },
  {
   "cell_type": "code",
   "execution_count": null,
   "metadata": {
    "collapsed": true
   },
   "outputs": [],
   "source": []
  }
 ],
 "metadata": {
  "anaconda-cloud": {},
  "kernelspec": {
   "display_name": "Python [default]",
   "language": "python",
   "name": "python2"
  },
  "language_info": {
   "codemirror_mode": {
    "name": "ipython",
    "version": 2
   },
   "file_extension": ".py",
   "mimetype": "text/x-python",
   "name": "python",
   "nbconvert_exporter": "python",
   "pygments_lexer": "ipython2",
   "version": "2.7.12"
  }
 },
 "nbformat": 4,
 "nbformat_minor": 1
}
