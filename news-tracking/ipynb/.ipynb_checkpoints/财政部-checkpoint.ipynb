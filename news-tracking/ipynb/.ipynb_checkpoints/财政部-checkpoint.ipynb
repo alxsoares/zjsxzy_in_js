{
 "cells": [
  {
   "cell_type": "code",
   "execution_count": 163,
   "metadata": {
    "collapsed": false
   },
   "outputs": [],
   "source": [
    "import urllib2\n",
    "from bs4 import BeautifulSoup\n",
    "import httplib\n",
    "import datetime\n",
    "import os\n",
    "import requests\n",
    "import chardet"
   ]
  },
  {
   "cell_type": "markdown",
   "metadata": {},
   "source": [
    "# 财经视点"
   ]
  },
  {
   "cell_type": "code",
   "execution_count": 181,
   "metadata": {
    "collapsed": true
   },
   "outputs": [],
   "source": [
    "base_url = 'http://www.mof.gov.cn/zhengwuxinxi/caizhengxinwen/'"
   ]
  },
  {
   "cell_type": "code",
   "execution_count": 182,
   "metadata": {
    "collapsed": false
   },
   "outputs": [],
   "source": [
    "conn = httplib.HTTPConnection(\"www.mof.gov.cn\")\n",
    "conn.request('GET', base_url)\n",
    "response = conn.getresponse()\n",
    "text = response.read()\n",
    "soup = BeautifulSoup(text, \"html.parser\")"
   ]
  },
  {
   "cell_type": "code",
   "execution_count": 184,
   "metadata": {
    "collapsed": false
   },
   "outputs": [],
   "source": [
    "article_list = soup.find(class_='ZIT')"
   ]
  },
  {
   "cell_type": "code",
   "execution_count": 187,
   "metadata": {
    "collapsed": false,
    "scrolled": true
   },
   "outputs": [
    {
     "name": "stdout",
     "output_type": "stream",
     "text": [
      "国务院关于做好当前和今后一段时期就业创业工作的意见\n",
      "关于印发《政府会计准则第5号――公共基础设施》的通知\n",
      "关于印发《统一和规范职工养老保险个人账户记账利率办法》的通知\n",
      "关于申报2017年度文化产业发展专项资金的通知\n",
      "河南取消省直协议供货和服务定点\n",
      "湖南专员办：运用两方式 确立三原则 搭建三平台实现防风险、促发展目标\n",
      "关于印发《水污染防治专项资金绩效评价办法》的通知\n",
      "福建泉州：推广PPP模式 打造经济发展新引擎\n",
      "新疆专员办：创新方法 健全机制 逐步实现转移支付资金监管全覆盖\n",
      "肖捷部长出席第95届发展委员会部长级会议\n",
      "G20财长和央行行长会议在美国华盛顿举行\n",
      "肖捷谈当前宏观经济形势\n",
      "金砖国家财政和央行副手会议在美国华盛顿举行\n",
      "落实责任 真抓实干 确保2017年度全国会计专业技术资格考试平稳顺利―...\n",
      "防“跑马圈地” 促生态文明――解读《矿产资源权益金制度改革方案》\n",
      "遏制私挖乱采贱卖资源\n",
      "山西省财政厅新实施十项强农惠农富农政策\n",
      "河北专员办：多措并举 全面出击 打好金融监管“组合拳”\n",
      "国务院关于印发矿产资源权益金制度改革方案的通知\n",
      "国务院常务会议决定推出进一步减税措施 切实推动实体经济降成本增后劲等\n",
      "2017年3月份全国彩票销售情况\n",
      "关于做好生育保险和职工基本医疗保险合并实施试点有关工作的通知\n"
     ]
    }
   ],
   "source": [
    "for li in article_list.findAll(\"tr\"):\n",
    "    item = li.find('td')\n",
    "    elements = item.text.split('\\n')\n",
    "    elements = [x.lstrip().rstrip() for x in elements if x.lstrip().rstrip() != '']\n",
    "    print elements[0]\n",
    "#     print '%s%s'%(base_url, item.get('href')[2:]), item.text"
   ]
  },
  {
   "cell_type": "code",
   "execution_count": 146,
   "metadata": {
    "collapsed": true
   },
   "outputs": [],
   "source": [
    "a = elements[0]"
   ]
  },
  {
   "cell_type": "code",
   "execution_count": 167,
   "metadata": {
    "collapsed": false
   },
   "outputs": [
    {
     "data": {
      "text/plain": [
       "{'confidence': 0.99, 'encoding': 'utf-8', 'language': ''}"
      ]
     },
     "execution_count": 167,
     "metadata": {},
     "output_type": "execute_result"
    }
   ],
   "source": [
    "chardet.detect(a.encode('utf-8'))"
   ]
  },
  {
   "cell_type": "code",
   "execution_count": 72,
   "metadata": {
    "collapsed": false
   },
   "outputs": [],
   "source": [
    "url = 'http://gks.mof.gov.cn/zhengfuxinxi/guizhangzhidu/201702/t20170228_2543856.html'"
   ]
  },
  {
   "cell_type": "code",
   "execution_count": 73,
   "metadata": {
    "collapsed": true
   },
   "outputs": [],
   "source": [
    "conn = httplib.HTTPConnection(\"www.mof.gov.cn\")\n",
    "conn.request('GET', url)\n",
    "response = conn.getresponse()\n",
    "text = response.read()\n",
    "soup = BeautifulSoup(text, \"html.parser\")"
   ]
  },
  {
   "cell_type": "code",
   "execution_count": 74,
   "metadata": {
    "collapsed": false
   },
   "outputs": [
    {
     "name": "stdout",
     "output_type": "stream",
     "text": [
      "关于印发2017年中央国库现金管理商业银行定期存款招投标规则的通知\n"
     ]
    }
   ],
   "source": [
    "print soup.title.text"
   ]
  },
  {
   "cell_type": "code",
   "execution_count": 75,
   "metadata": {
    "collapsed": false
   },
   "outputs": [
    {
     "name": "stdout",
     "output_type": "stream",
     "text": [
      "\n",
      "\n",
      "\n",
      "\n"
     ]
    }
   ],
   "source": [
    "print soup.find(class_='font_t_pai').text"
   ]
  },
  {
   "cell_type": "code",
   "execution_count": 76,
   "metadata": {
    "collapsed": true
   },
   "outputs": [],
   "source": [
    "content = soup.find(class_='TRS_Editor')"
   ]
  },
  {
   "cell_type": "code",
   "execution_count": 77,
   "metadata": {
    "collapsed": false
   },
   "outputs": [],
   "source": [
    "text = content.text"
   ]
  },
  {
   "cell_type": "code",
   "execution_count": 81,
   "metadata": {
    "collapsed": false
   },
   "outputs": [
    {
     "data": {
      "text/plain": [
       "u'\\n\\n.TRS_Editor P{margin-bottom:1em;line-height:1.8;font-family:Arial;font-size:12pt;}.TRS_Editor DIV{margin-bottom:1em;line-height:1.8;font-family:Arial;font-size:12pt;}.TRS_Editor TD{margin-bottom:1em;line-height:1.8;font-family:Arial;font-size:12pt;}.TRS_Editor TH{margin-bottom:1em;line-height:1.8;font-family:Arial;font-size:12pt;}.TRS_Editor SPAN{margin-bottom:1em;line-height:1.8;font-family:Arial;font-size:12pt;}.TRS_Editor FONT{margin-bottom:1em;line-height:1.8;font-family:Arial;font-size:12pt;}.TRS_Editor UL{margin-bottom:1em;line-height:1.8;font-family:Arial;font-size:12pt;}.TRS_Editor LI{margin-bottom:1em;line-height:1.8;font-family:Arial;font-size:12pt;}.TRS_Editor A{margin-bottom:1em;line-height:1.8;font-family:Arial;font-size:12pt;}'"
      ]
     },
     "execution_count": 81,
     "metadata": {},
     "output_type": "execute_result"
    }
   ],
   "source": [
    "content.style.text"
   ]
  },
  {
   "cell_type": "code",
   "execution_count": 82,
   "metadata": {
    "collapsed": false
   },
   "outputs": [],
   "source": [
    "style_text = content.style.text"
   ]
  },
  {
   "cell_type": "code",
   "execution_count": 83,
   "metadata": {
    "collapsed": false
   },
   "outputs": [
    {
     "name": "stdout",
     "output_type": "stream",
     "text": [
      "\n",
      "\n",
      "财库[2017]60号　　 　　\n",
      "各中央国库现金管理商业银行定期存款参与银行：\n",
      "　　为规范中央国库现金管理商业银行定期存款招投标行为，促进中央国库现金管理商业银行定期存款业务健康发展，财政部会同人民银行制定了《2017年中央国库现金管理商业银行定期存款招投标规则》。现予以公布，请遵照执行。\n",
      "　　附件：2017年中央国库现金管理商业银行定期存款招投标规则\n",
      "　　财政部    人民银行\n",
      "　　2017年2月16日\n",
      "\n"
     ]
    }
   ],
   "source": [
    "print text.replace(style_text, '')"
   ]
  },
  {
   "cell_type": "code",
   "execution_count": null,
   "metadata": {
    "collapsed": true
   },
   "outputs": [],
   "source": []
  }
 ],
 "metadata": {
  "anaconda-cloud": {},
  "kernelspec": {
   "display_name": "Python [default]",
   "language": "python",
   "name": "python2"
  },
  "language_info": {
   "codemirror_mode": {
    "name": "ipython",
    "version": 2
   },
   "file_extension": ".py",
   "mimetype": "text/x-python",
   "name": "python",
   "nbconvert_exporter": "python",
   "pygments_lexer": "ipython2",
   "version": "2.7.12"
  }
 },
 "nbformat": 4,
 "nbformat_minor": 1
}
