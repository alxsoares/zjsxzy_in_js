{
 "cells": [
  {
   "cell_type": "code",
   "execution_count": 1,
   "metadata": {
    "collapsed": false
   },
   "outputs": [],
   "source": [
    "import urllib2\n",
    "from bs4 import BeautifulSoup\n",
    "import httplib\n",
    "from selenium import webdriver  \n",
    "import datetime\n",
    "import os\n",
    "import requests"
   ]
  },
  {
   "cell_type": "markdown",
   "metadata": {},
   "source": [
    "# 证监会"
   ]
  },
  {
   "cell_type": "code",
   "execution_count": 87,
   "metadata": {
    "collapsed": true
   },
   "outputs": [],
   "source": [
    "base_url = \"http://www.csrc.gov.cn/pub/newsite/zjhxwfb/xwdd/\""
   ]
  },
  {
   "cell_type": "code",
   "execution_count": 88,
   "metadata": {
    "collapsed": false
   },
   "outputs": [],
   "source": [
    "CSRC_url = []\n",
    "for i in range(50):\n",
    "    if i == 0:\n",
    "        CSRC_url.append(base_url)\n",
    "    else:\n",
    "        CSRC_url.append(base_url + \"index_%s.html\"%str(i))"
   ]
  },
  {
   "cell_type": "code",
   "execution_count": 89,
   "metadata": {
    "collapsed": false
   },
   "outputs": [],
   "source": [
    "conn = httplib.HTTPConnection(\"www.csrc.gov.cn\")\n",
    "conn.request('GET', CSRC_url[-1])\n",
    "response = conn.getresponse()\n",
    "text = response.read()\n",
    "soup = BeautifulSoup(text, 'html.parser')"
   ]
  },
  {
   "cell_type": "code",
   "execution_count": 90,
   "metadata": {
    "collapsed": false
   },
   "outputs": [],
   "source": [
    "article_list = soup.find(class_='fl_list')"
   ]
  },
  {
   "cell_type": "code",
   "execution_count": 93,
   "metadata": {
    "collapsed": false
   },
   "outputs": [
    {
     "name": "stdout",
     "output_type": "stream",
     "text": [
      "http://www.csrc.gov.cn/pub/newsite/zjhxwfb/xwdd/201204/t20120420_209017.html 2012-04-20 证监会通报李文清涉嫌内幕交易案情况\n",
      "http://www.csrc.gov.cn/pub/newsite/zjhxwfb/xwdd/201204/t20120420_209012.html 2012-04-20 中国证监会网上公示基金管理公司设立申请审核流程及在审公司情况\n",
      "http://www.csrc.gov.cn/pub/newsite/zjhxwfb/xwdd/201204/t20120420_209003.html 2012-04-20 中国证监会就《证券期货业信息安全保障管理办法(征求意见稿）》向社会公开征求意见\n",
      "http://www.csrc.gov.cn/pub/newsite/zjhxwfb/xwdd/201204/t20120413_208608.html 2012-04-13 中国证监会发布《关于修改<关于证券公司风险资本准备计算标准的规定>的决定》\n",
      "http://www.csrc.gov.cn/pub/newsite/zjhxwfb/xwdd/201204/t20120413_208606.html 2012-04-13 关于公示中国证券监督管理委员会第十四届主板发行审核委员会委员候选人名单的公告\n",
      "http://www.csrc.gov.cn/pub/newsite/zjhxwfb/xwdd/201204/t20120413_208601.html 2012-04-13 资本市场首部诚信监管规章向社会公开征求意见\n",
      "http://www.csrc.gov.cn/pub/newsite/zjhxwfb/xwdd/201204/t20120412_208487.html 2012-04-12 党中央、国务院决定任免上海证券交易所主要负责人\n",
      "http://www.csrc.gov.cn/pub/newsite/zjhxwfb/xwdd/201204/t20120405_208236.html 2012-04-05 证监会通报毛伟涉嫌内幕交易案情况\n",
      "http://www.csrc.gov.cn/pub/newsite/zjhxwfb/xwdd/201204/t20120405_208235.html 2012-04-05 证监会通报王保丰涉嫌内幕交易案情况\n",
      "http://www.csrc.gov.cn/pub/newsite/zjhxwfb/xwdd/201204/t20120405_208234.html 2012-04-05 证监会提醒投资者注意防范“高送转”概念炒作风险\n",
      "http://www.csrc.gov.cn/pub/newsite/zjhxwfb/xwdd/201204/t20120403_208156.html 2012-04-03 人民币合格境外机构投资者（RQFII）投资额度新增500亿元\n",
      "http://www.csrc.gov.cn/pub/newsite/zjhxwfb/xwdd/201204/t20120403_208155.html 2012-04-03 合格境外机构投资者（QFII）投资额度新增500亿美元\n",
      "http://www.csrc.gov.cn/pub/newsite/zjhxwfb/xwdd/201204/t20120401_208153.html 2012-04-01 关于《关于进一步深化新股发行体制改革的指导意见（征求意见稿）》公开征求意见的通知\n",
      "http://www.csrc.gov.cn/pub/newsite/zjhxwfb/xwdd/201203/t20120330_207963.html 2012-03-30 中国证监会发布《上市公司监管指引第1号——上市公司实施重大资产重组后存在未弥补亏损情形的监管要求》\n",
      "http://www.csrc.gov.cn/pub/newsite/zjhxwfb/xwdd/201203/t20120330_207962.html 2012-03-30 中国证监会发布《证券投资基金信息披露XBRL模板第2号<净值公告>》\n",
      "http://www.csrc.gov.cn/pub/newsite/zjhxwfb/xwdd/201203/t20120329_207909.html 中国证监会召开 <p><span>中国证监会召开</span><span>“</span><span>加快我国期货市场改革发展</span></p><p><span>促进经济发展方式转变</span><span>”</span><span>专题学习报告会</span></p>\n",
      "http://www.csrc.gov.cn/pub/newsite/zjhxwfb/xwdd/201203/t20120328_207839.html 2012-03-28 王岐山副总理考察中关村非上市公司股份转让试点工作\n",
      "http://www.csrc.gov.cn/pub/newsite/zjhxwfb/xwdd/201203/t20120323_207604.html 2012-03-23 郭树清主席在浙江调研：深入基层网点 对话普通股民\n",
      "http://www.csrc.gov.cn/pub/newsite/zjhxwfb/xwdd/201203/t20120316_207351.html 2012-03-16 证监会查处四川东合烽非法利用他人账户买卖证券案\n",
      "http://www.csrc.gov.cn/pub/newsite/zjhxwfb/xwdd/201203/t20120316_207349.html 2012-03-16 证监会查处京博控股违法违规案\n"
     ]
    }
   ],
   "source": [
    "for li in article_list.findAll(\"li\"):\n",
    "    item = li.find('a')\n",
    "    print base_url + item.get(\"href\")[2:], li.find('span').string, item.get('title')"
   ]
  },
  {
   "cell_type": "code",
   "execution_count": 51,
   "metadata": {
    "collapsed": true
   },
   "outputs": [],
   "source": [
    "article_url = \"http://www.csrc.gov.cn/pub/newsite/zjhxwfb/xwdd/201702/t20170226_312694.html\""
   ]
  },
  {
   "cell_type": "code",
   "execution_count": 66,
   "metadata": {
    "collapsed": false
   },
   "outputs": [],
   "source": [
    "conn = httplib.HTTPConnection(\"www.csrc.gov.cn\")\n",
    "conn.request('GET', article_url)\n",
    "response = conn.getresponse()\n",
    "text = response.read()\n",
    "soup = BeautifulSoup(text, 'html.parser')"
   ]
  },
  {
   "cell_type": "code",
   "execution_count": 67,
   "metadata": {
    "collapsed": false
   },
   "outputs": [
    {
     "name": "stdout",
     "output_type": "stream",
     "text": [
      "中国证监会新闻发布会答问实录\n"
     ]
    }
   ],
   "source": [
    "print soup.title.string"
   ]
  },
  {
   "cell_type": "code",
   "execution_count": 77,
   "metadata": {
    "collapsed": false
   },
   "outputs": [
    {
     "name": "stdout",
     "output_type": "stream",
     "text": [
      "\n",
      "中国证监会新闻发布会答问实录\n",
      "\n",
      "\n",
      "中国证监会 www.csrc.gov.cn\n",
      "时间：2017-02-26\n",
      "来源：证监会\n",
      "\n",
      "\n",
      "\n",
      "#TRS_AUTOADD_1488115655281 P {\n",
      "\tMARGIN-TOP: 6px; FONT-SIZE: 10.5pt; MARGIN-BOTTOM: 6px; LINE-HEIGHT: 1.5; FONT-FAMILY: 宋体\n",
      "}\n",
      "#TRS_AUTOADD_1488115655281 TD {\n",
      "\tMARGIN-TOP: 6px; FONT-SIZE: 10.5pt; MARGIN-BOTTOM: 6px; LINE-HEIGHT: 1.5; FONT-FAMILY: 宋体\n",
      "}\n",
      "#TRS_AUTOADD_1488115655281 DIV {\n",
      "\tMARGIN-TOP: 6px; FONT-SIZE: 10.5pt; MARGIN-BOTTOM: 6px; LINE-HEIGHT: 1.5; FONT-FAMILY: 宋体\n",
      "}\n",
      "#TRS_AUTOADD_1488115655281 LI {\n",
      "\tMARGIN-TOP: 6px; FONT-SIZE: 10.5pt; MARGIN-BOTTOM: 6px; LINE-HEIGHT: 1.5; FONT-FAMILY: 宋体\n",
      "}\n",
      "#TRS_AUTOADD_1488115655281 {\n",
      "\tMARGIN-TOP: 6px; FONT-SIZE: 10.5pt; MARGIN-BOTTOM: 6px; LINE-HEIGHT: 1.5; FONT-FAMILY: 宋体\n",
      "}\n",
      "/**---JSON--\n",
      "{\"p\":{\"font-family\":\"宋体\",\"font-weight\":\"\",\"font-size\":\"10.5pt\",\"line-height\":\"1.5\",\"direction\":\"\",\"margin-top\":\"6px\",\"margin-bottom\":\"6px\",\"text-indent\":\"\"},\"td\":{\"font-family\":\"宋体\",\"font-weight\":\"\",\"font-size\":\"10.5pt\",\"line-height\":\"1.5\",\"direction\":\"\",\"margin-top\":\"6px\",\"margin-bottom\":\"6px\",\"text-indent\":\"\"},\"div\":{\"font-family\":\"宋体\",\"font-weight\":\"\",\"font-size\":\"10.5pt\",\"line-height\":\"1.5\",\"direction\":\"\",\"margin-top\":\"6px\",\"margin-bottom\":\"6px\",\"text-indent\":\"\"},\"li\":{\"font-family\":\"宋体\",\"font-weight\":\"\",\"font-size\":\"10.5pt\",\"line-height\":\"1.5\",\"direction\":\"\",\"margin-top\":\"6px\",\"margin-bottom\":\"6px\",\"text-indent\":\"\"},\"\":{\"font-family\":\"宋体\",\"font-weight\":\"\",\"font-size\":\"10.5pt\",\"line-height\":\"1.5\",\"direction\":\"\",\"margin-top\":\"6px\",\"margin-bottom\":\"6px\",\"text-indent\":\"\"}}\n",
      "--**/\n",
      "\n",
      "\n",
      "\n",
      "国新办新闻局局长、新闻发言人胡凯红（焦非 摄）\n",
      "　　 主持人 胡凯红：女士们、先生们，大家周末好。长期以来，大家非常关注中国的资本市场。今天，我们很高兴请来了中国证监会主席刘士余先生，副主席李超先生、方星海先生、赵争平先生，请他们向大家介绍协调推进资本市场改革稳定发展方面的情况，并回答大家提问。证监会两位主席助理黄炜先生、宣昌能先生也到了现场。\n",
      "　　下面，我们先请刘主席作介绍。\n",
      "\n",
      "中国证券监督管理委员会主席刘士余（吴晓山 摄）\n",
      "　　刘士余：各位记者朋友，女士们、先生们，大家上午好。首先，欢迎大家、感谢大家来参加证监会新闻发布会。我从现场的“长枪短炮”，看到记者朋友们对资本市场改革发展的期待。你们的光临和报道，是给资本市场改革发展注入正能量，是给证监会撸起袖子抓监管注入正能量。 \n",
      "　　过去的一年，在以习近平同志为核心的党中央坚强领导下，证监会系统紧紧围绕稳增长、促改革、调结构、惠民生、防风险这个大局和供给侧结构性改革这条主线，努力做好资本市场稳定改革发展各项工作。一年来的工作，可以概括为三个字：“稳、严、进”。\n",
      "　　第一是“稳”。我一到证监会工作，就深切感到，在经历2015年股市异常波动后，市场最期盼\n"
     ]
    }
   ],
   "source": [
    "print soup.find(class_='content').get_text()[:2000]"
   ]
  },
  {
   "cell_type": "markdown",
   "metadata": {},
   "source": [
    "# 银监会"
   ]
  },
  {
   "cell_type": "code",
   "execution_count": 114,
   "metadata": {
    "collapsed": true
   },
   "outputs": [],
   "source": [
    "BASE_URL = \"http://www.cbrc.gov.cn/chinese/home/docViewPage/110010\""
   ]
  },
  {
   "cell_type": "code",
   "execution_count": 116,
   "metadata": {
    "collapsed": false
   },
   "outputs": [],
   "source": [
    "cbrc_urls = [BASE_URL+\"&current=%d\"%(i) for i in range(1, 48)]"
   ]
  },
  {
   "cell_type": "code",
   "execution_count": 117,
   "metadata": {
    "collapsed": false
   },
   "outputs": [
    {
     "data": {
      "text/plain": [
       "'http://www.cbrc.gov.cn/chinese/home/docViewPage/110010&current=1'"
      ]
     },
     "execution_count": 117,
     "metadata": {},
     "output_type": "execute_result"
    }
   ],
   "source": [
    "cbrc_urls[0]"
   ]
  },
  {
   "cell_type": "code",
   "execution_count": 118,
   "metadata": {
    "collapsed": true
   },
   "outputs": [],
   "source": [
    "conn = httplib.HTTPConnection(\"www.cbrc.gov.cn\")\n",
    "conn.request('GET', cbrc_urls[0])\n",
    "response = conn.getresponse()\n",
    "text = response.read()\n",
    "soup = BeautifulSoup(text, 'html.parser')"
   ]
  },
  {
   "cell_type": "code",
   "execution_count": 129,
   "metadata": {
    "collapsed": false
   },
   "outputs": [],
   "source": [
    "article_list = soup.find(class_='xia3')"
   ]
  },
  {
   "cell_type": "code",
   "execution_count": 144,
   "metadata": {
    "collapsed": false
   },
   "outputs": [
    {
     "name": "stdout",
     "output_type": "stream",
     "text": [
      "http://www.cbrc.gov.cn/chinese/home/docView/A5A5F5AB66FA4E74A9988D07C79B7BCB.html 2017-02-23\n",
      "http://www.cbrc.gov.cn/chinese/home/docView/ADBA919718424013997B848840730EB1.html 2017-02-23\n",
      "http://www.cbrc.gov.cn/chinese/home/docView/A87C58E504A94A33B6170991876898D5.html 2017-02-22\n",
      "http://www.cbrc.gov.cn/chinese/home/docView/5E976810FF264772823F2AEC43F26E0B.html 2017-01-25\n",
      "http://www.cbrc.gov.cn/chinese/home/docView/F8939136D6E6448FA02133740A3B83A8.html 2017-01-25\n",
      "http://www.cbrc.gov.cn/chinese/home/docView/BCDB6F2FAC0949859D3DCC1F2FD404A5.html 2017-01-25\n",
      "http://www.cbrc.gov.cn/chinese/home/docView/F403DBAF904B4EE8821D6B57CC4456E0.html 2017-01-22\n",
      "http://www.cbrc.gov.cn/chinese/home/docView/1158BD62E1844D8E97E540EF273B09D6.html 2017-01-20\n",
      "http://www.cbrc.gov.cn/chinese/home/docView/51CFA8D1246C491EB8E9EEA1275E1AD4.html 2017-01-10\n",
      "http://www.cbrc.gov.cn/chinese/home/docView/94A26309FD344DE0883B1203B0B9F5F4.html 2017-01-05\n",
      "http://www.cbrc.gov.cn/chinese/home/docView/70F9630D9F1F492B973D001EDDBC2A97.html 2016-12-29\n",
      "http://www.cbrc.gov.cn/chinese/home/docView/DADCC466D2A34396B4B0B9C79D534B6E.html 2016-12-16\n",
      "http://www.cbrc.gov.cn/chinese/home/docView/5D0BF7975917404285C0B731D4E893AC.html 2016-12-16\n",
      "http://www.cbrc.gov.cn/chinese/home/docView/C0AF420DB6A84DD8A897F7C444155245.html 2016-12-16\n",
      "http://www.cbrc.gov.cn/chinese/home/docView/FD11A306FD8A45DFA2A503A13B50B5E1.html 2016-12-15\n",
      "http://www.cbrc.gov.cn/chinese/home/docView/AB0D2BAF3CA34BCFB928155AA4E2346C.html 2016-12-12\n",
      "http://www.cbrc.gov.cn/chinese/home/docView/8746B0DAA66341FFAD93E918FF21F434.html 2016-12-08\n",
      "http://www.cbrc.gov.cn/chinese/home/docView/D69A918F99B34FD0A88B56E019072506.html 2016-11-28\n",
      "http://www.cbrc.gov.cn/chinese/home/docView/6452110883264208A76236C4B99EC8F7.html 2016-11-28\n",
      "http://www.cbrc.gov.cn/chinese/home/docView/A71FCE3F24EA4153A0AA7FDDE466EA93.html 2016-11-23\n",
      "http://www.cbrc.gov.cn/chinese/home/docView/8661C8A7547348878300022356B705E3.html 2016-11-22\n",
      "http://www.cbrc.gov.cn/chinese/home/docView/5D7AE5719B3547CA8C09AA808B59D06C.html 2016-11-10\n",
      "http://www.cbrc.gov.cn/chinese/home/docView/3320AEA64A3E42D0BEB843D7FA037337.html 2016-11-09\n",
      "http://www.cbrc.gov.cn/chinese/home/docView/C0DE4E883B7447F1827F9B84E3E2CD12.html 2016-10-28\n",
      "http://www.cbrc.gov.cn/chinese/home/docView/2FAF899348334455B4843BAC93FC4552.html 2016-10-26\n",
      "http://www.cbrc.gov.cn/chinese/home/docView/B4D4E890B0624F33BCEC734B8B7B6C6C.html 2016-10-26\n",
      "http://www.cbrc.gov.cn/chinese/home/docView/6B433C5475F248D0B5E4A9D8143B1348.html 2016-10-22\n",
      "http://www.cbrc.gov.cn/chinese/home/docView/6DB7A0C8EBF3481F967982ADF7722FAC.html 2016-10-13\n",
      "http://www.cbrc.gov.cn/chinese/home/docView/1725BD97B8B44883B17A70EA319D98BE.html 2016-10-13\n",
      "http://www.cbrc.gov.cn/chinese/home/docView/CD9FB09B61174083AD3CD34DC54FCC02.html 2016-10-13\n",
      "http://www.cbrc.gov.cn/chinese/home/docView/44D69456E0D0494081DD2DBB4AA483A8.html 2016-10-13\n",
      "http://www.cbrc.gov.cn/chinese/home/docView/E23BF9D2DBD04C2E8430A4CC396ECCD8.html 2016-10-09\n",
      "http://www.cbrc.gov.cn/chinese/home/docView/89ABDA2B659D4A178F1CCF146B7529F0.html 2016-09-30\n",
      "http://www.cbrc.gov.cn/chinese/home/docView/D09AD255AB7641ED842D7344419CC688.html 2016-09-30\n",
      "http://www.cbrc.gov.cn/chinese/home/docView/4858130B54634833B86CF602FAC0F1B2.html 2016-09-20\n",
      "http://www.cbrc.gov.cn110010&current=2 (1-35) 1/47 首页  上页  下页 末页 跳转到页\n"
     ]
    }
   ],
   "source": [
    "for li in article_list.findAll(\"tr\"):\n",
    "    item = li.find('a')\n",
    "    print \"http://www.cbrc.gov.cn\" + item.get('href'), li.findAll('td')[-1].get_text().strip()"
   ]
  },
  {
   "cell_type": "code",
   "execution_count": 175,
   "metadata": {
    "collapsed": true
   },
   "outputs": [],
   "source": [
    "article_url = \"http://www.cbrc.gov.cn/chinese/home/docView/201110283527687FCFCC944BFF47A4DC3C18A500.html\""
   ]
  },
  {
   "cell_type": "code",
   "execution_count": 176,
   "metadata": {
    "collapsed": true
   },
   "outputs": [],
   "source": [
    "conn = httplib.HTTPConnection(\"www.cbrc.gov.cn\")\n",
    "conn.request('GET', article_url)\n",
    "response = conn.getresponse()\n",
    "text = response.read()\n",
    "soup = BeautifulSoup(text, 'html.parser')"
   ]
  },
  {
   "cell_type": "code",
   "execution_count": 177,
   "metadata": {
    "collapsed": false
   },
   "outputs": [
    {
     "name": "stdout",
     "output_type": "stream",
     "text": [
      "刘明康在2011年全国城市商业银行工作会议上强调 明确市场定位 提高小型微型企业金融服务水平\n"
     ]
    }
   ],
   "source": [
    "print soup.title.string"
   ]
  },
  {
   "cell_type": "code",
   "execution_count": 179,
   "metadata": {
    "collapsed": false
   },
   "outputs": [
    {
     "name": "stdout",
     "output_type": "stream",
     "text": [
      "\n",
      "\n",
      "\n",
      "\n",
      "\n",
      "\n",
      "\n",
      "\n",
      "\n",
      "\n",
      "\n",
      "\n",
      "\n",
      "\n",
      "\n",
      "\n",
      "\n",
      "\n",
      "\n",
      "\n",
      "\n",
      "   \r\n",
      "\t\t\t \t\t\t\t  \r\n",
      "刘明康在2011年全国城市商业银行工作会议上强调\n",
      "明确市场定位 提高小型微型企业金融服务水平 \n",
      "10月28日，2011年全国城市商业银行工作会议在京召开，中国银监会党委书记、主席刘明康出席会议并做重要讲话。他强调，城市商业银行要明确市场定位，以小型微型企业为主要服务对象，加快产品和服务创新，不断提高小型微型企业金融服务的能力和水平。\n",
      "刘明康深入分析了国际国内经济金融形势以及对中国银行业的深刻影响，肯定了城市商业银行近年来改革发展取得的成效。近年来，城市商业银行坚守风险底线，各项监管指标持续向好。截至2011年9月末，城市商业银行不良贷款率0.79%，比年初下降0.12个百分点，拨备覆盖率298.69%；平均资本充足率13.03%，流动性指标普遍较好,各项监管指标达到历史同期最好水平，整体保持了良好稳健的发展态势。面对复杂多变的国内外经济金融形势，城市商业银行在监管部门的政策引领和地方政府的支持下，通过自身努力，逐渐成长为我国金融领域中一支充满活力、具有竞争力的生力军，为助推我国国民经济发展、扶持小型微型企业成长壮大做出了重要贡献。截至2011年9月末，全国城市商业银行资产总额达8.96万亿元，其中贷款余额达4.17万亿元； 对中小企业贷款余额超过2.5万亿元，约占全部企业贷款余额的80%，其中小型微型企业贷款余额超过1.6亿元，占全部企业贷款的51.71%，较去年同期增长43.69%，比全部贷款平均增速高20.99个百分点，较年初增加3069亿元，比上年同期增量多314亿元，已连续三年实现“两个不低于”目标。\n",
      "刘明康指出，城市商业银行要坚持“立足本地、服务小微、打牢基础、形成特色、错位竞争”，进一步明确市场定位，抓紧制定和实施科学的发展战略，加快推进转型，坚定不移地走差异化、特色化、社区化发展道路。要不断完善公司治理机制，改善绩效考核，加强董事会建设，进一步优化股权结构，强化信息披露和透明度。 \n",
      "刘明康强调，城市商业银行要进一步优化信贷结构，把小型微型企业作为主要的服务对象和信贷支持重点。银监会等部门相继出台了一系列差别化监管和激励政策，为银行业金融机构进一步提高服务小型微型企业的能力创造了宽松的政策环境。城市商业银行要抓住机遇，立足本地、服务小微、打牢基础、形成特色、错位竞争，加快产品和服务创新，不断提高对小型微型企业金融服务的水平和能力。\n",
      "刘明康要求，城市商业银行要抓好重点风险防控，持续加强风险管理体系建设。要密切关注宏观调控政策变化，结合自身发展战略和市场定位，持续推进资产负债结构优化，切实加强流动性风险防控；密切关注国内外经济金融形势变化，严格执行“三个办法、一个指引”和贷款“三查”制度，强化信用风险管理；完善内审稽核等内部机制建设，强化责任追究，全面防控案件风险。\n",
      "中国银监会党委委员、主席助理阎庆民出席会议并讲话，强调城市商业银行要强化忧患意识、使命意识、服务意识和自律意识，突出加强制定清晰科学的战略规划，加快建设先进实用的管理信息系统，努力打造专业尽职的人才队伍。要加强属地监管，充实监管人员，突出重点风险管控，严格落实各项监管要求，持续提高城市商业银行监管有效性。要通过努力，继续巩固扩大改革发展成果，着力提升管理和服务水平，在实现自身稳健发展的同时，为经济社会又好又快发展做出应有的贡献。\n",
      "各银监局负责同志，全国145家城市商业银行董事长和行长参加会议。\n",
      "\n",
      "\n",
      "\n",
      "\n",
      "\n",
      "\n",
      "\n",
      "\n",
      "\n",
      "\n",
      "\n",
      "\n"
     ]
    }
   ],
   "source": [
    "print soup.find(class_=\"n_cent\").get_text()"
   ]
  },
  {
   "cell_type": "markdown",
   "metadata": {},
   "source": [
    "# 保监会"
   ]
  },
  {
   "cell_type": "code",
   "execution_count": 180,
   "metadata": {
    "collapsed": true
   },
   "outputs": [],
   "source": [
    "BASE_URL = \"http://www.circ.gov.cn/web/site0/tab5207/module14337\""
   ]
  },
  {
   "cell_type": "code",
   "execution_count": 181,
   "metadata": {
    "collapsed": true
   },
   "outputs": [],
   "source": [
    "circ_urls = [BASE_URL+\"/page%d.htm\"%(i) for i in range(1, 48)]"
   ]
  },
  {
   "cell_type": "code",
   "execution_count": 203,
   "metadata": {
    "collapsed": false
   },
   "outputs": [
    {
     "data": {
      "text/plain": [
       "'http://www.circ.gov.cn/web/site0/tab5207/module14337/page1.htm'"
      ]
     },
     "execution_count": 203,
     "metadata": {},
     "output_type": "execute_result"
    },
    {
     "name": "stdout",
     "output_type": "stream",
     "text": [
      "\n"
     ]
    }
   ],
   "source": [
    "circ_urls[0]"
   ]
  },
  {
   "cell_type": "code",
   "execution_count": 204,
   "metadata": {
    "collapsed": true
   },
   "outputs": [],
   "source": [
    "conn = httplib.HTTPConnection(\"www.circ.gov.cn\")\n",
    "conn.request('GET', circ_urls[0])\n",
    "response = conn.getresponse()\n",
    "text = response.read()\n",
    "soup = BeautifulSoup(text, 'html.parser')"
   ]
  },
  {
   "cell_type": "code",
   "execution_count": 205,
   "metadata": {
    "collapsed": false
   },
   "outputs": [],
   "source": [
    "article_list = soup.find(class_=\"muban1\")"
   ]
  },
  {
   "cell_type": "code",
   "execution_count": 213,
   "metadata": {
    "collapsed": false
   },
   "outputs": [
    {
     "name": "stdout",
     "output_type": "stream",
     "text": [
      "www.circ.gov.cn/web/site0/tab5207/info4060471.htm 2017-02-25\n",
      "www.circ.gov.cn/web/site0/tab5207/info4060471.htm 2017-02-25\n",
      "www.circ.gov.cn/web/site0/tab5207/info4060447.htm 2017-02-24\n",
      "www.circ.gov.cn/web/site0/tab5207/info4060447.htm 2017-02-24\n",
      "www.circ.gov.cn/web/site0/tab5207/info4060272.htm 2017-02-23\n",
      "www.circ.gov.cn/web/site0/tab5207/info4060272.htm 2017-02-23\n",
      "www.circ.gov.cn/web/site0/tab5207/info4059917.htm 2017-02-21\n",
      "www.circ.gov.cn/web/site0/tab5207/info4059917.htm 2017-02-21\n",
      "www.circ.gov.cn/web/site0/tab5207/info4059851.htm 2017-02-17\n",
      "www.circ.gov.cn/web/site0/tab5207/info4059851.htm 2017-02-17\n",
      "www.circ.gov.cn/web/site0/tab5207/info4059808.htm 2017-02-17\n",
      "www.circ.gov.cn/web/site0/tab5207/info4059808.htm 2017-02-17\n",
      "www.circ.gov.cn/web/site0/tab5207/info4059509.htm 2017-02-15\n",
      "www.circ.gov.cn/web/site0/tab5207/info4059509.htm 2017-02-15\n",
      "www.circ.gov.cn/web/site0/tab5207/info4059362.htm 2017-02-14\n",
      "www.circ.gov.cn/web/site0/tab5207/info4059362.htm 2017-02-14\n",
      "www.circ.gov.cn/web/site0/tab5207/info4059021.htm 2017-02-09\n",
      "www.circ.gov.cn/web/site0/tab5207/info4059021.htm 2017-02-09\n",
      "www.circ.gov.cn/web/site0/tab5207/info4058263.htm 2017-01-24\n",
      "www.circ.gov.cn/web/site0/tab5207/info4058263.htm 2017-01-24\n",
      "www.circ.gov.cn/web/site0/tab5207/info4057544.htm 2017-01-20\n",
      "www.circ.gov.cn/web/site0/tab5207/info4057544.htm 2017-01-20\n",
      "www.circ.gov.cn/web/site0/tab5207/info4057417.htm 2017-01-18\n",
      "www.circ.gov.cn/web/site0/tab5207/info4057417.htm 2017-01-18\n",
      "www.circ.gov.cn/web/site0/tab5207/info4057415.htm 2017-01-18\n",
      "www.circ.gov.cn/web/site0/tab5207/info4057415.htm 2017-01-18\n",
      "www.circ.gov.cn/web/site0/tab5207/info4056969.htm 2017-01-14\n",
      "www.circ.gov.cn/web/site0/tab5207/info4056969.htm 2017-01-14\n",
      "www.circ.gov.cn/web/site0/tab5207/info4056968.htm 2017-01-14\n",
      "www.circ.gov.cn/web/site0/tab5207/info4056968.htm 2017-01-14\n",
      "www.circ.gov.cn/web/site0/tab5207/info4056759.htm 2017-01-12\n",
      "www.circ.gov.cn/web/site0/tab5207/info4056759.htm 2017-01-12\n",
      "www.circ.gov.cn/web/site0/tab5207/info4056757.htm 2017-01-12\n",
      "www.circ.gov.cn/web/site0/tab5207/info4056757.htm 2017-01-12\n",
      "www.circ.gov.cn/web/site0/tab5207/info4056754.htm 2017-01-12\n",
      "www.circ.gov.cn/web/site0/tab5207/info4056754.htm 2017-01-12\n",
      "www.circ.gov.cn/web/site0/tab5207/info4056708.htm 2017-01-12\n",
      "www.circ.gov.cn/web/site0/tab5207/info4056708.htm 2017-01-12\n",
      "www.circ.gov.cn/web/site0/tab5207/info4056412.htm 2017-01-10\n",
      "www.circ.gov.cn/web/site0/tab5207/info4056412.htm 2017-01-10\n"
     ]
    }
   ],
   "source": [
    "for li in article_list.findAll(\"tr\"):\n",
    "    item = li.find('a')\n",
    "    if item.get(\"href\") != None:\n",
    "        date = li.findAll(\"td\")[-1].get_text()\n",
    "        if date[0] == '(':\n",
    "            date = '20' + date.lstrip('(').rstrip(')')\n",
    "            print \"www.circ.gov.cn\" + item.get('href'), date"
   ]
  },
  {
   "cell_type": "code",
   "execution_count": 218,
   "metadata": {
    "collapsed": true
   },
   "outputs": [],
   "source": [
    "article_url = \"http://www.circ.gov.cn/web/site0/tab5207/info4060471.htm\""
   ]
  },
  {
   "cell_type": "code",
   "execution_count": 219,
   "metadata": {
    "collapsed": false
   },
   "outputs": [],
   "source": [
    "conn = httplib.HTTPConnection(\"www.circ.gov.cn\")\n",
    "conn.request('GET', article_url)\n",
    "response = conn.getresponse()\n",
    "text = response.read()\n",
    "soup = BeautifulSoup(text, 'html.parser')"
   ]
  },
  {
   "cell_type": "code",
   "execution_count": 220,
   "metadata": {
    "collapsed": false
   },
   "outputs": [
    {
     "name": "stdout",
     "output_type": "stream",
     "text": [
      "\r\n",
      "\t中国保监会对恒大人寿资金运用违规行为进行处罚 - 中国保险监督管理委员会\r\n",
      "\n"
     ]
    }
   ],
   "source": [
    "print soup.title.string"
   ]
  },
  {
   "cell_type": "code",
   "execution_count": 221,
   "metadata": {
    "collapsed": false
   },
   "outputs": [
    {
     "name": "stdout",
     "output_type": "stream",
     "text": [
      "  日前，保监会根据现场检查中发现的恒大人寿股票投资等方面存在的违规行为，依法给予该公司限制股票投资一年、两名责任人分别行业禁入五年和三年的行政处罚决定。此外，还对该公司采取下调权益类资产投资比例上限至20%、责令撤换另两名相关责任人、责令就有关问题进行整改等三项监管措施。   近年来，保监会切实加强保险资金运用监管和风险防范工作，连续出台保险资金运用内控指引、信息披露、资产负债匹配管理、进一步规范股票投资等一系列的制度，同时加大非现场监测和现场检查力度，对有关公司采取风险提示、约谈主要负责人、下发监管函、暂停股票委托投资资格等监管举措。2016年12月，保监会派出检查组对恒大人寿开展现场检查，发现该公司存在未按监管规定开展股票委托投资业务、投资内控管理薄弱等问题，在深入调查取证的基础上，保监会按照法定程序和《保险法》等法律法规的有关规定，作出上述行政处罚及监管措施决定。   保监会始终将防范保险资金运用风险放在监管工作的重要位置，督促保险机构开展价值投资、长期投资和稳健投资。保监会将继续牢牢把握保险资金运用改革发展的总体方向，加大制度规范以及风险防范相关工作力度，引导保险资金更好地服务主业和社会经济发展。 \n"
     ]
    }
   ],
   "source": [
    "print soup.find(id=\"zoom\").get_text()"
   ]
  },
  {
   "cell_type": "code",
   "execution_count": null,
   "metadata": {
    "collapsed": true
   },
   "outputs": [],
   "source": []
  },
  {
   "cell_type": "markdown",
   "metadata": {},
   "source": [
    "# 中国人民银行"
   ]
  },
  {
   "cell_type": "code",
   "execution_count": 232,
   "metadata": {
    "collapsed": true
   },
   "outputs": [],
   "source": [
    "base_url = \"http://www.pbc.gov.cn/goutongjiaoliu/113456/113469/11040/\""
   ]
  },
  {
   "cell_type": "code",
   "execution_count": 233,
   "metadata": {
    "collapsed": true
   },
   "outputs": [],
   "source": [
    "pbc_urls = [base_url+\"index%d.html\"%(i) for i in range(1, 189)]"
   ]
  },
  {
   "cell_type": "code",
   "execution_count": 234,
   "metadata": {
    "collapsed": false
   },
   "outputs": [
    {
     "data": {
      "text/plain": [
       "'http://www.pbc.gov.cn/goutongjiaoliu/113456/113469/11040/index1.html'"
      ]
     },
     "execution_count": 234,
     "metadata": {},
     "output_type": "execute_result"
    }
   ],
   "source": [
    "pbc_urls[0]"
   ]
  },
  {
   "cell_type": "code",
   "execution_count": 235,
   "metadata": {
    "collapsed": false
   },
   "outputs": [],
   "source": [
    "conn = httplib.HTTPConnection(\"www.pbc.gov.cn\")\n",
    "conn.request('GET', pbc_urls[0])\n",
    "response = conn.getresponse()\n",
    "text = response.read()\n",
    "soup = BeautifulSoup(text, 'html.parser')"
   ]
  },
  {
   "cell_type": "code",
   "execution_count": 237,
   "metadata": {
    "collapsed": false
   },
   "outputs": [
    {
     "data": {
      "text/plain": [
       "[]"
      ]
     },
     "execution_count": 237,
     "metadata": {},
     "output_type": "execute_result"
    }
   ],
   "source": [
    "soup.findAll('table')"
   ]
  },
  {
   "cell_type": "code",
   "execution_count": null,
   "metadata": {
    "collapsed": true
   },
   "outputs": [],
   "source": []
  },
  {
   "cell_type": "code",
   "execution_count": null,
   "metadata": {
    "collapsed": true
   },
   "outputs": [],
   "source": []
  },
  {
   "cell_type": "code",
   "execution_count": null,
   "metadata": {
    "collapsed": true
   },
   "outputs": [],
   "source": []
  },
  {
   "cell_type": "code",
   "execution_count": null,
   "metadata": {
    "collapsed": true
   },
   "outputs": [],
   "source": []
  },
  {
   "cell_type": "code",
   "execution_count": null,
   "metadata": {
    "collapsed": true
   },
   "outputs": [],
   "source": []
  },
  {
   "cell_type": "code",
   "execution_count": null,
   "metadata": {
    "collapsed": true
   },
   "outputs": [],
   "source": []
  },
  {
   "cell_type": "code",
   "execution_count": null,
   "metadata": {
    "collapsed": true
   },
   "outputs": [],
   "source": []
  },
  {
   "cell_type": "code",
   "execution_count": null,
   "metadata": {
    "collapsed": true
   },
   "outputs": [],
   "source": []
  },
  {
   "cell_type": "code",
   "execution_count": null,
   "metadata": {
    "collapsed": true
   },
   "outputs": [],
   "source": []
  },
  {
   "cell_type": "code",
   "execution_count": null,
   "metadata": {
    "collapsed": true
   },
   "outputs": [],
   "source": []
  },
  {
   "cell_type": "code",
   "execution_count": null,
   "metadata": {
    "collapsed": true
   },
   "outputs": [],
   "source": []
  },
  {
   "cell_type": "code",
   "execution_count": 14,
   "metadata": {
    "collapsed": true
   },
   "outputs": [],
   "source": [
    "base_url = \"http://news.cnstock.com/news/sns_yw/1\""
   ]
  },
  {
   "cell_type": "code",
   "execution_count": 15,
   "metadata": {
    "collapsed": true
   },
   "outputs": [],
   "source": [
    "conn = httplib.HTTPConnection(\"news.cnstock.com\")\n",
    "conn.request('GET', base_url)\n",
    "response = conn.getresponse()\n",
    "text = response.read()\n",
    "soup = BeautifulSoup(text, 'html.parser')"
   ]
  },
  {
   "cell_type": "code",
   "execution_count": 110,
   "metadata": {
    "collapsed": false
   },
   "outputs": [],
   "source": [
    "new_list = soup.find(class_=\"new-list article-mini\")"
   ]
  },
  {
   "cell_type": "code",
   "execution_count": 111,
   "metadata": {
    "collapsed": false
   },
   "outputs": [
    {
     "name": "stdout",
     "output_type": "stream",
     "text": [
      "<a href=\"http://news.cnstock.com/news/sns_yw/201607/3857671.htm\" target=\"_blank\" title=\"银行理财新规仍在内部论证 股市或“反应过度”\">银行理财新规仍在内部论证 股市或“反应过度”</a>\n",
      "http://news.cnstock.com/news/sns_yw/201607/3857671.htm 银行理财新规仍在内部论证 股市或“反应过度”\n",
      "[2016-07-29 06:58]\n",
      "<a href=\"http://news.cnstock.com/news/sns_yw/201607/3858195.htm\" target=\"_blank\" title=\"两市股指早盘弱势震荡 后市仍以存量博弈为主\">两市股指早盘弱势震荡 后市仍以存量博弈为主</a>\n",
      "http://news.cnstock.com/news/sns_yw/201607/3858195.htm 两市股指早盘弱势震荡 后市仍以存量博弈为主\n",
      "[2016-07-29 09:50]\n",
      "<a href=\"http://news.cnstock.com/event/16wkgqzd\" target=\"_blank\" title=\"华生：万科独立董事并非摆设 能够发挥作用\">华生：万科独立董事并非摆设 能够发挥作用</a>\n",
      "http://news.cnstock.com/event/16wkgqzd 华生：万科独立董事并非摆设 能够发挥作用\n",
      "[2016-07-29 07:32]\n",
      "<a href=\"http://news.cnstock.com/news/sns_bwkx/201607/3858122.htm\" target=\"_blank\" title=\"29日人民币对美元汇率中间价升值86点\">29日人民币对美元汇率中间价升值86点</a>\n",
      "http://news.cnstock.com/news/sns_bwkx/201607/3858122.htm 29日人民币对美元汇率中间价升值86点\n",
      "[2016-07-29 10:11]\n",
      "<a href=\"http://news.cnstock.com/news/sns_bwkx/201607/3858237.htm\" target=\"_blank\" title=\"央行开展700亿逆回购 本周如期延续资金净投放\">央行开展700亿逆回购 本周如期延续资金净投放</a>\n",
      "http://news.cnstock.com/news/sns_bwkx/201607/3858237.htm 央行开展700亿逆回购 本周如期延续资金净投放\n",
      "[2016-07-29 10:11]\n",
      "None\n",
      "<a href=\"http://news.cnstock.com/news/sns_yw/201607/3857685.htm\" target=\"_blank\" title=\"三家IPO公司今上会 审核趋严多项问题待考\">三家IPO公司今上会 审核趋严多项问题待考</a>\n",
      "http://news.cnstock.com/news/sns_yw/201607/3857685.htm 三家IPO公司今上会 审核趋严多项问题待考\n",
      "[2016-07-29 07:19]\n",
      "<a href=\"http://news.cnstock.com/industry/sid_rdjj/201607/3857762.htm\" target=\"_blank\" title=\"网约车终获合法身份 厘清三大焦点 万亿出行市场打开\">网约车终获合法身份 厘清三大焦点 万亿出行市场打开</a>\n",
      "http://news.cnstock.com/industry/sid_rdjj/201607/3857762.htm 网约车终获合法身份 厘清三大焦点 万亿出行市场打开\n",
      "[2016-07-29 08:16]\n",
      "<a href=\"http://news.cnstock.com/news/sns_yw/201607/3857793.htm\" target=\"_blank\" title=\"美股涨跌不一 国际油价跌近2%\">美股涨跌不一 国际油价跌近2%</a>\n",
      "http://news.cnstock.com/news/sns_yw/201607/3857793.htm 美股涨跌不一 国际油价跌近2%\n",
      "[2016-07-29 07:56]\n",
      "<a href=\"http://news.cnstock.com/news/sns_yw/201607/3857725.htm\" target=\"_blank\" title=\"再出发！国务院重点督导7地民间投资\">再出发！国务院重点督导7地民间投资</a>\n",
      "http://news.cnstock.com/news/sns_yw/201607/3857725.htm 再出发！国务院重点督导7地民间投资\n",
      "[2016-07-29 07:37]\n",
      "<a href=\"http://news.cnstock.com/news/sns_yw/201607/3858026.htm\" target=\"_blank\" title=\"上半年50大城市土地出让金接近万亿 同比上涨38.5%\">上半年50大城市土地出让金接近万亿 同比上涨38.5%</a>\n",
      "http://news.cnstock.com/news/sns_yw/201607/3858026.htm 上半年50大城市土地出让金接近万亿 同比上涨38.5%\n",
      "[2016-07-29 08:46]\n",
      "None\n",
      "<a href=\"http://news.cnstock.com/news/sns_yw/201607/3857710.htm\" target=\"_blank\" title=\"抑制资产泡沫出重手 房地产再融资严禁买地及还贷\">抑制资产泡沫出重手 房地产再融资严禁买地及还贷</a>\n",
      "http://news.cnstock.com/news/sns_yw/201607/3857710.htm 抑制资产泡沫出重手 房地产再融资严禁买地及还贷\n",
      "[2016-07-29 07:29]\n",
      "<a href=\"http://news.cnstock.com/news/sns_yw/201607/3857706.htm\" target=\"_blank\" title=\"上市公司再融资方案被“框定”\">上市公司再融资方案被“框定”</a>\n",
      "http://news.cnstock.com/news/sns_yw/201607/3857706.htm 上市公司再融资方案被“框定”\n",
      "[2016-07-29 07:28]\n",
      "<a href=\"http://news.cnstock.com/news/sns_yw/201607/3857702.htm\" target=\"_blank\" title=\"地方经济半年报：投资仍是主要抓手\">地方经济半年报：投资仍是主要抓手</a>\n",
      "http://news.cnstock.com/news/sns_yw/201607/3857702.htm 地方经济半年报：投资仍是主要抓手\n",
      "[2016-07-29 07:26]\n",
      "<a href=\"http://news.cnstock.com/news/sns_yw/201607/3857690.htm\" target=\"_blank\" title=\"副省长密集调研国企 江苏国资改革提速\">副省长密集调研国企 江苏国资改革提速</a>\n",
      "http://news.cnstock.com/news/sns_yw/201607/3857690.htm 副省长密集调研国企 江苏国资改革提速\n",
      "[2016-07-29 07:20]\n",
      "<a href=\"http://news.cnstock.com/news/sns_yw/201607/3857686.htm\" target=\"_blank\" title=\"大盘显露自愈力 “猛虎区”下车非良策\">大盘显露自愈力 “猛虎区”下车非良策</a>\n",
      "http://news.cnstock.com/news/sns_yw/201607/3857686.htm 大盘显露自愈力 “猛虎区”下车非良策\n",
      "[2016-07-29 07:20]\n",
      "None\n",
      "<a href=\"http://news.cnstock.com/news/sns_yw/201607/3857677.htm\" target=\"_blank\" title=\"场内股权质押融资规模首超9000亿元\">场内股权质押融资规模首超9000亿元</a>\n",
      "http://news.cnstock.com/news/sns_yw/201607/3857677.htm 场内股权质押融资规模首超9000亿元\n",
      "[2016-07-29 07:08]\n",
      "<a href=\"http://news.cnstock.com/news/sns_yw/201607/3857675.htm\" target=\"_blank\" title=\"*欣泰撬板资金“一日游”\">*欣泰撬板资金“一日游”</a>\n",
      "http://news.cnstock.com/news/sns_yw/201607/3857675.htm *欣泰撬板资金“一日游”\n",
      "[2016-07-29 07:06]\n",
      "<a href=\"http://news.cnstock.com/news/sns_yw/201607/3857673.htm\" target=\"_blank\" title=\"高净值人群占比增加 银行资管深耕权益类配置\">高净值人群占比增加 银行资管深耕权益类配置</a>\n",
      "http://news.cnstock.com/news/sns_yw/201607/3857673.htm 高净值人群占比增加 银行资管深耕权益类配置\n",
      "[2016-07-29 07:00]\n",
      "<a href=\"http://news.cnstock.com/news/sns_bwkx/201607/3857543.htm\" target=\"_blank\" title=\"银监会：商业银行理财业务监管办法仍处内部论证阶段\">银监会：商业银行理财业务监管办法仍处内部论证阶段</a>\n",
      "http://news.cnstock.com/news/sns_bwkx/201607/3857543.htm 银监会：商业银行理财业务监管办法仍处内部论证阶段\n",
      "[2016-07-28 20:10]\n",
      "<a href=\"http://news.cnstock.com/news/sns_bwkx/201607/3857252.htm\" target=\"_blank\" title=\"沪指震荡收阳 存量博弈继续\">沪指震荡收阳 存量博弈继续</a>\n",
      "http://news.cnstock.com/news/sns_bwkx/201607/3857252.htm 沪指震荡收阳 存量博弈继续\n",
      "[2016-07-28 17:32]\n",
      "None\n",
      "<a href=\"http://news.cnstock.com/news/sns_bwkx/201607/3857196.htm\" target=\"_blank\" title=\"商务部召开深改小组会议 部署下半年四项工作\">商务部召开深改小组会议 部署下半年四项工作</a>\n",
      "http://news.cnstock.com/news/sns_bwkx/201607/3857196.htm 商务部召开深改小组会议 部署下半年四项工作\n",
      "[2016-07-28 17:31]\n",
      "<a href=\"http://news.cnstock.com/news/sns_bwkx/201607/3857188.htm\" target=\"_blank\" title=\"发改委：上半年全国铁路货运量降幅收窄\">发改委：上半年全国铁路货运量降幅收窄</a>\n",
      "http://news.cnstock.com/news/sns_bwkx/201607/3857188.htm 发改委：上半年全国铁路货运量降幅收窄\n",
      "[2016-07-28 17:31]\n",
      "<a href=\"http://news.cnstock.com/news/sns_bwkx/201607/3857262.htm\" target=\"_blank\" title=\"我国正式明确网约车合法地位 实行市场调节价\">我国正式明确网约车合法地位 实行市场调节价</a>\n",
      "http://news.cnstock.com/news/sns_bwkx/201607/3857262.htm 我国正式明确网约车合法地位 实行市场调节价\n",
      "[2016-07-28 16:16]\n",
      "<a href=\"http://news.cnstock.com/news/sns_yw/201607/3857269.htm\" target=\"_blank\" title=\"蔡名照获联合国艾滋病规划署“杰出领导与创新者奖”\">蔡名照获联合国艾滋病规划署“杰出领导与创新者奖”</a>\n",
      "http://news.cnstock.com/news/sns_yw/201607/3857269.htm 蔡名照获联合国艾滋病规划署“杰出领导与创新者奖”\n",
      "[2016-07-28 15:27]\n",
      "<a href=\"http://news.cnstock.com/news/sns_yw/201607/3857245.htm\" target=\"_blank\" title=\"百亿不良贷款即将证券化\">百亿不良贷款即将证券化</a>\n",
      "http://news.cnstock.com/news/sns_yw/201607/3857245.htm 百亿不良贷款即将证券化\n",
      "[2016-07-28 15:08]\n",
      "None\n",
      "<a href=\"http://news.cnstock.com/industry/taojin/23.html\" target=\"_blank\" title=\"环保税法下月望首审 17万亿投资盛宴即将开席\">环保税法下月望首审 17万亿投资盛宴即将开席</a>\n",
      "http://news.cnstock.com/industry/taojin/23.html 环保税法下月望首审 17万亿投资盛宴即将开席\n",
      "[2016-07-28 19:36]\n",
      "<a href=\"http://news.cnstock.com/news/sns_bwkx/201607/3856901.htm\" target=\"_blank\" title=\"Shibor利率全线回落 央行逆回购量缩至800亿\">Shibor利率全线回落 央行逆回购量缩至800亿</a>\n",
      "http://news.cnstock.com/news/sns_bwkx/201607/3856901.htm Shibor利率全线回落 央行逆回购量缩至800亿\n",
      "[2016-07-28 10:10]\n",
      "<a href=\"http://news.cnstock.com/news/sns_yw/201607/3856340.htm\" target=\"_blank\" title=\"地方国企改革遍地开花 沪广深等地区望率先提速\">地方国企改革遍地开花 沪广深等地区望率先提速</a>\n",
      "http://news.cnstock.com/news/sns_yw/201607/3856340.htm 地方国企改革遍地开花 沪广深等地区望率先提速\n",
      "[2016-07-28 07:47]\n",
      "<a href=\"http://news.cnstock.com/news/sns_yw/201607/3856242.htm\" target=\"_blank\" title=\"大资金23秒定调涨停剧情 谁在撬动*欣泰？\">大资金23秒定调涨停剧情 谁在撬动*欣泰？</a>\n",
      "http://news.cnstock.com/news/sns_yw/201607/3856242.htm 大资金23秒定调涨停剧情 谁在撬动*欣泰？\n",
      "[2016-07-28 07:08]\n",
      "<a href=\"http://news.cnstock.com/news/sns_yw/201607/3856890.htm\" target=\"_blank\" title=\"两市股指尾盘迅速回升 沪指再度逼近3000点\">两市股指尾盘迅速回升 沪指再度逼近3000点</a>\n",
      "http://news.cnstock.com/news/sns_yw/201607/3856890.htm 两市股指尾盘迅速回升 沪指再度逼近3000点\n",
      "[2016-07-28 14:41]\n",
      "None\n"
     ]
    }
   ],
   "source": [
    "for li in new_list.findAll(\"li\"):\n",
    "    item = li.find(\"a\")\n",
    "    print item\n",
    "    if item == None:\n",
    "        continue\n",
    "    print item.get(\"href\"), item.get(\"title\")\n",
    "    print li.find(\"span\").get_text()"
   ]
  },
  {
   "cell_type": "code",
   "execution_count": 168,
   "metadata": {
    "collapsed": true
   },
   "outputs": [],
   "source": [
    "content_url = \"http://www.cs.com.cn/xwzx/hg/201412/t20141229_4603466.html\""
   ]
  },
  {
   "cell_type": "code",
   "execution_count": 169,
   "metadata": {
    "collapsed": true
   },
   "outputs": [],
   "source": [
    "conn = httplib.HTTPConnection(\"www.cs.com.cn\")\n",
    "conn.request('GET', content_url)\n",
    "response = conn.getresponse()\n",
    "text = response.read()\n",
    "soup = BeautifulSoup(text, 'html.parser')"
   ]
  },
  {
   "cell_type": "code",
   "execution_count": 175,
   "metadata": {
    "collapsed": false
   },
   "outputs": [],
   "source": [
    "doc = soup.prettify()"
   ]
  },
  {
   "cell_type": "code",
   "execution_count": 176,
   "metadata": {
    "collapsed": false
   },
   "outputs": [
    {
     "data": {
      "text/plain": [
       "13507"
      ]
     },
     "execution_count": 176,
     "metadata": {},
     "output_type": "execute_result"
    }
   ],
   "source": [
    "doc.find(\"countPage = \")"
   ]
  },
  {
   "cell_type": "code",
   "execution_count": 180,
   "metadata": {
    "collapsed": false
   },
   "outputs": [
    {
     "data": {
      "text/plain": [
       "u'5'"
      ]
     },
     "execution_count": 180,
     "metadata": {},
     "output_type": "execute_result"
    }
   ],
   "source": [
    "doc[doc.find(\"countPage = \") + 12]"
   ]
  },
  {
   "cell_type": "code",
   "execution_count": 190,
   "metadata": {
    "collapsed": true
   },
   "outputs": [],
   "source": [
    "base_url = \"http://www.cs.com.cn/xwzx/hg/\"\n",
    "start_id = 4603407\n",
    "end_id = 4603499\n",
    "# end_id = 5023425"
   ]
  },
  {
   "cell_type": "code",
   "execution_count": 191,
   "metadata": {
    "collapsed": false
   },
   "outputs": [],
   "source": [
    "start_date = datetime.date(2014, 12, 29)\n",
    "# end_date = datetime.date(2015, 1, 1)\n",
    "# print start_date, end_date\n",
    "# print start_date < end_date\n",
    "# print start_date + datetime.timedelta(1)\n",
    "# print \"%.2d\"%end_date.month"
   ]
  },
  {
   "cell_type": "code",
   "execution_count": 192,
   "metadata": {
    "collapsed": false
   },
   "outputs": [],
   "source": [
    "current = start_date\n",
    "conn = httplib.HTTPConnection(\"www.cs.com.cn\")\n",
    "valid_url = []\n",
    "for idx in range(start_id, end_id + 1):\n",
    "    url = base_url + \"%d%.2d/t%d%.2d%d_%d.html\" % \\\n",
    "    (current.year, current.month, current.year, current.month, current.day, idx)\n",
    "    conn.request('GET', url)\n",
    "    response = conn.getresponse()\n",
    "    text = response.read()\n",
    "    soup = BeautifulSoup(text, 'html.parser')\n",
    "    title = soup.title.string\n",
    "    if not title.startswith(\"302\"):\n",
    "        valid_url.append(url)\n",
    "    else:\n",
    "        try_next = current + datetime.timedelta(1)\n",
    "        url = base_url + \"%d%.2d/%d%.2d%d_%d.html\" % \\\n",
    "        (try_next.year, try_next.month, try_next.year, try_next.month, try_next.day, idx)\n",
    "        conn.request('GET', url)\n",
    "        response = conn.getresponse()\n",
    "        text = response.read()\n",
    "        soup = BeautifulSoup(text, 'html.parser')\n",
    "        title = soup.title.string\n",
    "        if not title.startswith(\"302\"):\n",
    "            valid_url.append(url)\n",
    "            current = try_next"
   ]
  },
  {
   "cell_type": "code",
   "execution_count": 193,
   "metadata": {
    "collapsed": false
   },
   "outputs": [
    {
     "data": {
      "text/plain": [
       "['http://www.cs.com.cn/xwzx/hg/201412/t20141229_4603407.html',\n",
       " 'http://www.cs.com.cn/xwzx/hg/201412/t20141229_4603455.html',\n",
       " 'http://www.cs.com.cn/xwzx/hg/201412/t20141229_4603466.html']"
      ]
     },
     "execution_count": 193,
     "metadata": {},
     "output_type": "execute_result"
    }
   ],
   "source": [
    "valid_url"
   ]
  },
  {
   "cell_type": "code",
   "execution_count": 196,
   "metadata": {
    "collapsed": true
   },
   "outputs": [],
   "source": [
    "pbc_url = [\"http://www.pbc.gov.cn/goutongjiaoliu/113456/113469/11040/index%d.html\" % i for i in range(1, 176)]"
   ]
  },
  {
   "cell_type": "code",
   "execution_count": 216,
   "metadata": {
    "collapsed": false
   },
   "outputs": [],
   "source": [
    "conn = httplib.HTTPConnection(\"sousuo.gov.cn\")\n",
    "conn.request('GET', \"http://sousuo.gov.cn/column/19423/0.htm\")\n",
    "response = conn.getresponse()\n",
    "text = response.read()\n",
    "soup = BeautifulSoup(text, 'html.parser')"
   ]
  },
  {
   "cell_type": "code",
   "execution_count": 223,
   "metadata": {
    "collapsed": false
   },
   "outputs": [],
   "source": [
    "listTxt = soup.find(class_=\"listTxt\")"
   ]
  },
  {
   "cell_type": "code",
   "execution_count": 226,
   "metadata": {
    "collapsed": false
   },
   "outputs": [
    {
     "name": "stdout",
     "output_type": "stream",
     "text": [
      "<a href=\"http://www.gov.cn/guowuyuan/2016-07/28/content_5095671.htm\" target=\"_blank\">刘延东将赴巴西出席里约奥运会开幕式并访问墨西哥</a>\n",
      "http://www.gov.cn/guowuyuan/2016-07/28/content_5095671.htm 刘延东将赴巴西出席里约奥运会开幕式并访问墨西哥\n",
      "2016-07-28 \n",
      "<a href=\"http://www.gov.cn/guowuyuan/2016-07/28/content_5095668.htm\" target=\"_blank\">刘延东会见世界卫生组织总干事陈冯富珍和联合国副秘书长、联合国艾滋病规划署执行主任西迪贝</a>\n",
      "http://www.gov.cn/guowuyuan/2016-07/28/content_5095668.htm 刘延东会见世界卫生组织总干事陈冯富珍和联合国副秘书长、联合国艾滋病规划署执行主任西迪贝\n",
      "2016-07-28 \n",
      "<a href=\"http://www.gov.cn/guowuyuan/2016-07/28/content_5095667.htm\" target=\"_blank\">汪洋:深入学习贯彻习近平总书记重要讲话精神 勇于担当真抓实干努力提高脱贫攻坚成效</a>\n",
      "http://www.gov.cn/guowuyuan/2016-07/28/content_5095667.htm 汪洋:深入学习贯彻习近平总书记重要讲话精神 勇于担当真抓实干努力提高脱贫攻坚成效\n",
      "2016-07-28 \n",
      "<a href=\"http://www.gov.cn/guowuyuan/2016-07/28/content_5095662.htm\" target=\"_blank\">杨洁篪会见乍得、苏丹、冈比亚客人</a>\n",
      "http://www.gov.cn/guowuyuan/2016-07/28/content_5095662.htm 杨洁篪会见乍得、苏丹、冈比亚客人\n",
      "2016-07-28 \n",
      "<a href=\"http://www.gov.cn/premier/2016-07/28/content_5095632.htm\" target=\"_blank\">国务院常务会议为何增添了这张“新面孔”?</a>\n",
      "http://www.gov.cn/premier/2016-07/28/content_5095632.htm 国务院常务会议为何增添了这张“新面孔”?\n",
      "2016-07-28 \n",
      "<a href=\"http://www.gov.cn/guowuyuan/2016-07/28/content_5095625.htm\" target=\"_blank\">张高丽会见苏丹总统助理、发展对华关系委员会副主席贾兹</a>\n",
      "http://www.gov.cn/guowuyuan/2016-07/28/content_5095625.htm 张高丽会见苏丹总统助理、发展对华关系委员会副主席贾兹\n",
      "2016-07-28 \n",
      "<a href=\"http://www.gov.cn/zhengce/2016-07/28/content_5095591.htm\" target=\"_blank\">以后打车有啥变化 这11条最新政策干货你得知道</a>\n",
      "http://www.gov.cn/zhengce/2016-07/28/content_5095591.htm 以后打车有啥变化 这11条最新政策干货你得知道\n",
      "2016-07-28 \n",
      "<a href=\"http://www.gov.cn/zhengce/2016-07/28/content_5095586.htm\" target=\"_blank\">与你有关!出租车、网约车、顺风车要改革 国办发文定思路</a>\n",
      "http://www.gov.cn/zhengce/2016-07/28/content_5095586.htm 与你有关!出租车、网约车、顺风车要改革 国办发文定思路\n",
      "2016-07-28 \n",
      "<a href=\"http://www.gov.cn/zhengce/content/2016-07/28/content_5095567.htm\" target=\"_blank\">国务院办公厅关于深化改革推进出租汽车行业健康发展的指导意见</a>\n",
      "http://www.gov.cn/zhengce/content/2016-07/28/content_5095567.htm 国务院办公厅关于深化改革推进出租汽车行业健康发展的指导意见\n",
      "2016-07-28 \n",
      "<a href=\"http://www.gov.cn/premier/2016-07/27/content_5095373.htm\" target=\"_blank\">李克强:依规将沉淀两年以上资金收回调整到积极干事创业的地方</a>\n",
      "http://www.gov.cn/premier/2016-07/27/content_5095373.htm 李克强:依规将沉淀两年以上资金收回调整到积极干事创业的地方\n",
      "2016-07-27 \n",
      "<a href=\"http://www.gov.cn/premier/2016-07/27/content_5095338.htm\" target=\"_blank\">李克强主持召开国务院常务会议(2016年7月27日)</a>\n",
      "http://www.gov.cn/premier/2016-07/27/content_5095338.htm 李克强主持召开国务院常务会议(2016年7月27日)\n",
      "2016-07-27 \n",
      "<a href=\"http://www.gov.cn/premier/2016-07/27/content_5095152.htm\" target=\"_blank\">李克强就阿富汗发生重大恐怖袭击事件向阿首席执行官阿卜杜拉致慰问电</a>\n",
      "http://www.gov.cn/premier/2016-07/27/content_5095152.htm 李克强就阿富汗发生重大恐怖袭击事件向阿首席执行官阿卜杜拉致慰问电\n",
      "2016-07-27 \n",
      "<a href=\"http://www.gov.cn/guowuyuan/2016-07/26/content_5095112.htm\" target=\"_blank\">郭声琨:坚持以人民为中心的执法理念 深化公安执法规范化建设 不断提升执法公信力和人民群众满意度</a>\n",
      "http://www.gov.cn/guowuyuan/2016-07/26/content_5095112.htm 郭声琨:坚持以人民为中心的执法理念 深化公安执法规范化建设 不断提升执法公信力和人民群众满意度\n",
      "2016-07-26 \n",
      "<a href=\"http://www.gov.cn/zhengce/2016-07/26/content_5095103.htm\" target=\"_blank\">四个“一批”!国办发文推进央企结构调整与重组</a>\n",
      "http://www.gov.cn/zhengce/2016-07/26/content_5095103.htm 四个“一批”!国办发文推进央企结构调整与重组\n",
      "2016-07-26 \n",
      "<a href=\"http://www.gov.cn/xinwen/2016-07/26/content_5095082.htm\" target=\"_blank\">就当前经济形势和下半年经济工作 中共中央召开党外人士座谈会</a>\n",
      "http://www.gov.cn/xinwen/2016-07/26/content_5095082.htm 就当前经济形势和下半年经济工作 中共中央召开党外人士座谈会\n",
      "2016-07-26 \n",
      "<a href=\"http://www.gov.cn/zhengce/content/2016-07/26/content_5095050.htm\" target=\"_blank\">国务院办公厅关于推动中央企业结构调整与重组的指导意见</a>\n",
      "http://www.gov.cn/zhengce/content/2016-07/26/content_5095050.htm 国务院办公厅关于推动中央企业结构调整与重组的指导意见\n",
      "2016-07-26 \n",
      "<a href=\"http://www.gov.cn/guowuyuan/2016-07/26/content_5095035.htm\" target=\"_blank\">郭声琨:以真抓促落实 以实干求实效 确保各项公安改革任务落实到位</a>\n",
      "http://www.gov.cn/guowuyuan/2016-07/26/content_5095035.htm 郭声琨:以真抓促落实 以实干求实效 确保各项公安改革任务落实到位\n",
      "2016-07-26 \n",
      "<a href=\"http://www.gov.cn/zhengce/content/2016-07/26/content_5094982.htm\" target=\"_blank\">国务院关于同意重庆高新技术产业开发区建设国家自主创新示范区的批复</a>\n",
      "http://www.gov.cn/zhengce/content/2016-07/26/content_5094982.htm 国务院关于同意重庆高新技术产业开发区建设国家自主创新示范区的批复\n",
      "2016-07-26 \n",
      "<a href=\"http://www.gov.cn/premier/2016-07/24/content_5094266.htm\" target=\"_blank\">总理倡议的“1+6”圆桌对话会:多边主义和全球治理新起点</a>\n",
      "http://www.gov.cn/premier/2016-07/24/content_5094266.htm 总理倡议的“1+6”圆桌对话会:多边主义和全球治理新起点\n",
      "2016-07-26 \n",
      "<a href=\"http://www.gov.cn/guowuyuan/2016-07/25/content_5094761.htm\" target=\"_blank\">汪洋会见加拿大财政部长莫诺</a>\n",
      "http://www.gov.cn/guowuyuan/2016-07/25/content_5094761.htm 汪洋会见加拿大财政部长莫诺\n",
      "2016-07-25 \n"
     ]
    }
   ],
   "source": [
    "for li in listTxt.findAll(\"li\"):\n",
    "    item = li.find(\"a\")\n",
    "    print item\n",
    "    if item == None:\n",
    "        continue\n",
    "    print item.get(\"href\"), item.get_text()\n",
    "    print li.find(\"span\").get_text().replace('.', '-')"
   ]
  },
  {
   "cell_type": "code",
   "execution_count": 18,
   "metadata": {
    "collapsed": true
   },
   "outputs": [],
   "source": [
    "conn = httplib.HTTPConnection(\"www.gov.cn\")\n",
    "conn.request('GET', \"http://www.gov.cn/zhengce/content/2016-07/28/content_5095567.htm\")\n",
    "response = conn.getresponse()\n",
    "text = response.read()\n",
    "soup = BeautifulSoup(text, 'html.parser')"
   ]
  },
  {
   "cell_type": "code",
   "execution_count": 19,
   "metadata": {
    "collapsed": false
   },
   "outputs": [
    {
     "ename": "AttributeError",
     "evalue": "'NoneType' object has no attribute 'findAll'",
     "output_type": "error",
     "traceback": [
      "\u001b[1;31m---------------------------------------------------------------------------\u001b[0m",
      "\u001b[1;31mAttributeError\u001b[0m                            Traceback (most recent call last)",
      "\u001b[1;32m<ipython-input-19-77da85b67ba8>\u001b[0m in \u001b[0;36m<module>\u001b[1;34m()\u001b[0m\n\u001b[1;32m----> 1\u001b[1;33m \u001b[0mtext\u001b[0m \u001b[1;33m=\u001b[0m \u001b[0msoup\u001b[0m\u001b[1;33m.\u001b[0m\u001b[0mfind\u001b[0m\u001b[1;33m(\u001b[0m\u001b[0mid\u001b[0m\u001b[1;33m=\u001b[0m\u001b[1;34m\"UCAP-CONTENT\"\u001b[0m\u001b[1;33m)\u001b[0m\u001b[1;33m.\u001b[0m\u001b[0mfindAll\u001b[0m\u001b[1;33m(\u001b[0m\u001b[1;34m\"p\"\u001b[0m\u001b[1;33m)\u001b[0m\u001b[1;33m\u001b[0m\u001b[0m\n\u001b[0m",
      "\u001b[1;31mAttributeError\u001b[0m: 'NoneType' object has no attribute 'findAll'"
     ]
    }
   ],
   "source": [
    "text = soup.find(id=\"UCAP-CONTENT\").findAll(\"p\")"
   ]
  },
  {
   "cell_type": "code",
   "execution_count": 239,
   "metadata": {
    "collapsed": false
   },
   "outputs": [
    {
     "name": "stdout",
     "output_type": "stream",
     "text": [
      "未来人们在描述全球经济复苏进程时，2016年7月22日在北京钓鱼台国宾馆内摆放的这张圆桌，想必会被一再提及。\n",
      "\n",
      "其一是因为分量之重。围坐在这张圆桌旁的，是世界第二大经济体的总理，以及6大国际经济金融机构的负责人。他们之间的对话和表态，对全球市场预期和经济治理具有举足轻重的影响。其二是因为规格之高。已有敏锐的媒体梳理发现，由中国倡议举行的这次“1+6”对话，不仅在中国尚属首次，在全球也不多见。其三是因为发出的信号之强。这场圆桌对话，从形式到内容，凸显的正是中国历来倡导的“全球化”与“多边主义”的开放形象。这向国际社会传递出强烈的信号——唯有各方携手并进才能共克时艰，开放共享、贸易自由而非保护主义、孤立主义，才是世界经济走出低谷的对症药方。\n",
      "\n",
      "不妨来听听中国总理与6位国际组织“掌门人”的声音吧——\n",
      "中国总理李克强倡议：当前世界经济复苏乏力、不及预期，英国公投脱欧一度引发国际金融市场剧烈动荡，全球贸易持续低迷，以孤立主义、保护主义为代表的“逆全球化”思潮抬头。我们还是应该把推动全球经济强劲、可持续、平衡发展放在首要位置，把发展经济、改善民生放在优先位置。这就需要世界各国加强宏观政策协调，共同促进世界经济复苏。\n",
      "\n",
      "世界银行行长金墉在会后共见记者时主动谈及这场圆桌会的“意义所在”：世界很多国家对全球化、多边主义出现抵制倾向，因而此次会议举办恰逢其时，重要性更不言而喻。“给我印象最深的一点就是，李总理积极倡导多边主义，倡导全球协作精神，这是一个非常明确而重要的信息。”\n",
      "IMF总裁拉加德表示，现在有一些国家由于内部政策的选择，减少和国际社会合作，各个经济体与国际组织需要共同努力改变这样的情况，才能使全球经济走出低增长陷阱。\n",
      "\n",
      "WTO总干事阿泽维多称赞中国坚持多边贸易体系之后说，当前世界面临的挑战除了经济增速下跌，贸易也是过去30年来最糟糕时期，连续5年增速低于3%；同时多国贸易限制措施增加，保护主义正在抬头。\n",
      "国际劳工组织总干事莱德、OECD秘书长古里亚、金融稳定理事会主席卡尼在当天都表达了近似的观点。\n",
      "世行行长金墉称这个圆桌会“恰逢其时”，其实也是彼此之间的“一拍即合”。6大国际机构负责人接受李克强总理的邀请，来北京圆桌聚议、共襄要事，正如分析人士所指出的，“这是参会方共同的意愿”。既是中国与世界的 “对表”，也是世界与中国的“对表”。\n",
      "随着经济体量日渐增大，中国目前已是全球倡导贸易自由和多边合作最重要的力量之一。在近年来“逆全球化”甚嚣尘上的背景下，中国能高扬全球协作与开放包容的理念，这既是现实之举，也是道义之举。这张向国际机构开诚布公的圆桌，有力印证了中国主张的诚意。\n",
      "圆桌对话会上，李克强开宗明义：中国政府愿意和在座各国际组织展开一次深入坦诚的沟通。不仅探讨世界经济和中国经济的问题，同时也表明中国政府在经济金融政策方面愿意和国际社会沟通，增强透明度。\n",
      "此前国际上曾有声音认为，中国与国际组织之间沟通不够。事实上，长期以来中国政府一直与国际组织之间密切对话合作，取得了丰硕成果。李克强一再强调，中国必须在更高水平上对外开放。借此次圆桌对话会，他向世界发出明确信号：中国的开放的大门只能越开越大，中国与国际组织之间的沟通交流也会越来越畅。\n",
      "“1+6”对话的这张圆桌，堪称一个重要的全球思想平台。它将成为中国对外开放的新窗口：多种声音汇聚于斯，多方智慧在此激荡。\n",
      "\n",
      "呼应WTO总干事的发言，李克强用“以邻为壑”的中国古语，对出台各种贸易限制措施提出警示。他说，世界这几十年来的发展很大程度上应归功于经济全球化和贸易便利化，如今形形色色的限制做法，不仅不能解决问题反而会雪上加霜，不仅不利于结构性改革，更会延缓世界经济复苏的进程。因此，中国总理再次郑重承诺：我们坚定不移支持全球化进程，维护多边贸易体系主渠道作用。\n",
      "针对国际上广泛关切，李克强再次让全球经济吃下一颗“定心丸”：我们将继续保持人民币在合理均衡水平上的基本稳定，绝不打货币战、贸易战，履行对国际社会的承诺。\n",
      "钓鱼台芳华苑内摆放的这张普通圆桌，因见证了中国总理与主要国际经济金融机构负责人首次“1+6”对话，某种程度上，它被赋予了“历史意义”。在中国与全球经济迈向强劲、可持续、平衡增长的进程中，这张圆桌将成为全球经济协作与开放包容的一个醒目标识。（陈翰咏）\n"
     ]
    }
   ],
   "source": [
    "for x in text:\n",
    "    print x.get_text()"
   ]
  },
  {
   "cell_type": "code",
   "execution_count": 242,
   "metadata": {
    "collapsed": true
   },
   "outputs": [],
   "source": [
    "text = soup.find(class_=\"b12c\").findAll(\"p\")"
   ]
  },
  {
   "cell_type": "code",
   "execution_count": 243,
   "metadata": {
    "collapsed": false
   },
   "outputs": [
    {
     "name": "stdout",
     "output_type": "stream",
     "text": [
      "国务院办公厅关于深化改革\n",
      "推进出租汽车行业健康发展的指导意见\n",
      "国办发〔2016〕58号\n",
      "\n",
      "\n",
      "\n",
      "各省、自治区、直辖市人民政府，国务院各部委、各直属机构：\n",
      "为贯彻落实中央关于全面深化改革的决策部署，积极稳妥地推进出租汽车行业改革，鼓励创新，促进转型，更好地满足人民群众出行需求，经国务院同意，现提出以下意见。\n",
      "一、指导思想和基本原则\n",
      "（一）指导思想。深入贯彻党的十八大及十八届二中、三中、四中、五中全会精神和习近平总书记系列重要讲话精神，落实党中央、国务院决策部署，按照“五位一体”总体布局和“四个全面”战略布局，牢固树立和贯彻落实创新、协调、绿色、开放、共享的发展理念，充分发挥市场机制作用和政府引导作用，坚持优先发展公共交通、适度发展出租汽车的基本思路，推进出租汽车行业结构改革，切实提升服务水平和监管能力，努力构建多样化、差异化出行服务体系，促进出租汽车行业持续健康发展，更好地满足人民群众出行需求。\n",
      "（二）基本原则。\n",
      "坚持乘客为本。把保障乘客安全出行和维护人民群众合法权益作为改革的出发点和落脚点，为社会公众提供安全、便捷、舒适、经济的个性化出行服务。\n",
      "坚持改革创新。抓住实施“互联网+”行动的有利时机，坚持问题导向，促进巡游出租汽车转型升级，规范网络预约出租汽车经营，推进两种业态融合发展。\n",
      "坚持统筹兼顾。统筹公共交通与出租汽车，统筹创新发展与安全稳定，统筹新老业态发展，统筹乘客、驾驶员和企业的利益，循序渐进、积极稳慎地推动改革。\n",
      "坚持依法规范。正确处理政府和市场关系，强化法治思维，完善出租汽车行业法规体系，依法推进行业改革，维护公平竞争的市场秩序，保护各方合法权益。\n",
      "坚持属地管理。城市人民政府是出租汽车管理的责任主体，要充分发挥自主权和创造性，探索符合本地出租汽车行业发展实际的管理模式。\n",
      "二、明确出租汽车行业定位\n",
      "（三）科学定位出租汽车服务。出租汽车是城市综合交通运输体系的组成部分，是城市公共交通的补充，为社会公众提供个性化运输服务。出租汽车服务主要包括巡游、网络预约等方式。城市人民政府要优先发展公共交通，适度发展出租汽车，优化城市交通结构。要统筹发展巡游出租汽车（以下简称巡游车）和网络预约出租汽车（以下简称网约车），实行错位发展和差异化经营，为社会公众提供品质化、多样化的运输服务。要根据大中小城市特点、社会公众多样化出行需求和出租汽车发展定位，综合考虑人口数量、经济发展水平、城市交通拥堵状况、出租汽车里程利用率等因素，合理把握出租汽车运力规模及在城市综合交通运输体系中的分担比例，建立动态监测和调整机制，逐步实现市场调节。新增和更新出租汽车，优先使用新能源汽车。\n",
      "三、深化巡游车改革\n",
      "（四）改革经营权管理制度。新增出租汽车经营权一律实行期限制，不得再实行无期限制，具体期限由城市人民政府根据本地实际情况确定。新增出租汽车经营权全部实行无偿使用，并不得变更经营主体。既有的出租汽车经营权，在期限内需要变更经营主体的，依照法律法规规定的条件和程序办理变更手续，不得炒卖和擅自转让。对于现有的出租汽车经营权未明确具体经营期限或已实行经营权有偿使用的，城市人民政府要综合考虑各方面因素，科学制定过渡方案，合理确定经营期限，逐步取消有偿使用费。建立完善以服务质量信誉为导向的经营权配置和管理制度，对经营权期限届满或经营过程中出现重大服务质量问题、重大安全生产责任事故、严重违法经营行为、服务质量信誉考核不合格等情形的，按有关规定收回经营权。\n",
      "（五）健全利益分配制度。出租汽车经营者要依法与驾驶员签订劳动合同或经营合同。采取承包经营方式的承包人和取得经营权的个体经营者，应取得出租汽车驾驶员从业资格，按规定注册上岗并直接从事运营活动。要利用互联网技术更好地构建企业和驾驶员运营风险共担、利益合理分配的经营模式。鼓励、支持和引导出租汽车企业、行业协会与出租汽车驾驶员、工会组织平等协商，根据经营成本、运价变化等因素，合理确定并动态调整出租汽车承包费标准或定额任务，现有承包费标准或定额任务过高的要降低。要保护驾驶员合法权益，构建和谐劳动关系。严禁出租汽车企业向驾驶员收取高额抵押金，现有抵押金过高的要降低。\n",
      "（六）理顺价格形成机制。各地可根据本地区实际情况，对巡游车运价实行政府定价或政府指导价，并依法纳入政府定价目录。综合考虑出租汽车运营成本、居民和驾驶员收入水平、交通状况、服务质量等因素，科学制定、及时调整出租汽车运价水平和结构。建立出租汽车运价动态调整机制，健全作价规则，完善运价与燃料价格联动办法，充分发挥运价调节出租汽车运输市场供求关系的杠杆作用。\n",
      "（七）推动行业转型升级。鼓励巡游车经营者、网络预约出租汽车经营者（以下称网约车平台公司）通过兼并、重组、吸收入股等方式，按照现代企业制度实行公司化经营，实现新老业态融合发展。鼓励巡游车企业转型提供网约车服务。鼓励巡游车通过电信、互联网等电召服务方式提供运营服务，推广使用符合金融标准的非现金支付方式，拓展服务功能，方便公众乘车。鼓励个体经营者共同组建具有一定规模的公司，实行组织化管理，提高服务质量，降低管理成本，增强抗风险能力。鼓励经营者加强品牌建设，主动公开服务标准和质量承诺，开展安全、诚信、优质服务创建活动，加强服务质量管理，提供高品质服务。\n",
      "四、规范发展网约车和私人小客车合乘\n",
      "（八）规范网约车发展。网约车平台公司是运输服务的提供者，应具备线上线下服务能力，承担承运人责任和相应社会责任。提供网约车服务的驾驶员及其车辆，应符合提供载客运输服务的基本条件。对网约车实行市场调节价，城市人民政府认为确有必要的可实行政府指导价。\n",
      "（九）规范网约车经营行为。网约车平台公司要充分利用互联网信息技术，加强对提供服务车辆和驾驶员的生产经营管理，不断提升乘车体验、提高服务水平。按照国家相关规定和标准提供运营服务，合理确定计程计价方式，保障运营安全和乘客合法权益，不得有不正当价格行为。加强网络和信息安全防护，建立健全数据安全管理制度，依法合规采集、使用和保护个人信息，不得泄露涉及国家安全的敏感信息，所采集的个人信息和生成的业务数据应当在中国内地存储和使用。网约车平台公司要维护和保障驾驶员合法权益。\n",
      "（十）规范私人小客车合乘。私人小客车合乘，也称为拼车、顺风车，是由合乘服务提供者事先发布出行信息，出行线路相同的人选择乘坐合乘服务提供者的小客车、分摊部分出行成本或免费互助的共享出行方式。私人小客车合乘有利于缓解交通拥堵和减少空气污染，城市人民政府应鼓励并规范其发展，制定相应规定，明确合乘服务提供者、合乘者及合乘信息服务平台等三方的权利和义务。\n",
      "五、营造良好市场环境\n",
      "（十一）完善服务设施。城市人民政府要将出租汽车综合服务区、停靠点、候客泊位等服务设施纳入城市基础设施建设规划，统筹合理布局，认真组织实施，妥善解决出租汽车驾驶员在停车、就餐、如厕等方面的实际困难。在机场、车站、码头、商场、医院等大型公共场所和居民住宅区，应当划定巡游车候客区域，为出租汽车运营提供便利，更好地为乘客出行提供服务。\n",
      "（十二）加强信用体系建设。要落实服务质量信誉考核制度和驾驶员从业资格管理制度，制定出租汽车服务标准、经营者和从业人员信用管理制度，明确依法经营、诚信服务的基本要求。积极运用互联网、大数据、云计算等技术，建立出租汽车经营者和驾驶员评价系统，加强对违法违规及失信行为、投诉举报、乘客服务评价等信息的记录，作为出租汽车经营者和从业人员准入退出的重要依据，并纳入全国信用信息共享平台和全国企业信用信息公示系统。\n",
      "（十三）强化市场监管。要创新监管方式，简化许可程序，推行网上办理。要公开出租汽车经营主体、数量、经营权取得方式及变更等信息，定期开展出租汽车服务质量测评并向社会发布，进一步提高行业监管透明度。要建立政府牵头、部门参与、条块联动的联合监督执法机制和联合惩戒退出机制，建立完善监管平台，强化全过程监管，依法查处出租汽车妨碍市场公平竞争的行为和价格违法行为，严厉打击非法营运、聚众扰乱社会秩序或煽动组织破坏营运秩序、损害公共利益的行为。\n",
      "（十四）加强法制建设。要加快完善出租汽车管理和经营服务的法规规章和标准规范，明确管理职责和法律责任，规范资质条件和经营许可，形成较为完善的出租汽车管理法律法规体系，实现出租汽车行业管理、经营服务和市场监督有法可依、有章可循。\n",
      "（十五）落实地方人民政府主体责任。各地要成立改革领导机制，加强对深化出租汽车行业改革的组织领导。要结合本地实际，制定具体实施方案，明确工作目标，细化分解任务，建立有关部门、工会、行业协会等多方联合的工作机制，稳妥推进各项改革任务。要加强社会沟通，畅通利益诉求渠道，主动做好信息发布，回应社会关切，凝聚改革共识，营造良好舆论环境。对改革中的重大决策要开展社会稳定风险评估，完善应急预案，防范化解各类矛盾，维护社会稳定。\n",
      "\n",
      "\n",
      "　　　　　　　　　　　　　　　　　　　　　　　　　　　国务院办公厅\n",
      "\n",
      "　　　　　　　　　　　　　　　　　　　　　　　　　　　2016年7月26日\n",
      "（此件公开发布）\n"
     ]
    }
   ],
   "source": [
    "for x in text:\n",
    "    print x.get_text()"
   ]
  },
  {
   "cell_type": "code",
   "execution_count": 245,
   "metadata": {
    "collapsed": false
   },
   "outputs": [],
   "source": [
    "conn = httplib.HTTPConnection(\"www.pbc.gov.cn\")\n",
    "conn.request('GET', \"http://www.pbc.gov.cn/goutongjiaoliu/113456/113469/11040/index1.html\")\n",
    "response = conn.getresponse()\n",
    "text = response.read()\n",
    "soup = BeautifulSoup(text, 'html.parser')"
   ]
  },
  {
   "cell_type": "code",
   "execution_count": 247,
   "metadata": {
    "collapsed": false
   },
   "outputs": [
    {
     "name": "stdout",
     "output_type": "stream",
     "text": [
      "<html>\r\n",
      "<head>\r\n",
      "</head>\r\n",
      "<body>\r\n",
      "<noscript>\r\n",
      "<h1><strong>请开启JavaScript并刷新该页.</strong></h1>\r\n",
      "</noscript>\r\n",
      "<script type=\"text/javascript\">\r\n",
      "eval(function(p,a,c,k,e,d){e=function(c){return(c<a?'':e(parseInt(c/a)))+((c=c%a)>32?String.fromCharCode(c+32):c.toString(33))};if(!''.replace(/^/,String)){while(c--)d[e(c)]=k[c]||e(c);k=[function(e){return d[e]}];e=function(){return'\\\\w+'};c=1};while(c--)if(k[c])p=p.replace(new RegExp('\\\\b'+e(c)+'\\\\b','g'),k[c]);return p}('14 C=\"j\";14 19=\"h\";14 1a=\"k\";14 10=c;14 E = \"d+/=\";I f(Z) {14 T, M, Q;14 n, o, p;Q = Z.R;M = 0;T = \"\";16 (M < Q) {n = Z.r(M++) & 6;N (M == Q) {T += E.q(n >> a);T += E.q((n & 1) << b);T += \"==\";m;}o = Z.r(M++);N (M == Q) {T += E.q(n >> a);T += E.q(((n & 1) << b) | ((o & 5) >> b));T += E.q((o & 4) << a);T += \"=\";m;}p = Z.r(M++);T += E.q(n >> a);T += E.q(((n & 1) << b) | ((o & 5) >> b));T += E.q(((o & 4) << a) | ((p & 3) >> c));T += E.q(p & 2);}V T;}I G(){14 15= 18.P||A.B.t||A.l.t;14 J= 18.O||A.B.s||A.l.s;N (15*J <= 8) {V 13;}14 1c = 18.X;14 1d = 18.Y;N (1c + 15 <= 0 || 1d + J <= 0 || 1c >= 18.W.17 || 1d >= 18.W.L) {V 13;}V F;}I g(){14 11 = 19+1a;14 K = 0;14 M    = 0;H(M = 0; M < 11.R; M++) {K += 11.r(M);}K *= 9;K += 7;V \"i\"+K;}I e(){N(G()) {} D {14 w = \"\";\tw = \"1b=\"+f(10.12()) + \"; U=/\";A.v = w;\t14 u = g();w = \"19=\"+f(u.12()) + \"; U=/\";A.v = w;\t18.S=C;}}e();',59,73,'0|0x3|0x3f|0xc0|0xf|0xf0|0xff|111111|120000|17|2|4|6|ABCDEFGHIJKLMNOPQRSTUVWXYZabcdefghijklmnopqrstuvwxyz0123456789|HXXTTKKLLPPP5|KTKY2RBD9NHPBCIHV9ZMEQQDARSLVFDU|QWERTASDFGXYSF|RANDOMSTR14424|WZWS_CONFIRM_PREFIX_LABEL6|/goutongjiaoliu/113456/113469/11040/index1.html|STRRANDOM14424|body|break|c1|c2|c3|charAt|charCodeAt|clientHeight|clientWidth|confirm|cookie|cookieString|document|documentElement|dynamicurl|else|encoderchars|false|findDimensions|for|function|h|hash|height|i|if|innerHeight|innerWidth|len|length|location|out|path|return|screen|screenX|screenY|str|template|tmp|toString|true|var|w|while|width|window|wzwschallenge|wzwschallengex|wzwstemplate|x|y'.split('|'),0,{}))\r\n",
      "</script>\r\n",
      "\r\n",
      "</body>\r\n",
      "</html>\r\n",
      "\n",
      "\n"
     ]
    }
   ],
   "source": [
    "print text"
   ]
  },
  {
   "cell_type": "code",
   "execution_count": 254,
   "metadata": {
    "collapsed": true
   },
   "outputs": [],
   "source": [
    "response = requests.get(\"http://www.pbc.gov.cn/goutongjiaoliu/113456/113469/11040/index1.html\", allow_redirects=False)"
   ]
  },
  {
   "cell_type": "code",
   "execution_count": 256,
   "metadata": {
    "collapsed": false
   },
   "outputs": [
    {
     "name": "stdout",
     "output_type": "stream",
     "text": [
      "[]\n"
     ]
    }
   ],
   "source": [
    "print response.history"
   ]
  },
  {
   "cell_type": "markdown",
   "metadata": {
    "collapsed": true
   },
   "source": [
    "# 华尔街见闻"
   ]
  },
  {
   "cell_type": "code",
   "execution_count": 11,
   "metadata": {
    "collapsed": true
   },
   "outputs": [],
   "source": [
    "base_url = \"http://wallstreetcn.com/news?status=published&type=news&order=-created_at&limit=30&page=\""
   ]
  },
  {
   "cell_type": "code",
   "execution_count": 12,
   "metadata": {
    "collapsed": true
   },
   "outputs": [],
   "source": [
    "page_num = 1 # 2117"
   ]
  },
  {
   "cell_type": "code",
   "execution_count": 21,
   "metadata": {
    "collapsed": false
   },
   "outputs": [],
   "source": [
    "conn = httplib.HTTPConnection(\"wallstreetcn.com\")\n",
    "url = base_url + str(1)\n",
    "conn.request('GET', url)\n",
    "response = conn.getresponse()\n",
    "text = response.read()\n",
    "soup = BeautifulSoup(text, \"html.parser\")"
   ]
  },
  {
   "cell_type": "code",
   "execution_count": 23,
   "metadata": {
    "collapsed": false
   },
   "outputs": [],
   "source": [
    "news_list = soup.find(class_=\"news-list with-img\")"
   ]
  },
  {
   "cell_type": "code",
   "execution_count": 29,
   "metadata": {
    "collapsed": false
   },
   "outputs": [
    {
     "name": "stdout",
     "output_type": "stream",
     "text": [
      "http://wallstreetcn.com/node/260360\n",
      "http://wallstreetcn.com/node/260344\n",
      "http://wallstreetcn.com/node/260345\n",
      "http://wallstreetcn.com/node/260350\n",
      "<li class=\"plista-li\">\n",
      "<script type=\"text/javascript\">\n",
      "                        (function(p,w,g,u,c){\n",
      "                        var s,s0,n='script',d=document,name='PLISTA_'+p,lib=window[name];d.write('<div data-display=\"plista_widget_'+w+'\"></div>');if(!lib||!lib.publickey){window[name]={publickey:p,widgets:[{name:w,pre:u}],geo:g,categories:c,dataMode:'data-display'};s=d.createElement(n);s0=d.getElementsByTagName(n)[0];s.async='async';s.type='text/javascript';s.src=(d.location.protocol==='https:'?'https:':'http:')+'//static-cn.plista.com/async/'+name+'.js';s0.parentNode.insertBefore(s,s0);}else{lib.widgets.push({name:w,pre:u});}\n",
      "                        }('8218dae333a7f29170fedea4','infeed_home_4','zh'));\n",
      "                        </script>\n",
      "</li>\n",
      "http://wallstreetcn.com/node/260347\n",
      "http://wallstreetcn.com/node/260346\n",
      "http://wallstreetcn.com/node/260341\n",
      "http://wallstreetcn.com/node/260340\n",
      "http://wallstreetcn.com/node/260327\n",
      "http://wallstreetcn.com/node/260329\n",
      "http://wallstreetcn.com/node/260326\n",
      "http://wallstreetcn.com/node/260325\n",
      "http://wallstreetcn.com/node/260324\n",
      "http://wallstreetcn.com/node/260323\n",
      "http://wallstreetcn.com/node/260317\n",
      "http://wallstreetcn.com/node/260314\n",
      "http://wallstreetcn.com/node/260318\n",
      "http://wallstreetcn.com/node/254430\n",
      "http://wallstreetcn.com/node/260308\n",
      "http://wallstreetcn.com/node/260309\n",
      "http://wallstreetcn.com/node/260279\n",
      "http://wallstreetcn.com/node/260294\n",
      "http://wallstreetcn.com/node/260293\n",
      "http://wallstreetcn.com/node/260288\n",
      "http://wallstreetcn.com/node/260287\n",
      "http://wallstreetcn.com/node/260269\n",
      "http://wallstreetcn.com/node/260275\n",
      "http://wallstreetcn.com/node/260278\n",
      "http://wallstreetcn.com/node/260274\n",
      "http://wallstreetcn.com/node/260277\n",
      "http://wallstreetcn.com/news?status=published&type=news&order=-created_at&limit=30&page=1\n",
      "http://wallstreetcn.com/news?status=published&type=news&order=-created_at&limit=30&page=1\n",
      "http://wallstreetcn.com/news?status=published&type=news&order=-created_at&limit=30&page=2\n",
      "http://wallstreetcn.com/news?status=published&type=news&order=-created_at&limit=30&page=3\n",
      "http://wallstreetcn.com/news?status=published&type=news&order=-created_at&limit=30&page=4\n",
      "http://wallstreetcn.com/news?status=published&type=news&order=-created_at&limit=30&page=2\n",
      "http://wallstreetcn.com/news?status=published&type=news&order=-created_at&limit=30&page=2156\n"
     ]
    }
   ],
   "source": [
    "for li in news_list.findAll('li'):\n",
    "    try:\n",
    "        print li.find('a').get('href')\n",
    "    except:\n",
    "        print li"
   ]
  },
  {
   "cell_type": "code",
   "execution_count": 19,
   "metadata": {
    "collapsed": false
   },
   "outputs": [],
   "source": [
    "conn = httplib.HTTPConnection(\"wallstreetcn.com\")\n",
    "for page in range(1, page_num + 1):\n",
    "    url = base_url + str(page)\n",
    "    conn.request('GET', url)\n",
    "    response = conn.getresponse()\n",
    "    text = response.read()\n",
    "    soup = BeautifulSoup(text, \"html.parser\")\n",
    "    news_list = soup.find(class_=\"news-list\")\n",
    "    for li in news_list.findAll('li'):\n",
    "        item = li.find('a')\n",
    "        if item == None:\n",
    "            continue\n",
    "        href = item.get('href')\n",
    "        if href.startswith('https://wallstreetcn.com/node'):\n",
    "            print href"
   ]
  },
  {
   "cell_type": "code",
   "execution_count": 127,
   "metadata": {
    "collapsed": true
   },
   "outputs": [],
   "source": [
    "content_url = \"http://wallstreetcn.com/articles/3000767\""
   ]
  },
  {
   "cell_type": "code",
   "execution_count": 128,
   "metadata": {
    "collapsed": false
   },
   "outputs": [],
   "source": [
    "text = requests.get(content_url).text"
   ]
  },
  {
   "cell_type": "code",
   "execution_count": 113,
   "metadata": {
    "collapsed": false
   },
   "outputs": [],
   "source": [
    "soup = BeautifulSoup(text, 'html.parser')"
   ]
  },
  {
   "cell_type": "code",
   "execution_count": 114,
   "metadata": {
    "collapsed": false
   },
   "outputs": [
    {
     "data": {
      "text/plain": [
       "False"
      ]
     },
     "execution_count": 114,
     "metadata": {},
     "output_type": "execute_result"
    }
   ],
   "source": [
    "soup.title.get_text() == u\"华尔街见闻 - 华尔街见闻\""
   ]
  },
  {
   "cell_type": "code",
   "execution_count": 115,
   "metadata": {
    "collapsed": false
   },
   "outputs": [],
   "source": [
    "# conn = httplib.HTTPConnection(\"wallstreetcn.com\")\n",
    "# conn.request('GET', content_url)\n",
    "# response = conn.getresponse()\n",
    "# text = response.read()\n",
    "# soup = BeautifulSoup(text, \"html.parser\")"
   ]
  },
  {
   "cell_type": "code",
   "execution_count": 119,
   "metadata": {
    "collapsed": false
   },
   "outputs": [
    {
     "name": "stdout",
     "output_type": "stream",
     "text": [
      "尽管港府拿出各种“辣招”抑制楼市过快增长，但香港楼市量跌价未跌，甚至创出新高。长和系主席李嘉诚周三表示，香港市场上目前购买力非常强，“买家力量很大”，看不出未来一两年有可能下跌。在周三下午举行的长和与长实2016年度业绩发布会上，88岁的李嘉诚表示：内地和香港的楼市情况完全不同。内地有很多土地，香港土地本就供不应求，而香港本地和内地人都纷纷在香港买楼，这才导致香港楼市价格走上去。对于“目前是不是该卖房”的问题，李嘉诚表示，自己过去十年都认为，不应该炒楼，但自用的话不管便宜还是贵都应该买：现在买贵点，算上通货膨胀，过几年你会发现也没有买错。但他同时承认，目前地价、房价非常贵，买到价格合理的地皮很难。香港和世界近几年变迁很大，单单做地产很难，要不然就只能跟大家一样卖很贵的楼，甚至“面粉贵过面包”。李嘉诚直言，目前买地的价钱还高过卖楼的价钱，不可能持续。香港政府去年宣布，从11月5日起，除首次置业的香港永久居民之外，住宅印花税均提升至物业交易价的15%。特首梁振英明确表示，此举是为遏制反弹的投资需求，因过去辣招推出后，市场上炒卖及非本地需求大幅减少，但留意到近期投资需求仍主导市场。过去一年，香港房价在去年年中经过短暂下跌后不断破顶。根据中原地产中原城市领先指数，二手房价格已从一年前的低位大涨17%。中原地产创办人施永青此前表示，这种上涨势头还将维持一至两年，预计至少再升10-20%才可能冷静下来。他还认为，香港楼价主要是由积累财富的配置所带动，目前楼价水平已与新一代的购买力脱节，这样的走势有风险而且不理性。房地产服务商戴德梁行大中华区副总裁及策略发展顾问部主管陶汝鸿则认为，目前市场上有充裕的资金，正在追逐有限的住宅盘源。虽然政府已多次表示会增加房屋供应，但这些供应不能立即在市场上推出。在盘源少及缺乏投资渠道的背景下，楼价后续仍有支撑。美国市场研究机构Demographia年初公布的2017年度国际房价负担能力调查显示，香港已连续七年位居房价最难负担城市之首。去年香港房价的中位数为家庭年收入（税前）中位数的18.1倍，为全球最高，但较去年的19倍有所好转。去年该数值创下Demographia调查十二年来的纪录。经济学人智库(EIU)最新发布的《2017全球生活成本报告》显示，香港继续成为全球生活成本最高的城市之一，在全球仅次于新加坡。\n"
     ]
    }
   ],
   "source": [
    "print soup.find(class_=\"node-article-content\").get_text()"
   ]
  },
  {
   "cell_type": "code",
   "execution_count": 121,
   "metadata": {
    "collapsed": false
   },
   "outputs": [
    {
     "name": "stdout",
     "output_type": "stream",
     "text": [
      "2017-03-23 08:53\n"
     ]
    }
   ],
   "source": [
    "print soup.find(class_='meta-item__text').get_text()"
   ]
  },
  {
   "cell_type": "code",
   "execution_count": 130,
   "metadata": {
    "collapsed": false
   },
   "outputs": [
    {
     "name": "stdout",
     "output_type": "stream",
     "text": [
      "祁月\n"
     ]
    }
   ],
   "source": [
    "print soup.find(class_=\"article__author__meta__item__name\").get_text().lstrip().rstrip()"
   ]
  },
  {
   "cell_type": "code",
   "execution_count": 131,
   "metadata": {
    "collapsed": false
   },
   "outputs": [
    {
     "name": "stdout",
     "output_type": "stream",
     "text": [
      "李嘉诚：香港楼市一两年内不会跌，自住的话不管便宜还是贵都应该买 - 华尔街见闻\n"
     ]
    }
   ],
   "source": [
    "print soup.title.get_text()"
   ]
  },
  {
   "cell_type": "code",
   "execution_count": 132,
   "metadata": {
    "collapsed": true
   },
   "outputs": [],
   "source": [
    "title = soup.title.get_text()"
   ]
  },
  {
   "cell_type": "code",
   "execution_count": 133,
   "metadata": {
    "collapsed": false
   },
   "outputs": [
    {
     "data": {
      "text/plain": [
       "u'\\u674e\\u5609\\u8bda\\uff1a\\u9999\\u6e2f\\u697c\\u5e02\\u4e00\\u4e24\\u5e74\\u5185\\u4e0d\\u4f1a\\u8dcc\\uff0c\\u81ea\\u4f4f\\u7684\\u8bdd\\u4e0d\\u7ba1\\u4fbf\\u5b9c\\u8fd8\\u662f\\u8d35\\u90fd\\u5e94\\u8be5\\u4e70 - \\u534e\\u5c14\\u8857\\u89c1\\u95fb'"
      ]
     },
     "execution_count": 133,
     "metadata": {},
     "output_type": "execute_result"
    }
   ],
   "source": [
    "title"
   ]
  },
  {
   "cell_type": "code",
   "execution_count": 134,
   "metadata": {
    "collapsed": false
   },
   "outputs": [
    {
     "ename": "TypeError",
     "evalue": "decoding Unicode is not supported",
     "output_type": "error",
     "traceback": [
      "\u001b[1;31m---------------------------------------------------------------------------\u001b[0m",
      "\u001b[1;31mTypeError\u001b[0m                                 Traceback (most recent call last)",
      "\u001b[1;32m<ipython-input-134-ec4d4db465bb>\u001b[0m in \u001b[0;36m<module>\u001b[1;34m()\u001b[0m\n\u001b[1;32m----> 1\u001b[1;33m \u001b[0municode\u001b[0m\u001b[1;33m(\u001b[0m\u001b[0mtitle\u001b[0m\u001b[1;33m,\u001b[0m \u001b[1;34m'utf-8'\u001b[0m\u001b[1;33m)\u001b[0m\u001b[1;33m\u001b[0m\u001b[0m\n\u001b[0m",
      "\u001b[1;31mTypeError\u001b[0m: decoding Unicode is not supported"
     ]
    }
   ],
   "source": [
    "unicode(title, 'utf-8')"
   ]
  },
  {
   "cell_type": "code",
   "execution_count": 5,
   "metadata": {
    "collapsed": false
   },
   "outputs": [
    {
     "name": "stdout",
     "output_type": "stream",
     "text": [
      "\n",
      "继上周二14天逆回购重出江湖引发债市“血案”之后，经过短暂调整的债市今日再度大跌。\n",
      "期货方面，中国10年期国债期货主力合约今日收盘跌0.35%；现货方面，2026年到期、票息2.74%国债价格下跌，收益率上涨5个基点至2.755%，10年期国开债活跃券160210上行幅度也超过4个基点。\n",
      "本轮债券市场下跌开启以来，长端利率债收益率反弹幅度已达15个基点。\n",
      "\n",
      "\n",
      "九州证券全球首席经济学家邓海清点评认为，利多出尽是本轮债券市场调整的起点；央行调控资金融出，隔夜资金可得性下降，央行货币政策预期改变，是债券收益率上行的关键。就当前而言，企业盈利改善，高频数据向好，中国经济“L型”底确定，则是本周债券调整的关键。具体：\n",
      "\n",
      "1、利多出尽是本轮债券市场调整的起点，8月15日偏弱的经济数据公布之后，国债期货开始下跌。7-8月重新悲观的经济预期导致了大量的拥挤交易，宽松预期升温下投机盘涌入导致债市出现泡沫。从技术面看，国债期货连月上涨后，多头浮盈较多，存在获利回吐的压力。\n",
      "2、央行调控资金融出，隔夜资金可得性下降，央行货币政策预期改变，是债券收益率上行的关键。从上周开始，央行通过重启14天逆回购表明其对过度宽松货币政策的边际收紧意图。此后央行公开市场操作14天逆回购量持续维持在对7天逆回购操作1:2的比例上运作，表明其坚定的拉长资金久期的意图。加以杠杆资金自身的高波动特质，市场本身对债市回调的恐惧增强，从上周到本周市场大幅回调。\n",
      "3、企业盈利改善，高频数据向好，中国经济“L型”底确定，是本周债券调整的关键。上周六公布的企业盈利数据远超市场预期，企业盈利的持续好转使得投资人对于长期经济增长的悲观预期获得一定的边际修正。另外市场存在三四季度房地产重归下行通道的预期，是导致宽松预期长期存在的重要原因。但从实际表现来看，7月地产价格上行幅度扩大、8月房地产成交高频数据出现显著回暖，与地产有关的水泥价格不断上行，地产表现非常亮眼和超预期。下游经济方面，除却房地产之外，汽车行业销量也不断增长。诸多数据表明，当前中国经济“L型”底较为确定，债市存在的长期宽松预期出现修正。\n",
      "\n",
      "华创证券屈庆债券团队在今日稍早的一份报告中则提到，随着美联储年内加息概率大增以及美元融资成本的提高，人民币汇率再度贬值的压力可能成为下半年影响债券市场的核心风险点，而国内温和去杠杆带来的资金成本抬升也将进一步压低债券杠杆获取资本利得的空间，叠加基本面的边际改善和下半年通胀的上行压力，债券市场的调整还远未结束。\n",
      "报告称：\n",
      "\n",
      "第一，温水煮青蛙式的去杠杆效应逐步显现。周一银行间资金面整体较为宽松，但隔夜成交量占比较此前90%以上的均值水平出现了显著的回落，7天成交量占比则有所增加。而从资金成本的角度来看，隔夜开盘利率即出现了明显的反弹，加权平均利率较上周五也有所反弹。\n",
      "我们依然强调，在央行锁短放长温和去杠杆的政策基调下，保证资金面整体充裕的同时抬高资金成本的效应已经开始显现。央行温水煮青蛙式的去杠杆也意味着去杠杆是一个长期的过程，资金成本的趋势性抬升也将延续。\n",
      "\n",
      "第二，人民币新一轮贬值压力将近。随着美联储主席耶伦在Jackson Hole央行大会上的鹰派表态，美联储加息预期骤增，带动美元指数大幅走强，金价下挫，主流国债收益率快速攀升。周一公布的美国7月个人支出和PCE物价指数好于预期，更进一步证实了美联储对美国经济的乐观判断，加息预期进一步强化。\n",
      "加息预期的强化将从汇率和情绪两个方面对国内债市带来冲击：一方面加息预期增强带动美元走强，人民币汇率承压；另一方面全球主流国债收益率的反弹也会从情绪上向国内债券市场传导。\n",
      "\n",
      "上周二收盘，10年期国债期货主力合约也下跌0.35%。在那之前，“央行半年来首度就14天逆回购询量”的消息加上大行被窗口指导的传闻，引发市场关于债市控杠杆的忧虑。\n",
      "中泰债券团队此前表示，整体来看当时银行间资金面偏紧，尤其隔夜回购利率回升表现明显，7天以上相对平稳。这可能源于大行被窗口指导隔夜利率，虽然融入融出资金需求总量依然较高，但资金投放存在结构性变化，有锁短放长的态势。\n",
      "中泰当时称，今年4月以来每月必有投放的三个月期限MLF，在八月目前也并未出现；面对债市配置需求旺盛、在滚隔夜、加杠杆使得期限利差可能进一步被压缩的背景下，隔夜资金利率可能会继续被指导，通过提升短期流动性成本的方式，遏制短期资金过于快速进入债市，避免引发风险。\n",
      "但国信宏观固收分析师董德志认为，看不出机构纷纷抛弃稍长品种，转移到隔夜需求的迹象，缺乏证据。\n",
      "董德志称，事实上，从加权银行间资金成本来看，最低点发生在2015年中期（1.40%附近），进入2016年以来，始终在2%波动，看不出机构纷纷抛弃稍长品种，转移到隔夜需求的迹象，缺乏证据，因此关于降杠杆的猜测并不成立。\n",
      "\n",
      "那么14天逆回购重启的目的是什么呢？距离上次14天逆回购出台，已经时隔半年有余了，在7天逆回购存在的情况下，出现14天甚至21天品种的目的只有一个，是平滑未来到期过渡集中的问题，我们预测这次重启14天的目的也同样如此。\n",
      "\n",
      "至于债市上周的大跌，民生证券分析师李奇霖称，多个评级和期限的信用利差已处于历史最低水平，面临较大调整压力：\n",
      "\n",
      "首先，当前信用债绝对收益对风险的覆盖能力较低；其次，负债端成本下降较慢，绝对收益低的背景下机构的配置意愿有所下降；同时，短期信用事件没有爆发对市场情绪的提振起到了积极作用，但信用风险并未完全消失，区域风险等超预期信用事件可能对市场带来新的冲击。\n",
      "\n",
      "（2016超级交易员百万大奖赛火热报名中！)\n",
      "\n",
      "\n"
     ]
    }
   ],
   "source": [
    "print soup.article.find(class_=\"article-content\").get_text()"
   ]
  },
  {
   "cell_type": "code",
   "execution_count": 120,
   "metadata": {
    "collapsed": true
   },
   "outputs": [],
   "source": [
    "with open(\"./crawl/error.txt\", 'r') as f:\n",
    "    error_url = [line.strip() for line in f.readlines()]"
   ]
  },
  {
   "cell_type": "code",
   "execution_count": 121,
   "metadata": {
    "collapsed": false
   },
   "outputs": [
    {
     "name": "stdout",
     "output_type": "stream",
     "text": [
      "2016年08月06日 16:41:20 全球镍供应恐慌：菲律宾1 4镍矿已被关停 -华尔街见闻\n"
     ]
    }
   ],
   "source": [
    "conn = httplib.HTTPConnection(\"wallstreetcn.com\")\n",
    "error_list = []\n",
    "for url in error_url:\n",
    "    conn.request('GET', url)\n",
    "    response = conn.getresponse()\n",
    "    text = response.read()\n",
    "    soup = BeautifulSoup(text, \"html.parser\")\n",
    "    date = soup.article.find(class_=\"item time\").get_text().encode('utf-8')\n",
    "    title = soup.title.get_text()\n",
    "    title = title.replace(\"/\", \" \").encode('utf-8')\n",
    "    content = soup.article.find(class_=\"article-content\").get_text().encode('utf-8')\n",
    "    print date, title\n",
    "    try:\n",
    "        with open(\"./crawl/data/WALLSTREETCN/%s/%s_%s.txt\" % (date[:4], date, title), 'w') as f:\n",
    "            f.write(content)\n",
    "    except Exception as err:\n",
    "        print(str(err))\n",
    "        error_list.append(url)"
   ]
  },
  {
   "cell_type": "code",
   "execution_count": 199,
   "metadata": {
    "collapsed": true
   },
   "outputs": [],
   "source": [
    "url = \"http://app.finance.china.com.cn/news/column.php?cname=%E5%9B%BD%E5%86%85%E7%BB%8F%E6%B5%8E&p=85\"\n",
    "conn = httplib.HTTPConnection(\"app.finance.china.com.cn\")\n",
    "conn.request('GET', url)\n",
    "response = conn.getresponse()\n",
    "text = response.read()\n",
    "soup = BeautifulSoup(text, \"html.parser\")"
   ]
  },
  {
   "cell_type": "code",
   "execution_count": 201,
   "metadata": {
    "collapsed": false
   },
   "outputs": [
    {
     "name": "stdout",
     "output_type": "stream",
     "text": [
      "http://finance.china.com.cn/news/gnjj/20151203/3476514.shtml 国税总局：全国范围推行增值税电子普通发票 2015-12-03 08:43\n",
      "http://finance.china.com.cn/news/gnjj/20151203/3476520.shtml 央行下发征信监管指引 个人征信牌照有望年内下发 2015-12-03 08:24\n",
      "http://finance.china.com.cn/news/gnjj/20151203/3476264.shtml 交卷时间临近年底改革料提速 关注利率市场化等 2015-12-03 07:58\n",
      "http://finance.china.com.cn/news/gnjj/20151203/3475995.shtml 楼继伟:着力推动供给侧结构性改革 2015-12-03 07:29\n",
      "http://finance.china.com.cn/news/gnjj/20151203/3475932.shtml 国务院常务会议：全面两孩奖励保障制度将调整 2015-12-03 07:21\n",
      "http://finance.china.com.cn/news/gnjj/20151203/3475926.shtml 社科院建议2018年启动延迟退休 男女同65岁退休 2015-12-03 07:21\n",
      "http://finance.china.com.cn/news/gnjj/20151203/3475911.shtml 中央经济工作会议前的高频词:“供给侧”屡被提及 2015-12-03 07:16\n",
      "http://finance.china.com.cn/news/gnjj/20151203/3475910.shtml 三问延迟退休：何时开始？如何推行？有何影响？ 2015-12-03 07:15\n",
      "http://finance.china.com.cn/news/gnjj/20151203/3475888.shtml 燃煤电厂改造时间表明确 \"十三五\"市场规模超千亿 2015-12-03 07:11\n",
      "http://finance.china.com.cn/news/gnjj/20151203/3475900.shtml 公积金管理运营须提高透明度 应慎对入市风险 2015-12-03 07:05\n",
      "http://finance.china.com.cn/news/gnjj/20151203/3475722.shtml 489件国务院文件宣布失效 旨在进一步简政放权 2015-12-03 06:20\n",
      "http://finance.china.com.cn/news/gnjj/20151203/3475470.shtml 标普报告称：中国超三分之二成年人无金融常识 2015-12-03 02:52\n",
      "http://finance.china.com.cn/news/gnjj/20151203/3475381.shtml 商务部：大力培育新型产业贸易服务链 2015-12-03 02:43\n",
      "http://finance.china.com.cn/news/gnjj/20151202/3475203.shtml 国务院常务会议通过人口与计划生育法修正案 2015-12-02 19:19\n",
      "http://finance.china.com.cn/news/gnjj/20151202/3475202.shtml 国务院决定全面实施燃煤电厂超低排放和节能改造 2015-12-02 19:18\n",
      "http://finance.china.com.cn/news/gnjj/20151202/3475193.shtml 国务院：保持人民币稳定 有序实现资本项目可兑换 2015-12-02 19:12\n",
      "http://finance.china.com.cn/news/gnjj/20151202/3475181.shtml 人民币加入SDR货币篮子 未来或可境外直接使用 2015-12-02 18:54\n",
      "http://finance.china.com.cn/news/gnjj/20151202/3475142.shtml 国务院开展文件清理 着力释放简政放权新红利 2015-12-02 17:56\n",
      "http://finance.china.com.cn/news/gnjj/20151202/3474996.shtml 11月79家P2P平台出问题 涉15.7万投资人82.7亿元 2015-12-02 15:28\n",
      "http://finance.china.com.cn/news/gnjj/20151202/3474977.shtml 11月PMI继续小幅回落 专家:整体稳中向好态势未变 2015-12-02 15:06\n",
      "http://finance.china.com.cn/news/gnjj/20151202/3474943.shtml 前三季我国进出口贸易总值大幅下滑 预计全年降幅7.2% 2015-12-02 14:47\n",
      "http://finance.china.com.cn/news/gnjj/20151202/3474935.shtml 专利法修订草案：网店卖山寨 网络平台或将连坐 2015-12-02 14:42\n",
      "http://finance.china.com.cn/news/gnjj/20151202/3474803.shtml 发改委：简化企业债券审报程序 改革监管方式 2015-12-02 11:57\n",
      "http://finance.china.com.cn/news/gnjj/20151202/3474804.shtml 商务部回应网售处方药：企业应守法 保障用药安全 2015-12-02 11:52\n",
      "http://finance.china.com.cn/news/gnjj/20151202/3474799.shtml 报告建议2018年开始延退 到2045年延迟至65岁 2015-12-02 11:44\n",
      "http://finance.china.com.cn/news/gnjj/20151202/3474802.shtml 商务部谈促进生活服务业发展：研究红黑名单制度 2015-12-02 11:43\n",
      "http://finance.china.com.cn/news/gnjj/20151202/3474798.shtml 商务部谈中韩自贸协定：加快进度 推动尽早实施 2015-12-02 11:35\n",
      "http://finance.china.com.cn/news/gnjj/20151202/3474740.shtml 10月份全国共销售彩票312.34亿元 同比下降4.5% 2015-12-02 11:21\n",
      "http://finance.china.com.cn/news/gnjj/20151202/3474722.shtml 报告建议2018年开始延迟退休 到2045年延迟至65岁 2015-12-02 11:10\n",
      "http://finance.china.com.cn/news/gnjj/20151202/3474445.shtml 前10月国内保费收入超去年全年 行业发展势头良好 2015-12-02 08:55\n",
      "http://finance.china.com.cn/news/gnjj/20151202/3473957.shtml 11月制造业PMI回落至49.6% 仍需减税刺激经济增长 2015-12-02 07:26\n",
      "http://finance.china.com.cn/news/gnjj/20151202/3473952.shtml 老赖信息共享系统本月运行 担任高管登记时将拦截 2015-12-02 07:24\n",
      "http://finance.china.com.cn/news/gnjj/20151202/3473883.shtml 央行称人民币入篮后不会贬值 双向浮动不可避免 2015-12-02 07:12\n",
      "http://finance.china.com.cn/news/gnjj/20151202/3473880.shtml 十余省\"十三五\"规划建议出炉 多地表态要提前脱贫 2015-12-02 07:09\n",
      "http://finance.china.com.cn/news/gnjj/20151202/3473903.shtml 发改委松绑企业债发行 规范小微债 2015-12-02 07:08\n",
      "http://finance.china.com.cn/news/gnjj/20151202/3473902.shtml 需求不振 制造业PMI连续第四个月收缩 2015-12-02 07:07\n",
      "http://finance.china.com.cn/news/special/zgjjqjzw/20151202/3474789.shtml 稳增长作用增强11月非制造业PMI升至53.6% 2015-12-02 07:05\n",
      "http://finance.china.com.cn/news/gnjj/20151201/3473205.shtml 一图读懂习近平在气候变化巴黎大会开幕式上的讲话 2015-12-01 19:12\n",
      "http://finance.china.com.cn/news/gnjj/20151201/3472964.shtml 网购火车票需双向验证 未验证乘客恐不能网络购票 2015-12-01 13:42\n",
      "http://finance.china.com.cn/news/gnjj/20151201/3472948.shtml 住建部：国家风景名胜区资源价值丧失将被撤消 2015-12-01 13:15\n",
      "http://finance.china.com.cn/news/gnjj/20151201/3472941.shtml 11月财新中国制造业PMI升至5个月新高 2015-12-01 12:47\n",
      "http://finance.china.com.cn/news/gnjj/20151201/3472935.shtml 商务部：十三五节能环保投资规模望达17万亿 2015-12-01 12:28\n",
      "http://finance.china.com.cn/news/gnjj/20151201/3472902.shtml 易纲：人民币纳入SDR后会更稳定 2015-12-01 11:57\n",
      "http://finance.china.com.cn/news/gnjj/20151201/3472898.shtml 易纲：必要时央行还会对人民币汇率进行适当干预 2015-12-01 11:34\n",
      "http://finance.china.com.cn/news/gnjj/20151201/3472887.shtml 易纲：加入SDR并非一劳永逸 每5年考核一次 2015-12-01 11:18\n",
      "http://finance.china.com.cn/news/gnjj/20151201/3472892.shtml 央行周二实施500亿元逆回购 中标利率2.25% 2015-12-01 11:05\n",
      "http://finance.china.com.cn/news/gnjj/20151201/3472547.shtml 11月非制造业商务活动指数为53.6% 比上月上升 2015-12-01 09:18\n",
      "http://finance.china.com.cn/news/gnjj/20151201/3472543.shtml 统计局:11月制造业PMI小幅回落 结构调整继续推进 2015-12-01 09:16\n",
      "http://finance.china.com.cn/news/gnjj/20151201/3472532.shtml 11月制造业PMI为49.6% 比上月回落0.2个百分点 2015-12-01 09:14\n",
      "http://finance.china.com.cn/news/gnjj/20151201/3472482.shtml 发改委主任人民日报发文解读各种宏观调控工具 2015-12-01 08:54\n",
      "http://finance.china.com.cn/news/gnjj/20151201/3472429.shtml 延迟退休采取小步慢走 专家：可从女干部先试行 2015-12-01 08:37\n",
      "http://finance.china.com.cn/news/gnjj/20151201/3472715.shtml 业内：明年网贷利率或下行至8%以内 2015-12-01 08:32\n",
      "http://finance.china.com.cn/news/gnjj/20151201/3472728.shtml 汽柴油价格12月1日再次开启调价“窗口” 2015-12-01 07:47\n",
      "http://finance.china.com.cn/news/gnjj/20151201/3472124.shtml 土十条即将发布 土壤污染防治或开十万亿级市场 2015-12-01 07:33\n"
     ]
    }
   ],
   "source": [
    "news_list = soup.find(class_=\"news_list\")\n",
    "for li in news_list.findAll('li'):\n",
    "    item = li.find('a')\n",
    "    href = item.get('href')\n",
    "    if href.startswith(\"http://finance.china.com.cn/news\"):\n",
    "        print href, item.get_text(), li.find('span').get_text()"
   ]
  },
  {
   "cell_type": "code",
   "execution_count": 192,
   "metadata": {
    "collapsed": true
   },
   "outputs": [],
   "source": [
    "url = \"http://finance.china.com.cn/news/gnjj/20160420/3686296.shtml\""
   ]
  },
  {
   "cell_type": "code",
   "execution_count": 193,
   "metadata": {
    "collapsed": false
   },
   "outputs": [],
   "source": [
    "conn = httplib.HTTPConnection(\"finance.china.com.cn\")\n",
    "conn.request('GET', url)\n",
    "response = conn.getresponse()\n",
    "text = response.read()\n",
    "soup = BeautifulSoup(text, \"html.parser\")"
   ]
  },
  {
   "cell_type": "code",
   "execution_count": 195,
   "metadata": {
    "collapsed": false
   },
   "outputs": [
    {
     "name": "stdout",
     "output_type": "stream",
     "text": [
      "税务总局通报5起骗取出口退税案 涉案金额超120亿_财经_中国网\n"
     ]
    }
   ],
   "source": [
    "print soup.title.text"
   ]
  },
  {
   "cell_type": "code",
   "execution_count": 198,
   "metadata": {
    "collapsed": false
   },
   "outputs": [
    {
     "name": "stdout",
     "output_type": "stream",
     "text": [
      "\n",
      "　　据税务总局网站消息，4月20日，税务总局举行新闻通报会，通报5起骗取出口退税案件。据统计，这5起骗取出口退税案件涉案价值超过120亿元。\n",
      "　　税务总局表示，近年来，国家税务总局联合公安部、海关总署等部门，保持对出口骗税严厉打击的高压态势，开展专项整治，有力震慑了不法分子，缓解了骗税高发、多发态势。\n",
      "　　此次通报曝光的5起骗税案件分别为：\n",
      "　　1.“海浪2号”特大虚开骗税案\n",
      "　　2015年10月14日，在国家税务总局、公安部联合督办指挥下，深圳市国税局和公安局联合发起“海浪2号”特大黄金票虚开、骗取出口退税、贩卖假发票、偷税案集群战役统一收网行动，摧毁了以卓某为首的特大黄金票虚开发票团伙、以黄某为首的特大骗取出口退税团伙以及以詹某、刘某为首的虚开普通发票和贩卖假发票团伙，抓获犯罪嫌疑人29人，捣毁犯罪窝点22个。该案涉案金额60亿元、税额10亿元，其中涉嫌虚开发票金额50多亿元、税款8.7亿元，涉嫌骗取出口退税案值9亿多元、退税额1.5亿元。2015年11月20日，涉案的卓某、詹某、刘某等11名犯罪嫌疑人已被深圳市人民检察院批准逮捕。\n",
      "　　2.“海浪3号”特大虚开骗税案\n",
      "　　2015年12月4日，在国家税务总局、公安部、人民银行联合督办指挥下，深圳市国税局会同市公安局、人民银行等部门，协调广东、江西等地有关部门，打掉两个骗税犯罪团伙。该团伙黄某、颜某等，以深圳市新起点通讯电子有限公司等8户企业名义，收购他人产品到团伙控制的企业，虚增产能、冒充自产货物，再作出口销售，接受来自上游虚开团伙林某、周某等人从江西、湖南等地45户企业虚开的增值税专用发票用于抵扣，然后以团伙控制的“免抵退”税企业骗取退税或虚开给外贸公司骗取退税，涉案企业53户，涉案金额58亿元、税款8.39亿元。目前涉案嫌疑人已全部抓捕归案。\n",
      "　　3.深圳“10·15”专案\n",
      "　　2015年9月24日，在国家税务总局稽查局、海关总署缉私局、公安部经侦局联合督办指挥下，深圳市国税、海关、公安部门联合发起“10·15”专案收网行动，摧毁一个以伪报品名走私出口非合金锡骗取出口退税的犯罪团伙。以赵某、李某等为首的涉嫌犯罪团伙与香港某集团签订出口协议，从国内购进锡锭，委托广东东莞某焊锡制品有限公司、东莞某锡业有限公司加工成非合金锡条，再通过浙江某电子科技有限公司、广东惠州某五金焊锡制品有限公司伪报成“无铅焊锡条”出口，骗取出口退税。该案涉案金额约2亿元，涉嫌逃避出口关税2100万元，涉嫌骗取出口退税1384万元。专案行动抓获犯罪嫌疑人14名。\n",
      "　　4.厦门“8.12”出口骗税案\n",
      "　　2014年10月5日，厦门市国税局和公安局对厦门某进出口有限公司实施收网行动，抓获虚开发票骗税团伙周某等人，涉及厦门3户外贸企业。犯罪嫌疑人周某等在厦门三户外贸企业没有真实购进和出口货物的情况下，伪造货物购销合同，支付费用购买出口货物报关单，虚假报关出口货物539票，报关总金额6223万美元。与他人合伙设立开票企业，为自己虚开增值税专用发票4068份，再将他人出口的货物以自己控制的外贸公司名义报关出口，并以自营方式申报出口退税，共计6033万元，其中已收到出口退税 5431万元。税务机关追缴出口退税款5431万元，未退税款602万元不予退税，对三家外贸公司骗取出口退税行为处以1倍罚款共5431万元。涉案犯罪嫌疑人周某等7人均已被公安机关抓获。\n",
      "　　5.重庆“6·06”专案\n",
      "　　在国家税务总局、公安部的统一指挥和协调下，重庆市国税局和公安局密切协作，一举打掉以钟某、吴某为首的两个虚开增值税专用发票、骗取出口退税团伙。2010年至2013年，该团伙以重庆某船贸易有限公司为平台，通过大肆接受虚开增值税专用发票、伪造报关单证和出口运输单据等手法，制造自营货物出口的假象，骗取出口退税款1.14亿元。查获虚开增值税专用发票3021份，税额4665万元。钟某、吴某等6名涉案人员全部移送司法机关。 \n",
      "\n",
      "QIHOO_UNION_SLOT={w:580, h:60, ls:\"s43bb1fae89\"};\n",
      "\n",
      "\n",
      "\n",
      "\n"
     ]
    }
   ],
   "source": [
    "print soup.find(id=\"content\").get_text()"
   ]
  },
  {
   "cell_type": "code",
   "execution_count": null,
   "metadata": {
    "collapsed": true
   },
   "outputs": [],
   "source": []
  }
 ],
 "metadata": {
  "anaconda-cloud": {},
  "kernelspec": {
   "display_name": "Python [default]",
   "language": "python",
   "name": "python2"
  },
  "language_info": {
   "codemirror_mode": {
    "name": "ipython",
    "version": 2
   },
   "file_extension": ".py",
   "mimetype": "text/x-python",
   "name": "python",
   "nbconvert_exporter": "python",
   "pygments_lexer": "ipython2",
   "version": "2.7.12"
  }
 },
 "nbformat": 4,
 "nbformat_minor": 0
}
