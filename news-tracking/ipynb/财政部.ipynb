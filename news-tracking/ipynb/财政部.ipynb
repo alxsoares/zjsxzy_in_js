{
 "cells": [
  {
   "cell_type": "code",
   "execution_count": 163,
   "metadata": {
    "collapsed": false
   },
   "outputs": [],
   "source": [
    "import urllib2\n",
    "from bs4 import BeautifulSoup\n",
    "import httplib\n",
    "import datetime\n",
    "import os\n",
    "import requests\n",
    "import chardet"
   ]
  },
  {
   "cell_type": "markdown",
   "metadata": {},
   "source": [
    "# 财经视点"
   ]
  },
  {
   "cell_type": "code",
   "execution_count": 181,
   "metadata": {
    "collapsed": true
   },
   "outputs": [],
   "source": [
    "base_url = 'http://www.mof.gov.cn/zhengwuxinxi/caizhengxinwen/'"
   ]
  },
  {
   "cell_type": "code",
   "execution_count": 182,
   "metadata": {
    "collapsed": false
   },
   "outputs": [],
   "source": [
    "conn = httplib.HTTPConnection(\"www.mof.gov.cn\")\n",
    "conn.request('GET', base_url)\n",
    "response = conn.getresponse()\n",
    "text = response.read()\n",
    "soup = BeautifulSoup(text, \"html.parser\")"
   ]
  },
  {
   "cell_type": "code",
   "execution_count": 184,
   "metadata": {
    "collapsed": false
   },
   "outputs": [],
   "source": [
    "article_list = soup.find(class_='ZIT')"
   ]
  },
  {
   "cell_type": "code",
   "execution_count": 189,
   "metadata": {
    "collapsed": false,
    "scrolled": true
   },
   "outputs": [
    {
     "name": "stdout",
     "output_type": "stream",
     "text": [
      "http://www.mof.gov.cn/zhengwuxinxi/caizhengxinwen/../zhengcefabu/201704/t20170425_2586941.htm\n",
      "http://www.mof.gov.cn/zhengwuxinxi/caizhengxinwen/http://kjs.mof.gov.cn/zhengwuxinxi/zhengcefabu/201704/t20170425_2586955.html\n",
      "http://www.mof.gov.cn/zhengwuxinxi/caizhengxinwen/../zhengcefabu/201704/t20170425_2586942.htm\n",
      "http://www.mof.gov.cn/zhengwuxinxi/caizhengxinwen/http://whs.mof.gov.cn/pdlb/zcfb/201704/t20170425_2586988.html\n",
      "http://www.mof.gov.cn/zhengwuxinxi/caizhengxinwen/../../xinwenlianbo/henancaizhengxinxilianbo/201703/t20170327_2566567.htm\n",
      "http://www.mof.gov.cn/zhengwuxinxi/caizhengxinwen/./201704/t20170425_2587075.htm\n",
      "http://www.mof.gov.cn/zhengwuxinxi/caizhengxinwen/http://jjs.mof.gov.cn/zhengwuxinxi/zhengcefagui/201704/t20170421_2585264.html\n",
      "http://www.mof.gov.cn/zhengwuxinxi/caizhengxinwen/../../xinwenlianbo/fujiancaizhengxinxilianbo/201704/t20170412_2579205.htm\n",
      "http://www.mof.gov.cn/zhengwuxinxi/caizhengxinwen/http://xj.mof.gov.cn/lanmudaohang/caizhengjiancha/201704/t20170407_2576625.html\n",
      "http://www.mof.gov.cn/zhengwuxinxi/caizhengxinwen/./201704/t20170423_2585871.htm\n",
      "http://www.mof.gov.cn/zhengwuxinxi/caizhengxinwen/./201704/t20170422_2585854.htm\n",
      "http://www.mof.gov.cn/zhengwuxinxi/caizhengxinwen/./201704/t20170422_2585741.htm\n",
      "http://www.mof.gov.cn/zhengwuxinxi/caizhengxinwen/./201704/t20170421_2585157.htm\n",
      "http://www.mof.gov.cn/zhengwuxinxi/caizhengxinwen/../../buzhangzhichuang/bzzmj/zywgzmj/201704/t20170421_2585320.htm\n",
      "http://www.mof.gov.cn/zhengwuxinxi/caizhengxinwen/../caijingshidian/xinhuanet/201704/t20170421_2584740.html\n",
      "http://www.mof.gov.cn/zhengwuxinxi/caizhengxinwen/../caijingshidian/renminwang/201704/t20170421_2584741.html\n",
      "http://www.mof.gov.cn/zhengwuxinxi/caizhengxinwen/../../xinwenlianbo/shanxicaizhengxinxilianbo/201704/t20170419_2583462.htm\n",
      "http://www.mof.gov.cn/zhengwuxinxi/caizhengxinwen/http://he.mof.gov.cn/lanmudaohang/caizhengjiancha/201704/t20170420_2583996.html\n",
      "http://www.mof.gov.cn/zhengwuxinxi/caizhengxinwen/../zhengcefabu/201704/t20170420_2584535.htm\n",
      "http://www.mof.gov.cn/zhengwuxinxi/caizhengxinwen/./201704/t20170420_2583866.htm\n",
      "http://www.mof.gov.cn/zhengwuxinxi/caizhengxinwen/../caizhengshuju/201704/t20170420_2583867.htm\n",
      "http://www.mof.gov.cn/zhengwuxinxi/caizhengxinwen/./201704/t20170420_2583891.htm\n"
     ]
    }
   ],
   "source": [
    "for li in article_list.findAll(\"tr\"):\n",
    "    item = li.find('td')\n",
    "    elements = item.text.split('\\n')\n",
    "    elements = [x.lstrip().rstrip() for x in elements if x.lstrip().rstrip() != '']\n",
    "    path = item.find('a').get('href')\n",
    "    print os.path.join(base_url, path)\n",
    "#     print '%s%s'%(base_url, item.get('href')[2:]), item.text"
   ]
  },
  {
   "cell_type": "code",
   "execution_count": 72,
   "metadata": {
    "collapsed": false
   },
   "outputs": [],
   "source": [
    "url = 'http://gks.mof.gov.cn/zhengfuxinxi/guizhangzhidu/201702/t20170228_2543856.html'"
   ]
  },
  {
   "cell_type": "code",
   "execution_count": 73,
   "metadata": {
    "collapsed": true
   },
   "outputs": [],
   "source": [
    "conn = httplib.HTTPConnection(\"www.mof.gov.cn\")\n",
    "conn.request('GET', url)\n",
    "response = conn.getresponse()\n",
    "text = response.read()\n",
    "soup = BeautifulSoup(text, \"html.parser\")"
   ]
  },
  {
   "cell_type": "code",
   "execution_count": 74,
   "metadata": {
    "collapsed": false
   },
   "outputs": [
    {
     "name": "stdout",
     "output_type": "stream",
     "text": [
      "关于印发2017年中央国库现金管理商业银行定期存款招投标规则的通知\n"
     ]
    }
   ],
   "source": [
    "print soup.title.text"
   ]
  },
  {
   "cell_type": "code",
   "execution_count": 75,
   "metadata": {
    "collapsed": false
   },
   "outputs": [
    {
     "name": "stdout",
     "output_type": "stream",
     "text": [
      "\n",
      "\n",
      "\n",
      "\n"
     ]
    }
   ],
   "source": [
    "print soup.find(class_='font_t_pai').text"
   ]
  },
  {
   "cell_type": "code",
   "execution_count": 76,
   "metadata": {
    "collapsed": true
   },
   "outputs": [],
   "source": [
    "content = soup.find(class_='TRS_Editor')"
   ]
  },
  {
   "cell_type": "code",
   "execution_count": 77,
   "metadata": {
    "collapsed": false
   },
   "outputs": [],
   "source": [
    "text = content.text"
   ]
  },
  {
   "cell_type": "code",
   "execution_count": 81,
   "metadata": {
    "collapsed": false
   },
   "outputs": [
    {
     "data": {
      "text/plain": [
       "u'\\n\\n.TRS_Editor P{margin-bottom:1em;line-height:1.8;font-family:Arial;font-size:12pt;}.TRS_Editor DIV{margin-bottom:1em;line-height:1.8;font-family:Arial;font-size:12pt;}.TRS_Editor TD{margin-bottom:1em;line-height:1.8;font-family:Arial;font-size:12pt;}.TRS_Editor TH{margin-bottom:1em;line-height:1.8;font-family:Arial;font-size:12pt;}.TRS_Editor SPAN{margin-bottom:1em;line-height:1.8;font-family:Arial;font-size:12pt;}.TRS_Editor FONT{margin-bottom:1em;line-height:1.8;font-family:Arial;font-size:12pt;}.TRS_Editor UL{margin-bottom:1em;line-height:1.8;font-family:Arial;font-size:12pt;}.TRS_Editor LI{margin-bottom:1em;line-height:1.8;font-family:Arial;font-size:12pt;}.TRS_Editor A{margin-bottom:1em;line-height:1.8;font-family:Arial;font-size:12pt;}'"
      ]
     },
     "execution_count": 81,
     "metadata": {},
     "output_type": "execute_result"
    }
   ],
   "source": [
    "content.style.text"
   ]
  },
  {
   "cell_type": "code",
   "execution_count": 82,
   "metadata": {
    "collapsed": false
   },
   "outputs": [],
   "source": [
    "style_text = content.style.text"
   ]
  },
  {
   "cell_type": "code",
   "execution_count": 83,
   "metadata": {
    "collapsed": false
   },
   "outputs": [
    {
     "name": "stdout",
     "output_type": "stream",
     "text": [
      "\n",
      "\n",
      "财库[2017]60号　　 　　\n",
      "各中央国库现金管理商业银行定期存款参与银行：\n",
      "　　为规范中央国库现金管理商业银行定期存款招投标行为，促进中央国库现金管理商业银行定期存款业务健康发展，财政部会同人民银行制定了《2017年中央国库现金管理商业银行定期存款招投标规则》。现予以公布，请遵照执行。\n",
      "　　附件：2017年中央国库现金管理商业银行定期存款招投标规则\n",
      "　　财政部    人民银行\n",
      "　　2017年2月16日\n",
      "\n"
     ]
    }
   ],
   "source": [
    "print text.replace(style_text, '')"
   ]
  },
  {
   "cell_type": "code",
   "execution_count": null,
   "metadata": {
    "collapsed": true
   },
   "outputs": [],
   "source": []
  }
 ],
 "metadata": {
  "anaconda-cloud": {},
  "kernelspec": {
   "display_name": "Python [default]",
   "language": "python",
   "name": "python2"
  },
  "language_info": {
   "codemirror_mode": {
    "name": "ipython",
    "version": 2
   },
   "file_extension": ".py",
   "mimetype": "text/x-python",
   "name": "python",
   "nbconvert_exporter": "python",
   "pygments_lexer": "ipython2",
   "version": "2.7.12"
  }
 },
 "nbformat": 4,
 "nbformat_minor": 1
}
