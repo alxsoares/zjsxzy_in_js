{
 "cells": [
  {
   "cell_type": "code",
   "execution_count": 317,
   "metadata": {
    "collapsed": true
   },
   "outputs": [],
   "source": [
    "import numpy as np\n",
    "import pandas as pd\n",
    "import scipy\n",
    "import math\n",
    "import statsmodels\n",
    "import matplotlib.pyplot as plt\n",
    "import datetime\n",
    "import seaborn as sns\n",
    "from WindPy import w\n",
    "import calendar\n",
    "import numpy as np\n",
    "import scipy.stats as stats\n",
    "from sklearn import linear_model\n",
    "import statsmodels.api as sm\n",
    "from statsmodels.sandbox.regression.predstd import wls_prediction_std\n",
    "%matplotlib inline"
   ]
  },
  {
   "cell_type": "markdown",
   "metadata": {},
   "source": [
    "# 1. 股票"
   ]
  },
  {
   "cell_type": "code",
   "execution_count": 318,
   "metadata": {
    "collapsed": true
   },
   "outputs": [],
   "source": [
    "symbol = \"881001.WI\""
   ]
  },
  {
   "cell_type": "markdown",
   "metadata": {},
   "source": [
    "### 某一个时间点的财务类指标"
   ]
  },
  {
   "cell_type": "code",
   "execution_count": 375,
   "metadata": {
    "collapsed": true
   },
   "outputs": [],
   "source": [
    "factors = [\"mkt_cap_ard\", # 总市值\n",
    "           \"pe_ttm\", # 市盈率\n",
    "           \"pcf_ocf_ttm\", # 市现率\n",
    "           \"dividendyield2\", # 股息率\n",
    "           \"profit_ttm\", # 净利润\n",
    "           \"or_ttm\", # 营业收入\n",
    "           \"ps_ttm\" # 市销率\n",
    "          ]"
   ]
  },
  {
   "cell_type": "code",
   "execution_count": 376,
   "metadata": {
    "collapsed": true
   },
   "outputs": [],
   "source": [
    "raw_data = w.wss(symbol, factors, \"tradeDate=%s\"%(\"20161220\"))"
   ]
  },
  {
   "cell_type": "code",
   "execution_count": 377,
   "metadata": {
    "collapsed": false
   },
   "outputs": [
    {
     "data": {
      "text/plain": [
       ".ErrorCode=0\n",
       ".Codes=[881001.WI]\n",
       ".Fields=[MKT_CAP_ARD,PE_TTM,PCF_OCF_TTM,DIVIDENDYIELD2,PROFIT_TTM,OR_TTM,PS_TTM]\n",
       ".Times=[20170215 08:45:52]\n",
       ".Data=[[5.53584423133e+13],[21.3279],[9.0018],[1.3199],[nan],[nan],[1.8015]]"
      ]
     },
     "execution_count": 377,
     "metadata": {},
     "output_type": "execute_result"
    }
   ],
   "source": [
    "raw_data"
   ]
  },
  {
   "cell_type": "code",
   "execution_count": 378,
   "metadata": {
    "collapsed": false
   },
   "outputs": [],
   "source": [
    "dic = {}\n",
    "for data, field in zip(raw_data.Data, raw_data.Fields):\n",
    "    dic[str(field.lower())] = data"
   ]
  },
  {
   "cell_type": "code",
   "execution_count": 379,
   "metadata": {
    "collapsed": false
   },
   "outputs": [
    {
     "data": {
      "text/plain": [
       "{'dividendyield2': [1.3199],\n",
       " 'mkt_cap_ard': [55358442313309.0],\n",
       " 'or_ttm': [nan],\n",
       " 'pcf_ocf_ttm': [9.0018],\n",
       " 'pe_ttm': [21.3279],\n",
       " 'profit_ttm': [nan],\n",
       " 'ps_ttm': [1.8015]}"
      ]
     },
     "execution_count": 379,
     "metadata": {},
     "output_type": "execute_result"
    }
   ],
   "source": [
    "dic"
   ]
  },
  {
   "cell_type": "markdown",
   "metadata": {},
   "source": [
    "# 获取历史财务数据"
   ]
  },
  {
   "cell_type": "code",
   "execution_count": 438,
   "metadata": {
    "collapsed": false
   },
   "outputs": [
    {
     "name": "stdout",
     "output_type": "stream",
     "text": [
      "20161220\n",
      "20161221\n",
      "20161222\n",
      "20161223\n",
      "20161224\n",
      "20161225\n",
      "20161226\n",
      "20161227\n",
      "20161228\n",
      "20161229\n",
      "20161230\n",
      "20161231\n"
     ]
    }
   ],
   "source": [
    "current_date = datetime.datetime(2016, 12, 20)\n",
    "end_date = datetime.datetime(2016, 12, 31)\n",
    "dic = {}\n",
    "dates = []\n",
    "while current_date <= end_date:\n",
    "    print current_date.strftime(\"%Y%m%d\")\n",
    "    raw_data = w.wss(symbol, factors, \"tradeDate=%s\"%(current_date.strftime(\"%Y%m%d\")))\n",
    "    for data, field in zip(raw_data.Data, raw_data.Fields):\n",
    "        if not dic.has_key(str(field.lower())):\n",
    "            dic[str(field.lower())] = data\n",
    "        else:\n",
    "            dic[str(field.lower())].append(data[0])\n",
    "    dates.append(current_date)\n",
    "    current_date = current_date + datetime.timedelta(1)"
   ]
  },
  {
   "cell_type": "code",
   "execution_count": 439,
   "metadata": {
    "collapsed": false
   },
   "outputs": [],
   "source": [
    "df = pd.DataFrame(dic, index=dates)"
   ]
  },
  {
   "cell_type": "code",
   "execution_count": 440,
   "metadata": {
    "collapsed": false
   },
   "outputs": [],
   "source": [
    "df[\"date\"] = dates"
   ]
  },
  {
   "cell_type": "code",
   "execution_count": 441,
   "metadata": {
    "collapsed": false
   },
   "outputs": [
    {
     "data": {
      "text/html": [
       "<div>\n",
       "<table border=\"1\" class=\"dataframe\">\n",
       "  <thead>\n",
       "    <tr style=\"text-align: right;\">\n",
       "      <th></th>\n",
       "      <th>dividendyield2</th>\n",
       "      <th>mkt_cap_ard</th>\n",
       "      <th>or_ttm</th>\n",
       "      <th>pcf_ocf_ttm</th>\n",
       "      <th>pe_ttm</th>\n",
       "      <th>profit_ttm</th>\n",
       "      <th>ps_ttm</th>\n",
       "      <th>date</th>\n",
       "    </tr>\n",
       "  </thead>\n",
       "  <tbody>\n",
       "    <tr>\n",
       "      <th>2016-12-20</th>\n",
       "      <td>1.3199</td>\n",
       "      <td>5.535844e+13</td>\n",
       "      <td>NaN</td>\n",
       "      <td>9.0018</td>\n",
       "      <td>21.3279</td>\n",
       "      <td>NaN</td>\n",
       "      <td>1.8015</td>\n",
       "      <td>2016-12-20</td>\n",
       "    </tr>\n",
       "    <tr>\n",
       "      <th>2016-12-21</th>\n",
       "      <td>1.3069</td>\n",
       "      <td>5.591413e+13</td>\n",
       "      <td>NaN</td>\n",
       "      <td>9.0919</td>\n",
       "      <td>21.5406</td>\n",
       "      <td>NaN</td>\n",
       "      <td>1.8195</td>\n",
       "      <td>2016-12-21</td>\n",
       "    </tr>\n",
       "    <tr>\n",
       "      <th>2016-12-22</th>\n",
       "      <td>1.3067</td>\n",
       "      <td>5.592158e+13</td>\n",
       "      <td>NaN</td>\n",
       "      <td>9.0931</td>\n",
       "      <td>21.5429</td>\n",
       "      <td>NaN</td>\n",
       "      <td>1.8197</td>\n",
       "      <td>2016-12-22</td>\n",
       "    </tr>\n",
       "    <tr>\n",
       "      <th>2016-12-23</th>\n",
       "      <td>1.3183</td>\n",
       "      <td>5.544383e+13</td>\n",
       "      <td>NaN</td>\n",
       "      <td>9.0150</td>\n",
       "      <td>21.3566</td>\n",
       "      <td>NaN</td>\n",
       "      <td>1.8040</td>\n",
       "      <td>2016-12-23</td>\n",
       "    </tr>\n",
       "    <tr>\n",
       "      <th>2016-12-24</th>\n",
       "      <td>1.3184</td>\n",
       "      <td>5.544384e+13</td>\n",
       "      <td>NaN</td>\n",
       "      <td>9.0150</td>\n",
       "      <td>21.3567</td>\n",
       "      <td>NaN</td>\n",
       "      <td>1.8040</td>\n",
       "      <td>2016-12-24</td>\n",
       "    </tr>\n",
       "  </tbody>\n",
       "</table>\n",
       "</div>"
      ],
      "text/plain": [
       "            dividendyield2   mkt_cap_ard  or_ttm  pcf_ocf_ttm   pe_ttm  \\\n",
       "2016-12-20          1.3199  5.535844e+13     NaN       9.0018  21.3279   \n",
       "2016-12-21          1.3069  5.591413e+13     NaN       9.0919  21.5406   \n",
       "2016-12-22          1.3067  5.592158e+13     NaN       9.0931  21.5429   \n",
       "2016-12-23          1.3183  5.544383e+13     NaN       9.0150  21.3566   \n",
       "2016-12-24          1.3184  5.544384e+13     NaN       9.0150  21.3567   \n",
       "\n",
       "            profit_ttm  ps_ttm       date  \n",
       "2016-12-20         NaN  1.8015 2016-12-20  \n",
       "2016-12-21         NaN  1.8195 2016-12-21  \n",
       "2016-12-22         NaN  1.8197 2016-12-22  \n",
       "2016-12-23         NaN  1.8040 2016-12-23  \n",
       "2016-12-24         NaN  1.8040 2016-12-24  "
      ]
     },
     "execution_count": 441,
     "metadata": {},
     "output_type": "execute_result"
    }
   ],
   "source": [
    "df.head()"
   ]
  },
  {
   "cell_type": "code",
   "execution_count": 442,
   "metadata": {
    "collapsed": false
   },
   "outputs": [],
   "source": [
    "df.to_csv(\"%s.csv\"%(symbol))"
   ]
  },
  {
   "cell_type": "code",
   "execution_count": null,
   "metadata": {
    "collapsed": true
   },
   "outputs": [],
   "source": []
  }
 ],
 "metadata": {
  "anaconda-cloud": {},
  "kernelspec": {
   "display_name": "Python [default]",
   "language": "python",
   "name": "python2"
  },
  "language_info": {
   "codemirror_mode": {
    "name": "ipython",
    "version": 2
   },
   "file_extension": ".py",
   "mimetype": "text/x-python",
   "name": "python",
   "nbconvert_exporter": "python",
   "pygments_lexer": "ipython2",
   "version": "2.7.12"
  }
 },
 "nbformat": 4,
 "nbformat_minor": 1
}
