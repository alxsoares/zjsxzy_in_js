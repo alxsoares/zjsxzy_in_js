{
 "cells": [
  {
   "cell_type": "code",
   "execution_count": 1,
   "metadata": {
    "collapsed": true
   },
   "outputs": [],
   "source": [
    "import matplotlib.pyplot as mpl\n",
    "import scipy.cluster.hierarchy as sch\n",
    "import random\n",
    "import numpy as np\n",
    "import pandas as pd\n",
    "%matplotlib inline"
   ]
  },
  {
   "cell_type": "markdown",
   "metadata": {},
   "source": [
    "# 1) Generate correlated data"
   ]
  },
  {
   "cell_type": "code",
   "execution_count": 2,
   "metadata": {
    "collapsed": true
   },
   "outputs": [],
   "source": [
    "def generateData(nObs, size0, size1, sigma1):\n",
    "    # Time series of correlated variables\n",
    "    #1) generating some uncorrelated data\n",
    "    np.random.seed(seed=12345)\n",
    "    random.seed(12345)\n",
    "    x = np.random.normal(0,1,size=(nObs,size0)) # each row is a variable\n",
    "    #2) creating correlation between the variables\n",
    "    cols = [random.randint(0, size0-1) for i in xrange(size1)]\n",
    "    y = x[:, cols] + np.random.normal(0, sigma1, size=(nObs, len(cols)))\n",
    "    x = np.append(x, y, axis=1)\n",
    "    x = pd.DataFrame(x, columns=range(1, x.shape[1] + 1))\n",
    "    return x, cols"
   ]
  },
  {
   "cell_type": "code",
   "execution_count": 3,
   "metadata": {
    "collapsed": true
   },
   "outputs": [],
   "source": [
    "nObs,size0,size1,sigma1 = 10000,5,5,.25\n",
    "x, cols = generateData(nObs, size0, size1, sigma1)"
   ]
  },
  {
   "cell_type": "code",
   "execution_count": 4,
   "metadata": {
    "collapsed": false
   },
   "outputs": [
    {
     "name": "stdout",
     "output_type": "stream",
     "text": [
      "[(3, 6), (1, 7), (5, 8), (2, 9), (2, 10)]\n"
     ]
    }
   ],
   "source": [
    "print [(j+1,size0+i) for i,j in enumerate(cols,1)]"
   ]
  },
  {
   "cell_type": "code",
   "execution_count": 5,
   "metadata": {
    "collapsed": false
   },
   "outputs": [
    {
     "data": {
      "text/html": [
       "<div>\n",
       "<table border=\"1\" class=\"dataframe\">\n",
       "  <thead>\n",
       "    <tr style=\"text-align: right;\">\n",
       "      <th></th>\n",
       "      <th>1</th>\n",
       "      <th>2</th>\n",
       "      <th>3</th>\n",
       "      <th>4</th>\n",
       "      <th>5</th>\n",
       "      <th>6</th>\n",
       "      <th>7</th>\n",
       "      <th>8</th>\n",
       "      <th>9</th>\n",
       "      <th>10</th>\n",
       "    </tr>\n",
       "  </thead>\n",
       "  <tbody>\n",
       "    <tr>\n",
       "      <th>9995</th>\n",
       "      <td>3.024868</td>\n",
       "      <td>1.608706</td>\n",
       "      <td>0.222607</td>\n",
       "      <td>-1.002391</td>\n",
       "      <td>-1.052142</td>\n",
       "      <td>0.145550</td>\n",
       "      <td>2.856461</td>\n",
       "      <td>-0.898981</td>\n",
       "      <td>1.416062</td>\n",
       "      <td>1.754102</td>\n",
       "    </tr>\n",
       "    <tr>\n",
       "      <th>9996</th>\n",
       "      <td>0.009564</td>\n",
       "      <td>1.134083</td>\n",
       "      <td>-0.333766</td>\n",
       "      <td>-1.091950</td>\n",
       "      <td>-0.915227</td>\n",
       "      <td>-0.587262</td>\n",
       "      <td>0.366653</td>\n",
       "      <td>-1.495926</td>\n",
       "      <td>0.875206</td>\n",
       "      <td>0.887250</td>\n",
       "    </tr>\n",
       "    <tr>\n",
       "      <th>9997</th>\n",
       "      <td>-1.270282</td>\n",
       "      <td>0.809146</td>\n",
       "      <td>-0.450842</td>\n",
       "      <td>0.471795</td>\n",
       "      <td>1.894011</td>\n",
       "      <td>0.001885</td>\n",
       "      <td>-1.309590</td>\n",
       "      <td>1.788093</td>\n",
       "      <td>0.932708</td>\n",
       "      <td>0.924528</td>\n",
       "    </tr>\n",
       "    <tr>\n",
       "      <th>9998</th>\n",
       "      <td>-0.688909</td>\n",
       "      <td>0.088575</td>\n",
       "      <td>-0.563593</td>\n",
       "      <td>-0.411351</td>\n",
       "      <td>0.651575</td>\n",
       "      <td>-0.668777</td>\n",
       "      <td>-0.961016</td>\n",
       "      <td>0.494739</td>\n",
       "      <td>-0.016414</td>\n",
       "      <td>-0.162293</td>\n",
       "    </tr>\n",
       "    <tr>\n",
       "      <th>9999</th>\n",
       "      <td>0.512041</td>\n",
       "      <td>0.653848</td>\n",
       "      <td>-1.988493</td>\n",
       "      <td>-2.144291</td>\n",
       "      <td>-0.341869</td>\n",
       "      <td>-1.873981</td>\n",
       "      <td>1.212201</td>\n",
       "      <td>-0.376840</td>\n",
       "      <td>0.473976</td>\n",
       "      <td>0.713480</td>\n",
       "    </tr>\n",
       "  </tbody>\n",
       "</table>\n",
       "</div>"
      ],
      "text/plain": [
       "            1         2         3         4         5         6         7   \\\n",
       "9995  3.024868  1.608706  0.222607 -1.002391 -1.052142  0.145550  2.856461   \n",
       "9996  0.009564  1.134083 -0.333766 -1.091950 -0.915227 -0.587262  0.366653   \n",
       "9997 -1.270282  0.809146 -0.450842  0.471795  1.894011  0.001885 -1.309590   \n",
       "9998 -0.688909  0.088575 -0.563593 -0.411351  0.651575 -0.668777 -0.961016   \n",
       "9999  0.512041  0.653848 -1.988493 -2.144291 -0.341869 -1.873981  1.212201   \n",
       "\n",
       "            8         9         10  \n",
       "9995 -0.898981  1.416062  1.754102  \n",
       "9996 -1.495926  0.875206  0.887250  \n",
       "9997  1.788093  0.932708  0.924528  \n",
       "9998  0.494739 -0.016414 -0.162293  \n",
       "9999 -0.376840  0.473976  0.713480  "
      ]
     },
     "execution_count": 5,
     "metadata": {},
     "output_type": "execute_result"
    }
   ],
   "source": [
    "x.tail()"
   ]
  },
  {
   "cell_type": "markdown",
   "metadata": {},
   "source": [
    "# 2) compute and plot correl matrix"
   ]
  },
  {
   "cell_type": "code",
   "execution_count": 17,
   "metadata": {
    "collapsed": true
   },
   "outputs": [],
   "source": [
    "def plotCorrMatrix(path, corr, labels=None):\n",
    "    # Heatmap of the correlation matrix\n",
    "    if labels is None:\n",
    "        labels = []\n",
    "    mpl.pcolor(corr)\n",
    "    mpl.colorbar()\n",
    "    mpl.yticks(np.arange(.5,corr.shape[0] + .5),labels)\n",
    "    mpl.xticks(np.arange(.5,corr.shape[0] + .5),labels)\n",
    "    mpl.savefig(path)\n",
    "#     mpl.clf();\n",
    "    mpl.show()\n",
    "#     mpl.close() # reset pylab\n",
    "    return"
   ]
  },
  {
   "cell_type": "code",
   "execution_count": 7,
   "metadata": {
    "collapsed": false
   },
   "outputs": [
    {
     "data": {
      "image/png": "[encoded data removed]",
      "text/plain": [
       "<matplotlib.figure.Figure at 0x7240dd0>"
      ]
     },
     "metadata": {},
     "output_type": "display_data"
    }
   ],
   "source": [
    "cov, corr = x.cov(), x.corr()\n",
    "plotCorrMatrix('HRP3_corr0.png', corr, labels=corr.columns)"
   ]
  },
  {
   "cell_type": "markdown",
   "metadata": {
    "collapsed": true
   },
   "source": [
    "# 3) cluster"
   ]
  },
  {
   "cell_type": "code",
   "execution_count": 8,
   "metadata": {
    "collapsed": true
   },
   "outputs": [],
   "source": [
    "def correlDist(corr):\n",
    "    # A distance matrix based on correlation, where 0<=d[i,j]<=1\n",
    "    # This is a proper distance metric\n",
    "    dist=((1 - corr) / 2.) ** .5 # distance matrix\n",
    "    return dist"
   ]
  },
  {
   "cell_type": "code",
   "execution_count": 9,
   "metadata": {
    "collapsed": true
   },
   "outputs": [],
   "source": [
    "def getQuasiDiag(link):\n",
    "    # Sort clustered items by distance\n",
    "    link = link.astype(int)\n",
    "    sortIx = pd.Series([link[-1,0],link[-1,1]])\n",
    "    numItems = link[-1,3] # number of original items\n",
    "    while sortIx.max() >= numItems:\n",
    "        sortIx.index = range(0, sortIx.shape[0]*2, 2) # make space\n",
    "        df0 = sortIx[sortIx >= numItems] # find clusters\n",
    "        i = df0.index;\n",
    "        j = df0.values - numItems\n",
    "        sortIx[i] = link[j,0] # item 1\n",
    "        df0 = pd.Series(link[j,1], index=i+1)\n",
    "        sortIx = sortIx.append(df0) # item 2\n",
    "        sortIx = sortIx.sort_index() # re-sort\n",
    "        sortIx.index = range(sortIx.shape[0]) # re-index\n",
    "    return sortIx.tolist()"
   ]
  },
  {
   "cell_type": "code",
   "execution_count": 10,
   "metadata": {
    "collapsed": false
   },
   "outputs": [
    {
     "data": {
      "image/png": "[encoded data removed]",
      "text/plain": [
       "<matplotlib.figure.Figure at 0x73e55f0>"
      ]
     },
     "metadata": {},
     "output_type": "display_data"
    }
   ],
   "source": [
    "dist = correlDist(corr)\n",
    "link = sch.linkage(dist,'single')\n",
    "sortIx = getQuasiDiag(link)\n",
    "sortIx = corr.index[sortIx].tolist() # recover labels\n",
    "df0 = corr.loc[sortIx,sortIx] # reorder\n",
    "plotCorrMatrix('HRP3_corr1.png', df0, labels=df0.columns)"
   ]
  },
  {
   "cell_type": "markdown",
   "metadata": {},
   "source": [
    "# 4) Capital allocation"
   ]
  },
  {
   "cell_type": "code",
   "execution_count": 12,
   "metadata": {
    "collapsed": true
   },
   "outputs": [],
   "source": [
    "def getIVP(cov, **kargs):\n",
    "    # Compute the inverse-variance portfolio\n",
    "    ivp = 1. / np.diag(cov)\n",
    "    ivp /= ivp.sum()\n",
    "    return ivp"
   ]
  },
  {
   "cell_type": "code",
   "execution_count": 13,
   "metadata": {
    "collapsed": true
   },
   "outputs": [],
   "source": [
    "def getClusterVar(cov, cItems):\n",
    "    # Compute variance per cluster\n",
    "    cov_ = cov.loc[cItems, cItems] # matrix slice\n",
    "    w_ = getIVP(cov_).reshape(-1,1)\n",
    "    cVar = np.dot(np.dot(w_.T, cov_), w_)[0,0]\n",
    "    return cVar"
   ]
  },
  {
   "cell_type": "code",
   "execution_count": 14,
   "metadata": {
    "collapsed": true
   },
   "outputs": [],
   "source": [
    "def getRecBipart(cov, sortIx):\n",
    "    # Compute HRP alloc\n",
    "    w = pd.Series(1, index=sortIx)\n",
    "    cItems = [sortIx] # initialize all items in one cluster\n",
    "    while len(cItems)>0:\n",
    "        cItems=[i[j:k] for i in cItems for j, k in ((0,len(i)/2), \\\n",
    "            (len(i) / 2, len(i))) if len(i) > 1] # bi-section\n",
    "        for i in xrange(0, len(cItems), 2): # parse in pairs\n",
    "            cItems0 = cItems[i] # cluster 1\n",
    "            cItems1 = cItems[i + 1] # cluster 2\n",
    "            cVar0 = getClusterVar(cov, cItems0)\n",
    "            cVar1 = getClusterVar(cov, cItems1)\n",
    "            alpha = 1 - cVar0 / (cVar0 + cVar1)\n",
    "            w[cItems0] *= alpha # weight 1\n",
    "            w[cItems1] *= 1-alpha # weight 2\n",
    "    return w"
   ]
  },
  {
   "cell_type": "code",
   "execution_count": 15,
   "metadata": {
    "collapsed": true
   },
   "outputs": [],
   "source": [
    "hrp = getRecBipart(cov,sortIx)"
   ]
  },
  {
   "cell_type": "code",
   "execution_count": 16,
   "metadata": {
    "collapsed": false
   },
   "outputs": [
    {
     "data": {
      "text/plain": [
       "9     0.071239\n",
       "2     0.075922\n",
       "10    0.127903\n",
       "1     0.069994\n",
       "7     0.066189\n",
       "3     0.108389\n",
       "6     0.101915\n",
       "4     0.190291\n",
       "5     0.097199\n",
       "8     0.090959\n",
       "dtype: float64"
      ]
     },
     "execution_count": 16,
     "metadata": {},
     "output_type": "execute_result"
    }
   ],
   "source": [
    "hrp"
   ]
  },
  {
   "cell_type": "code",
   "execution_count": null,
   "metadata": {
    "collapsed": true
   },
   "outputs": [],
   "source": []
  }
 ],
 "metadata": {
  "anaconda-cloud": {},
  "kernelspec": {
   "display_name": "Python [default]",
   "language": "python",
   "name": "python2"
  },
  "language_info": {
   "codemirror_mode": {
    "name": "ipython",
    "version": 2
   },
   "file_extension": ".py",
   "mimetype": "text/x-python",
   "name": "python",
   "nbconvert_exporter": "python",
   "pygments_lexer": "ipython2",
   "version": "2.7.12"
  }
 },
 "nbformat": 4,
 "nbformat_minor": 1
}
