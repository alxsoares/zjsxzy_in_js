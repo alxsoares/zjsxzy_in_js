{
 "cells": [
  {
   "cell_type": "code",
   "execution_count": 1,
   "metadata": {
    "collapsed": false
   },
   "outputs": [],
   "source": [
    "%matplotlib inline"
   ]
  },
  {
   "cell_type": "markdown",
   "metadata": {},
   "source": [
    "\n",
    "=======================================================================\n",
    "Shrinkage covariance estimation: LedoitWolf vs OAS and max-likelihood\n",
    "=======================================================================\n",
    "\n",
    "When working with covariance estimation, the usual approach is to use\n",
    "a maximum likelihood estimator, such as the\n",
    ":class:`sklearn.covariance.EmpiricalCovariance`. It is unbiased, i.e. it\n",
    "converges to the true (population) covariance when given many\n",
    "observations. However, it can also be beneficial to regularize it, in\n",
    "order to reduce its variance; this, in turn, introduces some bias. This\n",
    "example illustrates the simple regularization used in\n",
    ":ref:`shrunk_covariance` estimators. In particular, it focuses on how to\n",
    "set the amount of regularization, i.e. how to choose the bias-variance\n",
    "trade-off.\n",
    "\n",
    "Here we compare 3 approaches:\n",
    "\n",
    "* Setting the parameter by cross-validating the likelihood on three folds\n",
    "  according to a grid of potential shrinkage parameters.\n",
    "\n",
    "* A close formula proposed by Ledoit and Wolf to compute\n",
    "  the asymptotically optimal regularization parameter (minimizing a MSE\n",
    "  criterion), yielding the :class:`sklearn.covariance.LedoitWolf`\n",
    "  covariance estimate.\n",
    "\n",
    "* An improvement of the Ledoit-Wolf shrinkage, the\n",
    "  :class:`sklearn.covariance.OAS`, proposed by Chen et al. Its\n",
    "  convergence is significantly better under the assumption that the data\n",
    "  are Gaussian, in particular for small samples.\n",
    "\n",
    "To quantify estimation error, we plot the likelihood of unseen data for\n",
    "different values of the shrinkage parameter. We also show the choices by\n",
    "cross-validation, or with the LedoitWolf and OAS estimates.\n",
    "\n",
    "Note that the maximum likelihood estimate corresponds to no shrinkage,\n",
    "and thus performs poorly. The Ledoit-Wolf estimate performs really well,\n",
    "as it is close to the optimal and is computational not costly. In this\n",
    "example, the OAS estimate is a bit further away. Interestingly, both\n",
    "approaches outperform cross-validation, which is significantly most\n",
    "computationally costly.\n",
    "\n"
   ]
  },
  {
   "cell_type": "code",
   "execution_count": 2,
   "metadata": {
    "collapsed": false
   },
   "outputs": [
    {
     "name": "stdout",
     "output_type": "stream",
     "text": [
      "Automatically created module for IPython interactive environment\n"
     ]
    }
   ],
   "source": [
    "print(__doc__)\n",
    "\n",
    "import numpy as np\n",
    "import matplotlib.pyplot as plt\n",
    "from scipy import linalg\n",
    "\n",
    "from sklearn.covariance import LedoitWolf, OAS, ShrunkCovariance, \\\n",
    "    log_likelihood, empirical_covariance\n",
    "from sklearn.model_selection import GridSearchCV"
   ]
  },
  {
   "cell_type": "markdown",
   "metadata": {},
   "source": [
    "Generate sample data\n"
   ]
  },
  {
   "cell_type": "code",
   "execution_count": 3,
   "metadata": {
    "collapsed": false
   },
   "outputs": [],
   "source": [
    "n_features, n_samples = 40, 20\n",
    "np.random.seed(42)\n",
    "base_X_train = np.random.normal(size=(n_samples, n_features))\n",
    "base_X_test = np.random.normal(size=(n_samples, n_features))\n",
    "\n",
    "# Color samples\n",
    "coloring_matrix = np.random.normal(size=(n_features, n_features))\n",
    "X_train = np.dot(base_X_train, coloring_matrix)\n",
    "X_test = np.dot(base_X_test, coloring_matrix)"
   ]
  },
  {
   "cell_type": "code",
   "execution_count": 9,
   "metadata": {
    "collapsed": false
   },
   "outputs": [
    {
     "data": {
      "text/plain": [
       "(20, 40)"
      ]
     },
     "execution_count": 9,
     "metadata": {},
     "output_type": "execute_result"
    }
   ],
   "source": [
    "X_train.shape"
   ]
  },
  {
   "cell_type": "markdown",
   "metadata": {},
   "source": [
    "Compute the likelihood on test data\n"
   ]
  },
  {
   "cell_type": "code",
   "execution_count": 4,
   "metadata": {
    "collapsed": false
   },
   "outputs": [],
   "source": [
    "# spanning a range of possible shrinkage coefficient values\n",
    "shrinkages = np.logspace(-2, 0, 30)\n",
    "negative_logliks = [-ShrunkCovariance(shrinkage=s).fit(X_train).score(X_test)\n",
    "                    for s in shrinkages]\n",
    "\n",
    "# under the ground-truth model, which we would not have access to in real\n",
    "# settings\n",
    "real_cov = np.dot(coloring_matrix.T, coloring_matrix)\n",
    "emp_cov = empirical_covariance(X_train)\n",
    "loglik_real = -log_likelihood(emp_cov, linalg.inv(real_cov))"
   ]
  },
  {
   "cell_type": "markdown",
   "metadata": {},
   "source": [
    "Compare different approaches to setting the parameter\n"
   ]
  },
  {
   "cell_type": "code",
   "execution_count": 5,
   "metadata": {
    "collapsed": false
   },
   "outputs": [],
   "source": [
    "# GridSearch for an optimal shrinkage coefficient\n",
    "tuned_parameters = [{'shrinkage': shrinkages}]\n",
    "cv = GridSearchCV(ShrunkCovariance(), tuned_parameters)\n",
    "cv.fit(X_train)\n",
    "\n",
    "# Ledoit-Wolf optimal shrinkage coefficient estimate\n",
    "lw = LedoitWolf()\n",
    "loglik_lw = lw.fit(X_train).score(X_test)\n",
    "\n",
    "# OAS coefficient estimate\n",
    "oa = OAS()\n",
    "loglik_oa = oa.fit(X_train).score(X_test)"
   ]
  },
  {
   "cell_type": "markdown",
   "metadata": {},
   "source": [
    "Plot results\n"
   ]
  },
  {
   "cell_type": "code",
   "execution_count": 6,
   "metadata": {
    "collapsed": false
   },
   "outputs": [
    {
     "data": {
      "image/png": "[encoded data removed]",
      "text/plain": [
       "<matplotlib.figure.Figure at 0x66a14d0>"
      ]
     },
     "metadata": {},
     "output_type": "display_data"
    }
   ],
   "source": [
    "fig = plt.figure()\n",
    "plt.title(\"Regularized covariance: likelihood and shrinkage coefficient\")\n",
    "plt.xlabel('Regularizaton parameter: shrinkage coefficient')\n",
    "plt.ylabel('Error: negative log-likelihood on test data')\n",
    "# range shrinkage curve\n",
    "plt.loglog(shrinkages, negative_logliks, label=\"Negative log-likelihood\")\n",
    "\n",
    "plt.plot(plt.xlim(), 2 * [loglik_real], '--r',\n",
    "         label=\"Real covariance likelihood\")\n",
    "\n",
    "# adjust view\n",
    "lik_max = np.amax(negative_logliks)\n",
    "lik_min = np.amin(negative_logliks)\n",
    "ymin = lik_min - 6. * np.log((plt.ylim()[1] - plt.ylim()[0]))\n",
    "ymax = lik_max + 10. * np.log(lik_max - lik_min)\n",
    "xmin = shrinkages[0]\n",
    "xmax = shrinkages[-1]\n",
    "# LW likelihood\n",
    "plt.vlines(lw.shrinkage_, ymin, -loglik_lw, color='magenta',\n",
    "           linewidth=3, label='Ledoit-Wolf estimate')\n",
    "# OAS likelihood\n",
    "plt.vlines(oa.shrinkage_, ymin, -loglik_oa, color='purple',\n",
    "           linewidth=3, label='OAS estimate')\n",
    "# best CV estimator likelihood\n",
    "plt.vlines(cv.best_estimator_.shrinkage, ymin,\n",
    "           -cv.best_estimator_.score(X_test), color='cyan',\n",
    "           linewidth=3, label='Cross-validation best estimate')\n",
    "\n",
    "plt.ylim(ymin, ymax)\n",
    "plt.xlim(xmin, xmax)\n",
    "plt.legend()\n",
    "\n",
    "plt.show()"
   ]
  },
  {
   "cell_type": "code",
   "execution_count": null,
   "metadata": {
    "collapsed": true
   },
   "outputs": [],
   "source": []
  }
 ],
 "metadata": {
  "anaconda-cloud": {},
  "kernelspec": {
   "display_name": "Python [default]",
   "language": "python",
   "name": "python2"
  },
  "language_info": {
   "codemirror_mode": {
    "name": "ipython",
    "version": 2
   },
   "file_extension": ".py",
   "mimetype": "text/x-python",
   "name": "python",
   "nbconvert_exporter": "python",
   "pygments_lexer": "ipython2",
   "version": "2.7.12"
  }
 },
 "nbformat": 4,
 "nbformat_minor": 0
}
