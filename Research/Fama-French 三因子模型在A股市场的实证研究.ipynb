{
 "cells": [
  {
   "cell_type": "markdown",
   "metadata": {},
   "source": [
    "# Fama-French 三因子在A股市场的实证研究\n",
    "\n",
    "Fama-French三因子模型无疑是量化领域最经典的模型之一，该模型的提出是在论文《commom risk factors in returns on bonds and stocks>里，本帖本着学习的精神对其进行了学习，并使用论文中的方法在中国A股市场上进行了实证。\n",
    "\\begin{align*}\n",
    "E(R(t))=R_f(t)+bE(R_M(t)-R_f(t))+sE(SMB(t))+hE(HML(t))\n",
    "\\end{align*}\n",
    "\n",
    "$R_M-R_f$表示的是市场因子，$SMB$表示的是规模(市值)因子，$HML$表示账面市值比因子"
   ]
  },
  {
   "cell_type": "markdown",
   "metadata": {},
   "source": [
    "# 一.背景\n",
    "资本资产定价模型（CAPM）问世以后，许多学者对其进行了实证研究，如Black和Scholes（1972）及Fama(1973)的检验证明，对1969年以前的数据而言，资本资产定价模型是有效的，而对之后的数据，却缺乏说服力。在横截面数据里，股票的平均收益和市场$\\beta$相关性很低，因而更多影响股票收益的因素亟待发掘。\n",
    "\n",
    "Fama和French(1992)研究了市场$\\beta$, 市值(size), 账面市值比(book-to-market equity),财务杠杆(leverage) 和市盈率(E/P)对平均收益的影响。横截面回归后发现，在独立检验四者对平均收益的影响时，四者都表现出了很强的解释能力，而$\\beta$很弱；在进行多变量回归时，市值和账面市值比这两个因子吸收了另两个因子的解释能力，成为了解释平均收益的决定性变量\n",
    "\n",
    "1993年，Fama和French的论文《commom risk factors in returns on bonds and stocks〉正式标志着三因子模型的建立。在该论文里，他们不仅研究了影响股票收益的因子模型，还研究了对债券收益的因子模型；更重要的是，不同于以往的横截面回归，该论文使用了Black,Jensen和Scholes的时间序列回归方法，对影响股票收益的市场超额收益，规模和账面市值比三个因子进行了实证研究。\n",
    "\n",
    "下面，本帖就论文里对股票三因子模型的研究思路，在优矿平台上对中证800成分股从2007.6到2016.5的数据进行了实证研究，以验证三因子模型的有效性。"
   ]
  },
  {
   "cell_type": "markdown",
   "metadata": {},
   "source": [
    "# 二.研究思路\n",
    "## 1.Black-Jensen-Scholes时间序列回归\n",
    "横截面回归大家都非常熟悉，无论是单变量还是多变量回归，都是在研究解释变量对响应变量的解释能力。Black-Jensen-Scholes时间序列回归的方法是Black,Jensen和Scholes所提出来验证CAPM的。早期的验证方法是先使用一个单只股票的时间序列回归估计贝塔，再用横截面回归验证CAPM推出的假设。但是这样回归会有误差项存在相关性，贝塔非平稳等问题，时间序列回归则避免了这些问题。即根据前一期估计的贝塔值对股票排序再进行分组，分别估计各投资组合的阿尔法和贝塔，每五年重新估计贝塔，然后检验各个投资组合的阿尔法是否显著为0,从而验证CAPM\n",
    "\\begin{align*}\n",
    "E(R(t))=R_f(t) +\\beta(E(R_M(t))-R_f(t))\n",
    "\\end{align*}\n",
    "\n",
    "## 2.解释变量\n",
    "解释变量就是我们需要验证的三个因子，市场超额收益，规模和账面市值比。我们要按照论文里的思路对其进行处理。\n",
    "\n",
    "## 1）分组\n",
    "把股票按每年6月末时的市值（size）大小进行排序，按照50%分位值把股票分为S(small)和B(big)两组；\n",
    "\n",
    "再依据5月末时的账面市值比（我们取1/PB）大小对800只股票进行排序，分为L（low，30%）,M(medium,40%),H(high,30%)三组;\n",
    "\n",
    "再分别对S,B和L,M,H取交集，股票即被分为了SL,SM,SH,BL,BM,BH六组。\n",
    "\n",
    "也就是说，分组每年6月末进行一次，800只股票每次被重新分为了SL,SM,SH,BL,BM,BH六组，前一年6月到第二年5月重新分组时的投资组合都是一样的\n",
    "\n",
    "这里为什么要按市值分为两组，按账面市值比分为三组呢？\n",
    "是因为账面市值比有更强的作用，我们要把它分得更细。"
   ]
  },
  {
   "cell_type": "code",
   "execution_count": 385,
   "metadata": {
    "collapsed": true
   },
   "outputs": [],
   "source": [
    "import numpy as np\n",
    "import pandas as pd\n",
    "import scipy\n",
    "import math\n",
    "import statsmodels\n",
    "import matplotlib.pyplot as plt\n",
    "import datetime\n",
    "import seaborn as sns\n",
    "from WindPy import w\n",
    "import calendar\n",
    "import numpy as np\n",
    "import scipy.stats as stats\n",
    "from sklearn import linear_model\n",
    "import statsmodels.api as sm\n",
    "from statsmodels.sandbox.regression.predstd import wls_prediction_std\n",
    "%matplotlib inline"
   ]
  },
  {
   "cell_type": "code",
   "execution_count": 386,
   "metadata": {
    "collapsed": false
   },
   "outputs": [],
   "source": [
    "sns.set(style=\"darkgrid\")"
   ]
  },
  {
   "cell_type": "code",
   "execution_count": 387,
   "metadata": {
    "collapsed": false
   },
   "outputs": [
    {
     "data": {
      "text/plain": [
       ".ErrorCode=0\n",
       ".Data=[Already conntected!]"
      ]
     },
     "execution_count": 387,
     "metadata": {},
     "output_type": "execute_result"
    }
   ],
   "source": [
    "w.start()"
   ]
  },
  {
   "cell_type": "code",
   "execution_count": 388,
   "metadata": {
    "collapsed": true
   },
   "outputs": [],
   "source": [
    "breakpoint = \"20160630\""
   ]
  },
  {
   "cell_type": "markdown",
   "metadata": {},
   "source": [
    "### 提取所有沪深300/万得全A指数成分股"
   ]
  },
  {
   "cell_type": "code",
   "execution_count": 389,
   "metadata": {
    "collapsed": false
   },
   "outputs": [],
   "source": [
    "codes = w.wset(\"IndexConstituent\",\"date=%s;windcode=881001.WI;field=wind_code\"%(breakpoint))"
   ]
  },
  {
   "cell_type": "code",
   "execution_count": 390,
   "metadata": {
    "collapsed": true
   },
   "outputs": [],
   "source": [
    "codes = codes.Data[0]"
   ]
  },
  {
   "cell_type": "code",
   "execution_count": 391,
   "metadata": {
    "collapsed": false
   },
   "outputs": [
    {
     "data": {
      "text/plain": [
       "[u'000001.SZ',\n",
       " u'000002.SZ',\n",
       " u'000004.SZ',\n",
       " u'000005.SZ',\n",
       " u'000006.SZ',\n",
       " u'000007.SZ',\n",
       " u'000008.SZ',\n",
       " u'000009.SZ',\n",
       " u'000010.SZ',\n",
       " u'000011.SZ']"
      ]
     },
     "execution_count": 391,
     "metadata": {},
     "output_type": "execute_result"
    }
   ],
   "source": [
    "codes[:10]"
   ]
  },
  {
   "cell_type": "code",
   "execution_count": 392,
   "metadata": {
    "collapsed": true
   },
   "outputs": [],
   "source": [
    "def get_account_data(symbols, factors, date):\n",
    "    raw_data = w.wss(symbols, \",\".join(factors), \"tradeDate=%s;ruleType=3\"%(date))\n",
    "    dic = {\"ticker\": symbols}\n",
    "    for data, field in zip(raw_data.Data, raw_data.Fields):\n",
    "        dic[str.lower(str(field))] = data\n",
    "    return pd.DataFrame(dic)"
   ]
  },
  {
   "cell_type": "code",
   "execution_count": 393,
   "metadata": {
    "collapsed": true
   },
   "outputs": [],
   "source": [
    "ME = get_account_data(codes, [\"mkt_cap\"], breakpoint) #取当时的市值"
   ]
  },
  {
   "cell_type": "code",
   "execution_count": 394,
   "metadata": {
    "collapsed": false
   },
   "outputs": [
    {
     "data": {
      "text/html": [
       "<div>\n",
       "<table border=\"1\" class=\"dataframe\">\n",
       "  <thead>\n",
       "    <tr style=\"text-align: right;\">\n",
       "      <th></th>\n",
       "      <th>mkt_cap</th>\n",
       "      <th>ticker</th>\n",
       "    </tr>\n",
       "  </thead>\n",
       "  <tbody>\n",
       "    <tr>\n",
       "      <th>0</th>\n",
       "      <td>1.493826e+11</td>\n",
       "      <td>000001.SZ</td>\n",
       "    </tr>\n",
       "    <tr>\n",
       "      <th>1</th>\n",
       "      <td>2.696865e+11</td>\n",
       "      <td>000002.SZ</td>\n",
       "    </tr>\n",
       "    <tr>\n",
       "      <th>2</th>\n",
       "      <td>3.092861e+09</td>\n",
       "      <td>000004.SZ</td>\n",
       "    </tr>\n",
       "    <tr>\n",
       "      <th>3</th>\n",
       "      <td>7.981368e+09</td>\n",
       "      <td>000005.SZ</td>\n",
       "    </tr>\n",
       "    <tr>\n",
       "      <th>4</th>\n",
       "      <td>9.949463e+09</td>\n",
       "      <td>000006.SZ</td>\n",
       "    </tr>\n",
       "  </tbody>\n",
       "</table>\n",
       "</div>"
      ],
      "text/plain": [
       "        mkt_cap     ticker\n",
       "0  1.493826e+11  000001.SZ\n",
       "1  2.696865e+11  000002.SZ\n",
       "2  3.092861e+09  000004.SZ\n",
       "3  7.981368e+09  000005.SZ\n",
       "4  9.949463e+09  000006.SZ"
      ]
     },
     "execution_count": 394,
     "metadata": {},
     "output_type": "execute_result"
    }
   ],
   "source": [
    "ME.head()"
   ]
  },
  {
   "cell_type": "code",
   "execution_count": 395,
   "metadata": {
    "collapsed": true
   },
   "outputs": [],
   "source": [
    "def get_6groups(breakpoint):\n",
    "    codes = w.wset(\"IndexConstituent\",\"date=%s;windcode=000300.SH;field=wind_code\"%(breakpoint))\n",
    "    codes = codes.Data[0]\n",
    "    \n",
    "    ME = get_account_data(codes, [\"mkt_cap\"], breakpoint) #取当时的市值\n",
    "    ME50 = np.percentile(ME['mkt_cap'], 50) #算出市值大小的50%分位值\n",
    "    S = ME[ME['mkt_cap'] <= ME50]['ticker'].tolist() #按市值大小分为两组，存为列表\n",
    "    B = ME[ME['mkt_cap'] > ME50]['ticker'].tolist()\n",
    "    \n",
    "    BP = get_account_data(codes, [\"pb\"], breakpoint)\n",
    "    BP = BP[BP > 0].dropna() #去掉PB值为负的股票\n",
    "    BP[['pb']]=1 / BP[['pb']] #取1/PB，为账面市值比\n",
    "    BP30 = np.percentile(BP['pb'],30)\n",
    "    BP70 = np.percentile(BP['pb'],70)\n",
    "    L = BP[BP['pb'] <= BP30]['ticker'].tolist() #按1/PB大小分为三组\n",
    "    H = BP[BP['pb'] > BP70]['ticker'].tolist()\n",
    "    M = list(set(BP['ticker'].tolist()).difference(set(L+H)))\n",
    "    \n",
    "    SL=list(set(S).intersection(set(L))) #对S组和L组的股票取交集，作为SL组的股票组合\n",
    "    SM=list(set(S).intersection(set(M)))\n",
    "    SH=list(set(S).intersection(set(H)))\n",
    "    BL=list(set(B).intersection(set(L)))\n",
    "    BM=list(set(B).intersection(set(M)))\n",
    "    BH=list(set(B).intersection(set(H)))\n",
    "    return SL, SM, SH, BL, BM, BH"
   ]
  },
  {
   "cell_type": "code",
   "execution_count": 95,
   "metadata": {
    "collapsed": true
   },
   "outputs": [],
   "source": [
    "[SL, SM, SH, BL, BM, BH] = get_6groups(breakpoint)"
   ]
  },
  {
   "cell_type": "markdown",
   "metadata": {},
   "source": [
    "下面我们要计算每个投资组合的月收益率，计算投资组合的月收益率时，要算市值加权的收益率，这是为了最小化方差（风险）"
   ]
  },
  {
   "cell_type": "code",
   "execution_count": 176,
   "metadata": {
    "collapsed": false
   },
   "outputs": [],
   "source": [
    "def get_returnMonthly(codes, Year):\n",
    "    raw_data = w.wsd(codes, \"close\", beginTime=Year+\"0630\", endTime=str(int(Year)+1)+\"0630\")\n",
    "    dic = {}\n",
    "    for data, code in zip(raw_data.Data, raw_data.Codes):\n",
    "        dic[str.lower(str(code))] = data\n",
    "    df = pd.DataFrame(dic)\n",
    "    df.index = [x for x in raw_data.Times]\n",
    "    df = df.resample('BM').last()\n",
    "    \n",
    "    returnMonthly=np.zeros(12)\n",
    "    for i in range(df.index.shape[0] - 1):\n",
    "        inf1 = pd.DataFrame(df.iloc[i, :]) #前一个月的收盘价\n",
    "        inf2 = pd.DataFrame(df.iloc[i + 1, :]) ##当月的收盘价\n",
    "        inf3 = w.wss(codes, \"mkt_cap\", \"tradeDate=%s;ruleType=3\"%(df.index[i + 1].strftime(\"%Y%m%d\")))\n",
    "        dic = {}\n",
    "        for data, code in zip(inf3.Data[0], inf3.Codes):\n",
    "            dic[str.lower(str(code))] = [data]\n",
    "        inf3 = pd.DataFrame(dic).T #当月的市值\n",
    "\n",
    "        Return = pd.concat([inf3, inf2, inf1], axis=1)\n",
    "        Return.columns=['Weight','Return','WReturn']\n",
    "        Return['Weight'] = Return['Weight'] / Return['Weight'].sum()\n",
    "        Return['Return'] = Return['Return'] / Return['WReturn'] - 1\n",
    "        Return['WReturn'] = Return['Weight'] * Return['Return']\n",
    "        returnMonthly[i] = Return['WReturn'].sum()\n",
    "    return returnMonthly"
   ]
  },
  {
   "cell_type": "code",
   "execution_count": 177,
   "metadata": {
    "collapsed": false
   },
   "outputs": [],
   "source": [
    "r_SL = get_returnMonthly(SL, \"2015\")"
   ]
  },
  {
   "cell_type": "code",
   "execution_count": 178,
   "metadata": {
    "collapsed": false
   },
   "outputs": [
    {
     "data": {
      "text/plain": [
       "array([-0.08889369, -0.13175659, -0.0422381 ,  0.15993147,  0.04089647,\n",
       "        0.07074033, -0.2529885 , -0.04183556,  0.17086679, -0.06070154,\n",
       "       -0.04352905, -0.03159452])"
      ]
     },
     "execution_count": 178,
     "metadata": {},
     "output_type": "execute_result"
    }
   ],
   "source": [
    "r_SL"
   ]
  },
  {
   "cell_type": "markdown",
   "metadata": {},
   "source": [
    "## 2）因子\n",
    "市值因子：\n",
    "\\begin{align*}\n",
    "SMB = 1/3*(SL+SM+SH)-1/3*(BL+BM+BH)\n",
    "\\end{align*}\n",
    "表示的是由于公司规模不同造成的风险溢价\n",
    "\n",
    "账面市值比因子:\n",
    "\\begin{align*}\n",
    "HML = (SH+BH)/2-(SL+BL)/2\n",
    "\\end{align*}\n",
    "表示由于账面市值比不同造成的风险溢价\n",
    "\n",
    "可以看出因子的值是一个市值加权月收益率序列,我们研究了九年的数据，所以因子的长度是9*12=108"
   ]
  },
  {
   "cell_type": "code",
   "execution_count": 396,
   "metadata": {
    "collapsed": false
   },
   "outputs": [
    {
     "name": "stdout",
     "output_type": "stream",
     "text": [
      "2007\n",
      "2008\n",
      "2009\n",
      "2010\n",
      "2011\n",
      "2012\n",
      "2013\n",
      "2014\n",
      "2015\n"
     ]
    }
   ],
   "source": [
    "#计算每年的SMB和HML因子，合在一起\n",
    "SMB=[]\n",
    "HML=[]\n",
    "r_groups = pd.DataFrame()  #用于存储每个组合的月收益率序列，方便我们之后查看\n",
    "r_groups['SL'] = np.zeros(108)\n",
    "r_groups['SM'] = np.zeros(108)\n",
    "r_groups['SH'] = np.zeros(108)\n",
    "r_groups['BL'] = np.zeros(108)\n",
    "r_groups['BM'] = np.zeros(108)\n",
    "r_groups['BH'] = np.zeros(108)\n",
    "for year in [\"2007\", \"2008\", \"2009\", \"2010\", \"2011\", \"2012\", \"2013\", \"2014\", \"2015\"]:\n",
    "    print year\n",
    "    \n",
    "    SL,SM,SH,BL,BM,BH = get_6groups(year + \"0630\")  #依据当年6月末的市值和账面市值比分组\n",
    "    r_SL = get_returnMonthly(SL, year)       #得到当年6月末到次年的市值加权月收益率序列\n",
    "    r_SM = get_returnMonthly(SM, year)\n",
    "    r_SH = get_returnMonthly(SH, year)\n",
    "    r_BL = get_returnMonthly(BL, year)\n",
    "    r_BM = get_returnMonthly(BM, year)\n",
    "    r_BH = get_returnMonthly(BH, year)\n",
    "    \n",
    "    r_groups.iloc[(int(year)-2007)*12:(int(year)-2006)*12,[0]] = r_SL.reshape(12, 1)   #把组合SL当年6月末到次年的市值加权月收益率序列\n",
    "    r_groups.iloc[(int(year)-2007)*12:(int(year)-2006)*12,[1]] = r_SM.reshape(12, 1)\n",
    "    r_groups.iloc[(int(year)-2007)*12:(int(year)-2006)*12,[2]] = r_SH.reshape(12, 1)\n",
    "    r_groups.iloc[(int(year)-2007)*12:(int(year)-2006)*12,[3]] = r_BL.reshape(12, 1)\n",
    "    r_groups.iloc[(int(year)-2007)*12:(int(year)-2006)*12,[4]] = r_BM.reshape(12, 1)\n",
    "    r_groups.iloc[(int(year)-2007)*12:(int(year)-2006)*12,[5]] = r_BH.reshape(12, 1)\n",
    "    \n",
    "    SMBr = (r_SL+r_SM+r_SH) / 3 - (r_BL+r_BM+r_BH) / 3                         #当年的SMB和HML因子，存为list\n",
    "    HMLr = (r_SH+r_BH) / 2 - (r_SL+r_BL) / 2   \n",
    "    SMB += SMBr.tolist()\n",
    "    HML += HMLr.tolist()\n",
    "    \n",
    "SMB=np.array(SMB)\n",
    "HML=np.array(HML)"
   ]
  },
  {
   "cell_type": "code",
   "execution_count": 397,
   "metadata": {
    "collapsed": false
   },
   "outputs": [],
   "source": [
    "raw_data = w.wsd(\"881001.WI\", \"close\", beginTime=\"20070601\", endTime=\"20160630\")\n",
    "dic = {}\n",
    "for data, code in zip(raw_data.Data, raw_data.Codes):\n",
    "    dic[str.lower(str(code))] = data\n",
    "rm_df = pd.DataFrame(dic, index=raw_data.Times)"
   ]
  },
  {
   "cell_type": "code",
   "execution_count": 398,
   "metadata": {
    "collapsed": false
   },
   "outputs": [],
   "source": [
    "rm_df = rm_df.resample('BM').last()"
   ]
  },
  {
   "cell_type": "code",
   "execution_count": 399,
   "metadata": {
    "collapsed": false
   },
   "outputs": [
    {
     "data": {
      "text/plain": [
       "<matplotlib.axes._subplots.AxesSubplot at 0x203b4b70>"
      ]
     },
     "execution_count": 399,
     "metadata": {},
     "output_type": "execute_result"
    },
    {
     "data": {
      "image/png": "[encoded data removed]",
      "text/plain": [
       "<matplotlib.figure.Figure at 0x203b4cd0>"
      ]
     },
     "metadata": {},
     "output_type": "display_data"
    }
   ],
   "source": [
    "r_groups.index = rm_df.index[1:]\n",
    "r_groups.plot()"
   ]
  },
  {
   "cell_type": "markdown",
   "metadata": {},
   "source": [
    "市场因子：\n",
    "\\begin{align*}\n",
    "R_M-R_f\n",
    "\\end{align*}\n",
    "RM取的就是中证800指数的收益，Rf取的是银行间质押式回购利率_同业拆借中心R007"
   ]
  },
  {
   "cell_type": "code",
   "execution_count": 400,
   "metadata": {
    "collapsed": true
   },
   "outputs": [],
   "source": [
    "raw_data = w.wsd('DR007.IB', \"close\", beginTime=\"20070601\", endTime=\"20160630\")"
   ]
  },
  {
   "cell_type": "code",
   "execution_count": 401,
   "metadata": {
    "collapsed": false
   },
   "outputs": [],
   "source": [
    "dic = {}\n",
    "for data, code in zip(raw_data.Data, raw_data.Codes):\n",
    "    dic[str.lower(str(code))] = data\n",
    "rf_df = pd.DataFrame(dic, index=raw_data.Times)"
   ]
  },
  {
   "cell_type": "code",
   "execution_count": 402,
   "metadata": {
    "collapsed": false
   },
   "outputs": [],
   "source": [
    "rf_df = rf_df.resample('BM').last()\n",
    "rf_df = rf_df / 100 / 12 #给出的是年化无风险收益，这里需要转化成月的"
   ]
  },
  {
   "cell_type": "code",
   "execution_count": 406,
   "metadata": {
    "collapsed": false
   },
   "outputs": [],
   "source": [
    "MF = rm_df.pct_change()[\"881001.wi\"][1:] - rf_df[\"dr007.ib\"][1:]"
   ]
  },
  {
   "cell_type": "code",
   "execution_count": 407,
   "metadata": {
    "collapsed": false
   },
   "outputs": [],
   "source": [
    "MF = MF.values"
   ]
  },
  {
   "cell_type": "markdown",
   "metadata": {},
   "source": [
    "三个因子我们都得到了，再来看看三个因子的状况："
   ]
  },
  {
   "cell_type": "code",
   "execution_count": 408,
   "metadata": {
    "collapsed": false
   },
   "outputs": [
    {
     "data": {
      "text/html": [
       "<div>\n",
       "<table border=\"1\" class=\"dataframe\">\n",
       "  <thead>\n",
       "    <tr style=\"text-align: right;\">\n",
       "      <th></th>\n",
       "      <th>MF</th>\n",
       "      <th>SMB</th>\n",
       "      <th>HML</th>\n",
       "    </tr>\n",
       "  </thead>\n",
       "  <tbody>\n",
       "    <tr>\n",
       "      <th>count</th>\n",
       "      <td>108.000000</td>\n",
       "      <td>108.000000</td>\n",
       "      <td>108.000000</td>\n",
       "    </tr>\n",
       "    <tr>\n",
       "      <th>mean</th>\n",
       "      <td>0.005931</td>\n",
       "      <td>0.009294</td>\n",
       "      <td>0.005055</td>\n",
       "    </tr>\n",
       "    <tr>\n",
       "      <th>std</th>\n",
       "      <td>0.097635</td>\n",
       "      <td>0.046638</td>\n",
       "      <td>0.053438</td>\n",
       "    </tr>\n",
       "    <tr>\n",
       "      <th>min</th>\n",
       "      <td>-0.277488</td>\n",
       "      <td>-0.214713</td>\n",
       "      <td>-0.124457</td>\n",
       "    </tr>\n",
       "    <tr>\n",
       "      <th>25%</th>\n",
       "      <td>-0.053915</td>\n",
       "      <td>-0.014806</td>\n",
       "      <td>-0.026530</td>\n",
       "    </tr>\n",
       "    <tr>\n",
       "      <th>50%</th>\n",
       "      <td>0.017559</td>\n",
       "      <td>0.011473</td>\n",
       "      <td>0.000304</td>\n",
       "    </tr>\n",
       "    <tr>\n",
       "      <th>75%</th>\n",
       "      <td>0.056967</td>\n",
       "      <td>0.032469</td>\n",
       "      <td>0.028142</td>\n",
       "    </tr>\n",
       "    <tr>\n",
       "      <th>max</th>\n",
       "      <td>0.192625</td>\n",
       "      <td>0.116626</td>\n",
       "      <td>0.250414</td>\n",
       "    </tr>\n",
       "  </tbody>\n",
       "</table>\n",
       "</div>"
      ],
      "text/plain": [
       "               MF         SMB         HML\n",
       "count  108.000000  108.000000  108.000000\n",
       "mean     0.005931    0.009294    0.005055\n",
       "std      0.097635    0.046638    0.053438\n",
       "min     -0.277488   -0.214713   -0.124457\n",
       "25%     -0.053915   -0.014806   -0.026530\n",
       "50%      0.017559    0.011473    0.000304\n",
       "75%      0.056967    0.032469    0.028142\n",
       "max      0.192625    0.116626    0.250414"
      ]
     },
     "execution_count": 408,
     "metadata": {},
     "output_type": "execute_result"
    },
    {
     "data": {
      "image/png": "[encoded data removed]",
      "text/plain": [
       "<matplotlib.figure.Figure at 0x2061eb30>"
      ]
     },
     "metadata": {},
     "output_type": "display_data"
    }
   ],
   "source": [
    "factor=pd.DataFrame()\n",
    "factor['MF'] = MF\n",
    "factor['SMB'] = SMB\n",
    "factor['HML'] = HML\n",
    "factor.index = r_groups.index\n",
    "factor.plot()\n",
    "factor.describe()"
   ]
  },
  {
   "cell_type": "markdown",
   "metadata": {},
   "source": [
    "到这里，我们的三个因子就处理完了，三个解释变量都做成了数组，下面可以分析一下各个因子之间的相关系数"
   ]
  },
  {
   "cell_type": "code",
   "execution_count": 409,
   "metadata": {
    "collapsed": false
   },
   "outputs": [
    {
     "data": {
      "text/html": [
       "<div>\n",
       "<table border=\"1\" class=\"dataframe\">\n",
       "  <thead>\n",
       "    <tr style=\"text-align: right;\">\n",
       "      <th></th>\n",
       "      <th>MF</th>\n",
       "      <th>SMB</th>\n",
       "      <th>HML</th>\n",
       "    </tr>\n",
       "  </thead>\n",
       "  <tbody>\n",
       "    <tr>\n",
       "      <th>MF</th>\n",
       "      <td>1.000000</td>\n",
       "      <td>0.262965</td>\n",
       "      <td>-0.121270</td>\n",
       "    </tr>\n",
       "    <tr>\n",
       "      <th>SMB</th>\n",
       "      <td>0.262965</td>\n",
       "      <td>1.000000</td>\n",
       "      <td>-0.433091</td>\n",
       "    </tr>\n",
       "    <tr>\n",
       "      <th>HML</th>\n",
       "      <td>-0.121270</td>\n",
       "      <td>-0.433091</td>\n",
       "      <td>1.000000</td>\n",
       "    </tr>\n",
       "  </tbody>\n",
       "</table>\n",
       "</div>"
      ],
      "text/plain": [
       "           MF       SMB       HML\n",
       "MF   1.000000  0.262965 -0.121270\n",
       "SMB  0.262965  1.000000 -0.433091\n",
       "HML -0.121270 -0.433091  1.000000"
      ]
     },
     "execution_count": 409,
     "metadata": {},
     "output_type": "execute_result"
    }
   ],
   "source": [
    "x = np.zeros((3,108))\n",
    "x[0] = MF\n",
    "x[1] = SMB\n",
    "x[2] = HML\n",
    "Correlations = pd.DataFrame(np.corrcoef(x))\n",
    "Correlations.columns = ['MF','SMB','HML']\n",
    "Correlations.index = ['MF','SMB','HML']\n",
    "Correlations"
   ]
  },
  {
   "cell_type": "markdown",
   "metadata": {},
   "source": [
    "### 市场收益率与SMB和HML的关系"
   ]
  },
  {
   "cell_type": "code",
   "execution_count": 444,
   "metadata": {
    "collapsed": true
   },
   "outputs": [],
   "source": [
    "df = pd.DataFrame({\"market return\": rm_df.pct_change()[\"881001.wi\"][1:], \"SMB\": SMB, \"HML\": HML, \"MF\": MF})"
   ]
  },
  {
   "cell_type": "code",
   "execution_count": 445,
   "metadata": {
    "collapsed": false
   },
   "outputs": [
    {
     "data": {
      "text/html": [
       "<div>\n",
       "<table border=\"1\" class=\"dataframe\">\n",
       "  <thead>\n",
       "    <tr style=\"text-align: right;\">\n",
       "      <th></th>\n",
       "      <th>HML</th>\n",
       "      <th>MF</th>\n",
       "      <th>SMB</th>\n",
       "      <th>market return</th>\n",
       "    </tr>\n",
       "  </thead>\n",
       "  <tbody>\n",
       "    <tr>\n",
       "      <th>2007-07-31</th>\n",
       "      <td>-0.002965</td>\n",
       "      <td>0.192625</td>\n",
       "      <td>0.003053</td>\n",
       "      <td>0.194875</td>\n",
       "    </tr>\n",
       "    <tr>\n",
       "      <th>2007-08-31</th>\n",
       "      <td>0.002690</td>\n",
       "      <td>0.154085</td>\n",
       "      <td>0.038797</td>\n",
       "      <td>0.156118</td>\n",
       "    </tr>\n",
       "    <tr>\n",
       "      <th>2007-09-28</th>\n",
       "      <td>-0.011347</td>\n",
       "      <td>0.047017</td>\n",
       "      <td>-0.214713</td>\n",
       "      <td>0.048267</td>\n",
       "    </tr>\n",
       "    <tr>\n",
       "      <th>2007-10-31</th>\n",
       "      <td>0.084239</td>\n",
       "      <td>-0.017201</td>\n",
       "      <td>0.047252</td>\n",
       "      <td>-0.014492</td>\n",
       "    </tr>\n",
       "    <tr>\n",
       "      <th>2007-11-30</th>\n",
       "      <td>-0.036121</td>\n",
       "      <td>-0.147596</td>\n",
       "      <td>0.104313</td>\n",
       "      <td>-0.145313</td>\n",
       "    </tr>\n",
       "  </tbody>\n",
       "</table>\n",
       "</div>"
      ],
      "text/plain": [
       "                 HML        MF       SMB  market return\n",
       "2007-07-31 -0.002965  0.192625  0.003053       0.194875\n",
       "2007-08-31  0.002690  0.154085  0.038797       0.156118\n",
       "2007-09-28 -0.011347  0.047017 -0.214713       0.048267\n",
       "2007-10-31  0.084239 -0.017201  0.047252      -0.014492\n",
       "2007-11-30 -0.036121 -0.147596  0.104313      -0.145313"
      ]
     },
     "execution_count": 445,
     "metadata": {},
     "output_type": "execute_result"
    }
   ],
   "source": [
    "df.head()"
   ]
  },
  {
   "cell_type": "code",
   "execution_count": 446,
   "metadata": {
    "collapsed": false
   },
   "outputs": [],
   "source": [
    "X = sm.add_constant(df[\"SMB\"])"
   ]
  },
  {
   "cell_type": "code",
   "execution_count": 447,
   "metadata": {
    "collapsed": false
   },
   "outputs": [],
   "source": [
    "y = df[\"market return\"]"
   ]
  },
  {
   "cell_type": "code",
   "execution_count": 448,
   "metadata": {
    "collapsed": true
   },
   "outputs": [],
   "source": [
    "model = sm.OLS(y, X)"
   ]
  },
  {
   "cell_type": "code",
   "execution_count": 449,
   "metadata": {
    "collapsed": true
   },
   "outputs": [],
   "source": [
    "result = model.fit()"
   ]
  },
  {
   "cell_type": "code",
   "execution_count": 450,
   "metadata": {
    "collapsed": false,
    "scrolled": true
   },
   "outputs": [
    {
     "data": {
      "text/html": [
       "<table class=\"simpletable\">\n",
       "<tr>\n",
       "        <td>Model:</td>               <td>OLS</td>         <td>Adj. R-squared:</td>     <td>0.060</td>  \n",
       "</tr>\n",
       "<tr>\n",
       "  <td>Dependent Variable:</td>   <td>market return</td>         <td>AIC:</td>         <td>-201.0781</td>\n",
       "</tr>\n",
       "<tr>\n",
       "         <td>Date:</td>        <td>2017-02-15 10:28</td>        <td>BIC:</td>         <td>-195.7139</td>\n",
       "</tr>\n",
       "<tr>\n",
       "   <td>No. Observations:</td>         <td>108</td>         <td>Log-Likelihood:</td>    <td>102.54</td>  \n",
       "</tr>\n",
       "<tr>\n",
       "       <td>Df Model:</td>              <td>1</td>           <td>F-statistic:</td>       <td>7.801</td>  \n",
       "</tr>\n",
       "<tr>\n",
       "     <td>Df Residuals:</td>           <td>106</td>       <td>Prob (F-statistic):</td>  <td>0.00620</td> \n",
       "</tr>\n",
       "<tr>\n",
       "      <td>R-squared:</td>            <td>0.069</td>            <td>Scale:</td>        <td>0.0089325</td>\n",
       "</tr>\n",
       "</table>\n",
       "<table class=\"simpletable\">\n",
       "<tr>\n",
       "    <td></td>     <th>Coef.</th> <th>Std.Err.</th>    <th>t</th>    <th>P>|t|</th> <th>[0.025</th>  <th>0.975]</th>\n",
       "</tr>\n",
       "<tr>\n",
       "  <th>const</th> <td>0.0035</td>  <td>0.0093</td>  <td>0.3768</td> <td>0.7071</td> <td>-0.0149</td> <td>0.0219</td>\n",
       "</tr>\n",
       "<tr>\n",
       "  <th>SMB</th>   <td>0.5472</td>  <td>0.1959</td>  <td>2.7931</td> <td>0.0062</td> <td>0.1588</td>  <td>0.9356</td>\n",
       "</tr>\n",
       "</table>\n",
       "<table class=\"simpletable\">\n",
       "<tr>\n",
       "     <td>Omnibus:</td>     <td>5.187</td>  <td>Durbin-Watson:</td>   <td>1.739</td>\n",
       "</tr>\n",
       "<tr>\n",
       "  <td>Prob(Omnibus):</td>  <td>0.075</td> <td>Jarque-Bera (JB):</td> <td>4.561</td>\n",
       "</tr>\n",
       "<tr>\n",
       "       <td>Skew:</td>     <td>-0.442</td>     <td>Prob(JB):</td>     <td>0.102</td>\n",
       "</tr>\n",
       "<tr>\n",
       "     <td>Kurtosis:</td>    <td>3.482</td>  <td>Condition No.:</td>    <td>22</td>  \n",
       "</tr>\n",
       "</table>"
      ],
      "text/plain": [
       "<class 'statsmodels.iolib.summary2.Summary'>\n",
       "\"\"\"\n",
       "                  Results: Ordinary least squares\n",
       "==================================================================\n",
       "Model:              OLS              Adj. R-squared:     0.060    \n",
       "Dependent Variable: market return    AIC:                -201.0781\n",
       "Date:               2017-02-15 10:28 BIC:                -195.7139\n",
       "No. Observations:   108              Log-Likelihood:     102.54   \n",
       "Df Model:           1                F-statistic:        7.801    \n",
       "Df Residuals:       106              Prob (F-statistic): 0.00620  \n",
       "R-squared:          0.069            Scale:              0.0089325\n",
       "---------------------------------------------------------------------\n",
       "          Coef.     Std.Err.      t       P>|t|      [0.025    0.975]\n",
       "---------------------------------------------------------------------\n",
       "const     0.0035      0.0093    0.3768    0.7071    -0.0149    0.0219\n",
       "SMB       0.5472      0.1959    2.7931    0.0062     0.1588    0.9356\n",
       "------------------------------------------------------------------\n",
       "Omnibus:              5.187         Durbin-Watson:           1.739\n",
       "Prob(Omnibus):        0.075         Jarque-Bera (JB):        4.561\n",
       "Skew:                 -0.442        Prob(JB):                0.102\n",
       "Kurtosis:             3.482         Condition No.:           22   \n",
       "==================================================================\n",
       "\n",
       "\"\"\""
      ]
     },
     "execution_count": 450,
     "metadata": {},
     "output_type": "execute_result"
    }
   ],
   "source": [
    "result.summary2()"
   ]
  },
  {
   "cell_type": "code",
   "execution_count": 452,
   "metadata": {
    "collapsed": false
   },
   "outputs": [
    {
     "data": {
      "text/plain": [
       "<matplotlib.axes._subplots.AxesSubplot at 0x21679c90>"
      ]
     },
     "execution_count": 452,
     "metadata": {},
     "output_type": "execute_result"
    },
    {
     "data": {
      "image/png": "[encoded data removed]",
      "text/plain": [
       "<matplotlib.figure.Figure at 0x20899d50>"
      ]
     },
     "metadata": {},
     "output_type": "display_data"
    }
   ],
   "source": [
    "df[[\"SMB\", \"market return\"]].plot()"
   ]
  },
  {
   "cell_type": "code",
   "execution_count": null,
   "metadata": {
    "collapsed": true
   },
   "outputs": [],
   "source": []
  },
  {
   "cell_type": "code",
   "execution_count": null,
   "metadata": {
    "collapsed": true
   },
   "outputs": [],
   "source": []
  },
  {
   "cell_type": "code",
   "execution_count": null,
   "metadata": {
    "collapsed": true
   },
   "outputs": [],
   "source": []
  },
  {
   "cell_type": "code",
   "execution_count": null,
   "metadata": {
    "collapsed": true
   },
   "outputs": [],
   "source": []
  },
  {
   "cell_type": "code",
   "execution_count": null,
   "metadata": {
    "collapsed": true
   },
   "outputs": [],
   "source": []
  },
  {
   "cell_type": "markdown",
   "metadata": {},
   "source": [
    "# 3. 响应变量\n",
    "首先我们将股票按之前的方法分为25个组合，即：\n",
    "\n",
    "在每年6月末，按照市值大小将股票排序并分为5组，然后按照账面市值比大小把股票分为5组，交叉取交集，得到5*5=25个股票组合\n",
    "\n",
    "也就是说，我们将作25个回归，每次回归时的解释变量都一样，响应变量不同"
   ]
  },
  {
   "cell_type": "code",
   "execution_count": 237,
   "metadata": {
    "collapsed": true
   },
   "outputs": [],
   "source": [
    "def get_25groups(breakpoint):\n",
    "    codes = w.wset(\"IndexConstituent\",\"date=%s;windcode=000300.SH;field=wind_code\"%(breakpoint))\n",
    "    codes = codes.Data[0]\n",
    "    \n",
    "    ME = get_account_data(codes, [\"mkt_cap\"], breakpoint) #取当时的市值\n",
    "    MEq = np.zeros(6) #用于存储ME的分位值\n",
    "    ME_5 = pd.Series([]) #用于存储依据市值分好的5个组\n",
    "    \n",
    "    BP = get_account_data(codes, [\"pb\"], breakpoint)\n",
    "    BP = BP[BP>0].dropna() #去掉PB值为负的股票\n",
    "    BP[['pb']] = 1 / BP[['pb']] #取1/PB，为账面市值比\n",
    "    BPq = np.zeros(6)  #用于存储1/PB的分位值\n",
    "    BP_5 = pd.Series([]) #用于存储依据账面市值比分好的5个组\n",
    "    \n",
    "    for i in range(5):\n",
    "        MEq[i+1] = np.percentile(ME['mkt_cap'], (i+1)*20) #算出市值大小的20%,40%,60%,80%分位值\n",
    "        BPq[i+1] = np.percentile(BP['pb'], (i+1)*20)\n",
    "        \n",
    "        D = ME[(ME['mkt_cap'] > MEq[i]) & (ME['mkt_cap'] <= MEq[i+1])]['ticker'].tolist() #取市值处于相应分位值区间的股票\n",
    "        if i == 0:\n",
    "            ME_5 = pd.Series(D)\n",
    "        else:\n",
    "            ME_5 = pd.concat([ME_5, pd.Series(D)], axis=1)\n",
    "        \n",
    "        E = BP[(BP['pb'] > BPq[i]) & (BP['pb'] <= BPq[i+1])]['ticker'].tolist()\n",
    "        if i == 0:\n",
    "            BP_5 = pd.Series(D)\n",
    "        else:\n",
    "            BP_5 = pd.concat([BP_5, pd.Series(E)], axis=1)\n",
    "    ME_5.columns = range(5) #重命名列名\n",
    "    BP_5.columns = range(5)\n",
    "    Group25 = pd.Series([]) #用于存著交叉取交集后的25个股票组合\n",
    "    for i in range(5):\n",
    "        for j in range(5):\n",
    "            s1 = ME_5[i].dropna().tolist()\n",
    "            s2 = BP_5[j].dropna().tolist() \n",
    "            stocks = pd.Series(list(set(s1).intersection(set(s2)))) #取交集\n",
    "            if i == 0 and j == 0:\n",
    "                Group25 = stocks\n",
    "            else:\n",
    "                Group25 = pd.concat([Group25,stocks], axis=1)\n",
    "    Group25.columns = range(25)\n",
    "    return Group25"
   ]
  },
  {
   "cell_type": "markdown",
   "metadata": {},
   "source": [
    "计算25个股票组合，每个组合的市值加权月收益率序列"
   ]
  },
  {
   "cell_type": "code",
   "execution_count": 267,
   "metadata": {
    "collapsed": false
   },
   "outputs": [
    {
     "name": "stdout",
     "output_type": "stream",
     "text": [
      "2007\n",
      "0 12 12\n",
      "1 12 12\n",
      "2 12 12\n",
      "3 12 12\n",
      "4 12 12\n",
      "5 12 12\n",
      "6 12 12\n",
      "7 12 12\n",
      "8 12 12\n",
      "9 12 12\n",
      "10 12 12\n",
      "11 12 12\n",
      "12 12 12\n",
      "13 12 12\n",
      "14 12 12\n",
      "15 12 12\n",
      "16 12 12\n",
      "17 12 12\n",
      "18 12 12\n",
      "19 12 12\n",
      "20 12 12\n",
      "21 12 12\n",
      "22 12 12\n",
      "23 12 12\n",
      "24 12 12\n",
      "2008\n",
      "0 24 12\n",
      "1 24 12\n",
      "2 24 12\n",
      "3 24 12\n",
      "4 24 12\n",
      "5 24 12\n",
      "6 24 12\n",
      "7 24 12\n",
      "8 24 12\n",
      "9 24 12\n",
      "10 24 12\n",
      "11 24 12\n",
      "12 24 12\n",
      "13 24 12\n",
      "14 24 12\n",
      "15 24 12\n",
      "16 24 12\n",
      "17 24 12\n",
      "18 24 12\n",
      "19 24 12\n",
      "20 24 12\n",
      "21 24 12\n",
      "22 24 12\n",
      "23 24 12\n",
      "24 24 12\n",
      "2009\n",
      "0 36 12\n",
      "1 36 12\n",
      "2 36 12\n",
      "3 36 12\n",
      "4 36 12\n",
      "5 36 12\n",
      "6 36 12\n",
      "7 36 12\n",
      "8 36 12\n",
      "9 36 12\n",
      "10 36 12\n",
      "11 36 12\n",
      "12 36 12\n",
      "13 36 12\n",
      "14 36 12\n",
      "15 36 12\n",
      "16 36 12\n",
      "17 36 12\n",
      "18 36 12\n",
      "19 36 12\n",
      "20 36 12\n",
      "21 36 12\n",
      "22 36 12\n",
      "23 36 12\n",
      "24 36 12\n",
      "2010\n",
      "0 48 12\n",
      "1 48 12\n",
      "2 48 12\n",
      "3 48 12\n",
      "4 48 12\n",
      "5 48 12\n",
      "6 48 12\n",
      "7 48 12\n",
      "8 48 12\n",
      "9 48 12\n",
      "10 48 12\n",
      "11 48 12\n",
      "12 48 12\n",
      "13 48 12\n",
      "14 48 12\n",
      "15 48 12\n",
      "16 48 12\n",
      "17 48 12\n",
      "18 48 12\n",
      "19 48 12\n",
      "20 48 12\n",
      "21 48 12\n",
      "22 48 12\n",
      "23 48 12\n",
      "24 48 12\n",
      "2011\n",
      "0 60 12\n",
      "1 60 12\n",
      "2 60 12\n",
      "3 60 12\n",
      "4 60 12\n",
      "5 60 12\n",
      "6 60 12\n",
      "7 60 12\n",
      "8 60 12\n",
      "9 60 12\n",
      "10 60 12\n",
      "11 60 12\n",
      "12 60 12\n",
      "13 60 12\n",
      "14 60 12\n",
      "15 60 12\n",
      "16 60 12\n",
      "17 60 12\n",
      "18 60 12\n",
      "19 60 12\n",
      "20 60 12\n",
      "21 60 12\n",
      "22 60 12\n",
      "23 60 12\n",
      "24 60 12\n",
      "2012\n",
      "0 72 12\n",
      "1 72 12\n",
      "2 72 12\n",
      "3 72 12\n",
      "4 72 12\n",
      "5 72 12\n",
      "6 72 12\n",
      "7 72 12\n",
      "8 72 12\n",
      "9 72 12\n",
      "10 72 12\n",
      "11 72 12\n",
      "12 72 12\n",
      "13 72 12\n",
      "14 72 12\n",
      "15 72 12\n",
      "16 72 12\n",
      "17 72 12\n",
      "18 72 12\n",
      "19 72 12\n",
      "20 72 12\n",
      "21 72 12\n",
      "22 72 12\n",
      "23 72 12\n",
      "24 72 12\n",
      "2013\n",
      "0 84 12\n",
      "1 84 12\n",
      "2 84 12\n",
      "3 84 12\n",
      "4 84 12\n",
      "5 84 12\n",
      "6 84 12\n",
      "7 84 12\n",
      "8 84 12\n",
      "9 84 12\n",
      "10 84 12\n",
      "11 84 12\n",
      "12 84 12\n",
      "13 84 12\n",
      "14 84 12\n",
      "15 84 12\n",
      "16 84 12\n",
      "17 84 12\n",
      "18 84 12\n",
      "19 84 12\n",
      "20 84 12\n",
      "21 84 12\n",
      "22 84 12\n",
      "23 84 12\n",
      "24 84 12\n",
      "2014\n",
      "0 96 12\n",
      "1 96 12\n",
      "2 96 12\n",
      "3 96 12\n",
      "4 96 12\n",
      "5 96 12\n",
      "6 96 12\n",
      "7 96 12\n",
      "8 96 12\n",
      "9 96 12\n",
      "10 96 12\n",
      "11 96 12\n",
      "12 96 12\n",
      "13 96 12\n",
      "14 96 12\n",
      "15 96 12\n",
      "16 96 12\n",
      "17 96 12\n",
      "18 96 12\n",
      "19 96 12\n",
      "20 96 12\n",
      "21 96 12\n",
      "22 96 12\n",
      "23 96 12\n",
      "24 96 12\n",
      "2015\n",
      "0 108 12\n",
      "1 108 12\n",
      "2 108 12\n",
      "3 108 12\n",
      "4 108 12\n",
      "5 108 12\n",
      "6 108 12\n",
      "7 108 12\n",
      "8 108 12\n",
      "9 108 12\n",
      "10 108 12\n",
      "11 108 12\n",
      "12 108 12\n",
      "13 108 12\n",
      "14 108 12\n",
      "15 108 12\n",
      "16 108 12\n",
      "17 108 12\n",
      "18 108 12\n",
      "19 108 12\n",
      "20 108 12\n",
      "21 108 12\n",
      "22 108 12\n",
      "23 108 12\n",
      "24 108 12\n"
     ]
    }
   ],
   "source": [
    "a = {}\n",
    "for i in range(25):\n",
    "    a[i] = []\n",
    "for year in [\"2007\", \"2008\", \"2009\", \"2010\", \"2011\", \"2012\", \"2013\", \"2014\", \"2015\"]:\n",
    "    print year\n",
    "    Group25 = get_25groups(year+\"0630\")   #每年进行分组\n",
    "    for i in range(25):\n",
    "        temp = get_returnMonthly(Group25[i].dropna().tolist(), year).tolist()\n",
    "        a[i] = a[i] + temp   #收益率转化为list，方便每年相加\n",
    "        print i, len(a[i]), len(temp)"
   ]
  },
  {
   "cell_type": "code",
   "execution_count": 282,
   "metadata": {
    "collapsed": false
   },
   "outputs": [],
   "source": [
    "EReturn = np.zeros((25, 12*9)) #用于存储25个组合的超额收益序列\n",
    "for i in range(25):\n",
    "    EReturn[i, :] = np.array(a[i]) - rf_df[\"dr007.ib\"].values[1:]"
   ]
  },
  {
   "cell_type": "markdown",
   "metadata": {},
   "source": [
    "看一下25个组合超额收益的均值和方差："
   ]
  },
  {
   "cell_type": "code",
   "execution_count": 284,
   "metadata": {
    "collapsed": false
   },
   "outputs": [],
   "source": [
    "EReturn_mean = np.zeros(25)\n",
    "for i in range(25):\n",
    "    EReturn_mean[i] = EReturn[i].mean()\n",
    "mean = pd.DataFrame(EReturn_mean.reshape(5, 5))\n",
    "mean.columns = ['small_BE/ME','1','2','3','big_BE/ME']\n",
    "mean.index = ['small_size','1','2','3','big_size']"
   ]
  },
  {
   "cell_type": "code",
   "execution_count": 285,
   "metadata": {
    "collapsed": false
   },
   "outputs": [
    {
     "data": {
      "text/html": [
       "<div>\n",
       "<table border=\"1\" class=\"dataframe\">\n",
       "  <thead>\n",
       "    <tr style=\"text-align: right;\">\n",
       "      <th></th>\n",
       "      <th>small_BE/ME</th>\n",
       "      <th>1</th>\n",
       "      <th>2</th>\n",
       "      <th>3</th>\n",
       "      <th>big_BE/ME</th>\n",
       "    </tr>\n",
       "  </thead>\n",
       "  <tbody>\n",
       "    <tr>\n",
       "      <th>small_size</th>\n",
       "      <td>0.013450</td>\n",
       "      <td>0.015131</td>\n",
       "      <td>0.016159</td>\n",
       "      <td>0.008277</td>\n",
       "      <td>0.010358</td>\n",
       "    </tr>\n",
       "    <tr>\n",
       "      <th>1</th>\n",
       "      <td>-0.002649</td>\n",
       "      <td>0.005285</td>\n",
       "      <td>0.000534</td>\n",
       "      <td>0.006488</td>\n",
       "      <td>0.006772</td>\n",
       "    </tr>\n",
       "    <tr>\n",
       "      <th>2</th>\n",
       "      <td>-0.002649</td>\n",
       "      <td>0.001281</td>\n",
       "      <td>0.007701</td>\n",
       "      <td>0.011316</td>\n",
       "      <td>0.010581</td>\n",
       "    </tr>\n",
       "    <tr>\n",
       "      <th>3</th>\n",
       "      <td>-0.002649</td>\n",
       "      <td>-0.003894</td>\n",
       "      <td>0.003454</td>\n",
       "      <td>0.006577</td>\n",
       "      <td>0.004386</td>\n",
       "    </tr>\n",
       "    <tr>\n",
       "      <th>big_size</th>\n",
       "      <td>-0.002649</td>\n",
       "      <td>-0.008120</td>\n",
       "      <td>0.001350</td>\n",
       "      <td>-0.001827</td>\n",
       "      <td>0.001151</td>\n",
       "    </tr>\n",
       "  </tbody>\n",
       "</table>\n",
       "</div>"
      ],
      "text/plain": [
       "            small_BE/ME         1         2         3  big_BE/ME\n",
       "small_size     0.013450  0.015131  0.016159  0.008277   0.010358\n",
       "1             -0.002649  0.005285  0.000534  0.006488   0.006772\n",
       "2             -0.002649  0.001281  0.007701  0.011316   0.010581\n",
       "3             -0.002649 -0.003894  0.003454  0.006577   0.004386\n",
       "big_size      -0.002649 -0.008120  0.001350 -0.001827   0.001151"
      ]
     },
     "execution_count": 285,
     "metadata": {},
     "output_type": "execute_result"
    }
   ],
   "source": [
    "mean"
   ]
  },
  {
   "cell_type": "code",
   "execution_count": 286,
   "metadata": {
    "collapsed": true
   },
   "outputs": [],
   "source": [
    "EReturn_std = np.zeros(25)\n",
    "for i in range(25):\n",
    "    EReturn_std[i] = EReturn[i].std()\n",
    "std = pd.DataFrame(EReturn_std.reshape(5, 5))\n",
    "std.columns = ['small_BE/ME','1','2','3','big_BE/ME']\n",
    "std.index = ['small_size','1','2','3','big_size']"
   ]
  },
  {
   "cell_type": "code",
   "execution_count": 287,
   "metadata": {
    "collapsed": false
   },
   "outputs": [
    {
     "data": {
      "text/html": [
       "<div>\n",
       "<table border=\"1\" class=\"dataframe\">\n",
       "  <thead>\n",
       "    <tr style=\"text-align: right;\">\n",
       "      <th></th>\n",
       "      <th>small_BE/ME</th>\n",
       "      <th>1</th>\n",
       "      <th>2</th>\n",
       "      <th>3</th>\n",
       "      <th>big_BE/ME</th>\n",
       "    </tr>\n",
       "  </thead>\n",
       "  <tbody>\n",
       "    <tr>\n",
       "      <th>small_size</th>\n",
       "      <td>0.101299</td>\n",
       "      <td>0.114763</td>\n",
       "      <td>0.107435</td>\n",
       "      <td>0.105938</td>\n",
       "      <td>0.106049</td>\n",
       "    </tr>\n",
       "    <tr>\n",
       "      <th>1</th>\n",
       "      <td>0.001101</td>\n",
       "      <td>0.096902</td>\n",
       "      <td>0.109911</td>\n",
       "      <td>0.103834</td>\n",
       "      <td>0.109763</td>\n",
       "    </tr>\n",
       "    <tr>\n",
       "      <th>2</th>\n",
       "      <td>0.001101</td>\n",
       "      <td>0.111876</td>\n",
       "      <td>0.114255</td>\n",
       "      <td>0.106716</td>\n",
       "      <td>0.109860</td>\n",
       "    </tr>\n",
       "    <tr>\n",
       "      <th>3</th>\n",
       "      <td>0.001101</td>\n",
       "      <td>0.100726</td>\n",
       "      <td>0.107980</td>\n",
       "      <td>0.111283</td>\n",
       "      <td>0.112520</td>\n",
       "    </tr>\n",
       "    <tr>\n",
       "      <th>big_size</th>\n",
       "      <td>0.001101</td>\n",
       "      <td>0.094041</td>\n",
       "      <td>0.113491</td>\n",
       "      <td>0.092395</td>\n",
       "      <td>0.092093</td>\n",
       "    </tr>\n",
       "  </tbody>\n",
       "</table>\n",
       "</div>"
      ],
      "text/plain": [
       "            small_BE/ME         1         2         3  big_BE/ME\n",
       "small_size     0.101299  0.114763  0.107435  0.105938   0.106049\n",
       "1              0.001101  0.096902  0.109911  0.103834   0.109763\n",
       "2              0.001101  0.111876  0.114255  0.106716   0.109860\n",
       "3              0.001101  0.100726  0.107980  0.111283   0.112520\n",
       "big_size       0.001101  0.094041  0.113491  0.092395   0.092093"
      ]
     },
     "execution_count": 287,
     "metadata": {},
     "output_type": "execute_result"
    }
   ],
   "source": [
    "std"
   ]
  },
  {
   "cell_type": "markdown",
   "metadata": {},
   "source": [
    "# 三.回归和结果\n",
    "## 1.回归一\n",
    "CAPM回归模型：\n",
    "\\begin{align*}\n",
    "R(t)-R_f(t) = a+b(R_M(t)-R_f(t))+e(t)\n",
    "\\end{align*}\n",
    "这就是经典的CAPM模型，我们可以检验一下它在中国A股市场的有效性："
   ]
  },
  {
   "cell_type": "code",
   "execution_count": 290,
   "metadata": {
    "collapsed": true
   },
   "outputs": [],
   "source": [
    "a1 = np.zeros(25)   #a项\n",
    "b1 = np.zeros(25)   #市场因子项系数\n",
    "e1 = np.zeros((25,108))   #残差项\n",
    "R2_1 = np.zeros(25)   #R2相关系数平方\n",
    "tb1 = np.zeros(25)\n",
    "ta1 = np.zeros(25)\n",
    "ap1 = np.zeros(25)  #a显著性检验的P值，下面类同\n",
    "bp1 = np.zeros(25)"
   ]
  },
  {
   "cell_type": "code",
   "execution_count": 291,
   "metadata": {
    "collapsed": true
   },
   "outputs": [],
   "source": [
    "for i in range(25):\n",
    "    X = np.zeros((1, 108))\n",
    "    X[0] = MF\n",
    "    X = X.T\n",
    "    X = sm.add_constant(X,has_constant='skip')\n",
    "    y = EReturn[i]\n",
    "    model = sm.OLS(y, X)\n",
    "    results = model.fit()\n",
    "    a1[i] = results.params[0]\n",
    "    b1[i] = results.params[1]\n",
    "    ap1[i] = results.pvalues[0]\n",
    "    bp1[i] = results.pvalues[1]\n",
    "    R2_1[i] = results.rsquared\n",
    "    e1[i] = results.resid\n",
    "    tb1[i] = results.tvalues[1]\n",
    "    ta1[i] = results.tvalues[0]"
   ]
  },
  {
   "cell_type": "markdown",
   "metadata": {},
   "source": [
    "先看一下这25个回归的判定系数R2，它度量了拟合程度的好坏。"
   ]
  },
  {
   "cell_type": "code",
   "execution_count": 292,
   "metadata": {
    "collapsed": true
   },
   "outputs": [],
   "source": [
    "R2inf1 = pd.DataFrame(R2_1.reshape(5, 5))\n",
    "R2inf1.columns = ['small_BE/ME','1','2','3','big_BE/ME']\n",
    "R2inf1.index = ['small_size','1','2','3','big_size']"
   ]
  },
  {
   "cell_type": "code",
   "execution_count": 293,
   "metadata": {
    "collapsed": false
   },
   "outputs": [
    {
     "data": {
      "text/html": [
       "<div>\n",
       "<table border=\"1\" class=\"dataframe\">\n",
       "  <thead>\n",
       "    <tr style=\"text-align: right;\">\n",
       "      <th></th>\n",
       "      <th>small_BE/ME</th>\n",
       "      <th>1</th>\n",
       "      <th>2</th>\n",
       "      <th>3</th>\n",
       "      <th>big_BE/ME</th>\n",
       "    </tr>\n",
       "  </thead>\n",
       "  <tbody>\n",
       "    <tr>\n",
       "      <th>small_size</th>\n",
       "      <td>0.419607</td>\n",
       "      <td>0.321877</td>\n",
       "      <td>0.377536</td>\n",
       "      <td>0.424042</td>\n",
       "      <td>0.421398</td>\n",
       "    </tr>\n",
       "    <tr>\n",
       "      <th>1</th>\n",
       "      <td>0.018157</td>\n",
       "      <td>0.346516</td>\n",
       "      <td>0.394185</td>\n",
       "      <td>0.411375</td>\n",
       "      <td>0.456059</td>\n",
       "    </tr>\n",
       "    <tr>\n",
       "      <th>2</th>\n",
       "      <td>0.018157</td>\n",
       "      <td>0.338190</td>\n",
       "      <td>0.475642</td>\n",
       "      <td>0.439083</td>\n",
       "      <td>0.390071</td>\n",
       "    </tr>\n",
       "    <tr>\n",
       "      <th>3</th>\n",
       "      <td>0.018157</td>\n",
       "      <td>0.386535</td>\n",
       "      <td>0.403584</td>\n",
       "      <td>0.392953</td>\n",
       "      <td>0.395907</td>\n",
       "    </tr>\n",
       "    <tr>\n",
       "      <th>big_size</th>\n",
       "      <td>0.018157</td>\n",
       "      <td>0.409142</td>\n",
       "      <td>0.409839</td>\n",
       "      <td>0.405322</td>\n",
       "      <td>0.402866</td>\n",
       "    </tr>\n",
       "  </tbody>\n",
       "</table>\n",
       "</div>"
      ],
      "text/plain": [
       "            small_BE/ME         1         2         3  big_BE/ME\n",
       "small_size     0.419607  0.321877  0.377536  0.424042   0.421398\n",
       "1              0.018157  0.346516  0.394185  0.411375   0.456059\n",
       "2              0.018157  0.338190  0.475642  0.439083   0.390071\n",
       "3              0.018157  0.386535  0.403584  0.392953   0.395907\n",
       "big_size       0.018157  0.409142  0.409839  0.405322   0.402866"
      ]
     },
     "execution_count": 293,
     "metadata": {},
     "output_type": "execute_result"
    }
   ],
   "source": [
    "R2inf1"
   ]
  },
  {
   "cell_type": "markdown",
   "metadata": {},
   "source": [
    "下面看一下市场因子的系数$\\beta$："
   ]
  },
  {
   "cell_type": "code",
   "execution_count": 294,
   "metadata": {
    "collapsed": true
   },
   "outputs": [],
   "source": [
    "binf1 = pd.DataFrame(b1.reshape(5, 5))\n",
    "binf1.columns = ['small_BE/ME','1','2','3','big_BE/ME']\n",
    "binf1.index = ['small_size','1','2','3','big_size']"
   ]
  },
  {
   "cell_type": "code",
   "execution_count": 295,
   "metadata": {
    "collapsed": false
   },
   "outputs": [
    {
     "data": {
      "text/html": [
       "<div>\n",
       "<table border=\"1\" class=\"dataframe\">\n",
       "  <thead>\n",
       "    <tr style=\"text-align: right;\">\n",
       "      <th></th>\n",
       "      <th>small_BE/ME</th>\n",
       "      <th>1</th>\n",
       "      <th>2</th>\n",
       "      <th>3</th>\n",
       "      <th>big_BE/ME</th>\n",
       "    </tr>\n",
       "  </thead>\n",
       "  <tbody>\n",
       "    <tr>\n",
       "      <th>small_size</th>\n",
       "      <td>0.684735</td>\n",
       "      <td>0.679426</td>\n",
       "      <td>0.688847</td>\n",
       "      <td>0.719867</td>\n",
       "      <td>0.718374</td>\n",
       "    </tr>\n",
       "    <tr>\n",
       "      <th>1</th>\n",
       "      <td>0.001548</td>\n",
       "      <td>0.595242</td>\n",
       "      <td>0.720090</td>\n",
       "      <td>0.694955</td>\n",
       "      <td>0.773508</td>\n",
       "    </tr>\n",
       "    <tr>\n",
       "      <th>2</th>\n",
       "      <td>0.001548</td>\n",
       "      <td>0.678916</td>\n",
       "      <td>0.822269</td>\n",
       "      <td>0.737900</td>\n",
       "      <td>0.715992</td>\n",
       "    </tr>\n",
       "    <tr>\n",
       "      <th>3</th>\n",
       "      <td>0.001548</td>\n",
       "      <td>0.653483</td>\n",
       "      <td>0.715824</td>\n",
       "      <td>0.727943</td>\n",
       "      <td>0.738791</td>\n",
       "    </tr>\n",
       "    <tr>\n",
       "      <th>big_size</th>\n",
       "      <td>0.001548</td>\n",
       "      <td>0.627702</td>\n",
       "      <td>0.758169</td>\n",
       "      <td>0.613825</td>\n",
       "      <td>0.609967</td>\n",
       "    </tr>\n",
       "  </tbody>\n",
       "</table>\n",
       "</div>"
      ],
      "text/plain": [
       "            small_BE/ME         1         2         3  big_BE/ME\n",
       "small_size     0.684735  0.679426  0.688847  0.719867   0.718374\n",
       "1              0.001548  0.595242  0.720090  0.694955   0.773508\n",
       "2              0.001548  0.678916  0.822269  0.737900   0.715992\n",
       "3              0.001548  0.653483  0.715824  0.727943   0.738791\n",
       "big_size       0.001548  0.627702  0.758169  0.613825   0.609967"
      ]
     },
     "execution_count": 295,
     "metadata": {},
     "output_type": "execute_result"
    }
   ],
   "source": [
    "binf1"
   ]
  },
  {
   "cell_type": "markdown",
   "metadata": {},
   "source": [
    "下面我们来检验其显著性，回归系数的显著性检验用的是t检验：原假设为t=0,若t统计量的值大于给定显著水平下的t分位值，则拒绝原假设，说明该系数显著大于0"
   ]
  },
  {
   "cell_type": "code",
   "execution_count": 298,
   "metadata": {
    "collapsed": false
   },
   "outputs": [
    {
     "data": {
      "text/plain": [
       "1.9825972617102912"
      ]
     },
     "execution_count": 298,
     "metadata": {},
     "output_type": "execute_result"
    }
   ],
   "source": [
    "t107=stats.t.isf(0.025,106)  #自由度为n-p，显著水平5%下的t分位值\n",
    "t107"
   ]
  },
  {
   "cell_type": "code",
   "execution_count": 299,
   "metadata": {
    "collapsed": true
   },
   "outputs": [],
   "source": [
    "tbinf1 = pd.DataFrame(tb1.reshape(5, 5))\n",
    "tbinf1.columns = ['small_BE/ME','1','2','3','big_BE/ME']\n",
    "tbinf1.index = ['small_size','1','2','3','big_size']"
   ]
  },
  {
   "cell_type": "code",
   "execution_count": 300,
   "metadata": {
    "collapsed": false
   },
   "outputs": [
    {
     "data": {
      "text/html": [
       "<div>\n",
       "<table border=\"1\" class=\"dataframe\">\n",
       "  <thead>\n",
       "    <tr style=\"text-align: right;\">\n",
       "      <th></th>\n",
       "      <th>small_BE/ME</th>\n",
       "      <th>1</th>\n",
       "      <th>2</th>\n",
       "      <th>3</th>\n",
       "      <th>big_BE/ME</th>\n",
       "    </tr>\n",
       "  </thead>\n",
       "  <tbody>\n",
       "    <tr>\n",
       "      <th>small_size</th>\n",
       "      <td>8.754140</td>\n",
       "      <td>7.093221</td>\n",
       "      <td>8.018161</td>\n",
       "      <td>8.834100</td>\n",
       "      <td>8.786357</td>\n",
       "    </tr>\n",
       "    <tr>\n",
       "      <th>1</th>\n",
       "      <td>1.400086</td>\n",
       "      <td>7.497170</td>\n",
       "      <td>8.304868</td>\n",
       "      <td>8.607022</td>\n",
       "      <td>9.427300</td>\n",
       "    </tr>\n",
       "    <tr>\n",
       "      <th>2</th>\n",
       "      <td>1.400086</td>\n",
       "      <td>7.359817</td>\n",
       "      <td>9.805719</td>\n",
       "      <td>9.109124</td>\n",
       "      <td>8.233508</td>\n",
       "    </tr>\n",
       "    <tr>\n",
       "      <th>3</th>\n",
       "      <td>1.400086</td>\n",
       "      <td>8.172459</td>\n",
       "      <td>8.469252</td>\n",
       "      <td>8.283464</td>\n",
       "      <td>8.334843</td>\n",
       "    </tr>\n",
       "    <tr>\n",
       "      <th>big_size</th>\n",
       "      <td>1.400086</td>\n",
       "      <td>8.567381</td>\n",
       "      <td>8.579751</td>\n",
       "      <td>8.499863</td>\n",
       "      <td>8.456631</td>\n",
       "    </tr>\n",
       "  </tbody>\n",
       "</table>\n",
       "</div>"
      ],
      "text/plain": [
       "            small_BE/ME         1         2         3  big_BE/ME\n",
       "small_size     8.754140  7.093221  8.018161  8.834100   8.786357\n",
       "1              1.400086  7.497170  8.304868  8.607022   9.427300\n",
       "2              1.400086  7.359817  9.805719  9.109124   8.233508\n",
       "3              1.400086  8.172459  8.469252  8.283464   8.334843\n",
       "big_size       1.400086  8.567381  8.579751  8.499863   8.456631"
      ]
     },
     "execution_count": 300,
     "metadata": {},
     "output_type": "execute_result"
    }
   ],
   "source": [
    "tbinf1"
   ]
  },
  {
   "cell_type": "markdown",
   "metadata": {},
   "source": [
    "我们可以看到所有回归里$\\beta$的t统计量的值都大于临界值，我们应该拒绝原假设，即表明$\\beta$系数显著\n",
    "\n",
    "以上，说明资本资产定价模型是有效的，市场因子的影响是显著的"
   ]
  },
  {
   "cell_type": "markdown",
   "metadata": {},
   "source": [
    "## 2.回归二\n",
    "如上，我们检验了CAPM模型的有效性，现在我们不妨检验一下另外两个因子对股票超额收益的解释作用。\n",
    "\\begin{align*}\n",
    "R(t)-R_f(t) = a+sSMB(t)+hHML(t)+e(t)\n",
    "\\end{align*}\n",
    "SMB和HML分别代表规模(市值)因子和账面市值比因子。"
   ]
  },
  {
   "cell_type": "code",
   "execution_count": 303,
   "metadata": {
    "collapsed": true
   },
   "outputs": [],
   "source": [
    "a2 = np.zeros(25)   #a项\n",
    "s2 = np.zeros(25)   #规模因子项系数\n",
    "h2 = np.zeros(25)   #账面价值比项系数\n",
    "e2 = np.zeros((25,108))   #残差项\n",
    "R2_2 = np.zeros(25)   #R2相关系数平方\n",
    "ta2 = np.zeros(25)\n",
    "tb2 = np.zeros(25)\n",
    "ap2 = np.zeros(25)  #a显著性检验的P值，下面类同\n",
    "sp2 = np.zeros(25)\n",
    "hp2 = np.zeros(25)"
   ]
  },
  {
   "cell_type": "code",
   "execution_count": 305,
   "metadata": {
    "collapsed": false
   },
   "outputs": [],
   "source": [
    "for i in range(25):\n",
    "    X = np.zeros((2,108))\n",
    "    X[0] = SMB\n",
    "    X[1] = HML\n",
    "    X = X.T\n",
    "    X = sm.add_constant(X,has_constant='skip')\n",
    "    y = EReturn[i]\n",
    "    model = sm.OLS(y, X)\n",
    "    results = model.fit()\n",
    "    ap2[i] = results.pvalues[0]\n",
    "    sp2[i] = results.pvalues[1]\n",
    "    hp2[i] = results.pvalues[2]\n",
    "    a2[i] = results.params[0]\n",
    "    s2[i] = results.params[1]\n",
    "    h2[i] = results.params[2]\n",
    "    R2_2[i] = results.rsquared\n",
    "    e2[i] = results.resid\n",
    "    tb2[i] = results.tvalues[1]\n",
    "    ta2[i] = results.tvalues[0]"
   ]
  },
  {
   "cell_type": "code",
   "execution_count": 306,
   "metadata": {
    "collapsed": true
   },
   "outputs": [],
   "source": [
    "R2inf2 = pd.DataFrame(R2_2.reshape(5, 5))\n",
    "R2inf2.columns = ['small_BE/ME','1','2','3','big_BE/ME']\n",
    "R2inf2.index = ['small_size','1','2','3','big_size']"
   ]
  },
  {
   "cell_type": "code",
   "execution_count": 307,
   "metadata": {
    "collapsed": false
   },
   "outputs": [
    {
     "data": {
      "text/html": [
       "<div>\n",
       "<table border=\"1\" class=\"dataframe\">\n",
       "  <thead>\n",
       "    <tr style=\"text-align: right;\">\n",
       "      <th></th>\n",
       "      <th>small_BE/ME</th>\n",
       "      <th>1</th>\n",
       "      <th>2</th>\n",
       "      <th>3</th>\n",
       "      <th>big_BE/ME</th>\n",
       "    </tr>\n",
       "  </thead>\n",
       "  <tbody>\n",
       "    <tr>\n",
       "      <th>small_size</th>\n",
       "      <td>0.233842</td>\n",
       "      <td>0.205218</td>\n",
       "      <td>0.268613</td>\n",
       "      <td>0.195666</td>\n",
       "      <td>0.223651</td>\n",
       "    </tr>\n",
       "    <tr>\n",
       "      <th>1</th>\n",
       "      <td>0.042242</td>\n",
       "      <td>0.296971</td>\n",
       "      <td>0.174038</td>\n",
       "      <td>0.155349</td>\n",
       "      <td>0.145826</td>\n",
       "    </tr>\n",
       "    <tr>\n",
       "      <th>2</th>\n",
       "      <td>0.042242</td>\n",
       "      <td>0.207002</td>\n",
       "      <td>0.080601</td>\n",
       "      <td>0.109826</td>\n",
       "      <td>0.173132</td>\n",
       "    </tr>\n",
       "    <tr>\n",
       "      <th>3</th>\n",
       "      <td>0.042242</td>\n",
       "      <td>0.124071</td>\n",
       "      <td>0.085574</td>\n",
       "      <td>0.071177</td>\n",
       "      <td>0.130344</td>\n",
       "    </tr>\n",
       "    <tr>\n",
       "      <th>big_size</th>\n",
       "      <td>0.042242</td>\n",
       "      <td>0.006310</td>\n",
       "      <td>0.005000</td>\n",
       "      <td>0.054309</td>\n",
       "      <td>0.077285</td>\n",
       "    </tr>\n",
       "  </tbody>\n",
       "</table>\n",
       "</div>"
      ],
      "text/plain": [
       "            small_BE/ME         1         2         3  big_BE/ME\n",
       "small_size     0.233842  0.205218  0.268613  0.195666   0.223651\n",
       "1              0.042242  0.296971  0.174038  0.155349   0.145826\n",
       "2              0.042242  0.207002  0.080601  0.109826   0.173132\n",
       "3              0.042242  0.124071  0.085574  0.071177   0.130344\n",
       "big_size       0.042242  0.006310  0.005000  0.054309   0.077285"
      ]
     },
     "execution_count": 307,
     "metadata": {},
     "output_type": "execute_result"
    }
   ],
   "source": [
    "R2inf2"
   ]
  },
  {
   "cell_type": "markdown",
   "metadata": {},
   "source": [
    "## 3.回归三\n",
    "这里的回归模型就是我们经典的三因子模型\n",
    "\n",
    "\\begin{align*}\n",
    "R(t)-R_f(t) = a+b(R_M(t)-R_f(t))+sSMB(t)+hHML(t)+e(t)\n",
    "\\end{align*}\n",
    "\n",
    "$R(t)-R_f(t)$：市场因子\n",
    "\n",
    "$SMB(t)$：规模(市值)因子\n",
    "\n",
    "$HML(t)$ ：账面市值比因子"
   ]
  },
  {
   "cell_type": "code",
   "execution_count": 308,
   "metadata": {
    "collapsed": true
   },
   "outputs": [],
   "source": [
    "a = np.zeros(25)   #a项\n",
    "b = np.zeros(25)   #市场因子项系数\n",
    "s = np.zeros(25)   #规模因子项系数\n",
    "h = np.zeros(25)   #账面价值比项系数\n",
    "e = np.zeros(25)   #残差项\n",
    "R2 = np.zeros(25)   #R2相关系数平方"
   ]
  },
  {
   "cell_type": "code",
   "execution_count": 309,
   "metadata": {
    "collapsed": false
   },
   "outputs": [
    {
     "name": "stderr",
     "output_type": "stream",
     "text": [
      "C:\\Users\\jgtzsx01\\AppData\\Local\\Continuum\\Anaconda2\\lib\\site-packages\\sklearn\\utils\\deprecation.py:70: DeprecationWarning: Function residues_ is deprecated; ``residues_`` is deprecated and will be removed in 0.19\n",
      "  warnings.warn(msg, category=DeprecationWarning)\n",
      "C:\\Users\\jgtzsx01\\AppData\\Local\\Continuum\\Anaconda2\\lib\\site-packages\\sklearn\\utils\\deprecation.py:70: DeprecationWarning: Function residues_ is deprecated; ``residues_`` is deprecated and will be removed in 0.19\n",
      "  warnings.warn(msg, category=DeprecationWarning)\n",
      "C:\\Users\\jgtzsx01\\AppData\\Local\\Continuum\\Anaconda2\\lib\\site-packages\\sklearn\\utils\\deprecation.py:70: DeprecationWarning: Function residues_ is deprecated; ``residues_`` is deprecated and will be removed in 0.19\n",
      "  warnings.warn(msg, category=DeprecationWarning)\n",
      "C:\\Users\\jgtzsx01\\AppData\\Local\\Continuum\\Anaconda2\\lib\\site-packages\\sklearn\\utils\\deprecation.py:70: DeprecationWarning: Function residues_ is deprecated; ``residues_`` is deprecated and will be removed in 0.19\n",
      "  warnings.warn(msg, category=DeprecationWarning)\n",
      "C:\\Users\\jgtzsx01\\AppData\\Local\\Continuum\\Anaconda2\\lib\\site-packages\\sklearn\\utils\\deprecation.py:70: DeprecationWarning: Function residues_ is deprecated; ``residues_`` is deprecated and will be removed in 0.19\n",
      "  warnings.warn(msg, category=DeprecationWarning)\n",
      "C:\\Users\\jgtzsx01\\AppData\\Local\\Continuum\\Anaconda2\\lib\\site-packages\\sklearn\\utils\\deprecation.py:70: DeprecationWarning: Function residues_ is deprecated; ``residues_`` is deprecated and will be removed in 0.19\n",
      "  warnings.warn(msg, category=DeprecationWarning)\n",
      "C:\\Users\\jgtzsx01\\AppData\\Local\\Continuum\\Anaconda2\\lib\\site-packages\\sklearn\\utils\\deprecation.py:70: DeprecationWarning: Function residues_ is deprecated; ``residues_`` is deprecated and will be removed in 0.19\n",
      "  warnings.warn(msg, category=DeprecationWarning)\n",
      "C:\\Users\\jgtzsx01\\AppData\\Local\\Continuum\\Anaconda2\\lib\\site-packages\\sklearn\\utils\\deprecation.py:70: DeprecationWarning: Function residues_ is deprecated; ``residues_`` is deprecated and will be removed in 0.19\n",
      "  warnings.warn(msg, category=DeprecationWarning)\n",
      "C:\\Users\\jgtzsx01\\AppData\\Local\\Continuum\\Anaconda2\\lib\\site-packages\\sklearn\\utils\\deprecation.py:70: DeprecationWarning: Function residues_ is deprecated; ``residues_`` is deprecated and will be removed in 0.19\n",
      "  warnings.warn(msg, category=DeprecationWarning)\n",
      "C:\\Users\\jgtzsx01\\AppData\\Local\\Continuum\\Anaconda2\\lib\\site-packages\\sklearn\\utils\\deprecation.py:70: DeprecationWarning: Function residues_ is deprecated; ``residues_`` is deprecated and will be removed in 0.19\n",
      "  warnings.warn(msg, category=DeprecationWarning)\n",
      "C:\\Users\\jgtzsx01\\AppData\\Local\\Continuum\\Anaconda2\\lib\\site-packages\\sklearn\\utils\\deprecation.py:70: DeprecationWarning: Function residues_ is deprecated; ``residues_`` is deprecated and will be removed in 0.19\n",
      "  warnings.warn(msg, category=DeprecationWarning)\n",
      "C:\\Users\\jgtzsx01\\AppData\\Local\\Continuum\\Anaconda2\\lib\\site-packages\\sklearn\\utils\\deprecation.py:70: DeprecationWarning: Function residues_ is deprecated; ``residues_`` is deprecated and will be removed in 0.19\n",
      "  warnings.warn(msg, category=DeprecationWarning)\n",
      "C:\\Users\\jgtzsx01\\AppData\\Local\\Continuum\\Anaconda2\\lib\\site-packages\\sklearn\\utils\\deprecation.py:70: DeprecationWarning: Function residues_ is deprecated; ``residues_`` is deprecated and will be removed in 0.19\n",
      "  warnings.warn(msg, category=DeprecationWarning)\n",
      "C:\\Users\\jgtzsx01\\AppData\\Local\\Continuum\\Anaconda2\\lib\\site-packages\\sklearn\\utils\\deprecation.py:70: DeprecationWarning: Function residues_ is deprecated; ``residues_`` is deprecated and will be removed in 0.19\n",
      "  warnings.warn(msg, category=DeprecationWarning)\n",
      "C:\\Users\\jgtzsx01\\AppData\\Local\\Continuum\\Anaconda2\\lib\\site-packages\\sklearn\\utils\\deprecation.py:70: DeprecationWarning: Function residues_ is deprecated; ``residues_`` is deprecated and will be removed in 0.19\n",
      "  warnings.warn(msg, category=DeprecationWarning)\n",
      "C:\\Users\\jgtzsx01\\AppData\\Local\\Continuum\\Anaconda2\\lib\\site-packages\\sklearn\\utils\\deprecation.py:70: DeprecationWarning: Function residues_ is deprecated; ``residues_`` is deprecated and will be removed in 0.19\n",
      "  warnings.warn(msg, category=DeprecationWarning)\n",
      "C:\\Users\\jgtzsx01\\AppData\\Local\\Continuum\\Anaconda2\\lib\\site-packages\\sklearn\\utils\\deprecation.py:70: DeprecationWarning: Function residues_ is deprecated; ``residues_`` is deprecated and will be removed in 0.19\n",
      "  warnings.warn(msg, category=DeprecationWarning)\n",
      "C:\\Users\\jgtzsx01\\AppData\\Local\\Continuum\\Anaconda2\\lib\\site-packages\\sklearn\\utils\\deprecation.py:70: DeprecationWarning: Function residues_ is deprecated; ``residues_`` is deprecated and will be removed in 0.19\n",
      "  warnings.warn(msg, category=DeprecationWarning)\n",
      "C:\\Users\\jgtzsx01\\AppData\\Local\\Continuum\\Anaconda2\\lib\\site-packages\\sklearn\\utils\\deprecation.py:70: DeprecationWarning: Function residues_ is deprecated; ``residues_`` is deprecated and will be removed in 0.19\n",
      "  warnings.warn(msg, category=DeprecationWarning)\n",
      "C:\\Users\\jgtzsx01\\AppData\\Local\\Continuum\\Anaconda2\\lib\\site-packages\\sklearn\\utils\\deprecation.py:70: DeprecationWarning: Function residues_ is deprecated; ``residues_`` is deprecated and will be removed in 0.19\n",
      "  warnings.warn(msg, category=DeprecationWarning)\n",
      "C:\\Users\\jgtzsx01\\AppData\\Local\\Continuum\\Anaconda2\\lib\\site-packages\\sklearn\\utils\\deprecation.py:70: DeprecationWarning: Function residues_ is deprecated; ``residues_`` is deprecated and will be removed in 0.19\n",
      "  warnings.warn(msg, category=DeprecationWarning)\n",
      "C:\\Users\\jgtzsx01\\AppData\\Local\\Continuum\\Anaconda2\\lib\\site-packages\\sklearn\\utils\\deprecation.py:70: DeprecationWarning: Function residues_ is deprecated; ``residues_`` is deprecated and will be removed in 0.19\n",
      "  warnings.warn(msg, category=DeprecationWarning)\n",
      "C:\\Users\\jgtzsx01\\AppData\\Local\\Continuum\\Anaconda2\\lib\\site-packages\\sklearn\\utils\\deprecation.py:70: DeprecationWarning: Function residues_ is deprecated; ``residues_`` is deprecated and will be removed in 0.19\n",
      "  warnings.warn(msg, category=DeprecationWarning)\n",
      "C:\\Users\\jgtzsx01\\AppData\\Local\\Continuum\\Anaconda2\\lib\\site-packages\\sklearn\\utils\\deprecation.py:70: DeprecationWarning: Function residues_ is deprecated; ``residues_`` is deprecated and will be removed in 0.19\n",
      "  warnings.warn(msg, category=DeprecationWarning)\n",
      "C:\\Users\\jgtzsx01\\AppData\\Local\\Continuum\\Anaconda2\\lib\\site-packages\\sklearn\\utils\\deprecation.py:70: DeprecationWarning: Function residues_ is deprecated; ``residues_`` is deprecated and will be removed in 0.19\n",
      "  warnings.warn(msg, category=DeprecationWarning)\n"
     ]
    }
   ],
   "source": [
    "for i in range(25):\n",
    "    x = np.zeros((3,108))\n",
    "    x[0] = MF\n",
    "    x[1] = SMB\n",
    "    x[2] = HML\n",
    "    y = EReturn[i]\n",
    "    x = np.mat(x).T\n",
    "    y = np.mat(y).T\n",
    "    regr = linear_model.LinearRegression()\n",
    "    regr.fit(x,y)\n",
    "    b[i] = regr.coef_[0][0]\n",
    "    s[i] = regr.coef_[0][1]\n",
    "    h[i] = regr.coef_[0][2]\n",
    "    a[i] = regr.intercept_[0]\n",
    "    e[i] = regr.residues_\n",
    "    R2[i] = regr.score(x,y)"
   ]
  },
  {
   "cell_type": "code",
   "execution_count": 310,
   "metadata": {
    "collapsed": true
   },
   "outputs": [],
   "source": [
    "ap = np.zeros(25)  #a显著性检验的P值\n",
    "ta = np.zeros(25)\n",
    "tb = np.zeros(25)\n",
    "ts = np.zeros(25)\n",
    "th = np.zeros(25)"
   ]
  },
  {
   "cell_type": "code",
   "execution_count": 311,
   "metadata": {
    "collapsed": true
   },
   "outputs": [],
   "source": [
    "for i in range(25):\n",
    "    X = np.zeros((3, 108))\n",
    "    X[0] = MF\n",
    "    X[1] = SMB\n",
    "    X[2] = HML\n",
    "    X = X.T\n",
    "    X = sm.add_constant(X,has_constant='skip')\n",
    "    y = EReturn[i]\n",
    "    model = sm.OLS(y, X)\n",
    "    results = model.fit()\n",
    "    ap[i] = results.pvalues[0]\n",
    "    ta[i] = results.tvalues[0]\n",
    "    tb[i] = results.tvalues[1]\n",
    "    ts[i] = results.tvalues[2]\n",
    "    th[i] = results.tvalues[3]  "
   ]
  },
  {
   "cell_type": "code",
   "execution_count": 312,
   "metadata": {
    "collapsed": true
   },
   "outputs": [],
   "source": [
    "R2inf3 = pd.DataFrame(R2.reshape(5, 5))\n",
    "R2inf3.columns = ['small_BE/ME','1','2','3','big_BE/ME']\n",
    "R2inf3.index = ['small_size','1','2','3','big_size']"
   ]
  },
  {
   "cell_type": "code",
   "execution_count": 313,
   "metadata": {
    "collapsed": false
   },
   "outputs": [
    {
     "data": {
      "text/html": [
       "<div>\n",
       "<table border=\"1\" class=\"dataframe\">\n",
       "  <thead>\n",
       "    <tr style=\"text-align: right;\">\n",
       "      <th></th>\n",
       "      <th>small_BE/ME</th>\n",
       "      <th>1</th>\n",
       "      <th>2</th>\n",
       "      <th>3</th>\n",
       "      <th>big_BE/ME</th>\n",
       "    </tr>\n",
       "  </thead>\n",
       "  <tbody>\n",
       "    <tr>\n",
       "      <th>small_size</th>\n",
       "      <td>0.573691</td>\n",
       "      <td>0.474951</td>\n",
       "      <td>0.561718</td>\n",
       "      <td>0.545640</td>\n",
       "      <td>0.552379</td>\n",
       "    </tr>\n",
       "    <tr>\n",
       "      <th>1</th>\n",
       "      <td>0.060731</td>\n",
       "      <td>0.598291</td>\n",
       "      <td>0.512814</td>\n",
       "      <td>0.495741</td>\n",
       "      <td>0.524652</td>\n",
       "    </tr>\n",
       "    <tr>\n",
       "      <th>2</th>\n",
       "      <td>0.060731</td>\n",
       "      <td>0.504784</td>\n",
       "      <td>0.506838</td>\n",
       "      <td>0.491039</td>\n",
       "      <td>0.492777</td>\n",
       "    </tr>\n",
       "    <tr>\n",
       "      <th>3</th>\n",
       "      <td>0.060731</td>\n",
       "      <td>0.482407</td>\n",
       "      <td>0.437032</td>\n",
       "      <td>0.416879</td>\n",
       "      <td>0.465194</td>\n",
       "    </tr>\n",
       "    <tr>\n",
       "      <th>big_size</th>\n",
       "      <td>0.060731</td>\n",
       "      <td>0.447286</td>\n",
       "      <td>0.427291</td>\n",
       "      <td>0.506093</td>\n",
       "      <td>0.463461</td>\n",
       "    </tr>\n",
       "  </tbody>\n",
       "</table>\n",
       "</div>"
      ],
      "text/plain": [
       "            small_BE/ME         1         2         3  big_BE/ME\n",
       "small_size     0.573691  0.474951  0.561718  0.545640   0.552379\n",
       "1              0.060731  0.598291  0.512814  0.495741   0.524652\n",
       "2              0.060731  0.504784  0.506838  0.491039   0.492777\n",
       "3              0.060731  0.482407  0.437032  0.416879   0.465194\n",
       "big_size       0.060731  0.447286  0.427291  0.506093   0.463461"
      ]
     },
     "execution_count": 313,
     "metadata": {},
     "output_type": "execute_result"
    }
   ],
   "source": [
    "R2inf3"
   ]
  },
  {
   "cell_type": "code",
   "execution_count": null,
   "metadata": {
    "collapsed": true
   },
   "outputs": [],
   "source": []
  }
 ],
 "metadata": {
  "anaconda-cloud": {},
  "kernelspec": {
   "display_name": "Python [default]",
   "language": "python",
   "name": "python2"
  },
  "language_info": {
   "codemirror_mode": {
    "name": "ipython",
    "version": 2
   },
   "file_extension": ".py",
   "mimetype": "text/x-python",
   "name": "python",
   "nbconvert_exporter": "python",
   "pygments_lexer": "ipython2",
   "version": "2.7.12"
  }
 },
 "nbformat": 4,
 "nbformat_minor": 1
}
