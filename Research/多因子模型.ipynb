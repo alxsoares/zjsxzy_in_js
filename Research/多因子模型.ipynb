{
 "cells": [
  {
   "cell_type": "code",
   "execution_count": 63,
   "metadata": {
    "collapsed": true
   },
   "outputs": [],
   "source": [
    "import numpy as np\n",
    "import pandas as pd\n",
    "import scipy\n",
    "import math\n",
    "import statsmodels\n",
    "import matplotlib.pyplot as plt\n",
    "import datetime\n",
    "import seaborn as sns\n",
    "from WindPy import w\n",
    "import calendar\n",
    "%matplotlib inline"
   ]
  },
  {
   "cell_type": "code",
   "execution_count": 6,
   "metadata": {
    "collapsed": false
   },
   "outputs": [
    {
     "name": "stdout",
     "output_type": "stream",
     "text": [
      "Welcome to use Wind Quant API for Python (WindPy)!\n",
      "You can use w.menu to help yourself to create commands(WSD,WSS,WST,WSI,WSQ,...)!\n",
      "\n",
      "COPYRIGHT (C) 2016 WIND HONGHUI INFORMATION & TECHKNOLEWDGE CO., LTD. ALL RIGHTS RESERVED.\n",
      "IN NO CIRCUMSTANCE SHALL WIND BE RESPONSIBLE FOR ANY DAMAGES OR LOSSES CAUSED BY USING WIND QUANT API FOR Python.\n"
     ]
    },
    {
     "data": {
      "text/plain": [
       ".ErrorCode=0\n",
       ".Data=[OK!]"
      ]
     },
     "execution_count": 6,
     "metadata": {},
     "output_type": "execute_result"
    }
   ],
   "source": [
    "w.start()"
   ]
  },
  {
   "cell_type": "code",
   "execution_count": 13,
   "metadata": {
    "collapsed": true
   },
   "outputs": [],
   "source": [
    "def WindData2DF(raw_data):\n",
    "    dic = {}\n",
    "    for data, field in zip(raw_data.Data, raw_data.Fields):\n",
    "        dic[str.lower(str(field))] = data\n",
    "    return pd.DataFrame(dic)"
   ]
  },
  {
   "cell_type": "markdown",
   "metadata": {},
   "source": [
    "# 1. 获取A股全部股票"
   ]
  },
  {
   "cell_type": "code",
   "execution_count": 14,
   "metadata": {
    "collapsed": false
   },
   "outputs": [],
   "source": [
    "codes = w.wset(\"SectorConstituent\",u\"date=20170212;sector=全部A股\") #取全部A 股股票代码、名称信息"
   ]
  },
  {
   "cell_type": "code",
   "execution_count": 15,
   "metadata": {
    "collapsed": false
   },
   "outputs": [
    {
     "data": {
      "text/plain": [
       ".ErrorCode=0\n",
       ".Codes=[1,2,3,4,5,6,7,8,9,10,...]\n",
       ".Fields=[date,wind_code,sec_name]\n",
       ".Times=[20170213]\n",
       ".Data=[[2017-02-12 00:00:00.005000,2017-02-12 00:00:00.005000,2017-02-12 00:00:00.005000,2017-02-12 00:00:00.005000,2017-02-12 00:00:00.005000,2017-02-12 00:00:00.005000,2017-02-12 00:00:00.005000,2017-02-12 00:00:00.005000,2017-02-12 00:00:00.005000,2017-02-12 00:00:00.005000,...],[000001.SZ,000002.SZ,000004.SZ,000005.SZ,000006.SZ,000007.SZ,000008.SZ,000009.SZ,000010.SZ,000011.SZ,...],[u'\\u5e73\\u5b89\\u94f6\\u884c',u'\\u4e07\\u79d1A',u'\\u56fd\\u519c\\u79d1\\u6280',u'\\u4e16\\u7eaa\\u661f\\u6e90',u'\\u6df1\\u632f\\u4e1aA',u'\\u5168\\u65b0\\u597d',u'\\u795e\\u5dde\\u9ad8\\u94c1',u'\\u4e2d\\u56fd\\u5b9d\\u5b89',u'\\u7f8e\\u4e3d\\u751f\\u6001',u'\\u6df1\\u7269\\u4e1aA',...]]"
      ]
     },
     "execution_count": 15,
     "metadata": {},
     "output_type": "execute_result"
    }
   ],
   "source": [
    "codes"
   ]
  },
  {
   "cell_type": "code",
   "execution_count": 16,
   "metadata": {
    "collapsed": false
   },
   "outputs": [],
   "source": [
    "codes_df = WindData2DF(codes)"
   ]
  },
  {
   "cell_type": "code",
   "execution_count": 18,
   "metadata": {
    "collapsed": false
   },
   "outputs": [
    {
     "data": {
      "text/html": [
       "<div>\n",
       "<table border=\"1\" class=\"dataframe\">\n",
       "  <thead>\n",
       "    <tr style=\"text-align: right;\">\n",
       "      <th></th>\n",
       "      <th>date</th>\n",
       "      <th>sec_name</th>\n",
       "      <th>wind_code</th>\n",
       "    </tr>\n",
       "  </thead>\n",
       "  <tbody>\n",
       "    <tr>\n",
       "      <th>0</th>\n",
       "      <td>2017-02-12 00:00:00.005</td>\n",
       "      <td>平安银行</td>\n",
       "      <td>000001.SZ</td>\n",
       "    </tr>\n",
       "    <tr>\n",
       "      <th>1</th>\n",
       "      <td>2017-02-12 00:00:00.005</td>\n",
       "      <td>万科A</td>\n",
       "      <td>000002.SZ</td>\n",
       "    </tr>\n",
       "    <tr>\n",
       "      <th>2</th>\n",
       "      <td>2017-02-12 00:00:00.005</td>\n",
       "      <td>国农科技</td>\n",
       "      <td>000004.SZ</td>\n",
       "    </tr>\n",
       "    <tr>\n",
       "      <th>3</th>\n",
       "      <td>2017-02-12 00:00:00.005</td>\n",
       "      <td>世纪星源</td>\n",
       "      <td>000005.SZ</td>\n",
       "    </tr>\n",
       "    <tr>\n",
       "      <th>4</th>\n",
       "      <td>2017-02-12 00:00:00.005</td>\n",
       "      <td>深振业A</td>\n",
       "      <td>000006.SZ</td>\n",
       "    </tr>\n",
       "  </tbody>\n",
       "</table>\n",
       "</div>"
      ],
      "text/plain": [
       "                     date sec_name  wind_code\n",
       "0 2017-02-12 00:00:00.005     平安银行  000001.SZ\n",
       "1 2017-02-12 00:00:00.005      万科A  000002.SZ\n",
       "2 2017-02-12 00:00:00.005     国农科技  000004.SZ\n",
       "3 2017-02-12 00:00:00.005     世纪星源  000005.SZ\n",
       "4 2017-02-12 00:00:00.005     深振业A  000006.SZ"
      ]
     },
     "execution_count": 18,
     "metadata": {},
     "output_type": "execute_result"
    }
   ],
   "source": [
    "codes_df.head()"
   ]
  },
  {
   "cell_type": "markdown",
   "metadata": {},
   "source": [
    "# 2. 选择候选因子"
   ]
  },
  {
   "cell_type": "markdown",
   "metadata": {},
   "source": [
    "1. 估值：账面市值比（B/M)、盈利收益率（EPS）、动态市盈（PEG）\n",
    "2. 成长性：ROE、ROA、主营毛利率（GP/R)、净利率(P/R)\n",
    "3. 资本结构：资产负债（L/A)、固定资产比例（FAP）、流通市值（CMV）"
   ]
  },
  {
   "cell_type": "code",
   "execution_count": 31,
   "metadata": {
    "collapsed": true
   },
   "outputs": [],
   "source": [
    "factors = [\"bps\", # 每股净资产\n",
    "           \"mkt_cap\", # 总市值2\n",
    "           \"eps_ttm\", # 每股收益（TMM）\n",
    "           \"est_peg\", # 预测PEG\n",
    "           \"roe\", # 净资产收益率ROE\n",
    "           \"roa\", # 总资产收益率ROA\n",
    "           \"grossmargin\", # 毛利\n",
    "           \"yoyprofit\", # 净利润（同比增长率）\n",
    "           \"debttoassets\", # 资产负债率\n",
    "           \"faturn\", # 固定资产周转率\n",
    "           \"mkt_cap_float\", # 流通市值\n",
    "          ]"
   ]
  },
  {
   "cell_type": "code",
   "execution_count": 53,
   "metadata": {
    "collapsed": true
   },
   "outputs": [],
   "source": [
    "date = \"20150930\""
   ]
  },
  {
   "cell_type": "code",
   "execution_count": 54,
   "metadata": {
    "collapsed": true
   },
   "outputs": [],
   "source": [
    "def get_fundamental(symbols, factors, date):\n",
    "    data = w.wss(symbols, factors, \"rptYear=%s;rptDate=%s;tradeDate=%s;currencyType=\"%(date[:4], date, date))\n",
    "    return WindData2DF(data)"
   ]
  },
  {
   "cell_type": "code",
   "execution_count": 86,
   "metadata": {
    "collapsed": false
   },
   "outputs": [
    {
     "data": {
      "text/html": [
       "<div>\n",
       "<table border=\"1\" class=\"dataframe\">\n",
       "  <thead>\n",
       "    <tr style=\"text-align: right;\">\n",
       "      <th></th>\n",
       "      <th>mkt_cap</th>\n",
       "    </tr>\n",
       "  </thead>\n",
       "  <tbody>\n",
       "    <tr>\n",
       "      <th>0</th>\n",
       "      <td>2.699909e+11</td>\n",
       "    </tr>\n",
       "  </tbody>\n",
       "</table>\n",
       "</div>"
      ],
      "text/plain": [
       "        mkt_cap\n",
       "0  2.699909e+11"
      ]
     },
     "execution_count": 86,
     "metadata": {},
     "output_type": "execute_result"
    }
   ],
   "source": [
    "get_fundamental([\"000002.SZ\"], \"mkt_cap\", \"20151231\")"
   ]
  },
  {
   "cell_type": "code",
   "execution_count": 75,
   "metadata": {
    "collapsed": true
   },
   "outputs": [],
   "source": [
    "def get_fundamental_all(symbols, factors, startdate=\"20150101\", enddate=\"20151231\"):\n",
    "    df = pd.DataFrame()\n",
    "    current_date = datetime.datetime.strptime(startdate, \"%Y%m%d\")\n",
    "    end_date = datetime.datetime.strptime(enddate, \"%Y%m%d\")\n",
    "    dates = []\n",
    "    while current_date <= end_date:\n",
    "        (_, day) = calendar.monthrange(current_date.year, current_date.month)\n",
    "        current_date = datetime.datetime(current_date.year, current_date.month, day) # last day of this month\n",
    "        print current_date.strftime(\"%Y%m%d\")\n",
    "        one_day_df = get_fundamental(symbols, factors, current_date.strftime(\"%Y%m%d\"))\n",
    "        if df.empty:\n",
    "            df = one_day_df\n",
    "        else:\n",
    "            df = df.append(one_day_df)\n",
    "        dates.append(current_date)\n",
    "        current_date = current_date + datetime.timedelta(1)\n",
    "    df[\"date\"] = dates\n",
    "    df.index = df[\"date\"]\n",
    "    return df"
   ]
  },
  {
   "cell_type": "code",
   "execution_count": 81,
   "metadata": {
    "collapsed": false
   },
   "outputs": [
    {
     "name": "stdout",
     "output_type": "stream",
     "text": [
      "20150131\n",
      "20150228\n",
      "20150331\n",
      "20150430\n",
      "20150531\n",
      "20150630\n",
      "20150731\n",
      "20150831\n",
      "20150930\n",
      "20151031\n",
      "20151130\n",
      "20151231\n"
     ]
    }
   ],
   "source": [
    "df = get_fundamental_all([\"000002.SZ\"], factors)"
   ]
  },
  {
   "cell_type": "code",
   "execution_count": 82,
   "metadata": {
    "collapsed": false
   },
   "outputs": [
    {
     "data": {
      "text/html": [
       "<div>\n",
       "<table border=\"1\" class=\"dataframe\">\n",
       "  <thead>\n",
       "    <tr style=\"text-align: right;\">\n",
       "      <th></th>\n",
       "      <th>bps</th>\n",
       "      <th>debttoassets</th>\n",
       "      <th>eps_ttm</th>\n",
       "      <th>est_peg</th>\n",
       "      <th>faturn</th>\n",
       "      <th>grossmargin</th>\n",
       "      <th>mkt_cap_ard</th>\n",
       "      <th>mkt_cap_float</th>\n",
       "      <th>roa</th>\n",
       "      <th>roe</th>\n",
       "      <th>yoyprofit</th>\n",
       "      <th>date</th>\n",
       "    </tr>\n",
       "    <tr>\n",
       "      <th>date</th>\n",
       "      <th></th>\n",
       "      <th></th>\n",
       "      <th></th>\n",
       "      <th></th>\n",
       "      <th></th>\n",
       "      <th></th>\n",
       "      <th></th>\n",
       "      <th></th>\n",
       "      <th></th>\n",
       "      <th></th>\n",
       "      <th></th>\n",
       "      <th></th>\n",
       "    </tr>\n",
       "  </thead>\n",
       "  <tbody>\n",
       "    <tr>\n",
       "      <th>2015-01-31</th>\n",
       "      <td>NaN</td>\n",
       "      <td>NaN</td>\n",
       "      <td>1.396342</td>\n",
       "      <td>0.176885</td>\n",
       "      <td>NaN</td>\n",
       "      <td>NaN</td>\n",
       "      <td>1.448528e+11</td>\n",
       "      <td>1.276091e+11</td>\n",
       "      <td>NaN</td>\n",
       "      <td>NaN</td>\n",
       "      <td>NaN</td>\n",
       "      <td>2015-01-31</td>\n",
       "    </tr>\n",
       "    <tr>\n",
       "      <th>2015-02-28</th>\n",
       "      <td>NaN</td>\n",
       "      <td>NaN</td>\n",
       "      <td>1.396260</td>\n",
       "      <td>0.177408</td>\n",
       "      <td>NaN</td>\n",
       "      <td>NaN</td>\n",
       "      <td>1.407760e+11</td>\n",
       "      <td>1.240663e+11</td>\n",
       "      <td>NaN</td>\n",
       "      <td>NaN</td>\n",
       "      <td>NaN</td>\n",
       "      <td>2015-02-28</td>\n",
       "    </tr>\n",
       "    <tr>\n",
       "      <th>2015-03-31</th>\n",
       "      <td>8.05</td>\n",
       "      <td>77.9098</td>\n",
       "      <td>1.425489</td>\n",
       "      <td>0.268189</td>\n",
       "      <td>3.2169</td>\n",
       "      <td>3.024228e+09</td>\n",
       "      <td>1.526508e+11</td>\n",
       "      <td>1.344782e+11</td>\n",
       "      <td>0.1756</td>\n",
       "      <td>0.7346</td>\n",
       "      <td>-44.576124</td>\n",
       "      <td>2015-03-31</td>\n",
       "    </tr>\n",
       "    <tr>\n",
       "      <th>2015-04-30</th>\n",
       "      <td>NaN</td>\n",
       "      <td>NaN</td>\n",
       "      <td>1.345888</td>\n",
       "      <td>0.400308</td>\n",
       "      <td>NaN</td>\n",
       "      <td>NaN</td>\n",
       "      <td>1.612665e+11</td>\n",
       "      <td>1.420748e+11</td>\n",
       "      <td>NaN</td>\n",
       "      <td>NaN</td>\n",
       "      <td>NaN</td>\n",
       "      <td>2015-04-30</td>\n",
       "    </tr>\n",
       "    <tr>\n",
       "      <th>2015-05-31</th>\n",
       "      <td>NaN</td>\n",
       "      <td>NaN</td>\n",
       "      <td>1.345888</td>\n",
       "      <td>0.404624</td>\n",
       "      <td>NaN</td>\n",
       "      <td>NaN</td>\n",
       "      <td>1.585050e+11</td>\n",
       "      <td>1.396583e+11</td>\n",
       "      <td>NaN</td>\n",
       "      <td>NaN</td>\n",
       "      <td>NaN</td>\n",
       "      <td>2015-05-31</td>\n",
       "    </tr>\n",
       "  </tbody>\n",
       "</table>\n",
       "</div>"
      ],
      "text/plain": [
       "             bps  debttoassets   eps_ttm   est_peg  faturn   grossmargin  \\\n",
       "date                                                                       \n",
       "2015-01-31   NaN           NaN  1.396342  0.176885     NaN           NaN   \n",
       "2015-02-28   NaN           NaN  1.396260  0.177408     NaN           NaN   \n",
       "2015-03-31  8.05       77.9098  1.425489  0.268189  3.2169  3.024228e+09   \n",
       "2015-04-30   NaN           NaN  1.345888  0.400308     NaN           NaN   \n",
       "2015-05-31   NaN           NaN  1.345888  0.404624     NaN           NaN   \n",
       "\n",
       "             mkt_cap_ard  mkt_cap_float     roa     roe  yoyprofit       date  \n",
       "date                                                                           \n",
       "2015-01-31  1.448528e+11   1.276091e+11     NaN     NaN        NaN 2015-01-31  \n",
       "2015-02-28  1.407760e+11   1.240663e+11     NaN     NaN        NaN 2015-02-28  \n",
       "2015-03-31  1.526508e+11   1.344782e+11  0.1756  0.7346 -44.576124 2015-03-31  \n",
       "2015-04-30  1.612665e+11   1.420748e+11     NaN     NaN        NaN 2015-04-30  \n",
       "2015-05-31  1.585050e+11   1.396583e+11     NaN     NaN        NaN 2015-05-31  "
      ]
     },
     "execution_count": 82,
     "metadata": {},
     "output_type": "execute_result"
    }
   ],
   "source": [
    "df.head()"
   ]
  },
  {
   "cell_type": "code",
   "execution_count": 79,
   "metadata": {
    "collapsed": false
   },
   "outputs": [],
   "source": [
    "df.dropna(inplace=True)"
   ]
  },
  {
   "cell_type": "code",
   "execution_count": 80,
   "metadata": {
    "collapsed": false
   },
   "outputs": [
    {
     "data": {
      "text/html": [
       "<div>\n",
       "<table border=\"1\" class=\"dataframe\">\n",
       "  <thead>\n",
       "    <tr style=\"text-align: right;\">\n",
       "      <th></th>\n",
       "      <th>bps</th>\n",
       "      <th>debttoassets</th>\n",
       "      <th>eps_ttm</th>\n",
       "      <th>est_peg</th>\n",
       "      <th>faturn</th>\n",
       "      <th>grossmargin</th>\n",
       "      <th>mkt_cap_ard</th>\n",
       "      <th>mkt_cap_float</th>\n",
       "      <th>roa</th>\n",
       "      <th>roe</th>\n",
       "      <th>yoyprofit</th>\n",
       "      <th>date</th>\n",
       "    </tr>\n",
       "    <tr>\n",
       "      <th>date</th>\n",
       "      <th></th>\n",
       "      <th></th>\n",
       "      <th></th>\n",
       "      <th></th>\n",
       "      <th></th>\n",
       "      <th></th>\n",
       "      <th></th>\n",
       "      <th></th>\n",
       "      <th></th>\n",
       "      <th></th>\n",
       "      <th></th>\n",
       "      <th></th>\n",
       "    </tr>\n",
       "  </thead>\n",
       "  <tbody>\n",
       "    <tr>\n",
       "      <th>2015-03-31</th>\n",
       "      <td>8.05</td>\n",
       "      <td>77.9098</td>\n",
       "      <td>1.425489</td>\n",
       "      <td>0.268189</td>\n",
       "      <td>3.2169</td>\n",
       "      <td>3.024228e+09</td>\n",
       "      <td>1.526508e+11</td>\n",
       "      <td>1.344782e+11</td>\n",
       "      <td>0.1756</td>\n",
       "      <td>0.7346</td>\n",
       "      <td>-44.576124</td>\n",
       "      <td>2015-03-31</td>\n",
       "    </tr>\n",
       "    <tr>\n",
       "      <th>2015-06-30</th>\n",
       "      <td>7.90</td>\n",
       "      <td>78.0608</td>\n",
       "      <td>1.345694</td>\n",
       "      <td>0.473126</td>\n",
       "      <td>16.5462</td>\n",
       "      <td>1.530598e+10</td>\n",
       "      <td>1.604060e+11</td>\n",
       "      <td>1.413247e+11</td>\n",
       "      <td>1.2990</td>\n",
       "      <td>5.5248</td>\n",
       "      <td>23.614141</td>\n",
       "      <td>2015-06-30</td>\n",
       "    </tr>\n",
       "    <tr>\n",
       "      <th>2015-09-30</th>\n",
       "      <td>8.05</td>\n",
       "      <td>78.7795</td>\n",
       "      <td>1.428418</td>\n",
       "      <td>0.486936</td>\n",
       "      <td>25.0755</td>\n",
       "      <td>2.312905e+10</td>\n",
       "      <td>1.406529e+11</td>\n",
       "      <td>1.239222e+11</td>\n",
       "      <td>1.7677</td>\n",
       "      <td>7.7412</td>\n",
       "      <td>25.425737</td>\n",
       "      <td>2015-09-30</td>\n",
       "    </tr>\n",
       "    <tr>\n",
       "      <th>2015-12-31</th>\n",
       "      <td>9.08</td>\n",
       "      <td>77.7015</td>\n",
       "      <td>1.460725</td>\n",
       "      <td>0.990342</td>\n",
       "      <td>54.1250</td>\n",
       "      <td>5.739850e+10</td>\n",
       "      <td>2.699643e+11</td>\n",
       "      <td>2.378665e+11</td>\n",
       "      <td>4.6351</td>\n",
       "      <td>19.2403</td>\n",
       "      <td>34.540017</td>\n",
       "      <td>2015-12-31</td>\n",
       "    </tr>\n",
       "  </tbody>\n",
       "</table>\n",
       "</div>"
      ],
      "text/plain": [
       "             bps  debttoassets   eps_ttm   est_peg   faturn   grossmargin  \\\n",
       "date                                                                        \n",
       "2015-03-31  8.05       77.9098  1.425489  0.268189   3.2169  3.024228e+09   \n",
       "2015-06-30  7.90       78.0608  1.345694  0.473126  16.5462  1.530598e+10   \n",
       "2015-09-30  8.05       78.7795  1.428418  0.486936  25.0755  2.312905e+10   \n",
       "2015-12-31  9.08       77.7015  1.460725  0.990342  54.1250  5.739850e+10   \n",
       "\n",
       "             mkt_cap_ard  mkt_cap_float     roa      roe  yoyprofit       date  \n",
       "date                                                                            \n",
       "2015-03-31  1.526508e+11   1.344782e+11  0.1756   0.7346 -44.576124 2015-03-31  \n",
       "2015-06-30  1.604060e+11   1.413247e+11  1.2990   5.5248  23.614141 2015-06-30  \n",
       "2015-09-30  1.406529e+11   1.239222e+11  1.7677   7.7412  25.425737 2015-09-30  \n",
       "2015-12-31  2.699643e+11   2.378665e+11  4.6351  19.2403  34.540017 2015-12-31  "
      ]
     },
     "execution_count": 80,
     "metadata": {},
     "output_type": "execute_result"
    }
   ],
   "source": [
    "df"
   ]
  },
  {
   "cell_type": "code",
   "execution_count": null,
   "metadata": {
    "collapsed": true
   },
   "outputs": [],
   "source": []
  }
 ],
 "metadata": {
  "anaconda-cloud": {},
  "kernelspec": {
   "display_name": "Python [default]",
   "language": "python",
   "name": "python2"
  },
  "language_info": {
   "codemirror_mode": {
    "name": "ipython",
    "version": 2
   },
   "file_extension": ".py",
   "mimetype": "text/x-python",
   "name": "python",
   "nbconvert_exporter": "python",
   "pygments_lexer": "ipython2",
   "version": "2.7.12"
  }
 },
 "nbformat": 4,
 "nbformat_minor": 1
}
