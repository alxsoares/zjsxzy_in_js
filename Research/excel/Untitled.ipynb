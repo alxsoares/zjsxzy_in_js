{
 "cells": [
  {
   "cell_type": "code",
   "execution_count": 90,
   "metadata": {
    "collapsed": true
   },
   "outputs": [],
   "source": [
    "import pandas as pd\n",
    "\n",
    "# Create a Pandas series with a date index\n",
    "writer = pd.ExcelWriter('test.xlsx', engine='xlsxwriter')"
   ]
  },
  {
   "cell_type": "code",
   "execution_count": 91,
   "metadata": {
    "collapsed": false
   },
   "outputs": [],
   "source": [
    "df = pd.read_excel(u'C:/Users/jgtzsx01/Documents/sheet/客户报告/客户_专户历史持仓.xlsx', index_col=0)"
   ]
  },
  {
   "cell_type": "code",
   "execution_count": 92,
   "metadata": {
    "collapsed": false
   },
   "outputs": [
    {
     "data": {
      "text/html": [
       "<div>\n",
       "<table border=\"1\" class=\"dataframe\">\n",
       "  <thead>\n",
       "    <tr style=\"text-align: right;\">\n",
       "      <th></th>\n",
       "      <th>现金类小计</th>\n",
       "      <th>定期存款存单小计</th>\n",
       "      <th>固定收益类(不含定存-GVB)小计</th>\n",
       "      <th>常规可转债</th>\n",
       "      <th>权益类小计</th>\n",
       "      <th>商品</th>\n",
       "    </tr>\n",
       "  </thead>\n",
       "  <tbody>\n",
       "    <tr>\n",
       "      <th>2017-04-01</th>\n",
       "      <td>0.2283</td>\n",
       "      <td>0.2619</td>\n",
       "      <td>0.4117</td>\n",
       "      <td>0</td>\n",
       "      <td>0.0293</td>\n",
       "      <td>0.0637</td>\n",
       "    </tr>\n",
       "    <tr>\n",
       "      <th>2017-04-02</th>\n",
       "      <td>0.2283</td>\n",
       "      <td>0.2620</td>\n",
       "      <td>0.4117</td>\n",
       "      <td>0</td>\n",
       "      <td>0.0293</td>\n",
       "      <td>0.0637</td>\n",
       "    </tr>\n",
       "    <tr>\n",
       "      <th>2017-04-03</th>\n",
       "      <td>0.2283</td>\n",
       "      <td>0.2620</td>\n",
       "      <td>0.4015</td>\n",
       "      <td>0</td>\n",
       "      <td>0.0293</td>\n",
       "      <td>0.0637</td>\n",
       "    </tr>\n",
       "    <tr>\n",
       "      <th>2017-04-04</th>\n",
       "      <td>0.2283</td>\n",
       "      <td>0.2620</td>\n",
       "      <td>0.4015</td>\n",
       "      <td>0</td>\n",
       "      <td>0.0293</td>\n",
       "      <td>0.0637</td>\n",
       "    </tr>\n",
       "    <tr>\n",
       "      <th>2017-04-05</th>\n",
       "      <td>0.0669</td>\n",
       "      <td>0.2619</td>\n",
       "      <td>0.4215</td>\n",
       "      <td>0</td>\n",
       "      <td>0.0494</td>\n",
       "      <td>0.0274</td>\n",
       "    </tr>\n",
       "  </tbody>\n",
       "</table>\n",
       "</div>"
      ],
      "text/plain": [
       "             现金类小计  定期存款存单小计  固定收益类(不含定存-GVB)小计  常规可转债   权益类小计      商品\n",
       "2017-04-01  0.2283    0.2619             0.4117      0  0.0293  0.0637\n",
       "2017-04-02  0.2283    0.2620             0.4117      0  0.0293  0.0637\n",
       "2017-04-03  0.2283    0.2620             0.4015      0  0.0293  0.0637\n",
       "2017-04-04  0.2283    0.2620             0.4015      0  0.0293  0.0637\n",
       "2017-04-05  0.0669    0.2619             0.4215      0  0.0494  0.0274"
      ]
     },
     "execution_count": 92,
     "metadata": {},
     "output_type": "execute_result"
    }
   ],
   "source": [
    "df.tail()"
   ]
  },
  {
   "cell_type": "code",
   "execution_count": 93,
   "metadata": {
    "collapsed": true
   },
   "outputs": [],
   "source": [
    "# Stick it in Excel\n",
    "\n",
    "worksheet_name = 'test'\n",
    "\n",
    "df.to_excel(writer, worksheet_name)\n",
    "\n",
    "# Create a graph\n",
    "\n",
    "workbook = writer.book\n",
    "# chart = workbook.add_chart({'type': 'area'})\n",
    "# Create a chart object.\n",
    "chart = workbook.add_chart({'type': 'area', 'subtype': 'percent_stacked'})\n",
    "\n",
    "# chart.add_series({'values': '={worksheet_name}!$B$2:$B$7'.format(worksheet_name=worksheet_name),\n",
    "#                   'categories': '={worksheet_name}!$A$2:$A$7'.format(worksheet_name=worksheet_name)})\n",
    "for i in range(max_col):\n",
    "    col = i + 1\n",
    "    chart.add_series({\n",
    "            'name': ['test', 0, col],\n",
    "            'categories': ['test', 1, 0, max_row, 0],\n",
    "            'values': ['test', 1, col, max_row, col],\n",
    "        })\n",
    "\n",
    "# Set the X axis to be a text axis\n",
    "\n",
    "chart.set_x_axis({'name': 'Week', 'text_axis': True, 'date_axis': True})"
   ]
  },
  {
   "cell_type": "code",
   "execution_count": 94,
   "metadata": {
    "collapsed": false
   },
   "outputs": [
    {
     "data": {
      "text/plain": [
       "0"
      ]
     },
     "execution_count": 94,
     "metadata": {},
     "output_type": "execute_result"
    }
   ],
   "source": [
    "# Stick the graph in Excel\n",
    "\n",
    "sheets = [sheet for sheet in workbook.worksheets() if sheet.name == worksheet_name]\n",
    "sheets[0].insert_chart('D2', chart)\n",
    "\n",
    "# Make the date column wide enough for the date to be visible\n",
    "sheets[0].set_column(0, 0, 20)"
   ]
  },
  {
   "cell_type": "code",
   "execution_count": 95,
   "metadata": {
    "collapsed": false
   },
   "outputs": [],
   "source": [
    "writer.save()"
   ]
  },
  {
   "cell_type": "code",
   "execution_count": null,
   "metadata": {
    "collapsed": true
   },
   "outputs": [],
   "source": []
  },
  {
   "cell_type": "code",
   "execution_count": null,
   "metadata": {
    "collapsed": true
   },
   "outputs": [],
   "source": []
  },
  {
   "cell_type": "code",
   "execution_count": null,
   "metadata": {
    "collapsed": true
   },
   "outputs": [],
   "source": []
  }
 ],
 "metadata": {
  "kernelspec": {
   "display_name": "Python [default]",
   "language": "python",
   "name": "python2"
  },
  "language_info": {
   "codemirror_mode": {
    "name": "ipython",
    "version": 2
   },
   "file_extension": ".py",
   "mimetype": "text/x-python",
   "name": "python",
   "nbconvert_exporter": "python",
   "pygments_lexer": "ipython2",
   "version": "2.7.12"
  }
 },
 "nbformat": 4,
 "nbformat_minor": 1
}
