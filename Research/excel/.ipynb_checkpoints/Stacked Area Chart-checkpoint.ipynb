{
 "cells": [
  {
   "cell_type": "code",
   "execution_count": null,
   "metadata": {
    "collapsed": true
   },
   "outputs": [],
   "source": [
    "import random\n",
    "import pandas as pd"
   ]
  },
  {
   "cell_type": "markdown",
   "metadata": {},
   "source": [
    "# Some sample data to plot."
   ]
  },
  {
   "cell_type": "code",
   "execution_count": 2,
   "metadata": {
    "collapsed": true
   },
   "outputs": [],
   "source": [
    "cat_2 = ['y' + str(x) for x in range(1, 9)]\n",
    "index_2 = range(1, 21, 1)\n",
    "multi_iter2 = {'index': index_2}\n",
    "for cat in cat_2:\n",
    "    multi_iter2[cat] = [random.randint(10, 100) for x in index_2]"
   ]
  },
  {
   "cell_type": "markdown",
   "metadata": {},
   "source": [
    "# Create a Pandas dataframe from the data."
   ]
  },
  {
   "cell_type": "code",
   "execution_count": 3,
   "metadata": {
    "collapsed": true
   },
   "outputs": [],
   "source": [
    "index_2 = multi_iter2.pop('index')\n",
    "df = pd.DataFrame(multi_iter2, index=index_2)\n",
    "df = df.reindex(columns=sorted(df.columns))"
   ]
  },
  {
   "cell_type": "code",
   "execution_count": 4,
   "metadata": {
    "collapsed": false
   },
   "outputs": [
    {
     "data": {
      "text/html": [
       "<div>\n",
       "<table border=\"1\" class=\"dataframe\">\n",
       "  <thead>\n",
       "    <tr style=\"text-align: right;\">\n",
       "      <th></th>\n",
       "      <th>y1</th>\n",
       "      <th>y2</th>\n",
       "      <th>y3</th>\n",
       "      <th>y4</th>\n",
       "      <th>y5</th>\n",
       "      <th>y6</th>\n",
       "      <th>y7</th>\n",
       "      <th>y8</th>\n",
       "    </tr>\n",
       "  </thead>\n",
       "  <tbody>\n",
       "    <tr>\n",
       "      <th>1</th>\n",
       "      <td>26</td>\n",
       "      <td>43</td>\n",
       "      <td>99</td>\n",
       "      <td>63</td>\n",
       "      <td>95</td>\n",
       "      <td>36</td>\n",
       "      <td>70</td>\n",
       "      <td>67</td>\n",
       "    </tr>\n",
       "    <tr>\n",
       "      <th>2</th>\n",
       "      <td>25</td>\n",
       "      <td>31</td>\n",
       "      <td>89</td>\n",
       "      <td>40</td>\n",
       "      <td>38</td>\n",
       "      <td>57</td>\n",
       "      <td>11</td>\n",
       "      <td>95</td>\n",
       "    </tr>\n",
       "    <tr>\n",
       "      <th>3</th>\n",
       "      <td>76</td>\n",
       "      <td>27</td>\n",
       "      <td>48</td>\n",
       "      <td>79</td>\n",
       "      <td>94</td>\n",
       "      <td>83</td>\n",
       "      <td>32</td>\n",
       "      <td>46</td>\n",
       "    </tr>\n",
       "    <tr>\n",
       "      <th>4</th>\n",
       "      <td>65</td>\n",
       "      <td>10</td>\n",
       "      <td>91</td>\n",
       "      <td>50</td>\n",
       "      <td>50</td>\n",
       "      <td>67</td>\n",
       "      <td>65</td>\n",
       "      <td>85</td>\n",
       "    </tr>\n",
       "    <tr>\n",
       "      <th>5</th>\n",
       "      <td>23</td>\n",
       "      <td>39</td>\n",
       "      <td>47</td>\n",
       "      <td>26</td>\n",
       "      <td>54</td>\n",
       "      <td>73</td>\n",
       "      <td>24</td>\n",
       "      <td>46</td>\n",
       "    </tr>\n",
       "    <tr>\n",
       "      <th>6</th>\n",
       "      <td>72</td>\n",
       "      <td>41</td>\n",
       "      <td>57</td>\n",
       "      <td>27</td>\n",
       "      <td>53</td>\n",
       "      <td>38</td>\n",
       "      <td>91</td>\n",
       "      <td>72</td>\n",
       "    </tr>\n",
       "    <tr>\n",
       "      <th>7</th>\n",
       "      <td>72</td>\n",
       "      <td>78</td>\n",
       "      <td>29</td>\n",
       "      <td>32</td>\n",
       "      <td>22</td>\n",
       "      <td>98</td>\n",
       "      <td>10</td>\n",
       "      <td>66</td>\n",
       "    </tr>\n",
       "    <tr>\n",
       "      <th>8</th>\n",
       "      <td>70</td>\n",
       "      <td>59</td>\n",
       "      <td>62</td>\n",
       "      <td>11</td>\n",
       "      <td>49</td>\n",
       "      <td>58</td>\n",
       "      <td>61</td>\n",
       "      <td>12</td>\n",
       "    </tr>\n",
       "    <tr>\n",
       "      <th>9</th>\n",
       "      <td>88</td>\n",
       "      <td>61</td>\n",
       "      <td>10</td>\n",
       "      <td>67</td>\n",
       "      <td>100</td>\n",
       "      <td>57</td>\n",
       "      <td>16</td>\n",
       "      <td>96</td>\n",
       "    </tr>\n",
       "    <tr>\n",
       "      <th>10</th>\n",
       "      <td>45</td>\n",
       "      <td>75</td>\n",
       "      <td>51</td>\n",
       "      <td>30</td>\n",
       "      <td>70</td>\n",
       "      <td>77</td>\n",
       "      <td>49</td>\n",
       "      <td>10</td>\n",
       "    </tr>\n",
       "    <tr>\n",
       "      <th>11</th>\n",
       "      <td>22</td>\n",
       "      <td>42</td>\n",
       "      <td>13</td>\n",
       "      <td>45</td>\n",
       "      <td>41</td>\n",
       "      <td>66</td>\n",
       "      <td>60</td>\n",
       "      <td>96</td>\n",
       "    </tr>\n",
       "    <tr>\n",
       "      <th>12</th>\n",
       "      <td>32</td>\n",
       "      <td>46</td>\n",
       "      <td>56</td>\n",
       "      <td>61</td>\n",
       "      <td>58</td>\n",
       "      <td>36</td>\n",
       "      <td>56</td>\n",
       "      <td>20</td>\n",
       "    </tr>\n",
       "    <tr>\n",
       "      <th>13</th>\n",
       "      <td>79</td>\n",
       "      <td>78</td>\n",
       "      <td>86</td>\n",
       "      <td>37</td>\n",
       "      <td>96</td>\n",
       "      <td>38</td>\n",
       "      <td>96</td>\n",
       "      <td>92</td>\n",
       "    </tr>\n",
       "    <tr>\n",
       "      <th>14</th>\n",
       "      <td>18</td>\n",
       "      <td>17</td>\n",
       "      <td>17</td>\n",
       "      <td>60</td>\n",
       "      <td>76</td>\n",
       "      <td>64</td>\n",
       "      <td>84</td>\n",
       "      <td>95</td>\n",
       "    </tr>\n",
       "    <tr>\n",
       "      <th>15</th>\n",
       "      <td>90</td>\n",
       "      <td>76</td>\n",
       "      <td>50</td>\n",
       "      <td>65</td>\n",
       "      <td>50</td>\n",
       "      <td>43</td>\n",
       "      <td>65</td>\n",
       "      <td>38</td>\n",
       "    </tr>\n",
       "    <tr>\n",
       "      <th>16</th>\n",
       "      <td>53</td>\n",
       "      <td>49</td>\n",
       "      <td>91</td>\n",
       "      <td>95</td>\n",
       "      <td>58</td>\n",
       "      <td>98</td>\n",
       "      <td>46</td>\n",
       "      <td>33</td>\n",
       "    </tr>\n",
       "    <tr>\n",
       "      <th>17</th>\n",
       "      <td>65</td>\n",
       "      <td>23</td>\n",
       "      <td>44</td>\n",
       "      <td>65</td>\n",
       "      <td>30</td>\n",
       "      <td>91</td>\n",
       "      <td>54</td>\n",
       "      <td>87</td>\n",
       "    </tr>\n",
       "    <tr>\n",
       "      <th>18</th>\n",
       "      <td>18</td>\n",
       "      <td>27</td>\n",
       "      <td>46</td>\n",
       "      <td>35</td>\n",
       "      <td>68</td>\n",
       "      <td>85</td>\n",
       "      <td>71</td>\n",
       "      <td>38</td>\n",
       "    </tr>\n",
       "    <tr>\n",
       "      <th>19</th>\n",
       "      <td>31</td>\n",
       "      <td>30</td>\n",
       "      <td>92</td>\n",
       "      <td>63</td>\n",
       "      <td>48</td>\n",
       "      <td>13</td>\n",
       "      <td>99</td>\n",
       "      <td>73</td>\n",
       "    </tr>\n",
       "    <tr>\n",
       "      <th>20</th>\n",
       "      <td>77</td>\n",
       "      <td>33</td>\n",
       "      <td>82</td>\n",
       "      <td>20</td>\n",
       "      <td>14</td>\n",
       "      <td>51</td>\n",
       "      <td>28</td>\n",
       "      <td>42</td>\n",
       "    </tr>\n",
       "  </tbody>\n",
       "</table>\n",
       "</div>"
      ],
      "text/plain": [
       "    y1  y2  y3  y4   y5  y6  y7  y8\n",
       "1   26  43  99  63   95  36  70  67\n",
       "2   25  31  89  40   38  57  11  95\n",
       "3   76  27  48  79   94  83  32  46\n",
       "4   65  10  91  50   50  67  65  85\n",
       "5   23  39  47  26   54  73  24  46\n",
       "6   72  41  57  27   53  38  91  72\n",
       "7   72  78  29  32   22  98  10  66\n",
       "8   70  59  62  11   49  58  61  12\n",
       "9   88  61  10  67  100  57  16  96\n",
       "10  45  75  51  30   70  77  49  10\n",
       "11  22  42  13  45   41  66  60  96\n",
       "12  32  46  56  61   58  36  56  20\n",
       "13  79  78  86  37   96  38  96  92\n",
       "14  18  17  17  60   76  64  84  95\n",
       "15  90  76  50  65   50  43  65  38\n",
       "16  53  49  91  95   58  98  46  33\n",
       "17  65  23  44  65   30  91  54  87\n",
       "18  18  27  46  35   68  85  71  38\n",
       "19  31  30  92  63   48  13  99  73\n",
       "20  77  33  82  20   14  51  28  42"
      ]
     },
     "execution_count": 4,
     "metadata": {},
     "output_type": "execute_result"
    }
   ],
   "source": [
    "df"
   ]
  },
  {
   "cell_type": "markdown",
   "metadata": {},
   "source": [
    "# Create a Pandas Excel writer using XlsxWriter as the engine."
   ]
  },
  {
   "cell_type": "code",
   "execution_count": 12,
   "metadata": {
    "collapsed": true
   },
   "outputs": [],
   "source": [
    "excel_file = 'stacked_area1.xlsx'\n",
    "sheet_name = 'Sheet1'\n",
    "\n",
    "writer = pd.ExcelWriter(excel_file, engine='xlsxwriter')\n",
    "df.to_excel(writer, sheet_name=sheet_name)"
   ]
  },
  {
   "cell_type": "markdown",
   "metadata": {},
   "source": [
    "# Access the XlsxWriter workbook and worksheet objects from the dataframe."
   ]
  },
  {
   "cell_type": "code",
   "execution_count": 13,
   "metadata": {
    "collapsed": true
   },
   "outputs": [],
   "source": [
    "workbook = writer.book\n",
    "worksheet = writer.sheets[sheet_name]"
   ]
  },
  {
   "cell_type": "markdown",
   "metadata": {},
   "source": [
    "# Create a chart object."
   ]
  },
  {
   "cell_type": "code",
   "execution_count": 14,
   "metadata": {
    "collapsed": true
   },
   "outputs": [],
   "source": [
    "chart = workbook.add_chart({'type': 'area', 'subtype': 'stacked'})"
   ]
  },
  {
   "cell_type": "markdown",
   "metadata": {},
   "source": [
    "# Configure the series of the chart from the dataframe data."
   ]
  },
  {
   "cell_type": "code",
   "execution_count": 15,
   "metadata": {
    "collapsed": true
   },
   "outputs": [],
   "source": [
    "max_row = len(df)\n",
    "for i in range(4):\n",
    "    col = i + 1\n",
    "    chart.add_series({\n",
    "        'name':       ['Sheet1', 0, col],\n",
    "        'categories': ['Sheet1', 1, 0, max_row, 0],\n",
    "        'values':     ['Sheet1', 1, col, max_row, col],\n",
    "    })"
   ]
  },
  {
   "cell_type": "markdown",
   "metadata": {},
   "source": [
    "# Configure the chart axes."
   ]
  },
  {
   "cell_type": "code",
   "execution_count": 16,
   "metadata": {
    "collapsed": true
   },
   "outputs": [],
   "source": [
    "chart.set_x_axis({'name': u'时间'})\n",
    "chart.set_y_axis({'name': '', 'major_gridlines': {'visible': False}})"
   ]
  },
  {
   "cell_type": "markdown",
   "metadata": {},
   "source": [
    "# Insert the chart into the worksheet."
   ]
  },
  {
   "cell_type": "code",
   "execution_count": 17,
   "metadata": {
    "collapsed": true
   },
   "outputs": [],
   "source": [
    "worksheet.insert_chart('K2', chart)"
   ]
  },
  {
   "cell_type": "markdown",
   "metadata": {},
   "source": [
    "# Close the Pandas Excel writer and output the Excel file."
   ]
  },
  {
   "cell_type": "code",
   "execution_count": 18,
   "metadata": {
    "collapsed": true
   },
   "outputs": [],
   "source": [
    "writer.save()"
   ]
  },
  {
   "cell_type": "code",
   "execution_count": null,
   "metadata": {
    "collapsed": true
   },
   "outputs": [],
   "source": []
  }
 ],
 "metadata": {
  "anaconda-cloud": {},
  "kernelspec": {
   "display_name": "Python [default]",
   "language": "python",
   "name": "python2"
  },
  "language_info": {
   "codemirror_mode": {
    "name": "ipython",
    "version": 2
   },
   "file_extension": ".py",
   "mimetype": "text/x-python",
   "name": "python",
   "nbconvert_exporter": "python",
   "pygments_lexer": "ipython2",
   "version": "2.7.12"
  }
 },
 "nbformat": 4,
 "nbformat_minor": 1
}
