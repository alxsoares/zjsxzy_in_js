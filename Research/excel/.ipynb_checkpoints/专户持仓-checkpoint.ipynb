{
 "cells": [
  {
   "cell_type": "code",
   "execution_count": 199,
   "metadata": {
    "collapsed": true
   },
   "outputs": [],
   "source": [
    "import pandas as pd"
   ]
  },
  {
   "cell_type": "code",
   "execution_count": 200,
   "metadata": {
    "collapsed": true
   },
   "outputs": [],
   "source": [
    "DATA_DIR = u'C:/Users/jgtzsx01/Documents/sheet/客户报告/'\n",
    "fname = u'%s/专户历史持仓.xlsx'%(DATA_DIR)"
   ]
  },
  {
   "cell_type": "code",
   "execution_count": 201,
   "metadata": {
    "collapsed": true
   },
   "outputs": [],
   "source": [
    "df = pd.read_excel(fname, index_col=0)"
   ]
  },
  {
   "cell_type": "code",
   "execution_count": 202,
   "metadata": {
    "collapsed": false
   },
   "outputs": [
    {
     "data": {
      "text/html": [
       "<div>\n",
       "<table border=\"1\" class=\"dataframe\">\n",
       "  <thead>\n",
       "    <tr style=\"text-align: right;\">\n",
       "      <th></th>\n",
       "      <th>活期存款</th>\n",
       "      <th>全部备付金</th>\n",
       "      <th>货币基金</th>\n",
       "      <th>逆回购</th>\n",
       "      <th>正回购</th>\n",
       "      <th>现金类小计</th>\n",
       "      <th>全部清算款</th>\n",
       "      <th>全部定存</th>\n",
       "      <th>全部定期存单</th>\n",
       "      <th>定期存款存单小计</th>\n",
       "      <th>...</th>\n",
       "      <th>债券基金</th>\n",
       "      <th>固定收益类(不含定存-GVB)小计</th>\n",
       "      <th>常规可转债</th>\n",
       "      <th>股票(不含IPO)</th>\n",
       "      <th>新股</th>\n",
       "      <th>权益基金</th>\n",
       "      <th>权益类小计</th>\n",
       "      <th>商品</th>\n",
       "      <th>其他</th>\n",
       "      <th>组合</th>\n",
       "    </tr>\n",
       "  </thead>\n",
       "  <tbody>\n",
       "    <tr>\n",
       "      <th>2017-04-05</th>\n",
       "      <td>0.0203</td>\n",
       "      <td>0.0067</td>\n",
       "      <td>0.0</td>\n",
       "      <td>0.0500</td>\n",
       "      <td>-0.0100</td>\n",
       "      <td>0.0669</td>\n",
       "      <td>0.1666</td>\n",
       "      <td>0</td>\n",
       "      <td>0.2619</td>\n",
       "      <td>0.2619</td>\n",
       "      <td>...</td>\n",
       "      <td>0.0302</td>\n",
       "      <td>0.4215</td>\n",
       "      <td>0</td>\n",
       "      <td>0</td>\n",
       "      <td>0</td>\n",
       "      <td>0.0494</td>\n",
       "      <td>0.0494</td>\n",
       "      <td>0.0274</td>\n",
       "      <td>0.0063</td>\n",
       "      <td>1</td>\n",
       "    </tr>\n",
       "    <tr>\n",
       "      <th>2017-04-04</th>\n",
       "      <td>0.0147</td>\n",
       "      <td>0.0067</td>\n",
       "      <td>0.0</td>\n",
       "      <td>0.2169</td>\n",
       "      <td>-0.0101</td>\n",
       "      <td>0.2283</td>\n",
       "      <td>0.0000</td>\n",
       "      <td>0</td>\n",
       "      <td>0.2620</td>\n",
       "      <td>0.2620</td>\n",
       "      <td>...</td>\n",
       "      <td>0.0101</td>\n",
       "      <td>0.4015</td>\n",
       "      <td>0</td>\n",
       "      <td>0</td>\n",
       "      <td>0</td>\n",
       "      <td>0.0293</td>\n",
       "      <td>0.0293</td>\n",
       "      <td>0.0637</td>\n",
       "      <td>0.0152</td>\n",
       "      <td>1</td>\n",
       "    </tr>\n",
       "    <tr>\n",
       "      <th>2017-04-03</th>\n",
       "      <td>0.0147</td>\n",
       "      <td>0.0067</td>\n",
       "      <td>0.0</td>\n",
       "      <td>0.2169</td>\n",
       "      <td>-0.0101</td>\n",
       "      <td>0.2283</td>\n",
       "      <td>0.0000</td>\n",
       "      <td>0</td>\n",
       "      <td>0.2620</td>\n",
       "      <td>0.2620</td>\n",
       "      <td>...</td>\n",
       "      <td>0.0101</td>\n",
       "      <td>0.4015</td>\n",
       "      <td>0</td>\n",
       "      <td>0</td>\n",
       "      <td>0</td>\n",
       "      <td>0.0293</td>\n",
       "      <td>0.0293</td>\n",
       "      <td>0.0637</td>\n",
       "      <td>0.0152</td>\n",
       "      <td>1</td>\n",
       "    </tr>\n",
       "    <tr>\n",
       "      <th>2017-04-02</th>\n",
       "      <td>0.0147</td>\n",
       "      <td>0.0067</td>\n",
       "      <td>0.0</td>\n",
       "      <td>0.2169</td>\n",
       "      <td>-0.0100</td>\n",
       "      <td>0.2283</td>\n",
       "      <td>0.0000</td>\n",
       "      <td>0</td>\n",
       "      <td>0.2620</td>\n",
       "      <td>0.2620</td>\n",
       "      <td>...</td>\n",
       "      <td>0.0101</td>\n",
       "      <td>0.4117</td>\n",
       "      <td>0</td>\n",
       "      <td>0</td>\n",
       "      <td>0</td>\n",
       "      <td>0.0293</td>\n",
       "      <td>0.0293</td>\n",
       "      <td>0.0637</td>\n",
       "      <td>0.0050</td>\n",
       "      <td>1</td>\n",
       "    </tr>\n",
       "    <tr>\n",
       "      <th>2017-04-01</th>\n",
       "      <td>0.0147</td>\n",
       "      <td>0.0067</td>\n",
       "      <td>0.0</td>\n",
       "      <td>0.2169</td>\n",
       "      <td>-0.0100</td>\n",
       "      <td>0.2283</td>\n",
       "      <td>0.0000</td>\n",
       "      <td>0</td>\n",
       "      <td>0.2619</td>\n",
       "      <td>0.2619</td>\n",
       "      <td>...</td>\n",
       "      <td>0.0101</td>\n",
       "      <td>0.4117</td>\n",
       "      <td>0</td>\n",
       "      <td>0</td>\n",
       "      <td>0</td>\n",
       "      <td>0.0293</td>\n",
       "      <td>0.0293</td>\n",
       "      <td>0.0637</td>\n",
       "      <td>0.0051</td>\n",
       "      <td>1</td>\n",
       "    </tr>\n",
       "  </tbody>\n",
       "</table>\n",
       "<p>5 rows × 34 columns</p>\n",
       "</div>"
      ],
      "text/plain": [
       "              活期存款   全部备付金  货币基金     逆回购     正回购   现金类小计   全部清算款  全部定存  \\\n",
       "2017-04-05  0.0203  0.0067   0.0  0.0500 -0.0100  0.0669  0.1666     0   \n",
       "2017-04-04  0.0147  0.0067   0.0  0.2169 -0.0101  0.2283  0.0000     0   \n",
       "2017-04-03  0.0147  0.0067   0.0  0.2169 -0.0101  0.2283  0.0000     0   \n",
       "2017-04-02  0.0147  0.0067   0.0  0.2169 -0.0100  0.2283  0.0000     0   \n",
       "2017-04-01  0.0147  0.0067   0.0  0.2169 -0.0100  0.2283  0.0000     0   \n",
       "\n",
       "            全部定期存单  定期存款存单小计 ...    债券基金  固定收益类(不含定存-GVB)小计  常规可转债  股票(不含IPO)  \\\n",
       "2017-04-05  0.2619    0.2619 ...  0.0302             0.4215      0          0   \n",
       "2017-04-04  0.2620    0.2620 ...  0.0101             0.4015      0          0   \n",
       "2017-04-03  0.2620    0.2620 ...  0.0101             0.4015      0          0   \n",
       "2017-04-02  0.2620    0.2620 ...  0.0101             0.4117      0          0   \n",
       "2017-04-01  0.2619    0.2619 ...  0.0101             0.4117      0          0   \n",
       "\n",
       "            新股    权益基金   权益类小计      商品      其他  组合  \n",
       "2017-04-05   0  0.0494  0.0494  0.0274  0.0063   1  \n",
       "2017-04-04   0  0.0293  0.0293  0.0637  0.0152   1  \n",
       "2017-04-03   0  0.0293  0.0293  0.0637  0.0152   1  \n",
       "2017-04-02   0  0.0293  0.0293  0.0637  0.0050   1  \n",
       "2017-04-01   0  0.0293  0.0293  0.0637  0.0051   1  \n",
       "\n",
       "[5 rows x 34 columns]"
      ]
     },
     "execution_count": 202,
     "metadata": {},
     "output_type": "execute_result"
    }
   ],
   "source": [
    "df.head()"
   ]
  },
  {
   "cell_type": "markdown",
   "metadata": {},
   "source": [
    "# 重新排序"
   ]
  },
  {
   "cell_type": "code",
   "execution_count": 203,
   "metadata": {
    "collapsed": false
   },
   "outputs": [],
   "source": [
    "df = df.sort_index()"
   ]
  },
  {
   "cell_type": "markdown",
   "metadata": {},
   "source": [
    "# 筛选列"
   ]
  },
  {
   "cell_type": "code",
   "execution_count": 204,
   "metadata": {
    "collapsed": false
   },
   "outputs": [
    {
     "data": {
      "text/plain": [
       "Index([u'活期存款', u'全部备付金', u'货币基金', u'逆回购', u'正回购', u'现金类小计', u'全部清算款', u'全部定存',\n",
       "       u'全部定期存单', u'定期存款存单小计', u'信托产品', u'国债', u'央行票据', u'政策性金融债', u'利率债小计',\n",
       "       u'EB', u'LCB', u'MTN', u'CP', u'SCP', u'STVB', u'非政策性金融债',\n",
       "       u'其他信用债(PPN等)', u'信用债小计', u'债券基金', u'固定收益类(不含定存-GVB)小计', u'常规可转债',\n",
       "       u'股票(不含IPO)', u'新股', u'权益基金', u'权益类小计', u'商品', u'其他', u'组合'],\n",
       "      dtype='object')"
      ]
     },
     "execution_count": 204,
     "metadata": {},
     "output_type": "execute_result"
    }
   ],
   "source": [
    "df.columns"
   ]
  },
  {
   "cell_type": "code",
   "execution_count": 205,
   "metadata": {
    "collapsed": true
   },
   "outputs": [],
   "source": [
    "selected_columns = [u'现金类小计', u'定期存款存单小计', u'固定收益类(不含定存-GVB)小计', u'常规可转债', u'权益类小计', u'商品']"
   ]
  },
  {
   "cell_type": "code",
   "execution_count": 206,
   "metadata": {
    "collapsed": false
   },
   "outputs": [],
   "source": [
    "df = df[selected_columns]"
   ]
  },
  {
   "cell_type": "code",
   "execution_count": 207,
   "metadata": {
    "collapsed": false
   },
   "outputs": [],
   "source": [
    "df.index = pd.to_datetime(df.index, format='%Y-%m-%d')"
   ]
  },
  {
   "cell_type": "code",
   "execution_count": 208,
   "metadata": {
    "collapsed": false
   },
   "outputs": [],
   "source": [
    "df.index = df.index.map(lambda x: x.strftime('%Y-%m-%d'))"
   ]
  },
  {
   "cell_type": "markdown",
   "metadata": {},
   "source": [
    "# 画Stack Area图"
   ]
  },
  {
   "cell_type": "code",
   "execution_count": 209,
   "metadata": {
    "collapsed": true
   },
   "outputs": [],
   "source": [
    "excel_file = u'%s/客户_专户历史持仓.xlsx'%(DATA_DIR)\n",
    "sheet_name = 'Sheet1'"
   ]
  },
  {
   "cell_type": "code",
   "execution_count": 210,
   "metadata": {
    "collapsed": false
   },
   "outputs": [],
   "source": [
    "writer = pd.ExcelWriter(excel_file, engine='xlsxwriter')\n",
    "df.to_excel(writer, sheet_name=sheet_name)"
   ]
  },
  {
   "cell_type": "code",
   "execution_count": 211,
   "metadata": {
    "collapsed": true
   },
   "outputs": [],
   "source": [
    "workbook = writer.book\n",
    "worksheet = writer.sheets[sheet_name]"
   ]
  },
  {
   "cell_type": "code",
   "execution_count": 212,
   "metadata": {
    "collapsed": true
   },
   "outputs": [],
   "source": [
    "# Create a chart object.\n",
    "chart = workbook.add_chart({'type': 'area', 'subtype': 'percent_stacked'})"
   ]
  },
  {
   "cell_type": "code",
   "execution_count": 213,
   "metadata": {
    "collapsed": true
   },
   "outputs": [],
   "source": [
    "max_row, max_col = len(df), len(df.columns)"
   ]
  },
  {
   "cell_type": "code",
   "execution_count": 214,
   "metadata": {
    "collapsed": false
   },
   "outputs": [],
   "source": [
    "for i in range(max_col):\n",
    "    col = i + 1\n",
    "    chart.add_series({\n",
    "            'name': ['Sheet1', 0, col],\n",
    "            'categories': ['Sheet1', 1, 0, max_row, 0],\n",
    "            'values': ['Sheet1', 1, col, max_row, col],\n",
    "        })"
   ]
  },
  {
   "cell_type": "code",
   "execution_count": 215,
   "metadata": {
    "collapsed": true
   },
   "outputs": [],
   "source": [
    "chart.set_x_axis({'name': u'日期', 'date_axis': True})"
   ]
  },
  {
   "cell_type": "code",
   "execution_count": 216,
   "metadata": {
    "collapsed": false
   },
   "outputs": [],
   "source": [
    "worksheet.insert_chart(1, max_col+2, chart)"
   ]
  },
  {
   "cell_type": "markdown",
   "metadata": {},
   "source": [
    "# 保存结果"
   ]
  },
  {
   "cell_type": "code",
   "execution_count": 217,
   "metadata": {
    "collapsed": false
   },
   "outputs": [],
   "source": [
    "writer.save()"
   ]
  },
  {
   "cell_type": "code",
   "execution_count": null,
   "metadata": {
    "collapsed": true
   },
   "outputs": [],
   "source": [
    "     "
   ]
  },
  {
   "cell_type": "code",
   "execution_count": null,
   "metadata": {
    "collapsed": true
   },
   "outputs": [],
   "source": []
  }
 ],
 "metadata": {
  "anaconda-cloud": {},
  "kernelspec": {
   "display_name": "Python [default]",
   "language": "python",
   "name": "python2"
  },
  "language_info": {
   "codemirror_mode": {
    "name": "ipython",
    "version": 2
   },
   "file_extension": ".py",
   "mimetype": "text/x-python",
   "name": "python",
   "nbconvert_exporter": "python",
   "pygments_lexer": "ipython2",
   "version": "2.7.12"
  }
 },
 "nbformat": 4,
 "nbformat_minor": 1
}
