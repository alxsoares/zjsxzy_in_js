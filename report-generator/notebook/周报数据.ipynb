{
 "cells": [
  {
   "cell_type": "code",
   "execution_count": 838,
   "metadata": {
    "collapsed": true
   },
   "outputs": [],
   "source": [
    "import pandas as pd\n",
    "import numpy as np\n",
    "from WindPy import w"
   ]
  },
  {
   "cell_type": "code",
   "execution_count": 839,
   "metadata": {
    "collapsed": false
   },
   "outputs": [
    {
     "name": "stdout",
     "output_type": "stream",
     "text": [
      "Welcome to use Wind Quant API for Python (WindPy)!\n",
      "You can use w.menu to help yourself to create commands(WSD,WSS,WST,WSI,WSQ,...)!\n",
      "\n",
      "COPYRIGHT (C) 2016 WIND HONGHUI INFORMATION & TECHKNOLEWDGE CO., LTD. ALL RIGHTS RESERVED.\n",
      "IN NO CIRCUMSTANCE SHALL WIND BE RESPONSIBLE FOR ANY DAMAGES OR LOSSES CAUSED BY USING WIND QUANT API FOR Python.\n"
     ]
    },
    {
     "data": {
      "text/plain": [
       ".ErrorCode=0\n",
       ".Data=[OK!]"
      ]
     },
     "execution_count": 839,
     "metadata": {},
     "output_type": "execute_result"
    }
   ],
   "source": [
    "w.start()"
   ]
  },
  {
   "cell_type": "code",
   "execution_count": 766,
   "metadata": {
    "collapsed": false
   },
   "outputs": [],
   "source": [
    "DATA_DIR = u'C:/Users/jgtzsx01/Documents/sheet/客户报告/周报数据/20170410/'\n",
    "VIX_DIR = 'C:/Users/jgtzsx01/Documents/workspace/zjsxzy_in_js/website/vix/data'\n",
    "start_date = '2017-03-31'\n",
    "end_date = '2017-04-07'\n",
    "# fname = u'%s/%s'%(DATA_DIR, u'浦赢对冲1号3.31-4.7.xlsx')\n",
    "fname = u'%s/%s'%(DATA_DIR, u'中银精选FOF3.31-4.7.xlsx')"
   ]
  },
  {
   "cell_type": "code",
   "execution_count": 767,
   "metadata": {
    "collapsed": false
   },
   "outputs": [],
   "source": [
    "all_df = pd.read_excel(fname, sheetname=None)"
   ]
  },
  {
   "cell_type": "code",
   "execution_count": 768,
   "metadata": {
    "collapsed": false
   },
   "outputs": [],
   "source": [
    "index_df = all_df[u'指数']"
   ]
  },
  {
   "cell_type": "code",
   "execution_count": 769,
   "metadata": {
    "collapsed": true
   },
   "outputs": [],
   "source": [
    "def change(x):\n",
    "    if x > 0:\n",
    "        return u'上涨%.2f%%'%(x)\n",
    "    else:\n",
    "        return u'下跌%.2f%%'%(-x)"
   ]
  },
  {
   "cell_type": "code",
   "execution_count": 770,
   "metadata": {
    "collapsed": true
   },
   "outputs": [],
   "source": [
    "def up_down(x):\n",
    "    if x > 0:\n",
    "        return u'增加%.2f%%'%(x)\n",
    "    else:\n",
    "        return u'减少%.2f%%'%(-x)"
   ]
  },
  {
   "cell_type": "markdown",
   "metadata": {},
   "source": [
    "# 指数周数据"
   ]
  },
  {
   "cell_type": "code",
   "execution_count": 771,
   "metadata": {
    "collapsed": false
   },
   "outputs": [],
   "source": [
    "index_df = index_df.set_index(u'证券代码')"
   ]
  },
  {
   "cell_type": "code",
   "execution_count": 772,
   "metadata": {
    "collapsed": false
   },
   "outputs": [],
   "source": [
    "index_df[u'涨跌'] = index_df[u'涨跌幅'].map(lambda x: change(x))"
   ]
  },
  {
   "cell_type": "code",
   "execution_count": 773,
   "metadata": {
    "collapsed": false
   },
   "outputs": [],
   "source": [
    "index_df[u'证券简称'] = index_df[u'证券简称'].map(lambda x: x.replace(u'财富(总值)', '').replace(u'总', ''))"
   ]
  },
  {
   "cell_type": "code",
   "execution_count": 774,
   "metadata": {
    "collapsed": false
   },
   "outputs": [],
   "source": [
    "index_df['content'] = ''\n",
    "for index in index_df.index:\n",
    "    index_df.loc[index, 'content'] = u'%s%s，收于%.2f点'%(\n",
    "        index_df.loc[index, u'证券简称'], index_df.loc[index, u'涨跌'], index_df.loc[index, u'收盘'])"
   ]
  },
  {
   "cell_type": "code",
   "execution_count": 775,
   "metadata": {
    "collapsed": false
   },
   "outputs": [
    {
     "data": {
      "text/html": [
       "<div>\n",
       "<table border=\"1\" class=\"dataframe\">\n",
       "  <thead>\n",
       "    <tr style=\"text-align: right;\">\n",
       "      <th></th>\n",
       "      <th>证券简称</th>\n",
       "      <th>涨跌幅</th>\n",
       "      <th>收盘</th>\n",
       "      <th>日期1</th>\n",
       "      <th>日期2</th>\n",
       "      <th>涨跌</th>\n",
       "      <th>content</th>\n",
       "    </tr>\n",
       "    <tr>\n",
       "      <th>证券代码</th>\n",
       "      <th></th>\n",
       "      <th></th>\n",
       "      <th></th>\n",
       "      <th></th>\n",
       "      <th></th>\n",
       "      <th></th>\n",
       "      <th></th>\n",
       "    </tr>\n",
       "  </thead>\n",
       "  <tbody>\n",
       "    <tr>\n",
       "      <th>SP500.SPI</th>\n",
       "      <td>S&amp;P 500</td>\n",
       "      <td>0.714249</td>\n",
       "      <td>2362.7182</td>\n",
       "      <td>20170324.0</td>\n",
       "      <td>20170331.0</td>\n",
       "      <td>上涨0.71%</td>\n",
       "      <td>S&amp;P 500上涨0.71%，收于2362.72点</td>\n",
       "    </tr>\n",
       "    <tr>\n",
       "      <th>FTSE.GI</th>\n",
       "      <td>富时100</td>\n",
       "      <td>-0.242347</td>\n",
       "      <td>7322.9200</td>\n",
       "      <td>NaN</td>\n",
       "      <td>NaN</td>\n",
       "      <td>下跌0.24%</td>\n",
       "      <td>富时100下跌0.24%，收于7322.92点</td>\n",
       "    </tr>\n",
       "    <tr>\n",
       "      <th>GDAXI.GI</th>\n",
       "      <td>德国DAX</td>\n",
       "      <td>2.269080</td>\n",
       "      <td>12312.8700</td>\n",
       "      <td>NaN</td>\n",
       "      <td>NaN</td>\n",
       "      <td>上涨2.27%</td>\n",
       "      <td>德国DAX上涨2.27%，收于12312.87点</td>\n",
       "    </tr>\n",
       "    <tr>\n",
       "      <th>N225.GI</th>\n",
       "      <td>日经225</td>\n",
       "      <td>-0.922437</td>\n",
       "      <td>18909.2600</td>\n",
       "      <td>NaN</td>\n",
       "      <td>NaN</td>\n",
       "      <td>下跌0.92%</td>\n",
       "      <td>日经225下跌0.92%，收于18909.26点</td>\n",
       "    </tr>\n",
       "    <tr>\n",
       "      <th>HSI.HI</th>\n",
       "      <td>恒生指数</td>\n",
       "      <td>-0.888329</td>\n",
       "      <td>24111.5900</td>\n",
       "      <td>NaN</td>\n",
       "      <td>NaN</td>\n",
       "      <td>下跌0.89%</td>\n",
       "      <td>恒生指数下跌0.89%，收于24111.59点</td>\n",
       "    </tr>\n",
       "    <tr>\n",
       "      <th>000001.SH</th>\n",
       "      <td>上证综指</td>\n",
       "      <td>-0.801444</td>\n",
       "      <td>3222.5142</td>\n",
       "      <td>NaN</td>\n",
       "      <td>NaN</td>\n",
       "      <td>下跌0.80%</td>\n",
       "      <td>上证综指下跌0.80%，收于3222.51点</td>\n",
       "    </tr>\n",
       "    <tr>\n",
       "      <th>399001.SZ</th>\n",
       "      <td>深证成指</td>\n",
       "      <td>-1.458185</td>\n",
       "      <td>10428.7228</td>\n",
       "      <td>NaN</td>\n",
       "      <td>NaN</td>\n",
       "      <td>下跌1.46%</td>\n",
       "      <td>深证成指下跌1.46%，收于10428.72点</td>\n",
       "    </tr>\n",
       "    <tr>\n",
       "      <th>399005.SZ</th>\n",
       "      <td>中小板指</td>\n",
       "      <td>-0.944015</td>\n",
       "      <td>6745.6794</td>\n",
       "      <td>NaN</td>\n",
       "      <td>NaN</td>\n",
       "      <td>下跌0.94%</td>\n",
       "      <td>中小板指下跌0.94%，收于6745.68点</td>\n",
       "    </tr>\n",
       "    <tr>\n",
       "      <th>399006.SZ</th>\n",
       "      <td>创业板指</td>\n",
       "      <td>-2.105920</td>\n",
       "      <td>1907.3381</td>\n",
       "      <td>NaN</td>\n",
       "      <td>NaN</td>\n",
       "      <td>下跌2.11%</td>\n",
       "      <td>创业板指下跌2.11%，收于1907.34点</td>\n",
       "    </tr>\n",
       "    <tr>\n",
       "      <th>045.CS</th>\n",
       "      <td>中债固定利率债券指数</td>\n",
       "      <td>0.324228</td>\n",
       "      <td>170.8027</td>\n",
       "      <td>NaN</td>\n",
       "      <td>NaN</td>\n",
       "      <td>上涨0.32%</td>\n",
       "      <td>中债固定利率债券指数上涨0.32%，收于170.80点</td>\n",
       "    </tr>\n",
       "    <tr>\n",
       "      <th>066.CS</th>\n",
       "      <td>中债信用债指数</td>\n",
       "      <td>0.261931</td>\n",
       "      <td>159.0452</td>\n",
       "      <td>NaN</td>\n",
       "      <td>NaN</td>\n",
       "      <td>上涨0.26%</td>\n",
       "      <td>中债信用债指数上涨0.26%，收于159.05点</td>\n",
       "    </tr>\n",
       "    <tr>\n",
       "      <th>053.CS</th>\n",
       "      <td>中债短融指数</td>\n",
       "      <td>0.124682</td>\n",
       "      <td>156.9947</td>\n",
       "      <td>NaN</td>\n",
       "      <td>NaN</td>\n",
       "      <td>上涨0.12%</td>\n",
       "      <td>中债短融指数上涨0.12%，收于156.99点</td>\n",
       "    </tr>\n",
       "    <tr>\n",
       "      <th>057.CS</th>\n",
       "      <td>中债综合指数</td>\n",
       "      <td>0.264849</td>\n",
       "      <td>176.7183</td>\n",
       "      <td>NaN</td>\n",
       "      <td>NaN</td>\n",
       "      <td>上涨0.26%</td>\n",
       "      <td>中债综合指数上涨0.26%，收于176.72点</td>\n",
       "    </tr>\n",
       "    <tr>\n",
       "      <th>CCFI.WI</th>\n",
       "      <td>Wind商品指数</td>\n",
       "      <td>-0.630266</td>\n",
       "      <td>1023.5331</td>\n",
       "      <td>NaN</td>\n",
       "      <td>NaN</td>\n",
       "      <td>下跌0.63%</td>\n",
       "      <td>Wind商品指数下跌0.63%，收于1023.53点</td>\n",
       "    </tr>\n",
       "    <tr>\n",
       "      <th>NMFI.WI</th>\n",
       "      <td>Wind贵金属</td>\n",
       "      <td>0.483191</td>\n",
       "      <td>944.5231</td>\n",
       "      <td>NaN</td>\n",
       "      <td>NaN</td>\n",
       "      <td>上涨0.48%</td>\n",
       "      <td>Wind贵金属上涨0.48%，收于944.52点</td>\n",
       "    </tr>\n",
       "    <tr>\n",
       "      <th>NFFI.WI</th>\n",
       "      <td>Wind有色</td>\n",
       "      <td>0.518977</td>\n",
       "      <td>1296.2878</td>\n",
       "      <td>NaN</td>\n",
       "      <td>NaN</td>\n",
       "      <td>上涨0.52%</td>\n",
       "      <td>Wind有色上涨0.52%，收于1296.29点</td>\n",
       "    </tr>\n",
       "    <tr>\n",
       "      <th>JJRI.WI</th>\n",
       "      <td>Wind煤焦钢矿</td>\n",
       "      <td>-5.133845</td>\n",
       "      <td>552.6296</td>\n",
       "      <td>NaN</td>\n",
       "      <td>NaN</td>\n",
       "      <td>下跌5.13%</td>\n",
       "      <td>Wind煤焦钢矿下跌5.13%，收于552.63点</td>\n",
       "    </tr>\n",
       "    <tr>\n",
       "      <th>NMBM.WI</th>\n",
       "      <td>Wind非金属建材</td>\n",
       "      <td>-1.809339</td>\n",
       "      <td>538.4278</td>\n",
       "      <td>NaN</td>\n",
       "      <td>NaN</td>\n",
       "      <td>下跌1.81%</td>\n",
       "      <td>Wind非金属建材下跌1.81%，收于538.43点</td>\n",
       "    </tr>\n",
       "    <tr>\n",
       "      <th>ENFI.WI</th>\n",
       "      <td>Wind能源</td>\n",
       "      <td>1.262080</td>\n",
       "      <td>1114.6386</td>\n",
       "      <td>NaN</td>\n",
       "      <td>NaN</td>\n",
       "      <td>上涨1.26%</td>\n",
       "      <td>Wind能源上涨1.26%，收于1114.64点</td>\n",
       "    </tr>\n",
       "    <tr>\n",
       "      <th>CIFI.WI</th>\n",
       "      <td>Wind化工</td>\n",
       "      <td>-1.804127</td>\n",
       "      <td>594.1357</td>\n",
       "      <td>NaN</td>\n",
       "      <td>NaN</td>\n",
       "      <td>下跌1.80%</td>\n",
       "      <td>Wind化工下跌1.80%，收于594.14点</td>\n",
       "    </tr>\n",
       "    <tr>\n",
       "      <th>CRFI.WI</th>\n",
       "      <td>Wind谷物</td>\n",
       "      <td>-1.116088</td>\n",
       "      <td>350.2217</td>\n",
       "      <td>NaN</td>\n",
       "      <td>NaN</td>\n",
       "      <td>下跌1.12%</td>\n",
       "      <td>Wind谷物下跌1.12%，收于350.22点</td>\n",
       "    </tr>\n",
       "    <tr>\n",
       "      <th>OOFI.WI</th>\n",
       "      <td>Wind油脂油料</td>\n",
       "      <td>-4.111143</td>\n",
       "      <td>1111.5559</td>\n",
       "      <td>NaN</td>\n",
       "      <td>NaN</td>\n",
       "      <td>下跌4.11%</td>\n",
       "      <td>Wind油脂油料下跌4.11%，收于1111.56点</td>\n",
       "    </tr>\n",
       "    <tr>\n",
       "      <th>SOFI.WI</th>\n",
       "      <td>Wind软商品</td>\n",
       "      <td>-2.786348</td>\n",
       "      <td>682.7447</td>\n",
       "      <td>NaN</td>\n",
       "      <td>NaN</td>\n",
       "      <td>下跌2.79%</td>\n",
       "      <td>Wind软商品下跌2.79%，收于682.74点</td>\n",
       "    </tr>\n",
       "    <tr>\n",
       "      <th>APFI.WI</th>\n",
       "      <td>Wind农副产品</td>\n",
       "      <td>-3.144595</td>\n",
       "      <td>728.0214</td>\n",
       "      <td>NaN</td>\n",
       "      <td>NaN</td>\n",
       "      <td>下跌3.14%</td>\n",
       "      <td>Wind农副产品下跌3.14%，收于728.02点</td>\n",
       "    </tr>\n",
       "    <tr>\n",
       "      <th>CRBSA.RB</th>\n",
       "      <td>CRB综合现货</td>\n",
       "      <td>-0.691260</td>\n",
       "      <td>430.9900</td>\n",
       "      <td>NaN</td>\n",
       "      <td>NaN</td>\n",
       "      <td>下跌0.69%</td>\n",
       "      <td>CRB综合现货下跌0.69%，收于430.99点</td>\n",
       "    </tr>\n",
       "    <tr>\n",
       "      <th>CRBRI.RB</th>\n",
       "      <td>CRB工业现货</td>\n",
       "      <td>0.356635</td>\n",
       "      <td>514.9600</td>\n",
       "      <td>NaN</td>\n",
       "      <td>NaN</td>\n",
       "      <td>上涨0.36%</td>\n",
       "      <td>CRB工业现货上涨0.36%，收于514.96点</td>\n",
       "    </tr>\n",
       "    <tr>\n",
       "      <th>CRBMS.RB</th>\n",
       "      <td>CRB金属现货</td>\n",
       "      <td>0.111952</td>\n",
       "      <td>867.4100</td>\n",
       "      <td>NaN</td>\n",
       "      <td>NaN</td>\n",
       "      <td>上涨0.11%</td>\n",
       "      <td>CRB金属现货上涨0.11%，收于867.41点</td>\n",
       "    </tr>\n",
       "    <tr>\n",
       "      <th>CRBFO.RB</th>\n",
       "      <td>CRB食用油现货</td>\n",
       "      <td>-1.294856</td>\n",
       "      <td>366.6600</td>\n",
       "      <td>NaN</td>\n",
       "      <td>NaN</td>\n",
       "      <td>下跌1.29%</td>\n",
       "      <td>CRB食用油现货下跌1.29%，收于366.66点</td>\n",
       "    </tr>\n",
       "  </tbody>\n",
       "</table>\n",
       "</div>"
      ],
      "text/plain": [
       "                 证券简称       涨跌幅          收盘         日期1         日期2       涨跌  \\\n",
       "证券代码                                                                           \n",
       "SP500.SPI     S&P 500  0.714249   2362.7182  20170324.0  20170331.0  上涨0.71%   \n",
       "FTSE.GI         富时100 -0.242347   7322.9200         NaN         NaN  下跌0.24%   \n",
       "GDAXI.GI        德国DAX  2.269080  12312.8700         NaN         NaN  上涨2.27%   \n",
       "N225.GI         日经225 -0.922437  18909.2600         NaN         NaN  下跌0.92%   \n",
       "HSI.HI           恒生指数 -0.888329  24111.5900         NaN         NaN  下跌0.89%   \n",
       "000001.SH        上证综指 -0.801444   3222.5142         NaN         NaN  下跌0.80%   \n",
       "399001.SZ        深证成指 -1.458185  10428.7228         NaN         NaN  下跌1.46%   \n",
       "399005.SZ        中小板指 -0.944015   6745.6794         NaN         NaN  下跌0.94%   \n",
       "399006.SZ        创业板指 -2.105920   1907.3381         NaN         NaN  下跌2.11%   \n",
       "045.CS     中债固定利率债券指数  0.324228    170.8027         NaN         NaN  上涨0.32%   \n",
       "066.CS        中债信用债指数  0.261931    159.0452         NaN         NaN  上涨0.26%   \n",
       "053.CS         中债短融指数  0.124682    156.9947         NaN         NaN  上涨0.12%   \n",
       "057.CS         中债综合指数  0.264849    176.7183         NaN         NaN  上涨0.26%   \n",
       "CCFI.WI      Wind商品指数 -0.630266   1023.5331         NaN         NaN  下跌0.63%   \n",
       "NMFI.WI       Wind贵金属  0.483191    944.5231         NaN         NaN  上涨0.48%   \n",
       "NFFI.WI        Wind有色  0.518977   1296.2878         NaN         NaN  上涨0.52%   \n",
       "JJRI.WI      Wind煤焦钢矿 -5.133845    552.6296         NaN         NaN  下跌5.13%   \n",
       "NMBM.WI     Wind非金属建材 -1.809339    538.4278         NaN         NaN  下跌1.81%   \n",
       "ENFI.WI        Wind能源  1.262080   1114.6386         NaN         NaN  上涨1.26%   \n",
       "CIFI.WI        Wind化工 -1.804127    594.1357         NaN         NaN  下跌1.80%   \n",
       "CRFI.WI        Wind谷物 -1.116088    350.2217         NaN         NaN  下跌1.12%   \n",
       "OOFI.WI      Wind油脂油料 -4.111143   1111.5559         NaN         NaN  下跌4.11%   \n",
       "SOFI.WI       Wind软商品 -2.786348    682.7447         NaN         NaN  下跌2.79%   \n",
       "APFI.WI      Wind农副产品 -3.144595    728.0214         NaN         NaN  下跌3.14%   \n",
       "CRBSA.RB      CRB综合现货 -0.691260    430.9900         NaN         NaN  下跌0.69%   \n",
       "CRBRI.RB      CRB工业现货  0.356635    514.9600         NaN         NaN  上涨0.36%   \n",
       "CRBMS.RB      CRB金属现货  0.111952    867.4100         NaN         NaN  上涨0.11%   \n",
       "CRBFO.RB     CRB食用油现货 -1.294856    366.6600         NaN         NaN  下跌1.29%   \n",
       "\n",
       "                               content  \n",
       "证券代码                                    \n",
       "SP500.SPI    S&P 500上涨0.71%，收于2362.72点  \n",
       "FTSE.GI        富时100下跌0.24%，收于7322.92点  \n",
       "GDAXI.GI      德国DAX上涨2.27%，收于12312.87点  \n",
       "N225.GI       日经225下跌0.92%，收于18909.26点  \n",
       "HSI.HI         恒生指数下跌0.89%，收于24111.59点  \n",
       "000001.SH       上证综指下跌0.80%，收于3222.51点  \n",
       "399001.SZ      深证成指下跌1.46%，收于10428.72点  \n",
       "399005.SZ       中小板指下跌0.94%，收于6745.68点  \n",
       "399006.SZ       创业板指下跌2.11%，收于1907.34点  \n",
       "045.CS     中债固定利率债券指数上涨0.32%，收于170.80点  \n",
       "066.CS        中债信用债指数上涨0.26%，收于159.05点  \n",
       "053.CS         中债短融指数上涨0.12%，收于156.99点  \n",
       "057.CS         中债综合指数上涨0.26%，收于176.72点  \n",
       "CCFI.WI     Wind商品指数下跌0.63%，收于1023.53点  \n",
       "NMFI.WI       Wind贵金属上涨0.48%，收于944.52点  \n",
       "NFFI.WI       Wind有色上涨0.52%，收于1296.29点  \n",
       "JJRI.WI      Wind煤焦钢矿下跌5.13%，收于552.63点  \n",
       "NMBM.WI     Wind非金属建材下跌1.81%，收于538.43点  \n",
       "ENFI.WI       Wind能源上涨1.26%，收于1114.64点  \n",
       "CIFI.WI        Wind化工下跌1.80%，收于594.14点  \n",
       "CRFI.WI        Wind谷物下跌1.12%，收于350.22点  \n",
       "OOFI.WI     Wind油脂油料下跌4.11%，收于1111.56点  \n",
       "SOFI.WI       Wind软商品下跌2.79%，收于682.74点  \n",
       "APFI.WI      Wind农副产品下跌3.14%，收于728.02点  \n",
       "CRBSA.RB      CRB综合现货下跌0.69%，收于430.99点  \n",
       "CRBRI.RB      CRB工业现货上涨0.36%，收于514.96点  \n",
       "CRBMS.RB      CRB金属现货上涨0.11%，收于867.41点  \n",
       "CRBFO.RB     CRB食用油现货下跌1.29%，收于366.66点  "
      ]
     },
     "execution_count": 775,
     "metadata": {},
     "output_type": "execute_result"
    }
   ],
   "source": [
    "index_df"
   ]
  },
  {
   "cell_type": "markdown",
   "metadata": {},
   "source": [
    "# 权益市场"
   ]
  },
  {
   "cell_type": "code",
   "execution_count": 776,
   "metadata": {
    "collapsed": true
   },
   "outputs": [],
   "source": [
    "content = u'本周海外股市：标普%s；伦敦%s；%s；%s；%s'%(\n",
    "            index_df.loc['SP500.SPI', 'content'],\n",
    "            index_df.loc['FTSE.GI', 'content'],\n",
    "            index_df.loc['GDAXI.GI', 'content'],\n",
    "            index_df.loc['N225.GI', 'content'],\n",
    "            index_df.loc['HSI.HI', 'content'])"
   ]
  },
  {
   "cell_type": "code",
   "execution_count": 777,
   "metadata": {
    "collapsed": false
   },
   "outputs": [
    {
     "name": "stdout",
     "output_type": "stream",
     "text": [
      "本周海外股市：标普S&P 500上涨0.71%，收于2362.72点；伦敦富时100下跌0.24%，收于7322.92点；德国DAX上涨2.27%，收于12312.87点；日经225下跌0.92%，收于18909.26点；恒生指数下跌0.89%，收于24111.59点\n"
     ]
    }
   ],
   "source": [
    "print content"
   ]
  },
  {
   "cell_type": "code",
   "execution_count": 778,
   "metadata": {
    "collapsed": true
   },
   "outputs": [],
   "source": [
    "content = u'国内股市：%s；%s；%s；%s'%(\n",
    "            index_df.loc['000001.SH', 'content'],\n",
    "            index_df.loc['399001.SZ', 'content'],\n",
    "            index_df.loc['399005.SZ', 'content'],\n",
    "            index_df.loc['399006.SZ', 'content'])"
   ]
  },
  {
   "cell_type": "code",
   "execution_count": 779,
   "metadata": {
    "collapsed": false
   },
   "outputs": [
    {
     "name": "stdout",
     "output_type": "stream",
     "text": [
      "国内股市：上证综指下跌0.80%，收于3222.51点；深证成指下跌1.46%，收于10428.72点；中小板指下跌0.94%，收于6745.68点；创业板指下跌2.11%，收于1907.34点\n"
     ]
    }
   ],
   "source": [
    "print content"
   ]
  },
  {
   "cell_type": "markdown",
   "metadata": {},
   "source": [
    "# 固定收益市场"
   ]
  },
  {
   "cell_type": "code",
   "execution_count": 780,
   "metadata": {
    "collapsed": false
   },
   "outputs": [],
   "source": [
    "content = u'%s；%s；%s；%s'%(\n",
    "            index_df.loc['045.CS', 'content'],\n",
    "            index_df.loc['066.CS', 'content'],\n",
    "            index_df.loc['053.CS', 'content'],\n",
    "            index_df.loc['057.CS', 'content'])"
   ]
  },
  {
   "cell_type": "code",
   "execution_count": 781,
   "metadata": {
    "collapsed": false
   },
   "outputs": [
    {
     "name": "stdout",
     "output_type": "stream",
     "text": [
      "中债固定利率债券指数上涨0.32%，收于170.80点；中债信用债指数上涨0.26%，收于159.05点；中债短融指数上涨0.12%，收于156.99点；中债综合指数上涨0.26%，收于176.72点\n"
     ]
    }
   ],
   "source": [
    "print content"
   ]
  },
  {
   "cell_type": "markdown",
   "metadata": {},
   "source": [
    "# 大宗商品"
   ]
  },
  {
   "cell_type": "code",
   "execution_count": 782,
   "metadata": {
    "collapsed": true
   },
   "outputs": [],
   "source": [
    "content = u'%s；%s；%s；%s'%(\n",
    "            index_df.loc['CRBSA.RB', 'content'],\n",
    "            index_df.loc['CRBRI.RB', 'content'],\n",
    "            index_df.loc['CRBMS.RB', 'content'],\n",
    "            index_df.loc['CRBFO.RB', 'content'])"
   ]
  },
  {
   "cell_type": "code",
   "execution_count": 783,
   "metadata": {
    "collapsed": false
   },
   "outputs": [
    {
     "name": "stdout",
     "output_type": "stream",
     "text": [
      "CRB综合现货下跌0.69%，收于430.99点；CRB工业现货上涨0.36%，收于514.96点；CRB金属现货上涨0.11%，收于867.41点；CRB食用油现货下跌1.29%，收于366.66点\n"
     ]
    }
   ],
   "source": [
    "print content"
   ]
  },
  {
   "cell_type": "markdown",
   "metadata": {},
   "source": [
    "# 隐含波动率"
   ]
  },
  {
   "cell_type": "code",
   "execution_count": 784,
   "metadata": {
    "collapsed": false
   },
   "outputs": [],
   "source": [
    "fname = '%s/VXFXI.csv'%(VIX_DIR)\n",
    "df = pd.read_csv(fname)\n",
    "df.index = pd.to_datetime(df['Date'], format='%m/%d/%Y')\n",
    "df = df[(df.index >= start_date) & (df.index <= end_date)]\n",
    "content = u'中国ETF隐含波动率指数%s'%(change((df.ix[-1, 'Close'] - df.ix[0, 'Close']) / df.ix[0, 'Close']))"
   ]
  },
  {
   "cell_type": "code",
   "execution_count": 785,
   "metadata": {
    "collapsed": false
   },
   "outputs": [
    {
     "name": "stdout",
     "output_type": "stream",
     "text": [
      "中国ETF隐含波动率指数上涨0.05%\n"
     ]
    }
   ],
   "source": [
    "print content"
   ]
  },
  {
   "cell_type": "code",
   "execution_count": 786,
   "metadata": {
    "collapsed": true
   },
   "outputs": [],
   "source": [
    "fname = '%s/VXD.csv'%(VIX_DIR)\n",
    "df = pd.read_csv(fname)\n",
    "df.index = pd.to_datetime(df['Date'], format='%m/%d/%Y')\n",
    "df = df[(df.index >= start_date) & (df.index <= end_date)]\n",
    "content += u'；道琼斯隐含波动率指数%s'%(change((df.ix[-1, 'Close'] - df.ix[0, 'Close']) / df.ix[0, 'Close']))"
   ]
  },
  {
   "cell_type": "code",
   "execution_count": 787,
   "metadata": {
    "collapsed": false
   },
   "outputs": [
    {
     "name": "stdout",
     "output_type": "stream",
     "text": [
      "中国ETF隐含波动率指数上涨0.05%；道琼斯隐含波动率指数上涨0.06%\n"
     ]
    }
   ],
   "source": [
    "print content"
   ]
  },
  {
   "cell_type": "code",
   "execution_count": 788,
   "metadata": {
    "collapsed": true
   },
   "outputs": [],
   "source": [
    "fname = '%s/TYVIX.csv'%(VIX_DIR)\n",
    "df = pd.read_csv(fname)\n",
    "df.index = pd.to_datetime(df['Date'], format='%m/%d/%Y')\n",
    "df = df[(df.index >= start_date) & (df.index <= end_date)]\n",
    "content += u'；美国10年期国债隐含波动率指数%s'%(change((df.ix[-1, 'Close'] - df.ix[0, 'Close']) / df.ix[0, 'Close']))"
   ]
  },
  {
   "cell_type": "code",
   "execution_count": 789,
   "metadata": {
    "collapsed": false
   },
   "outputs": [
    {
     "name": "stdout",
     "output_type": "stream",
     "text": [
      "中国ETF隐含波动率指数上涨0.05%；道琼斯隐含波动率指数上涨0.06%；美国10年期国债隐含波动率指数上涨0.09%\n"
     ]
    }
   ],
   "source": [
    "print content"
   ]
  },
  {
   "cell_type": "code",
   "execution_count": 790,
   "metadata": {
    "collapsed": true
   },
   "outputs": [],
   "source": [
    "fname = '%s/GVZ.csv'%(VIX_DIR)\n",
    "df = pd.read_csv(fname)\n",
    "df.index = pd.to_datetime(df['Date'], format='%m/%d/%Y')\n",
    "df = df[(df.index >= start_date) & (df.index <= end_date)]\n",
    "content += u'；黄金隐含波动率指数%s'%(change((df.ix[-1, 'GVZ'] - df.ix[0, 'GVZ']) / df.ix[0, 'GVZ']))"
   ]
  },
  {
   "cell_type": "code",
   "execution_count": 791,
   "metadata": {
    "collapsed": false
   },
   "outputs": [
    {
     "name": "stdout",
     "output_type": "stream",
     "text": [
      "中国ETF隐含波动率指数上涨0.05%；道琼斯隐含波动率指数上涨0.06%；美国10年期国债隐含波动率指数上涨0.09%；黄金隐含波动率指数上涨0.08%\n"
     ]
    }
   ],
   "source": [
    "print content"
   ]
  },
  {
   "cell_type": "code",
   "execution_count": 792,
   "metadata": {
    "collapsed": true
   },
   "outputs": [],
   "source": [
    "fname = '%s/OVX.csv'%(VIX_DIR)\n",
    "df = pd.read_csv(fname)\n",
    "df.index = pd.to_datetime(df['Trade_date'], format='%m/%d/%Y')\n",
    "df = df[(df.index >= start_date) & (df.index <= end_date)]\n",
    "content += u'；石油隐含波动率指数%s'%(change((df.ix[-1, 'USO VIX (OVX)'] - df.ix[0, 'USO VIX (OVX)']) / df.ix[0, 'USO VIX (OVX)']))"
   ]
  },
  {
   "cell_type": "code",
   "execution_count": 793,
   "metadata": {
    "collapsed": false
   },
   "outputs": [
    {
     "name": "stdout",
     "output_type": "stream",
     "text": [
      "中国ETF隐含波动率指数上涨0.05%；道琼斯隐含波动率指数上涨0.06%；美国10年期国债隐含波动率指数上涨0.09%；黄金隐含波动率指数上涨0.08%；石油隐含波动率指数下跌0.00%\n"
     ]
    }
   ],
   "source": [
    "print content"
   ]
  },
  {
   "cell_type": "markdown",
   "metadata": {},
   "source": [
    "# 本周投资情况分析"
   ]
  },
  {
   "cell_type": "code",
   "execution_count": 794,
   "metadata": {
    "collapsed": true
   },
   "outputs": [],
   "source": [
    "inv1_df = all_df[u'日报1']\n",
    "inv2_df = all_df[u'日报2']"
   ]
  },
  {
   "cell_type": "code",
   "execution_count": 795,
   "metadata": {
    "collapsed": true
   },
   "outputs": [],
   "source": [
    "fund1_df = all_df[u'基金持仓1']\n",
    "fund2_df = all_df[u'基金持仓2']"
   ]
  },
  {
   "cell_type": "code",
   "execution_count": 796,
   "metadata": {
    "collapsed": false
   },
   "outputs": [],
   "source": [
    "inv1_df.index = inv1_df.index.map(lambda x: x.strip())\n",
    "inv2_df.index = inv2_df.index.map(lambda x: x.strip())"
   ]
  },
  {
   "cell_type": "code",
   "execution_count": 847,
   "metadata": {
    "collapsed": false
   },
   "outputs": [],
   "source": [
    "data = w.wss(fund2_df[u'代码'].tolist(), 'fund_firstinvesttype')"
   ]
  },
  {
   "cell_type": "code",
   "execution_count": 848,
   "metadata": {
    "collapsed": false
   },
   "outputs": [],
   "source": [
    "fund2_df['type'] = data.Data[0]"
   ]
  },
  {
   "cell_type": "code",
   "execution_count": 851,
   "metadata": {
    "collapsed": false
   },
   "outputs": [
    {
     "data": {
      "text/html": [
       "<div>\n",
       "<table border=\"1\" class=\"dataframe\">\n",
       "  <thead>\n",
       "    <tr style=\"text-align: right;\">\n",
       "      <th></th>\n",
       "      <th>代码</th>\n",
       "      <th>名称</th>\n",
       "      <th>类型</th>\n",
       "      <th>份额</th>\n",
       "      <th>成本</th>\n",
       "      <th>市值</th>\n",
       "      <th>市值占净值</th>\n",
       "      <th>平均成本</th>\n",
       "      <th>平均市值</th>\n",
       "      <th>总浮动盈亏</th>\n",
       "      <th>总实现盈亏</th>\n",
       "      <th>总盈亏</th>\n",
       "      <th>浮动盈亏</th>\n",
       "      <th>差价收入</th>\n",
       "      <th>红利收入</th>\n",
       "      <th>费用</th>\n",
       "      <th>流出份额</th>\n",
       "      <th>流出资金</th>\n",
       "      <th>建仓日期</th>\n",
       "      <th>type</th>\n",
       "    </tr>\n",
       "  </thead>\n",
       "  <tbody>\n",
       "    <tr>\n",
       "      <th>0</th>\n",
       "      <td>000024.OF</td>\n",
       "      <td>大摩双利A</td>\n",
       "      <td>开放式基金</td>\n",
       "      <td>3788956.13</td>\n",
       "      <td>5009000.00</td>\n",
       "      <td>5009000.00</td>\n",
       "      <td>0.010445</td>\n",
       "      <td>1.3220</td>\n",
       "      <td>1.3220</td>\n",
       "      <td>0.00</td>\n",
       "      <td>-1000.00</td>\n",
       "      <td>-1000.00</td>\n",
       "      <td>0.00</td>\n",
       "      <td>0</td>\n",
       "      <td>0.0</td>\n",
       "      <td>0</td>\n",
       "      <td>0</td>\n",
       "      <td>0.0</td>\n",
       "      <td>2017-02-28</td>\n",
       "      <td>债券型基金</td>\n",
       "    </tr>\n",
       "    <tr>\n",
       "      <th>1</th>\n",
       "      <td>000216.OF</td>\n",
       "      <td>华安黄金易ETF联接A</td>\n",
       "      <td>开放式基金</td>\n",
       "      <td>7584475.27</td>\n",
       "      <td>7809404.39</td>\n",
       "      <td>7917433.73</td>\n",
       "      <td>0.016510</td>\n",
       "      <td>1.0297</td>\n",
       "      <td>1.0439</td>\n",
       "      <td>108029.34</td>\n",
       "      <td>34692.62</td>\n",
       "      <td>142721.96</td>\n",
       "      <td>-11376.72</td>\n",
       "      <td>0</td>\n",
       "      <td>0.0</td>\n",
       "      <td>0</td>\n",
       "      <td>0</td>\n",
       "      <td>0.0</td>\n",
       "      <td>2017-02-24</td>\n",
       "      <td>另类投资基金</td>\n",
       "    </tr>\n",
       "    <tr>\n",
       "      <th>2</th>\n",
       "      <td>000307.OF</td>\n",
       "      <td>易方达黄金ETF联接A</td>\n",
       "      <td>开放式基金</td>\n",
       "      <td>5268028.88</td>\n",
       "      <td>5184865.09</td>\n",
       "      <td>5276457.73</td>\n",
       "      <td>0.011003</td>\n",
       "      <td>0.9842</td>\n",
       "      <td>1.0016</td>\n",
       "      <td>91592.64</td>\n",
       "      <td>85897.09</td>\n",
       "      <td>177489.73</td>\n",
       "      <td>-7375.24</td>\n",
       "      <td>0</td>\n",
       "      <td>0.0</td>\n",
       "      <td>0</td>\n",
       "      <td>0</td>\n",
       "      <td>0.0</td>\n",
       "      <td>2017-02-13</td>\n",
       "      <td>另类投资基金</td>\n",
       "    </tr>\n",
       "    <tr>\n",
       "      <th>3</th>\n",
       "      <td>000577.OF</td>\n",
       "      <td>安信价值</td>\n",
       "      <td>开放式基金</td>\n",
       "      <td>4423074.39</td>\n",
       "      <td>10018000.00</td>\n",
       "      <td>10606532.39</td>\n",
       "      <td>0.022118</td>\n",
       "      <td>2.2649</td>\n",
       "      <td>2.3980</td>\n",
       "      <td>588532.39</td>\n",
       "      <td>-2000.00</td>\n",
       "      <td>586532.39</td>\n",
       "      <td>13269.23</td>\n",
       "      <td>0</td>\n",
       "      <td>0.0</td>\n",
       "      <td>0</td>\n",
       "      <td>0</td>\n",
       "      <td>0.0</td>\n",
       "      <td>2017-02-13</td>\n",
       "      <td>股票型基金</td>\n",
       "    </tr>\n",
       "    <tr>\n",
       "      <th>4</th>\n",
       "      <td>000753.OF</td>\n",
       "      <td>华宝量化A</td>\n",
       "      <td>开放式基金</td>\n",
       "      <td>41329462.70</td>\n",
       "      <td>41999000.00</td>\n",
       "      <td>42288306.23</td>\n",
       "      <td>0.088184</td>\n",
       "      <td>1.0162</td>\n",
       "      <td>1.0232</td>\n",
       "      <td>289306.23</td>\n",
       "      <td>-1000.00</td>\n",
       "      <td>288306.23</td>\n",
       "      <td>66127.14</td>\n",
       "      <td>0</td>\n",
       "      <td>0.0</td>\n",
       "      <td>0</td>\n",
       "      <td>0</td>\n",
       "      <td>0.0</td>\n",
       "      <td>2017-02-28</td>\n",
       "      <td>另类投资基金</td>\n",
       "    </tr>\n",
       "    <tr>\n",
       "      <th>5</th>\n",
       "      <td>000988.OF</td>\n",
       "      <td>嘉实互联网</td>\n",
       "      <td>开放式基金</td>\n",
       "      <td>4310671.25</td>\n",
       "      <td>5009000.00</td>\n",
       "      <td>4991757.31</td>\n",
       "      <td>0.010409</td>\n",
       "      <td>1.1620</td>\n",
       "      <td>1.1580</td>\n",
       "      <td>-17242.69</td>\n",
       "      <td>-1000.00</td>\n",
       "      <td>-18242.69</td>\n",
       "      <td>-81902.75</td>\n",
       "      <td>0</td>\n",
       "      <td>0.0</td>\n",
       "      <td>0</td>\n",
       "      <td>0</td>\n",
       "      <td>0.0</td>\n",
       "      <td>2017-03-20</td>\n",
       "      <td>国际(QDII)基金</td>\n",
       "    </tr>\n",
       "    <tr>\n",
       "      <th>6</th>\n",
       "      <td>001528.OF</td>\n",
       "      <td>诺安先进</td>\n",
       "      <td>开放式基金</td>\n",
       "      <td>4135017.42</td>\n",
       "      <td>4747000.00</td>\n",
       "      <td>4957885.89</td>\n",
       "      <td>0.010339</td>\n",
       "      <td>1.1480</td>\n",
       "      <td>1.1990</td>\n",
       "      <td>210885.89</td>\n",
       "      <td>-190270.00</td>\n",
       "      <td>20615.89</td>\n",
       "      <td>-4135.01</td>\n",
       "      <td>0</td>\n",
       "      <td>0.0</td>\n",
       "      <td>0</td>\n",
       "      <td>0</td>\n",
       "      <td>0.0</td>\n",
       "      <td>2016-12-05</td>\n",
       "      <td>股票型基金</td>\n",
       "    </tr>\n",
       "    <tr>\n",
       "      <th>7</th>\n",
       "      <td>001810.OF</td>\n",
       "      <td>中欧潜力价值</td>\n",
       "      <td>开放式基金</td>\n",
       "      <td>7867033.83</td>\n",
       "      <td>9999000.00</td>\n",
       "      <td>10077670.34</td>\n",
       "      <td>0.021015</td>\n",
       "      <td>1.2710</td>\n",
       "      <td>1.2810</td>\n",
       "      <td>78670.34</td>\n",
       "      <td>-1000.00</td>\n",
       "      <td>77670.34</td>\n",
       "      <td>0.00</td>\n",
       "      <td>0</td>\n",
       "      <td>0.0</td>\n",
       "      <td>0</td>\n",
       "      <td>0</td>\n",
       "      <td>0.0</td>\n",
       "      <td>2017-03-14</td>\n",
       "      <td>混合型基金</td>\n",
       "    </tr>\n",
       "    <tr>\n",
       "      <th>8</th>\n",
       "      <td>001878.OF</td>\n",
       "      <td>嘉实沪港深</td>\n",
       "      <td>开放式基金</td>\n",
       "      <td>3746447.27</td>\n",
       "      <td>5009000.00</td>\n",
       "      <td>5132632.76</td>\n",
       "      <td>0.010703</td>\n",
       "      <td>1.3370</td>\n",
       "      <td>1.3700</td>\n",
       "      <td>123632.76</td>\n",
       "      <td>-1000.00</td>\n",
       "      <td>122632.76</td>\n",
       "      <td>-29971.58</td>\n",
       "      <td>0</td>\n",
       "      <td>0.0</td>\n",
       "      <td>0</td>\n",
       "      <td>0</td>\n",
       "      <td>0.0</td>\n",
       "      <td>2017-03-17</td>\n",
       "      <td>股票型基金</td>\n",
       "    </tr>\n",
       "    <tr>\n",
       "      <th>9</th>\n",
       "      <td>004501.OF</td>\n",
       "      <td>嘉实现金添利</td>\n",
       "      <td>开放式基金</td>\n",
       "      <td>25000000.00</td>\n",
       "      <td>25000000.00</td>\n",
       "      <td>25000000.00</td>\n",
       "      <td>0.052133</td>\n",
       "      <td>1.0000</td>\n",
       "      <td>1.0000</td>\n",
       "      <td>0.00</td>\n",
       "      <td>25731.20</td>\n",
       "      <td>25731.20</td>\n",
       "      <td>0.00</td>\n",
       "      <td>0</td>\n",
       "      <td>16955.7</td>\n",
       "      <td>0</td>\n",
       "      <td>0</td>\n",
       "      <td>-16955.7</td>\n",
       "      <td>2017-03-29</td>\n",
       "      <td>货币市场型基金</td>\n",
       "    </tr>\n",
       "    <tr>\n",
       "      <th>10</th>\n",
       "      <td>110011.OF</td>\n",
       "      <td>易方达中小盘</td>\n",
       "      <td>开放式基金</td>\n",
       "      <td>3123236.88</td>\n",
       "      <td>9980059.83</td>\n",
       "      <td>10364149.26</td>\n",
       "      <td>0.021612</td>\n",
       "      <td>3.1954</td>\n",
       "      <td>3.3184</td>\n",
       "      <td>384089.43</td>\n",
       "      <td>-29940.17</td>\n",
       "      <td>354149.26</td>\n",
       "      <td>11868.30</td>\n",
       "      <td>0</td>\n",
       "      <td>0.0</td>\n",
       "      <td>0</td>\n",
       "      <td>0</td>\n",
       "      <td>0.0</td>\n",
       "      <td>2017-03-10</td>\n",
       "      <td>混合型基金</td>\n",
       "    </tr>\n",
       "    <tr>\n",
       "      <th>11</th>\n",
       "      <td>110017.OF</td>\n",
       "      <td>易方达回报A</td>\n",
       "      <td>开放式基金</td>\n",
       "      <td>4132943.85</td>\n",
       "      <td>5004995.00</td>\n",
       "      <td>5033925.61</td>\n",
       "      <td>0.010497</td>\n",
       "      <td>1.2110</td>\n",
       "      <td>1.2180</td>\n",
       "      <td>28930.61</td>\n",
       "      <td>-5005.00</td>\n",
       "      <td>23925.61</td>\n",
       "      <td>0.00</td>\n",
       "      <td>0</td>\n",
       "      <td>0.0</td>\n",
       "      <td>0</td>\n",
       "      <td>0</td>\n",
       "      <td>0.0</td>\n",
       "      <td>2017-02-28</td>\n",
       "      <td>债券型基金</td>\n",
       "    </tr>\n",
       "    <tr>\n",
       "      <th>12</th>\n",
       "      <td>160717.OF</td>\n",
       "      <td>嘉实恒生H股</td>\n",
       "      <td>开放式基金</td>\n",
       "      <td>25371460.61</td>\n",
       "      <td>20036000.00</td>\n",
       "      <td>19624824.78</td>\n",
       "      <td>0.040924</td>\n",
       "      <td>0.7897</td>\n",
       "      <td>0.7735</td>\n",
       "      <td>-411175.22</td>\n",
       "      <td>-4000.00</td>\n",
       "      <td>-415175.22</td>\n",
       "      <td>-137005.89</td>\n",
       "      <td>0</td>\n",
       "      <td>0.0</td>\n",
       "      <td>0</td>\n",
       "      <td>0</td>\n",
       "      <td>0.0</td>\n",
       "      <td>2017-02-20</td>\n",
       "      <td>国际(QDII)基金</td>\n",
       "    </tr>\n",
       "    <tr>\n",
       "      <th>13</th>\n",
       "      <td>161119.OF</td>\n",
       "      <td>易方达综债A</td>\n",
       "      <td>开放式基金</td>\n",
       "      <td>40916235.23</td>\n",
       "      <td>49998000.00</td>\n",
       "      <td>50191945.76</td>\n",
       "      <td>0.104666</td>\n",
       "      <td>1.2220</td>\n",
       "      <td>1.2267</td>\n",
       "      <td>193945.76</td>\n",
       "      <td>-2000.00</td>\n",
       "      <td>191945.76</td>\n",
       "      <td>0.00</td>\n",
       "      <td>0</td>\n",
       "      <td>0.0</td>\n",
       "      <td>0</td>\n",
       "      <td>0</td>\n",
       "      <td>0.0</td>\n",
       "      <td>2017-02-28</td>\n",
       "      <td>债券型基金</td>\n",
       "    </tr>\n",
       "    <tr>\n",
       "      <th>14</th>\n",
       "      <td>166005.OF</td>\n",
       "      <td>中欧价值A</td>\n",
       "      <td>开放式基金</td>\n",
       "      <td>5905363.15</td>\n",
       "      <td>10009000.00</td>\n",
       "      <td>10115296.54</td>\n",
       "      <td>0.021093</td>\n",
       "      <td>1.6949</td>\n",
       "      <td>1.7129</td>\n",
       "      <td>106296.54</td>\n",
       "      <td>-1000.00</td>\n",
       "      <td>105296.54</td>\n",
       "      <td>7086.44</td>\n",
       "      <td>0</td>\n",
       "      <td>0.0</td>\n",
       "      <td>0</td>\n",
       "      <td>0</td>\n",
       "      <td>0.0</td>\n",
       "      <td>2017-04-05</td>\n",
       "      <td>混合型基金</td>\n",
       "    </tr>\n",
       "    <tr>\n",
       "      <th>15</th>\n",
       "      <td>233005.OF</td>\n",
       "      <td>大摩强债</td>\n",
       "      <td>开放式基金</td>\n",
       "      <td>15217600.92</td>\n",
       "      <td>25008000.00</td>\n",
       "      <td>25022301.19</td>\n",
       "      <td>0.052179</td>\n",
       "      <td>1.6434</td>\n",
       "      <td>1.6443</td>\n",
       "      <td>14301.19</td>\n",
       "      <td>-2000.00</td>\n",
       "      <td>12301.19</td>\n",
       "      <td>-3043.52</td>\n",
       "      <td>0</td>\n",
       "      <td>0.0</td>\n",
       "      <td>0</td>\n",
       "      <td>0</td>\n",
       "      <td>0.0</td>\n",
       "      <td>2017-02-28</td>\n",
       "      <td>债券型基金</td>\n",
       "    </tr>\n",
       "    <tr>\n",
       "      <th>16</th>\n",
       "      <td>410004.OF</td>\n",
       "      <td>华富收益增强A</td>\n",
       "      <td>开放式基金</td>\n",
       "      <td>22924117.45</td>\n",
       "      <td>39998000.00</td>\n",
       "      <td>40124082.77</td>\n",
       "      <td>0.083671</td>\n",
       "      <td>1.7448</td>\n",
       "      <td>1.7503</td>\n",
       "      <td>126082.77</td>\n",
       "      <td>-2000.00</td>\n",
       "      <td>124082.77</td>\n",
       "      <td>-4584.83</td>\n",
       "      <td>0</td>\n",
       "      <td>0.0</td>\n",
       "      <td>0</td>\n",
       "      <td>0</td>\n",
       "      <td>0.0</td>\n",
       "      <td>2017-03-23</td>\n",
       "      <td>债券型基金</td>\n",
       "    </tr>\n",
       "    <tr>\n",
       "      <th>17</th>\n",
       "      <td>519981.OF</td>\n",
       "      <td>长信标普</td>\n",
       "      <td>开放式基金</td>\n",
       "      <td>9715488.08</td>\n",
       "      <td>11447412.70</td>\n",
       "      <td>11299112.64</td>\n",
       "      <td>0.023562</td>\n",
       "      <td>1.1783</td>\n",
       "      <td>1.1630</td>\n",
       "      <td>-148300.06</td>\n",
       "      <td>-52587.30</td>\n",
       "      <td>-200887.36</td>\n",
       "      <td>-58292.93</td>\n",
       "      <td>0</td>\n",
       "      <td>0.0</td>\n",
       "      <td>0</td>\n",
       "      <td>0</td>\n",
       "      <td>0.0</td>\n",
       "      <td>2017-02-28</td>\n",
       "      <td>国际(QDII)基金</td>\n",
       "    </tr>\n",
       "    <tr>\n",
       "      <th>18</th>\n",
       "      <td>540006.OF</td>\n",
       "      <td>汇丰大盘A</td>\n",
       "      <td>开放式基金</td>\n",
       "      <td>4197916.67</td>\n",
       "      <td>11508000.00</td>\n",
       "      <td>11857015.63</td>\n",
       "      <td>0.024726</td>\n",
       "      <td>2.7414</td>\n",
       "      <td>2.8245</td>\n",
       "      <td>349015.63</td>\n",
       "      <td>-2000.00</td>\n",
       "      <td>347015.63</td>\n",
       "      <td>141050.00</td>\n",
       "      <td>0</td>\n",
       "      <td>0.0</td>\n",
       "      <td>0</td>\n",
       "      <td>0</td>\n",
       "      <td>0.0</td>\n",
       "      <td>2017-02-27</td>\n",
       "      <td>股票型基金</td>\n",
       "    </tr>\n",
       "    <tr>\n",
       "      <th>19</th>\n",
       "      <td>540012.OF</td>\n",
       "      <td>汇丰恒生A</td>\n",
       "      <td>开放式基金</td>\n",
       "      <td>3414218.53</td>\n",
       "      <td>5009000.00</td>\n",
       "      <td>5292721.57</td>\n",
       "      <td>0.011037</td>\n",
       "      <td>1.4671</td>\n",
       "      <td>1.5502</td>\n",
       "      <td>283721.57</td>\n",
       "      <td>-1000.00</td>\n",
       "      <td>282721.57</td>\n",
       "      <td>44384.85</td>\n",
       "      <td>0</td>\n",
       "      <td>0.0</td>\n",
       "      <td>0</td>\n",
       "      <td>0</td>\n",
       "      <td>0.0</td>\n",
       "      <td>2017-02-13</td>\n",
       "      <td>股票型基金</td>\n",
       "    </tr>\n",
       "  </tbody>\n",
       "</table>\n",
       "</div>"
      ],
      "text/plain": [
       "           代码           名称     类型           份额           成本           市值  \\\n",
       "0   000024.OF        大摩双利A  开放式基金   3788956.13   5009000.00   5009000.00   \n",
       "1   000216.OF  华安黄金易ETF联接A  开放式基金   7584475.27   7809404.39   7917433.73   \n",
       "2   000307.OF  易方达黄金ETF联接A  开放式基金   5268028.88   5184865.09   5276457.73   \n",
       "3   000577.OF         安信价值  开放式基金   4423074.39  10018000.00  10606532.39   \n",
       "4   000753.OF        华宝量化A  开放式基金  41329462.70  41999000.00  42288306.23   \n",
       "5   000988.OF        嘉实互联网  开放式基金   4310671.25   5009000.00   4991757.31   \n",
       "6   001528.OF         诺安先进  开放式基金   4135017.42   4747000.00   4957885.89   \n",
       "7   001810.OF       中欧潜力价值  开放式基金   7867033.83   9999000.00  10077670.34   \n",
       "8   001878.OF        嘉实沪港深  开放式基金   3746447.27   5009000.00   5132632.76   \n",
       "9   004501.OF       嘉实现金添利  开放式基金  25000000.00  25000000.00  25000000.00   \n",
       "10  110011.OF       易方达中小盘  开放式基金   3123236.88   9980059.83  10364149.26   \n",
       "11  110017.OF       易方达回报A  开放式基金   4132943.85   5004995.00   5033925.61   \n",
       "12  160717.OF       嘉实恒生H股  开放式基金  25371460.61  20036000.00  19624824.78   \n",
       "13  161119.OF       易方达综债A  开放式基金  40916235.23  49998000.00  50191945.76   \n",
       "14  166005.OF        中欧价值A  开放式基金   5905363.15  10009000.00  10115296.54   \n",
       "15  233005.OF         大摩强债  开放式基金  15217600.92  25008000.00  25022301.19   \n",
       "16  410004.OF      华富收益增强A  开放式基金  22924117.45  39998000.00  40124082.77   \n",
       "17  519981.OF         长信标普  开放式基金   9715488.08  11447412.70  11299112.64   \n",
       "18  540006.OF        汇丰大盘A  开放式基金   4197916.67  11508000.00  11857015.63   \n",
       "19  540012.OF        汇丰恒生A  开放式基金   3414218.53   5009000.00   5292721.57   \n",
       "\n",
       "       市值占净值    平均成本    平均市值      总浮动盈亏      总实现盈亏        总盈亏       浮动盈亏  \\\n",
       "0   0.010445  1.3220  1.3220       0.00   -1000.00   -1000.00       0.00   \n",
       "1   0.016510  1.0297  1.0439  108029.34   34692.62  142721.96  -11376.72   \n",
       "2   0.011003  0.9842  1.0016   91592.64   85897.09  177489.73   -7375.24   \n",
       "3   0.022118  2.2649  2.3980  588532.39   -2000.00  586532.39   13269.23   \n",
       "4   0.088184  1.0162  1.0232  289306.23   -1000.00  288306.23   66127.14   \n",
       "5   0.010409  1.1620  1.1580  -17242.69   -1000.00  -18242.69  -81902.75   \n",
       "6   0.010339  1.1480  1.1990  210885.89 -190270.00   20615.89   -4135.01   \n",
       "7   0.021015  1.2710  1.2810   78670.34   -1000.00   77670.34       0.00   \n",
       "8   0.010703  1.3370  1.3700  123632.76   -1000.00  122632.76  -29971.58   \n",
       "9   0.052133  1.0000  1.0000       0.00   25731.20   25731.20       0.00   \n",
       "10  0.021612  3.1954  3.3184  384089.43  -29940.17  354149.26   11868.30   \n",
       "11  0.010497  1.2110  1.2180   28930.61   -5005.00   23925.61       0.00   \n",
       "12  0.040924  0.7897  0.7735 -411175.22   -4000.00 -415175.22 -137005.89   \n",
       "13  0.104666  1.2220  1.2267  193945.76   -2000.00  191945.76       0.00   \n",
       "14  0.021093  1.6949  1.7129  106296.54   -1000.00  105296.54    7086.44   \n",
       "15  0.052179  1.6434  1.6443   14301.19   -2000.00   12301.19   -3043.52   \n",
       "16  0.083671  1.7448  1.7503  126082.77   -2000.00  124082.77   -4584.83   \n",
       "17  0.023562  1.1783  1.1630 -148300.06  -52587.30 -200887.36  -58292.93   \n",
       "18  0.024726  2.7414  2.8245  349015.63   -2000.00  347015.63  141050.00   \n",
       "19  0.011037  1.4671  1.5502  283721.57   -1000.00  282721.57   44384.85   \n",
       "\n",
       "    差价收入     红利收入  费用  流出份额     流出资金       建仓日期        type  \n",
       "0      0      0.0   0     0      0.0 2017-02-28       债券型基金  \n",
       "1      0      0.0   0     0      0.0 2017-02-24      另类投资基金  \n",
       "2      0      0.0   0     0      0.0 2017-02-13      另类投资基金  \n",
       "3      0      0.0   0     0      0.0 2017-02-13       股票型基金  \n",
       "4      0      0.0   0     0      0.0 2017-02-28      另类投资基金  \n",
       "5      0      0.0   0     0      0.0 2017-03-20  国际(QDII)基金  \n",
       "6      0      0.0   0     0      0.0 2016-12-05       股票型基金  \n",
       "7      0      0.0   0     0      0.0 2017-03-14       混合型基金  \n",
       "8      0      0.0   0     0      0.0 2017-03-17       股票型基金  \n",
       "9      0  16955.7   0     0 -16955.7 2017-03-29     货币市场型基金  \n",
       "10     0      0.0   0     0      0.0 2017-03-10       混合型基金  \n",
       "11     0      0.0   0     0      0.0 2017-02-28       债券型基金  \n",
       "12     0      0.0   0     0      0.0 2017-02-20  国际(QDII)基金  \n",
       "13     0      0.0   0     0      0.0 2017-02-28       债券型基金  \n",
       "14     0      0.0   0     0      0.0 2017-04-05       混合型基金  \n",
       "15     0      0.0   0     0      0.0 2017-02-28       债券型基金  \n",
       "16     0      0.0   0     0      0.0 2017-03-23       债券型基金  \n",
       "17     0      0.0   0     0      0.0 2017-02-28  国际(QDII)基金  \n",
       "18     0      0.0   0     0      0.0 2017-02-27       股票型基金  \n",
       "19     0      0.0   0     0      0.0 2017-02-13       股票型基金  "
      ]
     },
     "execution_count": 851,
     "metadata": {},
     "output_type": "execute_result"
    }
   ],
   "source": [
    "fund2_df"
   ]
  },
  {
   "cell_type": "code",
   "execution_count": 850,
   "metadata": {
    "collapsed": false
   },
   "outputs": [
    {
     "data": {
      "text/plain": [
       "0          债券型基金\n",
       "1         另类投资基金\n",
       "2         另类投资基金\n",
       "3          股票型基金\n",
       "4         另类投资基金\n",
       "5     国际(QDII)基金\n",
       "6          股票型基金\n",
       "7          混合型基金\n",
       "8          股票型基金\n",
       "9        货币市场型基金\n",
       "10         混合型基金\n",
       "11         债券型基金\n",
       "12    国际(QDII)基金\n",
       "13         债券型基金\n",
       "14         混合型基金\n",
       "15         债券型基金\n",
       "16         债券型基金\n",
       "17    国际(QDII)基金\n",
       "18         股票型基金\n",
       "19         股票型基金\n",
       "Name: type, dtype: object"
      ]
     },
     "execution_count": 850,
     "metadata": {},
     "output_type": "execute_result"
    }
   ],
   "source": [
    "fund2_df['type']"
   ]
  },
  {
   "cell_type": "code",
   "execution_count": 797,
   "metadata": {
    "collapsed": true
   },
   "outputs": [],
   "source": [
    "content = []\n",
    "col_name = u'占净值比例'"
   ]
  },
  {
   "cell_type": "markdown",
   "metadata": {},
   "source": [
    "### 现金管理"
   ]
  },
  {
   "cell_type": "code",
   "execution_count": 798,
   "metadata": {
    "collapsed": true
   },
   "outputs": [],
   "source": [
    "def change_position(columns, string):\n",
    "    elements = []\n",
    "    for col in columns:\n",
    "        num = (inv2_df.loc[col, col_name] - inv1_df.loc[col, col_name])*100\n",
    "        if not np.isnan(num) and np.abs(num) > 0.01:\n",
    "            line = u'%s%s'%(up_down(num), col)\n",
    "            elements.append(line)\n",
    "    string += u'；'.join(elements)\n",
    "    return string"
   ]
  },
  {
   "cell_type": "code",
   "execution_count": 799,
   "metadata": {
    "collapsed": true
   },
   "outputs": [],
   "source": [
    "columns = [u'活期存款', u'定期存款', u'拆借存款']"
   ]
  },
  {
   "cell_type": "code",
   "execution_count": 800,
   "metadata": {
    "collapsed": false
   },
   "outputs": [
    {
     "name": "stdout",
     "output_type": "stream",
     "text": [
      "现金管理：增加35.30%活期存款\n"
     ]
    }
   ],
   "source": [
    "string = u'现金管理：'\n",
    "line = change_position(columns, string)\n",
    "content.append(line)\n",
    "print line"
   ]
  },
  {
   "cell_type": "markdown",
   "metadata": {},
   "source": [
    "### 固定收益"
   ]
  },
  {
   "cell_type": "code",
   "execution_count": 801,
   "metadata": {
    "collapsed": true
   },
   "outputs": [],
   "source": [
    "columns = [u'国债', \n",
    "           u'央票',\n",
    "           u'政策性金融债',\n",
    "           u'非政策性金融债',\n",
    "           u'短融(含超短融)',\n",
    "           u'中期票据',\n",
    "           u'企业债(不含短融和中票)',\n",
    "           u'公司债',\n",
    "           u'可转债',\n",
    "           u'资产支持证券',\n",
    "           u'地方政府债',\n",
    "           u'可交换债',\n",
    "           u'定期存单']"
   ]
  },
  {
   "cell_type": "code",
   "execution_count": 802,
   "metadata": {
    "collapsed": false
   },
   "outputs": [
    {
     "name": "stdout",
     "output_type": "stream",
     "text": [
      "固定收益：\n"
     ]
    }
   ],
   "source": [
    "string = u'固定收益：'\n",
    "line = change_position(columns, string)\n",
    "content.append(line)\n",
    "print line"
   ]
  },
  {
   "cell_type": "markdown",
   "metadata": {},
   "source": [
    "### 融资融券"
   ]
  },
  {
   "cell_type": "code",
   "execution_count": 803,
   "metadata": {
    "collapsed": true
   },
   "outputs": [],
   "source": [
    "columns = [u'融资',\n",
    "           u'融券']"
   ]
  },
  {
   "cell_type": "code",
   "execution_count": 804,
   "metadata": {
    "collapsed": true
   },
   "outputs": [],
   "source": [
    "string = u'融资融券：'\n",
    "line = change_position(columns, string)\n",
    "content.append(line)"
   ]
  },
  {
   "cell_type": "code",
   "execution_count": 805,
   "metadata": {
    "collapsed": false
   },
   "outputs": [
    {
     "name": "stdout",
     "output_type": "stream",
     "text": [
      "融资融券：\n"
     ]
    }
   ],
   "source": [
    "print line"
   ]
  },
  {
   "cell_type": "markdown",
   "metadata": {},
   "source": [
    "### 权益、黄金"
   ]
  },
  {
   "cell_type": "code",
   "execution_count": 806,
   "metadata": {
    "collapsed": true
   },
   "outputs": [],
   "source": [
    "col_name = u'市值占净值'"
   ]
  },
  {
   "cell_type": "code",
   "execution_count": 807,
   "metadata": {
    "collapsed": true
   },
   "outputs": [],
   "source": [
    "def hk_fund_name(name):\n",
    "    return name.find(u'港') != -1 or name.find(u'H股') != -1"
   ]
  },
  {
   "cell_type": "code",
   "execution_count": 808,
   "metadata": {
    "collapsed": true
   },
   "outputs": [],
   "source": [
    "def gold_fund_name(name):\n",
    "    return name.find(u'黄金') != -1"
   ]
  },
  {
   "cell_type": "code",
   "execution_count": 809,
   "metadata": {
    "collapsed": true
   },
   "outputs": [],
   "source": [
    "def money_fund_name(name):\n",
    "    return name.find(u'嘉实宝') != -1"
   ]
  },
  {
   "cell_type": "code",
   "execution_count": 810,
   "metadata": {
    "collapsed": true
   },
   "outputs": [],
   "source": [
    "def fund_position(df):\n",
    "    hk, gold, astock, money = 0, 0, 0, 0\n",
    "    for index in df.index:\n",
    "        name = df.loc[index, u'名称']\n",
    "        if hk_fund_name(name):\n",
    "            hk += df.loc[index, col_name]\n",
    "        elif gold_fund_name(name):\n",
    "            gold += df.loc[index, col_name]\n",
    "        elif money_fund_name(name):\n",
    "            money += df.loc[index, col_name]\n",
    "        else:\n",
    "            astock += df.loc[index, col_name]\n",
    "    return astock, hk, gold, money"
   ]
  },
  {
   "cell_type": "code",
   "execution_count": 811,
   "metadata": {
    "collapsed": false
   },
   "outputs": [],
   "source": [
    "hk1, astock1, gold1, money1 = fund_position(fund1_df)\n",
    "hk2, astock2, gold2, money2 = fund_position(fund2_df)"
   ]
  },
  {
   "cell_type": "code",
   "execution_count": 812,
   "metadata": {
    "collapsed": false
   },
   "outputs": [],
   "source": [
    "line = u'权益方面：%sA股配置；%s港股配置'%(up_down((astock2-astock1)*100), up_down((hk2-hk1)*100))\n",
    "content.append(line)"
   ]
  },
  {
   "cell_type": "code",
   "execution_count": 813,
   "metadata": {
    "collapsed": false
   },
   "outputs": [
    {
     "name": "stdout",
     "output_type": "stream",
     "text": [
      "权益方面：减少0.02%A股配置；减少28.52%港股配置\n"
     ]
    }
   ],
   "source": [
    "print line"
   ]
  },
  {
   "cell_type": "code",
   "execution_count": 814,
   "metadata": {
    "collapsed": true
   },
   "outputs": [],
   "source": [
    "line = u'商品方面：%s黄金'%(up_down((gold2-gold1)*100))\n",
    "content.append(line)"
   ]
  },
  {
   "cell_type": "code",
   "execution_count": 815,
   "metadata": {
    "collapsed": false
   },
   "outputs": [
    {
     "name": "stdout",
     "output_type": "stream",
     "text": [
      "商品方面：减少3.62%黄金\n"
     ]
    }
   ],
   "source": [
    "print line"
   ]
  },
  {
   "cell_type": "code",
   "execution_count": 816,
   "metadata": {
    "collapsed": false
   },
   "outputs": [
    {
     "name": "stdout",
     "output_type": "stream",
     "text": [
      "现金管理：增加35.30%活期存款\n",
      "固定收益：\n",
      "融资融券：\n",
      "权益方面：减少0.02%A股配置；减少28.52%港股配置\n",
      "商品方面：减少3.62%黄金\n"
     ]
    }
   ],
   "source": [
    "print '\\n'.join(content)"
   ]
  },
  {
   "cell_type": "code",
   "execution_count": 817,
   "metadata": {
    "collapsed": false
   },
   "outputs": [],
   "source": [
    "with open(u'C:/Users/jgtzsx01/Desktop/本周投资情况分析.txt', 'w') as f:\n",
    "    f.write('\\n'.join(content).encode('utf-8'))"
   ]
  },
  {
   "cell_type": "markdown",
   "metadata": {},
   "source": [
    "# 期末账户状态"
   ]
  },
  {
   "cell_type": "code",
   "execution_count": 818,
   "metadata": {
    "collapsed": true
   },
   "outputs": [],
   "source": [
    "content = []"
   ]
  },
  {
   "cell_type": "code",
   "execution_count": 819,
   "metadata": {
    "collapsed": false
   },
   "outputs": [],
   "source": [
    "line = u'专户资产规模：%.4f亿元'%(inv2_df.loc[u'资产总净值', u'市值（亿）'])\n",
    "content.append(line)"
   ]
  },
  {
   "cell_type": "code",
   "execution_count": 820,
   "metadata": {
    "collapsed": false
   },
   "outputs": [
    {
     "name": "stdout",
     "output_type": "stream",
     "text": [
      "专户资产规模：4.7955亿元\n"
     ]
    }
   ],
   "source": [
    "print line"
   ]
  },
  {
   "cell_type": "code",
   "execution_count": 821,
   "metadata": {
    "collapsed": false
   },
   "outputs": [],
   "source": [
    "line = u'固守配置规模：%.2f亿元'%(inv2_df.loc[u'债券', u'市值（亿）'])\n",
    "content.append(line)"
   ]
  },
  {
   "cell_type": "code",
   "execution_count": 822,
   "metadata": {
    "collapsed": false
   },
   "outputs": [
    {
     "name": "stdout",
     "output_type": "stream",
     "text": [
      "固守配置规模：nan亿元\n"
     ]
    }
   ],
   "source": [
    "print line"
   ]
  },
  {
   "cell_type": "code",
   "execution_count": 823,
   "metadata": {
    "collapsed": true
   },
   "outputs": [],
   "source": [
    "line = u'权益类配置规模：%.2f亿元'%(inv2_df.loc[u'资产总净值', u'市值（亿）']*(astock2+hk2))\n",
    "content.append(line)"
   ]
  },
  {
   "cell_type": "code",
   "execution_count": 824,
   "metadata": {
    "collapsed": false
   },
   "outputs": [
    {
     "name": "stdout",
     "output_type": "stream",
     "text": [
      "权益类配置规模：2.97亿元\n"
     ]
    }
   ],
   "source": [
    "print line"
   ]
  },
  {
   "cell_type": "code",
   "execution_count": 825,
   "metadata": {
    "collapsed": true
   },
   "outputs": [],
   "source": [
    "line = u'大宗商品配置规模：%.2f亿元'%(inv2_df.loc[u'资产总净值', u'市值（亿）']*(gold2))\n",
    "content.append(line)"
   ]
  },
  {
   "cell_type": "code",
   "execution_count": 826,
   "metadata": {
    "collapsed": false
   },
   "outputs": [
    {
     "name": "stdout",
     "output_type": "stream",
     "text": [
      "大宗商品配置规模：0.13亿元\n"
     ]
    }
   ],
   "source": [
    "print line"
   ]
  },
  {
   "cell_type": "code",
   "execution_count": 827,
   "metadata": {
    "collapsed": false
   },
   "outputs": [],
   "source": [
    "line = u'现金类配置规模：%.2f亿元'%(inv2_df.loc[u'资产总净值', u'市值（亿）']*(money2+inv2_df.loc[u'存款', u'占净值比例']))\n",
    "content.append(line)"
   ]
  },
  {
   "cell_type": "code",
   "execution_count": 828,
   "metadata": {
    "collapsed": false
   },
   "outputs": [
    {
     "name": "stdout",
     "output_type": "stream",
     "text": [
      "现金类配置规模：1.69亿元\n"
     ]
    }
   ],
   "source": [
    "print line"
   ]
  },
  {
   "cell_type": "code",
   "execution_count": 829,
   "metadata": {
    "collapsed": true
   },
   "outputs": [],
   "source": [
    "line = u'杠杆率：100%'\n",
    "content.append(line)"
   ]
  },
  {
   "cell_type": "code",
   "execution_count": 830,
   "metadata": {
    "collapsed": false
   },
   "outputs": [
    {
     "name": "stdout",
     "output_type": "stream",
     "text": [
      "杠杆率：100%\n"
     ]
    }
   ],
   "source": [
    "print line"
   ]
  },
  {
   "cell_type": "code",
   "execution_count": 831,
   "metadata": {
    "collapsed": true
   },
   "outputs": [],
   "source": [
    "hold_df = all_df[u'持仓']"
   ]
  },
  {
   "cell_type": "code",
   "execution_count": 832,
   "metadata": {
    "collapsed": false
   },
   "outputs": [],
   "source": [
    "line = u'今年以来收益：%.2f%%'%(hold_df.iloc[-1][u'累计收益率（%） ']*100)\n",
    "content.append(line)"
   ]
  },
  {
   "cell_type": "code",
   "execution_count": 833,
   "metadata": {
    "collapsed": false
   },
   "outputs": [
    {
     "name": "stdout",
     "output_type": "stream",
     "text": [
      "今年以来收益：1.23%\n"
     ]
    }
   ],
   "source": [
    "print line"
   ]
  },
  {
   "cell_type": "code",
   "execution_count": 834,
   "metadata": {
    "collapsed": false
   },
   "outputs": [
    {
     "name": "stdout",
     "output_type": "stream",
     "text": [
      "专户资产规模：4.7955亿元\n",
      "固守配置规模：nan亿元\n",
      "权益类配置规模：2.97亿元\n",
      "大宗商品配置规模：0.13亿元\n",
      "现金类配置规模：1.69亿元\n",
      "杠杆率：100%\n",
      "今年以来收益：1.23%\n"
     ]
    }
   ],
   "source": [
    "print '\\n'.join(content)"
   ]
  },
  {
   "cell_type": "code",
   "execution_count": 835,
   "metadata": {
    "collapsed": true
   },
   "outputs": [],
   "source": [
    "with open(u'C:/Users/jgtzsx01/Desktop/本期末账户状态.txt', 'w') as f:\n",
    "    f.write('\\n'.join(content).encode('utf-8'))"
   ]
  },
  {
   "cell_type": "code",
   "execution_count": null,
   "metadata": {
    "collapsed": true
   },
   "outputs": [],
   "source": []
  },
  {
   "cell_type": "code",
   "execution_count": null,
   "metadata": {
    "collapsed": true
   },
   "outputs": [],
   "source": []
  }
 ],
 "metadata": {
  "kernelspec": {
   "display_name": "Python [default]",
   "language": "python",
   "name": "python2"
  },
  "language_info": {
   "codemirror_mode": {
    "name": "ipython",
    "version": 2
   },
   "file_extension": ".py",
   "mimetype": "text/x-python",
   "name": "python",
   "nbconvert_exporter": "python",
   "pygments_lexer": "ipython2",
   "version": "2.7.12"
  }
 },
 "nbformat": 4,
 "nbformat_minor": 1
}
