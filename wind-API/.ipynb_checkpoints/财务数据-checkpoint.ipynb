{
 "cells": [
  {
   "cell_type": "code",
   "execution_count": 182,
   "metadata": {
    "collapsed": true
   },
   "outputs": [],
   "source": [
    "from WindPy import w\n",
    "import pandas as pd"
   ]
  },
  {
   "cell_type": "code",
   "execution_count": 183,
   "metadata": {
    "collapsed": false
   },
   "outputs": [
    {
     "data": {
      "text/plain": [
       ".ErrorCode=0\n",
       ".Data=[Already conntected!]"
      ]
     },
     "execution_count": 183,
     "metadata": {},
     "output_type": "execute_result"
    }
   ],
   "source": [
    "w.start()"
   ]
  },
  {
   "cell_type": "code",
   "execution_count": 184,
   "metadata": {
    "collapsed": true
   },
   "outputs": [],
   "source": [
    "raw_data=w.wss(\"600000.SH\",\"pe\",\"rptDate=20081231\")"
   ]
  },
  {
   "cell_type": "code",
   "execution_count": 185,
   "metadata": {
    "collapsed": false
   },
   "outputs": [
    {
     "data": {
      "text/plain": [
       ".ErrorCode=0\n",
       ".Codes=[600000.SH]\n",
       ".Fields=[PE]\n",
       ".Times=[20170214 14:01:00]\n",
       ".Data=[[None]]"
      ]
     },
     "execution_count": 185,
     "metadata": {},
     "output_type": "execute_result"
    }
   ],
   "source": [
    "raw_data"
   ]
  },
  {
   "cell_type": "code",
   "execution_count": 98,
   "metadata": {
    "collapsed": false
   },
   "outputs": [],
   "source": [
    "dic = {}\n",
    "for data, field in zip(raw_data.Data, raw_data.Fields):\n",
    "    dic[str.lower(str(field))] = data"
   ]
  },
  {
   "cell_type": "code",
   "execution_count": 99,
   "metadata": {
    "collapsed": true
   },
   "outputs": [],
   "source": [
    "df = pd.DataFrame(dic)"
   ]
  },
  {
   "cell_type": "code",
   "execution_count": 100,
   "metadata": {
    "collapsed": false
   },
   "outputs": [
    {
     "data": {
      "text/html": [
       "<div>\n",
       "<table border=\"1\" class=\"dataframe\">\n",
       "  <thead>\n",
       "    <tr style=\"text-align: right;\">\n",
       "      <th></th>\n",
       "      <th>eps_ttm</th>\n",
       "      <th>roa</th>\n",
       "      <th>surpluscapitalps</th>\n",
       "    </tr>\n",
       "  </thead>\n",
       "  <tbody>\n",
       "    <tr>\n",
       "      <th>0</th>\n",
       "      <td>2.456208</td>\n",
       "      <td>1.1253</td>\n",
       "      <td>1.9189</td>\n",
       "    </tr>\n",
       "  </tbody>\n",
       "</table>\n",
       "</div>"
      ],
      "text/plain": [
       "    eps_ttm     roa  surpluscapitalps\n",
       "0  2.456208  1.1253            1.9189"
      ]
     },
     "execution_count": 100,
     "metadata": {},
     "output_type": "execute_result"
    }
   ],
   "source": [
    "df"
   ]
  },
  {
   "cell_type": "code",
   "execution_count": 33,
   "metadata": {
    "collapsed": true
   },
   "outputs": [],
   "source": [
    "??w.wss"
   ]
  },
  {
   "cell_type": "markdown",
   "metadata": {},
   "source": [
    "### 获取全部A股股票代码"
   ]
  },
  {
   "cell_type": "code",
   "execution_count": 51,
   "metadata": {
    "collapsed": true
   },
   "outputs": [],
   "source": [
    "codes = w.wset(\"SectorConstituent\",u\"date=20170212;sector=全部A股\") #取全部A 股股票代码、名称信息"
   ]
  },
  {
   "cell_type": "code",
   "execution_count": 54,
   "metadata": {
    "collapsed": false
   },
   "outputs": [
    {
     "data": {
      "text/plain": [
       ".ErrorCode=0\n",
       ".Codes=[1,2,3,4,5,6,7,8,9,10,...]\n",
       ".Fields=[date,wind_code,sec_name]\n",
       ".Times=[20170213]\n",
       ".Data=[[2017-02-12 00:00:00.005000,2017-02-12 00:00:00.005000,2017-02-12 00:00:00.005000,2017-02-12 00:00:00.005000,2017-02-12 00:00:00.005000,2017-02-12 00:00:00.005000,2017-02-12 00:00:00.005000,2017-02-12 00:00:00.005000,2017-02-12 00:00:00.005000,2017-02-12 00:00:00.005000,...],[000001.SZ,000002.SZ,000004.SZ,000005.SZ,000006.SZ,000007.SZ,000008.SZ,000009.SZ,000010.SZ,000011.SZ,...],[u'\\u5e73\\u5b89\\u94f6\\u884c',u'\\u4e07\\u79d1A',u'\\u56fd\\u519c\\u79d1\\u6280',u'\\u4e16\\u7eaa\\u661f\\u6e90',u'\\u6df1\\u632f\\u4e1aA',u'\\u5168\\u65b0\\u597d',u'\\u795e\\u5dde\\u9ad8\\u94c1',u'\\u4e2d\\u56fd\\u5b9d\\u5b89',u'\\u7f8e\\u4e3d\\u751f\\u6001',u'\\u6df1\\u7269\\u4e1aA',...]]"
      ]
     },
     "execution_count": 54,
     "metadata": {},
     "output_type": "execute_result"
    }
   ],
   "source": [
    "codes"
   ]
  },
  {
   "cell_type": "markdown",
   "metadata": {},
   "source": [
    "### 自动获取季度日期"
   ]
  },
  {
   "cell_type": "code",
   "execution_count": 55,
   "metadata": {
    "collapsed": true
   },
   "outputs": [],
   "source": [
    "w_tdays = w.tdays('2013-01-01','2013-09-30','Days=Alldays;Period=Q'); # "
   ]
  },
  {
   "cell_type": "code",
   "execution_count": 56,
   "metadata": {
    "collapsed": false
   },
   "outputs": [
    {
     "data": {
      "text/plain": [
       ".ErrorCode=0\n",
       ".Codes=[]\n",
       ".Fields=[]\n",
       ".Times=[20130331,20130630,20130930]\n",
       ".Data=[[2013-03-31 00:00:00.005000,2013-06-30 00:00:00.005000,2013-09-30 00:00:00.005000]]"
      ]
     },
     "execution_count": 56,
     "metadata": {},
     "output_type": "execute_result"
    }
   ],
   "source": [
    "w_tdays"
   ]
  },
  {
   "cell_type": "code",
   "execution_count": 124,
   "metadata": {
    "collapsed": false
   },
   "outputs": [],
   "source": [
    "raw_data = w.wss(\"000001.SZ\", \"bps,pe,mkt_cap_ard,pe_ttm,val_pe_deducted_ttm,pe_lyr\",\"rptDate=20091231\")"
   ]
  },
  {
   "cell_type": "code",
   "execution_count": 125,
   "metadata": {
    "collapsed": false
   },
   "outputs": [
    {
     "data": {
      "text/plain": [
       ".ErrorCode=0\n",
       ".Codes=[000001.SZ]\n",
       ".Fields=[BPS,PE,MKT_CAP_ARD,PE_TTM,VAL_PE_DEDUCTED_TTM,PE_LYR]\n",
       ".Times=[20170213 15:28:16]\n",
       ".Data=[[nan],[nan],[1.61573570954e+11],[7.07291065287],[7.06950649547],[7.38959848863]]"
      ]
     },
     "execution_count": 125,
     "metadata": {},
     "output_type": "execute_result"
    }
   ],
   "source": [
    "raw_data"
   ]
  },
  {
   "cell_type": "code",
   "execution_count": 126,
   "metadata": {
    "collapsed": false
   },
   "outputs": [],
   "source": [
    "dic = {}\n",
    "for data, field in zip(raw_data.Data, raw_data.Fields):\n",
    "    dic[str.lower(str(field))] = data"
   ]
  },
  {
   "cell_type": "code",
   "execution_count": 127,
   "metadata": {
    "collapsed": true
   },
   "outputs": [],
   "source": [
    "df = pd.DataFrame(dic)"
   ]
  },
  {
   "cell_type": "code",
   "execution_count": 128,
   "metadata": {
    "collapsed": false
   },
   "outputs": [
    {
     "data": {
      "text/html": [
       "<div>\n",
       "<table border=\"1\" class=\"dataframe\">\n",
       "  <thead>\n",
       "    <tr style=\"text-align: right;\">\n",
       "      <th></th>\n",
       "      <th>bps</th>\n",
       "      <th>mkt_cap_ard</th>\n",
       "      <th>pe</th>\n",
       "      <th>pe_lyr</th>\n",
       "      <th>pe_ttm</th>\n",
       "      <th>val_pe_deducted_ttm</th>\n",
       "    </tr>\n",
       "  </thead>\n",
       "  <tbody>\n",
       "    <tr>\n",
       "      <th>0</th>\n",
       "      <td>NaN</td>\n",
       "      <td>1.615736e+11</td>\n",
       "      <td>NaN</td>\n",
       "      <td>7.389598</td>\n",
       "      <td>7.072911</td>\n",
       "      <td>7.069506</td>\n",
       "    </tr>\n",
       "  </tbody>\n",
       "</table>\n",
       "</div>"
      ],
      "text/plain": [
       "   bps   mkt_cap_ard  pe    pe_lyr    pe_ttm  val_pe_deducted_ttm\n",
       "0  NaN  1.615736e+11 NaN  7.389598  7.072911             7.069506"
      ]
     },
     "execution_count": 128,
     "metadata": {},
     "output_type": "execute_result"
    }
   ],
   "source": [
    "df"
   ]
  },
  {
   "cell_type": "code",
   "execution_count": 180,
   "metadata": {
    "collapsed": false
   },
   "outputs": [],
   "source": [
    "# raw_data = w.wss(\"000001.SZ\", \"bps,pe,mkt_cap_ard,pe_ttm,val_pe_deducted_ttm,pe_lyr\",\"rptDate=20011231\")\n",
    "raw_data = w.wss(\"000002.SZ\", \"bps\",\"rptDate=20151231;currencyType=\")\n",
    "dic = {}\n",
    "for data, field in zip(raw_data.Data, raw_data.Fields):\n",
    "    dic[str.lower(str(field))] = data\n",
    "df = pd.DataFrame(dic)"
   ]
  },
  {
   "cell_type": "code",
   "execution_count": 181,
   "metadata": {
    "collapsed": false
   },
   "outputs": [
    {
     "data": {
      "text/html": [
       "<div>\n",
       "<table border=\"1\" class=\"dataframe\">\n",
       "  <thead>\n",
       "    <tr style=\"text-align: right;\">\n",
       "      <th></th>\n",
       "      <th>bps</th>\n",
       "    </tr>\n",
       "  </thead>\n",
       "  <tbody>\n",
       "    <tr>\n",
       "      <th>0</th>\n",
       "      <td>None</td>\n",
       "    </tr>\n",
       "  </tbody>\n",
       "</table>\n",
       "</div>"
      ],
      "text/plain": [
       "    bps\n",
       "0  None"
      ]
     },
     "execution_count": 181,
     "metadata": {},
     "output_type": "execute_result"
    }
   ],
   "source": [
    "df"
   ]
  },
  {
   "cell_type": "code",
   "execution_count": 281,
   "metadata": {
    "collapsed": false
   },
   "outputs": [],
   "source": [
    "raw_data = w.wss([\"000002.SZ\",\"000001.SZ\",\"000006.SZ\",\"000004.SZ\",\"000005.SZ\"], [\"yoy_or\",\"pe\",\"pb\",\"roic\",\"yoyprofit\"],\"rptDate=20140930;tradeDate=20161216;ruleType=2\")"
   ]
  },
  {
   "cell_type": "code",
   "execution_count": 282,
   "metadata": {
    "collapsed": false
   },
   "outputs": [
    {
     "data": {
      "text/plain": [
       ".ErrorCode=0\n",
       ".Codes=[000002.SZ,000001.SZ,000006.SZ,000004.SZ,000005.SZ]\n",
       ".Fields=[YOY_OR,PE,PB,ROIC,YOYPROFIT]\n",
       ".Times=[20170214 14:59:00]\n",
       ".Data=[[-0.4348,46.3409,-59.746,-9.1666,11.9267],[13.6836356849,7.26395175557,29.8341203577,2994.45783726,-132.797784917],[2.4748517454,0.983444613842,2.8302361373,45.8083616128,6.38599132723],[3.7381,nan,3.2133,-5.2941,-4.4998],[1.70992455103,34.182626539,-33.9045356278,-153.582559432,-10.1659290086]]"
      ]
     },
     "execution_count": 282,
     "metadata": {},
     "output_type": "execute_result"
    }
   ],
   "source": [
    "raw_data"
   ]
  },
  {
   "cell_type": "code",
   "execution_count": 283,
   "metadata": {
    "collapsed": false
   },
   "outputs": [],
   "source": [
    "dic = {}\n",
    "for data, field in zip(raw_data.Data, raw_data.Fields):\n",
    "    dic[str(field.lower())] = data"
   ]
  },
  {
   "cell_type": "code",
   "execution_count": 284,
   "metadata": {
    "collapsed": false
   },
   "outputs": [],
   "source": [
    "df = pd.DataFrame(dic, index=raw_data.Codes)"
   ]
  },
  {
   "cell_type": "code",
   "execution_count": 285,
   "metadata": {
    "collapsed": false
   },
   "outputs": [
    {
     "data": {
      "text/html": [
       "<div>\n",
       "<table border=\"1\" class=\"dataframe\">\n",
       "  <thead>\n",
       "    <tr style=\"text-align: right;\">\n",
       "      <th></th>\n",
       "      <th>pb</th>\n",
       "      <th>pe</th>\n",
       "      <th>roic</th>\n",
       "      <th>yoy_or</th>\n",
       "      <th>yoyprofit</th>\n",
       "    </tr>\n",
       "  </thead>\n",
       "  <tbody>\n",
       "    <tr>\n",
       "      <th>000002.SZ</th>\n",
       "      <td>2.474852</td>\n",
       "      <td>13.683636</td>\n",
       "      <td>3.7381</td>\n",
       "      <td>-0.4348</td>\n",
       "      <td>1.709925</td>\n",
       "    </tr>\n",
       "    <tr>\n",
       "      <th>000001.SZ</th>\n",
       "      <td>0.983445</td>\n",
       "      <td>7.263952</td>\n",
       "      <td>NaN</td>\n",
       "      <td>46.3409</td>\n",
       "      <td>34.182627</td>\n",
       "    </tr>\n",
       "    <tr>\n",
       "      <th>000006.SZ</th>\n",
       "      <td>2.830236</td>\n",
       "      <td>29.834120</td>\n",
       "      <td>3.2133</td>\n",
       "      <td>-59.7460</td>\n",
       "      <td>-33.904536</td>\n",
       "    </tr>\n",
       "    <tr>\n",
       "      <th>000004.SZ</th>\n",
       "      <td>45.808362</td>\n",
       "      <td>2994.457837</td>\n",
       "      <td>-5.2941</td>\n",
       "      <td>-9.1666</td>\n",
       "      <td>-153.582559</td>\n",
       "    </tr>\n",
       "    <tr>\n",
       "      <th>000005.SZ</th>\n",
       "      <td>6.385991</td>\n",
       "      <td>-132.797785</td>\n",
       "      <td>-4.4998</td>\n",
       "      <td>11.9267</td>\n",
       "      <td>-10.165929</td>\n",
       "    </tr>\n",
       "  </tbody>\n",
       "</table>\n",
       "</div>"
      ],
      "text/plain": [
       "                  pb           pe    roic   yoy_or   yoyprofit\n",
       "000002.SZ   2.474852    13.683636  3.7381  -0.4348    1.709925\n",
       "000001.SZ   0.983445     7.263952     NaN  46.3409   34.182627\n",
       "000006.SZ   2.830236    29.834120  3.2133 -59.7460  -33.904536\n",
       "000004.SZ  45.808362  2994.457837 -5.2941  -9.1666 -153.582559\n",
       "000005.SZ   6.385991  -132.797785 -4.4998  11.9267  -10.165929"
      ]
     },
     "execution_count": 285,
     "metadata": {},
     "output_type": "execute_result"
    }
   ],
   "source": [
    "df"
   ]
  },
  {
   "cell_type": "code",
   "execution_count": 240,
   "metadata": {
    "collapsed": false
   },
   "outputs": [
    {
     "data": {
      "text/html": [
       "<div>\n",
       "<table border=\"1\" class=\"dataframe\">\n",
       "  <thead>\n",
       "    <tr style=\"text-align: right;\">\n",
       "      <th></th>\n",
       "      <th>pb</th>\n",
       "      <th>pe</th>\n",
       "      <th>roic</th>\n",
       "      <th>yoy_or</th>\n",
       "      <th>yoyprofit</th>\n",
       "    </tr>\n",
       "  </thead>\n",
       "  <tbody>\n",
       "    <tr>\n",
       "      <th>000001.SZ</th>\n",
       "      <td>0.983445</td>\n",
       "      <td>7.263952</td>\n",
       "      <td>NaN</td>\n",
       "      <td>40.6561</td>\n",
       "      <td>30.011161</td>\n",
       "    </tr>\n",
       "    <tr>\n",
       "      <th>000002.SZ</th>\n",
       "      <td>2.474852</td>\n",
       "      <td>13.683636</td>\n",
       "      <td>9.0631</td>\n",
       "      <td>8.1002</td>\n",
       "      <td>5.410419</td>\n",
       "    </tr>\n",
       "    <tr>\n",
       "      <th>000006.SZ</th>\n",
       "      <td>2.830236</td>\n",
       "      <td>29.834120</td>\n",
       "      <td>6.8404</td>\n",
       "      <td>-49.4946</td>\n",
       "      <td>-26.583542</td>\n",
       "    </tr>\n",
       "    <tr>\n",
       "      <th>000005.SZ</th>\n",
       "      <td>6.385991</td>\n",
       "      <td>-132.797785</td>\n",
       "      <td>5.7793</td>\n",
       "      <td>1.3739</td>\n",
       "      <td>201.934570</td>\n",
       "    </tr>\n",
       "    <tr>\n",
       "      <th>000004.SZ</th>\n",
       "      <td>45.808362</td>\n",
       "      <td>2994.457837</td>\n",
       "      <td>3.4601</td>\n",
       "      <td>10.7499</td>\n",
       "      <td>169.544385</td>\n",
       "    </tr>\n",
       "  </tbody>\n",
       "</table>\n",
       "</div>"
      ],
      "text/plain": [
       "                  pb           pe    roic   yoy_or   yoyprofit\n",
       "000001.SZ   0.983445     7.263952     NaN  40.6561   30.011161\n",
       "000002.SZ   2.474852    13.683636  9.0631   8.1002    5.410419\n",
       "000006.SZ   2.830236    29.834120  6.8404 -49.4946  -26.583542\n",
       "000005.SZ   6.385991  -132.797785  5.7793   1.3739  201.934570\n",
       "000004.SZ  45.808362  2994.457837  3.4601  10.7499  169.544385"
      ]
     },
     "execution_count": 240,
     "metadata": {},
     "output_type": "execute_result"
    }
   ],
   "source": [
    "df.sort_values('pb')"
   ]
  },
  {
   "cell_type": "code",
   "execution_count": null,
   "metadata": {
    "collapsed": true
   },
   "outputs": [],
   "source": [
    "df.index.to"
   ]
  }
 ],
 "metadata": {
  "anaconda-cloud": {},
  "kernelspec": {
   "display_name": "Python [default]",
   "language": "python",
   "name": "python2"
  },
  "language_info": {
   "codemirror_mode": {
    "name": "ipython",
    "version": 2
   },
   "file_extension": ".py",
   "mimetype": "text/x-python",
   "name": "python",
   "nbconvert_exporter": "python",
   "pygments_lexer": "ipython2",
   "version": "2.7.12"
  }
 },
 "nbformat": 4,
 "nbformat_minor": 1
}
