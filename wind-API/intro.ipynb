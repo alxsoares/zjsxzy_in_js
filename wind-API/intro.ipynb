{
 "cells": [
  {
   "cell_type": "code",
   "execution_count": 22,
   "metadata": {
    "collapsed": true
   },
   "outputs": [],
   "source": [
    "from WindPy import w\n",
    "import pandas as pd"
   ]
  },
  {
   "cell_type": "code",
   "execution_count": 2,
   "metadata": {
    "collapsed": false
   },
   "outputs": [
    {
     "name": "stdout",
     "output_type": "stream",
     "text": [
      "Welcome to use Wind Quant API for Python (WindPy)!\n",
      "You can use w.menu to help yourself to create commands(WSD,WSS,WST,WSI,WSQ,...)!\n",
      "\n",
      "COPYRIGHT (C) 2016 WIND HONGHUI INFORMATION & TECHKNOLEWDGE CO., LTD. ALL RIGHTS RESERVED.\n",
      "IN NO CIRCUMSTANCE SHALL WIND BE RESPONSIBLE FOR ANY DAMAGES OR LOSSES CAUSED BY USING WIND QUANT API FOR Python.\n"
     ]
    },
    {
     "data": {
      "text/plain": [
       ".ErrorCode=0\n",
       ".Data=[OK!]"
      ]
     },
     "execution_count": 2,
     "metadata": {},
     "output_type": "execute_result"
    }
   ],
   "source": [
    "w.start()"
   ]
  },
  {
   "cell_type": "code",
   "execution_count": 17,
   "metadata": {
    "collapsed": true
   },
   "outputs": [],
   "source": [
    "symbols = [\"000300.SH\"]\n",
    "start_date = \"2005-01-01\"\n",
    "end_date = \"2017-01-20\"\n",
    "fields = [\"open\", \"high\", \"low\", \"close\", \"amt\"]"
   ]
  },
  {
   "cell_type": "code",
   "execution_count": 20,
   "metadata": {
    "collapsed": true
   },
   "outputs": [],
   "source": [
    "raw_data = w.wsd(symbols[0], fields, beginTime=start_date, endTime=end_date)"
   ]
  },
  {
   "cell_type": "code",
   "execution_count": 21,
   "metadata": {
    "collapsed": false
   },
   "outputs": [
    {
     "data": {
      "text/plain": [
       ".ErrorCode=0\n",
       ".Codes=[000300.SH]\n",
       ".Fields=[OPEN,HIGH,LOW,CLOSE,AMT]\n",
       ".Times=[20050104,20050105,20050106,20050107,20050110,20050111,20050112,20050113,20050114,20050117,...]\n",
       ".Data=[[994.769,981.577,993.331,983.045,983.76,994.189,996.651,996.078,996.617,979.111,...],[994.769,997.323,993.788,995.711,993.959,999.554,996.976,999.473,1006.463,981.525,...],[980.658,979.877,980.33,979.812,979.789,991.092,989.257,992.695,987.233,965.078,...],[982.794,992.564,983.174,983.958,993.879,997.135,996.748,996.877,988.306,967.452,...],[4431977418.0,4529208214.0,3921015420.0,4737469399.0,3762932890.0,3704076709.0,3093299668.0,3842173302.0,4162921211.0,4249807837.0,...]]"
      ]
     },
     "execution_count": 21,
     "metadata": {},
     "output_type": "execute_result"
    }
   ],
   "source": [
    "raw_data"
   ]
  },
  {
   "cell_type": "code",
   "execution_count": 25,
   "metadata": {
    "collapsed": true
   },
   "outputs": [],
   "source": [
    "dic = {}\n",
    "for data, field in zip(raw_data.Data, raw_data.Fields):\n",
    "    dic[str.lower(str(field))] = data\n",
    "dic['Adj Close'] = dic['close']\n",
    "df = pd.DataFrame(dic, index=raw_data.Times)"
   ]
  },
  {
   "cell_type": "code",
   "execution_count": 27,
   "metadata": {
    "collapsed": false
   },
   "outputs": [
    {
     "data": {
      "text/html": [
       "<div>\n",
       "<table border=\"1\" class=\"dataframe\">\n",
       "  <thead>\n",
       "    <tr style=\"text-align: right;\">\n",
       "      <th></th>\n",
       "      <th>Adj Close</th>\n",
       "      <th>amt</th>\n",
       "      <th>close</th>\n",
       "      <th>high</th>\n",
       "      <th>low</th>\n",
       "      <th>open</th>\n",
       "    </tr>\n",
       "  </thead>\n",
       "  <tbody>\n",
       "    <tr>\n",
       "      <th>2005-01-04 00:00:00.005</th>\n",
       "      <td>982.794</td>\n",
       "      <td>4.431977e+09</td>\n",
       "      <td>982.794</td>\n",
       "      <td>994.769</td>\n",
       "      <td>980.658</td>\n",
       "      <td>994.769</td>\n",
       "    </tr>\n",
       "    <tr>\n",
       "      <th>2005-01-05 00:00:00.005</th>\n",
       "      <td>992.564</td>\n",
       "      <td>4.529208e+09</td>\n",
       "      <td>992.564</td>\n",
       "      <td>997.323</td>\n",
       "      <td>979.877</td>\n",
       "      <td>981.577</td>\n",
       "    </tr>\n",
       "    <tr>\n",
       "      <th>2005-01-06 00:00:00.005</th>\n",
       "      <td>983.174</td>\n",
       "      <td>3.921015e+09</td>\n",
       "      <td>983.174</td>\n",
       "      <td>993.788</td>\n",
       "      <td>980.330</td>\n",
       "      <td>993.331</td>\n",
       "    </tr>\n",
       "    <tr>\n",
       "      <th>2005-01-07 00:00:00.005</th>\n",
       "      <td>983.958</td>\n",
       "      <td>4.737469e+09</td>\n",
       "      <td>983.958</td>\n",
       "      <td>995.711</td>\n",
       "      <td>979.812</td>\n",
       "      <td>983.045</td>\n",
       "    </tr>\n",
       "    <tr>\n",
       "      <th>2005-01-10 00:00:00.005</th>\n",
       "      <td>993.879</td>\n",
       "      <td>3.762933e+09</td>\n",
       "      <td>993.879</td>\n",
       "      <td>993.959</td>\n",
       "      <td>979.789</td>\n",
       "      <td>983.760</td>\n",
       "    </tr>\n",
       "  </tbody>\n",
       "</table>\n",
       "</div>"
      ],
      "text/plain": [
       "                         Adj Close           amt    close     high      low  \\\n",
       "2005-01-04 00:00:00.005    982.794  4.431977e+09  982.794  994.769  980.658   \n",
       "2005-01-05 00:00:00.005    992.564  4.529208e+09  992.564  997.323  979.877   \n",
       "2005-01-06 00:00:00.005    983.174  3.921015e+09  983.174  993.788  980.330   \n",
       "2005-01-07 00:00:00.005    983.958  4.737469e+09  983.958  995.711  979.812   \n",
       "2005-01-10 00:00:00.005    993.879  3.762933e+09  993.879  993.959  979.789   \n",
       "\n",
       "                            open  \n",
       "2005-01-04 00:00:00.005  994.769  \n",
       "2005-01-05 00:00:00.005  981.577  \n",
       "2005-01-06 00:00:00.005  993.331  \n",
       "2005-01-07 00:00:00.005  983.045  \n",
       "2005-01-10 00:00:00.005  983.760  "
      ]
     },
     "execution_count": 27,
     "metadata": {},
     "output_type": "execute_result"
    }
   ],
   "source": [
    "df.head()"
   ]
  },
  {
   "cell_type": "code",
   "execution_count": null,
   "metadata": {
    "collapsed": true
   },
   "outputs": [],
   "source": []
  }
 ],
 "metadata": {
  "anaconda-cloud": {},
  "kernelspec": {
   "display_name": "Python [default]",
   "language": "python",
   "name": "python2"
  },
  "language_info": {
   "codemirror_mode": {
    "name": "ipython",
    "version": 2
   },
   "file_extension": ".py",
   "mimetype": "text/x-python",
   "name": "python",
   "nbconvert_exporter": "python",
   "pygments_lexer": "ipython2",
   "version": "2.7.12"
  }
 },
 "nbformat": 4,
 "nbformat_minor": 1
}
