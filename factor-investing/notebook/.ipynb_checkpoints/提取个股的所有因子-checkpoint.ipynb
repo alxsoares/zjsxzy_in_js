{
 "cells": [
  {
   "cell_type": "code",
   "execution_count": 1,
   "metadata": {
    "collapsed": true
   },
   "outputs": [],
   "source": [
    "import pandas as pd\n",
    "import sys"
   ]
  },
  {
   "cell_type": "code",
   "execution_count": 2,
   "metadata": {
    "collapsed": true
   },
   "outputs": [],
   "source": [
    "sys.path.append(\"../src/\")"
   ]
  },
  {
   "cell_type": "code",
   "execution_count": 3,
   "metadata": {
    "collapsed": true
   },
   "outputs": [],
   "source": [
    "import value\n",
    "import momentum\n",
    "import defensive"
   ]
  },
  {
   "cell_type": "code",
   "execution_count": 4,
   "metadata": {
    "collapsed": true
   },
   "outputs": [],
   "source": [
    "DATA_DIR = \"D:/Data/stocks/\"\n",
    "FACTOR_DIR = \"D:/Data/factor/\"\n",
    "BY_STOCK_DIR = \"D:/Data/avg_cost/by stock/\""
   ]
  },
  {
   "cell_type": "markdown",
   "metadata": {},
   "source": [
    "# 读取个股历史数据"
   ]
  },
  {
   "cell_type": "code",
   "execution_count": 5,
   "metadata": {
    "collapsed": true
   },
   "outputs": [],
   "source": [
    "code = \"000402.SZ\""
   ]
  },
  {
   "cell_type": "code",
   "execution_count": 6,
   "metadata": {
    "collapsed": true
   },
   "outputs": [],
   "source": [
    "df = pd.read_excel(\"%s/%s.xlsx\"%(DATA_DIR, code), index_col=0)"
   ]
  },
  {
   "cell_type": "code",
   "execution_count": 7,
   "metadata": {
    "collapsed": false
   },
   "outputs": [
    {
     "data": {
      "text/html": [
       "<div>\n",
       "<table border=\"1\" class=\"dataframe\">\n",
       "  <thead>\n",
       "    <tr style=\"text-align: right;\">\n",
       "      <th></th>\n",
       "      <th>amt</th>\n",
       "      <th>close</th>\n",
       "      <th>mkt_freeshares</th>\n",
       "      <th>vwap</th>\n",
       "      <th>turnover</th>\n",
       "    </tr>\n",
       "  </thead>\n",
       "  <tbody>\n",
       "    <tr>\n",
       "      <th>2017-03-13 00:00:00.005</th>\n",
       "      <td>235036730.0</td>\n",
       "      <td>11.17</td>\n",
       "      <td>2.259787e+10</td>\n",
       "      <td>11.150131</td>\n",
       "      <td>0.010401</td>\n",
       "    </tr>\n",
       "    <tr>\n",
       "      <th>2017-03-14 00:00:00.005</th>\n",
       "      <td>315803367.0</td>\n",
       "      <td>11.23</td>\n",
       "      <td>2.271926e+10</td>\n",
       "      <td>11.300031</td>\n",
       "      <td>0.013900</td>\n",
       "    </tr>\n",
       "    <tr>\n",
       "      <th>2017-03-15 00:00:00.005</th>\n",
       "      <td>158381968.0</td>\n",
       "      <td>11.20</td>\n",
       "      <td>2.265857e+10</td>\n",
       "      <td>11.219107</td>\n",
       "      <td>0.006990</td>\n",
       "    </tr>\n",
       "    <tr>\n",
       "      <th>2017-03-16 00:00:00.005</th>\n",
       "      <td>179243478.0</td>\n",
       "      <td>11.25</td>\n",
       "      <td>2.275972e+10</td>\n",
       "      <td>11.239645</td>\n",
       "      <td>0.007875</td>\n",
       "    </tr>\n",
       "    <tr>\n",
       "      <th>2017-03-17 00:00:00.005</th>\n",
       "      <td>295839794.0</td>\n",
       "      <td>11.27</td>\n",
       "      <td>2.280018e+10</td>\n",
       "      <td>11.391370</td>\n",
       "      <td>0.012975</td>\n",
       "    </tr>\n",
       "  </tbody>\n",
       "</table>\n",
       "</div>"
      ],
      "text/plain": [
       "                                 amt  close  mkt_freeshares       vwap  \\\n",
       "2017-03-13 00:00:00.005  235036730.0  11.17    2.259787e+10  11.150131   \n",
       "2017-03-14 00:00:00.005  315803367.0  11.23    2.271926e+10  11.300031   \n",
       "2017-03-15 00:00:00.005  158381968.0  11.20    2.265857e+10  11.219107   \n",
       "2017-03-16 00:00:00.005  179243478.0  11.25    2.275972e+10  11.239645   \n",
       "2017-03-17 00:00:00.005  295839794.0  11.27    2.280018e+10  11.391370   \n",
       "\n",
       "                         turnover  \n",
       "2017-03-13 00:00:00.005  0.010401  \n",
       "2017-03-14 00:00:00.005  0.013900  \n",
       "2017-03-15 00:00:00.005  0.006990  \n",
       "2017-03-16 00:00:00.005  0.007875  \n",
       "2017-03-17 00:00:00.005  0.012975  "
      ]
     },
     "execution_count": 7,
     "metadata": {},
     "output_type": "execute_result"
    }
   ],
   "source": [
    "df.tail()"
   ]
  },
  {
   "cell_type": "code",
   "execution_count": 8,
   "metadata": {
    "collapsed": true
   },
   "outputs": [],
   "source": [
    "start_date = df.index[0].strftime(\"%Y-%m-%d\")\n",
    "end_date = df.index[-1].strftime(\"%Y-%m-%d\")"
   ]
  },
  {
   "cell_type": "markdown",
   "metadata": {},
   "source": [
    "# 得到成本因子\n",
    "1. 100%换手天数\n",
    "2. 平均持仓成本"
   ]
  },
  {
   "cell_type": "code",
   "execution_count": 9,
   "metadata": {
    "collapsed": true
   },
   "outputs": [],
   "source": [
    "temp = pd.read_excel(\"%s/%s.xlsx\"%(BY_STOCK_DIR, code), index_col=0)"
   ]
  },
  {
   "cell_type": "code",
   "execution_count": 10,
   "metadata": {
    "collapsed": false
   },
   "outputs": [],
   "source": [
    "df[\"turnover days\"] = temp[\"turnover days\"]"
   ]
  },
  {
   "cell_type": "code",
   "execution_count": 11,
   "metadata": {
    "collapsed": false
   },
   "outputs": [],
   "source": [
    "df[\"average holding cost\"] = temp[\"avg cost\"]"
   ]
  },
  {
   "cell_type": "markdown",
   "metadata": {},
   "source": [
    "# 得到价值因子\n",
    "1. pe_ttm值\n",
    "2. pe的历史百分位"
   ]
  },
  {
   "cell_type": "code",
   "execution_count": 30,
   "metadata": {
    "collapsed": false
   },
   "outputs": [
    {
     "name": "stdout",
     "output_type": "stream",
     "text": [
      "Welcome to use Wind Quant API for Python (WindPy)!\n",
      "You can use w.menu to help yourself to create commands(WSD,WSS,WST,WSI,WSQ,...)!\n",
      "\n",
      "COPYRIGHT (C) 2016 WIND HONGHUI INFORMATION & TECHKNOLEWDGE CO., LTD. ALL RIGHTS RESERVED.\n",
      "IN NO CIRCUMSTANCE SHALL WIND BE RESPONSIBLE FOR ANY DAMAGES OR LOSSES CAUSED BY USING WIND QUANT API FOR Python.\n"
     ]
    }
   ],
   "source": [
    "pe_ttm = value.get_pe_ratio(code, start_date, end_date)"
   ]
  },
  {
   "cell_type": "code",
   "execution_count": 31,
   "metadata": {
    "collapsed": false
   },
   "outputs": [],
   "source": [
    "df[\"pe_ttm\"] = pe_ttm"
   ]
  },
  {
   "cell_type": "code",
   "execution_count": 37,
   "metadata": {
    "collapsed": false
   },
   "outputs": [],
   "source": [
    "pe_percentile = value.get_pe_ratio_percentile(code, days=121, start_date=start_date, end_date=end_date)"
   ]
  },
  {
   "cell_type": "code",
   "execution_count": 38,
   "metadata": {
    "collapsed": false
   },
   "outputs": [
    {
     "data": {
      "text/plain": [
       "2015-01-05 00:00:00.005         NaN\n",
       "2015-01-06 00:00:00.005         NaN\n",
       "2015-01-07 00:00:00.005         NaN\n",
       "2015-01-08 00:00:00.005         NaN\n",
       "2015-01-09 00:00:00.005         NaN\n",
       "2015-01-12 00:00:00.005         NaN\n",
       "2015-01-13 00:00:00.005         NaN\n",
       "2015-01-14 00:00:00.005         NaN\n",
       "2015-01-15 00:00:00.005         NaN\n",
       "2015-01-16 00:00:00.005         NaN\n",
       "2015-01-19 00:00:00.005         NaN\n",
       "2015-01-20 00:00:00.005         NaN\n",
       "2015-01-21 00:00:00.005         NaN\n",
       "2015-01-22 00:00:00.005         NaN\n",
       "2015-01-23 00:00:00.005         NaN\n",
       "2015-01-26 00:00:00.005         NaN\n",
       "2015-01-27 00:00:00.005         NaN\n",
       "2015-01-28 00:00:00.005         NaN\n",
       "2015-01-29 00:00:00.005         NaN\n",
       "2015-01-30 00:00:00.005         NaN\n",
       "2015-02-02 00:00:00.005         NaN\n",
       "2015-02-03 00:00:00.005         NaN\n",
       "2015-02-04 00:00:00.005         NaN\n",
       "2015-02-05 00:00:00.005         NaN\n",
       "2015-02-06 00:00:00.005         NaN\n",
       "2015-02-09 00:00:00.005         NaN\n",
       "2015-02-10 00:00:00.005         NaN\n",
       "2015-02-11 00:00:00.005         NaN\n",
       "2015-02-12 00:00:00.005         NaN\n",
       "2015-02-13 00:00:00.005         NaN\n",
       "                             ...   \n",
       "2017-02-06 00:00:00.005    0.318182\n",
       "2017-02-07 00:00:00.005    0.483471\n",
       "2017-02-08 00:00:00.005    0.479339\n",
       "2017-02-09 00:00:00.005    0.504132\n",
       "2017-02-10 00:00:00.005    0.495868\n",
       "2017-02-13 00:00:00.005    0.504132\n",
       "2017-02-14 00:00:00.005    0.487603\n",
       "2017-02-15 00:00:00.005    0.458678\n",
       "2017-02-16 00:00:00.005    0.471074\n",
       "2017-02-17 00:00:00.005    0.334711\n",
       "2017-02-20 00:00:00.005    0.528926\n",
       "2017-02-21 00:00:00.005    0.561983\n",
       "2017-02-22 00:00:00.005    0.694215\n",
       "2017-02-23 00:00:00.005    0.557851\n",
       "2017-02-24 00:00:00.005    0.578512\n",
       "2017-02-27 00:00:00.005    0.504132\n",
       "2017-02-28 00:00:00.005    0.537190\n",
       "2017-03-01 00:00:00.005    0.553719\n",
       "2017-03-02 00:00:00.005    0.545455\n",
       "2017-03-03 00:00:00.005    0.491736\n",
       "2017-03-06 00:00:00.005    0.549587\n",
       "2017-03-07 00:00:00.005    0.553719\n",
       "2017-03-08 00:00:00.005    0.611570\n",
       "2017-03-09 00:00:00.005    0.528926\n",
       "2017-03-10 00:00:00.005    0.611570\n",
       "2017-03-13 00:00:00.005    0.764463\n",
       "2017-03-14 00:00:00.005    0.826446\n",
       "2017-03-15 00:00:00.005    0.776860\n",
       "2017-03-16 00:00:00.005    0.834711\n",
       "2017-03-17 00:00:00.005    0.847107\n",
       "Name: pe_percent, dtype: float64"
      ]
     },
     "execution_count": 38,
     "metadata": {},
     "output_type": "execute_result"
    }
   ],
   "source": [
    "pe_percentile"
   ]
  },
  {
   "cell_type": "code",
   "execution_count": 39,
   "metadata": {
    "collapsed": false
   },
   "outputs": [],
   "source": [
    "df[\"pe_percentile\"] = pe_percentile"
   ]
  },
  {
   "cell_type": "markdown",
   "metadata": {},
   "source": [
    "# 得到动量因子\n",
    "1. 5日、23日、61日、120日、243日收益率\n",
    "2. 5日、23日、61日、120日、243日平均收益率"
   ]
  },
  {
   "cell_type": "code",
   "execution_count": 12,
   "metadata": {
    "collapsed": false
   },
   "outputs": [
    {
     "name": "stdout",
     "output_type": "stream",
     "text": [
      "                                 amt  close  mkt_freeshares       vwap  \\\n",
      "2017-03-13 00:00:00.005  235036730.0  11.17    2.259787e+10  11.150131   \n",
      "2017-03-14 00:00:00.005  315803367.0  11.23    2.271926e+10  11.300031   \n",
      "2017-03-15 00:00:00.005  158381968.0  11.20    2.265857e+10  11.219107   \n",
      "2017-03-16 00:00:00.005  179243478.0  11.25    2.275972e+10  11.239645   \n",
      "2017-03-17 00:00:00.005  295839794.0  11.27    2.280018e+10  11.391370   \n",
      "\n",
      "                         turnover  5-day return  \n",
      "2017-03-13 00:00:00.005  0.010401      0.026654  \n",
      "2017-03-14 00:00:00.005  0.013900      0.032169  \n",
      "2017-03-15 00:00:00.005  0.006990      0.019108  \n",
      "2017-03-16 00:00:00.005  0.007875      0.035912  \n",
      "2017-03-17 00:00:00.005  0.012975      0.026412  \n"
     ]
    }
   ],
   "source": [
    "ret5 = momentum.get_k_day_return(code, days=5, start_date=start_date, end_date=end_date)"
   ]
  },
  {
   "cell_type": "code",
   "execution_count": 13,
   "metadata": {
    "collapsed": false
   },
   "outputs": [],
   "source": [
    "df[ret5.name] = ret5"
   ]
  },
  {
   "cell_type": "code",
   "execution_count": 14,
   "metadata": {
    "collapsed": false
   },
   "outputs": [
    {
     "name": "stdout",
     "output_type": "stream",
     "text": [
      "                                 amt  close  mkt_freeshares       vwap  \\\n",
      "2017-03-13 00:00:00.005  235036730.0  11.17    2.259787e+10  11.150131   \n",
      "2017-03-14 00:00:00.005  315803367.0  11.23    2.271926e+10  11.300031   \n",
      "2017-03-15 00:00:00.005  158381968.0  11.20    2.265857e+10  11.219107   \n",
      "2017-03-16 00:00:00.005  179243478.0  11.25    2.275972e+10  11.239645   \n",
      "2017-03-17 00:00:00.005  295839794.0  11.27    2.280018e+10  11.391370   \n",
      "\n",
      "                         turnover  23-day return  \n",
      "2017-03-13 00:00:00.005  0.010401       0.047842  \n",
      "2017-03-14 00:00:00.005  0.013900       0.035978  \n",
      "2017-03-15 00:00:00.005  0.006990       0.039926  \n",
      "2017-03-16 00:00:00.005  0.007875       0.034959  \n",
      "2017-03-17 00:00:00.005  0.012975       0.041590  \n"
     ]
    }
   ],
   "source": [
    "ret23 = momentum.get_k_day_return(code, days=23, start_date=start_date, end_date=end_date)"
   ]
  },
  {
   "cell_type": "code",
   "execution_count": 15,
   "metadata": {
    "collapsed": true
   },
   "outputs": [],
   "source": [
    "df[ret23.name] = ret23"
   ]
  },
  {
   "cell_type": "code",
   "execution_count": 17,
   "metadata": {
    "collapsed": false
   },
   "outputs": [
    {
     "name": "stdout",
     "output_type": "stream",
     "text": [
      "                                 amt  close  mkt_freeshares       vwap  \\\n",
      "2017-03-13 00:00:00.005  235036730.0  11.17    2.259787e+10  11.150131   \n",
      "2017-03-14 00:00:00.005  315803367.0  11.23    2.271926e+10  11.300031   \n",
      "2017-03-15 00:00:00.005  158381968.0  11.20    2.265857e+10  11.219107   \n",
      "2017-03-16 00:00:00.005  179243478.0  11.25    2.275972e+10  11.239645   \n",
      "2017-03-17 00:00:00.005  295839794.0  11.27    2.280018e+10  11.391370   \n",
      "\n",
      "                         turnover  61-day return  \n",
      "2017-03-13 00:00:00.005  0.010401       0.000896  \n",
      "2017-03-14 00:00:00.005  0.013900       0.000891  \n",
      "2017-03-15 00:00:00.005  0.006990       0.060606  \n",
      "2017-03-16 00:00:00.005  0.007875       0.052385  \n",
      "2017-03-17 00:00:00.005  0.012975       0.079502  \n"
     ]
    }
   ],
   "source": [
    "ret61 = momentum.get_k_day_return(code, days=61, start_date=start_date)"
   ]
  },
  {
   "cell_type": "code",
   "execution_count": 18,
   "metadata": {
    "collapsed": true
   },
   "outputs": [],
   "source": [
    "df[ret61.name] = ret61"
   ]
  },
  {
   "cell_type": "code",
   "execution_count": 19,
   "metadata": {
    "collapsed": false
   },
   "outputs": [
    {
     "name": "stdout",
     "output_type": "stream",
     "text": [
      "                                 amt  close  mkt_freeshares       vwap  \\\n",
      "2017-03-13 00:00:00.005  235036730.0  11.17    2.259787e+10  11.150131   \n",
      "2017-03-14 00:00:00.005  315803367.0  11.23    2.271926e+10  11.300031   \n",
      "2017-03-15 00:00:00.005  158381968.0  11.20    2.265857e+10  11.219107   \n",
      "2017-03-16 00:00:00.005  179243478.0  11.25    2.275972e+10  11.239645   \n",
      "2017-03-17 00:00:00.005  295839794.0  11.27    2.280018e+10  11.391370   \n",
      "\n",
      "                         turnover  120-day return  \n",
      "2017-03-13 00:00:00.005  0.010401       -0.046114  \n",
      "2017-03-14 00:00:00.005  0.013900       -0.038527  \n",
      "2017-03-15 00:00:00.005  0.006990       -0.022688  \n",
      "2017-03-16 00:00:00.005  0.007875        0.008065  \n",
      "2017-03-17 00:00:00.005  0.012975        0.005352  \n"
     ]
    }
   ],
   "source": [
    "ret120 = momentum.get_k_day_return(code, days=120, start_date=start_date)"
   ]
  },
  {
   "cell_type": "code",
   "execution_count": 20,
   "metadata": {
    "collapsed": true
   },
   "outputs": [],
   "source": [
    "df[ret120.name] = ret120"
   ]
  },
  {
   "cell_type": "code",
   "execution_count": 21,
   "metadata": {
    "collapsed": false
   },
   "outputs": [
    {
     "name": "stdout",
     "output_type": "stream",
     "text": [
      "                                 amt  close  mkt_freeshares       vwap  \\\n",
      "2017-03-13 00:00:00.005  235036730.0  11.17    2.259787e+10  11.150131   \n",
      "2017-03-14 00:00:00.005  315803367.0  11.23    2.271926e+10  11.300031   \n",
      "2017-03-15 00:00:00.005  158381968.0  11.20    2.265857e+10  11.219107   \n",
      "2017-03-16 00:00:00.005  179243478.0  11.25    2.275972e+10  11.239645   \n",
      "2017-03-17 00:00:00.005  295839794.0  11.27    2.280018e+10  11.391370   \n",
      "\n",
      "                         turnover  120-day return  \n",
      "2017-03-13 00:00:00.005  0.010401       -0.046114  \n",
      "2017-03-14 00:00:00.005  0.013900       -0.038527  \n",
      "2017-03-15 00:00:00.005  0.006990       -0.022688  \n",
      "2017-03-16 00:00:00.005  0.007875        0.008065  \n",
      "2017-03-17 00:00:00.005  0.012975        0.005352  \n"
     ]
    }
   ],
   "source": [
    "ret243 = momentum.get_k_day_return(code, days=120, start_date=start_date)"
   ]
  },
  {
   "cell_type": "code",
   "execution_count": 22,
   "metadata": {
    "collapsed": true
   },
   "outputs": [],
   "source": [
    "df[ret243.name] = ret243"
   ]
  },
  {
   "cell_type": "code",
   "execution_count": 24,
   "metadata": {
    "collapsed": false
   },
   "outputs": [],
   "source": [
    "ret5 = momentum.get_k_day_average_return(code, days=5, start_date=start_date, end_date=end_date)\n",
    "ret23 = momentum.get_k_day_average_return(code, days=23, start_date=start_date, end_date=end_date)\n",
    "ret61 = momentum.get_k_day_average_return(code, days=61, start_date=start_date, end_date=end_date)\n",
    "ret120 = momentum.get_k_day_average_return(code, days=120, start_date=start_date, end_date=end_date)\n",
    "ret243 = momentum.get_k_day_average_return(code, days=243, start_date=start_date, end_date=end_date)"
   ]
  },
  {
   "cell_type": "code",
   "execution_count": 25,
   "metadata": {
    "collapsed": true
   },
   "outputs": [],
   "source": [
    "df[ret5.name] = ret5\n",
    "df[ret23.name] = ret23\n",
    "df[ret61.name] = ret61\n",
    "df[ret120.name] = ret120\n",
    "df[ret243.name] = ret243"
   ]
  },
  {
   "cell_type": "code",
   "execution_count": 26,
   "metadata": {
    "collapsed": false
   },
   "outputs": [
    {
     "data": {
      "text/html": [
       "<div>\n",
       "<table border=\"1\" class=\"dataframe\">\n",
       "  <thead>\n",
       "    <tr style=\"text-align: right;\">\n",
       "      <th></th>\n",
       "      <th>amt</th>\n",
       "      <th>close</th>\n",
       "      <th>mkt_freeshares</th>\n",
       "      <th>vwap</th>\n",
       "      <th>turnover</th>\n",
       "      <th>turnover days</th>\n",
       "      <th>average holding cost</th>\n",
       "      <th>5-day return</th>\n",
       "      <th>23-day return</th>\n",
       "      <th>61-day return</th>\n",
       "      <th>120-day return</th>\n",
       "      <th>5-day average return</th>\n",
       "      <th>23-day average return</th>\n",
       "      <th>61-day average return</th>\n",
       "      <th>120-day average return</th>\n",
       "      <th>243-day average return</th>\n",
       "    </tr>\n",
       "  </thead>\n",
       "  <tbody>\n",
       "    <tr>\n",
       "      <th>2017-03-13 00:00:00.005</th>\n",
       "      <td>235036730.0</td>\n",
       "      <td>11.17</td>\n",
       "      <td>2.259787e+10</td>\n",
       "      <td>11.150131</td>\n",
       "      <td>0.010401</td>\n",
       "      <td>154.0</td>\n",
       "      <td>11.300715</td>\n",
       "      <td>0.026654</td>\n",
       "      <td>0.047842</td>\n",
       "      <td>0.000896</td>\n",
       "      <td>-0.046114</td>\n",
       "      <td>0.005327</td>\n",
       "      <td>0.002118</td>\n",
       "      <td>0.000118</td>\n",
       "      <td>-0.000236</td>\n",
       "      <td>0.001241</td>\n",
       "    </tr>\n",
       "    <tr>\n",
       "      <th>2017-03-14 00:00:00.005</th>\n",
       "      <td>315803367.0</td>\n",
       "      <td>11.23</td>\n",
       "      <td>2.271926e+10</td>\n",
       "      <td>11.300031</td>\n",
       "      <td>0.013900</td>\n",
       "      <td>154.0</td>\n",
       "      <td>11.305428</td>\n",
       "      <td>0.032169</td>\n",
       "      <td>0.035978</td>\n",
       "      <td>0.000891</td>\n",
       "      <td>-0.038527</td>\n",
       "      <td>0.006401</td>\n",
       "      <td>0.001617</td>\n",
       "      <td>0.000118</td>\n",
       "      <td>-0.000170</td>\n",
       "      <td>0.001321</td>\n",
       "    </tr>\n",
       "    <tr>\n",
       "      <th>2017-03-15 00:00:00.005</th>\n",
       "      <td>158381968.0</td>\n",
       "      <td>11.20</td>\n",
       "      <td>2.265857e+10</td>\n",
       "      <td>11.219107</td>\n",
       "      <td>0.006990</td>\n",
       "      <td>155.0</td>\n",
       "      <td>11.304842</td>\n",
       "      <td>0.019108</td>\n",
       "      <td>0.039926</td>\n",
       "      <td>0.060606</td>\n",
       "      <td>-0.022688</td>\n",
       "      <td>0.003845</td>\n",
       "      <td>0.001782</td>\n",
       "      <td>0.001039</td>\n",
       "      <td>-0.000035</td>\n",
       "      <td>0.001329</td>\n",
       "    </tr>\n",
       "    <tr>\n",
       "      <th>2017-03-16 00:00:00.005</th>\n",
       "      <td>179243478.0</td>\n",
       "      <td>11.25</td>\n",
       "      <td>2.275972e+10</td>\n",
       "      <td>11.239645</td>\n",
       "      <td>0.007875</td>\n",
       "      <td>155.0</td>\n",
       "      <td>11.304691</td>\n",
       "      <td>0.035912</td>\n",
       "      <td>0.034959</td>\n",
       "      <td>0.052385</td>\n",
       "      <td>0.008065</td>\n",
       "      <td>0.007104</td>\n",
       "      <td>0.001572</td>\n",
       "      <td>0.000910</td>\n",
       "      <td>0.000220</td>\n",
       "      <td>0.001264</td>\n",
       "    </tr>\n",
       "    <tr>\n",
       "      <th>2017-03-17 00:00:00.005</th>\n",
       "      <td>295839794.0</td>\n",
       "      <td>11.27</td>\n",
       "      <td>2.280018e+10</td>\n",
       "      <td>11.391370</td>\n",
       "      <td>0.012975</td>\n",
       "      <td>155.0</td>\n",
       "      <td>11.308124</td>\n",
       "      <td>0.026412</td>\n",
       "      <td>0.041590</td>\n",
       "      <td>0.079502</td>\n",
       "      <td>0.005352</td>\n",
       "      <td>0.005249</td>\n",
       "      <td>0.001849</td>\n",
       "      <td>0.001323</td>\n",
       "      <td>0.000198</td>\n",
       "      <td>0.001173</td>\n",
       "    </tr>\n",
       "  </tbody>\n",
       "</table>\n",
       "</div>"
      ],
      "text/plain": [
       "                                 amt  close  mkt_freeshares       vwap  \\\n",
       "2017-03-13 00:00:00.005  235036730.0  11.17    2.259787e+10  11.150131   \n",
       "2017-03-14 00:00:00.005  315803367.0  11.23    2.271926e+10  11.300031   \n",
       "2017-03-15 00:00:00.005  158381968.0  11.20    2.265857e+10  11.219107   \n",
       "2017-03-16 00:00:00.005  179243478.0  11.25    2.275972e+10  11.239645   \n",
       "2017-03-17 00:00:00.005  295839794.0  11.27    2.280018e+10  11.391370   \n",
       "\n",
       "                         turnover  turnover days  average holding cost  \\\n",
       "2017-03-13 00:00:00.005  0.010401          154.0             11.300715   \n",
       "2017-03-14 00:00:00.005  0.013900          154.0             11.305428   \n",
       "2017-03-15 00:00:00.005  0.006990          155.0             11.304842   \n",
       "2017-03-16 00:00:00.005  0.007875          155.0             11.304691   \n",
       "2017-03-17 00:00:00.005  0.012975          155.0             11.308124   \n",
       "\n",
       "                         5-day return  23-day return  61-day return  \\\n",
       "2017-03-13 00:00:00.005      0.026654       0.047842       0.000896   \n",
       "2017-03-14 00:00:00.005      0.032169       0.035978       0.000891   \n",
       "2017-03-15 00:00:00.005      0.019108       0.039926       0.060606   \n",
       "2017-03-16 00:00:00.005      0.035912       0.034959       0.052385   \n",
       "2017-03-17 00:00:00.005      0.026412       0.041590       0.079502   \n",
       "\n",
       "                         120-day return  5-day average return  \\\n",
       "2017-03-13 00:00:00.005       -0.046114              0.005327   \n",
       "2017-03-14 00:00:00.005       -0.038527              0.006401   \n",
       "2017-03-15 00:00:00.005       -0.022688              0.003845   \n",
       "2017-03-16 00:00:00.005        0.008065              0.007104   \n",
       "2017-03-17 00:00:00.005        0.005352              0.005249   \n",
       "\n",
       "                         23-day average return  61-day average return  \\\n",
       "2017-03-13 00:00:00.005               0.002118               0.000118   \n",
       "2017-03-14 00:00:00.005               0.001617               0.000118   \n",
       "2017-03-15 00:00:00.005               0.001782               0.001039   \n",
       "2017-03-16 00:00:00.005               0.001572               0.000910   \n",
       "2017-03-17 00:00:00.005               0.001849               0.001323   \n",
       "\n",
       "                         120-day average return  243-day average return  \n",
       "2017-03-13 00:00:00.005               -0.000236                0.001241  \n",
       "2017-03-14 00:00:00.005               -0.000170                0.001321  \n",
       "2017-03-15 00:00:00.005               -0.000035                0.001329  \n",
       "2017-03-16 00:00:00.005                0.000220                0.001264  \n",
       "2017-03-17 00:00:00.005                0.000198                0.001173  "
      ]
     },
     "execution_count": 26,
     "metadata": {},
     "output_type": "execute_result"
    }
   ],
   "source": [
    "df.tail()"
   ]
  },
  {
   "cell_type": "markdown",
   "metadata": {},
   "source": [
    "# 得到防御因子\n",
    "1. 5日、23日、61日、120日、243日年化波动率"
   ]
  },
  {
   "cell_type": "code",
   "execution_count": 27,
   "metadata": {
    "collapsed": true
   },
   "outputs": [],
   "source": [
    "vol5 = defensive.get_k_day_volatility(code, days=5, start_date=start_date)\n",
    "vol23 = defensive.get_k_day_volatility(code, days=23, start_date=start_date)\n",
    "vol61 = defensive.get_k_day_volatility(code, days=61, start_date=start_date)\n",
    "vol120 = defensive.get_k_day_volatility(code, days=120, start_date=start_date)\n",
    "vol243 = defensive.get_k_day_volatility(code, days=243, start_date=start_date)"
   ]
  },
  {
   "cell_type": "code",
   "execution_count": 28,
   "metadata": {
    "collapsed": true
   },
   "outputs": [],
   "source": [
    "df[vol5.name] = vol5\n",
    "df[vol23.name] = vol23\n",
    "df[vol61.name] = vol61\n",
    "df[vol120.name] = vol120\n",
    "df[vol243.name] = vol243"
   ]
  },
  {
   "cell_type": "code",
   "execution_count": 29,
   "metadata": {
    "collapsed": false
   },
   "outputs": [
    {
     "data": {
      "text/html": [
       "<div>\n",
       "<table border=\"1\" class=\"dataframe\">\n",
       "  <thead>\n",
       "    <tr style=\"text-align: right;\">\n",
       "      <th></th>\n",
       "      <th>amt</th>\n",
       "      <th>close</th>\n",
       "      <th>mkt_freeshares</th>\n",
       "      <th>vwap</th>\n",
       "      <th>turnover</th>\n",
       "      <th>turnover days</th>\n",
       "      <th>average holding cost</th>\n",
       "      <th>5-day return</th>\n",
       "      <th>23-day return</th>\n",
       "      <th>61-day return</th>\n",
       "      <th>...</th>\n",
       "      <th>5-day average return</th>\n",
       "      <th>23-day average return</th>\n",
       "      <th>61-day average return</th>\n",
       "      <th>120-day average return</th>\n",
       "      <th>243-day average return</th>\n",
       "      <th>5-day volatility</th>\n",
       "      <th>23-day volatility</th>\n",
       "      <th>61-day volatility</th>\n",
       "      <th>120-day volatility</th>\n",
       "      <th>243-day volatility</th>\n",
       "    </tr>\n",
       "  </thead>\n",
       "  <tbody>\n",
       "    <tr>\n",
       "      <th>2017-03-13 00:00:00.005</th>\n",
       "      <td>235036730.0</td>\n",
       "      <td>11.17</td>\n",
       "      <td>2.259787e+10</td>\n",
       "      <td>11.150131</td>\n",
       "      <td>0.010401</td>\n",
       "      <td>154.0</td>\n",
       "      <td>11.300715</td>\n",
       "      <td>0.026654</td>\n",
       "      <td>0.047842</td>\n",
       "      <td>0.000896</td>\n",
       "      <td>...</td>\n",
       "      <td>0.005327</td>\n",
       "      <td>0.002118</td>\n",
       "      <td>0.000118</td>\n",
       "      <td>-0.000236</td>\n",
       "      <td>0.001241</td>\n",
       "      <td>0.178041</td>\n",
       "      <td>0.206624</td>\n",
       "      <td>0.225346</td>\n",
       "      <td>0.277038</td>\n",
       "      <td>0.347006</td>\n",
       "    </tr>\n",
       "    <tr>\n",
       "      <th>2017-03-14 00:00:00.005</th>\n",
       "      <td>315803367.0</td>\n",
       "      <td>11.23</td>\n",
       "      <td>2.271926e+10</td>\n",
       "      <td>11.300031</td>\n",
       "      <td>0.013900</td>\n",
       "      <td>154.0</td>\n",
       "      <td>11.305428</td>\n",
       "      <td>0.032169</td>\n",
       "      <td>0.035978</td>\n",
       "      <td>0.000891</td>\n",
       "      <td>...</td>\n",
       "      <td>0.006401</td>\n",
       "      <td>0.001617</td>\n",
       "      <td>0.000118</td>\n",
       "      <td>-0.000170</td>\n",
       "      <td>0.001321</td>\n",
       "      <td>0.172117</td>\n",
       "      <td>0.200843</td>\n",
       "      <td>0.225346</td>\n",
       "      <td>0.277132</td>\n",
       "      <td>0.346682</td>\n",
       "    </tr>\n",
       "    <tr>\n",
       "      <th>2017-03-15 00:00:00.005</th>\n",
       "      <td>158381968.0</td>\n",
       "      <td>11.20</td>\n",
       "      <td>2.265857e+10</td>\n",
       "      <td>11.219107</td>\n",
       "      <td>0.006990</td>\n",
       "      <td>155.0</td>\n",
       "      <td>11.304842</td>\n",
       "      <td>0.019108</td>\n",
       "      <td>0.039926</td>\n",
       "      <td>0.060606</td>\n",
       "      <td>...</td>\n",
       "      <td>0.003845</td>\n",
       "      <td>0.001782</td>\n",
       "      <td>0.001039</td>\n",
       "      <td>-0.000035</td>\n",
       "      <td>0.001329</td>\n",
       "      <td>0.178337</td>\n",
       "      <td>0.199535</td>\n",
       "      <td>0.191135</td>\n",
       "      <td>0.275860</td>\n",
       "      <td>0.346657</td>\n",
       "    </tr>\n",
       "    <tr>\n",
       "      <th>2017-03-16 00:00:00.005</th>\n",
       "      <td>179243478.0</td>\n",
       "      <td>11.25</td>\n",
       "      <td>2.275972e+10</td>\n",
       "      <td>11.239645</td>\n",
       "      <td>0.007875</td>\n",
       "      <td>155.0</td>\n",
       "      <td>11.304691</td>\n",
       "      <td>0.035912</td>\n",
       "      <td>0.034959</td>\n",
       "      <td>0.052385</td>\n",
       "      <td>...</td>\n",
       "      <td>0.007104</td>\n",
       "      <td>0.001572</td>\n",
       "      <td>0.000910</td>\n",
       "      <td>0.000220</td>\n",
       "      <td>0.001264</td>\n",
       "      <td>0.116950</td>\n",
       "      <td>0.198143</td>\n",
       "      <td>0.189899</td>\n",
       "      <td>0.273366</td>\n",
       "      <td>0.346159</td>\n",
       "    </tr>\n",
       "    <tr>\n",
       "      <th>2017-03-17 00:00:00.005</th>\n",
       "      <td>295839794.0</td>\n",
       "      <td>11.27</td>\n",
       "      <td>2.280018e+10</td>\n",
       "      <td>11.391370</td>\n",
       "      <td>0.012975</td>\n",
       "      <td>155.0</td>\n",
       "      <td>11.308124</td>\n",
       "      <td>0.026412</td>\n",
       "      <td>0.041590</td>\n",
       "      <td>0.079502</td>\n",
       "      <td>...</td>\n",
       "      <td>0.005249</td>\n",
       "      <td>0.001849</td>\n",
       "      <td>0.001323</td>\n",
       "      <td>0.000198</td>\n",
       "      <td>0.001173</td>\n",
       "      <td>0.115802</td>\n",
       "      <td>0.197030</td>\n",
       "      <td>0.183390</td>\n",
       "      <td>0.273307</td>\n",
       "      <td>0.345402</td>\n",
       "    </tr>\n",
       "  </tbody>\n",
       "</table>\n",
       "<p>5 rows × 21 columns</p>\n",
       "</div>"
      ],
      "text/plain": [
       "                                 amt  close  mkt_freeshares       vwap  \\\n",
       "2017-03-13 00:00:00.005  235036730.0  11.17    2.259787e+10  11.150131   \n",
       "2017-03-14 00:00:00.005  315803367.0  11.23    2.271926e+10  11.300031   \n",
       "2017-03-15 00:00:00.005  158381968.0  11.20    2.265857e+10  11.219107   \n",
       "2017-03-16 00:00:00.005  179243478.0  11.25    2.275972e+10  11.239645   \n",
       "2017-03-17 00:00:00.005  295839794.0  11.27    2.280018e+10  11.391370   \n",
       "\n",
       "                         turnover  turnover days  average holding cost  \\\n",
       "2017-03-13 00:00:00.005  0.010401          154.0             11.300715   \n",
       "2017-03-14 00:00:00.005  0.013900          154.0             11.305428   \n",
       "2017-03-15 00:00:00.005  0.006990          155.0             11.304842   \n",
       "2017-03-16 00:00:00.005  0.007875          155.0             11.304691   \n",
       "2017-03-17 00:00:00.005  0.012975          155.0             11.308124   \n",
       "\n",
       "                         5-day return  23-day return  61-day return  \\\n",
       "2017-03-13 00:00:00.005      0.026654       0.047842       0.000896   \n",
       "2017-03-14 00:00:00.005      0.032169       0.035978       0.000891   \n",
       "2017-03-15 00:00:00.005      0.019108       0.039926       0.060606   \n",
       "2017-03-16 00:00:00.005      0.035912       0.034959       0.052385   \n",
       "2017-03-17 00:00:00.005      0.026412       0.041590       0.079502   \n",
       "\n",
       "                                ...          5-day average return  \\\n",
       "2017-03-13 00:00:00.005         ...                      0.005327   \n",
       "2017-03-14 00:00:00.005         ...                      0.006401   \n",
       "2017-03-15 00:00:00.005         ...                      0.003845   \n",
       "2017-03-16 00:00:00.005         ...                      0.007104   \n",
       "2017-03-17 00:00:00.005         ...                      0.005249   \n",
       "\n",
       "                         23-day average return  61-day average return  \\\n",
       "2017-03-13 00:00:00.005               0.002118               0.000118   \n",
       "2017-03-14 00:00:00.005               0.001617               0.000118   \n",
       "2017-03-15 00:00:00.005               0.001782               0.001039   \n",
       "2017-03-16 00:00:00.005               0.001572               0.000910   \n",
       "2017-03-17 00:00:00.005               0.001849               0.001323   \n",
       "\n",
       "                         120-day average return  243-day average return  \\\n",
       "2017-03-13 00:00:00.005               -0.000236                0.001241   \n",
       "2017-03-14 00:00:00.005               -0.000170                0.001321   \n",
       "2017-03-15 00:00:00.005               -0.000035                0.001329   \n",
       "2017-03-16 00:00:00.005                0.000220                0.001264   \n",
       "2017-03-17 00:00:00.005                0.000198                0.001173   \n",
       "\n",
       "                         5-day volatility  23-day volatility  \\\n",
       "2017-03-13 00:00:00.005          0.178041           0.206624   \n",
       "2017-03-14 00:00:00.005          0.172117           0.200843   \n",
       "2017-03-15 00:00:00.005          0.178337           0.199535   \n",
       "2017-03-16 00:00:00.005          0.116950           0.198143   \n",
       "2017-03-17 00:00:00.005          0.115802           0.197030   \n",
       "\n",
       "                         61-day volatility  120-day volatility  \\\n",
       "2017-03-13 00:00:00.005           0.225346            0.277038   \n",
       "2017-03-14 00:00:00.005           0.225346            0.277132   \n",
       "2017-03-15 00:00:00.005           0.191135            0.275860   \n",
       "2017-03-16 00:00:00.005           0.189899            0.273366   \n",
       "2017-03-17 00:00:00.005           0.183390            0.273307   \n",
       "\n",
       "                         243-day volatility  \n",
       "2017-03-13 00:00:00.005            0.347006  \n",
       "2017-03-14 00:00:00.005            0.346682  \n",
       "2017-03-15 00:00:00.005            0.346657  \n",
       "2017-03-16 00:00:00.005            0.346159  \n",
       "2017-03-17 00:00:00.005            0.345402  \n",
       "\n",
       "[5 rows x 21 columns]"
      ]
     },
     "execution_count": 29,
     "metadata": {},
     "output_type": "execute_result"
    }
   ],
   "source": [
    "df.tail()"
   ]
  },
  {
   "cell_type": "markdown",
   "metadata": {},
   "source": [
    "# 输出到文件"
   ]
  },
  {
   "cell_type": "code",
   "execution_count": 41,
   "metadata": {
    "collapsed": false
   },
   "outputs": [],
   "source": [
    "df.to_excel(\"%s/%s.xlsx\"%(FACTOR_DIR, code))"
   ]
  },
  {
   "cell_type": "code",
   "execution_count": null,
   "metadata": {
    "collapsed": true
   },
   "outputs": [],
   "source": []
  }
 ],
 "metadata": {
  "anaconda-cloud": {},
  "kernelspec": {
   "display_name": "Python [default]",
   "language": "python",
   "name": "python2"
  },
  "language_info": {
   "codemirror_mode": {
    "name": "ipython",
    "version": 2
   },
   "file_extension": ".py",
   "mimetype": "text/x-python",
   "name": "python",
   "nbconvert_exporter": "python",
   "pygments_lexer": "ipython2",
   "version": "2.7.12"
  }
 },
 "nbformat": 4,
 "nbformat_minor": 1
}
