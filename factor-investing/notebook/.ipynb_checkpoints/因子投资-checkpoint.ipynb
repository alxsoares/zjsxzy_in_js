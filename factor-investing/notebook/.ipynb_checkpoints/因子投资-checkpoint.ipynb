{
 "cells": [
  {
   "cell_type": "code",
   "execution_count": 1,
   "metadata": {
    "collapsed": true
   },
   "outputs": [],
   "source": [
    "import sys\n",
    "import matplotlib.pyplot as plt\n",
    "import seaborn as sns\n",
    "import pandas as pd\n",
    "import numpy as np\n",
    "from sklearn import linear_model\n",
    "from sklearn.preprocessing import Imputer\n",
    "%matplotlib inline"
   ]
  },
  {
   "cell_type": "code",
   "execution_count": 2,
   "metadata": {
    "collapsed": true
   },
   "outputs": [],
   "source": [
    "sys.path.append(\"../src/\")"
   ]
  },
  {
   "cell_type": "code",
   "execution_count": 3,
   "metadata": {
    "collapsed": false
   },
   "outputs": [],
   "source": [
    "import factors\n",
    "import const\n",
    "import data"
   ]
  },
  {
   "cell_type": "code",
   "execution_count": 4,
   "metadata": {
    "collapsed": true
   },
   "outputs": [],
   "source": [
    "sns.set_style(\"darkgrid\")"
   ]
  },
  {
   "cell_type": "markdown",
   "metadata": {},
   "source": [
    "# 读取资产"
   ]
  },
  {
   "cell_type": "code",
   "execution_count": 5,
   "metadata": {
    "collapsed": true
   },
   "outputs": [],
   "source": [
    "df = factors.read_asset_set(const.STOCK_FILE)"
   ]
  },
  {
   "cell_type": "markdown",
   "metadata": {},
   "source": [
    "# 因子"
   ]
  },
  {
   "cell_type": "code",
   "execution_count": 6,
   "metadata": {
    "collapsed": true
   },
   "outputs": [],
   "source": [
    "factor_list = [\"pe_percent\"]\n",
    "weights = [1]"
   ]
  },
  {
   "cell_type": "code",
   "execution_count": 7,
   "metadata": {
    "collapsed": true
   },
   "outputs": [],
   "source": [
    "factor_list = [f for (f, w) in zip(factor_list, weights) if w != 0]\n",
    "weights = [w for w in weights if w != 0]"
   ]
  },
  {
   "cell_type": "code",
   "execution_count": 8,
   "metadata": {
    "collapsed": false
   },
   "outputs": [
    {
     "data": {
      "text/plain": [
       "['pe_percent']"
      ]
     },
     "execution_count": 8,
     "metadata": {},
     "output_type": "execute_result"
    }
   ],
   "source": [
    "factor_list"
   ]
  },
  {
   "cell_type": "markdown",
   "metadata": {},
   "source": [
    "# 得到因子和收益率panel"
   ]
  },
  {
   "cell_type": "code",
   "execution_count": 9,
   "metadata": {
    "collapsed": false
   },
   "outputs": [
    {
     "name": "stdout",
     "output_type": "stream",
     "text": [
      "getting asset factor data...\n"
     ]
    }
   ],
   "source": [
    "pnl = factors.get_asset_factor_data(df, factor_list, frequency='m')"
   ]
  },
  {
   "cell_type": "markdown",
   "metadata": {
    "collapsed": false
   },
   "source": [
    "# 得到打分法因子预测"
   ]
  },
  {
   "cell_type": "code",
   "execution_count": 10,
   "metadata": {
    "collapsed": false
   },
   "outputs": [
    {
     "name": "stdout",
     "output_type": "stream",
     "text": [
      "getting score return\n"
     ]
    },
    {
     "name": "stderr",
     "output_type": "stream",
     "text": [
      "../src/factors.py:88: RuntimeWarning: invalid value encountered in ceil\n",
      "  pnl.ix[:, :, factor] = np.ceil((pnl.minor_xs(factor)-1)/every_group) # 分组，组号就是其分数\n"
     ]
    }
   ],
   "source": [
    "pnl = factors.get_score_return(pnl, factor_list, weights)"
   ]
  },
  {
   "cell_type": "code",
   "execution_count": 11,
   "metadata": {
    "collapsed": true
   },
   "outputs": [],
   "source": [
    "pnl.ix[:, :, \"pred\"][pnl.minor_xs(\"pred\")==0] = 1"
   ]
  },
  {
   "cell_type": "code",
   "execution_count": 12,
   "metadata": {
    "collapsed": true
   },
   "outputs": [],
   "source": [
    "n_groups = 5"
   ]
  },
  {
   "cell_type": "code",
   "execution_count": 13,
   "metadata": {
    "collapsed": false
   },
   "outputs": [],
   "source": [
    "group_df = pd.DataFrame(columns=range(1, n_groups+1))"
   ]
  },
  {
   "cell_type": "code",
   "execution_count": 14,
   "metadata": {
    "collapsed": false
   },
   "outputs": [],
   "source": [
    "for date in pnl.major_axis:\n",
    "    current_return = pnl.major_xs(date).transpose().groupby(\"pred\")[\"return\"].mean() # 分组并得到组内平均收益\n",
    "    current_return.name = date\n",
    "    group_df = group_df.append(current_return)\n",
    "group_df.sort_index(inplace=True)"
   ]
  },
  {
   "cell_type": "code",
   "execution_count": 16,
   "metadata": {
    "collapsed": false
   },
   "outputs": [],
   "source": [
    "res = group_df.mean()\n",
    "data = pd.DataFrame({'group': res.index, 'return': res.values})"
   ]
  },
  {
   "cell_type": "code",
   "execution_count": 17,
   "metadata": {
    "collapsed": false
   },
   "outputs": [
    {
     "data": {
      "image/png": "[encoded data removed]",
      "text/plain": [
       "<matplotlib.figure.Figure at 0xa7eead0>"
      ]
     },
     "metadata": {},
     "output_type": "display_data"
    }
   ],
   "source": [
    "ax = sns.barplot(x='group', y='return', data=data, palette=\"Blues_d\")"
   ]
  },
  {
   "cell_type": "code",
   "execution_count": 18,
   "metadata": {
    "collapsed": false
   },
   "outputs": [
    {
     "ename": "NameError",
     "evalue": "global name 'factors' is not defined",
     "output_type": "error",
     "traceback": [
      "\u001b[0;31m---------------------------------------------------------------------------\u001b[0m",
      "\u001b[0;31mNameError\u001b[0m                                 Traceback (most recent call last)",
      "\u001b[0;32m<ipython-input-18-92caec161efd>\u001b[0m in \u001b[0;36m<module>\u001b[0;34m()\u001b[0m\n\u001b[0;32m----> 1\u001b[0;31m \u001b[0mgroup_df\u001b[0m \u001b[1;33m=\u001b[0m \u001b[0mfactors\u001b[0m\u001b[1;33m.\u001b[0m\u001b[0mget_group_return\u001b[0m\u001b[1;33m(\u001b[0m\u001b[0mpnl\u001b[0m\u001b[1;33m)\u001b[0m\u001b[1;33m\u001b[0m\u001b[0m\n\u001b[0m",
      "\u001b[0;32mC:\\Users\\jgtzsx01\\Documents\\workspace\\zjsxzy_in_js\\factor-investing\\src\\factors.py\u001b[0m in \u001b[0;36mget_group_return\u001b[0;34m(pred_pnl, n_groups)\u001b[0m\n\u001b[1;32m    131\u001b[0m     \u001b[0;31m从\u001b[0m\u001b[0;31m预\u001b[0m\u001b[0;31m测\u001b[0m\u001b[0;31m的\u001b[0m\u001b[0;31m因\u001b[0m\u001b[0;31m子\u001b[0m\u001b[0;31m收\u001b[0m\u001b[0;31m益\u001b[0m\u001b[0;31m率\u001b[0m\u001b[0;31m，\u001b[0m\u001b[0;31m得\u001b[0m\u001b[0;31m到\u001b[0m\u001b[0;31m每\u001b[0m\u001b[0;31m组\u001b[0m\u001b[0;31m实\u001b[0m\u001b[0;31m际\u001b[0m\u001b[0;31m收\u001b[0m\u001b[0;31m益\u001b[0m\u001b[0;31m率\u001b[0m\u001b[1;33m\u001b[0m\u001b[0m\n\u001b[1;32m    132\u001b[0m     \"\"\"\n\u001b[0;32m--> 133\u001b[0;31m     \u001b[1;32massert\u001b[0m\u001b[1;33m(\u001b[0m\u001b[0mlen\u001b[0m\u001b[1;33m(\u001b[0m\u001b[0mfactors\u001b[0m\u001b[1;33m)\u001b[0m \u001b[1;33m==\u001b[0m \u001b[0mlen\u001b[0m\u001b[1;33m(\u001b[0m\u001b[0mweights\u001b[0m\u001b[1;33m)\u001b[0m\u001b[1;33m)\u001b[0m\u001b[1;33m\u001b[0m\u001b[0m\n\u001b[0m\u001b[1;32m    134\u001b[0m \u001b[1;33m\u001b[0m\u001b[0m\n\u001b[1;32m    135\u001b[0m     \u001b[0mevery_group\u001b[0m \u001b[1;33m=\u001b[0m \u001b[0mnp\u001b[0m\u001b[1;33m.\u001b[0m\u001b[0mceil\u001b[0m\u001b[1;33m(\u001b[0m\u001b[0mlen\u001b[0m\u001b[1;33m(\u001b[0m\u001b[0mpred_pnl\u001b[0m\u001b[1;33m.\u001b[0m\u001b[0mitems\u001b[0m\u001b[1;33m)\u001b[0m \u001b[1;33m*\u001b[0m \u001b[1;36m1.0\u001b[0m \u001b[1;33m/\u001b[0m \u001b[0mn_groups\u001b[0m\u001b[1;33m)\u001b[0m \u001b[1;31m# 每组资产个数\u001b[0m\u001b[1;33m\u001b[0m\u001b[0m\n",
      "\u001b[0;31mNameError\u001b[0m: global name 'factors' is not defined"
     ]
    }
   ],
   "source": [
    "group_df = factors.get_group_return(pnl)"
   ]
  },
  {
   "cell_type": "code",
   "execution_count": null,
   "metadata": {
    "collapsed": true
   },
   "outputs": [],
   "source": []
  },
  {
   "cell_type": "code",
   "execution_count": null,
   "metadata": {
    "collapsed": true
   },
   "outputs": [],
   "source": []
  },
  {
   "cell_type": "code",
   "execution_count": null,
   "metadata": {
    "collapsed": true
   },
   "outputs": [],
   "source": []
  },
  {
   "cell_type": "code",
   "execution_count": null,
   "metadata": {
    "collapsed": true
   },
   "outputs": [],
   "source": []
  },
  {
   "cell_type": "markdown",
   "metadata": {
    "collapsed": true
   },
   "source": [
    "# 得到预测收益率"
   ]
  },
  {
   "cell_type": "code",
   "execution_count": 10,
   "metadata": {
    "collapsed": false
   },
   "outputs": [
    {
     "name": "stdout",
     "output_type": "stream",
     "text": [
      "['pe_percent', '20-day return']\n",
      "CI005001.WI [ 0.05162365 -0.11180212]\n",
      "CI005002.WI [ 0.05455906  0.06837948]\n",
      "CI005003.WI [ 0.07861566  0.03834013]\n"
     ]
    },
    {
     "name": "stderr",
     "output_type": "stream",
     "text": [
      "../src/factors.py:182: SettingWithCopyWarning: \n",
      "A value is trying to be set on a copy of a slice from a DataFrame.\n",
      "Try using .loc[row_indexer,col_indexer] = value instead\n",
      "\n",
      "See the caveats in the documentation: http://pandas.pydata.org/pandas-docs/stable/indexing.html#indexing-view-versus-copy\n",
      "  test_df[\"pred\"] = pred_test\n"
     ]
    },
    {
     "name": "stdout",
     "output_type": "stream",
     "text": [
      "CI005004.WI [ 0.07405162 -0.07104374]\n",
      "CI005005.WI [ 0.08373311 -0.04363062]\n",
      "CI005006.WI [ 0.08147706 -0.02743765]\n",
      "CI005007.WI [ 0.04491435 -0.03474828]\n",
      "CI005008.WI [ 0.04481944  0.04346934]\n",
      "CI005009.WI [ 0.05380706  0.04854153]\n",
      "CI005010.WI [ 0.07227169 -0.05926712]\n",
      "CI005011.WI [ 0.03449535  0.01275549]\n",
      "CI005012.WI [ 0.01280354  0.03140732]\n",
      "CI005013.WI [ 0.08702857  0.02976612]\n",
      "CI005014.WI [ 0.06852188  0.03217538]\n",
      "CI005015.WI [ 0.01989578  0.1110539 ]\n",
      "CI005016.WI [ 0.04506242  0.07574634]\n",
      "CI005017.WI [ 0.03253289  0.06622268]\n",
      "CI005018.WI [ 0.06224815 -0.01747812]\n",
      "CI005019.WI [ 0.06191949 -0.02758827]\n",
      "CI005020.WI [ 0.01551585  0.04464607]\n",
      "CI005021.WI [ 0.06731535  0.09280678]\n",
      "CI005022.WI [ 0.02409313  0.03972686]\n",
      "CI005023.WI [  1.00832438e-01  -9.95315437e-05]\n",
      "CI005024.WI [ 0.06461701 -0.01517973]\n",
      "CI005025.WI [ 0.096051   -0.12733126]\n",
      "CI005026.WI [ 0.02703813 -0.04440327]\n",
      "CI005027.WI [ 0.03444965  0.04832752]\n",
      "CI005028.WI [ 0.0843636  -0.21605853]\n",
      "CI005029.WI [-0.02729043  0.19827612]\n"
     ]
    }
   ],
   "source": [
    "pred_pnl = factors.get_predict_return(pnl, factor_list)"
   ]
  },
  {
   "cell_type": "code",
   "execution_count": 12,
   "metadata": {
    "collapsed": false
   },
   "outputs": [
    {
     "data": {
      "text/html": [
       "<div>\n",
       "<table border=\"1\" class=\"dataframe\">\n",
       "  <thead>\n",
       "    <tr style=\"text-align: right;\">\n",
       "      <th></th>\n",
       "      <th>CI005001.WI</th>\n",
       "      <th>CI005002.WI</th>\n",
       "      <th>CI005003.WI</th>\n",
       "      <th>CI005004.WI</th>\n",
       "      <th>CI005005.WI</th>\n",
       "      <th>CI005006.WI</th>\n",
       "      <th>CI005007.WI</th>\n",
       "      <th>CI005008.WI</th>\n",
       "      <th>CI005009.WI</th>\n",
       "      <th>CI005010.WI</th>\n",
       "      <th>...</th>\n",
       "      <th>CI005020.WI</th>\n",
       "      <th>CI005021.WI</th>\n",
       "      <th>CI005022.WI</th>\n",
       "      <th>CI005023.WI</th>\n",
       "      <th>CI005024.WI</th>\n",
       "      <th>CI005025.WI</th>\n",
       "      <th>CI005026.WI</th>\n",
       "      <th>CI005027.WI</th>\n",
       "      <th>CI005028.WI</th>\n",
       "      <th>CI005029.WI</th>\n",
       "    </tr>\n",
       "  </thead>\n",
       "  <tbody>\n",
       "    <tr>\n",
       "      <th>2014-01-31</th>\n",
       "      <td>-0.006312</td>\n",
       "      <td>-0.009100</td>\n",
       "      <td>0.022025</td>\n",
       "      <td>-0.013280</td>\n",
       "      <td>0.009269</td>\n",
       "      <td>0.046974</td>\n",
       "      <td>-0.002964</td>\n",
       "      <td>0.001126</td>\n",
       "      <td>-0.001319</td>\n",
       "      <td>0.048436</td>\n",
       "      <td>...</td>\n",
       "      <td>0.024191</td>\n",
       "      <td>-0.012246</td>\n",
       "      <td>0.016400</td>\n",
       "      <td>-0.020371</td>\n",
       "      <td>-0.001423</td>\n",
       "      <td>0.035744</td>\n",
       "      <td>0.010141</td>\n",
       "      <td>0.034767</td>\n",
       "      <td>0.042999</td>\n",
       "      <td>-0.001581</td>\n",
       "    </tr>\n",
       "    <tr>\n",
       "      <th>2014-02-28</th>\n",
       "      <td>-0.009303</td>\n",
       "      <td>-0.015032</td>\n",
       "      <td>0.044704</td>\n",
       "      <td>-0.008352</td>\n",
       "      <td>0.011175</td>\n",
       "      <td>0.033082</td>\n",
       "      <td>-0.002351</td>\n",
       "      <td>-0.001036</td>\n",
       "      <td>0.022791</td>\n",
       "      <td>0.044481</td>\n",
       "      <td>...</td>\n",
       "      <td>0.016086</td>\n",
       "      <td>-0.009790</td>\n",
       "      <td>0.014144</td>\n",
       "      <td>-0.017880</td>\n",
       "      <td>-0.007005</td>\n",
       "      <td>0.030387</td>\n",
       "      <td>0.008770</td>\n",
       "      <td>0.044196</td>\n",
       "      <td>0.021313</td>\n",
       "      <td>0.007513</td>\n",
       "    </tr>\n",
       "    <tr>\n",
       "      <th>2014-03-31</th>\n",
       "      <td>-0.001983</td>\n",
       "      <td>-0.011936</td>\n",
       "      <td>0.044703</td>\n",
       "      <td>-0.006485</td>\n",
       "      <td>0.007959</td>\n",
       "      <td>0.029778</td>\n",
       "      <td>-0.004854</td>\n",
       "      <td>0.003571</td>\n",
       "      <td>0.019491</td>\n",
       "      <td>0.037669</td>\n",
       "      <td>...</td>\n",
       "      <td>0.016714</td>\n",
       "      <td>-0.006323</td>\n",
       "      <td>0.013235</td>\n",
       "      <td>-0.018709</td>\n",
       "      <td>-0.005338</td>\n",
       "      <td>0.003761</td>\n",
       "      <td>0.006016</td>\n",
       "      <td>0.037256</td>\n",
       "      <td>0.066023</td>\n",
       "      <td>0.012529</td>\n",
       "    </tr>\n",
       "    <tr>\n",
       "      <th>2014-04-30</th>\n",
       "      <td>-0.000885</td>\n",
       "      <td>-0.006826</td>\n",
       "      <td>-0.026789</td>\n",
       "      <td>-0.000804</td>\n",
       "      <td>0.009056</td>\n",
       "      <td>-0.014398</td>\n",
       "      <td>-0.005835</td>\n",
       "      <td>0.000810</td>\n",
       "      <td>0.013900</td>\n",
       "      <td>0.012954</td>\n",
       "      <td>...</td>\n",
       "      <td>0.009720</td>\n",
       "      <td>0.003525</td>\n",
       "      <td>0.016377</td>\n",
       "      <td>-0.003785</td>\n",
       "      <td>0.011229</td>\n",
       "      <td>0.001324</td>\n",
       "      <td>0.003870</td>\n",
       "      <td>0.018062</td>\n",
       "      <td>0.041277</td>\n",
       "      <td>0.003045</td>\n",
       "    </tr>\n",
       "    <tr>\n",
       "      <th>2014-05-31</th>\n",
       "      <td>0.003795</td>\n",
       "      <td>0.011723</td>\n",
       "      <td>-0.010764</td>\n",
       "      <td>-0.016319</td>\n",
       "      <td>0.010035</td>\n",
       "      <td>-0.012741</td>\n",
       "      <td>-0.005689</td>\n",
       "      <td>-0.000502</td>\n",
       "      <td>0.040230</td>\n",
       "      <td>0.006706</td>\n",
       "      <td>...</td>\n",
       "      <td>0.015989</td>\n",
       "      <td>-0.004266</td>\n",
       "      <td>0.018679</td>\n",
       "      <td>0.013655</td>\n",
       "      <td>0.036844</td>\n",
       "      <td>-0.008204</td>\n",
       "      <td>0.001305</td>\n",
       "      <td>0.020080</td>\n",
       "      <td>0.001953</td>\n",
       "      <td>0.019650</td>\n",
       "    </tr>\n",
       "    <tr>\n",
       "      <th>2014-06-30</th>\n",
       "      <td>-0.002490</td>\n",
       "      <td>0.015988</td>\n",
       "      <td>0.001666</td>\n",
       "      <td>-0.010972</td>\n",
       "      <td>0.007062</td>\n",
       "      <td>-0.000296</td>\n",
       "      <td>-0.004188</td>\n",
       "      <td>0.002574</td>\n",
       "      <td>0.041891</td>\n",
       "      <td>-0.005905</td>\n",
       "      <td>...</td>\n",
       "      <td>0.016048</td>\n",
       "      <td>-0.000104</td>\n",
       "      <td>0.020529</td>\n",
       "      <td>0.007840</td>\n",
       "      <td>0.021480</td>\n",
       "      <td>-0.002658</td>\n",
       "      <td>0.001037</td>\n",
       "      <td>0.038564</td>\n",
       "      <td>-0.000034</td>\n",
       "      <td>0.030441</td>\n",
       "    </tr>\n",
       "    <tr>\n",
       "      <th>2014-07-31</th>\n",
       "      <td>0.005795</td>\n",
       "      <td>0.017003</td>\n",
       "      <td>0.011387</td>\n",
       "      <td>-0.004111</td>\n",
       "      <td>0.006481</td>\n",
       "      <td>0.022516</td>\n",
       "      <td>-0.000643</td>\n",
       "      <td>0.005702</td>\n",
       "      <td>0.045080</td>\n",
       "      <td>-0.005507</td>\n",
       "      <td>...</td>\n",
       "      <td>0.016988</td>\n",
       "      <td>-0.000258</td>\n",
       "      <td>0.020210</td>\n",
       "      <td>0.009917</td>\n",
       "      <td>-0.013890</td>\n",
       "      <td>0.009273</td>\n",
       "      <td>0.002807</td>\n",
       "      <td>0.037981</td>\n",
       "      <td>0.012562</td>\n",
       "      <td>0.027983</td>\n",
       "    </tr>\n",
       "    <tr>\n",
       "      <th>2014-08-31</th>\n",
       "      <td>0.021831</td>\n",
       "      <td>0.046581</td>\n",
       "      <td>0.015359</td>\n",
       "      <td>0.032186</td>\n",
       "      <td>0.004080</td>\n",
       "      <td>0.045319</td>\n",
       "      <td>0.004798</td>\n",
       "      <td>0.015459</td>\n",
       "      <td>0.040697</td>\n",
       "      <td>0.001437</td>\n",
       "      <td>...</td>\n",
       "      <td>0.020520</td>\n",
       "      <td>0.040262</td>\n",
       "      <td>0.037633</td>\n",
       "      <td>0.059284</td>\n",
       "      <td>0.002549</td>\n",
       "      <td>0.015171</td>\n",
       "      <td>0.006484</td>\n",
       "      <td>0.030976</td>\n",
       "      <td>0.002053</td>\n",
       "      <td>0.039913</td>\n",
       "    </tr>\n",
       "    <tr>\n",
       "      <th>2014-09-30</th>\n",
       "      <td>0.011213</td>\n",
       "      <td>0.037192</td>\n",
       "      <td>-0.005329</td>\n",
       "      <td>0.039274</td>\n",
       "      <td>0.005176</td>\n",
       "      <td>0.048954</td>\n",
       "      <td>0.006348</td>\n",
       "      <td>0.012985</td>\n",
       "      <td>0.045922</td>\n",
       "      <td>0.001846</td>\n",
       "      <td>...</td>\n",
       "      <td>0.017608</td>\n",
       "      <td>-0.004158</td>\n",
       "      <td>0.022834</td>\n",
       "      <td>0.064688</td>\n",
       "      <td>0.006479</td>\n",
       "      <td>0.020888</td>\n",
       "      <td>0.002901</td>\n",
       "      <td>0.040920</td>\n",
       "      <td>-0.005425</td>\n",
       "      <td>0.034538</td>\n",
       "    </tr>\n",
       "    <tr>\n",
       "      <th>2014-10-31</th>\n",
       "      <td>0.009973</td>\n",
       "      <td>0.046467</td>\n",
       "      <td>0.012787</td>\n",
       "      <td>0.047798</td>\n",
       "      <td>0.004406</td>\n",
       "      <td>0.048392</td>\n",
       "      <td>0.022509</td>\n",
       "      <td>0.024128</td>\n",
       "      <td>0.048003</td>\n",
       "      <td>0.041787</td>\n",
       "      <td>...</td>\n",
       "      <td>0.029852</td>\n",
       "      <td>0.008378</td>\n",
       "      <td>0.031736</td>\n",
       "      <td>0.072152</td>\n",
       "      <td>0.034799</td>\n",
       "      <td>0.047554</td>\n",
       "      <td>0.015913</td>\n",
       "      <td>0.043158</td>\n",
       "      <td>0.041931</td>\n",
       "      <td>0.047743</td>\n",
       "    </tr>\n",
       "    <tr>\n",
       "      <th>2014-11-30</th>\n",
       "      <td>0.027230</td>\n",
       "      <td>0.041352</td>\n",
       "      <td>-0.005348</td>\n",
       "      <td>0.048783</td>\n",
       "      <td>0.008380</td>\n",
       "      <td>0.037948</td>\n",
       "      <td>0.031094</td>\n",
       "      <td>0.027327</td>\n",
       "      <td>0.043674</td>\n",
       "      <td>0.044883</td>\n",
       "      <td>...</td>\n",
       "      <td>0.022746</td>\n",
       "      <td>0.036102</td>\n",
       "      <td>0.019932</td>\n",
       "      <td>0.076719</td>\n",
       "      <td>0.036452</td>\n",
       "      <td>0.043439</td>\n",
       "      <td>0.015103</td>\n",
       "      <td>0.037654</td>\n",
       "      <td>0.033419</td>\n",
       "      <td>0.025323</td>\n",
       "    </tr>\n",
       "    <tr>\n",
       "      <th>2014-12-31</th>\n",
       "      <td>0.036290</td>\n",
       "      <td>0.045204</td>\n",
       "      <td>0.022497</td>\n",
       "      <td>0.050185</td>\n",
       "      <td>0.023732</td>\n",
       "      <td>0.043705</td>\n",
       "      <td>0.033670</td>\n",
       "      <td>0.040364</td>\n",
       "      <td>0.044360</td>\n",
       "      <td>0.044902</td>\n",
       "      <td>...</td>\n",
       "      <td>0.027975</td>\n",
       "      <td>0.073330</td>\n",
       "      <td>0.052758</td>\n",
       "      <td>0.076708</td>\n",
       "      <td>0.036080</td>\n",
       "      <td>0.052690</td>\n",
       "      <td>0.019670</td>\n",
       "      <td>0.041591</td>\n",
       "      <td>0.037294</td>\n",
       "      <td>0.030000</td>\n",
       "    </tr>\n",
       "    <tr>\n",
       "      <th>2015-01-31</th>\n",
       "      <td>0.029857</td>\n",
       "      <td>0.043534</td>\n",
       "      <td>0.033539</td>\n",
       "      <td>0.044073</td>\n",
       "      <td>0.031352</td>\n",
       "      <td>0.030400</td>\n",
       "      <td>0.025027</td>\n",
       "      <td>0.045709</td>\n",
       "      <td>0.029629</td>\n",
       "      <td>0.046185</td>\n",
       "      <td>...</td>\n",
       "      <td>0.018771</td>\n",
       "      <td>0.083253</td>\n",
       "      <td>0.054567</td>\n",
       "      <td>0.076709</td>\n",
       "      <td>0.034883</td>\n",
       "      <td>0.045779</td>\n",
       "      <td>0.021616</td>\n",
       "      <td>0.026651</td>\n",
       "      <td>0.039735</td>\n",
       "      <td>0.016605</td>\n",
       "    </tr>\n",
       "    <tr>\n",
       "      <th>2015-02-28</th>\n",
       "      <td>0.033896</td>\n",
       "      <td>0.031069</td>\n",
       "      <td>0.045920</td>\n",
       "      <td>0.052125</td>\n",
       "      <td>0.033832</td>\n",
       "      <td>0.047135</td>\n",
       "      <td>0.036162</td>\n",
       "      <td>0.042185</td>\n",
       "      <td>0.046457</td>\n",
       "      <td>0.042872</td>\n",
       "      <td>...</td>\n",
       "      <td>0.029649</td>\n",
       "      <td>0.042690</td>\n",
       "      <td>0.031876</td>\n",
       "      <td>0.074234</td>\n",
       "      <td>0.031983</td>\n",
       "      <td>0.055848</td>\n",
       "      <td>0.019183</td>\n",
       "      <td>0.046069</td>\n",
       "      <td>0.026061</td>\n",
       "      <td>0.022638</td>\n",
       "    </tr>\n",
       "    <tr>\n",
       "      <th>2015-03-31</th>\n",
       "      <td>0.034390</td>\n",
       "      <td>0.038085</td>\n",
       "      <td>0.050460</td>\n",
       "      <td>0.052206</td>\n",
       "      <td>0.034272</td>\n",
       "      <td>0.049362</td>\n",
       "      <td>0.035175</td>\n",
       "      <td>0.045781</td>\n",
       "      <td>0.029082</td>\n",
       "      <td>0.047135</td>\n",
       "      <td>...</td>\n",
       "      <td>0.027529</td>\n",
       "      <td>0.043786</td>\n",
       "      <td>0.036642</td>\n",
       "      <td>0.076723</td>\n",
       "      <td>0.036260</td>\n",
       "      <td>0.072234</td>\n",
       "      <td>0.019962</td>\n",
       "      <td>0.046827</td>\n",
       "      <td>0.022708</td>\n",
       "      <td>0.017709</td>\n",
       "    </tr>\n",
       "    <tr>\n",
       "      <th>2015-04-30</th>\n",
       "      <td>0.023295</td>\n",
       "      <td>0.050876</td>\n",
       "      <td>0.058495</td>\n",
       "      <td>0.046709</td>\n",
       "      <td>0.005822</td>\n",
       "      <td>0.045150</td>\n",
       "      <td>0.029341</td>\n",
       "      <td>0.052914</td>\n",
       "      <td>0.053376</td>\n",
       "      <td>0.035200</td>\n",
       "      <td>...</td>\n",
       "      <td>0.034951</td>\n",
       "      <td>0.067384</td>\n",
       "      <td>0.042390</td>\n",
       "      <td>0.076286</td>\n",
       "      <td>0.031535</td>\n",
       "      <td>0.059084</td>\n",
       "      <td>0.015904</td>\n",
       "      <td>0.050523</td>\n",
       "      <td>0.023831</td>\n",
       "      <td>0.031047</td>\n",
       "    </tr>\n",
       "    <tr>\n",
       "      <th>2015-05-31</th>\n",
       "      <td>0.014373</td>\n",
       "      <td>0.052582</td>\n",
       "      <td>0.059162</td>\n",
       "      <td>0.039572</td>\n",
       "      <td>0.029011</td>\n",
       "      <td>0.047985</td>\n",
       "      <td>0.026774</td>\n",
       "      <td>0.050381</td>\n",
       "      <td>0.049417</td>\n",
       "      <td>0.033671</td>\n",
       "      <td>...</td>\n",
       "      <td>0.030286</td>\n",
       "      <td>0.068861</td>\n",
       "      <td>0.033138</td>\n",
       "      <td>0.076706</td>\n",
       "      <td>0.031550</td>\n",
       "      <td>0.067560</td>\n",
       "      <td>0.016927</td>\n",
       "      <td>0.041304</td>\n",
       "      <td>0.016673</td>\n",
       "      <td>0.036279</td>\n",
       "    </tr>\n",
       "    <tr>\n",
       "      <th>2015-06-30</th>\n",
       "      <td>0.032972</td>\n",
       "      <td>0.038497</td>\n",
       "      <td>0.025252</td>\n",
       "      <td>0.045626</td>\n",
       "      <td>0.033265</td>\n",
       "      <td>0.043521</td>\n",
       "      <td>0.036567</td>\n",
       "      <td>0.053003</td>\n",
       "      <td>0.058974</td>\n",
       "      <td>0.030627</td>\n",
       "      <td>...</td>\n",
       "      <td>0.036670</td>\n",
       "      <td>0.042834</td>\n",
       "      <td>0.026310</td>\n",
       "      <td>0.075469</td>\n",
       "      <td>0.033862</td>\n",
       "      <td>0.042033</td>\n",
       "      <td>0.012997</td>\n",
       "      <td>0.054907</td>\n",
       "      <td>0.024577</td>\n",
       "      <td>0.038559</td>\n",
       "    </tr>\n",
       "    <tr>\n",
       "      <th>2015-07-31</th>\n",
       "      <td>0.036318</td>\n",
       "      <td>0.030547</td>\n",
       "      <td>0.014024</td>\n",
       "      <td>0.055780</td>\n",
       "      <td>0.034221</td>\n",
       "      <td>0.047626</td>\n",
       "      <td>0.036161</td>\n",
       "      <td>0.029831</td>\n",
       "      <td>0.026500</td>\n",
       "      <td>0.055212</td>\n",
       "      <td>...</td>\n",
       "      <td>0.017642</td>\n",
       "      <td>0.052395</td>\n",
       "      <td>0.019692</td>\n",
       "      <td>0.065944</td>\n",
       "      <td>0.030966</td>\n",
       "      <td>0.096560</td>\n",
       "      <td>0.032938</td>\n",
       "      <td>0.014290</td>\n",
       "      <td>0.106373</td>\n",
       "      <td>-0.025985</td>\n",
       "    </tr>\n",
       "    <tr>\n",
       "      <th>2015-08-31</th>\n",
       "      <td>0.030109</td>\n",
       "      <td>0.031777</td>\n",
       "      <td>0.021706</td>\n",
       "      <td>0.030903</td>\n",
       "      <td>0.022263</td>\n",
       "      <td>0.027298</td>\n",
       "      <td>0.020605</td>\n",
       "      <td>0.035950</td>\n",
       "      <td>0.028631</td>\n",
       "      <td>0.030633</td>\n",
       "      <td>...</td>\n",
       "      <td>0.030280</td>\n",
       "      <td>0.026963</td>\n",
       "      <td>0.011849</td>\n",
       "      <td>0.053064</td>\n",
       "      <td>0.012578</td>\n",
       "      <td>0.042361</td>\n",
       "      <td>0.013036</td>\n",
       "      <td>0.025594</td>\n",
       "      <td>0.039771</td>\n",
       "      <td>0.008103</td>\n",
       "    </tr>\n",
       "    <tr>\n",
       "      <th>2015-09-30</th>\n",
       "      <td>0.036343</td>\n",
       "      <td>0.022176</td>\n",
       "      <td>0.016044</td>\n",
       "      <td>0.029771</td>\n",
       "      <td>0.043679</td>\n",
       "      <td>0.003350</td>\n",
       "      <td>0.022868</td>\n",
       "      <td>0.024515</td>\n",
       "      <td>0.002563</td>\n",
       "      <td>0.029685</td>\n",
       "      <td>...</td>\n",
       "      <td>0.012810</td>\n",
       "      <td>0.003594</td>\n",
       "      <td>0.007454</td>\n",
       "      <td>0.029431</td>\n",
       "      <td>-0.010603</td>\n",
       "      <td>0.057665</td>\n",
       "      <td>0.018274</td>\n",
       "      <td>0.005022</td>\n",
       "      <td>0.065165</td>\n",
       "      <td>-0.017695</td>\n",
       "    </tr>\n",
       "    <tr>\n",
       "      <th>2015-10-31</th>\n",
       "      <td>0.021259</td>\n",
       "      <td>0.015021</td>\n",
       "      <td>0.016499</td>\n",
       "      <td>0.018993</td>\n",
       "      <td>0.016144</td>\n",
       "      <td>-0.002659</td>\n",
       "      <td>0.016891</td>\n",
       "      <td>0.021170</td>\n",
       "      <td>-0.008211</td>\n",
       "      <td>0.021361</td>\n",
       "      <td>...</td>\n",
       "      <td>0.013621</td>\n",
       "      <td>0.007006</td>\n",
       "      <td>0.014041</td>\n",
       "      <td>0.014489</td>\n",
       "      <td>-0.016396</td>\n",
       "      <td>0.034605</td>\n",
       "      <td>0.010514</td>\n",
       "      <td>0.015658</td>\n",
       "      <td>0.018198</td>\n",
       "      <td>-0.010663</td>\n",
       "    </tr>\n",
       "    <tr>\n",
       "      <th>2015-11-30</th>\n",
       "      <td>0.030062</td>\n",
       "      <td>0.044638</td>\n",
       "      <td>0.027405</td>\n",
       "      <td>0.009502</td>\n",
       "      <td>0.005556</td>\n",
       "      <td>-0.000708</td>\n",
       "      <td>0.013586</td>\n",
       "      <td>0.046140</td>\n",
       "      <td>0.014636</td>\n",
       "      <td>0.011908</td>\n",
       "      <td>...</td>\n",
       "      <td>0.025503</td>\n",
       "      <td>0.016504</td>\n",
       "      <td>0.025085</td>\n",
       "      <td>0.031893</td>\n",
       "      <td>-0.005326</td>\n",
       "      <td>0.010167</td>\n",
       "      <td>0.003641</td>\n",
       "      <td>0.038842</td>\n",
       "      <td>-0.029565</td>\n",
       "      <td>0.059071</td>\n",
       "    </tr>\n",
       "    <tr>\n",
       "      <th>2015-12-31</th>\n",
       "      <td>0.031091</td>\n",
       "      <td>0.038141</td>\n",
       "      <td>0.025691</td>\n",
       "      <td>0.013607</td>\n",
       "      <td>0.007705</td>\n",
       "      <td>0.012731</td>\n",
       "      <td>0.012749</td>\n",
       "      <td>0.043452</td>\n",
       "      <td>0.018137</td>\n",
       "      <td>0.016177</td>\n",
       "      <td>...</td>\n",
       "      <td>0.023479</td>\n",
       "      <td>0.020028</td>\n",
       "      <td>0.023776</td>\n",
       "      <td>0.034804</td>\n",
       "      <td>-0.013809</td>\n",
       "      <td>0.032690</td>\n",
       "      <td>0.008560</td>\n",
       "      <td>0.030639</td>\n",
       "      <td>0.001636</td>\n",
       "      <td>0.042944</td>\n",
       "    </tr>\n",
       "    <tr>\n",
       "      <th>2016-01-31</th>\n",
       "      <td>0.032922</td>\n",
       "      <td>0.032520</td>\n",
       "      <td>0.021932</td>\n",
       "      <td>0.015472</td>\n",
       "      <td>0.008422</td>\n",
       "      <td>0.030751</td>\n",
       "      <td>0.011422</td>\n",
       "      <td>0.041935</td>\n",
       "      <td>0.012640</td>\n",
       "      <td>0.023881</td>\n",
       "      <td>...</td>\n",
       "      <td>0.021383</td>\n",
       "      <td>0.016234</td>\n",
       "      <td>0.020877</td>\n",
       "      <td>0.060121</td>\n",
       "      <td>-0.013708</td>\n",
       "      <td>0.059376</td>\n",
       "      <td>0.015710</td>\n",
       "      <td>0.032215</td>\n",
       "      <td>0.027062</td>\n",
       "      <td>0.007539</td>\n",
       "    </tr>\n",
       "    <tr>\n",
       "      <th>2016-02-29</th>\n",
       "      <td>0.049533</td>\n",
       "      <td>0.016865</td>\n",
       "      <td>0.009766</td>\n",
       "      <td>0.002323</td>\n",
       "      <td>0.019197</td>\n",
       "      <td>-0.020365</td>\n",
       "      <td>0.003196</td>\n",
       "      <td>0.007410</td>\n",
       "      <td>-0.025981</td>\n",
       "      <td>0.008182</td>\n",
       "      <td>...</td>\n",
       "      <td>-0.002690</td>\n",
       "      <td>-0.019602</td>\n",
       "      <td>0.005790</td>\n",
       "      <td>-0.000427</td>\n",
       "      <td>-0.021556</td>\n",
       "      <td>0.035709</td>\n",
       "      <td>0.014734</td>\n",
       "      <td>-0.011166</td>\n",
       "      <td>0.051425</td>\n",
       "      <td>-0.054798</td>\n",
       "    </tr>\n",
       "    <tr>\n",
       "      <th>2016-03-31</th>\n",
       "      <td>0.022906</td>\n",
       "      <td>0.036767</td>\n",
       "      <td>0.019561</td>\n",
       "      <td>-0.009422</td>\n",
       "      <td>0.013222</td>\n",
       "      <td>-0.026035</td>\n",
       "      <td>-0.001443</td>\n",
       "      <td>0.011557</td>\n",
       "      <td>-0.017571</td>\n",
       "      <td>0.008378</td>\n",
       "      <td>...</td>\n",
       "      <td>0.006089</td>\n",
       "      <td>-0.010324</td>\n",
       "      <td>0.011171</td>\n",
       "      <td>-0.005427</td>\n",
       "      <td>-0.024298</td>\n",
       "      <td>0.006359</td>\n",
       "      <td>0.006260</td>\n",
       "      <td>-0.007015</td>\n",
       "      <td>0.018629</td>\n",
       "      <td>-0.013805</td>\n",
       "    </tr>\n",
       "    <tr>\n",
       "      <th>2016-04-30</th>\n",
       "      <td>0.008051</td>\n",
       "      <td>0.037458</td>\n",
       "      <td>0.022130</td>\n",
       "      <td>-0.011112</td>\n",
       "      <td>0.007842</td>\n",
       "      <td>-0.020870</td>\n",
       "      <td>-0.002977</td>\n",
       "      <td>0.042742</td>\n",
       "      <td>-0.005422</td>\n",
       "      <td>-0.000854</td>\n",
       "      <td>...</td>\n",
       "      <td>0.016145</td>\n",
       "      <td>0.007618</td>\n",
       "      <td>0.027496</td>\n",
       "      <td>0.009502</td>\n",
       "      <td>-0.009515</td>\n",
       "      <td>-0.000444</td>\n",
       "      <td>-0.002524</td>\n",
       "      <td>0.013358</td>\n",
       "      <td>-0.035574</td>\n",
       "      <td>0.029047</td>\n",
       "    </tr>\n",
       "    <tr>\n",
       "      <th>2016-05-31</th>\n",
       "      <td>0.034019</td>\n",
       "      <td>0.044231</td>\n",
       "      <td>0.021043</td>\n",
       "      <td>0.004105</td>\n",
       "      <td>0.007618</td>\n",
       "      <td>-0.012945</td>\n",
       "      <td>-0.001876</td>\n",
       "      <td>0.043476</td>\n",
       "      <td>-0.011698</td>\n",
       "      <td>-0.000915</td>\n",
       "      <td>...</td>\n",
       "      <td>0.008082</td>\n",
       "      <td>0.002697</td>\n",
       "      <td>0.024864</td>\n",
       "      <td>0.002864</td>\n",
       "      <td>0.001069</td>\n",
       "      <td>0.020534</td>\n",
       "      <td>0.004640</td>\n",
       "      <td>0.001027</td>\n",
       "      <td>0.004630</td>\n",
       "      <td>0.002737</td>\n",
       "    </tr>\n",
       "    <tr>\n",
       "      <th>2016-06-30</th>\n",
       "      <td>0.038503</td>\n",
       "      <td>0.004376</td>\n",
       "      <td>0.019599</td>\n",
       "      <td>0.010121</td>\n",
       "      <td>0.010812</td>\n",
       "      <td>-0.006037</td>\n",
       "      <td>-0.000743</td>\n",
       "      <td>0.039754</td>\n",
       "      <td>-0.010128</td>\n",
       "      <td>0.006611</td>\n",
       "      <td>...</td>\n",
       "      <td>0.008878</td>\n",
       "      <td>0.016706</td>\n",
       "      <td>0.029387</td>\n",
       "      <td>0.003698</td>\n",
       "      <td>0.003462</td>\n",
       "      <td>0.039017</td>\n",
       "      <td>0.007322</td>\n",
       "      <td>0.004444</td>\n",
       "      <td>0.005687</td>\n",
       "      <td>-0.015362</td>\n",
       "    </tr>\n",
       "    <tr>\n",
       "      <th>2016-07-31</th>\n",
       "      <td>0.028961</td>\n",
       "      <td>0.013940</td>\n",
       "      <td>0.022966</td>\n",
       "      <td>0.012120</td>\n",
       "      <td>0.008330</td>\n",
       "      <td>0.007457</td>\n",
       "      <td>-0.000945</td>\n",
       "      <td>0.045182</td>\n",
       "      <td>-0.000975</td>\n",
       "      <td>0.018296</td>\n",
       "      <td>...</td>\n",
       "      <td>0.013019</td>\n",
       "      <td>0.005716</td>\n",
       "      <td>0.031334</td>\n",
       "      <td>0.015310</td>\n",
       "      <td>0.001090</td>\n",
       "      <td>0.042788</td>\n",
       "      <td>0.009234</td>\n",
       "      <td>0.012056</td>\n",
       "      <td>0.001110</td>\n",
       "      <td>0.014169</td>\n",
       "    </tr>\n",
       "    <tr>\n",
       "      <th>2016-08-31</th>\n",
       "      <td>0.022983</td>\n",
       "      <td>0.014283</td>\n",
       "      <td>0.020246</td>\n",
       "      <td>0.018715</td>\n",
       "      <td>0.008287</td>\n",
       "      <td>0.003530</td>\n",
       "      <td>0.003234</td>\n",
       "      <td>0.041224</td>\n",
       "      <td>-0.001172</td>\n",
       "      <td>0.008035</td>\n",
       "      <td>...</td>\n",
       "      <td>0.012505</td>\n",
       "      <td>0.021038</td>\n",
       "      <td>0.036234</td>\n",
       "      <td>0.007845</td>\n",
       "      <td>0.015914</td>\n",
       "      <td>0.047754</td>\n",
       "      <td>0.010667</td>\n",
       "      <td>0.003478</td>\n",
       "      <td>0.000258</td>\n",
       "      <td>0.013229</td>\n",
       "    </tr>\n",
       "    <tr>\n",
       "      <th>2016-09-30</th>\n",
       "      <td>0.033856</td>\n",
       "      <td>0.014541</td>\n",
       "      <td>0.020782</td>\n",
       "      <td>0.031966</td>\n",
       "      <td>0.004933</td>\n",
       "      <td>0.025425</td>\n",
       "      <td>0.013503</td>\n",
       "      <td>0.046829</td>\n",
       "      <td>0.003827</td>\n",
       "      <td>0.047362</td>\n",
       "      <td>...</td>\n",
       "      <td>0.011209</td>\n",
       "      <td>0.041808</td>\n",
       "      <td>0.041998</td>\n",
       "      <td>0.046005</td>\n",
       "      <td>0.037868</td>\n",
       "      <td>0.058290</td>\n",
       "      <td>0.006917</td>\n",
       "      <td>0.008857</td>\n",
       "      <td>-0.002354</td>\n",
       "      <td>0.039330</td>\n",
       "    </tr>\n",
       "    <tr>\n",
       "      <th>2016-10-31</th>\n",
       "      <td>0.036712</td>\n",
       "      <td>0.012122</td>\n",
       "      <td>0.018921</td>\n",
       "      <td>0.030913</td>\n",
       "      <td>0.008557</td>\n",
       "      <td>0.025579</td>\n",
       "      <td>0.013591</td>\n",
       "      <td>0.043164</td>\n",
       "      <td>0.009739</td>\n",
       "      <td>0.046344</td>\n",
       "      <td>...</td>\n",
       "      <td>0.008393</td>\n",
       "      <td>0.030940</td>\n",
       "      <td>0.036394</td>\n",
       "      <td>0.042698</td>\n",
       "      <td>0.030247</td>\n",
       "      <td>0.055679</td>\n",
       "      <td>0.007920</td>\n",
       "      <td>0.001737</td>\n",
       "      <td>0.006738</td>\n",
       "      <td>0.021398</td>\n",
       "    </tr>\n",
       "    <tr>\n",
       "      <th>2016-11-30</th>\n",
       "      <td>0.025594</td>\n",
       "      <td>0.019640</td>\n",
       "      <td>0.023330</td>\n",
       "      <td>0.042483</td>\n",
       "      <td>0.005013</td>\n",
       "      <td>0.042495</td>\n",
       "      <td>0.019710</td>\n",
       "      <td>0.020778</td>\n",
       "      <td>-0.003124</td>\n",
       "      <td>0.045934</td>\n",
       "      <td>...</td>\n",
       "      <td>0.011771</td>\n",
       "      <td>0.036353</td>\n",
       "      <td>0.038986</td>\n",
       "      <td>-0.018717</td>\n",
       "      <td>0.021515</td>\n",
       "      <td>0.019713</td>\n",
       "      <td>0.007406</td>\n",
       "      <td>0.004629</td>\n",
       "      <td>-0.020673</td>\n",
       "      <td>0.031824</td>\n",
       "    </tr>\n",
       "    <tr>\n",
       "      <th>2016-12-31</th>\n",
       "      <td>0.024436</td>\n",
       "      <td>0.012157</td>\n",
       "      <td>0.021833</td>\n",
       "      <td>0.049935</td>\n",
       "      <td>0.005146</td>\n",
       "      <td>0.042023</td>\n",
       "      <td>0.028979</td>\n",
       "      <td>0.019765</td>\n",
       "      <td>0.005483</td>\n",
       "      <td>0.045707</td>\n",
       "      <td>...</td>\n",
       "      <td>0.010878</td>\n",
       "      <td>0.055466</td>\n",
       "      <td>0.040895</td>\n",
       "      <td>0.021116</td>\n",
       "      <td>0.031768</td>\n",
       "      <td>0.028260</td>\n",
       "      <td>0.016493</td>\n",
       "      <td>0.004859</td>\n",
       "      <td>-0.010713</td>\n",
       "      <td>0.027012</td>\n",
       "    </tr>\n",
       "  </tbody>\n",
       "</table>\n",
       "<p>36 rows × 29 columns</p>\n",
       "</div>"
      ],
      "text/plain": [
       "            CI005001.WI  CI005002.WI  CI005003.WI  CI005004.WI  CI005005.WI  \\\n",
       "2014-01-31    -0.006312    -0.009100     0.022025    -0.013280     0.009269   \n",
       "2014-02-28    -0.009303    -0.015032     0.044704    -0.008352     0.011175   \n",
       "2014-03-31    -0.001983    -0.011936     0.044703    -0.006485     0.007959   \n",
       "2014-04-30    -0.000885    -0.006826    -0.026789    -0.000804     0.009056   \n",
       "2014-05-31     0.003795     0.011723    -0.010764    -0.016319     0.010035   \n",
       "2014-06-30    -0.002490     0.015988     0.001666    -0.010972     0.007062   \n",
       "2014-07-31     0.005795     0.017003     0.011387    -0.004111     0.006481   \n",
       "2014-08-31     0.021831     0.046581     0.015359     0.032186     0.004080   \n",
       "2014-09-30     0.011213     0.037192    -0.005329     0.039274     0.005176   \n",
       "2014-10-31     0.009973     0.046467     0.012787     0.047798     0.004406   \n",
       "2014-11-30     0.027230     0.041352    -0.005348     0.048783     0.008380   \n",
       "2014-12-31     0.036290     0.045204     0.022497     0.050185     0.023732   \n",
       "2015-01-31     0.029857     0.043534     0.033539     0.044073     0.031352   \n",
       "2015-02-28     0.033896     0.031069     0.045920     0.052125     0.033832   \n",
       "2015-03-31     0.034390     0.038085     0.050460     0.052206     0.034272   \n",
       "2015-04-30     0.023295     0.050876     0.058495     0.046709     0.005822   \n",
       "2015-05-31     0.014373     0.052582     0.059162     0.039572     0.029011   \n",
       "2015-06-30     0.032972     0.038497     0.025252     0.045626     0.033265   \n",
       "2015-07-31     0.036318     0.030547     0.014024     0.055780     0.034221   \n",
       "2015-08-31     0.030109     0.031777     0.021706     0.030903     0.022263   \n",
       "2015-09-30     0.036343     0.022176     0.016044     0.029771     0.043679   \n",
       "2015-10-31     0.021259     0.015021     0.016499     0.018993     0.016144   \n",
       "2015-11-30     0.030062     0.044638     0.027405     0.009502     0.005556   \n",
       "2015-12-31     0.031091     0.038141     0.025691     0.013607     0.007705   \n",
       "2016-01-31     0.032922     0.032520     0.021932     0.015472     0.008422   \n",
       "2016-02-29     0.049533     0.016865     0.009766     0.002323     0.019197   \n",
       "2016-03-31     0.022906     0.036767     0.019561    -0.009422     0.013222   \n",
       "2016-04-30     0.008051     0.037458     0.022130    -0.011112     0.007842   \n",
       "2016-05-31     0.034019     0.044231     0.021043     0.004105     0.007618   \n",
       "2016-06-30     0.038503     0.004376     0.019599     0.010121     0.010812   \n",
       "2016-07-31     0.028961     0.013940     0.022966     0.012120     0.008330   \n",
       "2016-08-31     0.022983     0.014283     0.020246     0.018715     0.008287   \n",
       "2016-09-30     0.033856     0.014541     0.020782     0.031966     0.004933   \n",
       "2016-10-31     0.036712     0.012122     0.018921     0.030913     0.008557   \n",
       "2016-11-30     0.025594     0.019640     0.023330     0.042483     0.005013   \n",
       "2016-12-31     0.024436     0.012157     0.021833     0.049935     0.005146   \n",
       "\n",
       "            CI005006.WI  CI005007.WI  CI005008.WI  CI005009.WI  CI005010.WI  \\\n",
       "2014-01-31     0.046974    -0.002964     0.001126    -0.001319     0.048436   \n",
       "2014-02-28     0.033082    -0.002351    -0.001036     0.022791     0.044481   \n",
       "2014-03-31     0.029778    -0.004854     0.003571     0.019491     0.037669   \n",
       "2014-04-30    -0.014398    -0.005835     0.000810     0.013900     0.012954   \n",
       "2014-05-31    -0.012741    -0.005689    -0.000502     0.040230     0.006706   \n",
       "2014-06-30    -0.000296    -0.004188     0.002574     0.041891    -0.005905   \n",
       "2014-07-31     0.022516    -0.000643     0.005702     0.045080    -0.005507   \n",
       "2014-08-31     0.045319     0.004798     0.015459     0.040697     0.001437   \n",
       "2014-09-30     0.048954     0.006348     0.012985     0.045922     0.001846   \n",
       "2014-10-31     0.048392     0.022509     0.024128     0.048003     0.041787   \n",
       "2014-11-30     0.037948     0.031094     0.027327     0.043674     0.044883   \n",
       "2014-12-31     0.043705     0.033670     0.040364     0.044360     0.044902   \n",
       "2015-01-31     0.030400     0.025027     0.045709     0.029629     0.046185   \n",
       "2015-02-28     0.047135     0.036162     0.042185     0.046457     0.042872   \n",
       "2015-03-31     0.049362     0.035175     0.045781     0.029082     0.047135   \n",
       "2015-04-30     0.045150     0.029341     0.052914     0.053376     0.035200   \n",
       "2015-05-31     0.047985     0.026774     0.050381     0.049417     0.033671   \n",
       "2015-06-30     0.043521     0.036567     0.053003     0.058974     0.030627   \n",
       "2015-07-31     0.047626     0.036161     0.029831     0.026500     0.055212   \n",
       "2015-08-31     0.027298     0.020605     0.035950     0.028631     0.030633   \n",
       "2015-09-30     0.003350     0.022868     0.024515     0.002563     0.029685   \n",
       "2015-10-31    -0.002659     0.016891     0.021170    -0.008211     0.021361   \n",
       "2015-11-30    -0.000708     0.013586     0.046140     0.014636     0.011908   \n",
       "2015-12-31     0.012731     0.012749     0.043452     0.018137     0.016177   \n",
       "2016-01-31     0.030751     0.011422     0.041935     0.012640     0.023881   \n",
       "2016-02-29    -0.020365     0.003196     0.007410    -0.025981     0.008182   \n",
       "2016-03-31    -0.026035    -0.001443     0.011557    -0.017571     0.008378   \n",
       "2016-04-30    -0.020870    -0.002977     0.042742    -0.005422    -0.000854   \n",
       "2016-05-31    -0.012945    -0.001876     0.043476    -0.011698    -0.000915   \n",
       "2016-06-30    -0.006037    -0.000743     0.039754    -0.010128     0.006611   \n",
       "2016-07-31     0.007457    -0.000945     0.045182    -0.000975     0.018296   \n",
       "2016-08-31     0.003530     0.003234     0.041224    -0.001172     0.008035   \n",
       "2016-09-30     0.025425     0.013503     0.046829     0.003827     0.047362   \n",
       "2016-10-31     0.025579     0.013591     0.043164     0.009739     0.046344   \n",
       "2016-11-30     0.042495     0.019710     0.020778    -0.003124     0.045934   \n",
       "2016-12-31     0.042023     0.028979     0.019765     0.005483     0.045707   \n",
       "\n",
       "               ...       CI005020.WI  CI005021.WI  CI005022.WI  CI005023.WI  \\\n",
       "2014-01-31     ...          0.024191    -0.012246     0.016400    -0.020371   \n",
       "2014-02-28     ...          0.016086    -0.009790     0.014144    -0.017880   \n",
       "2014-03-31     ...          0.016714    -0.006323     0.013235    -0.018709   \n",
       "2014-04-30     ...          0.009720     0.003525     0.016377    -0.003785   \n",
       "2014-05-31     ...          0.015989    -0.004266     0.018679     0.013655   \n",
       "2014-06-30     ...          0.016048    -0.000104     0.020529     0.007840   \n",
       "2014-07-31     ...          0.016988    -0.000258     0.020210     0.009917   \n",
       "2014-08-31     ...          0.020520     0.040262     0.037633     0.059284   \n",
       "2014-09-30     ...          0.017608    -0.004158     0.022834     0.064688   \n",
       "2014-10-31     ...          0.029852     0.008378     0.031736     0.072152   \n",
       "2014-11-30     ...          0.022746     0.036102     0.019932     0.076719   \n",
       "2014-12-31     ...          0.027975     0.073330     0.052758     0.076708   \n",
       "2015-01-31     ...          0.018771     0.083253     0.054567     0.076709   \n",
       "2015-02-28     ...          0.029649     0.042690     0.031876     0.074234   \n",
       "2015-03-31     ...          0.027529     0.043786     0.036642     0.076723   \n",
       "2015-04-30     ...          0.034951     0.067384     0.042390     0.076286   \n",
       "2015-05-31     ...          0.030286     0.068861     0.033138     0.076706   \n",
       "2015-06-30     ...          0.036670     0.042834     0.026310     0.075469   \n",
       "2015-07-31     ...          0.017642     0.052395     0.019692     0.065944   \n",
       "2015-08-31     ...          0.030280     0.026963     0.011849     0.053064   \n",
       "2015-09-30     ...          0.012810     0.003594     0.007454     0.029431   \n",
       "2015-10-31     ...          0.013621     0.007006     0.014041     0.014489   \n",
       "2015-11-30     ...          0.025503     0.016504     0.025085     0.031893   \n",
       "2015-12-31     ...          0.023479     0.020028     0.023776     0.034804   \n",
       "2016-01-31     ...          0.021383     0.016234     0.020877     0.060121   \n",
       "2016-02-29     ...         -0.002690    -0.019602     0.005790    -0.000427   \n",
       "2016-03-31     ...          0.006089    -0.010324     0.011171    -0.005427   \n",
       "2016-04-30     ...          0.016145     0.007618     0.027496     0.009502   \n",
       "2016-05-31     ...          0.008082     0.002697     0.024864     0.002864   \n",
       "2016-06-30     ...          0.008878     0.016706     0.029387     0.003698   \n",
       "2016-07-31     ...          0.013019     0.005716     0.031334     0.015310   \n",
       "2016-08-31     ...          0.012505     0.021038     0.036234     0.007845   \n",
       "2016-09-30     ...          0.011209     0.041808     0.041998     0.046005   \n",
       "2016-10-31     ...          0.008393     0.030940     0.036394     0.042698   \n",
       "2016-11-30     ...          0.011771     0.036353     0.038986    -0.018717   \n",
       "2016-12-31     ...          0.010878     0.055466     0.040895     0.021116   \n",
       "\n",
       "            CI005024.WI  CI005025.WI  CI005026.WI  CI005027.WI  CI005028.WI  \\\n",
       "2014-01-31    -0.001423     0.035744     0.010141     0.034767     0.042999   \n",
       "2014-02-28    -0.007005     0.030387     0.008770     0.044196     0.021313   \n",
       "2014-03-31    -0.005338     0.003761     0.006016     0.037256     0.066023   \n",
       "2014-04-30     0.011229     0.001324     0.003870     0.018062     0.041277   \n",
       "2014-05-31     0.036844    -0.008204     0.001305     0.020080     0.001953   \n",
       "2014-06-30     0.021480    -0.002658     0.001037     0.038564    -0.000034   \n",
       "2014-07-31    -0.013890     0.009273     0.002807     0.037981     0.012562   \n",
       "2014-08-31     0.002549     0.015171     0.006484     0.030976     0.002053   \n",
       "2014-09-30     0.006479     0.020888     0.002901     0.040920    -0.005425   \n",
       "2014-10-31     0.034799     0.047554     0.015913     0.043158     0.041931   \n",
       "2014-11-30     0.036452     0.043439     0.015103     0.037654     0.033419   \n",
       "2014-12-31     0.036080     0.052690     0.019670     0.041591     0.037294   \n",
       "2015-01-31     0.034883     0.045779     0.021616     0.026651     0.039735   \n",
       "2015-02-28     0.031983     0.055848     0.019183     0.046069     0.026061   \n",
       "2015-03-31     0.036260     0.072234     0.019962     0.046827     0.022708   \n",
       "2015-04-30     0.031535     0.059084     0.015904     0.050523     0.023831   \n",
       "2015-05-31     0.031550     0.067560     0.016927     0.041304     0.016673   \n",
       "2015-06-30     0.033862     0.042033     0.012997     0.054907     0.024577   \n",
       "2015-07-31     0.030966     0.096560     0.032938     0.014290     0.106373   \n",
       "2015-08-31     0.012578     0.042361     0.013036     0.025594     0.039771   \n",
       "2015-09-30    -0.010603     0.057665     0.018274     0.005022     0.065165   \n",
       "2015-10-31    -0.016396     0.034605     0.010514     0.015658     0.018198   \n",
       "2015-11-30    -0.005326     0.010167     0.003641     0.038842    -0.029565   \n",
       "2015-12-31    -0.013809     0.032690     0.008560     0.030639     0.001636   \n",
       "2016-01-31    -0.013708     0.059376     0.015710     0.032215     0.027062   \n",
       "2016-02-29    -0.021556     0.035709     0.014734    -0.011166     0.051425   \n",
       "2016-03-31    -0.024298     0.006359     0.006260    -0.007015     0.018629   \n",
       "2016-04-30    -0.009515    -0.000444    -0.002524     0.013358    -0.035574   \n",
       "2016-05-31     0.001069     0.020534     0.004640     0.001027     0.004630   \n",
       "2016-06-30     0.003462     0.039017     0.007322     0.004444     0.005687   \n",
       "2016-07-31     0.001090     0.042788     0.009234     0.012056     0.001110   \n",
       "2016-08-31     0.015914     0.047754     0.010667     0.003478     0.000258   \n",
       "2016-09-30     0.037868     0.058290     0.006917     0.008857    -0.002354   \n",
       "2016-10-31     0.030247     0.055679     0.007920     0.001737     0.006738   \n",
       "2016-11-30     0.021515     0.019713     0.007406     0.004629    -0.020673   \n",
       "2016-12-31     0.031768     0.028260     0.016493     0.004859    -0.010713   \n",
       "\n",
       "            CI005029.WI  \n",
       "2014-01-31    -0.001581  \n",
       "2014-02-28     0.007513  \n",
       "2014-03-31     0.012529  \n",
       "2014-04-30     0.003045  \n",
       "2014-05-31     0.019650  \n",
       "2014-06-30     0.030441  \n",
       "2014-07-31     0.027983  \n",
       "2014-08-31     0.039913  \n",
       "2014-09-30     0.034538  \n",
       "2014-10-31     0.047743  \n",
       "2014-11-30     0.025323  \n",
       "2014-12-31     0.030000  \n",
       "2015-01-31     0.016605  \n",
       "2015-02-28     0.022638  \n",
       "2015-03-31     0.017709  \n",
       "2015-04-30     0.031047  \n",
       "2015-05-31     0.036279  \n",
       "2015-06-30     0.038559  \n",
       "2015-07-31    -0.025985  \n",
       "2015-08-31     0.008103  \n",
       "2015-09-30    -0.017695  \n",
       "2015-10-31    -0.010663  \n",
       "2015-11-30     0.059071  \n",
       "2015-12-31     0.042944  \n",
       "2016-01-31     0.007539  \n",
       "2016-02-29    -0.054798  \n",
       "2016-03-31    -0.013805  \n",
       "2016-04-30     0.029047  \n",
       "2016-05-31     0.002737  \n",
       "2016-06-30    -0.015362  \n",
       "2016-07-31     0.014169  \n",
       "2016-08-31     0.013229  \n",
       "2016-09-30     0.039330  \n",
       "2016-10-31     0.021398  \n",
       "2016-11-30     0.031824  \n",
       "2016-12-31     0.027012  \n",
       "\n",
       "[36 rows x 29 columns]"
      ]
     },
     "execution_count": 12,
     "metadata": {},
     "output_type": "execute_result"
    }
   ],
   "source": [
    "pred_pnl.minor_xs(\"pred\")"
   ]
  },
  {
   "cell_type": "code",
   "execution_count": 22,
   "metadata": {
    "collapsed": false
   },
   "outputs": [],
   "source": [
    "every_group = np.ceil(len(pnl.items) * 1.0 / 5)"
   ]
  },
  {
   "cell_type": "code",
   "execution_count": 23,
   "metadata": {
    "collapsed": false
   },
   "outputs": [
    {
     "data": {
      "text/plain": [
       "6.0"
      ]
     },
     "execution_count": 23,
     "metadata": {},
     "output_type": "execute_result"
    }
   ],
   "source": [
    "every_group"
   ]
  },
  {
   "cell_type": "code",
   "execution_count": 25,
   "metadata": {
    "collapsed": false
   },
   "outputs": [],
   "source": [
    "pred_pnl.ix[:, :, \"group\"] = np.ceil((pred_pnl.minor_xs(\"pred\").rank(axis=1)-1)/every_group)"
   ]
  },
  {
   "cell_type": "code",
   "execution_count": 44,
   "metadata": {
    "collapsed": true
   },
   "outputs": [],
   "source": [
    "pred_pnl.ix[:, :, \"group\"] = pred_pnl.ix[:, :, \"group\"].astype(int)"
   ]
  },
  {
   "cell_type": "code",
   "execution_count": 45,
   "metadata": {
    "collapsed": false
   },
   "outputs": [],
   "source": [
    "pred_pnl.ix[:, :, \"group\"][pred_pnl.ix[:, :, \"group\"] == 0] = 1"
   ]
  },
  {
   "cell_type": "code",
   "execution_count": 86,
   "metadata": {
    "collapsed": false
   },
   "outputs": [],
   "source": [
    "res = pred_pnl.major_xs(\"2014-01-31\").transpose().groupby(\"group\")[\"return\"].mean()"
   ]
  },
  {
   "cell_type": "code",
   "execution_count": 87,
   "metadata": {
    "collapsed": false
   },
   "outputs": [
    {
     "data": {
      "text/plain": [
       "group\n",
       "1.0   -0.052876\n",
       "2.0   -0.011872\n",
       "3.0   -0.027736\n",
       "4.0    0.043604\n",
       "5.0    0.040856\n",
       "Name: return, dtype: float64"
      ]
     },
     "execution_count": 87,
     "metadata": {},
     "output_type": "execute_result"
    }
   ],
   "source": [
    "res"
   ]
  },
  {
   "cell_type": "code",
   "execution_count": 72,
   "metadata": {
    "collapsed": false
   },
   "outputs": [],
   "source": [
    "append_return = res[\"return\"]"
   ]
  },
  {
   "cell_type": "code",
   "execution_count": 75,
   "metadata": {
    "collapsed": true
   },
   "outputs": [],
   "source": [
    "append_return.name = pred_pnl.major_axis[0]"
   ]
  },
  {
   "cell_type": "code",
   "execution_count": 80,
   "metadata": {
    "collapsed": false
   },
   "outputs": [],
   "source": [
    "group_df = pd.DataFrame(columns=range(1, 6))"
   ]
  },
  {
   "cell_type": "code",
   "execution_count": 81,
   "metadata": {
    "collapsed": false
   },
   "outputs": [
    {
     "data": {
      "text/html": [
       "<div>\n",
       "<table border=\"1\" class=\"dataframe\">\n",
       "  <thead>\n",
       "    <tr style=\"text-align: right;\">\n",
       "      <th></th>\n",
       "      <th>1</th>\n",
       "      <th>2</th>\n",
       "      <th>3</th>\n",
       "      <th>4</th>\n",
       "      <th>5</th>\n",
       "    </tr>\n",
       "  </thead>\n",
       "  <tbody>\n",
       "    <tr>\n",
       "      <th>2014-01-31</th>\n",
       "      <td>-0.052876</td>\n",
       "      <td>-0.011872</td>\n",
       "      <td>-0.027736</td>\n",
       "      <td>0.043604</td>\n",
       "      <td>0.040856</td>\n",
       "    </tr>\n",
       "  </tbody>\n",
       "</table>\n",
       "</div>"
      ],
      "text/plain": [
       "                   1         2         3         4         5\n",
       "2014-01-31 -0.052876 -0.011872 -0.027736  0.043604  0.040856"
      ]
     },
     "execution_count": 81,
     "metadata": {},
     "output_type": "execute_result"
    }
   ],
   "source": [
    "group_df.append(res[\"return\"])"
   ]
  },
  {
   "cell_type": "code",
   "execution_count": 89,
   "metadata": {
    "collapsed": false
   },
   "outputs": [],
   "source": [
    "group_df = pd.read_excel(\"../src/groups.xlsx\", index_col=0)"
   ]
  },
  {
   "cell_type": "code",
   "execution_count": 93,
   "metadata": {
    "collapsed": false
   },
   "outputs": [
    {
     "data": {
      "text/plain": [
       "1    0.023220\n",
       "2    0.020943\n",
       "3    0.025483\n",
       "4    0.021910\n",
       "5    0.026883\n",
       "dtype: float64"
      ]
     },
     "execution_count": 93,
     "metadata": {},
     "output_type": "execute_result"
    }
   ],
   "source": [
    "group_df.mean()"
   ]
  },
  {
   "cell_type": "code",
   "execution_count": null,
   "metadata": {
    "collapsed": true
   },
   "outputs": [],
   "source": []
  },
  {
   "cell_type": "code",
   "execution_count": null,
   "metadata": {
    "collapsed": true
   },
   "outputs": [],
   "source": []
  },
  {
   "cell_type": "code",
   "execution_count": null,
   "metadata": {
    "collapsed": true
   },
   "outputs": [],
   "source": []
  },
  {
   "cell_type": "code",
   "execution_count": null,
   "metadata": {
    "collapsed": true
   },
   "outputs": [],
   "source": []
  },
  {
   "cell_type": "markdown",
   "metadata": {},
   "source": [
    "# 得到因子与收益率数据"
   ]
  },
  {
   "cell_type": "code",
   "execution_count": 10,
   "metadata": {
    "collapsed": false
   },
   "outputs": [
    {
     "name": "stdout",
     "output_type": "stream",
     "text": [
      "Processing CI005001.WI...\n",
      "Processing CI005002.WI...\n",
      "Processing CI005003.WI...\n",
      "Processing CI005004.WI...\n",
      "Processing CI005005.WI...\n",
      "Processing CI005006.WI...\n",
      "Processing CI005007.WI...\n",
      "Processing CI005008.WI...\n",
      "Processing CI005009.WI...\n",
      "Processing CI005010.WI...\n",
      "Processing CI005011.WI...\n",
      "Processing CI005012.WI...\n",
      "Processing CI005013.WI...\n",
      "Processing CI005014.WI...\n",
      "Processing CI005015.WI...\n",
      "Processing CI005016.WI...\n",
      "Processing CI005017.WI...\n",
      "Processing CI005018.WI...\n",
      "Processing CI005019.WI...\n",
      "Processing CI005020.WI...\n",
      "Processing CI005021.WI...\n",
      "Processing CI005022.WI...\n",
      "Processing CI005023.WI...\n",
      "Processing CI005024.WI...\n",
      "Processing CI005025.WI...\n",
      "Processing CI005026.WI...\n",
      "Processing CI005027.WI...\n",
      "Processing CI005028.WI...\n",
      "Processing CI005029.WI...\n"
     ]
    }
   ],
   "source": [
    "df = factors.get_asset_factor_data(df, factor_list)"
   ]
  },
  {
   "cell_type": "markdown",
   "metadata": {},
   "source": [
    "# 分组"
   ]
  },
  {
   "cell_type": "code",
   "execution_count": 12,
   "metadata": {
    "collapsed": true
   },
   "outputs": [],
   "source": [
    "ranks = factors.get_ranks(df, 5)"
   ]
  },
  {
   "cell_type": "markdown",
   "metadata": {},
   "source": [
    "# 得到每组收益"
   ]
  },
  {
   "cell_type": "code",
   "execution_count": 13,
   "metadata": {
    "collapsed": false
   },
   "outputs": [
    {
     "name": "stderr",
     "output_type": "stream",
     "text": [
      "C:\\Users\\jgtzsx01\\AppData\\Local\\Continuum\\Anaconda2\\lib\\site-packages\\pandas\\core\\indexing.py:297: SettingWithCopyWarning: \n",
      "A value is trying to be set on a copy of a slice from a DataFrame.\n",
      "Try using .loc[row_indexer,col_indexer] = value instead\n",
      "\n",
      "See the caveats in the documentation: http://pandas.pydata.org/pandas-docs/stable/indexing.html#indexing-view-versus-copy\n",
      "  self.obj[key] = _infer_fill_value(value)\n",
      "C:\\Users\\jgtzsx01\\AppData\\Local\\Continuum\\Anaconda2\\lib\\site-packages\\pandas\\core\\indexing.py:561: SettingWithCopyWarning: \n",
      "A value is trying to be set on a copy of a slice from a DataFrame.\n",
      "Try using .loc[row_indexer,col_indexer] = value instead\n",
      "\n",
      "See the caveats in the documentation: http://pandas.pydata.org/pandas-docs/stable/indexing.html#indexing-view-versus-copy\n",
      "  self.obj[item_labels[indexer[info_axis]]] = value\n"
     ]
    }
   ],
   "source": [
    "group_df = factors.get_group_return(df, factor_list, weights, ranks)"
   ]
  },
  {
   "cell_type": "code",
   "execution_count": 14,
   "metadata": {
    "collapsed": false
   },
   "outputs": [
    {
     "data": {
      "text/html": [
       "<div>\n",
       "<table border=\"1\" class=\"dataframe\">\n",
       "  <thead>\n",
       "    <tr style=\"text-align: right;\">\n",
       "      <th></th>\n",
       "      <th>2007-8 return</th>\n",
       "      <th>2007-9 return</th>\n",
       "      <th>2007-4 return</th>\n",
       "      <th>2007-5 return</th>\n",
       "      <th>2007-6 return</th>\n",
       "      <th>2007-7 return</th>\n",
       "      <th>2007-1 return</th>\n",
       "      <th>2007-2 return</th>\n",
       "      <th>2007-3 return</th>\n",
       "      <th>2015-11 return</th>\n",
       "      <th>...</th>\n",
       "      <th>2009-11 return</th>\n",
       "      <th>2009-12 return</th>\n",
       "      <th>2008-4 return</th>\n",
       "      <th>2013-7 return</th>\n",
       "      <th>2013-6 return</th>\n",
       "      <th>2008-9 return</th>\n",
       "      <th>2008-8 return</th>\n",
       "      <th>2013-3 return</th>\n",
       "      <th>2013-2 return</th>\n",
       "      <th>2013-1 return</th>\n",
       "    </tr>\n",
       "  </thead>\n",
       "  <tbody>\n",
       "    <tr>\n",
       "      <th>1</th>\n",
       "      <td>0.105252</td>\n",
       "      <td>-0.003131</td>\n",
       "      <td>0.331880</td>\n",
       "      <td>0.064833</td>\n",
       "      <td>-0.094685</td>\n",
       "      <td>0.155377</td>\n",
       "      <td>0.222660</td>\n",
       "      <td>0.113198</td>\n",
       "      <td>0.098611</td>\n",
       "      <td>0.090361</td>\n",
       "      <td>...</td>\n",
       "      <td>0.122387</td>\n",
       "      <td>0.016422</td>\n",
       "      <td>0.007023</td>\n",
       "      <td>0.063727</td>\n",
       "      <td>-0.157127</td>\n",
       "      <td>-0.055816</td>\n",
       "      <td>-0.232776</td>\n",
       "      <td>-0.033952</td>\n",
       "      <td>0.029388</td>\n",
       "      <td>0.063094</td>\n",
       "    </tr>\n",
       "    <tr>\n",
       "      <th>2</th>\n",
       "      <td>0.124016</td>\n",
       "      <td>0.039765</td>\n",
       "      <td>0.270513</td>\n",
       "      <td>0.039961</td>\n",
       "      <td>-0.111977</td>\n",
       "      <td>0.185830</td>\n",
       "      <td>0.194528</td>\n",
       "      <td>0.112424</td>\n",
       "      <td>0.147398</td>\n",
       "      <td>0.101900</td>\n",
       "      <td>...</td>\n",
       "      <td>0.124580</td>\n",
       "      <td>0.021019</td>\n",
       "      <td>-0.049192</td>\n",
       "      <td>0.124272</td>\n",
       "      <td>-0.126101</td>\n",
       "      <td>-0.033551</td>\n",
       "      <td>-0.226601</td>\n",
       "      <td>-0.022471</td>\n",
       "      <td>0.038103</td>\n",
       "      <td>0.098283</td>\n",
       "    </tr>\n",
       "    <tr>\n",
       "      <th>3</th>\n",
       "      <td>0.108887</td>\n",
       "      <td>0.020332</td>\n",
       "      <td>0.364534</td>\n",
       "      <td>0.141312</td>\n",
       "      <td>-0.121315</td>\n",
       "      <td>0.189990</td>\n",
       "      <td>0.213410</td>\n",
       "      <td>0.113476</td>\n",
       "      <td>0.130564</td>\n",
       "      <td>0.065124</td>\n",
       "      <td>...</td>\n",
       "      <td>0.122135</td>\n",
       "      <td>0.027450</td>\n",
       "      <td>0.020567</td>\n",
       "      <td>0.036125</td>\n",
       "      <td>-0.173419</td>\n",
       "      <td>-0.027726</td>\n",
       "      <td>-0.213797</td>\n",
       "      <td>-0.056980</td>\n",
       "      <td>0.025529</td>\n",
       "      <td>0.056049</td>\n",
       "    </tr>\n",
       "    <tr>\n",
       "      <th>4</th>\n",
       "      <td>0.112965</td>\n",
       "      <td>0.094355</td>\n",
       "      <td>0.268257</td>\n",
       "      <td>0.074418</td>\n",
       "      <td>-0.072364</td>\n",
       "      <td>0.172868</td>\n",
       "      <td>0.217427</td>\n",
       "      <td>0.128237</td>\n",
       "      <td>0.108702</td>\n",
       "      <td>0.026943</td>\n",
       "      <td>...</td>\n",
       "      <td>0.069767</td>\n",
       "      <td>0.035817</td>\n",
       "      <td>-0.008109</td>\n",
       "      <td>0.024059</td>\n",
       "      <td>-0.136291</td>\n",
       "      <td>-0.071976</td>\n",
       "      <td>-0.186481</td>\n",
       "      <td>-0.036370</td>\n",
       "      <td>0.027240</td>\n",
       "      <td>0.033683</td>\n",
       "    </tr>\n",
       "    <tr>\n",
       "      <th>5</th>\n",
       "      <td>0.236063</td>\n",
       "      <td>0.112658</td>\n",
       "      <td>0.294346</td>\n",
       "      <td>0.137088</td>\n",
       "      <td>-0.055730</td>\n",
       "      <td>0.233310</td>\n",
       "      <td>0.230369</td>\n",
       "      <td>0.148961</td>\n",
       "      <td>0.114154</td>\n",
       "      <td>0.028761</td>\n",
       "      <td>...</td>\n",
       "      <td>0.136242</td>\n",
       "      <td>0.050953</td>\n",
       "      <td>0.107975</td>\n",
       "      <td>-0.018702</td>\n",
       "      <td>-0.165706</td>\n",
       "      <td>-0.048530</td>\n",
       "      <td>-0.163955</td>\n",
       "      <td>-0.057007</td>\n",
       "      <td>-0.011466</td>\n",
       "      <td>0.057818</td>\n",
       "    </tr>\n",
       "  </tbody>\n",
       "</table>\n",
       "<p>5 rows × 143 columns</p>\n",
       "</div>"
      ],
      "text/plain": [
       "   2007-8 return  2007-9 return  2007-4 return  2007-5 return  2007-6 return  \\\n",
       "1       0.105252      -0.003131       0.331880       0.064833      -0.094685   \n",
       "2       0.124016       0.039765       0.270513       0.039961      -0.111977   \n",
       "3       0.108887       0.020332       0.364534       0.141312      -0.121315   \n",
       "4       0.112965       0.094355       0.268257       0.074418      -0.072364   \n",
       "5       0.236063       0.112658       0.294346       0.137088      -0.055730   \n",
       "\n",
       "   2007-7 return  2007-1 return  2007-2 return  2007-3 return  2015-11 return  \\\n",
       "1       0.155377       0.222660       0.113198       0.098611        0.090361   \n",
       "2       0.185830       0.194528       0.112424       0.147398        0.101900   \n",
       "3       0.189990       0.213410       0.113476       0.130564        0.065124   \n",
       "4       0.172868       0.217427       0.128237       0.108702        0.026943   \n",
       "5       0.233310       0.230369       0.148961       0.114154        0.028761   \n",
       "\n",
       "       ...        2009-11 return  2009-12 return  2008-4 return  \\\n",
       "1      ...              0.122387        0.016422       0.007023   \n",
       "2      ...              0.124580        0.021019      -0.049192   \n",
       "3      ...              0.122135        0.027450       0.020567   \n",
       "4      ...              0.069767        0.035817      -0.008109   \n",
       "5      ...              0.136242        0.050953       0.107975   \n",
       "\n",
       "   2013-7 return  2013-6 return  2008-9 return  2008-8 return  2013-3 return  \\\n",
       "1       0.063727      -0.157127      -0.055816      -0.232776      -0.033952   \n",
       "2       0.124272      -0.126101      -0.033551      -0.226601      -0.022471   \n",
       "3       0.036125      -0.173419      -0.027726      -0.213797      -0.056980   \n",
       "4       0.024059      -0.136291      -0.071976      -0.186481      -0.036370   \n",
       "5      -0.018702      -0.165706      -0.048530      -0.163955      -0.057007   \n",
       "\n",
       "   2013-2 return  2013-1 return  \n",
       "1       0.029388       0.063094  \n",
       "2       0.038103       0.098283  \n",
       "3       0.025529       0.056049  \n",
       "4       0.027240       0.033683  \n",
       "5      -0.011466       0.057818  \n",
       "\n",
       "[5 rows x 143 columns]"
      ]
     },
     "execution_count": 14,
     "metadata": {},
     "output_type": "execute_result"
    }
   ],
   "source": [
    "group_df"
   ]
  },
  {
   "cell_type": "code",
   "execution_count": 15,
   "metadata": {
    "collapsed": false
   },
   "outputs": [],
   "source": [
    "res = group_df.mean(axis=1)\n",
    "data = pd.DataFrame({'group': res.index, 'return': res.values})"
   ]
  },
  {
   "cell_type": "code",
   "execution_count": 16,
   "metadata": {
    "collapsed": false
   },
   "outputs": [
    {
     "data": {
      "text/plain": [
       "1    0.015986\n",
       "2    0.021950\n",
       "3    0.018689\n",
       "4    0.016129\n",
       "5    0.018594\n",
       "dtype: float64"
      ]
     },
     "execution_count": 16,
     "metadata": {},
     "output_type": "execute_result"
    }
   ],
   "source": [
    "res"
   ]
  },
  {
   "cell_type": "code",
   "execution_count": 17,
   "metadata": {
    "collapsed": false
   },
   "outputs": [
    {
     "data": {
      "text/plain": [
       "1    0.209624\n",
       "2    0.297646\n",
       "3    0.248818\n",
       "4    0.211676\n",
       "5    0.247415\n",
       "dtype: float64"
      ]
     },
     "execution_count": 17,
     "metadata": {},
     "output_type": "execute_result"
    }
   ],
   "source": [
    "(1+res) ** 12-1"
   ]
  },
  {
   "cell_type": "code",
   "execution_count": 18,
   "metadata": {
    "collapsed": false
   },
   "outputs": [
    {
     "data": {
      "image/png": "[encoded data removed]",
      "text/plain": [
       "<matplotlib.figure.Figure at 0xba315f0>"
      ]
     },
     "metadata": {},
     "output_type": "display_data"
    }
   ],
   "source": [
    "ax = sns.barplot(x='group', y='return', data=data, palette=\"Blues_d\")"
   ]
  },
  {
   "cell_type": "code",
   "execution_count": 29,
   "metadata": {
    "collapsed": true
   },
   "outputs": [],
   "source": [
    "start_year = 2015\n",
    "year_feature = []\n",
    "for year in range(start_year, 2017):\n",
    "    year_feature += [\"%d-%d return\"%(year, month) for month in range(1, 13)]"
   ]
  },
  {
   "cell_type": "code",
   "execution_count": 30,
   "metadata": {
    "collapsed": false
   },
   "outputs": [],
   "source": [
    "res = group_df[year_feature].mean(axis=1)\n",
    "data = pd.DataFrame({'group': res.index, 'return': res.values})"
   ]
  },
  {
   "cell_type": "code",
   "execution_count": 31,
   "metadata": {
    "collapsed": false
   },
   "outputs": [],
   "source": [
    "res = (1 + res)**12 - 1"
   ]
  },
  {
   "cell_type": "code",
   "execution_count": 32,
   "metadata": {
    "collapsed": false
   },
   "outputs": [
    {
     "data": {
      "text/plain": [
       "1    0.254324\n",
       "2    0.455285\n",
       "3    0.202071\n",
       "4    0.150590\n",
       "5    0.149689\n",
       "dtype: float64"
      ]
     },
     "execution_count": 32,
     "metadata": {},
     "output_type": "execute_result"
    }
   ],
   "source": [
    "res"
   ]
  },
  {
   "cell_type": "code",
   "execution_count": 33,
   "metadata": {
    "collapsed": false
   },
   "outputs": [
    {
     "data": {
      "image/png": "[encoded data removed]",
      "text/plain": [
       "<matplotlib.figure.Figure at 0xbbf9c30>"
      ]
     },
     "metadata": {},
     "output_type": "display_data"
    }
   ],
   "source": [
    "ax = sns.barplot(x='group', y='return', data=data, palette=\"Blues_d\")"
   ]
  },
  {
   "cell_type": "code",
   "execution_count": 27,
   "metadata": {
    "collapsed": false
   },
   "outputs": [],
   "source": [
    "last_group_return = group_df[year_feature].ix[5, :]"
   ]
  },
  {
   "cell_type": "code",
   "execution_count": 28,
   "metadata": {
    "collapsed": false
   },
   "outputs": [
    {
     "data": {
      "text/plain": [
       "pandas.core.series.Series"
      ]
     },
     "execution_count": 28,
     "metadata": {},
     "output_type": "execute_result"
    }
   ],
   "source": [
    "type(last_group_return)"
   ]
  },
  {
   "cell_type": "code",
   "execution_count": 74,
   "metadata": {
    "collapsed": false
   },
   "outputs": [
    {
     "data": {
      "text/plain": [
       "Index([u'2016-1 return', u'2016-2 return', u'2016-3 return', u'2016-4 return',\n",
       "       u'2016-5 return', u'2016-6 return', u'2016-7 return', u'2016-8 return',\n",
       "       u'2016-9 return', u'2016-10 return', u'2016-11 return',\n",
       "       u'2016-12 return'],\n",
       "      dtype='object')"
      ]
     },
     "execution_count": 74,
     "metadata": {},
     "output_type": "execute_result"
    }
   ],
   "source": [
    "last_group_return.index"
   ]
  },
  {
   "cell_type": "code",
   "execution_count": 75,
   "metadata": {
    "collapsed": true
   },
   "outputs": [],
   "source": [
    "import calendar"
   ]
  },
  {
   "cell_type": "code",
   "execution_count": 76,
   "metadata": {
    "collapsed": true
   },
   "outputs": [],
   "source": [
    "def last_day_of_month(name):\n",
    "    date = name.split(' ')[0]\n",
    "    [year, month] = date.split('-')\n",
    "    year, month = int(year), int(month)\n",
    "    _, day = calendar.monthrange(year, month)\n",
    "    date = \"%d-%d-%d\"%(year, month, day)\n",
    "    return pd.to_datetime(date, format=\"%Y-%m-%d\")"
   ]
  },
  {
   "cell_type": "code",
   "execution_count": 77,
   "metadata": {
    "collapsed": false
   },
   "outputs": [
    {
     "data": {
      "text/plain": [
       "Timestamp('2016-01-31 00:00:00')"
      ]
     },
     "execution_count": 77,
     "metadata": {},
     "output_type": "execute_result"
    }
   ],
   "source": [
    "last_day_of_month(last_group_return.index[0])"
   ]
  },
  {
   "cell_type": "code",
   "execution_count": 78,
   "metadata": {
    "collapsed": false
   },
   "outputs": [],
   "source": [
    "last_group_return.index = last_group_return.index.map(lambda x: last_day_of_month(x))"
   ]
  },
  {
   "cell_type": "code",
   "execution_count": 79,
   "metadata": {
    "collapsed": false
   },
   "outputs": [],
   "source": [
    "last_group_return.sort_index(inplace=True)"
   ]
  },
  {
   "cell_type": "code",
   "execution_count": 80,
   "metadata": {
    "collapsed": false
   },
   "outputs": [
    {
     "data": {
      "text/plain": [
       "<matplotlib.axes._subplots.AxesSubplot at 0x2000b050>"
      ]
     },
     "execution_count": 80,
     "metadata": {},
     "output_type": "execute_result"
    },
    {
     "data": {
      "image/png": "[encoded data removed]",
      "text/plain": [
       "<matplotlib.figure.Figure at 0x2000b670>"
      ]
     },
     "metadata": {},
     "output_type": "display_data"
    }
   ],
   "source": [
    "last_group_return.plot()"
   ]
  },
  {
   "cell_type": "code",
   "execution_count": 81,
   "metadata": {
    "collapsed": false
   },
   "outputs": [
    {
     "data": {
      "text/plain": [
       "<matplotlib.axes._subplots.AxesSubplot at 0x2022dad0>"
      ]
     },
     "execution_count": 81,
     "metadata": {},
     "output_type": "execute_result"
    },
    {
     "data": {
      "image/png": "[encoded data removed]",
      "text/plain": [
       "<matplotlib.figure.Figure at 0x1ff5c830>"
      ]
     },
     "metadata": {},
     "output_type": "display_data"
    }
   ],
   "source": [
    "(1+last_group_return).cumprod().plot()"
   ]
  },
  {
   "cell_type": "code",
   "execution_count": 82,
   "metadata": {
    "collapsed": false
   },
   "outputs": [
    {
     "data": {
      "text/plain": [
       "2016-01-31    0.700709\n",
       "2016-02-29    0.697581\n",
       "2016-03-31    0.765921\n",
       "2016-04-30    0.754629\n",
       "2016-05-31    0.740418\n",
       "2016-06-30    0.773109\n",
       "2016-07-31    0.764603\n",
       "2016-08-31    0.777199\n",
       "2016-09-30    0.757904\n",
       "2016-10-31    0.781670\n",
       "2016-11-30    0.815688\n",
       "2016-12-31    0.768247\n",
       "Name: 5, dtype: float64"
      ]
     },
     "execution_count": 82,
     "metadata": {},
     "output_type": "execute_result"
    }
   ],
   "source": [
    "(1+last_group_return).cumprod()"
   ]
  },
  {
   "cell_type": "code",
   "execution_count": 83,
   "metadata": {
    "collapsed": false
   },
   "outputs": [
    {
     "data": {
      "text/plain": [
       "2016-01-31   -0.299291\n",
       "2016-02-29   -0.004464\n",
       "2016-03-31    0.097968\n",
       "2016-04-30   -0.014743\n",
       "2016-05-31   -0.018831\n",
       "2016-06-30    0.044152\n",
       "2016-07-31   -0.011003\n",
       "2016-08-31    0.016474\n",
       "2016-09-30   -0.024826\n",
       "2016-10-31    0.031357\n",
       "2016-11-30    0.043519\n",
       "2016-12-31   -0.058160\n",
       "Name: 5, dtype: float64"
      ]
     },
     "execution_count": 83,
     "metadata": {},
     "output_type": "execute_result"
    }
   ],
   "source": [
    "last_group_return"
   ]
  },
  {
   "cell_type": "code",
   "execution_count": null,
   "metadata": {
    "collapsed": true
   },
   "outputs": [],
   "source": []
  }
 ],
 "metadata": {
  "anaconda-cloud": {},
  "kernelspec": {
   "display_name": "Python [default]",
   "language": "python",
   "name": "python2"
  },
  "language_info": {
   "codemirror_mode": {
    "name": "ipython",
    "version": 2
   },
   "file_extension": ".py",
   "mimetype": "text/x-python",
   "name": "python",
   "nbconvert_exporter": "python",
   "pygments_lexer": "ipython2",
   "version": "2.7.12"
  }
 },
 "nbformat": 4,
 "nbformat_minor": 1
}
