{
 "cells": [
  {
   "cell_type": "code",
   "execution_count": 1,
   "metadata": {
    "collapsed": true
   },
   "outputs": [],
   "source": [
    "import sys\n",
    "import matplotlib.pyplot as plt\n",
    "import seaborn as sns\n",
    "import pandas as pd\n",
    "import numpy as np\n",
    "import scipy\n",
    "import datetime\n",
    "import os\n",
    "from WindPy import w\n",
    "%matplotlib inline"
   ]
  },
  {
   "cell_type": "code",
   "execution_count": 2,
   "metadata": {
    "collapsed": false
   },
   "outputs": [
    {
     "name": "stdout",
     "output_type": "stream",
     "text": [
      "Welcome to use Wind Quant API for Python (WindPy)!\n",
      "You can use w.menu to help yourself to create commands(WSD,WSS,WST,WSI,WSQ,...)!\n",
      "\n",
      "COPYRIGHT (C) 2016 WIND HONGHUI INFORMATION & TECHKNOLEWDGE CO., LTD. ALL RIGHTS RESERVED.\n",
      "IN NO CIRCUMSTANCE SHALL WIND BE RESPONSIBLE FOR ANY DAMAGES OR LOSSES CAUSED BY USING WIND QUANT API FOR Python.\n"
     ]
    },
    {
     "data": {
      "text/plain": [
       ".ErrorCode=0\n",
       ".Data=[OK!]"
      ]
     },
     "execution_count": 2,
     "metadata": {},
     "output_type": "execute_result"
    }
   ],
   "source": [
    "w.start()"
   ]
  },
  {
   "cell_type": "code",
   "execution_count": 3,
   "metadata": {
    "collapsed": true
   },
   "outputs": [],
   "source": [
    "def wind2df(raw_data):\n",
    "    dic = {}\n",
    "    for data, field in zip(raw_data.Data, raw_data.Fields):\n",
    "        dic[str(field.lower())] = data\n",
    "    return pd.DataFrame(dic, index=raw_data.Times)"
   ]
  },
  {
   "cell_type": "markdown",
   "metadata": {},
   "source": [
    "# 计算某只股票的平均持有成本"
   ]
  },
  {
   "cell_type": "code",
   "execution_count": 4,
   "metadata": {
    "collapsed": true
   },
   "outputs": [],
   "source": [
    "code = \"000402.SZ\"\n",
    "start_date = \"2015-01-01\"\n",
    "end_date = datetime.datetime.today().strftime(\"%Y-%m-%d\")\n",
    "DATA_DIR = \"D:/Data/Stocks\""
   ]
  },
  {
   "cell_type": "code",
   "execution_count": 5,
   "metadata": {
    "collapsed": true
   },
   "outputs": [],
   "source": [
    "data = w.wsd(code, \"mkt_freeshares,vwap,amt,close,turn\", beginTime=start_date, endTime=end_date)"
   ]
  },
  {
   "cell_type": "code",
   "execution_count": 6,
   "metadata": {
    "collapsed": false
   },
   "outputs": [],
   "source": [
    "df = wind2df(data)"
   ]
  },
  {
   "cell_type": "code",
   "execution_count": 7,
   "metadata": {
    "collapsed": false
   },
   "outputs": [],
   "source": [
    "df = df.dropna()"
   ]
  },
  {
   "cell_type": "code",
   "execution_count": 8,
   "metadata": {
    "collapsed": false
   },
   "outputs": [
    {
     "data": {
      "text/html": [
       "<div>\n",
       "<table border=\"1\" class=\"dataframe\">\n",
       "  <thead>\n",
       "    <tr style=\"text-align: right;\">\n",
       "      <th></th>\n",
       "      <th>amt</th>\n",
       "      <th>close</th>\n",
       "      <th>mkt_freeshares</th>\n",
       "      <th>turn</th>\n",
       "      <th>vwap</th>\n",
       "    </tr>\n",
       "  </thead>\n",
       "  <tbody>\n",
       "    <tr>\n",
       "      <th>2015-01-05 00:00:00.005</th>\n",
       "      <td>2.290106e+09</td>\n",
       "      <td>12.15</td>\n",
       "      <td>2.568462e+10</td>\n",
       "      <td>6.075370</td>\n",
       "      <td>12.623954</td>\n",
       "    </tr>\n",
       "    <tr>\n",
       "      <th>2015-01-06 00:00:00.005</th>\n",
       "      <td>1.506576e+09</td>\n",
       "      <td>11.41</td>\n",
       "      <td>2.412029e+10</td>\n",
       "      <td>4.405080</td>\n",
       "      <td>11.453809</td>\n",
       "    </tr>\n",
       "    <tr>\n",
       "      <th>2015-01-07 00:00:00.005</th>\n",
       "      <td>7.360202e+08</td>\n",
       "      <td>11.33</td>\n",
       "      <td>2.395117e+10</td>\n",
       "      <td>2.187697</td>\n",
       "      <td>11.267179</td>\n",
       "    </tr>\n",
       "    <tr>\n",
       "      <th>2015-01-08 00:00:00.005</th>\n",
       "      <td>7.290254e+08</td>\n",
       "      <td>10.90</td>\n",
       "      <td>2.304217e+10</td>\n",
       "      <td>2.210072</td>\n",
       "      <td>11.047116</td>\n",
       "    </tr>\n",
       "    <tr>\n",
       "      <th>2015-01-09 00:00:00.005</th>\n",
       "      <td>8.447881e+08</td>\n",
       "      <td>10.90</td>\n",
       "      <td>2.304217e+10</td>\n",
       "      <td>2.548690</td>\n",
       "      <td>11.100522</td>\n",
       "    </tr>\n",
       "  </tbody>\n",
       "</table>\n",
       "</div>"
      ],
      "text/plain": [
       "                                  amt  close  mkt_freeshares      turn  \\\n",
       "2015-01-05 00:00:00.005  2.290106e+09  12.15    2.568462e+10  6.075370   \n",
       "2015-01-06 00:00:00.005  1.506576e+09  11.41    2.412029e+10  4.405080   \n",
       "2015-01-07 00:00:00.005  7.360202e+08  11.33    2.395117e+10  2.187697   \n",
       "2015-01-08 00:00:00.005  7.290254e+08  10.90    2.304217e+10  2.210072   \n",
       "2015-01-09 00:00:00.005  8.447881e+08  10.90    2.304217e+10  2.548690   \n",
       "\n",
       "                              vwap  \n",
       "2015-01-05 00:00:00.005  12.623954  \n",
       "2015-01-06 00:00:00.005  11.453809  \n",
       "2015-01-07 00:00:00.005  11.267179  \n",
       "2015-01-08 00:00:00.005  11.047116  \n",
       "2015-01-09 00:00:00.005  11.100522  "
      ]
     },
     "execution_count": 8,
     "metadata": {},
     "output_type": "execute_result"
    }
   ],
   "source": [
    "df.head()"
   ]
  },
  {
   "cell_type": "markdown",
   "metadata": {},
   "source": [
    "# 计算当日换手率\n",
    "当日换手率=成交额/自由流通市值"
   ]
  },
  {
   "cell_type": "code",
   "execution_count": 9,
   "metadata": {
    "collapsed": false
   },
   "outputs": [],
   "source": [
    "df[\"turnover\"] = df[\"amt\"] / df[\"mkt_freeshares\"]"
   ]
  },
  {
   "cell_type": "code",
   "execution_count": 10,
   "metadata": {
    "collapsed": false,
    "scrolled": false
   },
   "outputs": [
    {
     "data": {
      "text/html": [
       "<div>\n",
       "<table border=\"1\" class=\"dataframe\">\n",
       "  <thead>\n",
       "    <tr style=\"text-align: right;\">\n",
       "      <th></th>\n",
       "      <th>amt</th>\n",
       "      <th>close</th>\n",
       "      <th>mkt_freeshares</th>\n",
       "      <th>turn</th>\n",
       "      <th>vwap</th>\n",
       "      <th>turnover</th>\n",
       "    </tr>\n",
       "  </thead>\n",
       "  <tbody>\n",
       "    <tr>\n",
       "      <th>2017-03-15 00:00:00.005</th>\n",
       "      <td>158381968.0</td>\n",
       "      <td>11.20</td>\n",
       "      <td>2.265857e+10</td>\n",
       "      <td>0.472626</td>\n",
       "      <td>11.219107</td>\n",
       "      <td>0.006990</td>\n",
       "    </tr>\n",
       "    <tr>\n",
       "      <th>2017-03-16 00:00:00.005</th>\n",
       "      <td>179243478.0</td>\n",
       "      <td>11.25</td>\n",
       "      <td>2.275972e+10</td>\n",
       "      <td>0.533901</td>\n",
       "      <td>11.239645</td>\n",
       "      <td>0.007875</td>\n",
       "    </tr>\n",
       "    <tr>\n",
       "      <th>2017-03-17 00:00:00.005</th>\n",
       "      <td>295839794.0</td>\n",
       "      <td>11.27</td>\n",
       "      <td>2.280018e+10</td>\n",
       "      <td>0.869462</td>\n",
       "      <td>11.391370</td>\n",
       "      <td>0.012975</td>\n",
       "    </tr>\n",
       "    <tr>\n",
       "      <th>2017-03-20 00:00:00.005</th>\n",
       "      <td>185438680.0</td>\n",
       "      <td>11.00</td>\n",
       "      <td>2.225395e+10</td>\n",
       "      <td>0.560981</td>\n",
       "      <td>11.066791</td>\n",
       "      <td>0.008333</td>\n",
       "    </tr>\n",
       "    <tr>\n",
       "      <th>2017-03-21 00:00:00.005</th>\n",
       "      <td>124326511.0</td>\n",
       "      <td>11.14</td>\n",
       "      <td>2.253718e+10</td>\n",
       "      <td>0.376244</td>\n",
       "      <td>11.062787</td>\n",
       "      <td>0.005517</td>\n",
       "    </tr>\n",
       "  </tbody>\n",
       "</table>\n",
       "</div>"
      ],
      "text/plain": [
       "                                 amt  close  mkt_freeshares      turn  \\\n",
       "2017-03-15 00:00:00.005  158381968.0  11.20    2.265857e+10  0.472626   \n",
       "2017-03-16 00:00:00.005  179243478.0  11.25    2.275972e+10  0.533901   \n",
       "2017-03-17 00:00:00.005  295839794.0  11.27    2.280018e+10  0.869462   \n",
       "2017-03-20 00:00:00.005  185438680.0  11.00    2.225395e+10  0.560981   \n",
       "2017-03-21 00:00:00.005  124326511.0  11.14    2.253718e+10  0.376244   \n",
       "\n",
       "                              vwap  turnover  \n",
       "2017-03-15 00:00:00.005  11.219107  0.006990  \n",
       "2017-03-16 00:00:00.005  11.239645  0.007875  \n",
       "2017-03-17 00:00:00.005  11.391370  0.012975  \n",
       "2017-03-20 00:00:00.005  11.066791  0.008333  \n",
       "2017-03-21 00:00:00.005  11.062787  0.005517  "
      ]
     },
     "execution_count": 10,
     "metadata": {},
     "output_type": "execute_result"
    }
   ],
   "source": [
    "df.tail()"
   ]
  },
  {
   "cell_type": "code",
   "execution_count": 11,
   "metadata": {
    "collapsed": false
   },
   "outputs": [
    {
     "name": "stdout",
     "output_type": "stream",
     "text": [
      "2016-10-14 00:00:00.005000\n"
     ]
    }
   ],
   "source": [
    "for k in range(1, df.shape[0]):\n",
    "    if df[\"turnover\"][-k:].sum() >= 1:\n",
    "        print df.index[-k]\n",
    "        res_df = df[df.index >= df.index[-k]]\n",
    "        break"
   ]
  },
  {
   "cell_type": "code",
   "execution_count": 12,
   "metadata": {
    "collapsed": false
   },
   "outputs": [],
   "source": [
    "price = (res_df[\"vwap\"] * res_df[\"amt\"]).sum() / res_df[\"amt\"].sum()"
   ]
  },
  {
   "cell_type": "code",
   "execution_count": 13,
   "metadata": {
    "collapsed": false
   },
   "outputs": [
    {
     "data": {
      "text/plain": [
       "11.306590931506916"
      ]
     },
     "execution_count": 13,
     "metadata": {},
     "output_type": "execute_result"
    }
   ],
   "source": [
    "price"
   ]
  },
  {
   "cell_type": "markdown",
   "metadata": {},
   "source": [
    "# 读入文件"
   ]
  },
  {
   "cell_type": "code",
   "execution_count": 14,
   "metadata": {
    "collapsed": false
   },
   "outputs": [],
   "source": [
    "df = pd.read_excel(\"%s/%s.xlsx\"%(DATA_DIR, code), index_col=0)"
   ]
  },
  {
   "cell_type": "code",
   "execution_count": 15,
   "metadata": {
    "collapsed": false
   },
   "outputs": [],
   "source": [
    "df = df[df.index >= \"2015-01-01\"]"
   ]
  },
  {
   "cell_type": "code",
   "execution_count": 16,
   "metadata": {
    "collapsed": false
   },
   "outputs": [
    {
     "data": {
      "text/html": [
       "<div>\n",
       "<table border=\"1\" class=\"dataframe\">\n",
       "  <thead>\n",
       "    <tr style=\"text-align: right;\">\n",
       "      <th></th>\n",
       "      <th>amt</th>\n",
       "      <th>close</th>\n",
       "      <th>mkt_freeshares</th>\n",
       "      <th>vwap</th>\n",
       "      <th>turnover</th>\n",
       "    </tr>\n",
       "  </thead>\n",
       "  <tbody>\n",
       "    <tr>\n",
       "      <th>2015-01-05 00:00:00.005</th>\n",
       "      <td>2.290106e+09</td>\n",
       "      <td>11.449030</td>\n",
       "      <td>2.568462e+10</td>\n",
       "      <td>11.895640</td>\n",
       "      <td>0.089163</td>\n",
       "    </tr>\n",
       "    <tr>\n",
       "      <th>2015-01-06 00:00:00.005</th>\n",
       "      <td>1.506576e+09</td>\n",
       "      <td>10.751723</td>\n",
       "      <td>2.412029e+10</td>\n",
       "      <td>10.793005</td>\n",
       "      <td>0.062461</td>\n",
       "    </tr>\n",
       "    <tr>\n",
       "      <th>2015-01-07 00:00:00.005</th>\n",
       "      <td>7.360202e+08</td>\n",
       "      <td>10.676338</td>\n",
       "      <td>2.395117e+10</td>\n",
       "      <td>10.617141</td>\n",
       "      <td>0.030730</td>\n",
       "    </tr>\n",
       "    <tr>\n",
       "      <th>2015-01-08 00:00:00.005</th>\n",
       "      <td>7.290254e+08</td>\n",
       "      <td>10.271146</td>\n",
       "      <td>2.304217e+10</td>\n",
       "      <td>10.409775</td>\n",
       "      <td>0.031639</td>\n",
       "    </tr>\n",
       "    <tr>\n",
       "      <th>2015-01-09 00:00:00.005</th>\n",
       "      <td>8.447881e+08</td>\n",
       "      <td>10.271146</td>\n",
       "      <td>2.304217e+10</td>\n",
       "      <td>10.460100</td>\n",
       "      <td>0.036663</td>\n",
       "    </tr>\n",
       "  </tbody>\n",
       "</table>\n",
       "</div>"
      ],
      "text/plain": [
       "                                  amt      close  mkt_freeshares       vwap  \\\n",
       "2015-01-05 00:00:00.005  2.290106e+09  11.449030    2.568462e+10  11.895640   \n",
       "2015-01-06 00:00:00.005  1.506576e+09  10.751723    2.412029e+10  10.793005   \n",
       "2015-01-07 00:00:00.005  7.360202e+08  10.676338    2.395117e+10  10.617141   \n",
       "2015-01-08 00:00:00.005  7.290254e+08  10.271146    2.304217e+10  10.409775   \n",
       "2015-01-09 00:00:00.005  8.447881e+08  10.271146    2.304217e+10  10.460100   \n",
       "\n",
       "                         turnover  \n",
       "2015-01-05 00:00:00.005  0.089163  \n",
       "2015-01-06 00:00:00.005  0.062461  \n",
       "2015-01-07 00:00:00.005  0.030730  \n",
       "2015-01-08 00:00:00.005  0.031639  \n",
       "2015-01-09 00:00:00.005  0.036663  "
      ]
     },
     "execution_count": 16,
     "metadata": {},
     "output_type": "execute_result"
    }
   ],
   "source": [
    "df.head()"
   ]
  },
  {
   "cell_type": "markdown",
   "metadata": {},
   "source": [
    "# 持有成本与未来收益率之间的关系"
   ]
  },
  {
   "cell_type": "code",
   "execution_count": 17,
   "metadata": {
    "collapsed": false
   },
   "outputs": [
    {
     "name": "stdout",
     "output_type": "stream",
     "text": [
      "2015-04-01 00:00:00.005000 10.045597646 11.2322995176\n",
      "2015-06-01 00:00:00.005000 12.7425965997 12.7338096091\n",
      "2015-07-01 00:00:00.005000 13.7429768523 12.2920635744\n",
      "2015-09-01 00:00:00.005000 9.81969080006 8.63325402608\n",
      "2015-12-01 00:00:00.005000 8.87365662808 9.91047625686\n",
      "2016-02-01 00:00:00.005000 10.6470645301 8.29714291272\n",
      "2016-03-01 00:00:00.005000 9.29424095837 8.8349206941\n",
      "2016-04-01 00:00:00.005000 8.97225337501 8.88293656744\n",
      "2016-06-01 00:00:00.005000 9.14194063827 9.58396831816\n",
      "2016-07-01 00:00:00.005000 9.2153972702 9.38230165015\n",
      "2016-08-01 00:00:00.005000 9.44692911268 10.25\n",
      "2016-09-01 00:00:00.005000 12.3816180203 11.7\n",
      "2016-11-01 00:00:00.005000 12.2336597964 11.4\n",
      "2016-12-01 00:00:00.005000 11.7119934658 12.46\n",
      "2017-03-01 00:00:00.005000 11.3354600047 10.95\n"
     ]
    }
   ],
   "source": [
    "df.loc[:, \"cost_return\"] = np.nan\n",
    "k = 0\n",
    "for index in df.index:\n",
    "    \n",
    "    if df[df.index <= index][\"turnover\"].sum() < 1:\n",
    "        continue\n",
    "    prev_index = df.index[k]\n",
    "    while df[(df.index >= prev_index) & (df.index <= index)][\"turnover\"].sum() > 1:\n",
    "        k += 1\n",
    "        prev_index = df.index[k]\n",
    "    prev_index = df.index[k-1]\n",
    "    temp_df = df[(df.index >= prev_index) & (df.index <= index)]\n",
    "    cost = (temp_df[\"vwap\"] * temp_df[\"amt\"]).sum() / temp_df[\"amt\"].sum()\n",
    "    price = temp_df[\"close\"][-1]\n",
    "    if index.day == 1:\n",
    "        print index, cost, price\n",
    "    df.loc[index, \"cost_return\"] = (price - cost) / cost"
   ]
  },
  {
   "cell_type": "code",
   "execution_count": 18,
   "metadata": {
    "collapsed": false
   },
   "outputs": [],
   "source": [
    "periods = 20\n",
    "df[\"return\"] = df[\"close\"].pct_change(periods)"
   ]
  },
  {
   "cell_type": "code",
   "execution_count": 19,
   "metadata": {
    "collapsed": false
   },
   "outputs": [
    {
     "data": {
      "text/plain": [
       "-0.038725418470240039"
      ]
     },
     "execution_count": 19,
     "metadata": {},
     "output_type": "execute_result"
    }
   ],
   "source": [
    "df[\"return\"].corr(df[\"cost_return\"].shift(periods))"
   ]
  },
  {
   "cell_type": "code",
   "execution_count": 20,
   "metadata": {
    "collapsed": false
   },
   "outputs": [],
   "source": [
    "corrs = []\n",
    "for k in range(5, df.dropna().shape[0]):\n",
    "    corr = df[\"close\"].pct_change(k).corr(df[\"cost_return\"].shift(k))\n",
    "    corrs.append(corr)"
   ]
  },
  {
   "cell_type": "code",
   "execution_count": 21,
   "metadata": {
    "collapsed": false
   },
   "outputs": [
    {
     "data": {
      "text/plain": [
       "[<matplotlib.lines.Line2D at 0xa63a3f0>]"
      ]
     },
     "execution_count": 21,
     "metadata": {},
     "output_type": "execute_result"
    },
    {
     "data": {
      "image/png": "[encoded data removed]",
      "text/plain": [
       "<matplotlib.figure.Figure at 0xa42bb30>"
      ]
     },
     "metadata": {},
     "output_type": "display_data"
    }
   ],
   "source": [
    "plt.plot(-np.array(corrs))"
   ]
  },
  {
   "cell_type": "code",
   "execution_count": 22,
   "metadata": {
    "collapsed": false
   },
   "outputs": [
    {
     "data": {
      "text/plain": [
       "(539, 7)"
      ]
     },
     "execution_count": 22,
     "metadata": {},
     "output_type": "execute_result"
    }
   ],
   "source": [
    "df.shape"
   ]
  },
  {
   "cell_type": "markdown",
   "metadata": {},
   "source": [
    "# 计算所有股票的历史平均持有成本"
   ]
  },
  {
   "cell_type": "markdown",
   "metadata": {},
   "source": [
    "### 提取所有股票数据"
   ]
  },
  {
   "cell_type": "code",
   "execution_count": 23,
   "metadata": {
    "collapsed": true
   },
   "outputs": [],
   "source": [
    "files = [f for f in os.listdir(DATA_DIR) if f.endswith(\"xlsx\")]"
   ]
  },
  {
   "cell_type": "code",
   "execution_count": 24,
   "metadata": {
    "collapsed": false
   },
   "outputs": [
    {
     "data": {
      "text/plain": [
       "800"
      ]
     },
     "execution_count": 24,
     "metadata": {},
     "output_type": "execute_result"
    }
   ],
   "source": [
    "len(files)"
   ]
  },
  {
   "cell_type": "markdown",
   "metadata": {},
   "source": [
    "### 计算每只股票每天的换手天数、平均持有成本、和收盘价"
   ]
  },
  {
   "cell_type": "code",
   "execution_count": 25,
   "metadata": {
    "collapsed": false
   },
   "outputs": [],
   "source": [
    "BY_STOCK_DIR = \"D:/Data/avg_cost/by stock\"\n",
    "BY_DATE_DIR = \"D:/Data/avg_cost/by date\""
   ]
  },
  {
   "cell_type": "code",
   "execution_count": 26,
   "metadata": {
    "collapsed": true
   },
   "outputs": [],
   "source": [
    "def convert_cost(df):\n",
    "    df.loc[:, \"turnover days\"] = np.nan # 换手天数\n",
    "    df.loc[:, \"avg cost\"] = np.nan # 平均持有成本\n",
    "    k = 0\n",
    "    for index in df.index:\n",
    "        if df[df.index <= index][\"turnover\"].sum() < 1:\n",
    "            continue\n",
    "        # 双指针维护一段区间使得该区间内的换手率总和正好大于等于1\n",
    "        prev_index = df.index[k]\n",
    "        while df[(df.index >= prev_index) & (df.index <= index)][\"turnover\"].sum() > 1:\n",
    "            k += 1\n",
    "            prev_index = df.index[k]\n",
    "        k -=1\n",
    "        prev_index = df.index[k]\n",
    "        \n",
    "        if index.year < 2015:\n",
    "            continue\n",
    "\n",
    "        \n",
    "        # (prev_index, index)这段区间里的换手率总和正好大于等于1\n",
    "        temp_df = df[(df.index >= prev_index) & (df.index <= index)]\n",
    "        cost = (temp_df[\"vwap\"] * temp_df[\"amt\"]).sum() / temp_df[\"amt\"].sum()\n",
    "        df.loc[index, \"avg cost\"] = cost\n",
    "        df.loc[index, \"turnover days\"] = (index - prev_index).days\n",
    "    return df[df.index >= \"2015-01-01\"][[\"turnover days\", \"avg cost\", \"close\"]]"
   ]
  },
  {
   "cell_type": "code",
   "execution_count": 27,
   "metadata": {
    "collapsed": false
   },
   "outputs": [],
   "source": [
    "dic = {}\n",
    "for stock in files[:1]:\n",
    "    fname = \"%s/%s\"%(DATA_DIR, stock)\n",
    "    df = pd.read_excel(fname, index_col=0)\n",
    "    df.index = pd.to_datetime(df.index)\n",
    "    df = df[df.index >= \"2014-01-01\"]\n",
    "    df = convert_cost(df)\n",
    "    dic[stock] = df"
   ]
  },
  {
   "cell_type": "code",
   "execution_count": 28,
   "metadata": {
    "collapsed": false
   },
   "outputs": [
    {
     "data": {
      "text/plain": [
       "<matplotlib.axes._subplots.AxesSubplot at 0xa738e10>"
      ]
     },
     "execution_count": 28,
     "metadata": {},
     "output_type": "execute_result"
    },
    {
     "data": {
      "image/png": "[encoded data removed]",
      "text/plain": [
       "<matplotlib.figure.Figure at 0xa42ba10>"
      ]
     },
     "metadata": {},
     "output_type": "display_data"
    }
   ],
   "source": [
    "(dic['000001.SZ.xlsx'][\"avg cost\"] * 10).plot()\n",
    "(dic['000001.SZ.xlsx'][\"close\"] * 10).plot()\n",
    "dic['000001.SZ.xlsx']['turnover days'].plot()"
   ]
  },
  {
   "cell_type": "markdown",
   "metadata": {},
   "source": [
    "# 验证成本因子的有效性"
   ]
  },
  {
   "cell_type": "code",
   "execution_count": 29,
   "metadata": {
    "collapsed": true
   },
   "outputs": [],
   "source": [
    "files = [f for f in os.listdir(BY_STOCK_DIR)]"
   ]
  },
  {
   "cell_type": "code",
   "execution_count": 30,
   "metadata": {
    "collapsed": false
   },
   "outputs": [
    {
     "data": {
      "text/plain": [
       "800"
      ]
     },
     "execution_count": 30,
     "metadata": {},
     "output_type": "execute_result"
    }
   ],
   "source": [
    "len(files)"
   ]
  },
  {
   "cell_type": "code",
   "execution_count": 31,
   "metadata": {
    "collapsed": true
   },
   "outputs": [],
   "source": [
    "dic = {}\n",
    "for stock in files:\n",
    "    df = pd.read_excel(\"%s/%s\"%(BY_STOCK_DIR, stock), index_col=0)\n",
    "    df.index = pd.to_datetime(df.index)\n",
    "    dic[stock[:-5]] = df\n",
    "pnl = pd.Panel(dic)"
   ]
  },
  {
   "cell_type": "code",
   "execution_count": 32,
   "metadata": {
    "collapsed": false
   },
   "outputs": [
    {
     "data": {
      "text/plain": [
       "<matplotlib.axes._subplots.AxesSubplot at 0xbd28950>"
      ]
     },
     "execution_count": 32,
     "metadata": {},
     "output_type": "execute_result"
    },
    {
     "name": "stderr",
     "output_type": "stream",
     "text": [
      "C:\\Users\\jgtzsx01\\AppData\\Local\\Continuum\\Anaconda2\\lib\\site-packages\\matplotlib\\transforms.py:661: RuntimeWarning: invalid value encountered in absolute\n",
      "  inside = ((abs(dx0 + dx1) + abs(dy0 + dy1)) == 0)\n"
     ]
    },
    {
     "data": {
      "image/png": "[encoded data removed]",
      "text/plain": [
       "<matplotlib.figure.Figure at 0xb742370>"
      ]
     },
     "metadata": {},
     "output_type": "display_data"
    }
   ],
   "source": [
    "plt.figure(figsize=(16, 9))\n",
    "pnl[\"000001.SZ\"][\"avg cost\"].plot(legend=True)\n",
    "pnl[\"000001.SZ\"][\"close\"].plot(legend=True)"
   ]
  },
  {
   "cell_type": "code",
   "execution_count": 33,
   "metadata": {
    "collapsed": true
   },
   "outputs": [],
   "source": [
    "start_date = \"2015-03-01\"\n",
    "dates = pnl[\"000001.SZ\"][pnl[\"000001.SZ\"].index >= start_date].index\n",
    "n_groups = 10\n",
    "every_group = np.ceil(len(pnl.items) * 1.0 / n_groups)"
   ]
  },
  {
   "cell_type": "markdown",
   "metadata": {},
   "source": [
    "### 计算每日的浮盈/浮亏"
   ]
  },
  {
   "cell_type": "code",
   "execution_count": 34,
   "metadata": {
    "collapsed": false
   },
   "outputs": [],
   "source": [
    "pnl.ix[:, :, \"current return\"] = (pnl.minor_xs(\"close\") - pnl.minor_xs(\"avg cost\")) / pnl.minor_xs(\"avg cost\")"
   ]
  },
  {
   "cell_type": "markdown",
   "metadata": {},
   "source": [
    "### 计算滚动t日的浮盈/浮亏"
   ]
  },
  {
   "cell_type": "code",
   "execution_count": 35,
   "metadata": {
    "collapsed": true
   },
   "outputs": [],
   "source": [
    "t = 7\n",
    "pnl.ix[:, :, \"rolling current return\"] = pnl.minor_xs(\"current return\").rolling(window=t).mean()"
   ]
  },
  {
   "cell_type": "markdown",
   "metadata": {},
   "source": [
    "### 计算每只股票的frequency收益率\n",
    "frequuency可以是日、周、月、固定k天，也可以是每只股票的100%换手天数"
   ]
  },
  {
   "cell_type": "code",
   "execution_count": 36,
   "metadata": {
    "collapsed": false
   },
   "outputs": [],
   "source": [
    "k = 23\n",
    "pnl.loc[:, :, \"return\"] = pnl.minor_xs(\"close\").pct_change(k) # 20个交易日年化收益率\n",
    "pnl.loc[:, :, \"return\"] = pnl.minor_xs(\"return\").shift(-k) # 要预测的目标收益率"
   ]
  },
  {
   "cell_type": "code",
   "execution_count": 37,
   "metadata": {
    "collapsed": false
   },
   "outputs": [],
   "source": [
    "# # 用每只股票的平均100%换手天数作为收益率回看区间\n",
    "# for stock in pnl.items:\n",
    "#     mean_turnover_days = int(pnl.loc[stock, :, \"turnover days\"].median())\n",
    "#     pnl.loc[:, :, \"return\"] = pnl.minor_xs(\"close\").pct_change(mean_turnover_days).shift(-mean_turnover_days)"
   ]
  },
  {
   "cell_type": "markdown",
   "metadata": {},
   "source": [
    "### 枚举日期，每天按滚动t日的浮盈/浮亏分组，并得到每组的收益率"
   ]
  },
  {
   "cell_type": "code",
   "execution_count": 38,
   "metadata": {
    "collapsed": false
   },
   "outputs": [
    {
     "name": "stdout",
     "output_type": "stream",
     "text": [
      "2015-04-01 00:00:00.005000\n",
      "2015-06-01 00:00:00.005000\n",
      "2015-07-01 00:00:00.005000\n",
      "2015-09-01 00:00:00.005000\n",
      "2015-12-01 00:00:00.005000\n",
      "2016-02-01 00:00:00.005000\n",
      "2016-03-01 00:00:00.005000\n",
      "2016-04-01 00:00:00.005000\n",
      "2016-06-01 00:00:00.005000\n",
      "2016-07-01 00:00:00.005000\n",
      "2016-08-01 00:00:00.005000\n",
      "2016-09-01 00:00:00.005000\n",
      "2016-11-01 00:00:00.005000\n",
      "2016-12-01 00:00:00.005000\n",
      "2017-03-01 00:00:00.005000\n"
     ]
    }
   ],
   "source": [
    "group_df = pd.DataFrame(index=dates, columns=range(1, n_groups+1))\n",
    "for date in dates:\n",
    "    df = pnl.major_xs(date).T\n",
    "    # 按当前浮盈/浮亏收益率从大到小排序，\n",
    "    # 收益率高的说明当前价格远高于成本，收益低的说明当前价格远低于成本\n",
    "    df.sort_values(by=\"rolling current return\", inplace=True, ascending=False) \n",
    "    # 分组\n",
    "    df[\"rank\"] = range(1, df.shape[0]+1)\n",
    "    df[\"rank\"] = np.ceil(df[\"rank\"] / every_group)\n",
    "    # 得到每组平均收益\n",
    "    group_df.loc[date, :] = df.groupby(\"rank\")[\"return\"].mean()\n",
    "    if date.day == 1:\n",
    "        print date"
   ]
  },
  {
   "cell_type": "code",
   "execution_count": 39,
   "metadata": {
    "collapsed": false
   },
   "outputs": [],
   "source": [
    "res = group_df.mean()\n",
    "data = pd.DataFrame({'group': res.index, 'return': res.values})"
   ]
  },
  {
   "cell_type": "code",
   "execution_count": 40,
   "metadata": {
    "collapsed": false
   },
   "outputs": [
    {
     "name": "stdout",
     "output_type": "stream",
     "text": [
      "2015-06-11 00:00:00.005000 -0.358098449111\n"
     ]
    }
   ],
   "source": [
    "print group_df[n_groups-1].argmin(), group_df[n_groups-1].min()"
   ]
  },
  {
   "cell_type": "code",
   "execution_count": 41,
   "metadata": {
    "collapsed": false
   },
   "outputs": [
    {
     "name": "stdout",
     "output_type": "stream",
     "text": [
      "279 200 58.00%\n"
     ]
    }
   ],
   "source": [
    "win, loss = (group_df[n_groups-1]>0).sum(), (group_df[n_groups-1]<0).sum()\n",
    "print win, loss, \"%.2f%%\"%((win*100/(win+loss)))"
   ]
  },
  {
   "cell_type": "code",
   "execution_count": 43,
   "metadata": {
    "collapsed": false
   },
   "outputs": [
    {
     "data": {
      "text/plain": [
       "1    -0.002898\n",
       "2     0.008497\n",
       "3     0.012503\n",
       "4     0.013540\n",
       "5     0.016491\n",
       "6     0.016038\n",
       "7     0.015044\n",
       "8     0.017618\n",
       "9     0.022412\n",
       "10    0.050567\n",
       "dtype: float64"
      ]
     },
     "execution_count": 43,
     "metadata": {},
     "output_type": "execute_result"
    }
   ],
   "source": [
    "res"
   ]
  },
  {
   "cell_type": "code",
   "execution_count": 42,
   "metadata": {
    "collapsed": false,
    "scrolled": true
   },
   "outputs": [
    {
     "data": {
      "text/plain": [
       "[<matplotlib.text.Text at 0xbe8aa30>,\n",
       " <matplotlib.text.Text at 0xbbc2cf0>,\n",
       " <matplotlib.text.Text at 0x1fc9f7d0>,\n",
       " <matplotlib.text.Text at 0x1fc9faf0>,\n",
       " <matplotlib.text.Text at 0x1fc9fcb0>,\n",
       " <matplotlib.text.Text at 0xbbd2970>,\n",
       " <matplotlib.text.Text at 0x1fc9fc90>,\n",
       " <matplotlib.text.Text at 0x1fa890d0>]"
      ]
     },
     "execution_count": 42,
     "metadata": {},
     "output_type": "execute_result"
    },
    {
     "data": {
      "image/png": "[encoded data removed]",
      "text/plain": [
       "<matplotlib.figure.Figure at 0x1ff32af0>"
      ]
     },
     "metadata": {},
     "output_type": "display_data"
    }
   ],
   "source": [
    "plt.figure(figsize=(16, 9))\n",
    "ax = sns.barplot(x='group', y='return', data=data, palette=\"Blues_d\")\n",
    "vals = ax.get_yticks()\n",
    "ax.set_yticklabels(['{:3.2f}%'.format(x*100) for x in vals])"
   ]
  },
  {
   "cell_type": "code",
   "execution_count": 71,
   "metadata": {
    "collapsed": false
   },
   "outputs": [
    {
     "data": {
      "text/plain": [
       "<matplotlib.axes._subplots.AxesSubplot at 0xbde8510>"
      ]
     },
     "execution_count": 71,
     "metadata": {},
     "output_type": "execute_result"
    },
    {
     "data": {
      "image/png": "[encoded data removed]",
      "text/plain": [
       "<matplotlib.figure.Figure at 0x1d538670>"
      ]
     },
     "metadata": {},
     "output_type": "display_data"
    }
   ],
   "source": [
    "(1+group_df[n_groups-1].resample('W').last()).cumprod().plot()"
   ]
  },
  {
   "cell_type": "markdown",
   "metadata": {},
   "source": [
    "# 枚举t和k并画出heatmap图找出最优搭配"
   ]
  },
  {
   "cell_type": "code",
   "execution_count": 668,
   "metadata": {
    "collapsed": true
   },
   "outputs": [],
   "source": [
    "ts = range(1, 16)\n",
    "ks = [5] + range(10, 180, 10)\n",
    "select_df = pd.DataFrame(index=ks, columns=ts)\n",
    "dates = pnl[\"000001.SZ\"][pnl[\"000001.SZ\"].index >= start_date].index"
   ]
  },
  {
   "cell_type": "code",
   "execution_count": 669,
   "metadata": {
    "collapsed": false
   },
   "outputs": [
    {
     "name": "stdout",
     "output_type": "stream",
     "text": [
      "1\n",
      "2\n",
      "3\n",
      "4\n",
      "5\n",
      "6\n",
      "7\n",
      "8\n",
      "9\n",
      "10\n",
      "11\n",
      "12\n",
      "13\n",
      "14\n",
      "15\n"
     ]
    }
   ],
   "source": [
    "for t in ts:\n",
    "    pnl.ix[:, :, \"rolling current return\"] = pnl.minor_xs(\"current return\").rolling(window=t).mean()\n",
    "    print(t)\n",
    "    for k in ks:\n",
    "#         print(\"%d %d\"%(t, k))\n",
    "        pnl.loc[:, :, \"return\"] = pnl.minor_xs(\"close\").pct_change(k) # 20个交易日收益率\n",
    "        pnl.loc[:, :, \"return\"] = pnl.minor_xs(\"return\").shift(-k) # 要预测的目标收益率\n",
    "        \n",
    "        group_df = pd.DataFrame(index=dates, columns=range(1, n_groups+1))\n",
    "        for date in dates:\n",
    "            df = pnl.major_xs(date).T\n",
    "            # 按当前浮盈/浮亏收益率从大到小排序，\n",
    "            # 收益率高的说明当前价格远高于成本，收益低的说明当前价格远低于成本\n",
    "            df.sort_values(by=\"rolling current return\", inplace=True, ascending=False) \n",
    "            # 分组\n",
    "            df[\"rank\"] = range(1, df.shape[0]+1)\n",
    "            df[\"rank\"] = np.ceil(df[\"rank\"] / every_group)\n",
    "            # 得到每组平均收益\n",
    "            group_df.loc[date, :] = df.groupby(\"rank\")[\"return\"].mean()\n",
    "            \n",
    "        select_df.loc[k, t] = group_df[n_groups-1].mean() # 最后一组的平均年化收益率\n",
    "        # 最后一组的平均年化收益率-所有组的平均年化收益率\n",
    "#         select_df.loc[k, t] = (group_df[n_groups-1].mean() - group_df.mean().mean())"
   ]
  },
  {
   "cell_type": "code",
   "execution_count": 623,
   "metadata": {
    "collapsed": false
   },
   "outputs": [
    {
     "data": {
      "image/png": "[encoded data removed]",
      "text/plain": [
       "<matplotlib.figure.Figure at 0x22c49d90>"
      ]
     },
     "metadata": {},
     "output_type": "display_data"
    }
   ],
   "source": [
    "plt.figure(figsize=(16, 9))\n",
    "ax = sns.heatmap(select_df.fillna(select_df.mean()))"
   ]
  },
  {
   "cell_type": "markdown",
   "metadata": {},
   "source": [
    "# 把当前持有成本按浮亏排序输出到文件"
   ]
  },
  {
   "cell_type": "code",
   "execution_count": 675,
   "metadata": {
    "collapsed": false
   },
   "outputs": [],
   "source": [
    "cost_sort_df = pd.DataFrame(pnl.minor_xs(\"current return\").dropna().ix[-1])"
   ]
  },
  {
   "cell_type": "code",
   "execution_count": 677,
   "metadata": {
    "collapsed": false
   },
   "outputs": [],
   "source": [
    "cost_sort_df.columns = [\"current return\"]"
   ]
  },
  {
   "cell_type": "code",
   "execution_count": 679,
   "metadata": {
    "collapsed": false
   },
   "outputs": [],
   "source": [
    "cost_sort_df.sort_values(\"current return\").to_excel(\"C:/Users/jgtzsx01/Desktop/cost_sort.xlsx\")"
   ]
  },
  {
   "cell_type": "code",
   "execution_count": null,
   "metadata": {
    "collapsed": true
   },
   "outputs": [],
   "source": []
  }
 ],
 "metadata": {
  "anaconda-cloud": {},
  "kernelspec": {
   "display_name": "Python [default]",
   "language": "python",
   "name": "python2"
  },
  "language_info": {
   "codemirror_mode": {
    "name": "ipython",
    "version": 2
   },
   "file_extension": ".py",
   "mimetype": "text/x-python",
   "name": "python",
   "nbconvert_exporter": "python",
   "pygments_lexer": "ipython2",
   "version": "2.7.12"
  }
 },
 "nbformat": 4,
 "nbformat_minor": 1
}
