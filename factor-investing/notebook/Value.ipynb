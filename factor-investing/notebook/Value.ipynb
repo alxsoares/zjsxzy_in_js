{
 "cells": [
  {
   "cell_type": "code",
   "execution_count": 1,
   "metadata": {
    "collapsed": true
   },
   "outputs": [],
   "source": [
    "from WindPy import w\n",
    "import pandas as pd\n",
    "import numpy as np\n",
    "import seaborn as sns\n",
    "import matplotlib.pyplot as plt\n",
    "from WindPy import w\n",
    "%matplotlib inline"
   ]
  },
  {
   "cell_type": "code",
   "execution_count": 2,
   "metadata": {
    "collapsed": true
   },
   "outputs": [],
   "source": [
    "sns.set_style(\"darkgrid\")"
   ]
  },
  {
   "cell_type": "code",
   "execution_count": 3,
   "metadata": {
    "collapsed": false
   },
   "outputs": [
    {
     "name": "stdout",
     "output_type": "stream",
     "text": [
      "Welcome to use Wind Quant API for Python (WindPy)!\n",
      "You can use w.menu to help yourself to create commands(WSD,WSS,WST,WSI,WSQ,...)!\n",
      "\n",
      "COPYRIGHT (C) 2016 WIND HONGHUI INFORMATION & TECHKNOLEWDGE CO., LTD. ALL RIGHTS RESERVED.\n",
      "IN NO CIRCUMSTANCE SHALL WIND BE RESPONSIBLE FOR ANY DAMAGES OR LOSSES CAUSED BY USING WIND QUANT API FOR Python.\n"
     ]
    },
    {
     "data": {
      "text/plain": [
       ".ErrorCode=0\n",
       ".Data=[OK!]"
      ]
     },
     "execution_count": 3,
     "metadata": {},
     "output_type": "execute_result"
    }
   ],
   "source": [
    "w.start()"
   ]
  },
  {
   "cell_type": "code",
   "execution_count": 4,
   "metadata": {
    "collapsed": true
   },
   "outputs": [],
   "source": [
    "DATA_DIR = \"C:/Users/jgtzsx01/Documents/workspace/data/factor-investing/\"\n",
    "STOCK_FILE = \"%s/stock.xlsx\"%(DATA_DIR)\n",
    "BOND_FILE = \"%s/bond.xlsx\"%(DATA_DIR)\n",
    "HK_FILE = \"%s/hk.xlsx\"%(DATA_DIR)\n",
    "START_DATE = \"2005-01-01\"\n",
    "END_DATE = \"2016-12-31\"\n",
    "years = [str(y) for y in range(int(START_DATE[:4])+1, int(END_DATE[:4])+1)]"
   ]
  },
  {
   "cell_type": "code",
   "execution_count": 5,
   "metadata": {
    "collapsed": true
   },
   "outputs": [],
   "source": [
    "stock_df = pd.read_excel(STOCK_FILE)"
   ]
  },
  {
   "cell_type": "code",
   "execution_count": 6,
   "metadata": {
    "collapsed": false
   },
   "outputs": [],
   "source": [
    "stock_df.set_index('code', inplace=True)"
   ]
  },
  {
   "cell_type": "code",
   "execution_count": 7,
   "metadata": {
    "collapsed": false
   },
   "outputs": [
    {
     "data": {
      "text/html": [
       "<div>\n",
       "<table border=\"1\" class=\"dataframe\">\n",
       "  <thead>\n",
       "    <tr style=\"text-align: right;\">\n",
       "      <th></th>\n",
       "      <th>name</th>\n",
       "    </tr>\n",
       "    <tr>\n",
       "      <th>code</th>\n",
       "      <th></th>\n",
       "    </tr>\n",
       "  </thead>\n",
       "  <tbody>\n",
       "    <tr>\n",
       "      <th>CI005001.WI</th>\n",
       "      <td>石油石化</td>\n",
       "    </tr>\n",
       "    <tr>\n",
       "      <th>CI005002.WI</th>\n",
       "      <td>煤炭</td>\n",
       "    </tr>\n",
       "    <tr>\n",
       "      <th>CI005003.WI</th>\n",
       "      <td>有色金属</td>\n",
       "    </tr>\n",
       "    <tr>\n",
       "      <th>CI005004.WI</th>\n",
       "      <td>电力及公用事业</td>\n",
       "    </tr>\n",
       "    <tr>\n",
       "      <th>CI005005.WI</th>\n",
       "      <td>钢铁</td>\n",
       "    </tr>\n",
       "    <tr>\n",
       "      <th>CI005006.WI</th>\n",
       "      <td>基础化工</td>\n",
       "    </tr>\n",
       "    <tr>\n",
       "      <th>CI005007.WI</th>\n",
       "      <td>建筑</td>\n",
       "    </tr>\n",
       "    <tr>\n",
       "      <th>CI005008.WI</th>\n",
       "      <td>建材</td>\n",
       "    </tr>\n",
       "    <tr>\n",
       "      <th>CI005009.WI</th>\n",
       "      <td>轻工制造</td>\n",
       "    </tr>\n",
       "    <tr>\n",
       "      <th>CI005010.WI</th>\n",
       "      <td>机械</td>\n",
       "    </tr>\n",
       "    <tr>\n",
       "      <th>CI005011.WI</th>\n",
       "      <td>电力设备</td>\n",
       "    </tr>\n",
       "    <tr>\n",
       "      <th>CI005012.WI</th>\n",
       "      <td>国防军工</td>\n",
       "    </tr>\n",
       "    <tr>\n",
       "      <th>CI005013.WI</th>\n",
       "      <td>汽车</td>\n",
       "    </tr>\n",
       "    <tr>\n",
       "      <th>CI005014.WI</th>\n",
       "      <td>商贸零售</td>\n",
       "    </tr>\n",
       "    <tr>\n",
       "      <th>CI005015.WI</th>\n",
       "      <td>餐饮旅游</td>\n",
       "    </tr>\n",
       "    <tr>\n",
       "      <th>CI005016.WI</th>\n",
       "      <td>家电</td>\n",
       "    </tr>\n",
       "    <tr>\n",
       "      <th>CI005017.WI</th>\n",
       "      <td>纺织服装</td>\n",
       "    </tr>\n",
       "    <tr>\n",
       "      <th>CI005018.WI</th>\n",
       "      <td>医药</td>\n",
       "    </tr>\n",
       "    <tr>\n",
       "      <th>CI005019.WI</th>\n",
       "      <td>食品饮料</td>\n",
       "    </tr>\n",
       "    <tr>\n",
       "      <th>CI005020.WI</th>\n",
       "      <td>农林牧渔</td>\n",
       "    </tr>\n",
       "    <tr>\n",
       "      <th>CI005021.WI</th>\n",
       "      <td>银行</td>\n",
       "    </tr>\n",
       "    <tr>\n",
       "      <th>CI005022.WI</th>\n",
       "      <td>非银行金融</td>\n",
       "    </tr>\n",
       "    <tr>\n",
       "      <th>CI005023.WI</th>\n",
       "      <td>房地产</td>\n",
       "    </tr>\n",
       "    <tr>\n",
       "      <th>CI005024.WI</th>\n",
       "      <td>交通运输</td>\n",
       "    </tr>\n",
       "    <tr>\n",
       "      <th>CI005025.WI</th>\n",
       "      <td>电子元器件</td>\n",
       "    </tr>\n",
       "    <tr>\n",
       "      <th>CI005026.WI</th>\n",
       "      <td>通信</td>\n",
       "    </tr>\n",
       "    <tr>\n",
       "      <th>CI005027.WI</th>\n",
       "      <td>计算机</td>\n",
       "    </tr>\n",
       "    <tr>\n",
       "      <th>CI005028.WI</th>\n",
       "      <td>传媒</td>\n",
       "    </tr>\n",
       "    <tr>\n",
       "      <th>CI005029.WI</th>\n",
       "      <td>综合</td>\n",
       "    </tr>\n",
       "  </tbody>\n",
       "</table>\n",
       "</div>"
      ],
      "text/plain": [
       "                name\n",
       "code                \n",
       "CI005001.WI     石油石化\n",
       "CI005002.WI       煤炭\n",
       "CI005003.WI     有色金属\n",
       "CI005004.WI  电力及公用事业\n",
       "CI005005.WI       钢铁\n",
       "CI005006.WI     基础化工\n",
       "CI005007.WI       建筑\n",
       "CI005008.WI       建材\n",
       "CI005009.WI     轻工制造\n",
       "CI005010.WI       机械\n",
       "CI005011.WI     电力设备\n",
       "CI005012.WI     国防军工\n",
       "CI005013.WI       汽车\n",
       "CI005014.WI     商贸零售\n",
       "CI005015.WI     餐饮旅游\n",
       "CI005016.WI       家电\n",
       "CI005017.WI     纺织服装\n",
       "CI005018.WI       医药\n",
       "CI005019.WI     食品饮料\n",
       "CI005020.WI     农林牧渔\n",
       "CI005021.WI       银行\n",
       "CI005022.WI    非银行金融\n",
       "CI005023.WI      房地产\n",
       "CI005024.WI     交通运输\n",
       "CI005025.WI    电子元器件\n",
       "CI005026.WI       通信\n",
       "CI005027.WI      计算机\n",
       "CI005028.WI       传媒\n",
       "CI005029.WI       综合"
      ]
     },
     "execution_count": 7,
     "metadata": {},
     "output_type": "execute_result"
    }
   ],
   "source": [
    "stock_df"
   ]
  },
  {
   "cell_type": "code",
   "execution_count": 8,
   "metadata": {
    "collapsed": true
   },
   "outputs": [],
   "source": [
    "bond_df = pd.read_excel(BOND_FILE)"
   ]
  },
  {
   "cell_type": "code",
   "execution_count": 9,
   "metadata": {
    "collapsed": false
   },
   "outputs": [],
   "source": [
    "bond_df.set_index('code', inplace=True)"
   ]
  },
  {
   "cell_type": "code",
   "execution_count": 10,
   "metadata": {
    "collapsed": false
   },
   "outputs": [
    {
     "data": {
      "text/html": [
       "<div>\n",
       "<table border=\"1\" class=\"dataframe\">\n",
       "  <thead>\n",
       "    <tr style=\"text-align: right;\">\n",
       "      <th></th>\n",
       "      <th>name</th>\n",
       "    </tr>\n",
       "    <tr>\n",
       "      <th>code</th>\n",
       "      <th></th>\n",
       "    </tr>\n",
       "  </thead>\n",
       "  <tbody>\n",
       "    <tr>\n",
       "      <th>038.CS</th>\n",
       "      <td>中债国债</td>\n",
       "    </tr>\n",
       "    <tr>\n",
       "      <th>042.CS</th>\n",
       "      <td>中债金融债券</td>\n",
       "    </tr>\n",
       "    <tr>\n",
       "      <th>078.CS</th>\n",
       "      <td>中债企业债AAA</td>\n",
       "    </tr>\n",
       "    <tr>\n",
       "      <th>079.CS</th>\n",
       "      <td>中债企业债AA+</td>\n",
       "    </tr>\n",
       "    <tr>\n",
       "      <th>080.CS</th>\n",
       "      <td>中债企业债AA</td>\n",
       "    </tr>\n",
       "    <tr>\n",
       "      <th>081.CS</th>\n",
       "      <td>中债企业债AA-</td>\n",
       "    </tr>\n",
       "    <tr>\n",
       "      <th>053.CS</th>\n",
       "      <td>中债短融</td>\n",
       "    </tr>\n",
       "    <tr>\n",
       "      <th>H11025.CSI</th>\n",
       "      <td>货币基金</td>\n",
       "    </tr>\n",
       "    <tr>\n",
       "      <th>098.CS</th>\n",
       "      <td>中债银行间资产支持证券</td>\n",
       "    </tr>\n",
       "  </tbody>\n",
       "</table>\n",
       "</div>"
      ],
      "text/plain": [
       "                   name\n",
       "code                   \n",
       "038.CS             中债国债\n",
       "042.CS           中债金融债券\n",
       "078.CS         中债企业债AAA\n",
       "079.CS         中债企业债AA+\n",
       "080.CS          中债企业债AA\n",
       "081.CS         中债企业债AA-\n",
       "053.CS             中债短融\n",
       "H11025.CSI         货币基金\n",
       "098.CS      中债银行间资产支持证券"
      ]
     },
     "execution_count": 10,
     "metadata": {},
     "output_type": "execute_result"
    }
   ],
   "source": [
    "bond_df"
   ]
  },
  {
   "cell_type": "code",
   "execution_count": 11,
   "metadata": {
    "collapsed": true
   },
   "outputs": [],
   "source": [
    "hk_df = pd.read_excel(HK_FILE)"
   ]
  },
  {
   "cell_type": "code",
   "execution_count": 12,
   "metadata": {
    "collapsed": false
   },
   "outputs": [],
   "source": [
    "hk_df.set_index('code', inplace=True)"
   ]
  },
  {
   "cell_type": "code",
   "execution_count": 13,
   "metadata": {
    "collapsed": false
   },
   "outputs": [
    {
     "data": {
      "text/html": [
       "<div>\n",
       "<table border=\"1\" class=\"dataframe\">\n",
       "  <thead>\n",
       "    <tr style=\"text-align: right;\">\n",
       "      <th></th>\n",
       "      <th>name</th>\n",
       "    </tr>\n",
       "    <tr>\n",
       "      <th>code</th>\n",
       "      <th></th>\n",
       "    </tr>\n",
       "  </thead>\n",
       "  <tbody>\n",
       "    <tr>\n",
       "      <th>HSESI.HI</th>\n",
       "      <td>恒生能源业</td>\n",
       "    </tr>\n",
       "    <tr>\n",
       "      <th>HSCIMT.HI</th>\n",
       "      <td>恒生原材料业</td>\n",
       "    </tr>\n",
       "    <tr>\n",
       "      <th>HSGSI.HI</th>\n",
       "      <td>恒生工业</td>\n",
       "    </tr>\n",
       "    <tr>\n",
       "      <th>HSCISV.HI</th>\n",
       "      <td>恒生消费者服务业</td>\n",
       "    </tr>\n",
       "    <tr>\n",
       "      <th>HSTSI.HI</th>\n",
       "      <td>恒生电讯业</td>\n",
       "    </tr>\n",
       "    <tr>\n",
       "      <th>HSUSI.HI</th>\n",
       "      <td>恒生公用事业</td>\n",
       "    </tr>\n",
       "    <tr>\n",
       "      <th>HSFSI.HI</th>\n",
       "      <td>恒生金融业</td>\n",
       "    </tr>\n",
       "    <tr>\n",
       "      <th>HSPCSI.HI</th>\n",
       "      <td>恒生地产建筑业</td>\n",
       "    </tr>\n",
       "    <tr>\n",
       "      <th>HSITSI.HI</th>\n",
       "      <td>恒生资讯科技业</td>\n",
       "    </tr>\n",
       "    <tr>\n",
       "      <th>HSCSI.HI</th>\n",
       "      <td>恒生综合业</td>\n",
       "    </tr>\n",
       "    <tr>\n",
       "      <th>HSCGSI.HI</th>\n",
       "      <td>恒生消费品制造业</td>\n",
       "    </tr>\n",
       "  </tbody>\n",
       "</table>\n",
       "</div>"
      ],
      "text/plain": [
       "               name\n",
       "code               \n",
       "HSESI.HI      恒生能源业\n",
       "HSCIMT.HI    恒生原材料业\n",
       "HSGSI.HI       恒生工业\n",
       "HSCISV.HI  恒生消费者服务业\n",
       "HSTSI.HI      恒生电讯业\n",
       "HSUSI.HI     恒生公用事业\n",
       "HSFSI.HI      恒生金融业\n",
       "HSPCSI.HI   恒生地产建筑业\n",
       "HSITSI.HI   恒生资讯科技业\n",
       "HSCSI.HI      恒生综合业\n",
       "HSCGSI.HI  恒生消费品制造业"
      ]
     },
     "execution_count": 13,
     "metadata": {},
     "output_type": "execute_result"
    }
   ],
   "source": [
    "hk_df"
   ]
  },
  {
   "cell_type": "code",
   "execution_count": 14,
   "metadata": {
    "collapsed": true
   },
   "outputs": [],
   "source": [
    "def wind2df(raw_data):\n",
    "    dic = {}\n",
    "    for data, field in zip(raw_data.Data, raw_data.Fields):\n",
    "        dic[str(field.lower())] = data\n",
    "    return pd.DataFrame(dic, index=raw_data.Times)"
   ]
  },
  {
   "cell_type": "code",
   "execution_count": 15,
   "metadata": {
    "collapsed": false
   },
   "outputs": [],
   "source": [
    "def get_ranks(asset_df, groups=5):\n",
    "    length = asset_df.shape[0]\n",
    "    leng_group = length / groups\n",
    "    if length % groups > groups / 2:\n",
    "        leng_group += 1\n",
    "    ranks = []\n",
    "    for i in range(1, groups):\n",
    "        ranks += [i]*leng_group\n",
    "    ranks += [groups]*(length-len(ranks))\n",
    "    return ranks"
   ]
  },
  {
   "cell_type": "code",
   "execution_count": 16,
   "metadata": {
    "collapsed": true
   },
   "outputs": [],
   "source": [
    "def get_asset_return(asset_df):\n",
    "    res_df = asset_df.copy()\n",
    "    for asset in asset_df.index:\n",
    "        data = w.wsd(asset, 'close', START_DATE, END_DATE)\n",
    "        df = wind2df(data)\n",
    "        df = df.resample('A').last()\n",
    "        df['return'] = df['close'].pct_change()\n",
    "        for ind in df.index[1:]:\n",
    "            year = ind.year\n",
    "            res_df.loc[asset, \"%d return\"%(year)] = df.loc[ind, 'return']\n",
    "    return res_df"
   ]
  },
  {
   "cell_type": "code",
   "execution_count": 17,
   "metadata": {
    "collapsed": true
   },
   "outputs": [],
   "source": [
    "def get_factor(asset_df, factor, order=False):\n",
    "    \"\"\"\n",
    "    order为False数值越小得分越高，反之越大得分越高\n",
    "    \"\"\"\n",
    "    res_df = asset_df.copy()\n",
    "    for asset in asset_df.index:\n",
    "        data = w.wsd(asset, factor, START_DATE, END_DATE)\n",
    "        df = wind2df(data)\n",
    "        df = df.resample('A').last()\n",
    "        for ind in df.index[:-1]:\n",
    "            year = ind.year + 1\n",
    "            if not order:\n",
    "                res_df.loc[asset, \"%d %s\"%(year, factor)] = df.loc[ind, factor]\n",
    "            else:\n",
    "                res_df.loc[asset, \"%d %s\"%(year, factor)] = df.loc[ind, factor] * -1.0\n",
    "    return res_df"
   ]
  },
  {
   "cell_type": "code",
   "execution_count": 38,
   "metadata": {
    "collapsed": true
   },
   "outputs": [],
   "source": [
    "def get_group_return(asset_df, factors, weights, years, ranks):\n",
    "    assert(len(factors) == len(weights))\n",
    "    weights = np.array(weights) * 1.0 / sum(weights)\n",
    "    ranks = np.array(ranks)\n",
    "    groups = max(ranks)\n",
    "    group_df = pd.DataFrame(index=range(1, groups+1))\n",
    "    for y in years:\n",
    "        features = [\"%s %s\"%(y, f) for f in factors]\n",
    "        rcol = \"%s return\"%(y)\n",
    "        features.append(rcol)\n",
    "        df = asset_df[features]\n",
    "        for f, w in zip(factors, weights):\n",
    "            df = df.sort_values(by=\"%s %s\"%(y, f), ascending=False) # 值越小越有价值\n",
    "            df['%s rank'%(f)] = ranks * w\n",
    "\n",
    "        features = [\"%s rank\"%(f) for f in factors]\n",
    "        df[\"sum rank\"] = df[features].sum(axis=1)\n",
    "        df = df.sort_values(by=\"sum rank\", ascending=True)\n",
    "        df[\"rank\"] = ranks\n",
    "\n",
    "        group_df[rcol] = df.groupby('rank').mean()[rcol]\n",
    "    return group_df"
   ]
  },
  {
   "cell_type": "markdown",
   "metadata": {},
   "source": [
    "# 添加各指数每年的收益率"
   ]
  },
  {
   "cell_type": "code",
   "execution_count": 19,
   "metadata": {
    "collapsed": false
   },
   "outputs": [],
   "source": [
    "stock_df = get_asset_return(stock_df)"
   ]
  },
  {
   "cell_type": "code",
   "execution_count": 20,
   "metadata": {
    "collapsed": false
   },
   "outputs": [
    {
     "data": {
      "text/html": [
       "<div>\n",
       "<table border=\"1\" class=\"dataframe\">\n",
       "  <thead>\n",
       "    <tr style=\"text-align: right;\">\n",
       "      <th></th>\n",
       "      <th>name</th>\n",
       "      <th>2006 return</th>\n",
       "      <th>2007 return</th>\n",
       "      <th>2008 return</th>\n",
       "      <th>2009 return</th>\n",
       "      <th>2010 return</th>\n",
       "      <th>2011 return</th>\n",
       "      <th>2012 return</th>\n",
       "      <th>2013 return</th>\n",
       "      <th>2014 return</th>\n",
       "      <th>2015 return</th>\n",
       "      <th>2016 return</th>\n",
       "    </tr>\n",
       "    <tr>\n",
       "      <th>code</th>\n",
       "      <th></th>\n",
       "      <th></th>\n",
       "      <th></th>\n",
       "      <th></th>\n",
       "      <th></th>\n",
       "      <th></th>\n",
       "      <th></th>\n",
       "      <th></th>\n",
       "      <th></th>\n",
       "      <th></th>\n",
       "      <th></th>\n",
       "      <th></th>\n",
       "    </tr>\n",
       "  </thead>\n",
       "  <tbody>\n",
       "    <tr>\n",
       "      <th>CI005001.WI</th>\n",
       "      <td>石油石化</td>\n",
       "      <td>0.971607</td>\n",
       "      <td>1.250021</td>\n",
       "      <td>-0.647466</td>\n",
       "      <td>0.745862</td>\n",
       "      <td>-0.051423</td>\n",
       "      <td>-0.238961</td>\n",
       "      <td>-0.003725</td>\n",
       "      <td>0.072181</td>\n",
       "      <td>0.242092</td>\n",
       "      <td>0.030286</td>\n",
       "      <td>-0.005567</td>\n",
       "    </tr>\n",
       "    <tr>\n",
       "      <th>CI005002.WI</th>\n",
       "      <td>煤炭</td>\n",
       "      <td>0.413547</td>\n",
       "      <td>2.921693</td>\n",
       "      <td>-0.670935</td>\n",
       "      <td>1.728082</td>\n",
       "      <td>-0.046792</td>\n",
       "      <td>-0.255005</td>\n",
       "      <td>-0.034340</td>\n",
       "      <td>-0.402956</td>\n",
       "      <td>0.321337</td>\n",
       "      <td>-0.077129</td>\n",
       "      <td>0.003619</td>\n",
       "    </tr>\n",
       "    <tr>\n",
       "      <th>CI005003.WI</th>\n",
       "      <td>有色金属</td>\n",
       "      <td>1.448112</td>\n",
       "      <td>2.904751</td>\n",
       "      <td>-0.766983</td>\n",
       "      <td>1.814234</td>\n",
       "      <td>0.197597</td>\n",
       "      <td>-0.416105</td>\n",
       "      <td>0.128040</td>\n",
       "      <td>-0.297540</td>\n",
       "      <td>0.462701</td>\n",
       "      <td>0.161350</td>\n",
       "      <td>-0.076686</td>\n",
       "    </tr>\n",
       "    <tr>\n",
       "      <th>CI005004.WI</th>\n",
       "      <td>电力及公用事业</td>\n",
       "      <td>0.335519</td>\n",
       "      <td>1.797765</td>\n",
       "      <td>-0.547814</td>\n",
       "      <td>0.511284</td>\n",
       "      <td>-0.087456</td>\n",
       "      <td>-0.207423</td>\n",
       "      <td>0.095577</td>\n",
       "      <td>0.134786</td>\n",
       "      <td>0.631829</td>\n",
       "      <td>0.181358</td>\n",
       "      <td>-0.173497</td>\n",
       "    </tr>\n",
       "    <tr>\n",
       "      <th>CI005005.WI</th>\n",
       "      <td>钢铁</td>\n",
       "      <td>0.949575</td>\n",
       "      <td>1.881816</td>\n",
       "      <td>-0.703802</td>\n",
       "      <td>0.995917</td>\n",
       "      <td>-0.255843</td>\n",
       "      <td>-0.286106</td>\n",
       "      <td>-0.028838</td>\n",
       "      <td>-0.164872</td>\n",
       "      <td>0.692943</td>\n",
       "      <td>-0.064019</td>\n",
       "      <td>-0.069621</td>\n",
       "    </tr>\n",
       "    <tr>\n",
       "      <th>CI005006.WI</th>\n",
       "      <td>基础化工</td>\n",
       "      <td>0.517131</td>\n",
       "      <td>2.203531</td>\n",
       "      <td>-0.597869</td>\n",
       "      <td>1.003477</td>\n",
       "      <td>0.009357</td>\n",
       "      <td>-0.309832</td>\n",
       "      <td>-0.011644</td>\n",
       "      <td>0.084861</td>\n",
       "      <td>0.333501</td>\n",
       "      <td>0.804191</td>\n",
       "      <td>-0.101393</td>\n",
       "    </tr>\n",
       "    <tr>\n",
       "      <th>CI005007.WI</th>\n",
       "      <td>建筑</td>\n",
       "      <td>0.601445</td>\n",
       "      <td>2.182330</td>\n",
       "      <td>-0.479882</td>\n",
       "      <td>0.392633</td>\n",
       "      <td>-0.031397</td>\n",
       "      <td>-0.299807</td>\n",
       "      <td>0.219326</td>\n",
       "      <td>-0.099633</td>\n",
       "      <td>0.998993</td>\n",
       "      <td>0.157789</td>\n",
       "      <td>-0.026947</td>\n",
       "    </tr>\n",
       "    <tr>\n",
       "      <th>CI005008.WI</th>\n",
       "      <td>建材</td>\n",
       "      <td>0.883000</td>\n",
       "      <td>1.999232</td>\n",
       "      <td>-0.599359</td>\n",
       "      <td>1.247634</td>\n",
       "      <td>0.142402</td>\n",
       "      <td>-0.314670</td>\n",
       "      <td>0.026386</td>\n",
       "      <td>-0.061629</td>\n",
       "      <td>0.373458</td>\n",
       "      <td>0.438761</td>\n",
       "      <td>-0.078345</td>\n",
       "    </tr>\n",
       "    <tr>\n",
       "      <th>CI005009.WI</th>\n",
       "      <td>轻工制造</td>\n",
       "      <td>0.502172</td>\n",
       "      <td>1.728489</td>\n",
       "      <td>-0.651889</td>\n",
       "      <td>1.184418</td>\n",
       "      <td>-0.034839</td>\n",
       "      <td>-0.264304</td>\n",
       "      <td>-0.015189</td>\n",
       "      <td>0.238757</td>\n",
       "      <td>0.309475</td>\n",
       "      <td>0.971079</td>\n",
       "      <td>-0.134922</td>\n",
       "    </tr>\n",
       "    <tr>\n",
       "      <th>CI005010.WI</th>\n",
       "      <td>机械</td>\n",
       "      <td>1.284507</td>\n",
       "      <td>1.805224</td>\n",
       "      <td>-0.639204</td>\n",
       "      <td>1.108891</td>\n",
       "      <td>0.276491</td>\n",
       "      <td>-0.348038</td>\n",
       "      <td>-0.043100</td>\n",
       "      <td>0.048368</td>\n",
       "      <td>0.468601</td>\n",
       "      <td>0.653677</td>\n",
       "      <td>-0.168530</td>\n",
       "    </tr>\n",
       "    <tr>\n",
       "      <th>CI005011.WI</th>\n",
       "      <td>电力设备</td>\n",
       "      <td>0.777298</td>\n",
       "      <td>1.834357</td>\n",
       "      <td>-0.451257</td>\n",
       "      <td>0.866762</td>\n",
       "      <td>0.165799</td>\n",
       "      <td>-0.435416</td>\n",
       "      <td>-0.162860</td>\n",
       "      <td>0.322669</td>\n",
       "      <td>0.383385</td>\n",
       "      <td>0.712524</td>\n",
       "      <td>-0.171019</td>\n",
       "    </tr>\n",
       "    <tr>\n",
       "      <th>CI005012.WI</th>\n",
       "      <td>国防军工</td>\n",
       "      <td>0.927131</td>\n",
       "      <td>1.299686</td>\n",
       "      <td>-0.604681</td>\n",
       "      <td>1.238099</td>\n",
       "      <td>0.205087</td>\n",
       "      <td>-0.350541</td>\n",
       "      <td>-0.074913</td>\n",
       "      <td>0.388977</td>\n",
       "      <td>0.588231</td>\n",
       "      <td>0.382805</td>\n",
       "      <td>-0.226935</td>\n",
       "    </tr>\n",
       "    <tr>\n",
       "      <th>CI005013.WI</th>\n",
       "      <td>汽车</td>\n",
       "      <td>0.831714</td>\n",
       "      <td>1.816282</td>\n",
       "      <td>-0.680661</td>\n",
       "      <td>2.246427</td>\n",
       "      <td>0.019306</td>\n",
       "      <td>-0.323499</td>\n",
       "      <td>0.073376</td>\n",
       "      <td>0.174056</td>\n",
       "      <td>0.397387</td>\n",
       "      <td>0.532306</td>\n",
       "      <td>-0.090670</td>\n",
       "    </tr>\n",
       "    <tr>\n",
       "      <th>CI005014.WI</th>\n",
       "      <td>商贸零售</td>\n",
       "      <td>1.121288</td>\n",
       "      <td>1.748416</td>\n",
       "      <td>-0.609240</td>\n",
       "      <td>1.180240</td>\n",
       "      <td>0.045317</td>\n",
       "      <td>-0.336782</td>\n",
       "      <td>-0.077548</td>\n",
       "      <td>0.179506</td>\n",
       "      <td>0.383761</td>\n",
       "      <td>0.480354</td>\n",
       "      <td>-0.155640</td>\n",
       "    </tr>\n",
       "    <tr>\n",
       "      <th>CI005015.WI</th>\n",
       "      <td>餐饮旅游</td>\n",
       "      <td>0.756783</td>\n",
       "      <td>1.395419</td>\n",
       "      <td>-0.662856</td>\n",
       "      <td>1.224573</td>\n",
       "      <td>0.093688</td>\n",
       "      <td>-0.205344</td>\n",
       "      <td>0.039066</td>\n",
       "      <td>0.199752</td>\n",
       "      <td>0.476310</td>\n",
       "      <td>1.228616</td>\n",
       "      <td>-0.278063</td>\n",
       "    </tr>\n",
       "    <tr>\n",
       "      <th>CI005016.WI</th>\n",
       "      <td>家电</td>\n",
       "      <td>0.410467</td>\n",
       "      <td>1.895804</td>\n",
       "      <td>-0.540943</td>\n",
       "      <td>1.457135</td>\n",
       "      <td>0.028060</td>\n",
       "      <td>-0.257785</td>\n",
       "      <td>0.132695</td>\n",
       "      <td>0.382907</td>\n",
       "      <td>0.251597</td>\n",
       "      <td>0.488094</td>\n",
       "      <td>0.017790</td>\n",
       "    </tr>\n",
       "    <tr>\n",
       "      <th>CI005017.WI</th>\n",
       "      <td>纺织服装</td>\n",
       "      <td>0.509111</td>\n",
       "      <td>1.954861</td>\n",
       "      <td>-0.617325</td>\n",
       "      <td>1.155252</td>\n",
       "      <td>0.083932</td>\n",
       "      <td>-0.262473</td>\n",
       "      <td>-0.099596</td>\n",
       "      <td>0.083804</td>\n",
       "      <td>0.433974</td>\n",
       "      <td>0.946843</td>\n",
       "      <td>-0.122969</td>\n",
       "    </tr>\n",
       "    <tr>\n",
       "      <th>CI005018.WI</th>\n",
       "      <td>医药</td>\n",
       "      <td>0.564112</td>\n",
       "      <td>1.937530</td>\n",
       "      <td>-0.464544</td>\n",
       "      <td>1.019311</td>\n",
       "      <td>0.294827</td>\n",
       "      <td>-0.299664</td>\n",
       "      <td>0.103337</td>\n",
       "      <td>0.378452</td>\n",
       "      <td>0.179755</td>\n",
       "      <td>0.647419</td>\n",
       "      <td>-0.142454</td>\n",
       "    </tr>\n",
       "    <tr>\n",
       "      <th>CI005019.WI</th>\n",
       "      <td>食品饮料</td>\n",
       "      <td>1.647348</td>\n",
       "      <td>1.333041</td>\n",
       "      <td>-0.568731</td>\n",
       "      <td>1.099334</td>\n",
       "      <td>0.210121</td>\n",
       "      <td>-0.099462</td>\n",
       "      <td>-0.012374</td>\n",
       "      <td>-0.090128</td>\n",
       "      <td>0.212979</td>\n",
       "      <td>0.255259</td>\n",
       "      <td>0.075640</td>\n",
       "    </tr>\n",
       "    <tr>\n",
       "      <th>CI005020.WI</th>\n",
       "      <td>农林牧渔</td>\n",
       "      <td>0.812316</td>\n",
       "      <td>1.406999</td>\n",
       "      <td>-0.526549</td>\n",
       "      <td>0.980399</td>\n",
       "      <td>0.181336</td>\n",
       "      <td>-0.323594</td>\n",
       "      <td>-0.030341</td>\n",
       "      <td>0.178197</td>\n",
       "      <td>0.251061</td>\n",
       "      <td>0.827167</td>\n",
       "      <td>-0.145858</td>\n",
       "    </tr>\n",
       "    <tr>\n",
       "      <th>CI005021.WI</th>\n",
       "      <td>银行</td>\n",
       "      <td>1.699417</td>\n",
       "      <td>0.935812</td>\n",
       "      <td>-0.653635</td>\n",
       "      <td>1.085803</td>\n",
       "      <td>-0.280525</td>\n",
       "      <td>-0.035726</td>\n",
       "      <td>0.190430</td>\n",
       "      <td>-0.048378</td>\n",
       "      <td>0.718282</td>\n",
       "      <td>0.035667</td>\n",
       "      <td>0.006871</td>\n",
       "    </tr>\n",
       "    <tr>\n",
       "      <th>CI005022.WI</th>\n",
       "      <td>非银行金融</td>\n",
       "      <td>3.588639</td>\n",
       "      <td>1.789539</td>\n",
       "      <td>-0.671842</td>\n",
       "      <td>1.033650</td>\n",
       "      <td>-0.249651</td>\n",
       "      <td>-0.306302</td>\n",
       "      <td>0.316115</td>\n",
       "      <td>-0.054002</td>\n",
       "      <td>1.297580</td>\n",
       "      <td>-0.186555</td>\n",
       "      <td>-0.118498</td>\n",
       "    </tr>\n",
       "    <tr>\n",
       "      <th>CI005023.WI</th>\n",
       "      <td>房地产</td>\n",
       "      <td>1.311801</td>\n",
       "      <td>1.642958</td>\n",
       "      <td>-0.649305</td>\n",
       "      <td>1.195808</td>\n",
       "      <td>-0.223527</td>\n",
       "      <td>-0.208888</td>\n",
       "      <td>0.349919</td>\n",
       "      <td>-0.116878</td>\n",
       "      <td>0.781473</td>\n",
       "      <td>0.554040</td>\n",
       "      <td>-0.185465</td>\n",
       "    </tr>\n",
       "    <tr>\n",
       "      <th>CI005024.WI</th>\n",
       "      <td>交通运输</td>\n",
       "      <td>0.422588</td>\n",
       "      <td>1.875784</td>\n",
       "      <td>-0.698467</td>\n",
       "      <td>0.776193</td>\n",
       "      <td>-0.121978</td>\n",
       "      <td>-0.300471</td>\n",
       "      <td>-0.026841</td>\n",
       "      <td>0.056588</td>\n",
       "      <td>0.715531</td>\n",
       "      <td>0.306647</td>\n",
       "      <td>-0.239915</td>\n",
       "    </tr>\n",
       "    <tr>\n",
       "      <th>CI005025.WI</th>\n",
       "      <td>电子元器件</td>\n",
       "      <td>0.352860</td>\n",
       "      <td>0.640579</td>\n",
       "      <td>-0.634339</td>\n",
       "      <td>1.591982</td>\n",
       "      <td>0.655867</td>\n",
       "      <td>-0.391457</td>\n",
       "      <td>0.076459</td>\n",
       "      <td>0.424120</td>\n",
       "      <td>0.168223</td>\n",
       "      <td>0.809369</td>\n",
       "      <td>-0.151222</td>\n",
       "    </tr>\n",
       "    <tr>\n",
       "      <th>CI005026.WI</th>\n",
       "      <td>通信</td>\n",
       "      <td>0.606201</td>\n",
       "      <td>1.148106</td>\n",
       "      <td>-0.538649</td>\n",
       "      <td>0.929653</td>\n",
       "      <td>-0.007475</td>\n",
       "      <td>-0.298218</td>\n",
       "      <td>-0.173443</td>\n",
       "      <td>0.452481</td>\n",
       "      <td>0.359332</td>\n",
       "      <td>1.154580</td>\n",
       "      <td>-0.175756</td>\n",
       "    </tr>\n",
       "    <tr>\n",
       "      <th>CI005027.WI</th>\n",
       "      <td>计算机</td>\n",
       "      <td>0.077504</td>\n",
       "      <td>2.370734</td>\n",
       "      <td>-0.651507</td>\n",
       "      <td>1.278778</td>\n",
       "      <td>0.294824</td>\n",
       "      <td>-0.370152</td>\n",
       "      <td>-0.126040</td>\n",
       "      <td>0.757213</td>\n",
       "      <td>0.569780</td>\n",
       "      <td>1.259708</td>\n",
       "      <td>-0.361235</td>\n",
       "    </tr>\n",
       "    <tr>\n",
       "      <th>CI005028.WI</th>\n",
       "      <td>传媒</td>\n",
       "      <td>0.849027</td>\n",
       "      <td>0.853411</td>\n",
       "      <td>-0.593100</td>\n",
       "      <td>0.730267</td>\n",
       "      <td>0.036703</td>\n",
       "      <td>-0.169002</td>\n",
       "      <td>-0.047184</td>\n",
       "      <td>1.025623</td>\n",
       "      <td>0.195684</td>\n",
       "      <td>0.716952</td>\n",
       "      <td>-0.377108</td>\n",
       "    </tr>\n",
       "    <tr>\n",
       "      <th>CI005029.WI</th>\n",
       "      <td>综合</td>\n",
       "      <td>0.437882</td>\n",
       "      <td>2.282328</td>\n",
       "      <td>-0.639831</td>\n",
       "      <td>1.182843</td>\n",
       "      <td>0.027183</td>\n",
       "      <td>-0.348097</td>\n",
       "      <td>0.167038</td>\n",
       "      <td>0.309286</td>\n",
       "      <td>0.523731</td>\n",
       "      <td>0.747352</td>\n",
       "      <td>-0.172225</td>\n",
       "    </tr>\n",
       "  </tbody>\n",
       "</table>\n",
       "</div>"
      ],
      "text/plain": [
       "                name  2006 return  2007 return  2008 return  2009 return  \\\n",
       "code                                                                       \n",
       "CI005001.WI     石油石化     0.971607     1.250021    -0.647466     0.745862   \n",
       "CI005002.WI       煤炭     0.413547     2.921693    -0.670935     1.728082   \n",
       "CI005003.WI     有色金属     1.448112     2.904751    -0.766983     1.814234   \n",
       "CI005004.WI  电力及公用事业     0.335519     1.797765    -0.547814     0.511284   \n",
       "CI005005.WI       钢铁     0.949575     1.881816    -0.703802     0.995917   \n",
       "CI005006.WI     基础化工     0.517131     2.203531    -0.597869     1.003477   \n",
       "CI005007.WI       建筑     0.601445     2.182330    -0.479882     0.392633   \n",
       "CI005008.WI       建材     0.883000     1.999232    -0.599359     1.247634   \n",
       "CI005009.WI     轻工制造     0.502172     1.728489    -0.651889     1.184418   \n",
       "CI005010.WI       机械     1.284507     1.805224    -0.639204     1.108891   \n",
       "CI005011.WI     电力设备     0.777298     1.834357    -0.451257     0.866762   \n",
       "CI005012.WI     国防军工     0.927131     1.299686    -0.604681     1.238099   \n",
       "CI005013.WI       汽车     0.831714     1.816282    -0.680661     2.246427   \n",
       "CI005014.WI     商贸零售     1.121288     1.748416    -0.609240     1.180240   \n",
       "CI005015.WI     餐饮旅游     0.756783     1.395419    -0.662856     1.224573   \n",
       "CI005016.WI       家电     0.410467     1.895804    -0.540943     1.457135   \n",
       "CI005017.WI     纺织服装     0.509111     1.954861    -0.617325     1.155252   \n",
       "CI005018.WI       医药     0.564112     1.937530    -0.464544     1.019311   \n",
       "CI005019.WI     食品饮料     1.647348     1.333041    -0.568731     1.099334   \n",
       "CI005020.WI     农林牧渔     0.812316     1.406999    -0.526549     0.980399   \n",
       "CI005021.WI       银行     1.699417     0.935812    -0.653635     1.085803   \n",
       "CI005022.WI    非银行金融     3.588639     1.789539    -0.671842     1.033650   \n",
       "CI005023.WI      房地产     1.311801     1.642958    -0.649305     1.195808   \n",
       "CI005024.WI     交通运输     0.422588     1.875784    -0.698467     0.776193   \n",
       "CI005025.WI    电子元器件     0.352860     0.640579    -0.634339     1.591982   \n",
       "CI005026.WI       通信     0.606201     1.148106    -0.538649     0.929653   \n",
       "CI005027.WI      计算机     0.077504     2.370734    -0.651507     1.278778   \n",
       "CI005028.WI       传媒     0.849027     0.853411    -0.593100     0.730267   \n",
       "CI005029.WI       综合     0.437882     2.282328    -0.639831     1.182843   \n",
       "\n",
       "             2010 return  2011 return  2012 return  2013 return  2014 return  \\\n",
       "code                                                                           \n",
       "CI005001.WI    -0.051423    -0.238961    -0.003725     0.072181     0.242092   \n",
       "CI005002.WI    -0.046792    -0.255005    -0.034340    -0.402956     0.321337   \n",
       "CI005003.WI     0.197597    -0.416105     0.128040    -0.297540     0.462701   \n",
       "CI005004.WI    -0.087456    -0.207423     0.095577     0.134786     0.631829   \n",
       "CI005005.WI    -0.255843    -0.286106    -0.028838    -0.164872     0.692943   \n",
       "CI005006.WI     0.009357    -0.309832    -0.011644     0.084861     0.333501   \n",
       "CI005007.WI    -0.031397    -0.299807     0.219326    -0.099633     0.998993   \n",
       "CI005008.WI     0.142402    -0.314670     0.026386    -0.061629     0.373458   \n",
       "CI005009.WI    -0.034839    -0.264304    -0.015189     0.238757     0.309475   \n",
       "CI005010.WI     0.276491    -0.348038    -0.043100     0.048368     0.468601   \n",
       "CI005011.WI     0.165799    -0.435416    -0.162860     0.322669     0.383385   \n",
       "CI005012.WI     0.205087    -0.350541    -0.074913     0.388977     0.588231   \n",
       "CI005013.WI     0.019306    -0.323499     0.073376     0.174056     0.397387   \n",
       "CI005014.WI     0.045317    -0.336782    -0.077548     0.179506     0.383761   \n",
       "CI005015.WI     0.093688    -0.205344     0.039066     0.199752     0.476310   \n",
       "CI005016.WI     0.028060    -0.257785     0.132695     0.382907     0.251597   \n",
       "CI005017.WI     0.083932    -0.262473    -0.099596     0.083804     0.433974   \n",
       "CI005018.WI     0.294827    -0.299664     0.103337     0.378452     0.179755   \n",
       "CI005019.WI     0.210121    -0.099462    -0.012374    -0.090128     0.212979   \n",
       "CI005020.WI     0.181336    -0.323594    -0.030341     0.178197     0.251061   \n",
       "CI005021.WI    -0.280525    -0.035726     0.190430    -0.048378     0.718282   \n",
       "CI005022.WI    -0.249651    -0.306302     0.316115    -0.054002     1.297580   \n",
       "CI005023.WI    -0.223527    -0.208888     0.349919    -0.116878     0.781473   \n",
       "CI005024.WI    -0.121978    -0.300471    -0.026841     0.056588     0.715531   \n",
       "CI005025.WI     0.655867    -0.391457     0.076459     0.424120     0.168223   \n",
       "CI005026.WI    -0.007475    -0.298218    -0.173443     0.452481     0.359332   \n",
       "CI005027.WI     0.294824    -0.370152    -0.126040     0.757213     0.569780   \n",
       "CI005028.WI     0.036703    -0.169002    -0.047184     1.025623     0.195684   \n",
       "CI005029.WI     0.027183    -0.348097     0.167038     0.309286     0.523731   \n",
       "\n",
       "             2015 return  2016 return  \n",
       "code                                   \n",
       "CI005001.WI     0.030286    -0.005567  \n",
       "CI005002.WI    -0.077129     0.003619  \n",
       "CI005003.WI     0.161350    -0.076686  \n",
       "CI005004.WI     0.181358    -0.173497  \n",
       "CI005005.WI    -0.064019    -0.069621  \n",
       "CI005006.WI     0.804191    -0.101393  \n",
       "CI005007.WI     0.157789    -0.026947  \n",
       "CI005008.WI     0.438761    -0.078345  \n",
       "CI005009.WI     0.971079    -0.134922  \n",
       "CI005010.WI     0.653677    -0.168530  \n",
       "CI005011.WI     0.712524    -0.171019  \n",
       "CI005012.WI     0.382805    -0.226935  \n",
       "CI005013.WI     0.532306    -0.090670  \n",
       "CI005014.WI     0.480354    -0.155640  \n",
       "CI005015.WI     1.228616    -0.278063  \n",
       "CI005016.WI     0.488094     0.017790  \n",
       "CI005017.WI     0.946843    -0.122969  \n",
       "CI005018.WI     0.647419    -0.142454  \n",
       "CI005019.WI     0.255259     0.075640  \n",
       "CI005020.WI     0.827167    -0.145858  \n",
       "CI005021.WI     0.035667     0.006871  \n",
       "CI005022.WI    -0.186555    -0.118498  \n",
       "CI005023.WI     0.554040    -0.185465  \n",
       "CI005024.WI     0.306647    -0.239915  \n",
       "CI005025.WI     0.809369    -0.151222  \n",
       "CI005026.WI     1.154580    -0.175756  \n",
       "CI005027.WI     1.259708    -0.361235  \n",
       "CI005028.WI     0.716952    -0.377108  \n",
       "CI005029.WI     0.747352    -0.172225  "
      ]
     },
     "execution_count": 20,
     "metadata": {},
     "output_type": "execute_result"
    }
   ],
   "source": [
    "stock_df"
   ]
  },
  {
   "cell_type": "markdown",
   "metadata": {},
   "source": [
    "# book-to-price"
   ]
  },
  {
   "cell_type": "code",
   "execution_count": 21,
   "metadata": {
    "collapsed": true
   },
   "outputs": [],
   "source": [
    "book_to_price = \"pb_lf\""
   ]
  },
  {
   "cell_type": "code",
   "execution_count": 22,
   "metadata": {
    "collapsed": false
   },
   "outputs": [],
   "source": [
    "stock_df = get_factor(stock_df, book_to_price)"
   ]
  },
  {
   "cell_type": "code",
   "execution_count": 23,
   "metadata": {
    "collapsed": false
   },
   "outputs": [
    {
     "data": {
      "text/html": [
       "<div>\n",
       "<table border=\"1\" class=\"dataframe\">\n",
       "  <thead>\n",
       "    <tr style=\"text-align: right;\">\n",
       "      <th></th>\n",
       "      <th>name</th>\n",
       "      <th>2006 return</th>\n",
       "      <th>2007 return</th>\n",
       "      <th>2008 return</th>\n",
       "      <th>2009 return</th>\n",
       "      <th>2010 return</th>\n",
       "      <th>2011 return</th>\n",
       "      <th>2012 return</th>\n",
       "      <th>2013 return</th>\n",
       "      <th>2014 return</th>\n",
       "      <th>...</th>\n",
       "      <th>2007 pb_lf</th>\n",
       "      <th>2008 pb_lf</th>\n",
       "      <th>2009 pb_lf</th>\n",
       "      <th>2010 pb_lf</th>\n",
       "      <th>2011 pb_lf</th>\n",
       "      <th>2012 pb_lf</th>\n",
       "      <th>2013 pb_lf</th>\n",
       "      <th>2014 pb_lf</th>\n",
       "      <th>2015 pb_lf</th>\n",
       "      <th>2016 pb_lf</th>\n",
       "    </tr>\n",
       "    <tr>\n",
       "      <th>code</th>\n",
       "      <th></th>\n",
       "      <th></th>\n",
       "      <th></th>\n",
       "      <th></th>\n",
       "      <th></th>\n",
       "      <th></th>\n",
       "      <th></th>\n",
       "      <th></th>\n",
       "      <th></th>\n",
       "      <th></th>\n",
       "      <th></th>\n",
       "      <th></th>\n",
       "      <th></th>\n",
       "      <th></th>\n",
       "      <th></th>\n",
       "      <th></th>\n",
       "      <th></th>\n",
       "      <th></th>\n",
       "      <th></th>\n",
       "      <th></th>\n",
       "      <th></th>\n",
       "    </tr>\n",
       "  </thead>\n",
       "  <tbody>\n",
       "    <tr>\n",
       "      <th>CI005001.WI</th>\n",
       "      <td>石油石化</td>\n",
       "      <td>0.971607</td>\n",
       "      <td>1.250021</td>\n",
       "      <td>-0.647466</td>\n",
       "      <td>0.745862</td>\n",
       "      <td>-0.051423</td>\n",
       "      <td>-0.238961</td>\n",
       "      <td>-0.003725</td>\n",
       "      <td>0.072181</td>\n",
       "      <td>0.242092</td>\n",
       "      <td>...</td>\n",
       "      <td>3.2952</td>\n",
       "      <td>8.0949</td>\n",
       "      <td>2.3717</td>\n",
       "      <td>3.2123</td>\n",
       "      <td>2.2725</td>\n",
       "      <td>1.7142</td>\n",
       "      <td>1.5594</td>\n",
       "      <td>1.2995</td>\n",
       "      <td>1.6478</td>\n",
       "      <td>1.3159</td>\n",
       "    </tr>\n",
       "    <tr>\n",
       "      <th>CI005002.WI</th>\n",
       "      <td>煤炭</td>\n",
       "      <td>0.413547</td>\n",
       "      <td>2.921693</td>\n",
       "      <td>-0.670935</td>\n",
       "      <td>1.728082</td>\n",
       "      <td>-0.046792</td>\n",
       "      <td>-0.255005</td>\n",
       "      <td>-0.034340</td>\n",
       "      <td>-0.402956</td>\n",
       "      <td>0.321337</td>\n",
       "      <td>...</td>\n",
       "      <td>2.1207</td>\n",
       "      <td>8.9531</td>\n",
       "      <td>2.1462</td>\n",
       "      <td>4.4302</td>\n",
       "      <td>3.4280</td>\n",
       "      <td>2.4088</td>\n",
       "      <td>2.0163</td>\n",
       "      <td>1.1579</td>\n",
       "      <td>1.4814</td>\n",
       "      <td>1.2624</td>\n",
       "    </tr>\n",
       "    <tr>\n",
       "      <th>CI005003.WI</th>\n",
       "      <td>有色金属</td>\n",
       "      <td>1.448112</td>\n",
       "      <td>2.904751</td>\n",
       "      <td>-0.766983</td>\n",
       "      <td>1.814234</td>\n",
       "      <td>0.197597</td>\n",
       "      <td>-0.416105</td>\n",
       "      <td>0.128040</td>\n",
       "      <td>-0.297540</td>\n",
       "      <td>0.462701</td>\n",
       "      <td>...</td>\n",
       "      <td>3.2056</td>\n",
       "      <td>9.3450</td>\n",
       "      <td>1.9680</td>\n",
       "      <td>5.5836</td>\n",
       "      <td>5.5466</td>\n",
       "      <td>2.7946</td>\n",
       "      <td>3.0837</td>\n",
       "      <td>2.0905</td>\n",
       "      <td>2.9622</td>\n",
       "      <td>3.3440</td>\n",
       "    </tr>\n",
       "    <tr>\n",
       "      <th>CI005004.WI</th>\n",
       "      <td>电力及公用事业</td>\n",
       "      <td>0.335519</td>\n",
       "      <td>1.797765</td>\n",
       "      <td>-0.547814</td>\n",
       "      <td>0.511284</td>\n",
       "      <td>-0.087456</td>\n",
       "      <td>-0.207423</td>\n",
       "      <td>0.095577</td>\n",
       "      <td>0.134786</td>\n",
       "      <td>0.631829</td>\n",
       "      <td>...</td>\n",
       "      <td>1.9855</td>\n",
       "      <td>4.7725</td>\n",
       "      <td>2.1811</td>\n",
       "      <td>2.6793</td>\n",
       "      <td>2.3762</td>\n",
       "      <td>1.8894</td>\n",
       "      <td>1.8481</td>\n",
       "      <td>1.7292</td>\n",
       "      <td>2.5202</td>\n",
       "      <td>2.7185</td>\n",
       "    </tr>\n",
       "    <tr>\n",
       "      <th>CI005005.WI</th>\n",
       "      <td>钢铁</td>\n",
       "      <td>0.949575</td>\n",
       "      <td>1.881816</td>\n",
       "      <td>-0.703802</td>\n",
       "      <td>0.995917</td>\n",
       "      <td>-0.255843</td>\n",
       "      <td>-0.286106</td>\n",
       "      <td>-0.028838</td>\n",
       "      <td>-0.164872</td>\n",
       "      <td>0.692943</td>\n",
       "      <td>...</td>\n",
       "      <td>1.7268</td>\n",
       "      <td>4.0424</td>\n",
       "      <td>1.0278</td>\n",
       "      <td>2.1858</td>\n",
       "      <td>1.4810</td>\n",
       "      <td>1.0266</td>\n",
       "      <td>1.0155</td>\n",
       "      <td>0.8637</td>\n",
       "      <td>1.4645</td>\n",
       "      <td>1.6569</td>\n",
       "    </tr>\n",
       "  </tbody>\n",
       "</table>\n",
       "<p>5 rows × 23 columns</p>\n",
       "</div>"
      ],
      "text/plain": [
       "                name  2006 return  2007 return  2008 return  2009 return  \\\n",
       "code                                                                       \n",
       "CI005001.WI     石油石化     0.971607     1.250021    -0.647466     0.745862   \n",
       "CI005002.WI       煤炭     0.413547     2.921693    -0.670935     1.728082   \n",
       "CI005003.WI     有色金属     1.448112     2.904751    -0.766983     1.814234   \n",
       "CI005004.WI  电力及公用事业     0.335519     1.797765    -0.547814     0.511284   \n",
       "CI005005.WI       钢铁     0.949575     1.881816    -0.703802     0.995917   \n",
       "\n",
       "             2010 return  2011 return  2012 return  2013 return  2014 return  \\\n",
       "code                                                                           \n",
       "CI005001.WI    -0.051423    -0.238961    -0.003725     0.072181     0.242092   \n",
       "CI005002.WI    -0.046792    -0.255005    -0.034340    -0.402956     0.321337   \n",
       "CI005003.WI     0.197597    -0.416105     0.128040    -0.297540     0.462701   \n",
       "CI005004.WI    -0.087456    -0.207423     0.095577     0.134786     0.631829   \n",
       "CI005005.WI    -0.255843    -0.286106    -0.028838    -0.164872     0.692943   \n",
       "\n",
       "                ...      2007 pb_lf  2008 pb_lf  2009 pb_lf  2010 pb_lf  \\\n",
       "code            ...                                                       \n",
       "CI005001.WI     ...          3.2952      8.0949      2.3717      3.2123   \n",
       "CI005002.WI     ...          2.1207      8.9531      2.1462      4.4302   \n",
       "CI005003.WI     ...          3.2056      9.3450      1.9680      5.5836   \n",
       "CI005004.WI     ...          1.9855      4.7725      2.1811      2.6793   \n",
       "CI005005.WI     ...          1.7268      4.0424      1.0278      2.1858   \n",
       "\n",
       "             2011 pb_lf  2012 pb_lf  2013 pb_lf  2014 pb_lf  2015 pb_lf  \\\n",
       "code                                                                      \n",
       "CI005001.WI      2.2725      1.7142      1.5594      1.2995      1.6478   \n",
       "CI005002.WI      3.4280      2.4088      2.0163      1.1579      1.4814   \n",
       "CI005003.WI      5.5466      2.7946      3.0837      2.0905      2.9622   \n",
       "CI005004.WI      2.3762      1.8894      1.8481      1.7292      2.5202   \n",
       "CI005005.WI      1.4810      1.0266      1.0155      0.8637      1.4645   \n",
       "\n",
       "             2016 pb_lf  \n",
       "code                     \n",
       "CI005001.WI      1.3159  \n",
       "CI005002.WI      1.2624  \n",
       "CI005003.WI      3.3440  \n",
       "CI005004.WI      2.7185  \n",
       "CI005005.WI      1.6569  \n",
       "\n",
       "[5 rows x 23 columns]"
      ]
     },
     "execution_count": 23,
     "metadata": {},
     "output_type": "execute_result"
    }
   ],
   "source": [
    "stock_df.head()"
   ]
  },
  {
   "cell_type": "markdown",
   "metadata": {},
   "source": [
    "# earnings-to-price"
   ]
  },
  {
   "cell_type": "code",
   "execution_count": 24,
   "metadata": {
    "collapsed": true
   },
   "outputs": [],
   "source": [
    "earnings_to_price = \"pe_ttm\""
   ]
  },
  {
   "cell_type": "code",
   "execution_count": 25,
   "metadata": {
    "collapsed": false
   },
   "outputs": [],
   "source": [
    "stock_df = get_factor(stock_df, earnings_to_price)"
   ]
  },
  {
   "cell_type": "code",
   "execution_count": 26,
   "metadata": {
    "collapsed": false
   },
   "outputs": [
    {
     "data": {
      "text/html": [
       "<div>\n",
       "<table border=\"1\" class=\"dataframe\">\n",
       "  <thead>\n",
       "    <tr style=\"text-align: right;\">\n",
       "      <th></th>\n",
       "      <th>name</th>\n",
       "      <th>2006 return</th>\n",
       "      <th>2007 return</th>\n",
       "      <th>2008 return</th>\n",
       "      <th>2009 return</th>\n",
       "      <th>2010 return</th>\n",
       "      <th>2011 return</th>\n",
       "      <th>2012 return</th>\n",
       "      <th>2013 return</th>\n",
       "      <th>2014 return</th>\n",
       "      <th>...</th>\n",
       "      <th>2007 pe_ttm</th>\n",
       "      <th>2008 pe_ttm</th>\n",
       "      <th>2009 pe_ttm</th>\n",
       "      <th>2010 pe_ttm</th>\n",
       "      <th>2011 pe_ttm</th>\n",
       "      <th>2012 pe_ttm</th>\n",
       "      <th>2013 pe_ttm</th>\n",
       "      <th>2014 pe_ttm</th>\n",
       "      <th>2015 pe_ttm</th>\n",
       "      <th>2016 pe_ttm</th>\n",
       "    </tr>\n",
       "    <tr>\n",
       "      <th>code</th>\n",
       "      <th></th>\n",
       "      <th></th>\n",
       "      <th></th>\n",
       "      <th></th>\n",
       "      <th></th>\n",
       "      <th></th>\n",
       "      <th></th>\n",
       "      <th></th>\n",
       "      <th></th>\n",
       "      <th></th>\n",
       "      <th></th>\n",
       "      <th></th>\n",
       "      <th></th>\n",
       "      <th></th>\n",
       "      <th></th>\n",
       "      <th></th>\n",
       "      <th></th>\n",
       "      <th></th>\n",
       "      <th></th>\n",
       "      <th></th>\n",
       "      <th></th>\n",
       "    </tr>\n",
       "  </thead>\n",
       "  <tbody>\n",
       "    <tr>\n",
       "      <th>CI005001.WI</th>\n",
       "      <td>石油石化</td>\n",
       "      <td>0.971607</td>\n",
       "      <td>1.250021</td>\n",
       "      <td>-0.647466</td>\n",
       "      <td>0.745862</td>\n",
       "      <td>-0.051423</td>\n",
       "      <td>-0.238961</td>\n",
       "      <td>-0.003725</td>\n",
       "      <td>0.072181</td>\n",
       "      <td>0.242092</td>\n",
       "      <td>...</td>\n",
       "      <td>18.805600</td>\n",
       "      <td>38.973100</td>\n",
       "      <td>18.2971</td>\n",
       "      <td>23.218300</td>\n",
       "      <td>15.917000</td>\n",
       "      <td>11.576400</td>\n",
       "      <td>14.661600</td>\n",
       "      <td>11.185100</td>\n",
       "      <td>14.963800</td>\n",
       "      <td>37.050500</td>\n",
       "    </tr>\n",
       "    <tr>\n",
       "      <th>CI005002.WI</th>\n",
       "      <td>煤炭</td>\n",
       "      <td>0.413547</td>\n",
       "      <td>2.921693</td>\n",
       "      <td>-0.670935</td>\n",
       "      <td>1.728082</td>\n",
       "      <td>-0.046792</td>\n",
       "      <td>-0.255005</td>\n",
       "      <td>-0.034340</td>\n",
       "      <td>-0.402956</td>\n",
       "      <td>0.321337</td>\n",
       "      <td>...</td>\n",
       "      <td>14.730700</td>\n",
       "      <td>66.176300</td>\n",
       "      <td>10.6438</td>\n",
       "      <td>28.837000</td>\n",
       "      <td>19.775900</td>\n",
       "      <td>13.290000</td>\n",
       "      <td>13.412700</td>\n",
       "      <td>11.176700</td>\n",
       "      <td>19.357401</td>\n",
       "      <td>71.472000</td>\n",
       "    </tr>\n",
       "    <tr>\n",
       "      <th>CI005003.WI</th>\n",
       "      <td>有色金属</td>\n",
       "      <td>1.448112</td>\n",
       "      <td>2.904751</td>\n",
       "      <td>-0.766983</td>\n",
       "      <td>1.814234</td>\n",
       "      <td>0.197597</td>\n",
       "      <td>-0.416105</td>\n",
       "      <td>0.128040</td>\n",
       "      <td>-0.297540</td>\n",
       "      <td>0.462701</td>\n",
       "      <td>...</td>\n",
       "      <td>17.817499</td>\n",
       "      <td>48.537998</td>\n",
       "      <td>14.7880</td>\n",
       "      <td>40272.605469</td>\n",
       "      <td>74.926498</td>\n",
       "      <td>23.431299</td>\n",
       "      <td>54.503799</td>\n",
       "      <td>69.278503</td>\n",
       "      <td>62.505901</td>\n",
       "      <td>5811.768555</td>\n",
       "    </tr>\n",
       "    <tr>\n",
       "      <th>CI005004.WI</th>\n",
       "      <td>电力及公用事业</td>\n",
       "      <td>0.335519</td>\n",
       "      <td>1.797765</td>\n",
       "      <td>-0.547814</td>\n",
       "      <td>0.511284</td>\n",
       "      <td>-0.087456</td>\n",
       "      <td>-0.207423</td>\n",
       "      <td>0.095577</td>\n",
       "      <td>0.134786</td>\n",
       "      <td>0.631829</td>\n",
       "      <td>...</td>\n",
       "      <td>22.083600</td>\n",
       "      <td>46.468600</td>\n",
       "      <td>74.4943</td>\n",
       "      <td>55.614600</td>\n",
       "      <td>30.512500</td>\n",
       "      <td>25.222700</td>\n",
       "      <td>22.138000</td>\n",
       "      <td>12.694700</td>\n",
       "      <td>19.436300</td>\n",
       "      <td>22.991300</td>\n",
       "    </tr>\n",
       "    <tr>\n",
       "      <th>CI005005.WI</th>\n",
       "      <td>钢铁</td>\n",
       "      <td>0.949575</td>\n",
       "      <td>1.881816</td>\n",
       "      <td>-0.703802</td>\n",
       "      <td>0.995917</td>\n",
       "      <td>-0.255843</td>\n",
       "      <td>-0.286106</td>\n",
       "      <td>-0.028838</td>\n",
       "      <td>-0.164872</td>\n",
       "      <td>0.692943</td>\n",
       "      <td>...</td>\n",
       "      <td>15.194800</td>\n",
       "      <td>26.824400</td>\n",
       "      <td>6.7783</td>\n",
       "      <td>1203.553101</td>\n",
       "      <td>21.602900</td>\n",
       "      <td>18.647301</td>\n",
       "      <td>185.050293</td>\n",
       "      <td>87.065201</td>\n",
       "      <td>85.755898</td>\n",
       "      <td>3990.236084</td>\n",
       "    </tr>\n",
       "  </tbody>\n",
       "</table>\n",
       "<p>5 rows × 34 columns</p>\n",
       "</div>"
      ],
      "text/plain": [
       "                name  2006 return  2007 return  2008 return  2009 return  \\\n",
       "code                                                                       \n",
       "CI005001.WI     石油石化     0.971607     1.250021    -0.647466     0.745862   \n",
       "CI005002.WI       煤炭     0.413547     2.921693    -0.670935     1.728082   \n",
       "CI005003.WI     有色金属     1.448112     2.904751    -0.766983     1.814234   \n",
       "CI005004.WI  电力及公用事业     0.335519     1.797765    -0.547814     0.511284   \n",
       "CI005005.WI       钢铁     0.949575     1.881816    -0.703802     0.995917   \n",
       "\n",
       "             2010 return  2011 return  2012 return  2013 return  2014 return  \\\n",
       "code                                                                           \n",
       "CI005001.WI    -0.051423    -0.238961    -0.003725     0.072181     0.242092   \n",
       "CI005002.WI    -0.046792    -0.255005    -0.034340    -0.402956     0.321337   \n",
       "CI005003.WI     0.197597    -0.416105     0.128040    -0.297540     0.462701   \n",
       "CI005004.WI    -0.087456    -0.207423     0.095577     0.134786     0.631829   \n",
       "CI005005.WI    -0.255843    -0.286106    -0.028838    -0.164872     0.692943   \n",
       "\n",
       "                ...       2007 pe_ttm  2008 pe_ttm  2009 pe_ttm   2010 pe_ttm  \\\n",
       "code            ...                                                             \n",
       "CI005001.WI     ...         18.805600    38.973100      18.2971     23.218300   \n",
       "CI005002.WI     ...         14.730700    66.176300      10.6438     28.837000   \n",
       "CI005003.WI     ...         17.817499    48.537998      14.7880  40272.605469   \n",
       "CI005004.WI     ...         22.083600    46.468600      74.4943     55.614600   \n",
       "CI005005.WI     ...         15.194800    26.824400       6.7783   1203.553101   \n",
       "\n",
       "             2011 pe_ttm  2012 pe_ttm  2013 pe_ttm  2014 pe_ttm  2015 pe_ttm  \\\n",
       "code                                                                           \n",
       "CI005001.WI    15.917000    11.576400    14.661600    11.185100    14.963800   \n",
       "CI005002.WI    19.775900    13.290000    13.412700    11.176700    19.357401   \n",
       "CI005003.WI    74.926498    23.431299    54.503799    69.278503    62.505901   \n",
       "CI005004.WI    30.512500    25.222700    22.138000    12.694700    19.436300   \n",
       "CI005005.WI    21.602900    18.647301   185.050293    87.065201    85.755898   \n",
       "\n",
       "             2016 pe_ttm  \n",
       "code                      \n",
       "CI005001.WI    37.050500  \n",
       "CI005002.WI    71.472000  \n",
       "CI005003.WI  5811.768555  \n",
       "CI005004.WI    22.991300  \n",
       "CI005005.WI  3990.236084  \n",
       "\n",
       "[5 rows x 34 columns]"
      ]
     },
     "execution_count": 26,
     "metadata": {},
     "output_type": "execute_result"
    }
   ],
   "source": [
    "stock_df.head()"
   ]
  },
  {
   "cell_type": "markdown",
   "metadata": {},
   "source": [
    "# cash flow-to-price"
   ]
  },
  {
   "cell_type": "code",
   "execution_count": 27,
   "metadata": {
    "collapsed": true
   },
   "outputs": [],
   "source": [
    "cashflow_to_price = \"pcf_ocf_ttm\""
   ]
  },
  {
   "cell_type": "code",
   "execution_count": 28,
   "metadata": {
    "collapsed": true
   },
   "outputs": [],
   "source": [
    "stock_df = get_factor(stock_df, cashflow_to_price)"
   ]
  },
  {
   "cell_type": "code",
   "execution_count": 29,
   "metadata": {
    "collapsed": false
   },
   "outputs": [
    {
     "data": {
      "text/html": [
       "<div>\n",
       "<table border=\"1\" class=\"dataframe\">\n",
       "  <thead>\n",
       "    <tr style=\"text-align: right;\">\n",
       "      <th></th>\n",
       "      <th>name</th>\n",
       "      <th>2006 return</th>\n",
       "      <th>2007 return</th>\n",
       "      <th>2008 return</th>\n",
       "      <th>2009 return</th>\n",
       "      <th>2010 return</th>\n",
       "      <th>2011 return</th>\n",
       "      <th>2012 return</th>\n",
       "      <th>2013 return</th>\n",
       "      <th>2014 return</th>\n",
       "      <th>...</th>\n",
       "      <th>2007 pcf_ocf_ttm</th>\n",
       "      <th>2008 pcf_ocf_ttm</th>\n",
       "      <th>2009 pcf_ocf_ttm</th>\n",
       "      <th>2010 pcf_ocf_ttm</th>\n",
       "      <th>2011 pcf_ocf_ttm</th>\n",
       "      <th>2012 pcf_ocf_ttm</th>\n",
       "      <th>2013 pcf_ocf_ttm</th>\n",
       "      <th>2014 pcf_ocf_ttm</th>\n",
       "      <th>2015 pcf_ocf_ttm</th>\n",
       "      <th>2016 pcf_ocf_ttm</th>\n",
       "    </tr>\n",
       "    <tr>\n",
       "      <th>code</th>\n",
       "      <th></th>\n",
       "      <th></th>\n",
       "      <th></th>\n",
       "      <th></th>\n",
       "      <th></th>\n",
       "      <th></th>\n",
       "      <th></th>\n",
       "      <th></th>\n",
       "      <th></th>\n",
       "      <th></th>\n",
       "      <th></th>\n",
       "      <th></th>\n",
       "      <th></th>\n",
       "      <th></th>\n",
       "      <th></th>\n",
       "      <th></th>\n",
       "      <th></th>\n",
       "      <th></th>\n",
       "      <th></th>\n",
       "      <th></th>\n",
       "      <th></th>\n",
       "    </tr>\n",
       "  </thead>\n",
       "  <tbody>\n",
       "    <tr>\n",
       "      <th>CI005001.WI</th>\n",
       "      <td>石油石化</td>\n",
       "      <td>0.971607</td>\n",
       "      <td>1.250021</td>\n",
       "      <td>-0.647466</td>\n",
       "      <td>0.745862</td>\n",
       "      <td>-0.051423</td>\n",
       "      <td>-0.238961</td>\n",
       "      <td>-0.003725</td>\n",
       "      <td>0.072181</td>\n",
       "      <td>0.242092</td>\n",
       "      <td>...</td>\n",
       "      <td>9.7296</td>\n",
       "      <td>21.6425</td>\n",
       "      <td>12.4578</td>\n",
       "      <td>9.6609</td>\n",
       "      <td>6.4702</td>\n",
       "      <td>5.8472</td>\n",
       "      <td>6.4392</td>\n",
       "      <td>5.2866</td>\n",
       "      <td>5.8901</td>\n",
       "      <td>5.4722</td>\n",
       "    </tr>\n",
       "    <tr>\n",
       "      <th>CI005002.WI</th>\n",
       "      <td>煤炭</td>\n",
       "      <td>0.413547</td>\n",
       "      <td>2.921693</td>\n",
       "      <td>-0.670935</td>\n",
       "      <td>1.728082</td>\n",
       "      <td>-0.046792</td>\n",
       "      <td>-0.255005</td>\n",
       "      <td>-0.034340</td>\n",
       "      <td>-0.402956</td>\n",
       "      <td>0.321337</td>\n",
       "      <td>...</td>\n",
       "      <td>8.5690</td>\n",
       "      <td>36.6631</td>\n",
       "      <td>7.0945</td>\n",
       "      <td>17.7707</td>\n",
       "      <td>12.4266</td>\n",
       "      <td>7.6356</td>\n",
       "      <td>10.2421</td>\n",
       "      <td>8.1255</td>\n",
       "      <td>8.8450</td>\n",
       "      <td>16.9510</td>\n",
       "    </tr>\n",
       "    <tr>\n",
       "      <th>CI005003.WI</th>\n",
       "      <td>有色金属</td>\n",
       "      <td>1.448112</td>\n",
       "      <td>2.904751</td>\n",
       "      <td>-0.766983</td>\n",
       "      <td>1.814234</td>\n",
       "      <td>0.197597</td>\n",
       "      <td>-0.416105</td>\n",
       "      <td>0.128040</td>\n",
       "      <td>-0.297540</td>\n",
       "      <td>0.462701</td>\n",
       "      <td>...</td>\n",
       "      <td>20.5339</td>\n",
       "      <td>53.5655</td>\n",
       "      <td>15.7350</td>\n",
       "      <td>36.9258</td>\n",
       "      <td>125.2548</td>\n",
       "      <td>25.6045</td>\n",
       "      <td>29.7518</td>\n",
       "      <td>18.8073</td>\n",
       "      <td>20.8052</td>\n",
       "      <td>25.5566</td>\n",
       "    </tr>\n",
       "    <tr>\n",
       "      <th>CI005004.WI</th>\n",
       "      <td>电力及公用事业</td>\n",
       "      <td>0.335519</td>\n",
       "      <td>1.797765</td>\n",
       "      <td>-0.547814</td>\n",
       "      <td>0.511284</td>\n",
       "      <td>-0.087456</td>\n",
       "      <td>-0.207423</td>\n",
       "      <td>0.095577</td>\n",
       "      <td>0.134786</td>\n",
       "      <td>0.631829</td>\n",
       "      <td>...</td>\n",
       "      <td>7.6135</td>\n",
       "      <td>19.9906</td>\n",
       "      <td>13.4183</td>\n",
       "      <td>9.6019</td>\n",
       "      <td>8.9138</td>\n",
       "      <td>7.2517</td>\n",
       "      <td>5.6545</td>\n",
       "      <td>4.1582</td>\n",
       "      <td>7.0722</td>\n",
       "      <td>8.6305</td>\n",
       "    </tr>\n",
       "    <tr>\n",
       "      <th>CI005005.WI</th>\n",
       "      <td>钢铁</td>\n",
       "      <td>0.949575</td>\n",
       "      <td>1.881816</td>\n",
       "      <td>-0.703802</td>\n",
       "      <td>0.995917</td>\n",
       "      <td>-0.255843</td>\n",
       "      <td>-0.286106</td>\n",
       "      <td>-0.028838</td>\n",
       "      <td>-0.164872</td>\n",
       "      <td>0.692943</td>\n",
       "      <td>...</td>\n",
       "      <td>6.3090</td>\n",
       "      <td>20.4673</td>\n",
       "      <td>7.9127</td>\n",
       "      <td>8.9704</td>\n",
       "      <td>12.1254</td>\n",
       "      <td>8.1295</td>\n",
       "      <td>5.9984</td>\n",
       "      <td>4.5987</td>\n",
       "      <td>6.5634</td>\n",
       "      <td>11.3711</td>\n",
       "    </tr>\n",
       "  </tbody>\n",
       "</table>\n",
       "<p>5 rows × 45 columns</p>\n",
       "</div>"
      ],
      "text/plain": [
       "                name  2006 return  2007 return  2008 return  2009 return  \\\n",
       "code                                                                       \n",
       "CI005001.WI     石油石化     0.971607     1.250021    -0.647466     0.745862   \n",
       "CI005002.WI       煤炭     0.413547     2.921693    -0.670935     1.728082   \n",
       "CI005003.WI     有色金属     1.448112     2.904751    -0.766983     1.814234   \n",
       "CI005004.WI  电力及公用事业     0.335519     1.797765    -0.547814     0.511284   \n",
       "CI005005.WI       钢铁     0.949575     1.881816    -0.703802     0.995917   \n",
       "\n",
       "             2010 return  2011 return  2012 return  2013 return  2014 return  \\\n",
       "code                                                                           \n",
       "CI005001.WI    -0.051423    -0.238961    -0.003725     0.072181     0.242092   \n",
       "CI005002.WI    -0.046792    -0.255005    -0.034340    -0.402956     0.321337   \n",
       "CI005003.WI     0.197597    -0.416105     0.128040    -0.297540     0.462701   \n",
       "CI005004.WI    -0.087456    -0.207423     0.095577     0.134786     0.631829   \n",
       "CI005005.WI    -0.255843    -0.286106    -0.028838    -0.164872     0.692943   \n",
       "\n",
       "                   ...         2007 pcf_ocf_ttm  2008 pcf_ocf_ttm  \\\n",
       "code               ...                                              \n",
       "CI005001.WI        ...                   9.7296           21.6425   \n",
       "CI005002.WI        ...                   8.5690           36.6631   \n",
       "CI005003.WI        ...                  20.5339           53.5655   \n",
       "CI005004.WI        ...                   7.6135           19.9906   \n",
       "CI005005.WI        ...                   6.3090           20.4673   \n",
       "\n",
       "             2009 pcf_ocf_ttm  2010 pcf_ocf_ttm  2011 pcf_ocf_ttm  \\\n",
       "code                                                                \n",
       "CI005001.WI           12.4578            9.6609            6.4702   \n",
       "CI005002.WI            7.0945           17.7707           12.4266   \n",
       "CI005003.WI           15.7350           36.9258          125.2548   \n",
       "CI005004.WI           13.4183            9.6019            8.9138   \n",
       "CI005005.WI            7.9127            8.9704           12.1254   \n",
       "\n",
       "             2012 pcf_ocf_ttm  2013 pcf_ocf_ttm  2014 pcf_ocf_ttm  \\\n",
       "code                                                                \n",
       "CI005001.WI            5.8472            6.4392            5.2866   \n",
       "CI005002.WI            7.6356           10.2421            8.1255   \n",
       "CI005003.WI           25.6045           29.7518           18.8073   \n",
       "CI005004.WI            7.2517            5.6545            4.1582   \n",
       "CI005005.WI            8.1295            5.9984            4.5987   \n",
       "\n",
       "             2015 pcf_ocf_ttm  2016 pcf_ocf_ttm  \n",
       "code                                             \n",
       "CI005001.WI            5.8901            5.4722  \n",
       "CI005002.WI            8.8450           16.9510  \n",
       "CI005003.WI           20.8052           25.5566  \n",
       "CI005004.WI            7.0722            8.6305  \n",
       "CI005005.WI            6.5634           11.3711  \n",
       "\n",
       "[5 rows x 45 columns]"
      ]
     },
     "execution_count": 29,
     "metadata": {},
     "output_type": "execute_result"
    }
   ],
   "source": [
    "stock_df.head()"
   ]
  },
  {
   "cell_type": "markdown",
   "metadata": {},
   "source": [
    "# sales-to-enterprise value"
   ]
  },
  {
   "cell_type": "code",
   "execution_count": 30,
   "metadata": {
    "collapsed": true
   },
   "outputs": [],
   "source": [
    "sales_to_enterprise = \"ps_ttm\""
   ]
  },
  {
   "cell_type": "code",
   "execution_count": 31,
   "metadata": {
    "collapsed": false
   },
   "outputs": [],
   "source": [
    "stock_df = get_factor(stock_df, sales_to_enterprise)"
   ]
  },
  {
   "cell_type": "code",
   "execution_count": 32,
   "metadata": {
    "collapsed": false
   },
   "outputs": [
    {
     "data": {
      "text/html": [
       "<div>\n",
       "<table border=\"1\" class=\"dataframe\">\n",
       "  <thead>\n",
       "    <tr style=\"text-align: right;\">\n",
       "      <th></th>\n",
       "      <th>name</th>\n",
       "      <th>2006 return</th>\n",
       "      <th>2007 return</th>\n",
       "      <th>2008 return</th>\n",
       "      <th>2009 return</th>\n",
       "      <th>2010 return</th>\n",
       "      <th>2011 return</th>\n",
       "      <th>2012 return</th>\n",
       "      <th>2013 return</th>\n",
       "      <th>2014 return</th>\n",
       "      <th>...</th>\n",
       "      <th>2007 ps_ttm</th>\n",
       "      <th>2008 ps_ttm</th>\n",
       "      <th>2009 ps_ttm</th>\n",
       "      <th>2010 ps_ttm</th>\n",
       "      <th>2011 ps_ttm</th>\n",
       "      <th>2012 ps_ttm</th>\n",
       "      <th>2013 ps_ttm</th>\n",
       "      <th>2014 ps_ttm</th>\n",
       "      <th>2015 ps_ttm</th>\n",
       "      <th>2016 ps_ttm</th>\n",
       "    </tr>\n",
       "    <tr>\n",
       "      <th>code</th>\n",
       "      <th></th>\n",
       "      <th></th>\n",
       "      <th></th>\n",
       "      <th></th>\n",
       "      <th></th>\n",
       "      <th></th>\n",
       "      <th></th>\n",
       "      <th></th>\n",
       "      <th></th>\n",
       "      <th></th>\n",
       "      <th></th>\n",
       "      <th></th>\n",
       "      <th></th>\n",
       "      <th></th>\n",
       "      <th></th>\n",
       "      <th></th>\n",
       "      <th></th>\n",
       "      <th></th>\n",
       "      <th></th>\n",
       "      <th></th>\n",
       "      <th></th>\n",
       "    </tr>\n",
       "  </thead>\n",
       "  <tbody>\n",
       "    <tr>\n",
       "      <th>CI005001.WI</th>\n",
       "      <td>石油石化</td>\n",
       "      <td>0.971607</td>\n",
       "      <td>1.250021</td>\n",
       "      <td>-0.647466</td>\n",
       "      <td>0.745862</td>\n",
       "      <td>-0.051423</td>\n",
       "      <td>-0.238961</td>\n",
       "      <td>-0.003725</td>\n",
       "      <td>0.072181</td>\n",
       "      <td>0.242092</td>\n",
       "      <td>...</td>\n",
       "      <td>0.8488</td>\n",
       "      <td>4.1621</td>\n",
       "      <td>0.9799</td>\n",
       "      <td>1.8321</td>\n",
       "      <td>0.9242</td>\n",
       "      <td>0.5957</td>\n",
       "      <td>0.5100</td>\n",
       "      <td>0.4223</td>\n",
       "      <td>0.5722</td>\n",
       "      <td>0.6015</td>\n",
       "    </tr>\n",
       "    <tr>\n",
       "      <th>CI005002.WI</th>\n",
       "      <td>煤炭</td>\n",
       "      <td>0.413547</td>\n",
       "      <td>2.921693</td>\n",
       "      <td>-0.670935</td>\n",
       "      <td>1.728082</td>\n",
       "      <td>-0.046792</td>\n",
       "      <td>-0.255005</td>\n",
       "      <td>-0.034340</td>\n",
       "      <td>-0.402956</td>\n",
       "      <td>0.321337</td>\n",
       "      <td>...</td>\n",
       "      <td>1.6829</td>\n",
       "      <td>10.7269</td>\n",
       "      <td>1.9832</td>\n",
       "      <td>4.6274</td>\n",
       "      <td>2.7420</td>\n",
       "      <td>1.7344</td>\n",
       "      <td>1.3492</td>\n",
       "      <td>0.8020</td>\n",
       "      <td>1.3161</td>\n",
       "      <td>1.4207</td>\n",
       "    </tr>\n",
       "    <tr>\n",
       "      <th>CI005003.WI</th>\n",
       "      <td>有色金属</td>\n",
       "      <td>1.448112</td>\n",
       "      <td>2.904751</td>\n",
       "      <td>-0.766983</td>\n",
       "      <td>1.814234</td>\n",
       "      <td>0.197597</td>\n",
       "      <td>-0.416105</td>\n",
       "      <td>0.128040</td>\n",
       "      <td>-0.297540</td>\n",
       "      <td>0.462701</td>\n",
       "      <td>...</td>\n",
       "      <td>1.3710</td>\n",
       "      <td>4.4722</td>\n",
       "      <td>0.9460</td>\n",
       "      <td>3.5036</td>\n",
       "      <td>2.5037</td>\n",
       "      <td>1.1121</td>\n",
       "      <td>1.1754</td>\n",
       "      <td>0.7703</td>\n",
       "      <td>1.0938</td>\n",
       "      <td>1.3342</td>\n",
       "    </tr>\n",
       "    <tr>\n",
       "      <th>CI005004.WI</th>\n",
       "      <td>电力及公用事业</td>\n",
       "      <td>0.335519</td>\n",
       "      <td>1.797765</td>\n",
       "      <td>-0.547814</td>\n",
       "      <td>0.511284</td>\n",
       "      <td>-0.087456</td>\n",
       "      <td>-0.207423</td>\n",
       "      <td>0.095577</td>\n",
       "      <td>0.134786</td>\n",
       "      <td>0.631829</td>\n",
       "      <td>...</td>\n",
       "      <td>2.1118</td>\n",
       "      <td>5.3542</td>\n",
       "      <td>1.8857</td>\n",
       "      <td>2.6068</td>\n",
       "      <td>1.9127</td>\n",
       "      <td>1.3287</td>\n",
       "      <td>1.3737</td>\n",
       "      <td>1.3416</td>\n",
       "      <td>2.1839</td>\n",
       "      <td>2.9337</td>\n",
       "    </tr>\n",
       "    <tr>\n",
       "      <th>CI005005.WI</th>\n",
       "      <td>钢铁</td>\n",
       "      <td>0.949575</td>\n",
       "      <td>1.881816</td>\n",
       "      <td>-0.703802</td>\n",
       "      <td>0.995917</td>\n",
       "      <td>-0.255843</td>\n",
       "      <td>-0.286106</td>\n",
       "      <td>-0.028838</td>\n",
       "      <td>-0.164872</td>\n",
       "      <td>0.692943</td>\n",
       "      <td>...</td>\n",
       "      <td>0.7737</td>\n",
       "      <td>1.6279</td>\n",
       "      <td>0.3488</td>\n",
       "      <td>0.9615</td>\n",
       "      <td>0.5189</td>\n",
       "      <td>0.3296</td>\n",
       "      <td>0.3465</td>\n",
       "      <td>0.3177</td>\n",
       "      <td>0.5100</td>\n",
       "      <td>0.7817</td>\n",
       "    </tr>\n",
       "  </tbody>\n",
       "</table>\n",
       "<p>5 rows × 56 columns</p>\n",
       "</div>"
      ],
      "text/plain": [
       "                name  2006 return  2007 return  2008 return  2009 return  \\\n",
       "code                                                                       \n",
       "CI005001.WI     石油石化     0.971607     1.250021    -0.647466     0.745862   \n",
       "CI005002.WI       煤炭     0.413547     2.921693    -0.670935     1.728082   \n",
       "CI005003.WI     有色金属     1.448112     2.904751    -0.766983     1.814234   \n",
       "CI005004.WI  电力及公用事业     0.335519     1.797765    -0.547814     0.511284   \n",
       "CI005005.WI       钢铁     0.949575     1.881816    -0.703802     0.995917   \n",
       "\n",
       "             2010 return  2011 return  2012 return  2013 return  2014 return  \\\n",
       "code                                                                           \n",
       "CI005001.WI    -0.051423    -0.238961    -0.003725     0.072181     0.242092   \n",
       "CI005002.WI    -0.046792    -0.255005    -0.034340    -0.402956     0.321337   \n",
       "CI005003.WI     0.197597    -0.416105     0.128040    -0.297540     0.462701   \n",
       "CI005004.WI    -0.087456    -0.207423     0.095577     0.134786     0.631829   \n",
       "CI005005.WI    -0.255843    -0.286106    -0.028838    -0.164872     0.692943   \n",
       "\n",
       "                ...       2007 ps_ttm  2008 ps_ttm  2009 ps_ttm  2010 ps_ttm  \\\n",
       "code            ...                                                            \n",
       "CI005001.WI     ...            0.8488       4.1621       0.9799       1.8321   \n",
       "CI005002.WI     ...            1.6829      10.7269       1.9832       4.6274   \n",
       "CI005003.WI     ...            1.3710       4.4722       0.9460       3.5036   \n",
       "CI005004.WI     ...            2.1118       5.3542       1.8857       2.6068   \n",
       "CI005005.WI     ...            0.7737       1.6279       0.3488       0.9615   \n",
       "\n",
       "             2011 ps_ttm  2012 ps_ttm  2013 ps_ttm  2014 ps_ttm  2015 ps_ttm  \\\n",
       "code                                                                           \n",
       "CI005001.WI       0.9242       0.5957       0.5100       0.4223       0.5722   \n",
       "CI005002.WI       2.7420       1.7344       1.3492       0.8020       1.3161   \n",
       "CI005003.WI       2.5037       1.1121       1.1754       0.7703       1.0938   \n",
       "CI005004.WI       1.9127       1.3287       1.3737       1.3416       2.1839   \n",
       "CI005005.WI       0.5189       0.3296       0.3465       0.3177       0.5100   \n",
       "\n",
       "             2016 ps_ttm  \n",
       "code                      \n",
       "CI005001.WI       0.6015  \n",
       "CI005002.WI       1.4207  \n",
       "CI005003.WI       1.3342  \n",
       "CI005004.WI       2.9337  \n",
       "CI005005.WI       0.7817  \n",
       "\n",
       "[5 rows x 56 columns]"
      ]
     },
     "execution_count": 32,
     "metadata": {},
     "output_type": "execute_result"
    }
   ],
   "source": [
    "stock_df.head()"
   ]
  },
  {
   "cell_type": "markdown",
   "metadata": {},
   "source": [
    "# 获取每年分组后的收益"
   ]
  },
  {
   "cell_type": "code",
   "execution_count": 33,
   "metadata": {
    "collapsed": true
   },
   "outputs": [],
   "source": [
    "ranks = get_ranks(stock_df)"
   ]
  },
  {
   "cell_type": "code",
   "execution_count": 39,
   "metadata": {
    "collapsed": true
   },
   "outputs": [],
   "source": [
    "factors = [book_to_price, earnings_to_price, cashflow_to_price, sales_to_enterprise]\n",
    "weights = [1, 1, 1, 1]"
   ]
  },
  {
   "cell_type": "code",
   "execution_count": 40,
   "metadata": {
    "collapsed": true
   },
   "outputs": [],
   "source": [
    "group_df = get_group_return(stock_df, factors, weights, years, ranks)"
   ]
  },
  {
   "cell_type": "code",
   "execution_count": 41,
   "metadata": {
    "collapsed": false
   },
   "outputs": [
    {
     "data": {
      "text/html": [
       "<div>\n",
       "<table border=\"1\" class=\"dataframe\">\n",
       "  <thead>\n",
       "    <tr style=\"text-align: right;\">\n",
       "      <th></th>\n",
       "      <th>2006 return</th>\n",
       "      <th>2007 return</th>\n",
       "      <th>2008 return</th>\n",
       "      <th>2009 return</th>\n",
       "      <th>2010 return</th>\n",
       "      <th>2011 return</th>\n",
       "      <th>2012 return</th>\n",
       "      <th>2013 return</th>\n",
       "      <th>2014 return</th>\n",
       "      <th>2015 return</th>\n",
       "      <th>2016 return</th>\n",
       "    </tr>\n",
       "  </thead>\n",
       "  <tbody>\n",
       "    <tr>\n",
       "      <th>1</th>\n",
       "      <td>1.222793</td>\n",
       "      <td>1.482542</td>\n",
       "      <td>-0.619751</td>\n",
       "      <td>1.098394</td>\n",
       "      <td>0.202687</td>\n",
       "      <td>-0.366658</td>\n",
       "      <td>-0.027159</td>\n",
       "      <td>0.446141</td>\n",
       "      <td>0.328856</td>\n",
       "      <td>0.851662</td>\n",
       "      <td>-0.261131</td>\n",
       "    </tr>\n",
       "    <tr>\n",
       "      <th>2</th>\n",
       "      <td>0.794324</td>\n",
       "      <td>1.653193</td>\n",
       "      <td>-0.617739</td>\n",
       "      <td>0.947305</td>\n",
       "      <td>0.192710</td>\n",
       "      <td>-0.253120</td>\n",
       "      <td>-0.013667</td>\n",
       "      <td>0.104661</td>\n",
       "      <td>0.396351</td>\n",
       "      <td>0.408665</td>\n",
       "      <td>-0.139912</td>\n",
       "    </tr>\n",
       "    <tr>\n",
       "      <th>3</th>\n",
       "      <td>0.725301</td>\n",
       "      <td>2.069517</td>\n",
       "      <td>-0.635186</td>\n",
       "      <td>0.969075</td>\n",
       "      <td>-0.031570</td>\n",
       "      <td>-0.288106</td>\n",
       "      <td>-0.003293</td>\n",
       "      <td>0.085848</td>\n",
       "      <td>0.453402</td>\n",
       "      <td>0.835121</td>\n",
       "      <td>-0.110931</td>\n",
       "    </tr>\n",
       "    <tr>\n",
       "      <th>4</th>\n",
       "      <td>0.898464</td>\n",
       "      <td>1.696802</td>\n",
       "      <td>-0.566917</td>\n",
       "      <td>1.376035</td>\n",
       "      <td>-0.047984</td>\n",
       "      <td>-0.227830</td>\n",
       "      <td>0.123078</td>\n",
       "      <td>0.031640</td>\n",
       "      <td>0.623133</td>\n",
       "      <td>0.361817</td>\n",
       "      <td>-0.108071</td>\n",
       "    </tr>\n",
       "    <tr>\n",
       "      <th>5</th>\n",
       "      <td>0.752962</td>\n",
       "      <td>1.884837</td>\n",
       "      <td>-0.625022</td>\n",
       "      <td>1.332018</td>\n",
       "      <td>-0.063616</td>\n",
       "      <td>-0.289769</td>\n",
       "      <td>0.095207</td>\n",
       "      <td>0.109366</td>\n",
       "      <td>0.582506</td>\n",
       "      <td>0.082580</td>\n",
       "      <td>-0.025270</td>\n",
       "    </tr>\n",
       "  </tbody>\n",
       "</table>\n",
       "</div>"
      ],
      "text/plain": [
       "   2006 return  2007 return  2008 return  2009 return  2010 return  \\\n",
       "1     1.222793     1.482542    -0.619751     1.098394     0.202687   \n",
       "2     0.794324     1.653193    -0.617739     0.947305     0.192710   \n",
       "3     0.725301     2.069517    -0.635186     0.969075    -0.031570   \n",
       "4     0.898464     1.696802    -0.566917     1.376035    -0.047984   \n",
       "5     0.752962     1.884837    -0.625022     1.332018    -0.063616   \n",
       "\n",
       "   2011 return  2012 return  2013 return  2014 return  2015 return  \\\n",
       "1    -0.366658    -0.027159     0.446141     0.328856     0.851662   \n",
       "2    -0.253120    -0.013667     0.104661     0.396351     0.408665   \n",
       "3    -0.288106    -0.003293     0.085848     0.453402     0.835121   \n",
       "4    -0.227830     0.123078     0.031640     0.623133     0.361817   \n",
       "5    -0.289769     0.095207     0.109366     0.582506     0.082580   \n",
       "\n",
       "   2016 return  \n",
       "1    -0.261131  \n",
       "2    -0.139912  \n",
       "3    -0.110931  \n",
       "4    -0.108071  \n",
       "5    -0.025270  "
      ]
     },
     "execution_count": 41,
     "metadata": {},
     "output_type": "execute_result"
    }
   ],
   "source": [
    "group_df"
   ]
  },
  {
   "cell_type": "code",
   "execution_count": 42,
   "metadata": {
    "collapsed": false
   },
   "outputs": [],
   "source": [
    "res = group_df.mean(axis=1)\n",
    "data = pd.DataFrame({'group': res.index, 'return': res.values})"
   ]
  },
  {
   "cell_type": "code",
   "execution_count": 43,
   "metadata": {
    "collapsed": false
   },
   "outputs": [
    {
     "data": {
      "image/png": "[encoded data removed]",
      "text/plain": [
       "<matplotlib.figure.Figure at 0xbb3ee90>"
      ]
     },
     "metadata": {},
     "output_type": "display_data"
    }
   ],
   "source": [
    "ax = sns.barplot(x='group', y='return', data=data, palette=\"Blues_d\")\n",
    "# vals = ax.get_yticks()\n",
    "# ax.set_yticklabels(['{:3.2f}%'.format(x*100) for x in vals])"
   ]
  },
  {
   "cell_type": "code",
   "execution_count": 45,
   "metadata": {
    "collapsed": false
   },
   "outputs": [],
   "source": [
    "group_df.to_excel(\"%s/value.xlsx\"%(DATA_DIR))"
   ]
  },
  {
   "cell_type": "markdown",
   "metadata": {},
   "source": [
    "# 加入momentum"
   ]
  },
  {
   "cell_type": "code",
   "execution_count": 46,
   "metadata": {
    "collapsed": true
   },
   "outputs": [],
   "source": [
    "for stock in stock_df.index:\n",
    "    data = w.wsd(stock, 'close', START_DATE, END_DATE)\n",
    "    df = wind2df(data)\n",
    "    df = df.resample('BMS').first()\n",
    "    df['return'] = df.pct_change()\n",
    "    df['avg return'] = df['return'].rolling(window=12).mean()\n",
    "    df = df.resample('BAS').first()\n",
    "    for ind in df.index[1:]:\n",
    "        year = ind.year\n",
    "        stock_df.loc[stock, \"%d momentum\"%(year)] = -df.loc[ind, \"avg return\"]"
   ]
  },
  {
   "cell_type": "code",
   "execution_count": 47,
   "metadata": {
    "collapsed": true
   },
   "outputs": [],
   "source": [
    "factors = [book_to_price, earnings_to_price, cashflow_to_price, sales_to_enterprise, \"momentum\"]\n",
    "weights = [1, 1, 1, 1, 4]"
   ]
  },
  {
   "cell_type": "code",
   "execution_count": 48,
   "metadata": {
    "collapsed": true
   },
   "outputs": [],
   "source": [
    "ranks = get_ranks(stock_df)"
   ]
  },
  {
   "cell_type": "code",
   "execution_count": 49,
   "metadata": {
    "collapsed": true
   },
   "outputs": [],
   "source": [
    "group_df = get_group_return(stock_df, factors, weights, years, ranks)"
   ]
  },
  {
   "cell_type": "code",
   "execution_count": 50,
   "metadata": {
    "collapsed": false
   },
   "outputs": [
    {
     "data": {
      "text/html": [
       "<div>\n",
       "<table border=\"1\" class=\"dataframe\">\n",
       "  <thead>\n",
       "    <tr style=\"text-align: right;\">\n",
       "      <th></th>\n",
       "      <th>2006 return</th>\n",
       "      <th>2007 return</th>\n",
       "      <th>2008 return</th>\n",
       "      <th>2009 return</th>\n",
       "      <th>2010 return</th>\n",
       "      <th>2011 return</th>\n",
       "      <th>2012 return</th>\n",
       "      <th>2013 return</th>\n",
       "      <th>2014 return</th>\n",
       "      <th>2015 return</th>\n",
       "      <th>2016 return</th>\n",
       "    </tr>\n",
       "  </thead>\n",
       "  <tbody>\n",
       "    <tr>\n",
       "      <th>1</th>\n",
       "      <td>0.417388</td>\n",
       "      <td>1.789205</td>\n",
       "      <td>-0.618835</td>\n",
       "      <td>1.161880</td>\n",
       "      <td>0.094340</td>\n",
       "      <td>-0.229641</td>\n",
       "      <td>-0.025109</td>\n",
       "      <td>0.459414</td>\n",
       "      <td>0.478293</td>\n",
       "      <td>0.704541</td>\n",
       "      <td>-0.077085</td>\n",
       "    </tr>\n",
       "    <tr>\n",
       "      <th>2</th>\n",
       "      <td>1.130898</td>\n",
       "      <td>1.746196</td>\n",
       "      <td>-0.581566</td>\n",
       "      <td>1.103952</td>\n",
       "      <td>0.078101</td>\n",
       "      <td>-0.278553</td>\n",
       "      <td>0.028744</td>\n",
       "      <td>0.145807</td>\n",
       "      <td>0.447226</td>\n",
       "      <td>0.923737</td>\n",
       "      <td>-0.119183</td>\n",
       "    </tr>\n",
       "    <tr>\n",
       "      <th>3</th>\n",
       "      <td>0.783511</td>\n",
       "      <td>1.783657</td>\n",
       "      <td>-0.655425</td>\n",
       "      <td>1.341416</td>\n",
       "      <td>0.058019</td>\n",
       "      <td>-0.269970</td>\n",
       "      <td>0.010224</td>\n",
       "      <td>0.086215</td>\n",
       "      <td>0.686422</td>\n",
       "      <td>0.625847</td>\n",
       "      <td>-0.209320</td>\n",
       "    </tr>\n",
       "    <tr>\n",
       "      <th>4</th>\n",
       "      <td>0.976962</td>\n",
       "      <td>1.693370</td>\n",
       "      <td>-0.626337</td>\n",
       "      <td>1.077939</td>\n",
       "      <td>0.014349</td>\n",
       "      <td>-0.354829</td>\n",
       "      <td>0.043547</td>\n",
       "      <td>-0.022630</td>\n",
       "      <td>0.303828</td>\n",
       "      <td>0.106936</td>\n",
       "      <td>-0.143637</td>\n",
       "    </tr>\n",
       "    <tr>\n",
       "      <th>5</th>\n",
       "      <td>1.151511</td>\n",
       "      <td>1.752388</td>\n",
       "      <td>-0.573935</td>\n",
       "      <td>0.978764</td>\n",
       "      <td>0.021628</td>\n",
       "      <td>-0.293033</td>\n",
       "      <td>0.121072</td>\n",
       "      <td>0.108748</td>\n",
       "      <td>0.445675</td>\n",
       "      <td>0.198025</td>\n",
       "      <td>-0.110253</td>\n",
       "    </tr>\n",
       "  </tbody>\n",
       "</table>\n",
       "</div>"
      ],
      "text/plain": [
       "   2006 return  2007 return  2008 return  2009 return  2010 return  \\\n",
       "1     0.417388     1.789205    -0.618835     1.161880     0.094340   \n",
       "2     1.130898     1.746196    -0.581566     1.103952     0.078101   \n",
       "3     0.783511     1.783657    -0.655425     1.341416     0.058019   \n",
       "4     0.976962     1.693370    -0.626337     1.077939     0.014349   \n",
       "5     1.151511     1.752388    -0.573935     0.978764     0.021628   \n",
       "\n",
       "   2011 return  2012 return  2013 return  2014 return  2015 return  \\\n",
       "1    -0.229641    -0.025109     0.459414     0.478293     0.704541   \n",
       "2    -0.278553     0.028744     0.145807     0.447226     0.923737   \n",
       "3    -0.269970     0.010224     0.086215     0.686422     0.625847   \n",
       "4    -0.354829     0.043547    -0.022630     0.303828     0.106936   \n",
       "5    -0.293033     0.121072     0.108748     0.445675     0.198025   \n",
       "\n",
       "   2016 return  \n",
       "1    -0.077085  \n",
       "2    -0.119183  \n",
       "3    -0.209320  \n",
       "4    -0.143637  \n",
       "5    -0.110253  "
      ]
     },
     "execution_count": 50,
     "metadata": {},
     "output_type": "execute_result"
    }
   ],
   "source": [
    "group_df"
   ]
  },
  {
   "cell_type": "code",
   "execution_count": 51,
   "metadata": {
    "collapsed": true
   },
   "outputs": [],
   "source": [
    "res = group_df.mean(axis=1)\n",
    "data = pd.DataFrame({'group': res.index, 'return': res.values})"
   ]
  },
  {
   "cell_type": "code",
   "execution_count": 52,
   "metadata": {
    "collapsed": false
   },
   "outputs": [
    {
     "data": {
      "image/png": "[encoded data removed]",
      "text/plain": [
       "<matplotlib.figure.Figure at 0xc133a70>"
      ]
     },
     "metadata": {},
     "output_type": "display_data"
    }
   ],
   "source": [
    "ax = sns.barplot(x='group', y='return', data=data, palette=\"Blues_d\")"
   ]
  },
  {
   "cell_type": "code",
   "execution_count": 54,
   "metadata": {
    "collapsed": false
   },
   "outputs": [],
   "source": [
    "group_df.to_excel(\"%s/value_momentum.xlsx\"%(DATA_DIR))"
   ]
  },
  {
   "cell_type": "markdown",
   "metadata": {
    "collapsed": true
   },
   "source": [
    "# 加入波动率"
   ]
  },
  {
   "cell_type": "code",
   "execution_count": 138,
   "metadata": {
    "collapsed": true
   },
   "outputs": [],
   "source": [
    "for stock in stock_df.index:\n",
    "    data = w.wsd(stock, 'close', START_DATE, END_DATE)\n",
    "    df = wind2df(data)\n",
    "    df['return'] = df.pct_change()\n",
    "    df['volatility'] = df['return'].rolling(window=243).std() * np.sqrt(243)\n",
    "    df = df.resample('BAS').first()\n",
    "    for ind in df.index[1:]:\n",
    "        year = ind.year\n",
    "        stock_df.loc[stock, \"%d volatility\"%(year)] = df.loc[ind, \"volatility\"]"
   ]
  },
  {
   "cell_type": "code",
   "execution_count": 139,
   "metadata": {
    "collapsed": true
   },
   "outputs": [],
   "source": [
    "factors = [book_to_price, earnings_to_price, cashflow_to_price, sales_to_enterprise, \"momentum\", \"volatility\"]\n",
    "weights = [1, 1, 1, 1, 4, 4]"
   ]
  },
  {
   "cell_type": "code",
   "execution_count": 151,
   "metadata": {
    "collapsed": true
   },
   "outputs": [],
   "source": [
    "ranks = get_ranks(stock_df, 10)"
   ]
  },
  {
   "cell_type": "code",
   "execution_count": 152,
   "metadata": {
    "collapsed": true
   },
   "outputs": [],
   "source": [
    "group_df = get_group_return(stock_df, factors, weights, years, ranks)"
   ]
  },
  {
   "cell_type": "code",
   "execution_count": 153,
   "metadata": {
    "collapsed": true
   },
   "outputs": [],
   "source": [
    "res = group_df.mean(axis=1)\n",
    "data = pd.DataFrame({'group': res.index, 'return': group_df['2016 return']})"
   ]
  },
  {
   "cell_type": "code",
   "execution_count": 154,
   "metadata": {
    "collapsed": false
   },
   "outputs": [
    {
     "data": {
      "image/png": "[encoded data removed]",
      "text/plain": [
       "<matplotlib.figure.Figure at 0x1d7c4b30>"
      ]
     },
     "metadata": {},
     "output_type": "display_data"
    }
   ],
   "source": [
    "ax = sns.barplot(x='group', y='return', data=data, palette=\"Blues_d\")"
   ]
  },
  {
   "cell_type": "code",
   "execution_count": 144,
   "metadata": {
    "collapsed": true
   },
   "outputs": [],
   "source": [
    "group_df.to_excel(\"%s/value_momentum_volatility.xlsx\"%(DATA_DIR))"
   ]
  },
  {
   "cell_type": "code",
   "execution_count": null,
   "metadata": {
    "collapsed": true
   },
   "outputs": [],
   "source": []
  },
  {
   "cell_type": "code",
   "execution_count": null,
   "metadata": {
    "collapsed": true
   },
   "outputs": [],
   "source": []
  },
  {
   "cell_type": "markdown",
   "metadata": {},
   "source": [
    "# 尝试港股"
   ]
  },
  {
   "cell_type": "code",
   "execution_count": 55,
   "metadata": {
    "collapsed": true
   },
   "outputs": [],
   "source": [
    "hk_df = get_asset_return(hk_df)"
   ]
  },
  {
   "cell_type": "code",
   "execution_count": 56,
   "metadata": {
    "collapsed": true
   },
   "outputs": [],
   "source": [
    "hk_df = get_factor(hk_df, book_to_price)"
   ]
  },
  {
   "cell_type": "code",
   "execution_count": 57,
   "metadata": {
    "collapsed": true
   },
   "outputs": [],
   "source": [
    "hk_df = get_factor(hk_df, earnings_to_price)"
   ]
  },
  {
   "cell_type": "code",
   "execution_count": 58,
   "metadata": {
    "collapsed": true
   },
   "outputs": [],
   "source": [
    "hk_df = get_factor(hk_df, cashflow_to_price)"
   ]
  },
  {
   "cell_type": "code",
   "execution_count": 59,
   "metadata": {
    "collapsed": true
   },
   "outputs": [],
   "source": [
    "hk_df = get_factor(hk_df, sales_to_enterprise)"
   ]
  },
  {
   "cell_type": "code",
   "execution_count": 60,
   "metadata": {
    "collapsed": true
   },
   "outputs": [],
   "source": [
    "factors = [book_to_price, earnings_to_price, cashflow_to_price, sales_to_enterprise]\n",
    "weights = [1, 1, 1, 1]"
   ]
  },
  {
   "cell_type": "code",
   "execution_count": 61,
   "metadata": {
    "collapsed": true
   },
   "outputs": [],
   "source": [
    "ranks = get_ranks(hk_df)"
   ]
  },
  {
   "cell_type": "code",
   "execution_count": 63,
   "metadata": {
    "collapsed": false
   },
   "outputs": [],
   "source": [
    "group_df = get_group_return(hk_df, factors, weights, years, ranks)"
   ]
  },
  {
   "cell_type": "code",
   "execution_count": 64,
   "metadata": {
    "collapsed": false
   },
   "outputs": [
    {
     "data": {
      "text/html": [
       "<div>\n",
       "<table border=\"1\" class=\"dataframe\">\n",
       "  <thead>\n",
       "    <tr style=\"text-align: right;\">\n",
       "      <th></th>\n",
       "      <th>2006 return</th>\n",
       "      <th>2007 return</th>\n",
       "      <th>2008 return</th>\n",
       "      <th>2009 return</th>\n",
       "      <th>2010 return</th>\n",
       "      <th>2011 return</th>\n",
       "      <th>2012 return</th>\n",
       "      <th>2013 return</th>\n",
       "      <th>2014 return</th>\n",
       "      <th>2015 return</th>\n",
       "      <th>2016 return</th>\n",
       "    </tr>\n",
       "  </thead>\n",
       "  <tbody>\n",
       "    <tr>\n",
       "      <th>1</th>\n",
       "      <td>0.744535</td>\n",
       "      <td>0.214120</td>\n",
       "      <td>-0.572021</td>\n",
       "      <td>0.368132</td>\n",
       "      <td>0.011486</td>\n",
       "      <td>-0.214144</td>\n",
       "      <td>0.233222</td>\n",
       "      <td>0.269726</td>\n",
       "      <td>-0.108203</td>\n",
       "      <td>0.060267</td>\n",
       "      <td>0.058958</td>\n",
       "    </tr>\n",
       "    <tr>\n",
       "      <th>2</th>\n",
       "      <td>0.145912</td>\n",
       "      <td>0.481753</td>\n",
       "      <td>-0.583149</td>\n",
       "      <td>0.559339</td>\n",
       "      <td>0.078963</td>\n",
       "      <td>-0.226198</td>\n",
       "      <td>0.169787</td>\n",
       "      <td>0.405917</td>\n",
       "      <td>-0.024344</td>\n",
       "      <td>-0.160272</td>\n",
       "      <td>-0.019107</td>\n",
       "    </tr>\n",
       "    <tr>\n",
       "      <th>3</th>\n",
       "      <td>0.499137</td>\n",
       "      <td>0.471149</td>\n",
       "      <td>-0.520250</td>\n",
       "      <td>1.411913</td>\n",
       "      <td>0.142432</td>\n",
       "      <td>-0.435526</td>\n",
       "      <td>0.196006</td>\n",
       "      <td>-0.100526</td>\n",
       "      <td>0.062867</td>\n",
       "      <td>-0.009524</td>\n",
       "      <td>-0.067866</td>\n",
       "    </tr>\n",
       "    <tr>\n",
       "      <th>4</th>\n",
       "      <td>0.391787</td>\n",
       "      <td>0.503196</td>\n",
       "      <td>-0.557549</td>\n",
       "      <td>0.751840</td>\n",
       "      <td>0.148867</td>\n",
       "      <td>-0.113068</td>\n",
       "      <td>0.198174</td>\n",
       "      <td>0.017316</td>\n",
       "      <td>0.029287</td>\n",
       "      <td>-0.075689</td>\n",
       "      <td>-0.092508</td>\n",
       "    </tr>\n",
       "    <tr>\n",
       "      <th>5</th>\n",
       "      <td>0.373656</td>\n",
       "      <td>0.453564</td>\n",
       "      <td>-0.456744</td>\n",
       "      <td>0.821676</td>\n",
       "      <td>0.169209</td>\n",
       "      <td>-0.129451</td>\n",
       "      <td>0.209667</td>\n",
       "      <td>-0.076393</td>\n",
       "      <td>-0.051277</td>\n",
       "      <td>-0.175240</td>\n",
       "      <td>0.111510</td>\n",
       "    </tr>\n",
       "  </tbody>\n",
       "</table>\n",
       "</div>"
      ],
      "text/plain": [
       "   2006 return  2007 return  2008 return  2009 return  2010 return  \\\n",
       "1     0.744535     0.214120    -0.572021     0.368132     0.011486   \n",
       "2     0.145912     0.481753    -0.583149     0.559339     0.078963   \n",
       "3     0.499137     0.471149    -0.520250     1.411913     0.142432   \n",
       "4     0.391787     0.503196    -0.557549     0.751840     0.148867   \n",
       "5     0.373656     0.453564    -0.456744     0.821676     0.169209   \n",
       "\n",
       "   2011 return  2012 return  2013 return  2014 return  2015 return  \\\n",
       "1    -0.214144     0.233222     0.269726    -0.108203     0.060267   \n",
       "2    -0.226198     0.169787     0.405917    -0.024344    -0.160272   \n",
       "3    -0.435526     0.196006    -0.100526     0.062867    -0.009524   \n",
       "4    -0.113068     0.198174     0.017316     0.029287    -0.075689   \n",
       "5    -0.129451     0.209667    -0.076393    -0.051277    -0.175240   \n",
       "\n",
       "   2016 return  \n",
       "1     0.058958  \n",
       "2    -0.019107  \n",
       "3    -0.067866  \n",
       "4    -0.092508  \n",
       "5     0.111510  "
      ]
     },
     "execution_count": 64,
     "metadata": {},
     "output_type": "execute_result"
    }
   ],
   "source": [
    "group_df"
   ]
  },
  {
   "cell_type": "code",
   "execution_count": 67,
   "metadata": {
    "collapsed": true
   },
   "outputs": [],
   "source": [
    "res = group_df.mean(axis=1)\n",
    "data = pd.DataFrame({'group': res.index, 'return': res.values})"
   ]
  },
  {
   "cell_type": "code",
   "execution_count": 69,
   "metadata": {
    "collapsed": false
   },
   "outputs": [
    {
     "data": {
      "image/png": "[encoded data removed]",
      "text/plain": [
       "<matplotlib.figure.Figure at 0x1d03f1f0>"
      ]
     },
     "metadata": {},
     "output_type": "display_data"
    }
   ],
   "source": [
    "ax = sns.barplot(x='group', y='return', data=data, palette=\"Blues_d\")\n",
    "# vals = ax.get_yticks()\n",
    "# ax.set_yticklabels(['{:3.2f}%'.format(x*100) for x in vals])"
   ]
  },
  {
   "cell_type": "code",
   "execution_count": 70,
   "metadata": {
    "collapsed": true
   },
   "outputs": [],
   "source": [
    "group_df.to_excel(\"%s/hk_value.xlsx\"%(DATA_DIR))"
   ]
  },
  {
   "cell_type": "code",
   "execution_count": 71,
   "metadata": {
    "collapsed": true
   },
   "outputs": [],
   "source": [
    "for stock in hk_df.index:\n",
    "    data = w.wsd(stock, 'close', START_DATE, END_DATE)\n",
    "    df = wind2df(data)\n",
    "    df = df.resample('BMS').first()\n",
    "    df['return'] = df.pct_change()\n",
    "    df['avg return'] = df['return'].rolling(window=12).mean()\n",
    "    df = df.resample('BAS').first()\n",
    "    for ind in df.index[1:]:\n",
    "        year = ind.year\n",
    "        hk_df.loc[stock, \"%d momentum\"%(year)] = -df.loc[ind, \"avg return\"]"
   ]
  },
  {
   "cell_type": "code",
   "execution_count": 72,
   "metadata": {
    "collapsed": true
   },
   "outputs": [],
   "source": [
    "ranks = get_ranks(hk_df)"
   ]
  },
  {
   "cell_type": "code",
   "execution_count": 73,
   "metadata": {
    "collapsed": true
   },
   "outputs": [],
   "source": [
    "factors = [book_to_price, earnings_to_price, cashflow_to_price, sales_to_enterprise, \"momentum\"]\n",
    "weights = [1, 1, 1, 1, 4]"
   ]
  },
  {
   "cell_type": "code",
   "execution_count": 74,
   "metadata": {
    "collapsed": true
   },
   "outputs": [],
   "source": [
    "group_df = get_group_return(hk_df, factors, weights, years, ranks)"
   ]
  },
  {
   "cell_type": "code",
   "execution_count": 75,
   "metadata": {
    "collapsed": true
   },
   "outputs": [],
   "source": [
    "res = group_df.mean(axis=1)\n",
    "data = pd.DataFrame({'group': res.index, 'return': res.values})"
   ]
  },
  {
   "cell_type": "code",
   "execution_count": 76,
   "metadata": {
    "collapsed": false
   },
   "outputs": [
    {
     "data": {
      "image/png": "[encoded data removed]",
      "text/plain": [
       "<matplotlib.figure.Figure at 0x1d14f4d0>"
      ]
     },
     "metadata": {},
     "output_type": "display_data"
    }
   ],
   "source": [
    "ax = sns.barplot(x='group', y='return', data=data, palette=\"Blues_d\")"
   ]
  },
  {
   "cell_type": "markdown",
   "metadata": {},
   "source": [
    "# 尝试债券"
   ]
  },
  {
   "cell_type": "code",
   "execution_count": 77,
   "metadata": {
    "collapsed": true
   },
   "outputs": [],
   "source": [
    "bond_df = get_asset_return(bond_df)"
   ]
  },
  {
   "cell_type": "code",
   "execution_count": 78,
   "metadata": {
    "collapsed": false
   },
   "outputs": [],
   "source": [
    "for bond in bond_df.index:\n",
    "    data = w.wsd(bond, 'ytm_b', START_DATE, END_DATE, \"returnType=1\")\n",
    "    df = wind2df(data)\n",
    "    df = df.resample('A').last()\n",
    "    for ind in df.index[:-1]:\n",
    "        year = ind.year + 1\n",
    "        if df.loc[ind, \"ytm_b\"] == None:\n",
    "            bond_df.loc[bond, \"%d %s\"%(year, \"ytm_b\")] = df.loc[ind, \"ytm_b\"]\n",
    "        else:\n",
    "            bond_df.loc[bond, \"%d %s\"%(year, \"ytm_b\")] = df.loc[ind, \"ytm_b\"] * -1.0"
   ]
  },
  {
   "cell_type": "code",
   "execution_count": 79,
   "metadata": {
    "collapsed": false
   },
   "outputs": [],
   "source": [
    "factors = [\"ytm_b\"]\n",
    "weights = [1]"
   ]
  },
  {
   "cell_type": "code",
   "execution_count": 80,
   "metadata": {
    "collapsed": false
   },
   "outputs": [],
   "source": [
    "ranks = get_ranks(bond_df)"
   ]
  },
  {
   "cell_type": "code",
   "execution_count": 81,
   "metadata": {
    "collapsed": false
   },
   "outputs": [],
   "source": [
    "group_df = get_group_return(bond_df, factors, weights, years, ranks)"
   ]
  },
  {
   "cell_type": "code",
   "execution_count": 82,
   "metadata": {
    "collapsed": false
   },
   "outputs": [
    {
     "data": {
      "text/html": [
       "<div>\n",
       "<table border=\"1\" class=\"dataframe\">\n",
       "  <thead>\n",
       "    <tr style=\"text-align: right;\">\n",
       "      <th></th>\n",
       "      <th>2006 return</th>\n",
       "      <th>2007 return</th>\n",
       "      <th>2008 return</th>\n",
       "      <th>2009 return</th>\n",
       "      <th>2010 return</th>\n",
       "      <th>2011 return</th>\n",
       "      <th>2012 return</th>\n",
       "      <th>2013 return</th>\n",
       "      <th>2014 return</th>\n",
       "      <th>2015 return</th>\n",
       "      <th>2016 return</th>\n",
       "    </tr>\n",
       "  </thead>\n",
       "  <tbody>\n",
       "    <tr>\n",
       "      <th>1</th>\n",
       "      <td>0.025782</td>\n",
       "      <td>0.005575</td>\n",
       "      <td>0.114136</td>\n",
       "      <td>0.000872</td>\n",
       "      <td>0.023668</td>\n",
       "      <td>0.057968</td>\n",
       "      <td>0.024825</td>\n",
       "      <td>-0.022285</td>\n",
       "      <td>0.113997</td>\n",
       "      <td>0.080682</td>\n",
       "      <td>0.013398</td>\n",
       "    </tr>\n",
       "    <tr>\n",
       "      <th>2</th>\n",
       "      <td>0.024943</td>\n",
       "      <td>-0.012726</td>\n",
       "      <td>0.147773</td>\n",
       "      <td>-0.002498</td>\n",
       "      <td>0.028042</td>\n",
       "      <td>0.046466</td>\n",
       "      <td>0.050319</td>\n",
       "      <td>0.022730</td>\n",
       "      <td>0.087130</td>\n",
       "      <td>0.078131</td>\n",
       "      <td>0.021887</td>\n",
       "    </tr>\n",
       "    <tr>\n",
       "      <th>3</th>\n",
       "      <td>NaN</td>\n",
       "      <td>NaN</td>\n",
       "      <td>0.172772</td>\n",
       "      <td>0.013448</td>\n",
       "      <td>0.053269</td>\n",
       "      <td>0.033452</td>\n",
       "      <td>0.095906</td>\n",
       "      <td>0.025111</td>\n",
       "      <td>0.118834</td>\n",
       "      <td>0.110227</td>\n",
       "      <td>0.027661</td>\n",
       "    </tr>\n",
       "    <tr>\n",
       "      <th>4</th>\n",
       "      <td>0.018892</td>\n",
       "      <td>0.033564</td>\n",
       "      <td>0.098732</td>\n",
       "      <td>0.013328</td>\n",
       "      <td>0.044265</td>\n",
       "      <td>0.027810</td>\n",
       "      <td>0.083803</td>\n",
       "      <td>0.036456</td>\n",
       "      <td>0.082808</td>\n",
       "      <td>0.074852</td>\n",
       "      <td>0.034225</td>\n",
       "    </tr>\n",
       "    <tr>\n",
       "      <th>5</th>\n",
       "      <td>NaN</td>\n",
       "      <td>NaN</td>\n",
       "      <td>NaN</td>\n",
       "      <td>NaN</td>\n",
       "      <td>NaN</td>\n",
       "      <td>NaN</td>\n",
       "      <td>NaN</td>\n",
       "      <td>NaN</td>\n",
       "      <td>NaN</td>\n",
       "      <td>NaN</td>\n",
       "      <td>0.026108</td>\n",
       "    </tr>\n",
       "  </tbody>\n",
       "</table>\n",
       "</div>"
      ],
      "text/plain": [
       "   2006 return  2007 return  2008 return  2009 return  2010 return  \\\n",
       "1     0.025782     0.005575     0.114136     0.000872     0.023668   \n",
       "2     0.024943    -0.012726     0.147773    -0.002498     0.028042   \n",
       "3          NaN          NaN     0.172772     0.013448     0.053269   \n",
       "4     0.018892     0.033564     0.098732     0.013328     0.044265   \n",
       "5          NaN          NaN          NaN          NaN          NaN   \n",
       "\n",
       "   2011 return  2012 return  2013 return  2014 return  2015 return  \\\n",
       "1     0.057968     0.024825    -0.022285     0.113997     0.080682   \n",
       "2     0.046466     0.050319     0.022730     0.087130     0.078131   \n",
       "3     0.033452     0.095906     0.025111     0.118834     0.110227   \n",
       "4     0.027810     0.083803     0.036456     0.082808     0.074852   \n",
       "5          NaN          NaN          NaN          NaN          NaN   \n",
       "\n",
       "   2016 return  \n",
       "1     0.013398  \n",
       "2     0.021887  \n",
       "3     0.027661  \n",
       "4     0.034225  \n",
       "5     0.026108  "
      ]
     },
     "execution_count": 82,
     "metadata": {},
     "output_type": "execute_result"
    }
   ],
   "source": [
    "group_df"
   ]
  },
  {
   "cell_type": "code",
   "execution_count": 92,
   "metadata": {
    "collapsed": true
   },
   "outputs": [],
   "source": [
    "res = group_df.mean(axis=1)\n",
    "data = pd.DataFrame({'group': res.index, 'return': group_df['2016 return']})"
   ]
  },
  {
   "cell_type": "code",
   "execution_count": 93,
   "metadata": {
    "collapsed": false
   },
   "outputs": [
    {
     "data": {
      "image/png": "[encoded data removed]",
      "text/plain": [
       "<matplotlib.figure.Figure at 0xba5d550>"
      ]
     },
     "metadata": {},
     "output_type": "display_data"
    }
   ],
   "source": [
    "ax = sns.barplot(x='group', y='return', data=data, palette=\"Blues_d\")\n",
    "# vals = ax.get_yticks()\n",
    "# ax.set_yticklabels(['{:3.2f}%'.format(x*100) for x in vals])"
   ]
  },
  {
   "cell_type": "code",
   "execution_count": 94,
   "metadata": {
    "collapsed": true
   },
   "outputs": [],
   "source": [
    "group_df.to_excel(\"%s/bond_value.xlsx\"%(DATA_DIR))"
   ]
  },
  {
   "cell_type": "markdown",
   "metadata": {},
   "source": [
    "# 尝试某一行业"
   ]
  },
  {
   "cell_type": "code",
   "execution_count": 95,
   "metadata": {
    "collapsed": false
   },
   "outputs": [],
   "source": [
    "ind_df = pd.read_excel(u\"%s/CS家电.xlsx\"%(DATA_DIR))"
   ]
  },
  {
   "cell_type": "code",
   "execution_count": 96,
   "metadata": {
    "collapsed": false
   },
   "outputs": [],
   "source": [
    "ind_df.drop(ind_df.index[-2:], inplace=True)"
   ]
  },
  {
   "cell_type": "code",
   "execution_count": 97,
   "metadata": {
    "collapsed": true
   },
   "outputs": [],
   "source": [
    "ind_df.set_index('code', inplace=True)"
   ]
  },
  {
   "cell_type": "code",
   "execution_count": 98,
   "metadata": {
    "collapsed": true
   },
   "outputs": [],
   "source": [
    "ind_df = get_asset_return(ind_df)"
   ]
  },
  {
   "cell_type": "code",
   "execution_count": 99,
   "metadata": {
    "collapsed": true
   },
   "outputs": [],
   "source": [
    "ind_df = get_factor(ind_df, book_to_price)"
   ]
  },
  {
   "cell_type": "code",
   "execution_count": 100,
   "metadata": {
    "collapsed": true
   },
   "outputs": [],
   "source": [
    "ind_df = get_factor(ind_df, earnings_to_price)"
   ]
  },
  {
   "cell_type": "code",
   "execution_count": 101,
   "metadata": {
    "collapsed": true
   },
   "outputs": [],
   "source": [
    "ind_df = get_factor(ind_df, cashflow_to_price)"
   ]
  },
  {
   "cell_type": "code",
   "execution_count": 102,
   "metadata": {
    "collapsed": true
   },
   "outputs": [],
   "source": [
    "ind_df = get_factor(ind_df, sales_to_enterprise)"
   ]
  },
  {
   "cell_type": "code",
   "execution_count": 122,
   "metadata": {
    "collapsed": true
   },
   "outputs": [],
   "source": [
    "for stock in ind_df.index:\n",
    "    data = w.wsd(stock, 'close', START_DATE, END_DATE)\n",
    "    df = wind2df(data)\n",
    "    df = df.resample('BMS').first()\n",
    "    df['return'] = df.pct_change()\n",
    "    df['avg return'] = df['return'].rolling(window=12).mean()\n",
    "    df = df.resample('BAS').first()\n",
    "    for ind in df.index[1:]:\n",
    "        year = ind.year\n",
    "        ind_df.loc[stock, \"%d momentum\"%(year)] = -df.loc[ind, \"avg return\"]"
   ]
  },
  {
   "cell_type": "code",
   "execution_count": 123,
   "metadata": {
    "collapsed": false
   },
   "outputs": [],
   "source": [
    "ind_df.dropna(inplace=True)"
   ]
  },
  {
   "cell_type": "code",
   "execution_count": 124,
   "metadata": {
    "collapsed": true
   },
   "outputs": [],
   "source": [
    "ranks = get_ranks(ind_df)"
   ]
  },
  {
   "cell_type": "code",
   "execution_count": 125,
   "metadata": {
    "collapsed": false
   },
   "outputs": [],
   "source": [
    "factors = [book_to_price, earnings_to_price, cashflow_to_price, sales_to_enterprise, \"momentum\"]\n",
    "weights = [1, 1, 1, 1, 4]"
   ]
  },
  {
   "cell_type": "code",
   "execution_count": 126,
   "metadata": {
    "collapsed": false
   },
   "outputs": [],
   "source": [
    "group_df = get_group_return(ind_df, factors, weights, years, ranks)"
   ]
  },
  {
   "cell_type": "code",
   "execution_count": 127,
   "metadata": {
    "collapsed": false
   },
   "outputs": [
    {
     "data": {
      "text/html": [
       "<div>\n",
       "<table border=\"1\" class=\"dataframe\">\n",
       "  <thead>\n",
       "    <tr style=\"text-align: right;\">\n",
       "      <th></th>\n",
       "      <th>2006 return</th>\n",
       "      <th>2007 return</th>\n",
       "      <th>2008 return</th>\n",
       "      <th>2009 return</th>\n",
       "      <th>2010 return</th>\n",
       "      <th>2011 return</th>\n",
       "      <th>2012 return</th>\n",
       "      <th>2013 return</th>\n",
       "      <th>2014 return</th>\n",
       "      <th>2015 return</th>\n",
       "      <th>2016 return</th>\n",
       "    </tr>\n",
       "  </thead>\n",
       "  <tbody>\n",
       "    <tr>\n",
       "      <th>1</th>\n",
       "      <td>0.609074</td>\n",
       "      <td>1.018756</td>\n",
       "      <td>-0.622267</td>\n",
       "      <td>1.671185</td>\n",
       "      <td>0.243732</td>\n",
       "      <td>-0.319375</td>\n",
       "      <td>-0.313964</td>\n",
       "      <td>0.258294</td>\n",
       "      <td>0.385109</td>\n",
       "      <td>0.195003</td>\n",
       "      <td>-0.036678</td>\n",
       "    </tr>\n",
       "    <tr>\n",
       "      <th>2</th>\n",
       "      <td>0.082450</td>\n",
       "      <td>1.123733</td>\n",
       "      <td>-0.703987</td>\n",
       "      <td>1.200896</td>\n",
       "      <td>-0.052706</td>\n",
       "      <td>-0.406732</td>\n",
       "      <td>0.190612</td>\n",
       "      <td>0.387421</td>\n",
       "      <td>0.418729</td>\n",
       "      <td>0.363804</td>\n",
       "      <td>0.029208</td>\n",
       "    </tr>\n",
       "    <tr>\n",
       "      <th>3</th>\n",
       "      <td>0.777729</td>\n",
       "      <td>1.374818</td>\n",
       "      <td>-0.443217</td>\n",
       "      <td>1.460151</td>\n",
       "      <td>-0.191410</td>\n",
       "      <td>-0.286405</td>\n",
       "      <td>0.153129</td>\n",
       "      <td>0.220887</td>\n",
       "      <td>0.090856</td>\n",
       "      <td>0.452130</td>\n",
       "      <td>-0.147127</td>\n",
       "    </tr>\n",
       "    <tr>\n",
       "      <th>4</th>\n",
       "      <td>0.024180</td>\n",
       "      <td>1.255304</td>\n",
       "      <td>-0.480770</td>\n",
       "      <td>1.401106</td>\n",
       "      <td>0.298157</td>\n",
       "      <td>-0.520515</td>\n",
       "      <td>-0.060099</td>\n",
       "      <td>0.495962</td>\n",
       "      <td>0.187753</td>\n",
       "      <td>0.278960</td>\n",
       "      <td>0.112974</td>\n",
       "    </tr>\n",
       "    <tr>\n",
       "      <th>5</th>\n",
       "      <td>0.173021</td>\n",
       "      <td>2.025490</td>\n",
       "      <td>-0.645504</td>\n",
       "      <td>1.622898</td>\n",
       "      <td>0.061720</td>\n",
       "      <td>-0.434479</td>\n",
       "      <td>0.062563</td>\n",
       "      <td>0.180400</td>\n",
       "      <td>0.082978</td>\n",
       "      <td>0.271250</td>\n",
       "      <td>-0.072522</td>\n",
       "    </tr>\n",
       "  </tbody>\n",
       "</table>\n",
       "</div>"
      ],
      "text/plain": [
       "   2006 return  2007 return  2008 return  2009 return  2010 return  \\\n",
       "1     0.609074     1.018756    -0.622267     1.671185     0.243732   \n",
       "2     0.082450     1.123733    -0.703987     1.200896    -0.052706   \n",
       "3     0.777729     1.374818    -0.443217     1.460151    -0.191410   \n",
       "4     0.024180     1.255304    -0.480770     1.401106     0.298157   \n",
       "5     0.173021     2.025490    -0.645504     1.622898     0.061720   \n",
       "\n",
       "   2011 return  2012 return  2013 return  2014 return  2015 return  \\\n",
       "1    -0.319375    -0.313964     0.258294     0.385109     0.195003   \n",
       "2    -0.406732     0.190612     0.387421     0.418729     0.363804   \n",
       "3    -0.286405     0.153129     0.220887     0.090856     0.452130   \n",
       "4    -0.520515    -0.060099     0.495962     0.187753     0.278960   \n",
       "5    -0.434479     0.062563     0.180400     0.082978     0.271250   \n",
       "\n",
       "   2016 return  \n",
       "1    -0.036678  \n",
       "2     0.029208  \n",
       "3    -0.147127  \n",
       "4     0.112974  \n",
       "5    -0.072522  "
      ]
     },
     "execution_count": 127,
     "metadata": {},
     "output_type": "execute_result"
    }
   ],
   "source": [
    "group_df"
   ]
  },
  {
   "cell_type": "code",
   "execution_count": 128,
   "metadata": {
    "collapsed": false
   },
   "outputs": [],
   "source": [
    "res = group_df.mean(axis=1)\n",
    "data = pd.DataFrame({'group': res.index, 'return': res.values})"
   ]
  },
  {
   "cell_type": "code",
   "execution_count": 129,
   "metadata": {
    "collapsed": false
   },
   "outputs": [
    {
     "data": {
      "image/png": "[encoded data removed]",
      "text/plain": [
       "<matplotlib.figure.Figure at 0xc16b350>"
      ]
     },
     "metadata": {},
     "output_type": "display_data"
    }
   ],
   "source": [
    "ax = sns.barplot(x='group', y='return', data=data, palette=\"Blues_d\")"
   ]
  },
  {
   "cell_type": "code",
   "execution_count": null,
   "metadata": {
    "collapsed": true
   },
   "outputs": [],
   "source": []
  }
 ],
 "metadata": {
  "anaconda-cloud": {},
  "kernelspec": {
   "display_name": "Python [default]",
   "language": "python",
   "name": "python2"
  },
  "language_info": {
   "codemirror_mode": {
    "name": "ipython",
    "version": 2
   },
   "file_extension": ".py",
   "mimetype": "text/x-python",
   "name": "python",
   "nbconvert_exporter": "python",
   "pygments_lexer": "ipython2",
   "version": "2.7.12"
  }
 },
 "nbformat": 4,
 "nbformat_minor": 1
}
