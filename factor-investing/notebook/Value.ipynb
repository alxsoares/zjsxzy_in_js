{
 "cells": [
  {
   "cell_type": "code",
   "execution_count": 1,
   "metadata": {
    "collapsed": true
   },
   "outputs": [],
   "source": [
    "from WindPy import w\n",
    "import pandas as pd\n",
    "import numpy as np\n",
    "import seaborn as sns\n",
    "import matplotlib.pyplot as plt\n",
    "from WindPy import w\n",
    "%matplotlib inline"
   ]
  },
  {
   "cell_type": "code",
   "execution_count": 2,
   "metadata": {
    "collapsed": true
   },
   "outputs": [],
   "source": [
    "sns.set_style(\"darkgrid\")"
   ]
  },
  {
   "cell_type": "code",
   "execution_count": 3,
   "metadata": {
    "collapsed": false
   },
   "outputs": [
    {
     "name": "stdout",
     "output_type": "stream",
     "text": [
      "Welcome to use Wind Quant API for Python (WindPy)!\n",
      "You can use w.menu to help yourself to create commands(WSD,WSS,WST,WSI,WSQ,...)!\n",
      "\n",
      "COPYRIGHT (C) 2016 WIND HONGHUI INFORMATION & TECHKNOLEWDGE CO., LTD. ALL RIGHTS RESERVED.\n",
      "IN NO CIRCUMSTANCE SHALL WIND BE RESPONSIBLE FOR ANY DAMAGES OR LOSSES CAUSED BY USING WIND QUANT API FOR Python.\n"
     ]
    },
    {
     "data": {
      "text/plain": [
       ".ErrorCode=0\n",
       ".Data=[OK!]"
      ]
     },
     "execution_count": 3,
     "metadata": {},
     "output_type": "execute_result"
    }
   ],
   "source": [
    "w.start()"
   ]
  },
  {
   "cell_type": "code",
   "execution_count": 4,
   "metadata": {
    "collapsed": true
   },
   "outputs": [],
   "source": [
    "DATA_DIR = \"C:/Users/jgtzsx01/Documents/workspace/data/factor-investing/\"\n",
    "STOCK_FILE = \"%s/stock.xlsx\"%(DATA_DIR)\n",
    "BOND_FILE = \"%s/bond.xlsx\"%(DATA_DIR)\n",
    "HK_FILE = \"%s/hk.xlsx\"%(DATA_DIR)\n",
    "START_DATE = \"2005-01-01\"\n",
    "END_DATE = \"2016-12-31\""
   ]
  },
  {
   "cell_type": "code",
   "execution_count": 5,
   "metadata": {
    "collapsed": true
   },
   "outputs": [],
   "source": [
    "stock_df = pd.read_excel(STOCK_FILE)"
   ]
  },
  {
   "cell_type": "code",
   "execution_count": 6,
   "metadata": {
    "collapsed": false
   },
   "outputs": [],
   "source": [
    "stock_df.set_index('code', inplace=True)"
   ]
  },
  {
   "cell_type": "code",
   "execution_count": 7,
   "metadata": {
    "collapsed": false
   },
   "outputs": [
    {
     "data": {
      "text/html": [
       "<div>\n",
       "<table border=\"1\" class=\"dataframe\">\n",
       "  <thead>\n",
       "    <tr style=\"text-align: right;\">\n",
       "      <th></th>\n",
       "      <th>name</th>\n",
       "    </tr>\n",
       "    <tr>\n",
       "      <th>code</th>\n",
       "      <th></th>\n",
       "    </tr>\n",
       "  </thead>\n",
       "  <tbody>\n",
       "    <tr>\n",
       "      <th>CI005001.WI</th>\n",
       "      <td>石油石化</td>\n",
       "    </tr>\n",
       "    <tr>\n",
       "      <th>CI005002.WI</th>\n",
       "      <td>煤炭</td>\n",
       "    </tr>\n",
       "    <tr>\n",
       "      <th>CI005003.WI</th>\n",
       "      <td>有色金属</td>\n",
       "    </tr>\n",
       "    <tr>\n",
       "      <th>CI005004.WI</th>\n",
       "      <td>电力及公用事业</td>\n",
       "    </tr>\n",
       "    <tr>\n",
       "      <th>CI005005.WI</th>\n",
       "      <td>钢铁</td>\n",
       "    </tr>\n",
       "    <tr>\n",
       "      <th>CI005006.WI</th>\n",
       "      <td>基础化工</td>\n",
       "    </tr>\n",
       "    <tr>\n",
       "      <th>CI005007.WI</th>\n",
       "      <td>建筑</td>\n",
       "    </tr>\n",
       "    <tr>\n",
       "      <th>CI005008.WI</th>\n",
       "      <td>建材</td>\n",
       "    </tr>\n",
       "    <tr>\n",
       "      <th>CI005009.WI</th>\n",
       "      <td>轻工制造</td>\n",
       "    </tr>\n",
       "    <tr>\n",
       "      <th>CI005010.WI</th>\n",
       "      <td>机械</td>\n",
       "    </tr>\n",
       "    <tr>\n",
       "      <th>CI005011.WI</th>\n",
       "      <td>电力设备</td>\n",
       "    </tr>\n",
       "    <tr>\n",
       "      <th>CI005012.WI</th>\n",
       "      <td>国防军工</td>\n",
       "    </tr>\n",
       "    <tr>\n",
       "      <th>CI005013.WI</th>\n",
       "      <td>汽车</td>\n",
       "    </tr>\n",
       "    <tr>\n",
       "      <th>CI005014.WI</th>\n",
       "      <td>商贸零售</td>\n",
       "    </tr>\n",
       "    <tr>\n",
       "      <th>CI005015.WI</th>\n",
       "      <td>餐饮旅游</td>\n",
       "    </tr>\n",
       "    <tr>\n",
       "      <th>CI005016.WI</th>\n",
       "      <td>家电</td>\n",
       "    </tr>\n",
       "    <tr>\n",
       "      <th>CI005017.WI</th>\n",
       "      <td>纺织服装</td>\n",
       "    </tr>\n",
       "    <tr>\n",
       "      <th>CI005018.WI</th>\n",
       "      <td>医药</td>\n",
       "    </tr>\n",
       "    <tr>\n",
       "      <th>CI005019.WI</th>\n",
       "      <td>食品饮料</td>\n",
       "    </tr>\n",
       "    <tr>\n",
       "      <th>CI005020.WI</th>\n",
       "      <td>农林牧渔</td>\n",
       "    </tr>\n",
       "    <tr>\n",
       "      <th>CI005021.WI</th>\n",
       "      <td>银行</td>\n",
       "    </tr>\n",
       "    <tr>\n",
       "      <th>CI005022.WI</th>\n",
       "      <td>非银行金融</td>\n",
       "    </tr>\n",
       "    <tr>\n",
       "      <th>CI005023.WI</th>\n",
       "      <td>房地产</td>\n",
       "    </tr>\n",
       "    <tr>\n",
       "      <th>CI005024.WI</th>\n",
       "      <td>交通运输</td>\n",
       "    </tr>\n",
       "    <tr>\n",
       "      <th>CI005025.WI</th>\n",
       "      <td>电子元器件</td>\n",
       "    </tr>\n",
       "    <tr>\n",
       "      <th>CI005026.WI</th>\n",
       "      <td>通信</td>\n",
       "    </tr>\n",
       "    <tr>\n",
       "      <th>CI005027.WI</th>\n",
       "      <td>计算机</td>\n",
       "    </tr>\n",
       "    <tr>\n",
       "      <th>CI005028.WI</th>\n",
       "      <td>传媒</td>\n",
       "    </tr>\n",
       "    <tr>\n",
       "      <th>CI005029.WI</th>\n",
       "      <td>综合</td>\n",
       "    </tr>\n",
       "  </tbody>\n",
       "</table>\n",
       "</div>"
      ],
      "text/plain": [
       "                name\n",
       "code                \n",
       "CI005001.WI     石油石化\n",
       "CI005002.WI       煤炭\n",
       "CI005003.WI     有色金属\n",
       "CI005004.WI  电力及公用事业\n",
       "CI005005.WI       钢铁\n",
       "CI005006.WI     基础化工\n",
       "CI005007.WI       建筑\n",
       "CI005008.WI       建材\n",
       "CI005009.WI     轻工制造\n",
       "CI005010.WI       机械\n",
       "CI005011.WI     电力设备\n",
       "CI005012.WI     国防军工\n",
       "CI005013.WI       汽车\n",
       "CI005014.WI     商贸零售\n",
       "CI005015.WI     餐饮旅游\n",
       "CI005016.WI       家电\n",
       "CI005017.WI     纺织服装\n",
       "CI005018.WI       医药\n",
       "CI005019.WI     食品饮料\n",
       "CI005020.WI     农林牧渔\n",
       "CI005021.WI       银行\n",
       "CI005022.WI    非银行金融\n",
       "CI005023.WI      房地产\n",
       "CI005024.WI     交通运输\n",
       "CI005025.WI    电子元器件\n",
       "CI005026.WI       通信\n",
       "CI005027.WI      计算机\n",
       "CI005028.WI       传媒\n",
       "CI005029.WI       综合"
      ]
     },
     "execution_count": 7,
     "metadata": {},
     "output_type": "execute_result"
    }
   ],
   "source": [
    "stock_df"
   ]
  },
  {
   "cell_type": "code",
   "execution_count": 8,
   "metadata": {
    "collapsed": true
   },
   "outputs": [],
   "source": [
    "bond_df = pd.read_excel(BOND_FILE)"
   ]
  },
  {
   "cell_type": "code",
   "execution_count": 9,
   "metadata": {
    "collapsed": false
   },
   "outputs": [],
   "source": [
    "bond_df.set_index('code', inplace=True)"
   ]
  },
  {
   "cell_type": "code",
   "execution_count": 10,
   "metadata": {
    "collapsed": false
   },
   "outputs": [
    {
     "data": {
      "text/html": [
       "<div>\n",
       "<table border=\"1\" class=\"dataframe\">\n",
       "  <thead>\n",
       "    <tr style=\"text-align: right;\">\n",
       "      <th></th>\n",
       "      <th>name</th>\n",
       "    </tr>\n",
       "    <tr>\n",
       "      <th>code</th>\n",
       "      <th></th>\n",
       "    </tr>\n",
       "  </thead>\n",
       "  <tbody>\n",
       "    <tr>\n",
       "      <th>038.CS</th>\n",
       "      <td>中债国债</td>\n",
       "    </tr>\n",
       "    <tr>\n",
       "      <th>042.CS</th>\n",
       "      <td>中债金融债券</td>\n",
       "    </tr>\n",
       "    <tr>\n",
       "      <th>078.CS</th>\n",
       "      <td>中债企业债AAA</td>\n",
       "    </tr>\n",
       "    <tr>\n",
       "      <th>079.CS</th>\n",
       "      <td>中债企业债AA+</td>\n",
       "    </tr>\n",
       "    <tr>\n",
       "      <th>080.CS</th>\n",
       "      <td>中债企业债AA</td>\n",
       "    </tr>\n",
       "    <tr>\n",
       "      <th>081.CS</th>\n",
       "      <td>中债企业债AA-</td>\n",
       "    </tr>\n",
       "    <tr>\n",
       "      <th>053.CS</th>\n",
       "      <td>中债短融</td>\n",
       "    </tr>\n",
       "    <tr>\n",
       "      <th>H11025.CSI</th>\n",
       "      <td>货币基金</td>\n",
       "    </tr>\n",
       "    <tr>\n",
       "      <th>098.CS</th>\n",
       "      <td>中债银行间资产支持证券</td>\n",
       "    </tr>\n",
       "  </tbody>\n",
       "</table>\n",
       "</div>"
      ],
      "text/plain": [
       "                   name\n",
       "code                   \n",
       "038.CS             中债国债\n",
       "042.CS           中债金融债券\n",
       "078.CS         中债企业债AAA\n",
       "079.CS         中债企业债AA+\n",
       "080.CS          中债企业债AA\n",
       "081.CS         中债企业债AA-\n",
       "053.CS             中债短融\n",
       "H11025.CSI         货币基金\n",
       "098.CS      中债银行间资产支持证券"
      ]
     },
     "execution_count": 10,
     "metadata": {},
     "output_type": "execute_result"
    }
   ],
   "source": [
    "bond_df"
   ]
  },
  {
   "cell_type": "code",
   "execution_count": 11,
   "metadata": {
    "collapsed": true
   },
   "outputs": [],
   "source": [
    "hk_df = pd.read_excel(HK_FILE)"
   ]
  },
  {
   "cell_type": "code",
   "execution_count": 12,
   "metadata": {
    "collapsed": false
   },
   "outputs": [],
   "source": [
    "hk_df.set_index('code', inplace=True)"
   ]
  },
  {
   "cell_type": "code",
   "execution_count": 13,
   "metadata": {
    "collapsed": false
   },
   "outputs": [
    {
     "data": {
      "text/html": [
       "<div>\n",
       "<table border=\"1\" class=\"dataframe\">\n",
       "  <thead>\n",
       "    <tr style=\"text-align: right;\">\n",
       "      <th></th>\n",
       "      <th>name</th>\n",
       "    </tr>\n",
       "    <tr>\n",
       "      <th>code</th>\n",
       "      <th></th>\n",
       "    </tr>\n",
       "  </thead>\n",
       "  <tbody>\n",
       "    <tr>\n",
       "      <th>HSESI.HI</th>\n",
       "      <td>恒生能源业</td>\n",
       "    </tr>\n",
       "    <tr>\n",
       "      <th>HSCIMT.HI</th>\n",
       "      <td>恒生原材料业</td>\n",
       "    </tr>\n",
       "    <tr>\n",
       "      <th>HSGSI.HI</th>\n",
       "      <td>恒生工业</td>\n",
       "    </tr>\n",
       "    <tr>\n",
       "      <th>HSCISV.HI</th>\n",
       "      <td>恒生消费者服务业</td>\n",
       "    </tr>\n",
       "    <tr>\n",
       "      <th>HSTSI.HI</th>\n",
       "      <td>恒生电讯业</td>\n",
       "    </tr>\n",
       "    <tr>\n",
       "      <th>HSUSI.HI</th>\n",
       "      <td>恒生公用事业</td>\n",
       "    </tr>\n",
       "    <tr>\n",
       "      <th>HSFSI.HI</th>\n",
       "      <td>恒生金融业</td>\n",
       "    </tr>\n",
       "    <tr>\n",
       "      <th>HSPCSI.HI</th>\n",
       "      <td>恒生地产建筑业</td>\n",
       "    </tr>\n",
       "    <tr>\n",
       "      <th>HSITSI.HI</th>\n",
       "      <td>恒生资讯科技业</td>\n",
       "    </tr>\n",
       "    <tr>\n",
       "      <th>HSCSI.HI</th>\n",
       "      <td>恒生综合业</td>\n",
       "    </tr>\n",
       "    <tr>\n",
       "      <th>HSCGSI.HI</th>\n",
       "      <td>恒生消费品制造业</td>\n",
       "    </tr>\n",
       "  </tbody>\n",
       "</table>\n",
       "</div>"
      ],
      "text/plain": [
       "               name\n",
       "code               \n",
       "HSESI.HI      恒生能源业\n",
       "HSCIMT.HI    恒生原材料业\n",
       "HSGSI.HI       恒生工业\n",
       "HSCISV.HI  恒生消费者服务业\n",
       "HSTSI.HI      恒生电讯业\n",
       "HSUSI.HI     恒生公用事业\n",
       "HSFSI.HI      恒生金融业\n",
       "HSPCSI.HI   恒生地产建筑业\n",
       "HSITSI.HI   恒生资讯科技业\n",
       "HSCSI.HI      恒生综合业\n",
       "HSCGSI.HI  恒生消费品制造业"
      ]
     },
     "execution_count": 13,
     "metadata": {},
     "output_type": "execute_result"
    }
   ],
   "source": [
    "hk_df"
   ]
  },
  {
   "cell_type": "code",
   "execution_count": 14,
   "metadata": {
    "collapsed": true
   },
   "outputs": [],
   "source": [
    "def wind2df(raw_data):\n",
    "    dic = {}\n",
    "    for data, field in zip(raw_data.Data, raw_data.Fields):\n",
    "        dic[str(field.lower())] = data\n",
    "    return pd.DataFrame(dic, index=raw_data.Times)"
   ]
  },
  {
   "cell_type": "code",
   "execution_count": 15,
   "metadata": {
    "collapsed": false
   },
   "outputs": [],
   "source": [
    "def get_ranks(asset_df, groups=5):\n",
    "    length = asset_df.shape[0]\n",
    "    leng_group = length / groups\n",
    "    if length % groups > groups / 2:\n",
    "        leng_group += 1\n",
    "    ranks = []\n",
    "    for i in range(1, groups):\n",
    "        ranks += [i]*leng_group\n",
    "    ranks += [groups]*(length-len(ranks))\n",
    "    return ranks"
   ]
  },
  {
   "cell_type": "code",
   "execution_count": 16,
   "metadata": {
    "collapsed": false
   },
   "outputs": [],
   "source": [
    "def get_asset_return(asset_df, frequency=\"y\"):\n",
    "    res_df = asset_df.copy()\n",
    "    for asset in asset_df.index:\n",
    "        data = w.wsd(asset, 'close', START_DATE, END_DATE)\n",
    "        df = wind2df(data)\n",
    "        if frequency == \"y\":\n",
    "            df = df.resample('A').last()\n",
    "        elif frequency == \"m\":\n",
    "            df = df.resample('M').last()\n",
    "        df['return'] = df['close'].pct_change()\n",
    "        for ind in df.index[1:]:\n",
    "            if frequency == \"y\":\n",
    "                year = ind.year\n",
    "                res_df.loc[asset, \"%d return\"%(year)] = df.loc[ind, 'return']\n",
    "            elif frequency == \"m\":\n",
    "                year, month = ind.year, ind.month\n",
    "                res_df.loc[asset, \"%d-%d return\"%(year, month)] = df.loc[ind, 'return']\n",
    "    return res_df"
   ]
  },
  {
   "cell_type": "code",
   "execution_count": 17,
   "metadata": {
    "collapsed": true
   },
   "outputs": [],
   "source": [
    "def get_factor(asset_df, factor, frequency='y', order=False, relative=True):\n",
    "    \"\"\"\n",
    "    order为False数值越小得分越高，反之越大得分越高\n",
    "    \"\"\"\n",
    "    res_df = asset_df.copy()\n",
    "    for asset in asset_df.index:\n",
    "        data = w.wsd(asset, factor, START_DATE, END_DATE)\n",
    "        df = wind2df(data)\n",
    "        if frequency == \"y\":\n",
    "            df = df.resample('A').last()\n",
    "        elif frequency == \"m\":\n",
    "            df = df.resample('M').last()\n",
    "            \n",
    "        for i, ind in enumerate(df.index[:-1]):\n",
    "            next_ind = df.index[i+1]\n",
    "            if frequency == \"y\":\n",
    "                year = next_ind.year\n",
    "                col_name = \"%d %s\"%(year, factor)\n",
    "            elif frequency == \"m\":\n",
    "                year, month = next_ind.year, next_ind.month\n",
    "                col_name = \"%d-%d %s\"%(year, month, factor)\n",
    "\n",
    "            if relative:\n",
    "                factor_value = df.loc[ind, factor] # 与其他asset相比\n",
    "            else:\n",
    "                factor_value = df[df.index <= ind][factor].rank(pct=True).iloc[-1] # 历史分位，与自己过去相比\n",
    "                \n",
    "            if not order:\n",
    "                res_df.loc[asset, col_name] = factor_value\n",
    "            else:\n",
    "                res_df.loc[asset, col_name] = factor_value * -1.0\n",
    "    return res_df"
   ]
  },
  {
   "cell_type": "code",
   "execution_count": 18,
   "metadata": {
    "collapsed": true
   },
   "outputs": [],
   "source": [
    "def get_group_return(asset_df, factors, weights, ranks):\n",
    "    assert(len(factors) == len(weights))\n",
    "    weights = np.array(weights) * 1.0 / sum(weights)\n",
    "    ranks = np.array(ranks)\n",
    "    groups = max(ranks)\n",
    "    group_df = pd.DataFrame(index=range(1, groups+1))\n",
    "    freqs = set([f.split(' ')[0] for f in stock_df.columns if f.find(' ') != -1])\n",
    "    for freq in freqs:\n",
    "        features = [\"%s %s\"%(freq, f) for f in factors]\n",
    "        rcol = \"%s return\"%(freq)\n",
    "        features.append(rcol)\n",
    "        df = asset_df[features]\n",
    "        for f, w in zip(factors, weights):\n",
    "            df = df.sort_values(by=\"%s %s\"%(freq, f), ascending=False) # 值越小越有价值\n",
    "            df[\"%s rank\"%(f)] = ranks * w\n",
    "            \n",
    "        features = [\"%s rank\"%(f) for f in factors]\n",
    "        df[\"sum rank\"] = df[features].sum(axis=1)\n",
    "        df = df.sort_values(by=\"sum rank\", ascending=True)\n",
    "        df[\"rank\"] = ranks\n",
    "        \n",
    "        group_df[rcol] = df.groupby('rank').mean()[rcol]\n",
    "    return group_df"
   ]
  },
  {
   "cell_type": "code",
   "execution_count": null,
   "metadata": {
    "collapsed": true
   },
   "outputs": [],
   "source": []
  },
  {
   "cell_type": "markdown",
   "metadata": {},
   "source": [
    "# Verification"
   ]
  },
  {
   "cell_type": "code",
   "execution_count": 357,
   "metadata": {
    "collapsed": true
   },
   "outputs": [],
   "source": [
    "code = \"300104.SZ\"\n",
    "freq = 'BM'\n",
    "factor = \"pe_ttm\"\n",
    "look_back = 1"
   ]
  },
  {
   "cell_type": "code",
   "execution_count": 358,
   "metadata": {
    "collapsed": true
   },
   "outputs": [],
   "source": [
    "data = w.wsd(code, 'close', START_DATE, END_DATE)\n",
    "price = wind2df(data)\n",
    "price = price.resample(freq).last()\n",
    "price['return'] = price['close'].pct_change()"
   ]
  },
  {
   "cell_type": "code",
   "execution_count": 359,
   "metadata": {
    "collapsed": true
   },
   "outputs": [],
   "source": [
    "data = w.wsd(code, factor, START_DATE, END_DATE)\n",
    "pe_df = wind2df(data)\n",
    "pe_df = pe_df.resample(freq).last()\n",
    "price[factor] = pe_df[factor]"
   ]
  },
  {
   "cell_type": "code",
   "execution_count": 360,
   "metadata": {
    "collapsed": false
   },
   "outputs": [],
   "source": [
    "price[\"%s shift\"%(factor)] = price[factor].shift(look_back) # 用pe预测下期收益率"
   ]
  },
  {
   "cell_type": "markdown",
   "metadata": {},
   "source": [
    "### 当前value在历史value中的percentile"
   ]
  },
  {
   "cell_type": "code",
   "execution_count": 361,
   "metadata": {
    "collapsed": false
   },
   "outputs": [],
   "source": [
    "price['percentile'] = np.nan\n",
    "for index in price.index:\n",
    "    price.ix[index, 'percentile'] = price[price.index <= index]['%s shift'%(factor)].rank(pct=True).iloc[-1]"
   ]
  },
  {
   "cell_type": "markdown",
   "metadata": {},
   "source": [
    "### 当前value在最近x个月value中的percentile"
   ]
  },
  {
   "cell_type": "code",
   "execution_count": 362,
   "metadata": {
    "collapsed": true
   },
   "outputs": [],
   "source": [
    "def rank_percentile(array):\n",
    "    s = pd.Series(array)\n",
    "    s = s.rank(pct=True)\n",
    "    return s.iloc[-1]"
   ]
  },
  {
   "cell_type": "code",
   "execution_count": 363,
   "metadata": {
    "collapsed": false
   },
   "outputs": [],
   "source": [
    "price[\"%s percentile\"%(factor)] = price[\"%s shift\"%(factor)].rolling(window=24).apply(rank_percentile)"
   ]
  },
  {
   "cell_type": "code",
   "execution_count": 364,
   "metadata": {
    "collapsed": true
   },
   "outputs": [],
   "source": [
    "df = price[price.index >= \"2010-01-01\"]"
   ]
  },
  {
   "cell_type": "code",
   "execution_count": 365,
   "metadata": {
    "collapsed": false
   },
   "outputs": [
    {
     "data": {
      "image/png": "[encoded data removed]",
      "text/plain": [
       "<matplotlib.figure.Figure at 0x21ada030>"
      ]
     },
     "metadata": {},
     "output_type": "display_data"
    }
   ],
   "source": [
    "ax = sns.regplot(x=\"percentile\", y='return', data=df)"
   ]
  },
  {
   "cell_type": "code",
   "execution_count": 366,
   "metadata": {
    "collapsed": false
   },
   "outputs": [
    {
     "data": {
      "image/png": "[encoded data removed]",
      "text/plain": [
       "<matplotlib.figure.Figure at 0x20c92970>"
      ]
     },
     "metadata": {},
     "output_type": "display_data"
    }
   ],
   "source": [
    "ax = sns.regplot(x=\"%s percentile\"%(factor), y='return', data=df)"
   ]
  },
  {
   "cell_type": "code",
   "execution_count": null,
   "metadata": {
    "collapsed": true
   },
   "outputs": [],
   "source": []
  },
  {
   "cell_type": "markdown",
   "metadata": {},
   "source": [
    "# 添加各指数每年的收益率"
   ]
  },
  {
   "cell_type": "code",
   "execution_count": 369,
   "metadata": {
    "collapsed": false
   },
   "outputs": [],
   "source": [
    "stock_df = get_asset_return(stock_df, 'm')"
   ]
  },
  {
   "cell_type": "code",
   "execution_count": 370,
   "metadata": {
    "collapsed": false
   },
   "outputs": [
    {
     "data": {
      "text/html": [
       "<div>\n",
       "<table border=\"1\" class=\"dataframe\">\n",
       "  <thead>\n",
       "    <tr style=\"text-align: right;\">\n",
       "      <th></th>\n",
       "      <th>name</th>\n",
       "      <th>2005-2 return</th>\n",
       "      <th>2005-3 return</th>\n",
       "      <th>2005-4 return</th>\n",
       "      <th>2005-5 return</th>\n",
       "      <th>2005-6 return</th>\n",
       "      <th>2005-7 return</th>\n",
       "      <th>2005-8 return</th>\n",
       "      <th>2005-9 return</th>\n",
       "      <th>2005-10 return</th>\n",
       "      <th>...</th>\n",
       "      <th>2016-3 return</th>\n",
       "      <th>2016-4 return</th>\n",
       "      <th>2016-5 return</th>\n",
       "      <th>2016-6 return</th>\n",
       "      <th>2016-7 return</th>\n",
       "      <th>2016-8 return</th>\n",
       "      <th>2016-9 return</th>\n",
       "      <th>2016-10 return</th>\n",
       "      <th>2016-11 return</th>\n",
       "      <th>2016-12 return</th>\n",
       "    </tr>\n",
       "    <tr>\n",
       "      <th>code</th>\n",
       "      <th></th>\n",
       "      <th></th>\n",
       "      <th></th>\n",
       "      <th></th>\n",
       "      <th></th>\n",
       "      <th></th>\n",
       "      <th></th>\n",
       "      <th></th>\n",
       "      <th></th>\n",
       "      <th></th>\n",
       "      <th></th>\n",
       "      <th></th>\n",
       "      <th></th>\n",
       "      <th></th>\n",
       "      <th></th>\n",
       "      <th></th>\n",
       "      <th></th>\n",
       "      <th></th>\n",
       "      <th></th>\n",
       "      <th></th>\n",
       "      <th></th>\n",
       "    </tr>\n",
       "  </thead>\n",
       "  <tbody>\n",
       "    <tr>\n",
       "      <th>CI005001.WI</th>\n",
       "      <td>石油石化</td>\n",
       "      <td>0.119650</td>\n",
       "      <td>-0.082533</td>\n",
       "      <td>-0.019008</td>\n",
       "      <td>-0.107732</td>\n",
       "      <td>0.021315</td>\n",
       "      <td>0.031912</td>\n",
       "      <td>0.117113</td>\n",
       "      <td>-0.008703</td>\n",
       "      <td>-0.063099</td>\n",
       "      <td>...</td>\n",
       "      <td>0.118403</td>\n",
       "      <td>0.008103</td>\n",
       "      <td>-0.034639</td>\n",
       "      <td>0.002035</td>\n",
       "      <td>0.026168</td>\n",
       "      <td>0.039641</td>\n",
       "      <td>-0.012184</td>\n",
       "      <td>0.027873</td>\n",
       "      <td>0.045451</td>\n",
       "      <td>0.037266</td>\n",
       "    </tr>\n",
       "    <tr>\n",
       "      <th>CI005002.WI</th>\n",
       "      <td>煤炭</td>\n",
       "      <td>0.130761</td>\n",
       "      <td>-0.107633</td>\n",
       "      <td>0.015134</td>\n",
       "      <td>-0.132142</td>\n",
       "      <td>-0.075732</td>\n",
       "      <td>-0.041931</td>\n",
       "      <td>0.015111</td>\n",
       "      <td>0.043744</td>\n",
       "      <td>-0.116103</td>\n",
       "      <td>...</td>\n",
       "      <td>0.033785</td>\n",
       "      <td>0.069521</td>\n",
       "      <td>-0.105413</td>\n",
       "      <td>0.030836</td>\n",
       "      <td>0.040685</td>\n",
       "      <td>0.053560</td>\n",
       "      <td>0.004254</td>\n",
       "      <td>0.085985</td>\n",
       "      <td>-0.007452</td>\n",
       "      <td>-0.065356</td>\n",
       "    </tr>\n",
       "    <tr>\n",
       "      <th>CI005003.WI</th>\n",
       "      <td>有色金属</td>\n",
       "      <td>0.141099</td>\n",
       "      <td>-0.111822</td>\n",
       "      <td>-0.017263</td>\n",
       "      <td>-0.099106</td>\n",
       "      <td>0.005148</td>\n",
       "      <td>-0.042460</td>\n",
       "      <td>0.106784</td>\n",
       "      <td>0.064712</td>\n",
       "      <td>-0.075181</td>\n",
       "      <td>...</td>\n",
       "      <td>0.159006</td>\n",
       "      <td>0.005368</td>\n",
       "      <td>0.001784</td>\n",
       "      <td>0.055527</td>\n",
       "      <td>-0.006229</td>\n",
       "      <td>0.006572</td>\n",
       "      <td>-0.049989</td>\n",
       "      <td>0.052947</td>\n",
       "      <td>0.045375</td>\n",
       "      <td>-0.069392</td>\n",
       "    </tr>\n",
       "    <tr>\n",
       "      <th>CI005004.WI</th>\n",
       "      <td>电力及公用事业</td>\n",
       "      <td>0.078857</td>\n",
       "      <td>-0.088172</td>\n",
       "      <td>-0.009859</td>\n",
       "      <td>-0.063934</td>\n",
       "      <td>0.051293</td>\n",
       "      <td>-0.002562</td>\n",
       "      <td>0.025017</td>\n",
       "      <td>-0.009448</td>\n",
       "      <td>-0.071457</td>\n",
       "      <td>...</td>\n",
       "      <td>0.130250</td>\n",
       "      <td>-0.025848</td>\n",
       "      <td>-0.015604</td>\n",
       "      <td>0.015744</td>\n",
       "      <td>0.030326</td>\n",
       "      <td>0.054272</td>\n",
       "      <td>-0.017153</td>\n",
       "      <td>0.026628</td>\n",
       "      <td>0.025408</td>\n",
       "      <td>-0.047794</td>\n",
       "    </tr>\n",
       "    <tr>\n",
       "      <th>CI005005.WI</th>\n",
       "      <td>钢铁</td>\n",
       "      <td>0.074207</td>\n",
       "      <td>-0.097204</td>\n",
       "      <td>-0.101365</td>\n",
       "      <td>-0.048186</td>\n",
       "      <td>0.030876</td>\n",
       "      <td>0.013474</td>\n",
       "      <td>-0.014439</td>\n",
       "      <td>-0.031527</td>\n",
       "      <td>-0.052417</td>\n",
       "      <td>...</td>\n",
       "      <td>0.092624</td>\n",
       "      <td>0.013319</td>\n",
       "      <td>-0.044245</td>\n",
       "      <td>-0.002995</td>\n",
       "      <td>-0.001621</td>\n",
       "      <td>0.084700</td>\n",
       "      <td>-0.008191</td>\n",
       "      <td>0.058812</td>\n",
       "      <td>0.064904</td>\n",
       "      <td>-0.022715</td>\n",
       "    </tr>\n",
       "    <tr>\n",
       "      <th>CI005006.WI</th>\n",
       "      <td>基础化工</td>\n",
       "      <td>0.107023</td>\n",
       "      <td>-0.068936</td>\n",
       "      <td>-0.004672</td>\n",
       "      <td>-0.110753</td>\n",
       "      <td>0.006115</td>\n",
       "      <td>-0.053495</td>\n",
       "      <td>0.108957</td>\n",
       "      <td>0.022842</td>\n",
       "      <td>-0.045237</td>\n",
       "      <td>...</td>\n",
       "      <td>0.196678</td>\n",
       "      <td>-0.007828</td>\n",
       "      <td>-0.021591</td>\n",
       "      <td>0.067368</td>\n",
       "      <td>0.012429</td>\n",
       "      <td>0.044019</td>\n",
       "      <td>-0.006564</td>\n",
       "      <td>0.031222</td>\n",
       "      <td>0.022393</td>\n",
       "      <td>-0.022381</td>\n",
       "    </tr>\n",
       "    <tr>\n",
       "      <th>CI005007.WI</th>\n",
       "      <td>建筑</td>\n",
       "      <td>0.114503</td>\n",
       "      <td>-0.146377</td>\n",
       "      <td>-0.062489</td>\n",
       "      <td>-0.037497</td>\n",
       "      <td>0.007579</td>\n",
       "      <td>-0.104863</td>\n",
       "      <td>0.151029</td>\n",
       "      <td>0.017761</td>\n",
       "      <td>-0.056612</td>\n",
       "      <td>...</td>\n",
       "      <td>0.173414</td>\n",
       "      <td>-0.035268</td>\n",
       "      <td>-0.034536</td>\n",
       "      <td>0.012411</td>\n",
       "      <td>0.018386</td>\n",
       "      <td>0.101992</td>\n",
       "      <td>-0.022918</td>\n",
       "      <td>0.084745</td>\n",
       "      <td>0.142655</td>\n",
       "      <td>-0.082625</td>\n",
       "    </tr>\n",
       "    <tr>\n",
       "      <th>CI005008.WI</th>\n",
       "      <td>建材</td>\n",
       "      <td>0.099195</td>\n",
       "      <td>-0.138937</td>\n",
       "      <td>-0.106926</td>\n",
       "      <td>-0.032051</td>\n",
       "      <td>-0.007706</td>\n",
       "      <td>-0.062991</td>\n",
       "      <td>0.148838</td>\n",
       "      <td>0.039524</td>\n",
       "      <td>-0.024497</td>\n",
       "      <td>...</td>\n",
       "      <td>0.193442</td>\n",
       "      <td>-0.009168</td>\n",
       "      <td>-0.035084</td>\n",
       "      <td>0.038567</td>\n",
       "      <td>0.020345</td>\n",
       "      <td>0.064250</td>\n",
       "      <td>0.009116</td>\n",
       "      <td>0.035661</td>\n",
       "      <td>0.022783</td>\n",
       "      <td>-0.036397</td>\n",
       "    </tr>\n",
       "    <tr>\n",
       "      <th>CI005009.WI</th>\n",
       "      <td>轻工制造</td>\n",
       "      <td>0.067891</td>\n",
       "      <td>-0.117231</td>\n",
       "      <td>-0.039307</td>\n",
       "      <td>-0.036816</td>\n",
       "      <td>0.000464</td>\n",
       "      <td>-0.028363</td>\n",
       "      <td>0.040143</td>\n",
       "      <td>0.002194</td>\n",
       "      <td>-0.090822</td>\n",
       "      <td>...</td>\n",
       "      <td>0.187101</td>\n",
       "      <td>-0.012159</td>\n",
       "      <td>-0.026559</td>\n",
       "      <td>0.039962</td>\n",
       "      <td>0.018280</td>\n",
       "      <td>0.043118</td>\n",
       "      <td>0.005232</td>\n",
       "      <td>0.028179</td>\n",
       "      <td>0.020264</td>\n",
       "      <td>-0.037901</td>\n",
       "    </tr>\n",
       "    <tr>\n",
       "      <th>CI005010.WI</th>\n",
       "      <td>机械</td>\n",
       "      <td>0.119321</td>\n",
       "      <td>-0.099243</td>\n",
       "      <td>-0.022792</td>\n",
       "      <td>-0.088559</td>\n",
       "      <td>-0.068155</td>\n",
       "      <td>-0.043175</td>\n",
       "      <td>0.126911</td>\n",
       "      <td>0.024313</td>\n",
       "      <td>-0.069056</td>\n",
       "      <td>...</td>\n",
       "      <td>0.206245</td>\n",
       "      <td>-0.026933</td>\n",
       "      <td>0.000981</td>\n",
       "      <td>0.060404</td>\n",
       "      <td>-0.029939</td>\n",
       "      <td>0.033425</td>\n",
       "      <td>-0.006364</td>\n",
       "      <td>0.046074</td>\n",
       "      <td>0.053585</td>\n",
       "      <td>-0.059382</td>\n",
       "    </tr>\n",
       "    <tr>\n",
       "      <th>CI005011.WI</th>\n",
       "      <td>电力设备</td>\n",
       "      <td>0.133265</td>\n",
       "      <td>-0.153834</td>\n",
       "      <td>-0.082248</td>\n",
       "      <td>-0.049392</td>\n",
       "      <td>0.047410</td>\n",
       "      <td>-0.070132</td>\n",
       "      <td>0.147125</td>\n",
       "      <td>0.094688</td>\n",
       "      <td>0.006318</td>\n",
       "      <td>...</td>\n",
       "      <td>0.199532</td>\n",
       "      <td>-0.014947</td>\n",
       "      <td>-0.030396</td>\n",
       "      <td>0.076240</td>\n",
       "      <td>-0.023097</td>\n",
       "      <td>0.045705</td>\n",
       "      <td>-0.028022</td>\n",
       "      <td>0.021430</td>\n",
       "      <td>0.026725</td>\n",
       "      <td>-0.037385</td>\n",
       "    </tr>\n",
       "    <tr>\n",
       "      <th>CI005012.WI</th>\n",
       "      <td>国防军工</td>\n",
       "      <td>0.129092</td>\n",
       "      <td>-0.067227</td>\n",
       "      <td>-0.009412</td>\n",
       "      <td>-0.069982</td>\n",
       "      <td>0.004560</td>\n",
       "      <td>0.057317</td>\n",
       "      <td>0.102051</td>\n",
       "      <td>0.133876</td>\n",
       "      <td>0.015912</td>\n",
       "      <td>...</td>\n",
       "      <td>0.187903</td>\n",
       "      <td>-0.063872</td>\n",
       "      <td>-0.012418</td>\n",
       "      <td>0.104622</td>\n",
       "      <td>-0.013617</td>\n",
       "      <td>0.038542</td>\n",
       "      <td>-0.064967</td>\n",
       "      <td>0.029177</td>\n",
       "      <td>0.011682</td>\n",
       "      <td>-0.041833</td>\n",
       "    </tr>\n",
       "    <tr>\n",
       "      <th>CI005013.WI</th>\n",
       "      <td>汽车</td>\n",
       "      <td>0.115485</td>\n",
       "      <td>-0.143395</td>\n",
       "      <td>-0.049585</td>\n",
       "      <td>-0.022426</td>\n",
       "      <td>-0.006996</td>\n",
       "      <td>-0.043898</td>\n",
       "      <td>0.080501</td>\n",
       "      <td>0.016409</td>\n",
       "      <td>-0.107975</td>\n",
       "      <td>...</td>\n",
       "      <td>0.191089</td>\n",
       "      <td>-0.000059</td>\n",
       "      <td>-0.014638</td>\n",
       "      <td>0.048836</td>\n",
       "      <td>0.012499</td>\n",
       "      <td>0.011302</td>\n",
       "      <td>-0.000035</td>\n",
       "      <td>0.034290</td>\n",
       "      <td>0.027746</td>\n",
       "      <td>-0.045589</td>\n",
       "    </tr>\n",
       "    <tr>\n",
       "      <th>CI005014.WI</th>\n",
       "      <td>商贸零售</td>\n",
       "      <td>0.087721</td>\n",
       "      <td>-0.102003</td>\n",
       "      <td>-0.028583</td>\n",
       "      <td>-0.046876</td>\n",
       "      <td>0.025520</td>\n",
       "      <td>-0.023240</td>\n",
       "      <td>0.089698</td>\n",
       "      <td>0.032211</td>\n",
       "      <td>-0.056795</td>\n",
       "      <td>...</td>\n",
       "      <td>0.174458</td>\n",
       "      <td>-0.025930</td>\n",
       "      <td>-0.043430</td>\n",
       "      <td>0.002056</td>\n",
       "      <td>0.033778</td>\n",
       "      <td>0.053811</td>\n",
       "      <td>-0.012882</td>\n",
       "      <td>0.027090</td>\n",
       "      <td>0.043774</td>\n",
       "      <td>-0.006545</td>\n",
       "    </tr>\n",
       "    <tr>\n",
       "      <th>CI005015.WI</th>\n",
       "      <td>餐饮旅游</td>\n",
       "      <td>0.108104</td>\n",
       "      <td>-0.101157</td>\n",
       "      <td>-0.055126</td>\n",
       "      <td>-0.026590</td>\n",
       "      <td>-0.025420</td>\n",
       "      <td>-0.047844</td>\n",
       "      <td>0.164330</td>\n",
       "      <td>0.019676</td>\n",
       "      <td>-0.090278</td>\n",
       "      <td>...</td>\n",
       "      <td>0.173599</td>\n",
       "      <td>-0.041463</td>\n",
       "      <td>-0.056036</td>\n",
       "      <td>-0.008851</td>\n",
       "      <td>0.009096</td>\n",
       "      <td>0.029191</td>\n",
       "      <td>-0.001225</td>\n",
       "      <td>0.020813</td>\n",
       "      <td>-0.014338</td>\n",
       "      <td>-0.049113</td>\n",
       "    </tr>\n",
       "    <tr>\n",
       "      <th>CI005016.WI</th>\n",
       "      <td>家电</td>\n",
       "      <td>0.097633</td>\n",
       "      <td>-0.134255</td>\n",
       "      <td>-0.018766</td>\n",
       "      <td>-0.030552</td>\n",
       "      <td>-0.011667</td>\n",
       "      <td>-0.047641</td>\n",
       "      <td>0.101871</td>\n",
       "      <td>-0.046828</td>\n",
       "      <td>-0.063654</td>\n",
       "      <td>...</td>\n",
       "      <td>0.183884</td>\n",
       "      <td>0.000886</td>\n",
       "      <td>0.015613</td>\n",
       "      <td>0.057157</td>\n",
       "      <td>0.064701</td>\n",
       "      <td>-0.006504</td>\n",
       "      <td>0.038335</td>\n",
       "      <td>0.015833</td>\n",
       "      <td>0.093074</td>\n",
       "      <td>-0.083533</td>\n",
       "    </tr>\n",
       "    <tr>\n",
       "      <th>CI005017.WI</th>\n",
       "      <td>纺织服装</td>\n",
       "      <td>0.114826</td>\n",
       "      <td>-0.141702</td>\n",
       "      <td>-0.079235</td>\n",
       "      <td>-0.066307</td>\n",
       "      <td>0.016576</td>\n",
       "      <td>-0.051908</td>\n",
       "      <td>0.140682</td>\n",
       "      <td>-0.037646</td>\n",
       "      <td>-0.063967</td>\n",
       "      <td>...</td>\n",
       "      <td>0.204480</td>\n",
       "      <td>-0.023287</td>\n",
       "      <td>-0.006564</td>\n",
       "      <td>0.002742</td>\n",
       "      <td>-0.001415</td>\n",
       "      <td>0.027616</td>\n",
       "      <td>-0.005931</td>\n",
       "      <td>0.040358</td>\n",
       "      <td>0.045812</td>\n",
       "      <td>-0.019650</td>\n",
       "    </tr>\n",
       "    <tr>\n",
       "      <th>CI005018.WI</th>\n",
       "      <td>医药</td>\n",
       "      <td>0.077706</td>\n",
       "      <td>-0.083181</td>\n",
       "      <td>0.002247</td>\n",
       "      <td>-0.068187</td>\n",
       "      <td>0.000637</td>\n",
       "      <td>-0.049528</td>\n",
       "      <td>0.094789</td>\n",
       "      <td>0.020992</td>\n",
       "      <td>-0.050507</td>\n",
       "      <td>...</td>\n",
       "      <td>0.142309</td>\n",
       "      <td>-0.015650</td>\n",
       "      <td>0.003316</td>\n",
       "      <td>0.043614</td>\n",
       "      <td>0.042668</td>\n",
       "      <td>0.032236</td>\n",
       "      <td>-0.015173</td>\n",
       "      <td>0.020133</td>\n",
       "      <td>0.012305</td>\n",
       "      <td>-0.055252</td>\n",
       "    </tr>\n",
       "    <tr>\n",
       "      <th>CI005019.WI</th>\n",
       "      <td>食品饮料</td>\n",
       "      <td>0.084966</td>\n",
       "      <td>-0.037921</td>\n",
       "      <td>0.033721</td>\n",
       "      <td>-0.077714</td>\n",
       "      <td>0.032254</td>\n",
       "      <td>-0.015766</td>\n",
       "      <td>0.059471</td>\n",
       "      <td>0.002258</td>\n",
       "      <td>-0.030130</td>\n",
       "      <td>...</td>\n",
       "      <td>0.166177</td>\n",
       "      <td>0.014597</td>\n",
       "      <td>0.022890</td>\n",
       "      <td>0.072335</td>\n",
       "      <td>0.043426</td>\n",
       "      <td>-0.010357</td>\n",
       "      <td>-0.030024</td>\n",
       "      <td>0.065580</td>\n",
       "      <td>0.016777</td>\n",
       "      <td>-0.031826</td>\n",
       "    </tr>\n",
       "    <tr>\n",
       "      <th>CI005020.WI</th>\n",
       "      <td>农林牧渔</td>\n",
       "      <td>0.103889</td>\n",
       "      <td>-0.116173</td>\n",
       "      <td>-0.061226</td>\n",
       "      <td>-0.051731</td>\n",
       "      <td>0.004500</td>\n",
       "      <td>-0.038371</td>\n",
       "      <td>0.130715</td>\n",
       "      <td>0.033934</td>\n",
       "      <td>-0.057854</td>\n",
       "      <td>...</td>\n",
       "      <td>0.172047</td>\n",
       "      <td>-0.044034</td>\n",
       "      <td>-0.000350</td>\n",
       "      <td>0.025078</td>\n",
       "      <td>0.028350</td>\n",
       "      <td>0.036554</td>\n",
       "      <td>-0.032774</td>\n",
       "      <td>0.033967</td>\n",
       "      <td>0.019625</td>\n",
       "      <td>-0.018640</td>\n",
       "    </tr>\n",
       "    <tr>\n",
       "      <th>CI005021.WI</th>\n",
       "      <td>银行</td>\n",
       "      <td>0.065740</td>\n",
       "      <td>-0.087225</td>\n",
       "      <td>0.088066</td>\n",
       "      <td>-0.057882</td>\n",
       "      <td>0.051351</td>\n",
       "      <td>0.077280</td>\n",
       "      <td>0.031687</td>\n",
       "      <td>-0.035117</td>\n",
       "      <td>-0.048230</td>\n",
       "      <td>...</td>\n",
       "      <td>0.078849</td>\n",
       "      <td>0.013881</td>\n",
       "      <td>0.013612</td>\n",
       "      <td>-0.010297</td>\n",
       "      <td>0.027672</td>\n",
       "      <td>0.055335</td>\n",
       "      <td>-0.019090</td>\n",
       "      <td>0.006916</td>\n",
       "      <td>0.044360</td>\n",
       "      <td>-0.040872</td>\n",
       "    </tr>\n",
       "    <tr>\n",
       "      <th>CI005022.WI</th>\n",
       "      <td>非银行金融</td>\n",
       "      <td>0.122011</td>\n",
       "      <td>-0.188932</td>\n",
       "      <td>0.073853</td>\n",
       "      <td>-0.054555</td>\n",
       "      <td>0.105736</td>\n",
       "      <td>-0.012497</td>\n",
       "      <td>-0.032612</td>\n",
       "      <td>0.002702</td>\n",
       "      <td>-0.119421</td>\n",
       "      <td>...</td>\n",
       "      <td>0.194786</td>\n",
       "      <td>-0.035591</td>\n",
       "      <td>0.021243</td>\n",
       "      <td>0.000005</td>\n",
       "      <td>-0.003316</td>\n",
       "      <td>0.065423</td>\n",
       "      <td>-0.027381</td>\n",
       "      <td>0.034151</td>\n",
       "      <td>0.058303</td>\n",
       "      <td>-0.079742</td>\n",
       "    </tr>\n",
       "    <tr>\n",
       "      <th>CI005023.WI</th>\n",
       "      <td>房地产</td>\n",
       "      <td>0.079023</td>\n",
       "      <td>-0.128411</td>\n",
       "      <td>-0.041588</td>\n",
       "      <td>-0.083962</td>\n",
       "      <td>0.011629</td>\n",
       "      <td>0.012305</td>\n",
       "      <td>0.074756</td>\n",
       "      <td>0.015186</td>\n",
       "      <td>-0.058149</td>\n",
       "      <td>...</td>\n",
       "      <td>0.109764</td>\n",
       "      <td>-0.013347</td>\n",
       "      <td>-0.032991</td>\n",
       "      <td>0.010479</td>\n",
       "      <td>-0.022507</td>\n",
       "      <td>0.148380</td>\n",
       "      <td>-0.002725</td>\n",
       "      <td>0.000006</td>\n",
       "      <td>0.051329</td>\n",
       "      <td>-0.077835</td>\n",
       "    </tr>\n",
       "    <tr>\n",
       "      <th>CI005024.WI</th>\n",
       "      <td>交通运输</td>\n",
       "      <td>0.072900</td>\n",
       "      <td>-0.026963</td>\n",
       "      <td>0.030122</td>\n",
       "      <td>-0.106592</td>\n",
       "      <td>0.023190</td>\n",
       "      <td>0.011828</td>\n",
       "      <td>0.024988</td>\n",
       "      <td>-0.008668</td>\n",
       "      <td>-0.070376</td>\n",
       "      <td>...</td>\n",
       "      <td>0.146878</td>\n",
       "      <td>-0.048743</td>\n",
       "      <td>-0.007552</td>\n",
       "      <td>-0.015086</td>\n",
       "      <td>0.040374</td>\n",
       "      <td>0.004255</td>\n",
       "      <td>-0.026429</td>\n",
       "      <td>0.038070</td>\n",
       "      <td>0.046889</td>\n",
       "      <td>-0.058027</td>\n",
       "    </tr>\n",
       "    <tr>\n",
       "      <th>CI005025.WI</th>\n",
       "      <td>电子元器件</td>\n",
       "      <td>0.194960</td>\n",
       "      <td>-0.146794</td>\n",
       "      <td>-0.120486</td>\n",
       "      <td>-0.020689</td>\n",
       "      <td>0.067995</td>\n",
       "      <td>-0.075596</td>\n",
       "      <td>0.155672</td>\n",
       "      <td>0.033777</td>\n",
       "      <td>-0.020129</td>\n",
       "      <td>...</td>\n",
       "      <td>0.189656</td>\n",
       "      <td>-0.024200</td>\n",
       "      <td>0.046051</td>\n",
       "      <td>0.077308</td>\n",
       "      <td>-0.033279</td>\n",
       "      <td>0.049127</td>\n",
       "      <td>-0.017725</td>\n",
       "      <td>0.024424</td>\n",
       "      <td>0.000412</td>\n",
       "      <td>-0.059895</td>\n",
       "    </tr>\n",
       "    <tr>\n",
       "      <th>CI005026.WI</th>\n",
       "      <td>通信</td>\n",
       "      <td>0.075152</td>\n",
       "      <td>-0.160760</td>\n",
       "      <td>-0.096441</td>\n",
       "      <td>-0.032934</td>\n",
       "      <td>0.016926</td>\n",
       "      <td>0.013579</td>\n",
       "      <td>0.028573</td>\n",
       "      <td>-0.014805</td>\n",
       "      <td>-0.026348</td>\n",
       "      <td>...</td>\n",
       "      <td>0.221378</td>\n",
       "      <td>-0.006298</td>\n",
       "      <td>-0.012750</td>\n",
       "      <td>0.068166</td>\n",
       "      <td>-0.002045</td>\n",
       "      <td>0.029495</td>\n",
       "      <td>-0.012505</td>\n",
       "      <td>0.019737</td>\n",
       "      <td>0.029800</td>\n",
       "      <td>-0.070102</td>\n",
       "    </tr>\n",
       "    <tr>\n",
       "      <th>CI005027.WI</th>\n",
       "      <td>计算机</td>\n",
       "      <td>0.091352</td>\n",
       "      <td>-0.156435</td>\n",
       "      <td>-0.129527</td>\n",
       "      <td>-0.002249</td>\n",
       "      <td>0.026861</td>\n",
       "      <td>-0.052076</td>\n",
       "      <td>0.192798</td>\n",
       "      <td>-0.040256</td>\n",
       "      <td>-0.067810</td>\n",
       "      <td>...</td>\n",
       "      <td>0.234679</td>\n",
       "      <td>-0.079530</td>\n",
       "      <td>0.031071</td>\n",
       "      <td>0.078275</td>\n",
       "      <td>-0.062302</td>\n",
       "      <td>0.026791</td>\n",
       "      <td>-0.041362</td>\n",
       "      <td>0.035521</td>\n",
       "      <td>0.018353</td>\n",
       "      <td>-0.108159</td>\n",
       "    </tr>\n",
       "    <tr>\n",
       "      <th>CI005028.WI</th>\n",
       "      <td>传媒</td>\n",
       "      <td>0.105189</td>\n",
       "      <td>-0.139923</td>\n",
       "      <td>-0.126376</td>\n",
       "      <td>-0.016234</td>\n",
       "      <td>0.094492</td>\n",
       "      <td>-0.028137</td>\n",
       "      <td>0.029106</td>\n",
       "      <td>0.007498</td>\n",
       "      <td>0.002726</td>\n",
       "      <td>...</td>\n",
       "      <td>0.236229</td>\n",
       "      <td>-0.071709</td>\n",
       "      <td>-0.015209</td>\n",
       "      <td>-0.002391</td>\n",
       "      <td>-0.025739</td>\n",
       "      <td>0.028054</td>\n",
       "      <td>-0.042902</td>\n",
       "      <td>0.009622</td>\n",
       "      <td>0.018808</td>\n",
       "      <td>-0.100330</td>\n",
       "    </tr>\n",
       "    <tr>\n",
       "      <th>CI005029.WI</th>\n",
       "      <td>综合</td>\n",
       "      <td>0.087571</td>\n",
       "      <td>-0.153942</td>\n",
       "      <td>-0.091439</td>\n",
       "      <td>-0.031886</td>\n",
       "      <td>-0.019925</td>\n",
       "      <td>-0.057798</td>\n",
       "      <td>0.146689</td>\n",
       "      <td>-0.021947</td>\n",
       "      <td>-0.073254</td>\n",
       "      <td>...</td>\n",
       "      <td>0.203598</td>\n",
       "      <td>-0.006227</td>\n",
       "      <td>-0.071015</td>\n",
       "      <td>0.053132</td>\n",
       "      <td>0.028363</td>\n",
       "      <td>0.052272</td>\n",
       "      <td>-0.020863</td>\n",
       "      <td>0.009953</td>\n",
       "      <td>0.004549</td>\n",
       "      <td>-0.018736</td>\n",
       "    </tr>\n",
       "  </tbody>\n",
       "</table>\n",
       "<p>29 rows × 144 columns</p>\n",
       "</div>"
      ],
      "text/plain": [
       "                name  2005-2 return  2005-3 return  2005-4 return  \\\n",
       "code                                                                \n",
       "CI005001.WI     石油石化       0.119650      -0.082533      -0.019008   \n",
       "CI005002.WI       煤炭       0.130761      -0.107633       0.015134   \n",
       "CI005003.WI     有色金属       0.141099      -0.111822      -0.017263   \n",
       "CI005004.WI  电力及公用事业       0.078857      -0.088172      -0.009859   \n",
       "CI005005.WI       钢铁       0.074207      -0.097204      -0.101365   \n",
       "CI005006.WI     基础化工       0.107023      -0.068936      -0.004672   \n",
       "CI005007.WI       建筑       0.114503      -0.146377      -0.062489   \n",
       "CI005008.WI       建材       0.099195      -0.138937      -0.106926   \n",
       "CI005009.WI     轻工制造       0.067891      -0.117231      -0.039307   \n",
       "CI005010.WI       机械       0.119321      -0.099243      -0.022792   \n",
       "CI005011.WI     电力设备       0.133265      -0.153834      -0.082248   \n",
       "CI005012.WI     国防军工       0.129092      -0.067227      -0.009412   \n",
       "CI005013.WI       汽车       0.115485      -0.143395      -0.049585   \n",
       "CI005014.WI     商贸零售       0.087721      -0.102003      -0.028583   \n",
       "CI005015.WI     餐饮旅游       0.108104      -0.101157      -0.055126   \n",
       "CI005016.WI       家电       0.097633      -0.134255      -0.018766   \n",
       "CI005017.WI     纺织服装       0.114826      -0.141702      -0.079235   \n",
       "CI005018.WI       医药       0.077706      -0.083181       0.002247   \n",
       "CI005019.WI     食品饮料       0.084966      -0.037921       0.033721   \n",
       "CI005020.WI     农林牧渔       0.103889      -0.116173      -0.061226   \n",
       "CI005021.WI       银行       0.065740      -0.087225       0.088066   \n",
       "CI005022.WI    非银行金融       0.122011      -0.188932       0.073853   \n",
       "CI005023.WI      房地产       0.079023      -0.128411      -0.041588   \n",
       "CI005024.WI     交通运输       0.072900      -0.026963       0.030122   \n",
       "CI005025.WI    电子元器件       0.194960      -0.146794      -0.120486   \n",
       "CI005026.WI       通信       0.075152      -0.160760      -0.096441   \n",
       "CI005027.WI      计算机       0.091352      -0.156435      -0.129527   \n",
       "CI005028.WI       传媒       0.105189      -0.139923      -0.126376   \n",
       "CI005029.WI       综合       0.087571      -0.153942      -0.091439   \n",
       "\n",
       "             2005-5 return  2005-6 return  2005-7 return  2005-8 return  \\\n",
       "code                                                                      \n",
       "CI005001.WI      -0.107732       0.021315       0.031912       0.117113   \n",
       "CI005002.WI      -0.132142      -0.075732      -0.041931       0.015111   \n",
       "CI005003.WI      -0.099106       0.005148      -0.042460       0.106784   \n",
       "CI005004.WI      -0.063934       0.051293      -0.002562       0.025017   \n",
       "CI005005.WI      -0.048186       0.030876       0.013474      -0.014439   \n",
       "CI005006.WI      -0.110753       0.006115      -0.053495       0.108957   \n",
       "CI005007.WI      -0.037497       0.007579      -0.104863       0.151029   \n",
       "CI005008.WI      -0.032051      -0.007706      -0.062991       0.148838   \n",
       "CI005009.WI      -0.036816       0.000464      -0.028363       0.040143   \n",
       "CI005010.WI      -0.088559      -0.068155      -0.043175       0.126911   \n",
       "CI005011.WI      -0.049392       0.047410      -0.070132       0.147125   \n",
       "CI005012.WI      -0.069982       0.004560       0.057317       0.102051   \n",
       "CI005013.WI      -0.022426      -0.006996      -0.043898       0.080501   \n",
       "CI005014.WI      -0.046876       0.025520      -0.023240       0.089698   \n",
       "CI005015.WI      -0.026590      -0.025420      -0.047844       0.164330   \n",
       "CI005016.WI      -0.030552      -0.011667      -0.047641       0.101871   \n",
       "CI005017.WI      -0.066307       0.016576      -0.051908       0.140682   \n",
       "CI005018.WI      -0.068187       0.000637      -0.049528       0.094789   \n",
       "CI005019.WI      -0.077714       0.032254      -0.015766       0.059471   \n",
       "CI005020.WI      -0.051731       0.004500      -0.038371       0.130715   \n",
       "CI005021.WI      -0.057882       0.051351       0.077280       0.031687   \n",
       "CI005022.WI      -0.054555       0.105736      -0.012497      -0.032612   \n",
       "CI005023.WI      -0.083962       0.011629       0.012305       0.074756   \n",
       "CI005024.WI      -0.106592       0.023190       0.011828       0.024988   \n",
       "CI005025.WI      -0.020689       0.067995      -0.075596       0.155672   \n",
       "CI005026.WI      -0.032934       0.016926       0.013579       0.028573   \n",
       "CI005027.WI      -0.002249       0.026861      -0.052076       0.192798   \n",
       "CI005028.WI      -0.016234       0.094492      -0.028137       0.029106   \n",
       "CI005029.WI      -0.031886      -0.019925      -0.057798       0.146689   \n",
       "\n",
       "             2005-9 return  2005-10 return       ...        2016-3 return  \\\n",
       "code                                             ...                        \n",
       "CI005001.WI      -0.008703       -0.063099       ...             0.118403   \n",
       "CI005002.WI       0.043744       -0.116103       ...             0.033785   \n",
       "CI005003.WI       0.064712       -0.075181       ...             0.159006   \n",
       "CI005004.WI      -0.009448       -0.071457       ...             0.130250   \n",
       "CI005005.WI      -0.031527       -0.052417       ...             0.092624   \n",
       "CI005006.WI       0.022842       -0.045237       ...             0.196678   \n",
       "CI005007.WI       0.017761       -0.056612       ...             0.173414   \n",
       "CI005008.WI       0.039524       -0.024497       ...             0.193442   \n",
       "CI005009.WI       0.002194       -0.090822       ...             0.187101   \n",
       "CI005010.WI       0.024313       -0.069056       ...             0.206245   \n",
       "CI005011.WI       0.094688        0.006318       ...             0.199532   \n",
       "CI005012.WI       0.133876        0.015912       ...             0.187903   \n",
       "CI005013.WI       0.016409       -0.107975       ...             0.191089   \n",
       "CI005014.WI       0.032211       -0.056795       ...             0.174458   \n",
       "CI005015.WI       0.019676       -0.090278       ...             0.173599   \n",
       "CI005016.WI      -0.046828       -0.063654       ...             0.183884   \n",
       "CI005017.WI      -0.037646       -0.063967       ...             0.204480   \n",
       "CI005018.WI       0.020992       -0.050507       ...             0.142309   \n",
       "CI005019.WI       0.002258       -0.030130       ...             0.166177   \n",
       "CI005020.WI       0.033934       -0.057854       ...             0.172047   \n",
       "CI005021.WI      -0.035117       -0.048230       ...             0.078849   \n",
       "CI005022.WI       0.002702       -0.119421       ...             0.194786   \n",
       "CI005023.WI       0.015186       -0.058149       ...             0.109764   \n",
       "CI005024.WI      -0.008668       -0.070376       ...             0.146878   \n",
       "CI005025.WI       0.033777       -0.020129       ...             0.189656   \n",
       "CI005026.WI      -0.014805       -0.026348       ...             0.221378   \n",
       "CI005027.WI      -0.040256       -0.067810       ...             0.234679   \n",
       "CI005028.WI       0.007498        0.002726       ...             0.236229   \n",
       "CI005029.WI      -0.021947       -0.073254       ...             0.203598   \n",
       "\n",
       "             2016-4 return  2016-5 return  2016-6 return  2016-7 return  \\\n",
       "code                                                                      \n",
       "CI005001.WI       0.008103      -0.034639       0.002035       0.026168   \n",
       "CI005002.WI       0.069521      -0.105413       0.030836       0.040685   \n",
       "CI005003.WI       0.005368       0.001784       0.055527      -0.006229   \n",
       "CI005004.WI      -0.025848      -0.015604       0.015744       0.030326   \n",
       "CI005005.WI       0.013319      -0.044245      -0.002995      -0.001621   \n",
       "CI005006.WI      -0.007828      -0.021591       0.067368       0.012429   \n",
       "CI005007.WI      -0.035268      -0.034536       0.012411       0.018386   \n",
       "CI005008.WI      -0.009168      -0.035084       0.038567       0.020345   \n",
       "CI005009.WI      -0.012159      -0.026559       0.039962       0.018280   \n",
       "CI005010.WI      -0.026933       0.000981       0.060404      -0.029939   \n",
       "CI005011.WI      -0.014947      -0.030396       0.076240      -0.023097   \n",
       "CI005012.WI      -0.063872      -0.012418       0.104622      -0.013617   \n",
       "CI005013.WI      -0.000059      -0.014638       0.048836       0.012499   \n",
       "CI005014.WI      -0.025930      -0.043430       0.002056       0.033778   \n",
       "CI005015.WI      -0.041463      -0.056036      -0.008851       0.009096   \n",
       "CI005016.WI       0.000886       0.015613       0.057157       0.064701   \n",
       "CI005017.WI      -0.023287      -0.006564       0.002742      -0.001415   \n",
       "CI005018.WI      -0.015650       0.003316       0.043614       0.042668   \n",
       "CI005019.WI       0.014597       0.022890       0.072335       0.043426   \n",
       "CI005020.WI      -0.044034      -0.000350       0.025078       0.028350   \n",
       "CI005021.WI       0.013881       0.013612      -0.010297       0.027672   \n",
       "CI005022.WI      -0.035591       0.021243       0.000005      -0.003316   \n",
       "CI005023.WI      -0.013347      -0.032991       0.010479      -0.022507   \n",
       "CI005024.WI      -0.048743      -0.007552      -0.015086       0.040374   \n",
       "CI005025.WI      -0.024200       0.046051       0.077308      -0.033279   \n",
       "CI005026.WI      -0.006298      -0.012750       0.068166      -0.002045   \n",
       "CI005027.WI      -0.079530       0.031071       0.078275      -0.062302   \n",
       "CI005028.WI      -0.071709      -0.015209      -0.002391      -0.025739   \n",
       "CI005029.WI      -0.006227      -0.071015       0.053132       0.028363   \n",
       "\n",
       "             2016-8 return  2016-9 return  2016-10 return  2016-11 return  \\\n",
       "code                                                                        \n",
       "CI005001.WI       0.039641      -0.012184        0.027873        0.045451   \n",
       "CI005002.WI       0.053560       0.004254        0.085985       -0.007452   \n",
       "CI005003.WI       0.006572      -0.049989        0.052947        0.045375   \n",
       "CI005004.WI       0.054272      -0.017153        0.026628        0.025408   \n",
       "CI005005.WI       0.084700      -0.008191        0.058812        0.064904   \n",
       "CI005006.WI       0.044019      -0.006564        0.031222        0.022393   \n",
       "CI005007.WI       0.101992      -0.022918        0.084745        0.142655   \n",
       "CI005008.WI       0.064250       0.009116        0.035661        0.022783   \n",
       "CI005009.WI       0.043118       0.005232        0.028179        0.020264   \n",
       "CI005010.WI       0.033425      -0.006364        0.046074        0.053585   \n",
       "CI005011.WI       0.045705      -0.028022        0.021430        0.026725   \n",
       "CI005012.WI       0.038542      -0.064967        0.029177        0.011682   \n",
       "CI005013.WI       0.011302      -0.000035        0.034290        0.027746   \n",
       "CI005014.WI       0.053811      -0.012882        0.027090        0.043774   \n",
       "CI005015.WI       0.029191      -0.001225        0.020813       -0.014338   \n",
       "CI005016.WI      -0.006504       0.038335        0.015833        0.093074   \n",
       "CI005017.WI       0.027616      -0.005931        0.040358        0.045812   \n",
       "CI005018.WI       0.032236      -0.015173        0.020133        0.012305   \n",
       "CI005019.WI      -0.010357      -0.030024        0.065580        0.016777   \n",
       "CI005020.WI       0.036554      -0.032774        0.033967        0.019625   \n",
       "CI005021.WI       0.055335      -0.019090        0.006916        0.044360   \n",
       "CI005022.WI       0.065423      -0.027381        0.034151        0.058303   \n",
       "CI005023.WI       0.148380      -0.002725        0.000006        0.051329   \n",
       "CI005024.WI       0.004255      -0.026429        0.038070        0.046889   \n",
       "CI005025.WI       0.049127      -0.017725        0.024424        0.000412   \n",
       "CI005026.WI       0.029495      -0.012505        0.019737        0.029800   \n",
       "CI005027.WI       0.026791      -0.041362        0.035521        0.018353   \n",
       "CI005028.WI       0.028054      -0.042902        0.009622        0.018808   \n",
       "CI005029.WI       0.052272      -0.020863        0.009953        0.004549   \n",
       "\n",
       "             2016-12 return  \n",
       "code                         \n",
       "CI005001.WI        0.037266  \n",
       "CI005002.WI       -0.065356  \n",
       "CI005003.WI       -0.069392  \n",
       "CI005004.WI       -0.047794  \n",
       "CI005005.WI       -0.022715  \n",
       "CI005006.WI       -0.022381  \n",
       "CI005007.WI       -0.082625  \n",
       "CI005008.WI       -0.036397  \n",
       "CI005009.WI       -0.037901  \n",
       "CI005010.WI       -0.059382  \n",
       "CI005011.WI       -0.037385  \n",
       "CI005012.WI       -0.041833  \n",
       "CI005013.WI       -0.045589  \n",
       "CI005014.WI       -0.006545  \n",
       "CI005015.WI       -0.049113  \n",
       "CI005016.WI       -0.083533  \n",
       "CI005017.WI       -0.019650  \n",
       "CI005018.WI       -0.055252  \n",
       "CI005019.WI       -0.031826  \n",
       "CI005020.WI       -0.018640  \n",
       "CI005021.WI       -0.040872  \n",
       "CI005022.WI       -0.079742  \n",
       "CI005023.WI       -0.077835  \n",
       "CI005024.WI       -0.058027  \n",
       "CI005025.WI       -0.059895  \n",
       "CI005026.WI       -0.070102  \n",
       "CI005027.WI       -0.108159  \n",
       "CI005028.WI       -0.100330  \n",
       "CI005029.WI       -0.018736  \n",
       "\n",
       "[29 rows x 144 columns]"
      ]
     },
     "execution_count": 370,
     "metadata": {},
     "output_type": "execute_result"
    }
   ],
   "source": [
    "stock_df"
   ]
  },
  {
   "cell_type": "markdown",
   "metadata": {},
   "source": [
    "# book-to-price"
   ]
  },
  {
   "cell_type": "code",
   "execution_count": 371,
   "metadata": {
    "collapsed": true
   },
   "outputs": [],
   "source": [
    "book_to_price = \"pb_lf\""
   ]
  },
  {
   "cell_type": "code",
   "execution_count": 372,
   "metadata": {
    "collapsed": false
   },
   "outputs": [],
   "source": [
    "stock_df = get_factor(stock_df, book_to_price, frequency='m', relative=False)"
   ]
  },
  {
   "cell_type": "code",
   "execution_count": 373,
   "metadata": {
    "collapsed": false
   },
   "outputs": [
    {
     "data": {
      "text/html": [
       "<div>\n",
       "<table border=\"1\" class=\"dataframe\">\n",
       "  <thead>\n",
       "    <tr style=\"text-align: right;\">\n",
       "      <th></th>\n",
       "      <th>name</th>\n",
       "      <th>2005-2 return</th>\n",
       "      <th>2005-3 return</th>\n",
       "      <th>2005-4 return</th>\n",
       "      <th>2005-5 return</th>\n",
       "      <th>2005-6 return</th>\n",
       "      <th>2005-7 return</th>\n",
       "      <th>2005-8 return</th>\n",
       "      <th>2005-9 return</th>\n",
       "      <th>2005-10 return</th>\n",
       "      <th>...</th>\n",
       "      <th>2016-3 pb_lf</th>\n",
       "      <th>2016-4 pb_lf</th>\n",
       "      <th>2016-5 pb_lf</th>\n",
       "      <th>2016-6 pb_lf</th>\n",
       "      <th>2016-7 pb_lf</th>\n",
       "      <th>2016-8 pb_lf</th>\n",
       "      <th>2016-9 pb_lf</th>\n",
       "      <th>2016-10 pb_lf</th>\n",
       "      <th>2016-11 pb_lf</th>\n",
       "      <th>2016-12 pb_lf</th>\n",
       "    </tr>\n",
       "    <tr>\n",
       "      <th>code</th>\n",
       "      <th></th>\n",
       "      <th></th>\n",
       "      <th></th>\n",
       "      <th></th>\n",
       "      <th></th>\n",
       "      <th></th>\n",
       "      <th></th>\n",
       "      <th></th>\n",
       "      <th></th>\n",
       "      <th></th>\n",
       "      <th></th>\n",
       "      <th></th>\n",
       "      <th></th>\n",
       "      <th></th>\n",
       "      <th></th>\n",
       "      <th></th>\n",
       "      <th></th>\n",
       "      <th></th>\n",
       "      <th></th>\n",
       "      <th></th>\n",
       "      <th></th>\n",
       "    </tr>\n",
       "  </thead>\n",
       "  <tbody>\n",
       "    <tr>\n",
       "      <th>CI005001.WI</th>\n",
       "      <td>石油石化</td>\n",
       "      <td>0.119650</td>\n",
       "      <td>-0.082533</td>\n",
       "      <td>-0.019008</td>\n",
       "      <td>-0.107732</td>\n",
       "      <td>0.021315</td>\n",
       "      <td>0.031912</td>\n",
       "      <td>0.117113</td>\n",
       "      <td>-0.008703</td>\n",
       "      <td>-0.063099</td>\n",
       "      <td>...</td>\n",
       "      <td>0.007463</td>\n",
       "      <td>0.022222</td>\n",
       "      <td>0.022059</td>\n",
       "      <td>0.021898</td>\n",
       "      <td>0.021739</td>\n",
       "      <td>0.028777</td>\n",
       "      <td>0.050000</td>\n",
       "      <td>0.035461</td>\n",
       "      <td>0.049296</td>\n",
       "      <td>0.083916</td>\n",
       "    </tr>\n",
       "    <tr>\n",
       "      <th>CI005002.WI</th>\n",
       "      <td>煤炭</td>\n",
       "      <td>0.130761</td>\n",
       "      <td>-0.107633</td>\n",
       "      <td>0.015134</td>\n",
       "      <td>-0.132142</td>\n",
       "      <td>-0.075732</td>\n",
       "      <td>-0.041931</td>\n",
       "      <td>0.015111</td>\n",
       "      <td>0.043744</td>\n",
       "      <td>-0.116103</td>\n",
       "      <td>...</td>\n",
       "      <td>0.074627</td>\n",
       "      <td>0.103704</td>\n",
       "      <td>0.165441</td>\n",
       "      <td>0.102190</td>\n",
       "      <td>0.123188</td>\n",
       "      <td>0.194245</td>\n",
       "      <td>0.221429</td>\n",
       "      <td>0.226950</td>\n",
       "      <td>0.246479</td>\n",
       "      <td>0.244755</td>\n",
       "    </tr>\n",
       "    <tr>\n",
       "      <th>CI005003.WI</th>\n",
       "      <td>有色金属</td>\n",
       "      <td>0.141099</td>\n",
       "      <td>-0.111822</td>\n",
       "      <td>-0.017263</td>\n",
       "      <td>-0.099106</td>\n",
       "      <td>0.005148</td>\n",
       "      <td>-0.042460</td>\n",
       "      <td>0.106784</td>\n",
       "      <td>0.064712</td>\n",
       "      <td>-0.075181</td>\n",
       "      <td>...</td>\n",
       "      <td>0.291045</td>\n",
       "      <td>0.400000</td>\n",
       "      <td>0.448529</td>\n",
       "      <td>0.445255</td>\n",
       "      <td>0.500000</td>\n",
       "      <td>0.546763</td>\n",
       "      <td>0.535714</td>\n",
       "      <td>0.460993</td>\n",
       "      <td>0.542254</td>\n",
       "      <td>0.594406</td>\n",
       "    </tr>\n",
       "    <tr>\n",
       "      <th>CI005004.WI</th>\n",
       "      <td>电力及公用事业</td>\n",
       "      <td>0.078857</td>\n",
       "      <td>-0.088172</td>\n",
       "      <td>-0.009859</td>\n",
       "      <td>-0.063934</td>\n",
       "      <td>0.051293</td>\n",
       "      <td>-0.002562</td>\n",
       "      <td>0.025017</td>\n",
       "      <td>-0.009448</td>\n",
       "      <td>-0.071457</td>\n",
       "      <td>...</td>\n",
       "      <td>0.373134</td>\n",
       "      <td>0.518519</td>\n",
       "      <td>0.455882</td>\n",
       "      <td>0.437956</td>\n",
       "      <td>0.463768</td>\n",
       "      <td>0.489209</td>\n",
       "      <td>0.507143</td>\n",
       "      <td>0.531915</td>\n",
       "      <td>0.521127</td>\n",
       "      <td>0.545455</td>\n",
       "    </tr>\n",
       "    <tr>\n",
       "      <th>CI005005.WI</th>\n",
       "      <td>钢铁</td>\n",
       "      <td>0.074207</td>\n",
       "      <td>-0.097204</td>\n",
       "      <td>-0.101365</td>\n",
       "      <td>-0.048186</td>\n",
       "      <td>0.030876</td>\n",
       "      <td>0.013474</td>\n",
       "      <td>-0.014439</td>\n",
       "      <td>-0.031527</td>\n",
       "      <td>-0.052417</td>\n",
       "      <td>...</td>\n",
       "      <td>0.477612</td>\n",
       "      <td>0.525926</td>\n",
       "      <td>0.617647</td>\n",
       "      <td>0.569343</td>\n",
       "      <td>0.521739</td>\n",
       "      <td>0.582734</td>\n",
       "      <td>0.642857</td>\n",
       "      <td>0.631206</td>\n",
       "      <td>0.690141</td>\n",
       "      <td>0.748252</td>\n",
       "    </tr>\n",
       "  </tbody>\n",
       "</table>\n",
       "<p>5 rows × 287 columns</p>\n",
       "</div>"
      ],
      "text/plain": [
       "                name  2005-2 return  2005-3 return  2005-4 return  \\\n",
       "code                                                                \n",
       "CI005001.WI     石油石化       0.119650      -0.082533      -0.019008   \n",
       "CI005002.WI       煤炭       0.130761      -0.107633       0.015134   \n",
       "CI005003.WI     有色金属       0.141099      -0.111822      -0.017263   \n",
       "CI005004.WI  电力及公用事业       0.078857      -0.088172      -0.009859   \n",
       "CI005005.WI       钢铁       0.074207      -0.097204      -0.101365   \n",
       "\n",
       "             2005-5 return  2005-6 return  2005-7 return  2005-8 return  \\\n",
       "code                                                                      \n",
       "CI005001.WI      -0.107732       0.021315       0.031912       0.117113   \n",
       "CI005002.WI      -0.132142      -0.075732      -0.041931       0.015111   \n",
       "CI005003.WI      -0.099106       0.005148      -0.042460       0.106784   \n",
       "CI005004.WI      -0.063934       0.051293      -0.002562       0.025017   \n",
       "CI005005.WI      -0.048186       0.030876       0.013474      -0.014439   \n",
       "\n",
       "             2005-9 return  2005-10 return      ...        2016-3 pb_lf  \\\n",
       "code                                            ...                       \n",
       "CI005001.WI      -0.008703       -0.063099      ...            0.007463   \n",
       "CI005002.WI       0.043744       -0.116103      ...            0.074627   \n",
       "CI005003.WI       0.064712       -0.075181      ...            0.291045   \n",
       "CI005004.WI      -0.009448       -0.071457      ...            0.373134   \n",
       "CI005005.WI      -0.031527       -0.052417      ...            0.477612   \n",
       "\n",
       "             2016-4 pb_lf  2016-5 pb_lf  2016-6 pb_lf  2016-7 pb_lf  \\\n",
       "code                                                                  \n",
       "CI005001.WI      0.022222      0.022059      0.021898      0.021739   \n",
       "CI005002.WI      0.103704      0.165441      0.102190      0.123188   \n",
       "CI005003.WI      0.400000      0.448529      0.445255      0.500000   \n",
       "CI005004.WI      0.518519      0.455882      0.437956      0.463768   \n",
       "CI005005.WI      0.525926      0.617647      0.569343      0.521739   \n",
       "\n",
       "             2016-8 pb_lf  2016-9 pb_lf  2016-10 pb_lf  2016-11 pb_lf  \\\n",
       "code                                                                    \n",
       "CI005001.WI      0.028777      0.050000       0.035461       0.049296   \n",
       "CI005002.WI      0.194245      0.221429       0.226950       0.246479   \n",
       "CI005003.WI      0.546763      0.535714       0.460993       0.542254   \n",
       "CI005004.WI      0.489209      0.507143       0.531915       0.521127   \n",
       "CI005005.WI      0.582734      0.642857       0.631206       0.690141   \n",
       "\n",
       "             2016-12 pb_lf  \n",
       "code                        \n",
       "CI005001.WI       0.083916  \n",
       "CI005002.WI       0.244755  \n",
       "CI005003.WI       0.594406  \n",
       "CI005004.WI       0.545455  \n",
       "CI005005.WI       0.748252  \n",
       "\n",
       "[5 rows x 287 columns]"
      ]
     },
     "execution_count": 373,
     "metadata": {},
     "output_type": "execute_result"
    }
   ],
   "source": [
    "stock_df.head()"
   ]
  },
  {
   "cell_type": "markdown",
   "metadata": {},
   "source": [
    "# earnings-to-price"
   ]
  },
  {
   "cell_type": "code",
   "execution_count": 374,
   "metadata": {
    "collapsed": true
   },
   "outputs": [],
   "source": [
    "earnings_to_price = \"pe_ttm\""
   ]
  },
  {
   "cell_type": "code",
   "execution_count": 375,
   "metadata": {
    "collapsed": false
   },
   "outputs": [],
   "source": [
    "stock_df = get_factor(stock_df, earnings_to_price, frequency='m', relative=False)"
   ]
  },
  {
   "cell_type": "code",
   "execution_count": 376,
   "metadata": {
    "collapsed": false
   },
   "outputs": [
    {
     "data": {
      "text/html": [
       "<div>\n",
       "<table border=\"1\" class=\"dataframe\">\n",
       "  <thead>\n",
       "    <tr style=\"text-align: right;\">\n",
       "      <th></th>\n",
       "      <th>name</th>\n",
       "      <th>2005-2 return</th>\n",
       "      <th>2005-3 return</th>\n",
       "      <th>2005-4 return</th>\n",
       "      <th>2005-5 return</th>\n",
       "      <th>2005-6 return</th>\n",
       "      <th>2005-7 return</th>\n",
       "      <th>2005-8 return</th>\n",
       "      <th>2005-9 return</th>\n",
       "      <th>2005-10 return</th>\n",
       "      <th>...</th>\n",
       "      <th>2016-3 pe_ttm</th>\n",
       "      <th>2016-4 pe_ttm</th>\n",
       "      <th>2016-5 pe_ttm</th>\n",
       "      <th>2016-6 pe_ttm</th>\n",
       "      <th>2016-7 pe_ttm</th>\n",
       "      <th>2016-8 pe_ttm</th>\n",
       "      <th>2016-9 pe_ttm</th>\n",
       "      <th>2016-10 pe_ttm</th>\n",
       "      <th>2016-11 pe_ttm</th>\n",
       "      <th>2016-12 pe_ttm</th>\n",
       "    </tr>\n",
       "    <tr>\n",
       "      <th>code</th>\n",
       "      <th></th>\n",
       "      <th></th>\n",
       "      <th></th>\n",
       "      <th></th>\n",
       "      <th></th>\n",
       "      <th></th>\n",
       "      <th></th>\n",
       "      <th></th>\n",
       "      <th></th>\n",
       "      <th></th>\n",
       "      <th></th>\n",
       "      <th></th>\n",
       "      <th></th>\n",
       "      <th></th>\n",
       "      <th></th>\n",
       "      <th></th>\n",
       "      <th></th>\n",
       "      <th></th>\n",
       "      <th></th>\n",
       "      <th></th>\n",
       "      <th></th>\n",
       "    </tr>\n",
       "  </thead>\n",
       "  <tbody>\n",
       "    <tr>\n",
       "      <th>CI005001.WI</th>\n",
       "      <td>石油石化</td>\n",
       "      <td>0.119650</td>\n",
       "      <td>-0.082533</td>\n",
       "      <td>-0.019008</td>\n",
       "      <td>-0.107732</td>\n",
       "      <td>0.021315</td>\n",
       "      <td>0.031912</td>\n",
       "      <td>0.117113</td>\n",
       "      <td>-0.008703</td>\n",
       "      <td>-0.063099</td>\n",
       "      <td>...</td>\n",
       "      <td>0.932836</td>\n",
       "      <td>0.933333</td>\n",
       "      <td>0.985294</td>\n",
       "      <td>0.970803</td>\n",
       "      <td>0.956522</td>\n",
       "      <td>0.956835</td>\n",
       "      <td>1.000000</td>\n",
       "      <td>0.992908</td>\n",
       "      <td>0.985915</td>\n",
       "      <td>0.986014</td>\n",
       "    </tr>\n",
       "    <tr>\n",
       "      <th>CI005002.WI</th>\n",
       "      <td>煤炭</td>\n",
       "      <td>0.130761</td>\n",
       "      <td>-0.107633</td>\n",
       "      <td>0.015134</td>\n",
       "      <td>-0.132142</td>\n",
       "      <td>-0.075732</td>\n",
       "      <td>-0.041931</td>\n",
       "      <td>0.015111</td>\n",
       "      <td>0.043744</td>\n",
       "      <td>-0.116103</td>\n",
       "      <td>...</td>\n",
       "      <td>1.000000</td>\n",
       "      <td>1.000000</td>\n",
       "      <td>1.000000</td>\n",
       "      <td>NaN</td>\n",
       "      <td>NaN</td>\n",
       "      <td>NaN</td>\n",
       "      <td>NaN</td>\n",
       "      <td>NaN</td>\n",
       "      <td>0.978102</td>\n",
       "      <td>0.971014</td>\n",
       "    </tr>\n",
       "    <tr>\n",
       "      <th>CI005003.WI</th>\n",
       "      <td>有色金属</td>\n",
       "      <td>0.141099</td>\n",
       "      <td>-0.111822</td>\n",
       "      <td>-0.017263</td>\n",
       "      <td>-0.099106</td>\n",
       "      <td>0.005148</td>\n",
       "      <td>-0.042460</td>\n",
       "      <td>0.106784</td>\n",
       "      <td>0.064712</td>\n",
       "      <td>-0.075181</td>\n",
       "      <td>...</td>\n",
       "      <td>NaN</td>\n",
       "      <td>0.902439</td>\n",
       "      <td>0.967742</td>\n",
       "      <td>0.952000</td>\n",
       "      <td>0.952381</td>\n",
       "      <td>0.952756</td>\n",
       "      <td>0.906250</td>\n",
       "      <td>0.899225</td>\n",
       "      <td>0.853846</td>\n",
       "      <td>0.854962</td>\n",
       "    </tr>\n",
       "    <tr>\n",
       "      <th>CI005004.WI</th>\n",
       "      <td>电力及公用事业</td>\n",
       "      <td>0.078857</td>\n",
       "      <td>-0.088172</td>\n",
       "      <td>-0.009859</td>\n",
       "      <td>-0.063934</td>\n",
       "      <td>0.051293</td>\n",
       "      <td>-0.002562</td>\n",
       "      <td>0.025017</td>\n",
       "      <td>-0.009448</td>\n",
       "      <td>-0.071457</td>\n",
       "      <td>...</td>\n",
       "      <td>0.152672</td>\n",
       "      <td>0.242424</td>\n",
       "      <td>0.300752</td>\n",
       "      <td>0.305970</td>\n",
       "      <td>0.325926</td>\n",
       "      <td>0.352941</td>\n",
       "      <td>0.423358</td>\n",
       "      <td>0.420290</td>\n",
       "      <td>0.467626</td>\n",
       "      <td>0.507143</td>\n",
       "    </tr>\n",
       "    <tr>\n",
       "      <th>CI005005.WI</th>\n",
       "      <td>钢铁</td>\n",
       "      <td>0.074207</td>\n",
       "      <td>-0.097204</td>\n",
       "      <td>-0.101365</td>\n",
       "      <td>-0.048186</td>\n",
       "      <td>0.030876</td>\n",
       "      <td>0.013474</td>\n",
       "      <td>-0.014439</td>\n",
       "      <td>-0.031527</td>\n",
       "      <td>-0.052417</td>\n",
       "      <td>...</td>\n",
       "      <td>NaN</td>\n",
       "      <td>NaN</td>\n",
       "      <td>NaN</td>\n",
       "      <td>NaN</td>\n",
       "      <td>NaN</td>\n",
       "      <td>NaN</td>\n",
       "      <td>NaN</td>\n",
       "      <td>NaN</td>\n",
       "      <td>NaN</td>\n",
       "      <td>NaN</td>\n",
       "    </tr>\n",
       "  </tbody>\n",
       "</table>\n",
       "<p>5 rows × 430 columns</p>\n",
       "</div>"
      ],
      "text/plain": [
       "                name  2005-2 return  2005-3 return  2005-4 return  \\\n",
       "code                                                                \n",
       "CI005001.WI     石油石化       0.119650      -0.082533      -0.019008   \n",
       "CI005002.WI       煤炭       0.130761      -0.107633       0.015134   \n",
       "CI005003.WI     有色金属       0.141099      -0.111822      -0.017263   \n",
       "CI005004.WI  电力及公用事业       0.078857      -0.088172      -0.009859   \n",
       "CI005005.WI       钢铁       0.074207      -0.097204      -0.101365   \n",
       "\n",
       "             2005-5 return  2005-6 return  2005-7 return  2005-8 return  \\\n",
       "code                                                                      \n",
       "CI005001.WI      -0.107732       0.021315       0.031912       0.117113   \n",
       "CI005002.WI      -0.132142      -0.075732      -0.041931       0.015111   \n",
       "CI005003.WI      -0.099106       0.005148      -0.042460       0.106784   \n",
       "CI005004.WI      -0.063934       0.051293      -0.002562       0.025017   \n",
       "CI005005.WI      -0.048186       0.030876       0.013474      -0.014439   \n",
       "\n",
       "             2005-9 return  2005-10 return       ...        2016-3 pe_ttm  \\\n",
       "code                                             ...                        \n",
       "CI005001.WI      -0.008703       -0.063099       ...             0.932836   \n",
       "CI005002.WI       0.043744       -0.116103       ...             1.000000   \n",
       "CI005003.WI       0.064712       -0.075181       ...                  NaN   \n",
       "CI005004.WI      -0.009448       -0.071457       ...             0.152672   \n",
       "CI005005.WI      -0.031527       -0.052417       ...                  NaN   \n",
       "\n",
       "             2016-4 pe_ttm  2016-5 pe_ttm  2016-6 pe_ttm  2016-7 pe_ttm  \\\n",
       "code                                                                      \n",
       "CI005001.WI       0.933333       0.985294       0.970803       0.956522   \n",
       "CI005002.WI       1.000000       1.000000            NaN            NaN   \n",
       "CI005003.WI       0.902439       0.967742       0.952000       0.952381   \n",
       "CI005004.WI       0.242424       0.300752       0.305970       0.325926   \n",
       "CI005005.WI            NaN            NaN            NaN            NaN   \n",
       "\n",
       "             2016-8 pe_ttm  2016-9 pe_ttm  2016-10 pe_ttm  2016-11 pe_ttm  \\\n",
       "code                                                                        \n",
       "CI005001.WI       0.956835       1.000000        0.992908        0.985915   \n",
       "CI005002.WI            NaN            NaN             NaN        0.978102   \n",
       "CI005003.WI       0.952756       0.906250        0.899225        0.853846   \n",
       "CI005004.WI       0.352941       0.423358        0.420290        0.467626   \n",
       "CI005005.WI            NaN            NaN             NaN             NaN   \n",
       "\n",
       "             2016-12 pe_ttm  \n",
       "code                         \n",
       "CI005001.WI        0.986014  \n",
       "CI005002.WI        0.971014  \n",
       "CI005003.WI        0.854962  \n",
       "CI005004.WI        0.507143  \n",
       "CI005005.WI             NaN  \n",
       "\n",
       "[5 rows x 430 columns]"
      ]
     },
     "execution_count": 376,
     "metadata": {},
     "output_type": "execute_result"
    }
   ],
   "source": [
    "stock_df.head()"
   ]
  },
  {
   "cell_type": "markdown",
   "metadata": {},
   "source": [
    "# cash flow-to-price"
   ]
  },
  {
   "cell_type": "code",
   "execution_count": 377,
   "metadata": {
    "collapsed": true
   },
   "outputs": [],
   "source": [
    "cashflow_to_price = \"pcf_ocf_ttm\""
   ]
  },
  {
   "cell_type": "code",
   "execution_count": 378,
   "metadata": {
    "collapsed": true
   },
   "outputs": [],
   "source": [
    "stock_df = get_factor(stock_df, cashflow_to_price, frequency='m', relative=False)"
   ]
  },
  {
   "cell_type": "code",
   "execution_count": 379,
   "metadata": {
    "collapsed": false
   },
   "outputs": [
    {
     "data": {
      "text/html": [
       "<div>\n",
       "<table border=\"1\" class=\"dataframe\">\n",
       "  <thead>\n",
       "    <tr style=\"text-align: right;\">\n",
       "      <th></th>\n",
       "      <th>name</th>\n",
       "      <th>2005-2 return</th>\n",
       "      <th>2005-3 return</th>\n",
       "      <th>2005-4 return</th>\n",
       "      <th>2005-5 return</th>\n",
       "      <th>2005-6 return</th>\n",
       "      <th>2005-7 return</th>\n",
       "      <th>2005-8 return</th>\n",
       "      <th>2005-9 return</th>\n",
       "      <th>2005-10 return</th>\n",
       "      <th>...</th>\n",
       "      <th>2016-3 pcf_ocf_ttm</th>\n",
       "      <th>2016-4 pcf_ocf_ttm</th>\n",
       "      <th>2016-5 pcf_ocf_ttm</th>\n",
       "      <th>2016-6 pcf_ocf_ttm</th>\n",
       "      <th>2016-7 pcf_ocf_ttm</th>\n",
       "      <th>2016-8 pcf_ocf_ttm</th>\n",
       "      <th>2016-9 pcf_ocf_ttm</th>\n",
       "      <th>2016-10 pcf_ocf_ttm</th>\n",
       "      <th>2016-11 pcf_ocf_ttm</th>\n",
       "      <th>2016-12 pcf_ocf_ttm</th>\n",
       "    </tr>\n",
       "    <tr>\n",
       "      <th>code</th>\n",
       "      <th></th>\n",
       "      <th></th>\n",
       "      <th></th>\n",
       "      <th></th>\n",
       "      <th></th>\n",
       "      <th></th>\n",
       "      <th></th>\n",
       "      <th></th>\n",
       "      <th></th>\n",
       "      <th></th>\n",
       "      <th></th>\n",
       "      <th></th>\n",
       "      <th></th>\n",
       "      <th></th>\n",
       "      <th></th>\n",
       "      <th></th>\n",
       "      <th></th>\n",
       "      <th></th>\n",
       "      <th></th>\n",
       "      <th></th>\n",
       "      <th></th>\n",
       "    </tr>\n",
       "  </thead>\n",
       "  <tbody>\n",
       "    <tr>\n",
       "      <th>CI005001.WI</th>\n",
       "      <td>石油石化</td>\n",
       "      <td>0.119650</td>\n",
       "      <td>-0.082533</td>\n",
       "      <td>-0.019008</td>\n",
       "      <td>-0.107732</td>\n",
       "      <td>0.021315</td>\n",
       "      <td>0.031912</td>\n",
       "      <td>0.117113</td>\n",
       "      <td>-0.008703</td>\n",
       "      <td>-0.063099</td>\n",
       "      <td>...</td>\n",
       "      <td>0.029851</td>\n",
       "      <td>0.200000</td>\n",
       "      <td>0.036765</td>\n",
       "      <td>0.029197</td>\n",
       "      <td>0.021739</td>\n",
       "      <td>0.035971</td>\n",
       "      <td>0.221429</td>\n",
       "      <td>0.170213</td>\n",
       "      <td>0.218310</td>\n",
       "      <td>0.286713</td>\n",
       "    </tr>\n",
       "    <tr>\n",
       "      <th>CI005002.WI</th>\n",
       "      <td>煤炭</td>\n",
       "      <td>0.130761</td>\n",
       "      <td>-0.107633</td>\n",
       "      <td>0.015134</td>\n",
       "      <td>-0.132142</td>\n",
       "      <td>-0.075732</td>\n",
       "      <td>-0.041931</td>\n",
       "      <td>0.015111</td>\n",
       "      <td>0.043744</td>\n",
       "      <td>-0.116103</td>\n",
       "      <td>...</td>\n",
       "      <td>0.835821</td>\n",
       "      <td>0.637037</td>\n",
       "      <td>0.536765</td>\n",
       "      <td>0.335766</td>\n",
       "      <td>0.427536</td>\n",
       "      <td>0.503597</td>\n",
       "      <td>0.492857</td>\n",
       "      <td>0.503546</td>\n",
       "      <td>0.154930</td>\n",
       "      <td>0.139860</td>\n",
       "    </tr>\n",
       "    <tr>\n",
       "      <th>CI005003.WI</th>\n",
       "      <td>有色金属</td>\n",
       "      <td>0.141099</td>\n",
       "      <td>-0.111822</td>\n",
       "      <td>-0.017263</td>\n",
       "      <td>-0.099106</td>\n",
       "      <td>0.005148</td>\n",
       "      <td>-0.042460</td>\n",
       "      <td>0.106784</td>\n",
       "      <td>0.064712</td>\n",
       "      <td>-0.075181</td>\n",
       "      <td>...</td>\n",
       "      <td>0.343284</td>\n",
       "      <td>0.474074</td>\n",
       "      <td>0.448529</td>\n",
       "      <td>0.510949</td>\n",
       "      <td>0.550725</td>\n",
       "      <td>0.553957</td>\n",
       "      <td>0.621429</td>\n",
       "      <td>0.581560</td>\n",
       "      <td>0.521127</td>\n",
       "      <td>0.559441</td>\n",
       "    </tr>\n",
       "    <tr>\n",
       "      <th>CI005004.WI</th>\n",
       "      <td>电力及公用事业</td>\n",
       "      <td>0.078857</td>\n",
       "      <td>-0.088172</td>\n",
       "      <td>-0.009859</td>\n",
       "      <td>-0.063934</td>\n",
       "      <td>0.051293</td>\n",
       "      <td>-0.002562</td>\n",
       "      <td>0.025017</td>\n",
       "      <td>-0.009448</td>\n",
       "      <td>-0.071457</td>\n",
       "      <td>...</td>\n",
       "      <td>0.238806</td>\n",
       "      <td>0.311111</td>\n",
       "      <td>0.323529</td>\n",
       "      <td>0.313869</td>\n",
       "      <td>0.333333</td>\n",
       "      <td>0.366906</td>\n",
       "      <td>0.450000</td>\n",
       "      <td>0.425532</td>\n",
       "      <td>0.464789</td>\n",
       "      <td>0.482517</td>\n",
       "    </tr>\n",
       "    <tr>\n",
       "      <th>CI005005.WI</th>\n",
       "      <td>钢铁</td>\n",
       "      <td>0.074207</td>\n",
       "      <td>-0.097204</td>\n",
       "      <td>-0.101365</td>\n",
       "      <td>-0.048186</td>\n",
       "      <td>0.030876</td>\n",
       "      <td>0.013474</td>\n",
       "      <td>-0.014439</td>\n",
       "      <td>-0.031527</td>\n",
       "      <td>-0.052417</td>\n",
       "      <td>...</td>\n",
       "      <td>0.604478</td>\n",
       "      <td>0.666667</td>\n",
       "      <td>0.661765</td>\n",
       "      <td>0.656934</td>\n",
       "      <td>0.644928</td>\n",
       "      <td>0.683453</td>\n",
       "      <td>0.571429</td>\n",
       "      <td>0.567376</td>\n",
       "      <td>0.514085</td>\n",
       "      <td>0.580420</td>\n",
       "    </tr>\n",
       "  </tbody>\n",
       "</table>\n",
       "<p>5 rows × 573 columns</p>\n",
       "</div>"
      ],
      "text/plain": [
       "                name  2005-2 return  2005-3 return  2005-4 return  \\\n",
       "code                                                                \n",
       "CI005001.WI     石油石化       0.119650      -0.082533      -0.019008   \n",
       "CI005002.WI       煤炭       0.130761      -0.107633       0.015134   \n",
       "CI005003.WI     有色金属       0.141099      -0.111822      -0.017263   \n",
       "CI005004.WI  电力及公用事业       0.078857      -0.088172      -0.009859   \n",
       "CI005005.WI       钢铁       0.074207      -0.097204      -0.101365   \n",
       "\n",
       "             2005-5 return  2005-6 return  2005-7 return  2005-8 return  \\\n",
       "code                                                                      \n",
       "CI005001.WI      -0.107732       0.021315       0.031912       0.117113   \n",
       "CI005002.WI      -0.132142      -0.075732      -0.041931       0.015111   \n",
       "CI005003.WI      -0.099106       0.005148      -0.042460       0.106784   \n",
       "CI005004.WI      -0.063934       0.051293      -0.002562       0.025017   \n",
       "CI005005.WI      -0.048186       0.030876       0.013474      -0.014439   \n",
       "\n",
       "             2005-9 return  2005-10 return         ...           \\\n",
       "code                                               ...            \n",
       "CI005001.WI      -0.008703       -0.063099         ...            \n",
       "CI005002.WI       0.043744       -0.116103         ...            \n",
       "CI005003.WI       0.064712       -0.075181         ...            \n",
       "CI005004.WI      -0.009448       -0.071457         ...            \n",
       "CI005005.WI      -0.031527       -0.052417         ...            \n",
       "\n",
       "             2016-3 pcf_ocf_ttm  2016-4 pcf_ocf_ttm  2016-5 pcf_ocf_ttm  \\\n",
       "code                                                                      \n",
       "CI005001.WI            0.029851            0.200000            0.036765   \n",
       "CI005002.WI            0.835821            0.637037            0.536765   \n",
       "CI005003.WI            0.343284            0.474074            0.448529   \n",
       "CI005004.WI            0.238806            0.311111            0.323529   \n",
       "CI005005.WI            0.604478            0.666667            0.661765   \n",
       "\n",
       "             2016-6 pcf_ocf_ttm  2016-7 pcf_ocf_ttm  2016-8 pcf_ocf_ttm  \\\n",
       "code                                                                      \n",
       "CI005001.WI            0.029197            0.021739            0.035971   \n",
       "CI005002.WI            0.335766            0.427536            0.503597   \n",
       "CI005003.WI            0.510949            0.550725            0.553957   \n",
       "CI005004.WI            0.313869            0.333333            0.366906   \n",
       "CI005005.WI            0.656934            0.644928            0.683453   \n",
       "\n",
       "             2016-9 pcf_ocf_ttm  2016-10 pcf_ocf_ttm  2016-11 pcf_ocf_ttm  \\\n",
       "code                                                                        \n",
       "CI005001.WI            0.221429             0.170213             0.218310   \n",
       "CI005002.WI            0.492857             0.503546             0.154930   \n",
       "CI005003.WI            0.621429             0.581560             0.521127   \n",
       "CI005004.WI            0.450000             0.425532             0.464789   \n",
       "CI005005.WI            0.571429             0.567376             0.514085   \n",
       "\n",
       "             2016-12 pcf_ocf_ttm  \n",
       "code                              \n",
       "CI005001.WI             0.286713  \n",
       "CI005002.WI             0.139860  \n",
       "CI005003.WI             0.559441  \n",
       "CI005004.WI             0.482517  \n",
       "CI005005.WI             0.580420  \n",
       "\n",
       "[5 rows x 573 columns]"
      ]
     },
     "execution_count": 379,
     "metadata": {},
     "output_type": "execute_result"
    }
   ],
   "source": [
    "stock_df.head()"
   ]
  },
  {
   "cell_type": "markdown",
   "metadata": {},
   "source": [
    "# sales-to-enterprise value"
   ]
  },
  {
   "cell_type": "code",
   "execution_count": 380,
   "metadata": {
    "collapsed": true
   },
   "outputs": [],
   "source": [
    "sales_to_enterprise = \"ps_ttm\""
   ]
  },
  {
   "cell_type": "code",
   "execution_count": 381,
   "metadata": {
    "collapsed": false
   },
   "outputs": [],
   "source": [
    "stock_df = get_factor(stock_df, sales_to_enterprise, frequency='m', relative=False)"
   ]
  },
  {
   "cell_type": "code",
   "execution_count": 382,
   "metadata": {
    "collapsed": false
   },
   "outputs": [
    {
     "data": {
      "text/html": [
       "<div>\n",
       "<table border=\"1\" class=\"dataframe\">\n",
       "  <thead>\n",
       "    <tr style=\"text-align: right;\">\n",
       "      <th></th>\n",
       "      <th>name</th>\n",
       "      <th>2005-2 return</th>\n",
       "      <th>2005-3 return</th>\n",
       "      <th>2005-4 return</th>\n",
       "      <th>2005-5 return</th>\n",
       "      <th>2005-6 return</th>\n",
       "      <th>2005-7 return</th>\n",
       "      <th>2005-8 return</th>\n",
       "      <th>2005-9 return</th>\n",
       "      <th>2005-10 return</th>\n",
       "      <th>...</th>\n",
       "      <th>2016-3 ps_ttm</th>\n",
       "      <th>2016-4 ps_ttm</th>\n",
       "      <th>2016-5 ps_ttm</th>\n",
       "      <th>2016-6 ps_ttm</th>\n",
       "      <th>2016-7 ps_ttm</th>\n",
       "      <th>2016-8 ps_ttm</th>\n",
       "      <th>2016-9 ps_ttm</th>\n",
       "      <th>2016-10 ps_ttm</th>\n",
       "      <th>2016-11 ps_ttm</th>\n",
       "      <th>2016-12 ps_ttm</th>\n",
       "    </tr>\n",
       "    <tr>\n",
       "      <th>code</th>\n",
       "      <th></th>\n",
       "      <th></th>\n",
       "      <th></th>\n",
       "      <th></th>\n",
       "      <th></th>\n",
       "      <th></th>\n",
       "      <th></th>\n",
       "      <th></th>\n",
       "      <th></th>\n",
       "      <th></th>\n",
       "      <th></th>\n",
       "      <th></th>\n",
       "      <th></th>\n",
       "      <th></th>\n",
       "      <th></th>\n",
       "      <th></th>\n",
       "      <th></th>\n",
       "      <th></th>\n",
       "      <th></th>\n",
       "      <th></th>\n",
       "      <th></th>\n",
       "    </tr>\n",
       "  </thead>\n",
       "  <tbody>\n",
       "    <tr>\n",
       "      <th>CI005001.WI</th>\n",
       "      <td>石油石化</td>\n",
       "      <td>0.119650</td>\n",
       "      <td>-0.082533</td>\n",
       "      <td>-0.019008</td>\n",
       "      <td>-0.107732</td>\n",
       "      <td>0.021315</td>\n",
       "      <td>0.031912</td>\n",
       "      <td>0.117113</td>\n",
       "      <td>-0.008703</td>\n",
       "      <td>-0.063099</td>\n",
       "      <td>...</td>\n",
       "      <td>0.223881</td>\n",
       "      <td>0.370370</td>\n",
       "      <td>0.397059</td>\n",
       "      <td>0.386861</td>\n",
       "      <td>0.340580</td>\n",
       "      <td>0.366906</td>\n",
       "      <td>0.492857</td>\n",
       "      <td>0.460993</td>\n",
       "      <td>0.500000</td>\n",
       "      <td>0.531469</td>\n",
       "    </tr>\n",
       "    <tr>\n",
       "      <th>CI005002.WI</th>\n",
       "      <td>煤炭</td>\n",
       "      <td>0.130761</td>\n",
       "      <td>-0.107633</td>\n",
       "      <td>0.015134</td>\n",
       "      <td>-0.132142</td>\n",
       "      <td>-0.075732</td>\n",
       "      <td>-0.041931</td>\n",
       "      <td>0.015111</td>\n",
       "      <td>0.043744</td>\n",
       "      <td>-0.116103</td>\n",
       "      <td>...</td>\n",
       "      <td>0.231343</td>\n",
       "      <td>0.259259</td>\n",
       "      <td>0.360294</td>\n",
       "      <td>0.306569</td>\n",
       "      <td>0.340580</td>\n",
       "      <td>0.395683</td>\n",
       "      <td>0.464286</td>\n",
       "      <td>0.468085</td>\n",
       "      <td>0.492958</td>\n",
       "      <td>0.482517</td>\n",
       "    </tr>\n",
       "    <tr>\n",
       "      <th>CI005003.WI</th>\n",
       "      <td>有色金属</td>\n",
       "      <td>0.141099</td>\n",
       "      <td>-0.111822</td>\n",
       "      <td>-0.017263</td>\n",
       "      <td>-0.099106</td>\n",
       "      <td>0.005148</td>\n",
       "      <td>-0.042460</td>\n",
       "      <td>0.106784</td>\n",
       "      <td>0.064712</td>\n",
       "      <td>-0.075181</td>\n",
       "      <td>...</td>\n",
       "      <td>0.283582</td>\n",
       "      <td>0.429630</td>\n",
       "      <td>0.455882</td>\n",
       "      <td>0.452555</td>\n",
       "      <td>0.543478</td>\n",
       "      <td>0.561151</td>\n",
       "      <td>0.578571</td>\n",
       "      <td>0.524823</td>\n",
       "      <td>0.584507</td>\n",
       "      <td>0.615385</td>\n",
       "    </tr>\n",
       "    <tr>\n",
       "      <th>CI005004.WI</th>\n",
       "      <td>电力及公用事业</td>\n",
       "      <td>0.078857</td>\n",
       "      <td>-0.088172</td>\n",
       "      <td>-0.009859</td>\n",
       "      <td>-0.063934</td>\n",
       "      <td>0.051293</td>\n",
       "      <td>-0.002562</td>\n",
       "      <td>0.025017</td>\n",
       "      <td>-0.009448</td>\n",
       "      <td>-0.071457</td>\n",
       "      <td>...</td>\n",
       "      <td>0.582090</td>\n",
       "      <td>0.711111</td>\n",
       "      <td>0.713235</td>\n",
       "      <td>0.700730</td>\n",
       "      <td>0.717391</td>\n",
       "      <td>0.733813</td>\n",
       "      <td>0.778571</td>\n",
       "      <td>0.744681</td>\n",
       "      <td>0.767606</td>\n",
       "      <td>0.804196</td>\n",
       "    </tr>\n",
       "    <tr>\n",
       "      <th>CI005005.WI</th>\n",
       "      <td>钢铁</td>\n",
       "      <td>0.074207</td>\n",
       "      <td>-0.097204</td>\n",
       "      <td>-0.101365</td>\n",
       "      <td>-0.048186</td>\n",
       "      <td>0.030876</td>\n",
       "      <td>0.013474</td>\n",
       "      <td>-0.014439</td>\n",
       "      <td>-0.031527</td>\n",
       "      <td>-0.052417</td>\n",
       "      <td>...</td>\n",
       "      <td>0.656716</td>\n",
       "      <td>0.725926</td>\n",
       "      <td>0.794118</td>\n",
       "      <td>0.751825</td>\n",
       "      <td>0.746377</td>\n",
       "      <td>0.791367</td>\n",
       "      <td>0.821429</td>\n",
       "      <td>0.808511</td>\n",
       "      <td>0.823944</td>\n",
       "      <td>0.860140</td>\n",
       "    </tr>\n",
       "  </tbody>\n",
       "</table>\n",
       "<p>5 rows × 716 columns</p>\n",
       "</div>"
      ],
      "text/plain": [
       "                name  2005-2 return  2005-3 return  2005-4 return  \\\n",
       "code                                                                \n",
       "CI005001.WI     石油石化       0.119650      -0.082533      -0.019008   \n",
       "CI005002.WI       煤炭       0.130761      -0.107633       0.015134   \n",
       "CI005003.WI     有色金属       0.141099      -0.111822      -0.017263   \n",
       "CI005004.WI  电力及公用事业       0.078857      -0.088172      -0.009859   \n",
       "CI005005.WI       钢铁       0.074207      -0.097204      -0.101365   \n",
       "\n",
       "             2005-5 return  2005-6 return  2005-7 return  2005-8 return  \\\n",
       "code                                                                      \n",
       "CI005001.WI      -0.107732       0.021315       0.031912       0.117113   \n",
       "CI005002.WI      -0.132142      -0.075732      -0.041931       0.015111   \n",
       "CI005003.WI      -0.099106       0.005148      -0.042460       0.106784   \n",
       "CI005004.WI      -0.063934       0.051293      -0.002562       0.025017   \n",
       "CI005005.WI      -0.048186       0.030876       0.013474      -0.014439   \n",
       "\n",
       "             2005-9 return  2005-10 return       ...        2016-3 ps_ttm  \\\n",
       "code                                             ...                        \n",
       "CI005001.WI      -0.008703       -0.063099       ...             0.223881   \n",
       "CI005002.WI       0.043744       -0.116103       ...             0.231343   \n",
       "CI005003.WI       0.064712       -0.075181       ...             0.283582   \n",
       "CI005004.WI      -0.009448       -0.071457       ...             0.582090   \n",
       "CI005005.WI      -0.031527       -0.052417       ...             0.656716   \n",
       "\n",
       "             2016-4 ps_ttm  2016-5 ps_ttm  2016-6 ps_ttm  2016-7 ps_ttm  \\\n",
       "code                                                                      \n",
       "CI005001.WI       0.370370       0.397059       0.386861       0.340580   \n",
       "CI005002.WI       0.259259       0.360294       0.306569       0.340580   \n",
       "CI005003.WI       0.429630       0.455882       0.452555       0.543478   \n",
       "CI005004.WI       0.711111       0.713235       0.700730       0.717391   \n",
       "CI005005.WI       0.725926       0.794118       0.751825       0.746377   \n",
       "\n",
       "             2016-8 ps_ttm  2016-9 ps_ttm  2016-10 ps_ttm  2016-11 ps_ttm  \\\n",
       "code                                                                        \n",
       "CI005001.WI       0.366906       0.492857        0.460993        0.500000   \n",
       "CI005002.WI       0.395683       0.464286        0.468085        0.492958   \n",
       "CI005003.WI       0.561151       0.578571        0.524823        0.584507   \n",
       "CI005004.WI       0.733813       0.778571        0.744681        0.767606   \n",
       "CI005005.WI       0.791367       0.821429        0.808511        0.823944   \n",
       "\n",
       "             2016-12 ps_ttm  \n",
       "code                         \n",
       "CI005001.WI        0.531469  \n",
       "CI005002.WI        0.482517  \n",
       "CI005003.WI        0.615385  \n",
       "CI005004.WI        0.804196  \n",
       "CI005005.WI        0.860140  \n",
       "\n",
       "[5 rows x 716 columns]"
      ]
     },
     "execution_count": 382,
     "metadata": {},
     "output_type": "execute_result"
    }
   ],
   "source": [
    "stock_df.head()"
   ]
  },
  {
   "cell_type": "markdown",
   "metadata": {},
   "source": [
    "# 获取每年分组后的收益"
   ]
  },
  {
   "cell_type": "code",
   "execution_count": 467,
   "metadata": {
    "collapsed": true
   },
   "outputs": [],
   "source": [
    "ranks = get_ranks(stock_df)"
   ]
  },
  {
   "cell_type": "code",
   "execution_count": 532,
   "metadata": {
    "collapsed": true
   },
   "outputs": [],
   "source": [
    "factors = [book_to_price, earnings_to_price, cashflow_to_price, sales_to_enterprise]\n",
    "# factors = [book_to_price]\n",
    "weights = [1, 1, 1, 1]"
   ]
  },
  {
   "cell_type": "code",
   "execution_count": 533,
   "metadata": {
    "collapsed": false
   },
   "outputs": [],
   "source": [
    "group_df = get_group_return(stock_df, factors, weights, ranks)"
   ]
  },
  {
   "cell_type": "code",
   "execution_count": 534,
   "metadata": {
    "collapsed": false
   },
   "outputs": [
    {
     "data": {
      "text/html": [
       "<div>\n",
       "<table border=\"1\" class=\"dataframe\">\n",
       "  <thead>\n",
       "    <tr style=\"text-align: right;\">\n",
       "      <th></th>\n",
       "      <th>2007-8 return</th>\n",
       "      <th>2007-9 return</th>\n",
       "      <th>2007-4 return</th>\n",
       "      <th>2007-5 return</th>\n",
       "      <th>2007-6 return</th>\n",
       "      <th>2007-7 return</th>\n",
       "      <th>2007-1 return</th>\n",
       "      <th>2007-2 return</th>\n",
       "      <th>2007-3 return</th>\n",
       "      <th>2015-11 return</th>\n",
       "      <th>...</th>\n",
       "      <th>2009-11 return</th>\n",
       "      <th>2009-12 return</th>\n",
       "      <th>2008-4 return</th>\n",
       "      <th>2013-7 return</th>\n",
       "      <th>2013-6 return</th>\n",
       "      <th>2008-9 return</th>\n",
       "      <th>2008-8 return</th>\n",
       "      <th>2013-3 return</th>\n",
       "      <th>2013-2 return</th>\n",
       "      <th>2013-1 return</th>\n",
       "    </tr>\n",
       "  </thead>\n",
       "  <tbody>\n",
       "    <tr>\n",
       "      <th>1</th>\n",
       "      <td>0.162215</td>\n",
       "      <td>0.121460</td>\n",
       "      <td>0.321360</td>\n",
       "      <td>0.093495</td>\n",
       "      <td>-0.091048</td>\n",
       "      <td>0.214681</td>\n",
       "      <td>0.129834</td>\n",
       "      <td>0.084178</td>\n",
       "      <td>0.115842</td>\n",
       "      <td>0.067134</td>\n",
       "      <td>...</td>\n",
       "      <td>0.106355</td>\n",
       "      <td>0.035703</td>\n",
       "      <td>0.041690</td>\n",
       "      <td>0.124017</td>\n",
       "      <td>-0.122927</td>\n",
       "      <td>-0.048474</td>\n",
       "      <td>-0.227693</td>\n",
       "      <td>-0.020864</td>\n",
       "      <td>0.031979</td>\n",
       "      <td>0.065365</td>\n",
       "    </tr>\n",
       "    <tr>\n",
       "      <th>2</th>\n",
       "      <td>0.128332</td>\n",
       "      <td>0.011157</td>\n",
       "      <td>0.274177</td>\n",
       "      <td>0.099989</td>\n",
       "      <td>-0.100572</td>\n",
       "      <td>0.180871</td>\n",
       "      <td>0.218433</td>\n",
       "      <td>0.092606</td>\n",
       "      <td>0.103999</td>\n",
       "      <td>0.088111</td>\n",
       "      <td>...</td>\n",
       "      <td>0.107629</td>\n",
       "      <td>0.025601</td>\n",
       "      <td>0.010904</td>\n",
       "      <td>0.054842</td>\n",
       "      <td>-0.146205</td>\n",
       "      <td>-0.044375</td>\n",
       "      <td>-0.209822</td>\n",
       "      <td>-0.049309</td>\n",
       "      <td>0.035253</td>\n",
       "      <td>0.041543</td>\n",
       "    </tr>\n",
       "    <tr>\n",
       "      <th>3</th>\n",
       "      <td>0.095823</td>\n",
       "      <td>0.026669</td>\n",
       "      <td>0.313499</td>\n",
       "      <td>0.078728</td>\n",
       "      <td>-0.126444</td>\n",
       "      <td>0.174065</td>\n",
       "      <td>0.261319</td>\n",
       "      <td>0.136507</td>\n",
       "      <td>0.150662</td>\n",
       "      <td>0.072049</td>\n",
       "      <td>...</td>\n",
       "      <td>0.133486</td>\n",
       "      <td>0.022527</td>\n",
       "      <td>-0.032743</td>\n",
       "      <td>0.034964</td>\n",
       "      <td>-0.170812</td>\n",
       "      <td>-0.048834</td>\n",
       "      <td>-0.211509</td>\n",
       "      <td>-0.040372</td>\n",
       "      <td>0.010872</td>\n",
       "      <td>0.045670</td>\n",
       "    </tr>\n",
       "    <tr>\n",
       "      <th>4</th>\n",
       "      <td>0.145690</td>\n",
       "      <td>0.044954</td>\n",
       "      <td>0.331829</td>\n",
       "      <td>0.123480</td>\n",
       "      <td>-0.095517</td>\n",
       "      <td>0.179329</td>\n",
       "      <td>0.240633</td>\n",
       "      <td>0.161675</td>\n",
       "      <td>0.148142</td>\n",
       "      <td>0.048227</td>\n",
       "      <td>...</td>\n",
       "      <td>0.145148</td>\n",
       "      <td>0.019494</td>\n",
       "      <td>-0.011289</td>\n",
       "      <td>0.032085</td>\n",
       "      <td>-0.161689</td>\n",
       "      <td>-0.047483</td>\n",
       "      <td>-0.205561</td>\n",
       "      <td>-0.052274</td>\n",
       "      <td>0.019819</td>\n",
       "      <td>0.059832</td>\n",
       "    </tr>\n",
       "    <tr>\n",
       "      <th>5</th>\n",
       "      <td>0.138935</td>\n",
       "      <td>0.049154</td>\n",
       "      <td>0.287528</td>\n",
       "      <td>0.046886</td>\n",
       "      <td>-0.039842</td>\n",
       "      <td>0.179451</td>\n",
       "      <td>0.227735</td>\n",
       "      <td>0.139802</td>\n",
       "      <td>0.074110</td>\n",
       "      <td>0.039330</td>\n",
       "      <td>...</td>\n",
       "      <td>0.071743</td>\n",
       "      <td>0.047813</td>\n",
       "      <td>0.062046</td>\n",
       "      <td>-0.015972</td>\n",
       "      <td>-0.155271</td>\n",
       "      <td>-0.048415</td>\n",
       "      <td>-0.170038</td>\n",
       "      <td>-0.041352</td>\n",
       "      <td>0.015338</td>\n",
       "      <td>0.104256</td>\n",
       "    </tr>\n",
       "  </tbody>\n",
       "</table>\n",
       "<p>5 rows × 143 columns</p>\n",
       "</div>"
      ],
      "text/plain": [
       "   2007-8 return  2007-9 return  2007-4 return  2007-5 return  2007-6 return  \\\n",
       "1       0.162215       0.121460       0.321360       0.093495      -0.091048   \n",
       "2       0.128332       0.011157       0.274177       0.099989      -0.100572   \n",
       "3       0.095823       0.026669       0.313499       0.078728      -0.126444   \n",
       "4       0.145690       0.044954       0.331829       0.123480      -0.095517   \n",
       "5       0.138935       0.049154       0.287528       0.046886      -0.039842   \n",
       "\n",
       "   2007-7 return  2007-1 return  2007-2 return  2007-3 return  2015-11 return  \\\n",
       "1       0.214681       0.129834       0.084178       0.115842        0.067134   \n",
       "2       0.180871       0.218433       0.092606       0.103999        0.088111   \n",
       "3       0.174065       0.261319       0.136507       0.150662        0.072049   \n",
       "4       0.179329       0.240633       0.161675       0.148142        0.048227   \n",
       "5       0.179451       0.227735       0.139802       0.074110        0.039330   \n",
       "\n",
       "       ...        2009-11 return  2009-12 return  2008-4 return  \\\n",
       "1      ...              0.106355        0.035703       0.041690   \n",
       "2      ...              0.107629        0.025601       0.010904   \n",
       "3      ...              0.133486        0.022527      -0.032743   \n",
       "4      ...              0.145148        0.019494      -0.011289   \n",
       "5      ...              0.071743        0.047813       0.062046   \n",
       "\n",
       "   2013-7 return  2013-6 return  2008-9 return  2008-8 return  2013-3 return  \\\n",
       "1       0.124017      -0.122927      -0.048474      -0.227693      -0.020864   \n",
       "2       0.054842      -0.146205      -0.044375      -0.209822      -0.049309   \n",
       "3       0.034964      -0.170812      -0.048834      -0.211509      -0.040372   \n",
       "4       0.032085      -0.161689      -0.047483      -0.205561      -0.052274   \n",
       "5      -0.015972      -0.155271      -0.048415      -0.170038      -0.041352   \n",
       "\n",
       "   2013-2 return  2013-1 return  \n",
       "1       0.031979       0.065365  \n",
       "2       0.035253       0.041543  \n",
       "3       0.010872       0.045670  \n",
       "4       0.019819       0.059832  \n",
       "5       0.015338       0.104256  \n",
       "\n",
       "[5 rows x 143 columns]"
      ]
     },
     "execution_count": 534,
     "metadata": {},
     "output_type": "execute_result"
    }
   ],
   "source": [
    "group_df"
   ]
  },
  {
   "cell_type": "code",
   "execution_count": 538,
   "metadata": {
    "collapsed": true
   },
   "outputs": [],
   "source": [
    "start_year = 2016\n",
    "year_feature = []\n",
    "for year in range(start_year, 2017):\n",
    "    year_feature += [\"%d-%d return\"%(year, month) for month in range(1, 13)]"
   ]
  },
  {
   "cell_type": "code",
   "execution_count": 539,
   "metadata": {
    "collapsed": false
   },
   "outputs": [],
   "source": [
    "res = group_df[year_feature].mean(axis=1)\n",
    "data = pd.DataFrame({'group': res.index, 'return': res.values})"
   ]
  },
  {
   "cell_type": "code",
   "execution_count": 540,
   "metadata": {
    "collapsed": false
   },
   "outputs": [
    {
     "data": {
      "image/png": "[encoded data removed]",
      "text/plain": [
       "<matplotlib.figure.Figure at 0x21e615d0>"
      ]
     },
     "metadata": {},
     "output_type": "display_data"
    }
   ],
   "source": [
    "ax = sns.barplot(x='group', y='return', data=data, palette=\"Blues_d\")\n",
    "# vals = ax.get_yticks()\n",
    "# ax.set_yticklabels(['{:3.2f}%'.format(x*100) for x in vals])"
   ]
  },
  {
   "cell_type": "code",
   "execution_count": 390,
   "metadata": {
    "collapsed": false
   },
   "outputs": [],
   "source": [
    "group_df.to_excel(\"%s/value.xlsx\"%(DATA_DIR))"
   ]
  },
  {
   "cell_type": "markdown",
   "metadata": {},
   "source": [
    "# 加入momentum"
   ]
  },
  {
   "cell_type": "code",
   "execution_count": 410,
   "metadata": {
    "collapsed": false
   },
   "outputs": [],
   "source": [
    "for stock in stock_df.index:\n",
    "    data = w.wsd(stock, 'close', START_DATE, END_DATE)\n",
    "    df = wind2df(data)\n",
    "#     df = df.resample('BMS').first()\n",
    "    df['return'] = df.pct_change()\n",
    "    df['avg return'] = df['return'].rolling(window=30).mean()\n",
    "    df = df.resample('M').last()\n",
    "    for i, ind in enumerate(df.index[:-1]):\n",
    "        year, month = df.index[i+1].year, df.index[i+1].month\n",
    "        stock_df.loc[stock, \"%d-%d momentum\"%(year, month)] = -df.loc[ind, \"avg return\"]"
   ]
  },
  {
   "cell_type": "code",
   "execution_count": 523,
   "metadata": {
    "collapsed": true
   },
   "outputs": [],
   "source": [
    "factors = [book_to_price, earnings_to_price, cashflow_to_price, sales_to_enterprise, \"momentum\"]\n",
    "weights = [1, 1, 1, 1, 4]"
   ]
  },
  {
   "cell_type": "code",
   "execution_count": 524,
   "metadata": {
    "collapsed": true
   },
   "outputs": [],
   "source": [
    "ranks = get_ranks(stock_df)"
   ]
  },
  {
   "cell_type": "code",
   "execution_count": 525,
   "metadata": {
    "collapsed": true
   },
   "outputs": [],
   "source": [
    "group_df = get_group_return(stock_df, factors, weights, ranks)"
   ]
  },
  {
   "cell_type": "code",
   "execution_count": 526,
   "metadata": {
    "collapsed": false
   },
   "outputs": [
    {
     "data": {
      "text/html": [
       "<div>\n",
       "<table border=\"1\" class=\"dataframe\">\n",
       "  <thead>\n",
       "    <tr style=\"text-align: right;\">\n",
       "      <th></th>\n",
       "      <th>2007-8 return</th>\n",
       "      <th>2007-9 return</th>\n",
       "      <th>2007-4 return</th>\n",
       "      <th>2007-5 return</th>\n",
       "      <th>2007-6 return</th>\n",
       "      <th>2007-7 return</th>\n",
       "      <th>2007-1 return</th>\n",
       "      <th>2007-2 return</th>\n",
       "      <th>2007-3 return</th>\n",
       "      <th>2015-11 return</th>\n",
       "      <th>...</th>\n",
       "      <th>2009-11 return</th>\n",
       "      <th>2009-12 return</th>\n",
       "      <th>2008-4 return</th>\n",
       "      <th>2013-7 return</th>\n",
       "      <th>2013-6 return</th>\n",
       "      <th>2008-9 return</th>\n",
       "      <th>2008-8 return</th>\n",
       "      <th>2013-3 return</th>\n",
       "      <th>2013-2 return</th>\n",
       "      <th>2013-1 return</th>\n",
       "    </tr>\n",
       "  </thead>\n",
       "  <tbody>\n",
       "    <tr>\n",
       "      <th>1</th>\n",
       "      <td>0.079119</td>\n",
       "      <td>0.023300</td>\n",
       "      <td>0.267878</td>\n",
       "      <td>0.109945</td>\n",
       "      <td>-0.084093</td>\n",
       "      <td>0.179187</td>\n",
       "      <td>0.273779</td>\n",
       "      <td>0.112932</td>\n",
       "      <td>0.093266</td>\n",
       "      <td>0.030727</td>\n",
       "      <td>...</td>\n",
       "      <td>0.133405</td>\n",
       "      <td>0.012931</td>\n",
       "      <td>0.043043</td>\n",
       "      <td>0.044618</td>\n",
       "      <td>-0.180848</td>\n",
       "      <td>-0.056148</td>\n",
       "      <td>-0.218865</td>\n",
       "      <td>-0.060526</td>\n",
       "      <td>0.006212</td>\n",
       "      <td>0.055890</td>\n",
       "    </tr>\n",
       "    <tr>\n",
       "      <th>2</th>\n",
       "      <td>0.126289</td>\n",
       "      <td>0.035198</td>\n",
       "      <td>0.284179</td>\n",
       "      <td>0.051494</td>\n",
       "      <td>-0.065923</td>\n",
       "      <td>0.187674</td>\n",
       "      <td>0.233509</td>\n",
       "      <td>0.101828</td>\n",
       "      <td>0.103363</td>\n",
       "      <td>0.062356</td>\n",
       "      <td>...</td>\n",
       "      <td>0.109060</td>\n",
       "      <td>0.007155</td>\n",
       "      <td>-0.021413</td>\n",
       "      <td>0.024885</td>\n",
       "      <td>-0.165403</td>\n",
       "      <td>-0.037416</td>\n",
       "      <td>-0.193420</td>\n",
       "      <td>-0.052302</td>\n",
       "      <td>0.024126</td>\n",
       "      <td>0.053136</td>\n",
       "    </tr>\n",
       "    <tr>\n",
       "      <th>3</th>\n",
       "      <td>0.131586</td>\n",
       "      <td>0.048729</td>\n",
       "      <td>0.285039</td>\n",
       "      <td>0.119902</td>\n",
       "      <td>-0.107176</td>\n",
       "      <td>0.175887</td>\n",
       "      <td>0.168984</td>\n",
       "      <td>0.141403</td>\n",
       "      <td>0.118212</td>\n",
       "      <td>0.057041</td>\n",
       "      <td>...</td>\n",
       "      <td>0.111254</td>\n",
       "      <td>0.049389</td>\n",
       "      <td>0.077003</td>\n",
       "      <td>0.077624</td>\n",
       "      <td>-0.146301</td>\n",
       "      <td>-0.016440</td>\n",
       "      <td>-0.171524</td>\n",
       "      <td>-0.028869</td>\n",
       "      <td>0.015672</td>\n",
       "      <td>0.062253</td>\n",
       "    </tr>\n",
       "    <tr>\n",
       "      <th>4</th>\n",
       "      <td>0.113047</td>\n",
       "      <td>0.066427</td>\n",
       "      <td>0.315114</td>\n",
       "      <td>0.118494</td>\n",
       "      <td>-0.093031</td>\n",
       "      <td>0.191405</td>\n",
       "      <td>0.221890</td>\n",
       "      <td>0.156001</td>\n",
       "      <td>0.137148</td>\n",
       "      <td>0.065418</td>\n",
       "      <td>...</td>\n",
       "      <td>0.136985</td>\n",
       "      <td>0.043726</td>\n",
       "      <td>0.018006</td>\n",
       "      <td>0.063539</td>\n",
       "      <td>-0.121822</td>\n",
       "      <td>-0.074888</td>\n",
       "      <td>-0.213351</td>\n",
       "      <td>-0.014512</td>\n",
       "      <td>0.047562</td>\n",
       "      <td>0.045250</td>\n",
       "    </tr>\n",
       "    <tr>\n",
       "      <th>5</th>\n",
       "      <td>0.237357</td>\n",
       "      <td>0.085858</td>\n",
       "      <td>0.393914</td>\n",
       "      <td>0.041913</td>\n",
       "      <td>-0.115871</td>\n",
       "      <td>0.197204</td>\n",
       "      <td>0.170204</td>\n",
       "      <td>0.095165</td>\n",
       "      <td>0.154097</td>\n",
       "      <td>0.111304</td>\n",
       "      <td>...</td>\n",
       "      <td>0.074040</td>\n",
       "      <td>0.035961</td>\n",
       "      <td>-0.067646</td>\n",
       "      <td>0.026319</td>\n",
       "      <td>-0.139981</td>\n",
       "      <td>-0.053543</td>\n",
       "      <td>-0.238948</td>\n",
       "      <td>-0.049284</td>\n",
       "      <td>0.020558</td>\n",
       "      <td>0.099315</td>\n",
       "    </tr>\n",
       "  </tbody>\n",
       "</table>\n",
       "<p>5 rows × 143 columns</p>\n",
       "</div>"
      ],
      "text/plain": [
       "   2007-8 return  2007-9 return  2007-4 return  2007-5 return  2007-6 return  \\\n",
       "1       0.079119       0.023300       0.267878       0.109945      -0.084093   \n",
       "2       0.126289       0.035198       0.284179       0.051494      -0.065923   \n",
       "3       0.131586       0.048729       0.285039       0.119902      -0.107176   \n",
       "4       0.113047       0.066427       0.315114       0.118494      -0.093031   \n",
       "5       0.237357       0.085858       0.393914       0.041913      -0.115871   \n",
       "\n",
       "   2007-7 return  2007-1 return  2007-2 return  2007-3 return  2015-11 return  \\\n",
       "1       0.179187       0.273779       0.112932       0.093266        0.030727   \n",
       "2       0.187674       0.233509       0.101828       0.103363        0.062356   \n",
       "3       0.175887       0.168984       0.141403       0.118212        0.057041   \n",
       "4       0.191405       0.221890       0.156001       0.137148        0.065418   \n",
       "5       0.197204       0.170204       0.095165       0.154097        0.111304   \n",
       "\n",
       "       ...        2009-11 return  2009-12 return  2008-4 return  \\\n",
       "1      ...              0.133405        0.012931       0.043043   \n",
       "2      ...              0.109060        0.007155      -0.021413   \n",
       "3      ...              0.111254        0.049389       0.077003   \n",
       "4      ...              0.136985        0.043726       0.018006   \n",
       "5      ...              0.074040        0.035961      -0.067646   \n",
       "\n",
       "   2013-7 return  2013-6 return  2008-9 return  2008-8 return  2013-3 return  \\\n",
       "1       0.044618      -0.180848      -0.056148      -0.218865      -0.060526   \n",
       "2       0.024885      -0.165403      -0.037416      -0.193420      -0.052302   \n",
       "3       0.077624      -0.146301      -0.016440      -0.171524      -0.028869   \n",
       "4       0.063539      -0.121822      -0.074888      -0.213351      -0.014512   \n",
       "5       0.026319      -0.139981      -0.053543      -0.238948      -0.049284   \n",
       "\n",
       "   2013-2 return  2013-1 return  \n",
       "1       0.006212       0.055890  \n",
       "2       0.024126       0.053136  \n",
       "3       0.015672       0.062253  \n",
       "4       0.047562       0.045250  \n",
       "5       0.020558       0.099315  \n",
       "\n",
       "[5 rows x 143 columns]"
      ]
     },
     "execution_count": 526,
     "metadata": {},
     "output_type": "execute_result"
    }
   ],
   "source": [
    "group_df"
   ]
  },
  {
   "cell_type": "code",
   "execution_count": 527,
   "metadata": {
    "collapsed": true
   },
   "outputs": [],
   "source": [
    "res = group_df.mean(axis=1)\n",
    "data = pd.DataFrame({'group': res.index, 'return': res.values})"
   ]
  },
  {
   "cell_type": "code",
   "execution_count": 528,
   "metadata": {
    "collapsed": false
   },
   "outputs": [
    {
     "data": {
      "image/png": "[encoded data removed]",
      "text/plain": [
       "<matplotlib.figure.Figure at 0x20c31c10>"
      ]
     },
     "metadata": {},
     "output_type": "display_data"
    }
   ],
   "source": [
    "ax = sns.barplot(x='group', y='return', data=data, palette=\"Blues_d\")"
   ]
  },
  {
   "cell_type": "code",
   "execution_count": 529,
   "metadata": {
    "collapsed": true
   },
   "outputs": [],
   "source": [
    "start_year = 2016\n",
    "year_feature = []\n",
    "for year in range(start_year, 2017):\n",
    "    year_feature += [\"%d-%d return\"%(year, month) for month in range(1, 13)]"
   ]
  },
  {
   "cell_type": "code",
   "execution_count": 530,
   "metadata": {
    "collapsed": false
   },
   "outputs": [],
   "source": [
    "res = group_df[year_feature].mean(axis=1)\n",
    "data = pd.DataFrame({'group': res.index, 'return': res.values})"
   ]
  },
  {
   "cell_type": "code",
   "execution_count": 531,
   "metadata": {
    "collapsed": false
   },
   "outputs": [
    {
     "data": {
      "image/png": "[encoded data removed]",
      "text/plain": [
       "<matplotlib.figure.Figure at 0x217c6bf0>"
      ]
     },
     "metadata": {},
     "output_type": "display_data"
    }
   ],
   "source": [
    "ax = sns.barplot(x='group', y='return', data=data, palette=\"Blues_d\")"
   ]
  },
  {
   "cell_type": "code",
   "execution_count": 54,
   "metadata": {
    "collapsed": false
   },
   "outputs": [],
   "source": [
    "group_df.to_excel(\"%s/value_momentum.xlsx\"%(DATA_DIR))"
   ]
  },
  {
   "cell_type": "markdown",
   "metadata": {
    "collapsed": true
   },
   "source": [
    "# 加入波动率"
   ]
  },
  {
   "cell_type": "code",
   "execution_count": 504,
   "metadata": {
    "collapsed": true
   },
   "outputs": [],
   "source": [
    "for stock in stock_df.index:\n",
    "    data = w.wsd(stock, 'close', START_DATE, END_DATE)\n",
    "    df = wind2df(data)\n",
    "    df['return'] = df.pct_change()\n",
    "    df['volatility'] = df['return'].rolling(window=243).std() * np.sqrt(243)\n",
    "    df = df.resample('M').first()\n",
    "    for i, ind in enumerate(df.index[:-1]):\n",
    "        year, month = df.index[i+1].year, df.index[i+1].month\n",
    "        stock_df.loc[stock, \"%d-%d volatility\"%(year, month)] = df.loc[ind, \"volatility\"]"
   ]
  },
  {
   "cell_type": "code",
   "execution_count": 505,
   "metadata": {
    "collapsed": true
   },
   "outputs": [],
   "source": [
    "factors = [book_to_price, earnings_to_price, cashflow_to_price, sales_to_enterprise, \"momentum\", \"volatility\"]\n",
    "weights = [1, 1, 1, 1, 4, 4]"
   ]
  },
  {
   "cell_type": "code",
   "execution_count": 510,
   "metadata": {
    "collapsed": true
   },
   "outputs": [],
   "source": [
    "ranks = get_ranks(stock_df)"
   ]
  },
  {
   "cell_type": "code",
   "execution_count": 511,
   "metadata": {
    "collapsed": true
   },
   "outputs": [],
   "source": [
    "group_df = get_group_return(stock_df, factors, weights, ranks)"
   ]
  },
  {
   "cell_type": "code",
   "execution_count": 512,
   "metadata": {
    "collapsed": true
   },
   "outputs": [],
   "source": [
    "res = group_df.mean(axis=1)\n",
    "data = pd.DataFrame({'group': res.index, 'return': res.values})"
   ]
  },
  {
   "cell_type": "code",
   "execution_count": 513,
   "metadata": {
    "collapsed": false
   },
   "outputs": [
    {
     "data": {
      "image/png": "[encoded data removed]",
      "text/plain": [
       "<matplotlib.figure.Figure at 0x21b19d90>"
      ]
     },
     "metadata": {},
     "output_type": "display_data"
    }
   ],
   "source": [
    "ax = sns.barplot(x='group', y='return', data=data, palette=\"Blues_d\")"
   ]
  },
  {
   "cell_type": "code",
   "execution_count": 520,
   "metadata": {
    "collapsed": true
   },
   "outputs": [],
   "source": [
    "start_year = 2016\n",
    "year_feature = []\n",
    "for year in range(start_year, 2017):\n",
    "    year_feature += [\"%d-%d return\"%(year, month) for month in range(1, 13)]"
   ]
  },
  {
   "cell_type": "code",
   "execution_count": 521,
   "metadata": {
    "collapsed": true
   },
   "outputs": [],
   "source": [
    "res = group_df[year_feature].mean(axis=1)\n",
    "data = pd.DataFrame({'group': res.index, 'return': res.values})"
   ]
  },
  {
   "cell_type": "code",
   "execution_count": 522,
   "metadata": {
    "collapsed": false
   },
   "outputs": [
    {
     "data": {
      "image/png": "[encoded data removed]",
      "text/plain": [
       "<matplotlib.figure.Figure at 0x20f021b0>"
      ]
     },
     "metadata": {},
     "output_type": "display_data"
    }
   ],
   "source": [
    "ax = sns.barplot(x='group', y='return', data=data, palette=\"Blues_d\")"
   ]
  },
  {
   "cell_type": "code",
   "execution_count": 541,
   "metadata": {
    "collapsed": true
   },
   "outputs": [],
   "source": [
    "group_df.to_excel(\"%s/value_momentum_volatility.xlsx\"%(DATA_DIR))"
   ]
  },
  {
   "cell_type": "code",
   "execution_count": null,
   "metadata": {
    "collapsed": true
   },
   "outputs": [],
   "source": []
  },
  {
   "cell_type": "code",
   "execution_count": null,
   "metadata": {
    "collapsed": true
   },
   "outputs": [],
   "source": []
  },
  {
   "cell_type": "markdown",
   "metadata": {},
   "source": [
    "# 尝试港股"
   ]
  },
  {
   "cell_type": "code",
   "execution_count": 55,
   "metadata": {
    "collapsed": true
   },
   "outputs": [],
   "source": [
    "hk_df = get_asset_return(hk_df)"
   ]
  },
  {
   "cell_type": "code",
   "execution_count": 56,
   "metadata": {
    "collapsed": true
   },
   "outputs": [],
   "source": [
    "hk_df = get_factor(hk_df, book_to_price)"
   ]
  },
  {
   "cell_type": "code",
   "execution_count": 57,
   "metadata": {
    "collapsed": true
   },
   "outputs": [],
   "source": [
    "hk_df = get_factor(hk_df, earnings_to_price)"
   ]
  },
  {
   "cell_type": "code",
   "execution_count": 58,
   "metadata": {
    "collapsed": true
   },
   "outputs": [],
   "source": [
    "hk_df = get_factor(hk_df, cashflow_to_price)"
   ]
  },
  {
   "cell_type": "code",
   "execution_count": 59,
   "metadata": {
    "collapsed": true
   },
   "outputs": [],
   "source": [
    "hk_df = get_factor(hk_df, sales_to_enterprise)"
   ]
  },
  {
   "cell_type": "code",
   "execution_count": 60,
   "metadata": {
    "collapsed": true
   },
   "outputs": [],
   "source": [
    "factors = [book_to_price, earnings_to_price, cashflow_to_price, sales_to_enterprise]\n",
    "weights = [1, 1, 1, 1]"
   ]
  },
  {
   "cell_type": "code",
   "execution_count": 61,
   "metadata": {
    "collapsed": true
   },
   "outputs": [],
   "source": [
    "ranks = get_ranks(hk_df)"
   ]
  },
  {
   "cell_type": "code",
   "execution_count": 63,
   "metadata": {
    "collapsed": false
   },
   "outputs": [],
   "source": [
    "group_df = get_group_return(hk_df, factors, weights, years, ranks)"
   ]
  },
  {
   "cell_type": "code",
   "execution_count": 64,
   "metadata": {
    "collapsed": false
   },
   "outputs": [
    {
     "data": {
      "text/html": [
       "<div>\n",
       "<table border=\"1\" class=\"dataframe\">\n",
       "  <thead>\n",
       "    <tr style=\"text-align: right;\">\n",
       "      <th></th>\n",
       "      <th>2006 return</th>\n",
       "      <th>2007 return</th>\n",
       "      <th>2008 return</th>\n",
       "      <th>2009 return</th>\n",
       "      <th>2010 return</th>\n",
       "      <th>2011 return</th>\n",
       "      <th>2012 return</th>\n",
       "      <th>2013 return</th>\n",
       "      <th>2014 return</th>\n",
       "      <th>2015 return</th>\n",
       "      <th>2016 return</th>\n",
       "    </tr>\n",
       "  </thead>\n",
       "  <tbody>\n",
       "    <tr>\n",
       "      <th>1</th>\n",
       "      <td>0.744535</td>\n",
       "      <td>0.214120</td>\n",
       "      <td>-0.572021</td>\n",
       "      <td>0.368132</td>\n",
       "      <td>0.011486</td>\n",
       "      <td>-0.214144</td>\n",
       "      <td>0.233222</td>\n",
       "      <td>0.269726</td>\n",
       "      <td>-0.108203</td>\n",
       "      <td>0.060267</td>\n",
       "      <td>0.058958</td>\n",
       "    </tr>\n",
       "    <tr>\n",
       "      <th>2</th>\n",
       "      <td>0.145912</td>\n",
       "      <td>0.481753</td>\n",
       "      <td>-0.583149</td>\n",
       "      <td>0.559339</td>\n",
       "      <td>0.078963</td>\n",
       "      <td>-0.226198</td>\n",
       "      <td>0.169787</td>\n",
       "      <td>0.405917</td>\n",
       "      <td>-0.024344</td>\n",
       "      <td>-0.160272</td>\n",
       "      <td>-0.019107</td>\n",
       "    </tr>\n",
       "    <tr>\n",
       "      <th>3</th>\n",
       "      <td>0.499137</td>\n",
       "      <td>0.471149</td>\n",
       "      <td>-0.520250</td>\n",
       "      <td>1.411913</td>\n",
       "      <td>0.142432</td>\n",
       "      <td>-0.435526</td>\n",
       "      <td>0.196006</td>\n",
       "      <td>-0.100526</td>\n",
       "      <td>0.062867</td>\n",
       "      <td>-0.009524</td>\n",
       "      <td>-0.067866</td>\n",
       "    </tr>\n",
       "    <tr>\n",
       "      <th>4</th>\n",
       "      <td>0.391787</td>\n",
       "      <td>0.503196</td>\n",
       "      <td>-0.557549</td>\n",
       "      <td>0.751840</td>\n",
       "      <td>0.148867</td>\n",
       "      <td>-0.113068</td>\n",
       "      <td>0.198174</td>\n",
       "      <td>0.017316</td>\n",
       "      <td>0.029287</td>\n",
       "      <td>-0.075689</td>\n",
       "      <td>-0.092508</td>\n",
       "    </tr>\n",
       "    <tr>\n",
       "      <th>5</th>\n",
       "      <td>0.373656</td>\n",
       "      <td>0.453564</td>\n",
       "      <td>-0.456744</td>\n",
       "      <td>0.821676</td>\n",
       "      <td>0.169209</td>\n",
       "      <td>-0.129451</td>\n",
       "      <td>0.209667</td>\n",
       "      <td>-0.076393</td>\n",
       "      <td>-0.051277</td>\n",
       "      <td>-0.175240</td>\n",
       "      <td>0.111510</td>\n",
       "    </tr>\n",
       "  </tbody>\n",
       "</table>\n",
       "</div>"
      ],
      "text/plain": [
       "   2006 return  2007 return  2008 return  2009 return  2010 return  \\\n",
       "1     0.744535     0.214120    -0.572021     0.368132     0.011486   \n",
       "2     0.145912     0.481753    -0.583149     0.559339     0.078963   \n",
       "3     0.499137     0.471149    -0.520250     1.411913     0.142432   \n",
       "4     0.391787     0.503196    -0.557549     0.751840     0.148867   \n",
       "5     0.373656     0.453564    -0.456744     0.821676     0.169209   \n",
       "\n",
       "   2011 return  2012 return  2013 return  2014 return  2015 return  \\\n",
       "1    -0.214144     0.233222     0.269726    -0.108203     0.060267   \n",
       "2    -0.226198     0.169787     0.405917    -0.024344    -0.160272   \n",
       "3    -0.435526     0.196006    -0.100526     0.062867    -0.009524   \n",
       "4    -0.113068     0.198174     0.017316     0.029287    -0.075689   \n",
       "5    -0.129451     0.209667    -0.076393    -0.051277    -0.175240   \n",
       "\n",
       "   2016 return  \n",
       "1     0.058958  \n",
       "2    -0.019107  \n",
       "3    -0.067866  \n",
       "4    -0.092508  \n",
       "5     0.111510  "
      ]
     },
     "execution_count": 64,
     "metadata": {},
     "output_type": "execute_result"
    }
   ],
   "source": [
    "group_df"
   ]
  },
  {
   "cell_type": "code",
   "execution_count": 67,
   "metadata": {
    "collapsed": true
   },
   "outputs": [],
   "source": [
    "res = group_df.mean(axis=1)\n",
    "data = pd.DataFrame({'group': res.index, 'return': res.values})"
   ]
  },
  {
   "cell_type": "code",
   "execution_count": 69,
   "metadata": {
    "collapsed": false
   },
   "outputs": [
    {
     "data": {
      "image/png": "[encoded data removed]",
      "text/plain": [
       "<matplotlib.figure.Figure at 0x1d03f1f0>"
      ]
     },
     "metadata": {},
     "output_type": "display_data"
    }
   ],
   "source": [
    "ax = sns.barplot(x='group', y='return', data=data, palette=\"Blues_d\")\n",
    "# vals = ax.get_yticks()\n",
    "# ax.set_yticklabels(['{:3.2f}%'.format(x*100) for x in vals])"
   ]
  },
  {
   "cell_type": "code",
   "execution_count": 70,
   "metadata": {
    "collapsed": true
   },
   "outputs": [],
   "source": [
    "group_df.to_excel(\"%s/hk_value.xlsx\"%(DATA_DIR))"
   ]
  },
  {
   "cell_type": "code",
   "execution_count": 71,
   "metadata": {
    "collapsed": true
   },
   "outputs": [],
   "source": [
    "for stock in hk_df.index:\n",
    "    data = w.wsd(stock, 'close', START_DATE, END_DATE)\n",
    "    df = wind2df(data)\n",
    "    df = df.resample('BMS').first()\n",
    "    df['return'] = df.pct_change()\n",
    "    df['avg return'] = df['return'].rolling(window=12).mean()\n",
    "    df = df.resample('BAS').first()\n",
    "    for ind in df.index[1:]:\n",
    "        year = ind.year\n",
    "        hk_df.loc[stock, \"%d momentum\"%(year)] = -df.loc[ind, \"avg return\"]"
   ]
  },
  {
   "cell_type": "code",
   "execution_count": 72,
   "metadata": {
    "collapsed": true
   },
   "outputs": [],
   "source": [
    "ranks = get_ranks(hk_df)"
   ]
  },
  {
   "cell_type": "code",
   "execution_count": 73,
   "metadata": {
    "collapsed": true
   },
   "outputs": [],
   "source": [
    "factors = [book_to_price, earnings_to_price, cashflow_to_price, sales_to_enterprise, \"momentum\"]\n",
    "weights = [1, 1, 1, 1, 4]"
   ]
  },
  {
   "cell_type": "code",
   "execution_count": 74,
   "metadata": {
    "collapsed": true
   },
   "outputs": [],
   "source": [
    "group_df = get_group_return(hk_df, factors, weights, years, ranks)"
   ]
  },
  {
   "cell_type": "code",
   "execution_count": 75,
   "metadata": {
    "collapsed": true
   },
   "outputs": [],
   "source": [
    "res = group_df.mean(axis=1)\n",
    "data = pd.DataFrame({'group': res.index, 'return': res.values})"
   ]
  },
  {
   "cell_type": "code",
   "execution_count": 76,
   "metadata": {
    "collapsed": false
   },
   "outputs": [
    {
     "data": {
      "image/png": "[encoded data removed]",
      "text/plain": [
       "<matplotlib.figure.Figure at 0x1d14f4d0>"
      ]
     },
     "metadata": {},
     "output_type": "display_data"
    }
   ],
   "source": [
    "ax = sns.barplot(x='group', y='return', data=data, palette=\"Blues_d\")"
   ]
  },
  {
   "cell_type": "markdown",
   "metadata": {},
   "source": [
    "# 尝试债券"
   ]
  },
  {
   "cell_type": "code",
   "execution_count": 542,
   "metadata": {
    "collapsed": true
   },
   "outputs": [],
   "source": [
    "bond_df = get_asset_return(bond_df, frequency='m')"
   ]
  },
  {
   "cell_type": "code",
   "execution_count": 552,
   "metadata": {
    "collapsed": false
   },
   "outputs": [],
   "source": [
    "for bond in bond_df.index:\n",
    "    data = w.wsd(bond, 'ytm_b', START_DATE, END_DATE, \"returnType=1\")\n",
    "    df = wind2df(data)\n",
    "    df = df.resample('M').last()\n",
    "    for i, ind in enumerate(df.index[:-1]):\n",
    "        year, month = df.index[i+1].year, df.index[i+1].month\n",
    "        if df.loc[ind, \"ytm_b\"] == None:\n",
    "            bond_df.loc[bond, \"%d-%d %s\"%(year, month, \"ytm_b\")] = df.loc[ind, \"ytm_b\"]\n",
    "        else:\n",
    "            bond_df.loc[bond, \"%d-%d %s\"%(year, month, \"ytm_b\")] = df.loc[ind, \"ytm_b\"] * -1.0"
   ]
  },
  {
   "cell_type": "code",
   "execution_count": 553,
   "metadata": {
    "collapsed": false
   },
   "outputs": [],
   "source": [
    "factors = [\"ytm_b\"]\n",
    "weights = [1]"
   ]
  },
  {
   "cell_type": "code",
   "execution_count": 554,
   "metadata": {
    "collapsed": false
   },
   "outputs": [],
   "source": [
    "ranks = get_ranks(bond_df)"
   ]
  },
  {
   "cell_type": "code",
   "execution_count": 555,
   "metadata": {
    "collapsed": false
   },
   "outputs": [],
   "source": [
    "group_df = get_group_return(bond_df, factors, weights, ranks)"
   ]
  },
  {
   "cell_type": "code",
   "execution_count": 556,
   "metadata": {
    "collapsed": false
   },
   "outputs": [
    {
     "data": {
      "text/html": [
       "<div>\n",
       "<table border=\"1\" class=\"dataframe\">\n",
       "  <thead>\n",
       "    <tr style=\"text-align: right;\">\n",
       "      <th></th>\n",
       "      <th>2007-8 return</th>\n",
       "      <th>2007-9 return</th>\n",
       "      <th>2007-4 return</th>\n",
       "      <th>2007-5 return</th>\n",
       "      <th>2007-6 return</th>\n",
       "      <th>2007-7 return</th>\n",
       "      <th>2007-1 return</th>\n",
       "      <th>2007-2 return</th>\n",
       "      <th>2007-3 return</th>\n",
       "      <th>2015-11 return</th>\n",
       "      <th>...</th>\n",
       "      <th>2009-11 return</th>\n",
       "      <th>2009-12 return</th>\n",
       "      <th>2008-4 return</th>\n",
       "      <th>2013-7 return</th>\n",
       "      <th>2013-6 return</th>\n",
       "      <th>2008-9 return</th>\n",
       "      <th>2008-8 return</th>\n",
       "      <th>2013-3 return</th>\n",
       "      <th>2013-2 return</th>\n",
       "      <th>2013-1 return</th>\n",
       "    </tr>\n",
       "  </thead>\n",
       "  <tbody>\n",
       "    <tr>\n",
       "      <th>1</th>\n",
       "      <td>0.003499</td>\n",
       "      <td>-0.001404</td>\n",
       "      <td>-0.001262</td>\n",
       "      <td>-0.005428</td>\n",
       "      <td>-0.005097</td>\n",
       "      <td>0.004649</td>\n",
       "      <td>0.003071</td>\n",
       "      <td>0.001173</td>\n",
       "      <td>-0.000069</td>\n",
       "      <td>0.001083</td>\n",
       "      <td>...</td>\n",
       "      <td>0.002227</td>\n",
       "      <td>0.002239</td>\n",
       "      <td>0.001654</td>\n",
       "      <td>-0.005522</td>\n",
       "      <td>-0.003253</td>\n",
       "      <td>0.021375</td>\n",
       "      <td>0.010576</td>\n",
       "      <td>0.003631</td>\n",
       "      <td>0.003297</td>\n",
       "      <td>0.004325</td>\n",
       "    </tr>\n",
       "    <tr>\n",
       "      <th>2</th>\n",
       "      <td>0.005498</td>\n",
       "      <td>-0.005633</td>\n",
       "      <td>-0.001543</td>\n",
       "      <td>-0.002164</td>\n",
       "      <td>-0.023448</td>\n",
       "      <td>-0.011292</td>\n",
       "      <td>0.002672</td>\n",
       "      <td>0.001595</td>\n",
       "      <td>-0.001575</td>\n",
       "      <td>0.000557</td>\n",
       "      <td>...</td>\n",
       "      <td>0.009224</td>\n",
       "      <td>0.006044</td>\n",
       "      <td>0.002698</td>\n",
       "      <td>0.001194</td>\n",
       "      <td>-0.003415</td>\n",
       "      <td>0.035516</td>\n",
       "      <td>0.009264</td>\n",
       "      <td>0.003571</td>\n",
       "      <td>0.006131</td>\n",
       "      <td>0.006994</td>\n",
       "    </tr>\n",
       "    <tr>\n",
       "      <th>3</th>\n",
       "      <td>0.001694</td>\n",
       "      <td>-0.010224</td>\n",
       "      <td>-0.001138</td>\n",
       "      <td>-0.014864</td>\n",
       "      <td>-0.034063</td>\n",
       "      <td>-0.011557</td>\n",
       "      <td>NaN</td>\n",
       "      <td>0.004444</td>\n",
       "      <td>-0.001480</td>\n",
       "      <td>-0.001145</td>\n",
       "      <td>...</td>\n",
       "      <td>0.007553</td>\n",
       "      <td>0.011557</td>\n",
       "      <td>0.004581</td>\n",
       "      <td>-0.002892</td>\n",
       "      <td>-0.002357</td>\n",
       "      <td>0.048877</td>\n",
       "      <td>0.005802</td>\n",
       "      <td>0.004278</td>\n",
       "      <td>0.010139</td>\n",
       "      <td>0.011636</td>\n",
       "    </tr>\n",
       "    <tr>\n",
       "      <th>4</th>\n",
       "      <td>0.002578</td>\n",
       "      <td>-0.002349</td>\n",
       "      <td>0.001166</td>\n",
       "      <td>-0.004457</td>\n",
       "      <td>-0.023407</td>\n",
       "      <td>-0.006356</td>\n",
       "      <td>0.001953</td>\n",
       "      <td>0.002213</td>\n",
       "      <td>0.000822</td>\n",
       "      <td>0.000501</td>\n",
       "      <td>...</td>\n",
       "      <td>0.003860</td>\n",
       "      <td>0.006690</td>\n",
       "      <td>0.003688</td>\n",
       "      <td>0.000744</td>\n",
       "      <td>0.000979</td>\n",
       "      <td>0.023893</td>\n",
       "      <td>0.005836</td>\n",
       "      <td>0.004000</td>\n",
       "      <td>0.007065</td>\n",
       "      <td>0.007493</td>\n",
       "    </tr>\n",
       "    <tr>\n",
       "      <th>5</th>\n",
       "      <td>NaN</td>\n",
       "      <td>NaN</td>\n",
       "      <td>NaN</td>\n",
       "      <td>NaN</td>\n",
       "      <td>NaN</td>\n",
       "      <td>NaN</td>\n",
       "      <td>NaN</td>\n",
       "      <td>NaN</td>\n",
       "      <td>NaN</td>\n",
       "      <td>0.002296</td>\n",
       "      <td>...</td>\n",
       "      <td>NaN</td>\n",
       "      <td>NaN</td>\n",
       "      <td>NaN</td>\n",
       "      <td>NaN</td>\n",
       "      <td>NaN</td>\n",
       "      <td>NaN</td>\n",
       "      <td>NaN</td>\n",
       "      <td>NaN</td>\n",
       "      <td>NaN</td>\n",
       "      <td>NaN</td>\n",
       "    </tr>\n",
       "  </tbody>\n",
       "</table>\n",
       "<p>5 rows × 143 columns</p>\n",
       "</div>"
      ],
      "text/plain": [
       "   2007-8 return  2007-9 return  2007-4 return  2007-5 return  2007-6 return  \\\n",
       "1       0.003499      -0.001404      -0.001262      -0.005428      -0.005097   \n",
       "2       0.005498      -0.005633      -0.001543      -0.002164      -0.023448   \n",
       "3       0.001694      -0.010224      -0.001138      -0.014864      -0.034063   \n",
       "4       0.002578      -0.002349       0.001166      -0.004457      -0.023407   \n",
       "5            NaN            NaN            NaN            NaN            NaN   \n",
       "\n",
       "   2007-7 return  2007-1 return  2007-2 return  2007-3 return  2015-11 return  \\\n",
       "1       0.004649       0.003071       0.001173      -0.000069        0.001083   \n",
       "2      -0.011292       0.002672       0.001595      -0.001575        0.000557   \n",
       "3      -0.011557            NaN       0.004444      -0.001480       -0.001145   \n",
       "4      -0.006356       0.001953       0.002213       0.000822        0.000501   \n",
       "5            NaN            NaN            NaN            NaN        0.002296   \n",
       "\n",
       "       ...        2009-11 return  2009-12 return  2008-4 return  \\\n",
       "1      ...              0.002227        0.002239       0.001654   \n",
       "2      ...              0.009224        0.006044       0.002698   \n",
       "3      ...              0.007553        0.011557       0.004581   \n",
       "4      ...              0.003860        0.006690       0.003688   \n",
       "5      ...                   NaN             NaN            NaN   \n",
       "\n",
       "   2013-7 return  2013-6 return  2008-9 return  2008-8 return  2013-3 return  \\\n",
       "1      -0.005522      -0.003253       0.021375       0.010576       0.003631   \n",
       "2       0.001194      -0.003415       0.035516       0.009264       0.003571   \n",
       "3      -0.002892      -0.002357       0.048877       0.005802       0.004278   \n",
       "4       0.000744       0.000979       0.023893       0.005836       0.004000   \n",
       "5            NaN            NaN            NaN            NaN            NaN   \n",
       "\n",
       "   2013-2 return  2013-1 return  \n",
       "1       0.003297       0.004325  \n",
       "2       0.006131       0.006994  \n",
       "3       0.010139       0.011636  \n",
       "4       0.007065       0.007493  \n",
       "5            NaN            NaN  \n",
       "\n",
       "[5 rows x 143 columns]"
      ]
     },
     "execution_count": 556,
     "metadata": {},
     "output_type": "execute_result"
    }
   ],
   "source": [
    "group_df"
   ]
  },
  {
   "cell_type": "code",
   "execution_count": 558,
   "metadata": {
    "collapsed": false
   },
   "outputs": [],
   "source": [
    "res = group_df.mean(axis=1)\n",
    "data = pd.DataFrame({'group': res.index, 'return': res.values})"
   ]
  },
  {
   "cell_type": "code",
   "execution_count": 559,
   "metadata": {
    "collapsed": false
   },
   "outputs": [
    {
     "data": {
      "image/png": "[encoded data removed]",
      "text/plain": [
       "<matplotlib.figure.Figure at 0x20bc4910>"
      ]
     },
     "metadata": {},
     "output_type": "display_data"
    }
   ],
   "source": [
    "ax = sns.barplot(x='group', y='return', data=data, palette=\"Blues_d\")\n",
    "# vals = ax.get_yticks()\n",
    "# ax.set_yticklabels(['{:3.2f}%'.format(x*100) for x in vals])"
   ]
  },
  {
   "cell_type": "code",
   "execution_count": 569,
   "metadata": {
    "collapsed": true
   },
   "outputs": [],
   "source": [
    "start_year = 2012\n",
    "year_feature = []\n",
    "for year in range(start_year, 2017):\n",
    "    year_feature += [\"%d-%d return\"%(year, month) for month in range(1, 13)]"
   ]
  },
  {
   "cell_type": "code",
   "execution_count": 570,
   "metadata": {
    "collapsed": true
   },
   "outputs": [],
   "source": [
    "res = group_df[year_feature].mean(axis=1)\n",
    "data = pd.DataFrame({'group': res.index, 'return': res.values})"
   ]
  },
  {
   "cell_type": "code",
   "execution_count": 571,
   "metadata": {
    "collapsed": false
   },
   "outputs": [
    {
     "data": {
      "image/png": "[encoded data removed]",
      "text/plain": [
       "<matplotlib.figure.Figure at 0x20c7b630>"
      ]
     },
     "metadata": {},
     "output_type": "display_data"
    }
   ],
   "source": [
    "ax = sns.barplot(x='group', y='return', data=data, palette=\"Blues_d\")\n",
    "# vals = ax.get_yticks()\n",
    "# ax.set_yticklabels(['{:3.2f}%'.format(x*100) for x in vals])"
   ]
  },
  {
   "cell_type": "code",
   "execution_count": 94,
   "metadata": {
    "collapsed": true
   },
   "outputs": [],
   "source": [
    "group_df.to_excel(\"%s/bond_value.xlsx\"%(DATA_DIR))"
   ]
  },
  {
   "cell_type": "markdown",
   "metadata": {},
   "source": [
    "# 尝试某一行业"
   ]
  },
  {
   "cell_type": "code",
   "execution_count": 587,
   "metadata": {
    "collapsed": false
   },
   "outputs": [],
   "source": [
    "ind_df = pd.read_excel(u\"%s/CS家电.xlsx\"%(DATA_DIR))"
   ]
  },
  {
   "cell_type": "code",
   "execution_count": 588,
   "metadata": {
    "collapsed": false
   },
   "outputs": [],
   "source": [
    "ind_df.drop(ind_df.index[-2:], inplace=True)"
   ]
  },
  {
   "cell_type": "code",
   "execution_count": 589,
   "metadata": {
    "collapsed": true
   },
   "outputs": [],
   "source": [
    "ind_df.set_index('code', inplace=True)"
   ]
  },
  {
   "cell_type": "code",
   "execution_count": 590,
   "metadata": {
    "collapsed": true
   },
   "outputs": [],
   "source": [
    "ind_df = get_asset_return(ind_df, frequency='m')"
   ]
  },
  {
   "cell_type": "code",
   "execution_count": 592,
   "metadata": {
    "collapsed": false
   },
   "outputs": [],
   "source": [
    "ind_df = get_factor(ind_df, book_to_price, frequency='m')"
   ]
  },
  {
   "cell_type": "code",
   "execution_count": 594,
   "metadata": {
    "collapsed": true
   },
   "outputs": [],
   "source": [
    "ind_df = get_factor(ind_df, earnings_to_price, frequency='m')"
   ]
  },
  {
   "cell_type": "code",
   "execution_count": 620,
   "metadata": {
    "collapsed": true
   },
   "outputs": [],
   "source": [
    "ind_df = get_factor(ind_df, cashflow_to_price, frequency='m')"
   ]
  },
  {
   "cell_type": "code",
   "execution_count": 621,
   "metadata": {
    "collapsed": true
   },
   "outputs": [],
   "source": [
    "ind_df = get_factor(ind_df, sales_to_enterprise, frequency='m')"
   ]
  },
  {
   "cell_type": "code",
   "execution_count": 634,
   "metadata": {
    "collapsed": false
   },
   "outputs": [
    {
     "name": "stdout",
     "output_type": "stream",
     "text": [
      "                              outmessage  return  avg return\n",
      "2017-03-31  CWSDService: quota exceeded.     NaN         NaN\n",
      "                              outmessage  return  avg return\n",
      "2017-03-31  CWSDService: quota exceeded.     NaN         NaN\n",
      "                              outmessage  return  avg return\n",
      "2017-03-31  CWSDService: quota exceeded.     NaN         NaN\n",
      "                              outmessage  return  avg return\n",
      "2017-03-31  CWSDService: quota exceeded.     NaN         NaN\n",
      "                              outmessage  return  avg return\n",
      "2017-03-31  CWSDService: quota exceeded.     NaN         NaN\n",
      "                              outmessage  return  avg return\n",
      "2017-03-31  CWSDService: quota exceeded.     NaN         NaN\n",
      "                              outmessage  return  avg return\n",
      "2017-03-31  CWSDService: quota exceeded.     NaN         NaN\n",
      "                              outmessage  return  avg return\n",
      "2017-03-31  CWSDService: quota exceeded.     NaN         NaN\n",
      "                              outmessage  return  avg return\n",
      "2017-03-31  CWSDService: quota exceeded.     NaN         NaN\n",
      "                              outmessage  return  avg return\n",
      "2017-03-31  CWSDService: quota exceeded.     NaN         NaN\n",
      "                              outmessage  return  avg return\n",
      "2017-03-31  CWSDService: quota exceeded.     NaN         NaN\n",
      "                              outmessage  return  avg return\n",
      "2017-03-31  CWSDService: quota exceeded.     NaN         NaN\n",
      "                              outmessage  return  avg return\n",
      "2017-03-31  CWSDService: quota exceeded.     NaN         NaN\n"
     ]
    }
   ],
   "source": [
    "for stock in ind_df.index:\n",
    "    data = w.wsd(stock, 'close', START_DATE, END_DATE)\n",
    "    df = wind2df(data)\n",
    "    df['return'] = df.pct_change()\n",
    "    df['avg return'] = df['return'].rolling(window=30).mean()\n",
    "    df = df.resample('M').first()\n",
    "    for i, ind in enumerate(df.index[:-1]):\n",
    "        year, month = df.index[i+1].year, df.index[i+1].month\n",
    "        ind_df.loc[stock, \"%d-%d momentum\"%(year, month)] = -df.loc[ind, \"avg return\"]"
   ]
  },
  {
   "cell_type": "code",
   "execution_count": 624,
   "metadata": {
    "collapsed": false
   },
   "outputs": [],
   "source": [
    "ind_df = ind_df.dropna()"
   ]
  },
  {
   "cell_type": "code",
   "execution_count": 629,
   "metadata": {
    "collapsed": true
   },
   "outputs": [],
   "source": [
    "ranks = get_ranks(ind_df)"
   ]
  },
  {
   "cell_type": "code",
   "execution_count": 630,
   "metadata": {
    "collapsed": false
   },
   "outputs": [],
   "source": [
    "factors = [book_to_price, earnings_to_price, cashflow_to_price, sales_to_enterprise, \"momentum\"]\n",
    "weights = [1, 1, 1, 1, 4]"
   ]
  },
  {
   "cell_type": "code",
   "execution_count": 631,
   "metadata": {
    "collapsed": false
   },
   "outputs": [
    {
     "ename": "KeyError",
     "evalue": "\"['2007-8 pcf_ocf_ttm' '2007-8 ps_ttm' '2007-8 momentum'] not in index\"",
     "output_type": "error",
     "traceback": [
      "\u001b[0;31m---------------------------------------------------------------------------\u001b[0m",
      "\u001b[0;31mKeyError\u001b[0m                                  Traceback (most recent call last)",
      "\u001b[0;32m<ipython-input-631-e00cc41c65ad>\u001b[0m in \u001b[0;36m<module>\u001b[0;34m()\u001b[0m\n\u001b[0;32m----> 1\u001b[0;31m \u001b[0mgroup_df\u001b[0m \u001b[1;33m=\u001b[0m \u001b[0mget_group_return\u001b[0m\u001b[1;33m(\u001b[0m\u001b[0mind_df\u001b[0m\u001b[1;33m,\u001b[0m \u001b[0mfactors\u001b[0m\u001b[1;33m,\u001b[0m \u001b[0mweights\u001b[0m\u001b[1;33m,\u001b[0m \u001b[0mranks\u001b[0m\u001b[1;33m)\u001b[0m\u001b[1;33m\u001b[0m\u001b[0m\n\u001b[0m",
      "\u001b[0;32m<ipython-input-18-5d532fdb36ef>\u001b[0m in \u001b[0;36mget_group_return\u001b[0;34m(asset_df, factors, weights, ranks)\u001b[0m\n\u001b[1;32m     10\u001b[0m         \u001b[0mrcol\u001b[0m \u001b[1;33m=\u001b[0m \u001b[1;34m\"%s return\"\u001b[0m\u001b[1;33m%\u001b[0m\u001b[1;33m(\u001b[0m\u001b[0mfreq\u001b[0m\u001b[1;33m)\u001b[0m\u001b[1;33m\u001b[0m\u001b[0m\n\u001b[1;32m     11\u001b[0m         \u001b[0mfeatures\u001b[0m\u001b[1;33m.\u001b[0m\u001b[0mappend\u001b[0m\u001b[1;33m(\u001b[0m\u001b[0mrcol\u001b[0m\u001b[1;33m)\u001b[0m\u001b[1;33m\u001b[0m\u001b[0m\n\u001b[0;32m---> 12\u001b[0;31m         \u001b[0mdf\u001b[0m \u001b[1;33m=\u001b[0m \u001b[0masset_df\u001b[0m\u001b[1;33m[\u001b[0m\u001b[0mfeatures\u001b[0m\u001b[1;33m]\u001b[0m\u001b[1;33m\u001b[0m\u001b[0m\n\u001b[0m\u001b[1;32m     13\u001b[0m         \u001b[1;32mfor\u001b[0m \u001b[0mf\u001b[0m\u001b[1;33m,\u001b[0m \u001b[0mw\u001b[0m \u001b[1;32min\u001b[0m \u001b[0mzip\u001b[0m\u001b[1;33m(\u001b[0m\u001b[0mfactors\u001b[0m\u001b[1;33m,\u001b[0m \u001b[0mweights\u001b[0m\u001b[1;33m)\u001b[0m\u001b[1;33m:\u001b[0m\u001b[1;33m\u001b[0m\u001b[0m\n\u001b[1;32m     14\u001b[0m             \u001b[0mdf\u001b[0m \u001b[1;33m=\u001b[0m \u001b[0mdf\u001b[0m\u001b[1;33m.\u001b[0m\u001b[0msort_values\u001b[0m\u001b[1;33m(\u001b[0m\u001b[0mby\u001b[0m\u001b[1;33m=\u001b[0m\u001b[1;34m\"%s %s\"\u001b[0m\u001b[1;33m%\u001b[0m\u001b[1;33m(\u001b[0m\u001b[0mfreq\u001b[0m\u001b[1;33m,\u001b[0m \u001b[0mf\u001b[0m\u001b[1;33m)\u001b[0m\u001b[1;33m,\u001b[0m \u001b[0mascending\u001b[0m\u001b[1;33m=\u001b[0m\u001b[0mFalse\u001b[0m\u001b[1;33m)\u001b[0m \u001b[1;31m# 值越小越有价值\u001b[0m\u001b[1;33m\u001b[0m\u001b[0m\n",
      "\u001b[0;32mC:\\Users\\jgtzsx01\\AppData\\Local\\Continuum\\Anaconda2\\lib\\site-packages\\pandas\\core\\frame.pyc\u001b[0m in \u001b[0;36m__getitem__\u001b[0;34m(self, key)\u001b[0m\n\u001b[1;32m   2051\u001b[0m         \u001b[1;32mif\u001b[0m \u001b[0misinstance\u001b[0m\u001b[1;33m(\u001b[0m\u001b[0mkey\u001b[0m\u001b[1;33m,\u001b[0m \u001b[1;33m(\u001b[0m\u001b[0mSeries\u001b[0m\u001b[1;33m,\u001b[0m \u001b[0mnp\u001b[0m\u001b[1;33m.\u001b[0m\u001b[0mndarray\u001b[0m\u001b[1;33m,\u001b[0m \u001b[0mIndex\u001b[0m\u001b[1;33m,\u001b[0m \u001b[0mlist\u001b[0m\u001b[1;33m)\u001b[0m\u001b[1;33m)\u001b[0m\u001b[1;33m:\u001b[0m\u001b[1;33m\u001b[0m\u001b[0m\n\u001b[1;32m   2052\u001b[0m             \u001b[1;31m# either boolean or fancy integer index\u001b[0m\u001b[1;33m\u001b[0m\u001b[1;33m\u001b[0m\u001b[0m\n\u001b[0;32m-> 2053\u001b[0;31m             \u001b[1;32mreturn\u001b[0m \u001b[0mself\u001b[0m\u001b[1;33m.\u001b[0m\u001b[0m_getitem_array\u001b[0m\u001b[1;33m(\u001b[0m\u001b[0mkey\u001b[0m\u001b[1;33m)\u001b[0m\u001b[1;33m\u001b[0m\u001b[0m\n\u001b[0m\u001b[1;32m   2054\u001b[0m         \u001b[1;32melif\u001b[0m \u001b[0misinstance\u001b[0m\u001b[1;33m(\u001b[0m\u001b[0mkey\u001b[0m\u001b[1;33m,\u001b[0m \u001b[0mDataFrame\u001b[0m\u001b[1;33m)\u001b[0m\u001b[1;33m:\u001b[0m\u001b[1;33m\u001b[0m\u001b[0m\n\u001b[1;32m   2055\u001b[0m             \u001b[1;32mreturn\u001b[0m \u001b[0mself\u001b[0m\u001b[1;33m.\u001b[0m\u001b[0m_getitem_frame\u001b[0m\u001b[1;33m(\u001b[0m\u001b[0mkey\u001b[0m\u001b[1;33m)\u001b[0m\u001b[1;33m\u001b[0m\u001b[0m\n",
      "\u001b[0;32mC:\\Users\\jgtzsx01\\AppData\\Local\\Continuum\\Anaconda2\\lib\\site-packages\\pandas\\core\\frame.pyc\u001b[0m in \u001b[0;36m_getitem_array\u001b[0;34m(self, key)\u001b[0m\n\u001b[1;32m   2095\u001b[0m             \u001b[1;32mreturn\u001b[0m \u001b[0mself\u001b[0m\u001b[1;33m.\u001b[0m\u001b[0mtake\u001b[0m\u001b[1;33m(\u001b[0m\u001b[0mindexer\u001b[0m\u001b[1;33m,\u001b[0m \u001b[0maxis\u001b[0m\u001b[1;33m=\u001b[0m\u001b[1;36m0\u001b[0m\u001b[1;33m,\u001b[0m \u001b[0mconvert\u001b[0m\u001b[1;33m=\u001b[0m\u001b[0mFalse\u001b[0m\u001b[1;33m)\u001b[0m\u001b[1;33m\u001b[0m\u001b[0m\n\u001b[1;32m   2096\u001b[0m         \u001b[1;32melse\u001b[0m\u001b[1;33m:\u001b[0m\u001b[1;33m\u001b[0m\u001b[0m\n\u001b[0;32m-> 2097\u001b[0;31m             \u001b[0mindexer\u001b[0m \u001b[1;33m=\u001b[0m \u001b[0mself\u001b[0m\u001b[1;33m.\u001b[0m\u001b[0mix\u001b[0m\u001b[1;33m.\u001b[0m\u001b[0m_convert_to_indexer\u001b[0m\u001b[1;33m(\u001b[0m\u001b[0mkey\u001b[0m\u001b[1;33m,\u001b[0m \u001b[0maxis\u001b[0m\u001b[1;33m=\u001b[0m\u001b[1;36m1\u001b[0m\u001b[1;33m)\u001b[0m\u001b[1;33m\u001b[0m\u001b[0m\n\u001b[0m\u001b[1;32m   2098\u001b[0m             \u001b[1;32mreturn\u001b[0m \u001b[0mself\u001b[0m\u001b[1;33m.\u001b[0m\u001b[0mtake\u001b[0m\u001b[1;33m(\u001b[0m\u001b[0mindexer\u001b[0m\u001b[1;33m,\u001b[0m \u001b[0maxis\u001b[0m\u001b[1;33m=\u001b[0m\u001b[1;36m1\u001b[0m\u001b[1;33m,\u001b[0m \u001b[0mconvert\u001b[0m\u001b[1;33m=\u001b[0m\u001b[0mTrue\u001b[0m\u001b[1;33m)\u001b[0m\u001b[1;33m\u001b[0m\u001b[0m\n\u001b[1;32m   2099\u001b[0m \u001b[1;33m\u001b[0m\u001b[0m\n",
      "\u001b[0;32mC:\\Users\\jgtzsx01\\AppData\\Local\\Continuum\\Anaconda2\\lib\\site-packages\\pandas\\core\\indexing.pyc\u001b[0m in \u001b[0;36m_convert_to_indexer\u001b[0;34m(self, obj, axis, is_setter)\u001b[0m\n\u001b[1;32m   1228\u001b[0m                 \u001b[0mmask\u001b[0m \u001b[1;33m=\u001b[0m \u001b[0mcheck\u001b[0m \u001b[1;33m==\u001b[0m \u001b[1;33m-\u001b[0m\u001b[1;36m1\u001b[0m\u001b[1;33m\u001b[0m\u001b[0m\n\u001b[1;32m   1229\u001b[0m                 \u001b[1;32mif\u001b[0m \u001b[0mmask\u001b[0m\u001b[1;33m.\u001b[0m\u001b[0many\u001b[0m\u001b[1;33m(\u001b[0m\u001b[1;33m)\u001b[0m\u001b[1;33m:\u001b[0m\u001b[1;33m\u001b[0m\u001b[0m\n\u001b[0;32m-> 1230\u001b[0;31m                     \u001b[1;32mraise\u001b[0m \u001b[0mKeyError\u001b[0m\u001b[1;33m(\u001b[0m\u001b[1;34m'%s not in index'\u001b[0m \u001b[1;33m%\u001b[0m \u001b[0mobjarr\u001b[0m\u001b[1;33m[\u001b[0m\u001b[0mmask\u001b[0m\u001b[1;33m]\u001b[0m\u001b[1;33m)\u001b[0m\u001b[1;33m\u001b[0m\u001b[0m\n\u001b[0m\u001b[1;32m   1231\u001b[0m \u001b[1;33m\u001b[0m\u001b[0m\n\u001b[1;32m   1232\u001b[0m                 \u001b[1;32mreturn\u001b[0m \u001b[0m_values_from_object\u001b[0m\u001b[1;33m(\u001b[0m\u001b[0mindexer\u001b[0m\u001b[1;33m)\u001b[0m\u001b[1;33m\u001b[0m\u001b[0m\n",
      "\u001b[0;31mKeyError\u001b[0m: \"['2007-8 pcf_ocf_ttm' '2007-8 ps_ttm' '2007-8 momentum'] not in index\""
     ]
    }
   ],
   "source": [
    "group_df = get_group_return(ind_df, factors, weights, ranks)"
   ]
  },
  {
   "cell_type": "code",
   "execution_count": 127,
   "metadata": {
    "collapsed": false
   },
   "outputs": [
    {
     "data": {
      "text/html": [
       "<div>\n",
       "<table border=\"1\" class=\"dataframe\">\n",
       "  <thead>\n",
       "    <tr style=\"text-align: right;\">\n",
       "      <th></th>\n",
       "      <th>2006 return</th>\n",
       "      <th>2007 return</th>\n",
       "      <th>2008 return</th>\n",
       "      <th>2009 return</th>\n",
       "      <th>2010 return</th>\n",
       "      <th>2011 return</th>\n",
       "      <th>2012 return</th>\n",
       "      <th>2013 return</th>\n",
       "      <th>2014 return</th>\n",
       "      <th>2015 return</th>\n",
       "      <th>2016 return</th>\n",
       "    </tr>\n",
       "  </thead>\n",
       "  <tbody>\n",
       "    <tr>\n",
       "      <th>1</th>\n",
       "      <td>0.609074</td>\n",
       "      <td>1.018756</td>\n",
       "      <td>-0.622267</td>\n",
       "      <td>1.671185</td>\n",
       "      <td>0.243732</td>\n",
       "      <td>-0.319375</td>\n",
       "      <td>-0.313964</td>\n",
       "      <td>0.258294</td>\n",
       "      <td>0.385109</td>\n",
       "      <td>0.195003</td>\n",
       "      <td>-0.036678</td>\n",
       "    </tr>\n",
       "    <tr>\n",
       "      <th>2</th>\n",
       "      <td>0.082450</td>\n",
       "      <td>1.123733</td>\n",
       "      <td>-0.703987</td>\n",
       "      <td>1.200896</td>\n",
       "      <td>-0.052706</td>\n",
       "      <td>-0.406732</td>\n",
       "      <td>0.190612</td>\n",
       "      <td>0.387421</td>\n",
       "      <td>0.418729</td>\n",
       "      <td>0.363804</td>\n",
       "      <td>0.029208</td>\n",
       "    </tr>\n",
       "    <tr>\n",
       "      <th>3</th>\n",
       "      <td>0.777729</td>\n",
       "      <td>1.374818</td>\n",
       "      <td>-0.443217</td>\n",
       "      <td>1.460151</td>\n",
       "      <td>-0.191410</td>\n",
       "      <td>-0.286405</td>\n",
       "      <td>0.153129</td>\n",
       "      <td>0.220887</td>\n",
       "      <td>0.090856</td>\n",
       "      <td>0.452130</td>\n",
       "      <td>-0.147127</td>\n",
       "    </tr>\n",
       "    <tr>\n",
       "      <th>4</th>\n",
       "      <td>0.024180</td>\n",
       "      <td>1.255304</td>\n",
       "      <td>-0.480770</td>\n",
       "      <td>1.401106</td>\n",
       "      <td>0.298157</td>\n",
       "      <td>-0.520515</td>\n",
       "      <td>-0.060099</td>\n",
       "      <td>0.495962</td>\n",
       "      <td>0.187753</td>\n",
       "      <td>0.278960</td>\n",
       "      <td>0.112974</td>\n",
       "    </tr>\n",
       "    <tr>\n",
       "      <th>5</th>\n",
       "      <td>0.173021</td>\n",
       "      <td>2.025490</td>\n",
       "      <td>-0.645504</td>\n",
       "      <td>1.622898</td>\n",
       "      <td>0.061720</td>\n",
       "      <td>-0.434479</td>\n",
       "      <td>0.062563</td>\n",
       "      <td>0.180400</td>\n",
       "      <td>0.082978</td>\n",
       "      <td>0.271250</td>\n",
       "      <td>-0.072522</td>\n",
       "    </tr>\n",
       "  </tbody>\n",
       "</table>\n",
       "</div>"
      ],
      "text/plain": [
       "   2006 return  2007 return  2008 return  2009 return  2010 return  \\\n",
       "1     0.609074     1.018756    -0.622267     1.671185     0.243732   \n",
       "2     0.082450     1.123733    -0.703987     1.200896    -0.052706   \n",
       "3     0.777729     1.374818    -0.443217     1.460151    -0.191410   \n",
       "4     0.024180     1.255304    -0.480770     1.401106     0.298157   \n",
       "5     0.173021     2.025490    -0.645504     1.622898     0.061720   \n",
       "\n",
       "   2011 return  2012 return  2013 return  2014 return  2015 return  \\\n",
       "1    -0.319375    -0.313964     0.258294     0.385109     0.195003   \n",
       "2    -0.406732     0.190612     0.387421     0.418729     0.363804   \n",
       "3    -0.286405     0.153129     0.220887     0.090856     0.452130   \n",
       "4    -0.520515    -0.060099     0.495962     0.187753     0.278960   \n",
       "5    -0.434479     0.062563     0.180400     0.082978     0.271250   \n",
       "\n",
       "   2016 return  \n",
       "1    -0.036678  \n",
       "2     0.029208  \n",
       "3    -0.147127  \n",
       "4     0.112974  \n",
       "5    -0.072522  "
      ]
     },
     "execution_count": 127,
     "metadata": {},
     "output_type": "execute_result"
    }
   ],
   "source": [
    "group_df"
   ]
  },
  {
   "cell_type": "code",
   "execution_count": 128,
   "metadata": {
    "collapsed": false
   },
   "outputs": [],
   "source": [
    "res = group_df.mean(axis=1)\n",
    "data = pd.DataFrame({'group': res.index, 'return': res.values})"
   ]
  },
  {
   "cell_type": "code",
   "execution_count": 129,
   "metadata": {
    "collapsed": false
   },
   "outputs": [
    {
     "data": {
      "image/png": "[encoded data removed]",
      "text/plain": [
       "<matplotlib.figure.Figure at 0xc16b350>"
      ]
     },
     "metadata": {},
     "output_type": "display_data"
    }
   ],
   "source": [
    "ax = sns.barplot(x='group', y='return', data=data, palette=\"Blues_d\")"
   ]
  },
  {
   "cell_type": "code",
   "execution_count": null,
   "metadata": {
    "collapsed": true
   },
   "outputs": [],
   "source": []
  }
 ],
 "metadata": {
  "anaconda-cloud": {},
  "kernelspec": {
   "display_name": "Python [default]",
   "language": "python",
   "name": "python2"
  },
  "language_info": {
   "codemirror_mode": {
    "name": "ipython",
    "version": 2
   },
   "file_extension": ".py",
   "mimetype": "text/x-python",
   "name": "python",
   "nbconvert_exporter": "python",
   "pygments_lexer": "ipython2",
   "version": "2.7.12"
  }
 },
 "nbformat": 4,
 "nbformat_minor": 1
}
