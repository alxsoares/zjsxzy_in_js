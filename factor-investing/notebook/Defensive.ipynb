{
 "cells": [
  {
   "cell_type": "code",
   "execution_count": 1,
   "metadata": {
    "collapsed": true
   },
   "outputs": [],
   "source": [
    "from WindPy import w\n",
    "import pandas as pd\n",
    "import numpy as np\n",
    "import seaborn as sns\n",
    "import matplotlib.pyplot as plt\n",
    "from WindPy import w\n",
    "%matplotlib inline"
   ]
  },
  {
   "cell_type": "code",
   "execution_count": 2,
   "metadata": {
    "collapsed": true
   },
   "outputs": [],
   "source": [
    "sns.set_style(\"darkgrid\")"
   ]
  },
  {
   "cell_type": "code",
   "execution_count": 3,
   "metadata": {
    "collapsed": false
   },
   "outputs": [
    {
     "name": "stdout",
     "output_type": "stream",
     "text": [
      "Welcome to use Wind Quant API for Python (WindPy)!\n",
      "You can use w.menu to help yourself to create commands(WSD,WSS,WST,WSI,WSQ,...)!\n",
      "\n",
      "COPYRIGHT (C) 2016 WIND HONGHUI INFORMATION & TECHKNOLEWDGE CO., LTD. ALL RIGHTS RESERVED.\n",
      "IN NO CIRCUMSTANCE SHALL WIND BE RESPONSIBLE FOR ANY DAMAGES OR LOSSES CAUSED BY USING WIND QUANT API FOR Python.\n"
     ]
    },
    {
     "data": {
      "text/plain": [
       ".ErrorCode=0\n",
       ".Data=[OK!]"
      ]
     },
     "execution_count": 3,
     "metadata": {},
     "output_type": "execute_result"
    }
   ],
   "source": [
    "w.start()"
   ]
  },
  {
   "cell_type": "code",
   "execution_count": 4,
   "metadata": {
    "collapsed": true
   },
   "outputs": [],
   "source": [
    "DATA_DIR = \"C:/Users/jgtzsx01/Documents/workspace/data/factor-investing/\"\n",
    "STOCK_FILE = \"%s/stock.xlsx\"%(DATA_DIR)\n",
    "BOND_FILE = \"%s/bond.xlsx\"%(DATA_DIR)\n",
    "HK_FILE = \"%s/hk.xlsx\"%(DATA_DIR)\n",
    "START_DATE = \"2005-01-01\"\n",
    "END_DATE = \"2016-12-31\"\n",
    "years = [str(y) for y in range(int(START_DATE[:4])+1, int(END_DATE[:4])+1)]"
   ]
  },
  {
   "cell_type": "code",
   "execution_count": 5,
   "metadata": {
    "collapsed": true
   },
   "outputs": [],
   "source": [
    "stock_df = pd.read_excel(STOCK_FILE)"
   ]
  },
  {
   "cell_type": "code",
   "execution_count": 6,
   "metadata": {
    "collapsed": true
   },
   "outputs": [],
   "source": [
    "stock_df.set_index('code', inplace=True)"
   ]
  },
  {
   "cell_type": "code",
   "execution_count": 7,
   "metadata": {
    "collapsed": true
   },
   "outputs": [],
   "source": [
    "def wind2df(raw_data):\n",
    "    dic = {}\n",
    "    for data, field in zip(raw_data.Data, raw_data.Fields):\n",
    "        dic[str(field.lower())] = data\n",
    "    return pd.DataFrame(dic, index=raw_data.Times)"
   ]
  },
  {
   "cell_type": "code",
   "execution_count": 8,
   "metadata": {
    "collapsed": true
   },
   "outputs": [],
   "source": [
    "def get_ranks(asset_df, groups=5):\n",
    "    length = asset_df.shape[0]\n",
    "    leng_group = length / groups\n",
    "    if length % groups > groups / 2:\n",
    "        leng_group += 1\n",
    "    ranks = []\n",
    "    for i in range(1, groups):\n",
    "        ranks += [i]*leng_group\n",
    "    ranks += [groups]*(length-len(ranks))\n",
    "    return ranks"
   ]
  },
  {
   "cell_type": "code",
   "execution_count": 9,
   "metadata": {
    "collapsed": true
   },
   "outputs": [],
   "source": [
    "def get_asset_return(asset_df):\n",
    "    res_df = asset_df.copy()\n",
    "    for asset in asset_df.index:\n",
    "        data = w.wsd(asset, 'close', START_DATE, END_DATE)\n",
    "        df = wind2df(data)\n",
    "        df = df.resample('A').last()\n",
    "        df['return'] = df['close'].pct_change()\n",
    "        for ind in df.index[1:]:\n",
    "            year = ind.year\n",
    "            res_df.loc[asset, \"%d return\"%(year)] = df.loc[ind, 'return']\n",
    "    return res_df"
   ]
  },
  {
   "cell_type": "code",
   "execution_count": 10,
   "metadata": {
    "collapsed": true
   },
   "outputs": [],
   "source": [
    "def get_group_return(asset_df, factors, weights, years, ranks):\n",
    "    assert(len(factors) == len(weights))\n",
    "    weights = np.array(weights) * 1.0 / sum(weights)\n",
    "    ranks = np.array(ranks)\n",
    "    groups = max(ranks)\n",
    "    group_df = pd.DataFrame(index=range(1, groups+1))\n",
    "    for y in years:\n",
    "        features = [\"%s %s\"%(y, f) for f in factors]\n",
    "        rcol = \"%s return\"%(y)\n",
    "        features.append(rcol)\n",
    "        df = asset_df[features]\n",
    "        for f, w in zip(factors, weights):\n",
    "            df = df.sort_values(by=\"%s %s\"%(y, f), ascending=False) # 值越小越有价值\n",
    "            df['%s rank'%(f)] = ranks * w\n",
    "\n",
    "        features = [\"%s rank\"%(f) for f in factors]\n",
    "        df[\"sum rank\"] = df[features].sum(axis=1)\n",
    "        df = df.sort_values(by=\"sum rank\", ascending=True)\n",
    "        df[\"rank\"] = ranks\n",
    "\n",
    "        group_df[rcol] = df.groupby('rank').mean()[rcol]\n",
    "    return group_df"
   ]
  },
  {
   "cell_type": "markdown",
   "metadata": {},
   "source": [
    "# 添加各指数每年的收益率"
   ]
  },
  {
   "cell_type": "code",
   "execution_count": 11,
   "metadata": {
    "collapsed": true
   },
   "outputs": [],
   "source": [
    "stock_df = get_asset_return(stock_df)"
   ]
  },
  {
   "cell_type": "markdown",
   "metadata": {},
   "source": [
    "# 过去12个月年化波动率"
   ]
  },
  {
   "cell_type": "code",
   "execution_count": 21,
   "metadata": {
    "collapsed": true
   },
   "outputs": [],
   "source": [
    "for stock in stock_df.index:\n",
    "    data = w.wsd(stock, 'close', START_DATE, END_DATE)\n",
    "    df = wind2df(data)\n",
    "    df['return'] = df.pct_change()\n",
    "    df['volatility'] = df['return'].rolling(window=243).std() * np.sqrt(243)\n",
    "    df = df.resample('BAS').first()\n",
    "    for ind in df.index[1:]:\n",
    "        year = ind.year\n",
    "        stock_df.loc[stock, \"%d volatility\"%(year)] = df.loc[ind, \"volatility\"]"
   ]
  },
  {
   "cell_type": "code",
   "execution_count": 22,
   "metadata": {
    "collapsed": true
   },
   "outputs": [],
   "source": [
    "ranks = get_ranks(stock_df)"
   ]
  },
  {
   "cell_type": "code",
   "execution_count": 23,
   "metadata": {
    "collapsed": true
   },
   "outputs": [],
   "source": [
    "factors = [\"volatility\"]\n",
    "weights = [1]"
   ]
  },
  {
   "cell_type": "code",
   "execution_count": 24,
   "metadata": {
    "collapsed": true
   },
   "outputs": [],
   "source": [
    "group_df = get_group_return(stock_df, factors, weights, years, ranks)"
   ]
  },
  {
   "cell_type": "code",
   "execution_count": 28,
   "metadata": {
    "collapsed": false
   },
   "outputs": [
    {
     "data": {
      "text/html": [
       "<div>\n",
       "<table border=\"1\" class=\"dataframe\">\n",
       "  <thead>\n",
       "    <tr style=\"text-align: right;\">\n",
       "      <th></th>\n",
       "      <th>2006 return</th>\n",
       "      <th>2007 return</th>\n",
       "      <th>2008 return</th>\n",
       "      <th>2009 return</th>\n",
       "      <th>2010 return</th>\n",
       "      <th>2011 return</th>\n",
       "      <th>2012 return</th>\n",
       "      <th>2013 return</th>\n",
       "      <th>2014 return</th>\n",
       "      <th>2015 return</th>\n",
       "      <th>2016 return</th>\n",
       "    </tr>\n",
       "  </thead>\n",
       "  <tbody>\n",
       "    <tr>\n",
       "      <th>1</th>\n",
       "      <td>0.953243</td>\n",
       "      <td>1.643117</td>\n",
       "      <td>-0.675994</td>\n",
       "      <td>1.320603</td>\n",
       "      <td>0.088732</td>\n",
       "      <td>-0.332025</td>\n",
       "      <td>0.052351</td>\n",
       "      <td>0.099746</td>\n",
       "      <td>0.621482</td>\n",
       "      <td>0.355242</td>\n",
       "      <td>-0.244027</td>\n",
       "    </tr>\n",
       "    <tr>\n",
       "      <th>2</th>\n",
       "      <td>0.965361</td>\n",
       "      <td>1.646391</td>\n",
       "      <td>-0.608933</td>\n",
       "      <td>1.179938</td>\n",
       "      <td>0.061114</td>\n",
       "      <td>-0.312081</td>\n",
       "      <td>0.068772</td>\n",
       "      <td>0.229314</td>\n",
       "      <td>0.438487</td>\n",
       "      <td>0.462185</td>\n",
       "      <td>-0.173733</td>\n",
       "    </tr>\n",
       "    <tr>\n",
       "      <th>3</th>\n",
       "      <td>0.808992</td>\n",
       "      <td>1.723779</td>\n",
       "      <td>-0.590080</td>\n",
       "      <td>1.306762</td>\n",
       "      <td>0.014354</td>\n",
       "      <td>-0.286490</td>\n",
       "      <td>0.006375</td>\n",
       "      <td>0.209603</td>\n",
       "      <td>0.355965</td>\n",
       "      <td>0.573433</td>\n",
       "      <td>-0.097178</td>\n",
       "    </tr>\n",
       "    <tr>\n",
       "      <th>4</th>\n",
       "      <td>0.794702</td>\n",
       "      <td>1.865626</td>\n",
       "      <td>-0.625758</td>\n",
       "      <td>0.963642</td>\n",
       "      <td>0.079119</td>\n",
       "      <td>-0.249520</td>\n",
       "      <td>-0.009711</td>\n",
       "      <td>0.151611</td>\n",
       "      <td>0.455335</td>\n",
       "      <td>0.815470</td>\n",
       "      <td>-0.126843</td>\n",
       "    </tr>\n",
       "    <tr>\n",
       "      <th>5</th>\n",
       "      <td>0.895264</td>\n",
       "      <td>1.912605</td>\n",
       "      <td>-0.551615</td>\n",
       "      <td>0.875854</td>\n",
       "      <td>0.023415</td>\n",
       "      <td>-0.236487</td>\n",
       "      <td>0.048613</td>\n",
       "      <td>0.082986</td>\n",
       "      <td>0.499075</td>\n",
       "      <td>0.383702</td>\n",
       "      <td>0.000813</td>\n",
       "    </tr>\n",
       "  </tbody>\n",
       "</table>\n",
       "</div>"
      ],
      "text/plain": [
       "   2006 return  2007 return  2008 return  2009 return  2010 return  \\\n",
       "1     0.953243     1.643117    -0.675994     1.320603     0.088732   \n",
       "2     0.965361     1.646391    -0.608933     1.179938     0.061114   \n",
       "3     0.808992     1.723779    -0.590080     1.306762     0.014354   \n",
       "4     0.794702     1.865626    -0.625758     0.963642     0.079119   \n",
       "5     0.895264     1.912605    -0.551615     0.875854     0.023415   \n",
       "\n",
       "   2011 return  2012 return  2013 return  2014 return  2015 return  \\\n",
       "1    -0.332025     0.052351     0.099746     0.621482     0.355242   \n",
       "2    -0.312081     0.068772     0.229314     0.438487     0.462185   \n",
       "3    -0.286490     0.006375     0.209603     0.355965     0.573433   \n",
       "4    -0.249520    -0.009711     0.151611     0.455335     0.815470   \n",
       "5    -0.236487     0.048613     0.082986     0.499075     0.383702   \n",
       "\n",
       "   2016 return  \n",
       "1    -0.244027  \n",
       "2    -0.173733  \n",
       "3    -0.097178  \n",
       "4    -0.126843  \n",
       "5     0.000813  "
      ]
     },
     "execution_count": 28,
     "metadata": {},
     "output_type": "execute_result"
    }
   ],
   "source": [
    "group_df"
   ]
  },
  {
   "cell_type": "code",
   "execution_count": 41,
   "metadata": {
    "collapsed": true
   },
   "outputs": [],
   "source": [
    "res = group_df.mean(axis=1)\n",
    "data = pd.DataFrame({'group': res.index, 'return': group_df['2013 return']})"
   ]
  },
  {
   "cell_type": "code",
   "execution_count": 42,
   "metadata": {
    "collapsed": false
   },
   "outputs": [
    {
     "data": {
      "image/png": "[encoded data removed]",
      "text/plain": [
       "<matplotlib.figure.Figure at 0x1d301df0>"
      ]
     },
     "metadata": {},
     "output_type": "display_data"
    }
   ],
   "source": [
    "ax = sns.barplot(x='group', y='return', data=data, palette=\"Blues_d\")"
   ]
  },
  {
   "cell_type": "code",
   "execution_count": 43,
   "metadata": {
    "collapsed": true
   },
   "outputs": [],
   "source": [
    "group_df.to_excel(\"%s/volatility.xlsx\"%(DATA_DIR))"
   ]
  },
  {
   "cell_type": "code",
   "execution_count": null,
   "metadata": {
    "collapsed": true
   },
   "outputs": [],
   "source": []
  }
 ],
 "metadata": {
  "anaconda-cloud": {},
  "kernelspec": {
   "display_name": "Python [default]",
   "language": "python",
   "name": "python2"
  },
  "language_info": {
   "codemirror_mode": {
    "name": "ipython",
    "version": 2
   },
   "file_extension": ".py",
   "mimetype": "text/x-python",
   "name": "python",
   "nbconvert_exporter": "python",
   "pygments_lexer": "ipython2",
   "version": "2.7.12"
  }
 },
 "nbformat": 4,
 "nbformat_minor": 1
}
