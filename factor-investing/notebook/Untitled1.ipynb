{
 "cells": [
  {
   "cell_type": "code",
   "execution_count": 104,
   "metadata": {
    "collapsed": true
   },
   "outputs": [],
   "source": [
    "import pandas as pd\n",
    "from WindPy import w\n",
    "import datetime\n",
    "import os"
   ]
  },
  {
   "cell_type": "code",
   "execution_count": 2,
   "metadata": {
    "collapsed": false
   },
   "outputs": [
    {
     "name": "stdout",
     "output_type": "stream",
     "text": [
      "Welcome to use Wind Quant API for Python (WindPy)!\n",
      "You can use w.menu to help yourself to create commands(WSD,WSS,WST,WSI,WSQ,...)!\n",
      "\n",
      "COPYRIGHT (C) 2016 WIND HONGHUI INFORMATION & TECHKNOLEWDGE CO., LTD. ALL RIGHTS RESERVED.\n",
      "IN NO CIRCUMSTANCE SHALL WIND BE RESPONSIBLE FOR ANY DAMAGES OR LOSSES CAUSED BY USING WIND QUANT API FOR Python.\n"
     ]
    },
    {
     "data": {
      "text/plain": [
       ".ErrorCode=0\n",
       ".Data=[OK!]"
      ]
     },
     "execution_count": 2,
     "metadata": {},
     "output_type": "execute_result"
    }
   ],
   "source": [
    "w.start()"
   ]
  },
  {
   "cell_type": "code",
   "execution_count": 6,
   "metadata": {
    "collapsed": true
   },
   "outputs": [],
   "source": [
    "DATA_DIR = \"D:/Data/Stocks\""
   ]
  },
  {
   "cell_type": "code",
   "execution_count": 7,
   "metadata": {
    "collapsed": true
   },
   "outputs": [],
   "source": [
    "code = \"000002.SZ\""
   ]
  },
  {
   "cell_type": "code",
   "execution_count": 8,
   "metadata": {
    "collapsed": false
   },
   "outputs": [],
   "source": [
    "df = pd.read_excel(\"%s/%s.xlsx\"%(DATA_DIR, code), index_col=0)"
   ]
  },
  {
   "cell_type": "code",
   "execution_count": 10,
   "metadata": {
    "collapsed": false
   },
   "outputs": [
    {
     "data": {
      "text/html": [
       "<div>\n",
       "<table border=\"1\" class=\"dataframe\">\n",
       "  <thead>\n",
       "    <tr style=\"text-align: right;\">\n",
       "      <th></th>\n",
       "      <th>amt</th>\n",
       "      <th>close</th>\n",
       "      <th>high</th>\n",
       "      <th>low</th>\n",
       "      <th>mkt_freeshares</th>\n",
       "      <th>open</th>\n",
       "      <th>vwap</th>\n",
       "      <th>turnover</th>\n",
       "    </tr>\n",
       "  </thead>\n",
       "  <tbody>\n",
       "    <tr>\n",
       "      <th>2017-03-08 00:00:00.005</th>\n",
       "      <td>1.358826e+09</td>\n",
       "      <td>20.72</td>\n",
       "      <td>20.85</td>\n",
       "      <td>20.26</td>\n",
       "      <td>1.469553e+11</td>\n",
       "      <td>20.27</td>\n",
       "      <td>20.655172</td>\n",
       "      <td>0.009247</td>\n",
       "    </tr>\n",
       "    <tr>\n",
       "      <th>2017-03-09 00:00:00.005</th>\n",
       "      <td>5.047988e+08</td>\n",
       "      <td>20.51</td>\n",
       "      <td>20.73</td>\n",
       "      <td>20.35</td>\n",
       "      <td>1.454659e+11</td>\n",
       "      <td>20.60</td>\n",
       "      <td>20.517013</td>\n",
       "      <td>0.003470</td>\n",
       "    </tr>\n",
       "    <tr>\n",
       "      <th>2017-03-10 00:00:00.005</th>\n",
       "      <td>4.881812e+08</td>\n",
       "      <td>20.60</td>\n",
       "      <td>20.75</td>\n",
       "      <td>20.52</td>\n",
       "      <td>1.461042e+11</td>\n",
       "      <td>20.52</td>\n",
       "      <td>20.658643</td>\n",
       "      <td>0.003341</td>\n",
       "    </tr>\n",
       "    <tr>\n",
       "      <th>2017-03-13 00:00:00.005</th>\n",
       "      <td>8.692787e+08</td>\n",
       "      <td>20.71</td>\n",
       "      <td>20.88</td>\n",
       "      <td>20.51</td>\n",
       "      <td>1.468844e+11</td>\n",
       "      <td>20.65</td>\n",
       "      <td>20.734872</td>\n",
       "      <td>0.005918</td>\n",
       "    </tr>\n",
       "    <tr>\n",
       "      <th>2017-03-14 00:00:00.005</th>\n",
       "      <td>2.610434e+09</td>\n",
       "      <td>21.57</td>\n",
       "      <td>22.40</td>\n",
       "      <td>20.72</td>\n",
       "      <td>1.529839e+11</td>\n",
       "      <td>20.81</td>\n",
       "      <td>21.574901</td>\n",
       "      <td>0.017063</td>\n",
       "    </tr>\n",
       "  </tbody>\n",
       "</table>\n",
       "</div>"
      ],
      "text/plain": [
       "                                  amt  close   high    low  mkt_freeshares  \\\n",
       "2017-03-08 00:00:00.005  1.358826e+09  20.72  20.85  20.26    1.469553e+11   \n",
       "2017-03-09 00:00:00.005  5.047988e+08  20.51  20.73  20.35    1.454659e+11   \n",
       "2017-03-10 00:00:00.005  4.881812e+08  20.60  20.75  20.52    1.461042e+11   \n",
       "2017-03-13 00:00:00.005  8.692787e+08  20.71  20.88  20.51    1.468844e+11   \n",
       "2017-03-14 00:00:00.005  2.610434e+09  21.57  22.40  20.72    1.529839e+11   \n",
       "\n",
       "                          open       vwap  turnover  \n",
       "2017-03-08 00:00:00.005  20.27  20.655172  0.009247  \n",
       "2017-03-09 00:00:00.005  20.60  20.517013  0.003470  \n",
       "2017-03-10 00:00:00.005  20.52  20.658643  0.003341  \n",
       "2017-03-13 00:00:00.005  20.65  20.734872  0.005918  \n",
       "2017-03-14 00:00:00.005  20.81  21.574901  0.017063  "
      ]
     },
     "execution_count": 10,
     "metadata": {},
     "output_type": "execute_result"
    }
   ],
   "source": [
    "df.tail()"
   ]
  },
  {
   "cell_type": "code",
   "execution_count": 19,
   "metadata": {
    "collapsed": true
   },
   "outputs": [],
   "source": [
    "last_date = (df.index[-1] + datetime.timedelta(1)).strftime(\"%Y-%m-%d\")"
   ]
  },
  {
   "cell_type": "code",
   "execution_count": 20,
   "metadata": {
    "collapsed": false
   },
   "outputs": [
    {
     "data": {
      "text/plain": [
       "'2017-03-15'"
      ]
     },
     "execution_count": 20,
     "metadata": {},
     "output_type": "execute_result"
    }
   ],
   "source": [
    "last_date"
   ]
  },
  {
   "cell_type": "code",
   "execution_count": 44,
   "metadata": {
    "collapsed": true
   },
   "outputs": [],
   "source": [
    "yesterday = (datetime.datetime.today() - datetime.timedelta(1)).strftime(\"%Y-%m-%d\")"
   ]
  },
  {
   "cell_type": "code",
   "execution_count": 45,
   "metadata": {
    "collapsed": false
   },
   "outputs": [
    {
     "data": {
      "text/plain": [
       "'2017-03-16'"
      ]
     },
     "execution_count": 45,
     "metadata": {},
     "output_type": "execute_result"
    }
   ],
   "source": [
    "yesterday"
   ]
  },
  {
   "cell_type": "code",
   "execution_count": 46,
   "metadata": {
    "collapsed": false
   },
   "outputs": [],
   "source": [
    "fields = \"mkt_freeshares,vwap,amt,open,close,low,high\""
   ]
  },
  {
   "cell_type": "code",
   "execution_count": 47,
   "metadata": {
    "collapsed": false
   },
   "outputs": [
    {
     "data": {
      "text/plain": [
       "'mkt_freeshares,vwap,amt,open,close,low,high'"
      ]
     },
     "execution_count": 47,
     "metadata": {},
     "output_type": "execute_result"
    }
   ],
   "source": [
    "fields"
   ]
  },
  {
   "cell_type": "code",
   "execution_count": 84,
   "metadata": {
    "collapsed": false
   },
   "outputs": [],
   "source": [
    "data = w.wsd(code, fields, beginTime=last_date, endTime=yesterday)"
   ]
  },
  {
   "cell_type": "code",
   "execution_count": 85,
   "metadata": {
    "collapsed": false
   },
   "outputs": [
    {
     "data": {
      "text/plain": [
       ".ErrorCode=0\n",
       ".Codes=[000002.SZ]\n",
       ".Fields=[MKT_FREESHARES,VWAP,AMT,OPEN,CLOSE,LOW,HIGH]\n",
       ".Times=[20170315,20170316]\n",
       ".Data=[[1.50997993736e+11,1.50856144987e+11],[21.284045831,21.3279679733],[1077880888.0,1101853842.0],[21.36,21.41],[21.29,21.27],[21.0,21.13],[21.57,21.68]]"
      ]
     },
     "execution_count": 85,
     "metadata": {},
     "output_type": "execute_result"
    }
   ],
   "source": [
    "data"
   ]
  },
  {
   "cell_type": "code",
   "execution_count": 50,
   "metadata": {
    "collapsed": true
   },
   "outputs": [],
   "source": [
    "def wind2df(raw_data):\n",
    "    dic = {}\n",
    "    for data, field in zip(raw_data.Data, raw_data.Fields):\n",
    "        dic[str(field.lower())] = data\n",
    "    return pd.DataFrame(dic, index=raw_data.Times)"
   ]
  },
  {
   "cell_type": "code",
   "execution_count": 51,
   "metadata": {
    "collapsed": true
   },
   "outputs": [],
   "source": [
    "add_df = wind2df(data)"
   ]
  },
  {
   "cell_type": "code",
   "execution_count": 52,
   "metadata": {
    "collapsed": false
   },
   "outputs": [
    {
     "data": {
      "text/html": [
       "<div>\n",
       "<table border=\"1\" class=\"dataframe\">\n",
       "  <thead>\n",
       "    <tr style=\"text-align: right;\">\n",
       "      <th></th>\n",
       "      <th>amt</th>\n",
       "      <th>close</th>\n",
       "      <th>high</th>\n",
       "      <th>low</th>\n",
       "      <th>mkt_freeshares</th>\n",
       "      <th>open</th>\n",
       "      <th>vwap</th>\n",
       "    </tr>\n",
       "  </thead>\n",
       "  <tbody>\n",
       "    <tr>\n",
       "      <th>2017-03-15 00:00:00.005</th>\n",
       "      <td>1.077881e+09</td>\n",
       "      <td>21.29</td>\n",
       "      <td>21.57</td>\n",
       "      <td>21.00</td>\n",
       "      <td>1.509980e+11</td>\n",
       "      <td>21.36</td>\n",
       "      <td>21.284046</td>\n",
       "    </tr>\n",
       "    <tr>\n",
       "      <th>2017-03-16 00:00:00.005</th>\n",
       "      <td>1.101854e+09</td>\n",
       "      <td>21.27</td>\n",
       "      <td>21.68</td>\n",
       "      <td>21.13</td>\n",
       "      <td>1.508561e+11</td>\n",
       "      <td>21.41</td>\n",
       "      <td>21.327968</td>\n",
       "    </tr>\n",
       "  </tbody>\n",
       "</table>\n",
       "</div>"
      ],
      "text/plain": [
       "                                  amt  close   high    low  mkt_freeshares  \\\n",
       "2017-03-15 00:00:00.005  1.077881e+09  21.29  21.57  21.00    1.509980e+11   \n",
       "2017-03-16 00:00:00.005  1.101854e+09  21.27  21.68  21.13    1.508561e+11   \n",
       "\n",
       "                          open       vwap  \n",
       "2017-03-15 00:00:00.005  21.36  21.284046  \n",
       "2017-03-16 00:00:00.005  21.41  21.327968  "
      ]
     },
     "execution_count": 52,
     "metadata": {},
     "output_type": "execute_result"
    }
   ],
   "source": [
    "add_df"
   ]
  },
  {
   "cell_type": "code",
   "execution_count": 53,
   "metadata": {
    "collapsed": true
   },
   "outputs": [],
   "source": [
    "add_df[\"turnover\"] = add_df[\"amt\"] / add_df[\"mkt_freeshares\"]"
   ]
  },
  {
   "cell_type": "code",
   "execution_count": 54,
   "metadata": {
    "collapsed": false
   },
   "outputs": [
    {
     "data": {
      "text/html": [
       "<div>\n",
       "<table border=\"1\" class=\"dataframe\">\n",
       "  <thead>\n",
       "    <tr style=\"text-align: right;\">\n",
       "      <th></th>\n",
       "      <th>amt</th>\n",
       "      <th>close</th>\n",
       "      <th>high</th>\n",
       "      <th>low</th>\n",
       "      <th>mkt_freeshares</th>\n",
       "      <th>open</th>\n",
       "      <th>vwap</th>\n",
       "      <th>turnover</th>\n",
       "    </tr>\n",
       "  </thead>\n",
       "  <tbody>\n",
       "    <tr>\n",
       "      <th>2017-03-15 00:00:00.005</th>\n",
       "      <td>1.077881e+09</td>\n",
       "      <td>21.29</td>\n",
       "      <td>21.57</td>\n",
       "      <td>21.00</td>\n",
       "      <td>1.509980e+11</td>\n",
       "      <td>21.36</td>\n",
       "      <td>21.284046</td>\n",
       "      <td>0.007138</td>\n",
       "    </tr>\n",
       "    <tr>\n",
       "      <th>2017-03-16 00:00:00.005</th>\n",
       "      <td>1.101854e+09</td>\n",
       "      <td>21.27</td>\n",
       "      <td>21.68</td>\n",
       "      <td>21.13</td>\n",
       "      <td>1.508561e+11</td>\n",
       "      <td>21.41</td>\n",
       "      <td>21.327968</td>\n",
       "      <td>0.007304</td>\n",
       "    </tr>\n",
       "  </tbody>\n",
       "</table>\n",
       "</div>"
      ],
      "text/plain": [
       "                                  amt  close   high    low  mkt_freeshares  \\\n",
       "2017-03-15 00:00:00.005  1.077881e+09  21.29  21.57  21.00    1.509980e+11   \n",
       "2017-03-16 00:00:00.005  1.101854e+09  21.27  21.68  21.13    1.508561e+11   \n",
       "\n",
       "                          open       vwap  turnover  \n",
       "2017-03-15 00:00:00.005  21.36  21.284046  0.007138  \n",
       "2017-03-16 00:00:00.005  21.41  21.327968  0.007304  "
      ]
     },
     "execution_count": 54,
     "metadata": {},
     "output_type": "execute_result"
    }
   ],
   "source": [
    "add_df"
   ]
  },
  {
   "cell_type": "code",
   "execution_count": 55,
   "metadata": {
    "collapsed": false
   },
   "outputs": [
    {
     "data": {
      "text/html": [
       "<div>\n",
       "<table border=\"1\" class=\"dataframe\">\n",
       "  <thead>\n",
       "    <tr style=\"text-align: right;\">\n",
       "      <th></th>\n",
       "      <th>amt</th>\n",
       "      <th>close</th>\n",
       "      <th>high</th>\n",
       "      <th>low</th>\n",
       "      <th>mkt_freeshares</th>\n",
       "      <th>open</th>\n",
       "      <th>vwap</th>\n",
       "      <th>turnover</th>\n",
       "    </tr>\n",
       "  </thead>\n",
       "  <tbody>\n",
       "    <tr>\n",
       "      <th>2017-03-08 00:00:00.005</th>\n",
       "      <td>1.358826e+09</td>\n",
       "      <td>20.72</td>\n",
       "      <td>20.85</td>\n",
       "      <td>20.26</td>\n",
       "      <td>1.469553e+11</td>\n",
       "      <td>20.27</td>\n",
       "      <td>20.655172</td>\n",
       "      <td>0.009247</td>\n",
       "    </tr>\n",
       "    <tr>\n",
       "      <th>2017-03-09 00:00:00.005</th>\n",
       "      <td>5.047988e+08</td>\n",
       "      <td>20.51</td>\n",
       "      <td>20.73</td>\n",
       "      <td>20.35</td>\n",
       "      <td>1.454659e+11</td>\n",
       "      <td>20.60</td>\n",
       "      <td>20.517013</td>\n",
       "      <td>0.003470</td>\n",
       "    </tr>\n",
       "    <tr>\n",
       "      <th>2017-03-10 00:00:00.005</th>\n",
       "      <td>4.881812e+08</td>\n",
       "      <td>20.60</td>\n",
       "      <td>20.75</td>\n",
       "      <td>20.52</td>\n",
       "      <td>1.461042e+11</td>\n",
       "      <td>20.52</td>\n",
       "      <td>20.658643</td>\n",
       "      <td>0.003341</td>\n",
       "    </tr>\n",
       "    <tr>\n",
       "      <th>2017-03-13 00:00:00.005</th>\n",
       "      <td>8.692787e+08</td>\n",
       "      <td>20.71</td>\n",
       "      <td>20.88</td>\n",
       "      <td>20.51</td>\n",
       "      <td>1.468844e+11</td>\n",
       "      <td>20.65</td>\n",
       "      <td>20.734872</td>\n",
       "      <td>0.005918</td>\n",
       "    </tr>\n",
       "    <tr>\n",
       "      <th>2017-03-14 00:00:00.005</th>\n",
       "      <td>2.610434e+09</td>\n",
       "      <td>21.57</td>\n",
       "      <td>22.40</td>\n",
       "      <td>20.72</td>\n",
       "      <td>1.529839e+11</td>\n",
       "      <td>20.81</td>\n",
       "      <td>21.574901</td>\n",
       "      <td>0.017063</td>\n",
       "    </tr>\n",
       "  </tbody>\n",
       "</table>\n",
       "</div>"
      ],
      "text/plain": [
       "                                  amt  close   high    low  mkt_freeshares  \\\n",
       "2017-03-08 00:00:00.005  1.358826e+09  20.72  20.85  20.26    1.469553e+11   \n",
       "2017-03-09 00:00:00.005  5.047988e+08  20.51  20.73  20.35    1.454659e+11   \n",
       "2017-03-10 00:00:00.005  4.881812e+08  20.60  20.75  20.52    1.461042e+11   \n",
       "2017-03-13 00:00:00.005  8.692787e+08  20.71  20.88  20.51    1.468844e+11   \n",
       "2017-03-14 00:00:00.005  2.610434e+09  21.57  22.40  20.72    1.529839e+11   \n",
       "\n",
       "                          open       vwap  turnover  \n",
       "2017-03-08 00:00:00.005  20.27  20.655172  0.009247  \n",
       "2017-03-09 00:00:00.005  20.60  20.517013  0.003470  \n",
       "2017-03-10 00:00:00.005  20.52  20.658643  0.003341  \n",
       "2017-03-13 00:00:00.005  20.65  20.734872  0.005918  \n",
       "2017-03-14 00:00:00.005  20.81  21.574901  0.017063  "
      ]
     },
     "execution_count": 55,
     "metadata": {},
     "output_type": "execute_result"
    }
   ],
   "source": [
    "df.tail()"
   ]
  },
  {
   "cell_type": "code",
   "execution_count": 58,
   "metadata": {
    "collapsed": false
   },
   "outputs": [
    {
     "data": {
      "text/html": [
       "<div>\n",
       "<table border=\"1\" class=\"dataframe\">\n",
       "  <thead>\n",
       "    <tr style=\"text-align: right;\">\n",
       "      <th></th>\n",
       "      <th>amt</th>\n",
       "      <th>close</th>\n",
       "      <th>high</th>\n",
       "      <th>low</th>\n",
       "      <th>mkt_freeshares</th>\n",
       "      <th>open</th>\n",
       "      <th>vwap</th>\n",
       "      <th>turnover</th>\n",
       "    </tr>\n",
       "  </thead>\n",
       "  <tbody>\n",
       "    <tr>\n",
       "      <th>2017-03-10 00:00:00.005</th>\n",
       "      <td>4.881812e+08</td>\n",
       "      <td>20.60</td>\n",
       "      <td>20.75</td>\n",
       "      <td>20.52</td>\n",
       "      <td>1.461042e+11</td>\n",
       "      <td>20.52</td>\n",
       "      <td>20.658643</td>\n",
       "      <td>0.003341</td>\n",
       "    </tr>\n",
       "    <tr>\n",
       "      <th>2017-03-13 00:00:00.005</th>\n",
       "      <td>8.692787e+08</td>\n",
       "      <td>20.71</td>\n",
       "      <td>20.88</td>\n",
       "      <td>20.51</td>\n",
       "      <td>1.468844e+11</td>\n",
       "      <td>20.65</td>\n",
       "      <td>20.734872</td>\n",
       "      <td>0.005918</td>\n",
       "    </tr>\n",
       "    <tr>\n",
       "      <th>2017-03-14 00:00:00.005</th>\n",
       "      <td>2.610434e+09</td>\n",
       "      <td>21.57</td>\n",
       "      <td>22.40</td>\n",
       "      <td>20.72</td>\n",
       "      <td>1.529839e+11</td>\n",
       "      <td>20.81</td>\n",
       "      <td>21.574901</td>\n",
       "      <td>0.017063</td>\n",
       "    </tr>\n",
       "    <tr>\n",
       "      <th>2017-03-15 00:00:00.005</th>\n",
       "      <td>1.077881e+09</td>\n",
       "      <td>21.29</td>\n",
       "      <td>21.57</td>\n",
       "      <td>21.00</td>\n",
       "      <td>1.509980e+11</td>\n",
       "      <td>21.36</td>\n",
       "      <td>21.284046</td>\n",
       "      <td>0.007138</td>\n",
       "    </tr>\n",
       "    <tr>\n",
       "      <th>2017-03-16 00:00:00.005</th>\n",
       "      <td>1.101854e+09</td>\n",
       "      <td>21.27</td>\n",
       "      <td>21.68</td>\n",
       "      <td>21.13</td>\n",
       "      <td>1.508561e+11</td>\n",
       "      <td>21.41</td>\n",
       "      <td>21.327968</td>\n",
       "      <td>0.007304</td>\n",
       "    </tr>\n",
       "  </tbody>\n",
       "</table>\n",
       "</div>"
      ],
      "text/plain": [
       "                                  amt  close   high    low  mkt_freeshares  \\\n",
       "2017-03-10 00:00:00.005  4.881812e+08  20.60  20.75  20.52    1.461042e+11   \n",
       "2017-03-13 00:00:00.005  8.692787e+08  20.71  20.88  20.51    1.468844e+11   \n",
       "2017-03-14 00:00:00.005  2.610434e+09  21.57  22.40  20.72    1.529839e+11   \n",
       "2017-03-15 00:00:00.005  1.077881e+09  21.29  21.57  21.00    1.509980e+11   \n",
       "2017-03-16 00:00:00.005  1.101854e+09  21.27  21.68  21.13    1.508561e+11   \n",
       "\n",
       "                          open       vwap  turnover  \n",
       "2017-03-10 00:00:00.005  20.52  20.658643  0.003341  \n",
       "2017-03-13 00:00:00.005  20.65  20.734872  0.005918  \n",
       "2017-03-14 00:00:00.005  20.81  21.574901  0.017063  \n",
       "2017-03-15 00:00:00.005  21.36  21.284046  0.007138  \n",
       "2017-03-16 00:00:00.005  21.41  21.327968  0.007304  "
      ]
     },
     "execution_count": 58,
     "metadata": {},
     "output_type": "execute_result"
    }
   ],
   "source": [
    "df.append(add_df).tail()"
   ]
  },
  {
   "cell_type": "code",
   "execution_count": 91,
   "metadata": {
    "collapsed": false
   },
   "outputs": [],
   "source": [
    "old_df = pd.read_excel(\"D:/Data/avg_cost/by stock/000001.SZ.xlsx\", index_col=0)"
   ]
  },
  {
   "cell_type": "code",
   "execution_count": 92,
   "metadata": {
    "collapsed": false
   },
   "outputs": [],
   "source": [
    "old_df[\"return\"] = old_df[\"close\"].pct_change()"
   ]
  },
  {
   "cell_type": "code",
   "execution_count": 93,
   "metadata": {
    "collapsed": true
   },
   "outputs": [],
   "source": [
    "old_df[\"error\"] = old_df[\"return\"] < -0.1"
   ]
  },
  {
   "cell_type": "code",
   "execution_count": 100,
   "metadata": {
    "collapsed": false
   },
   "outputs": [
    {
     "data": {
      "text/plain": [
       ".ErrorCode=0\n",
       ".Codes=[000402.SZ]\n",
       ".Fields=[MKT_FREESHARES,VWAP,AMT,OPEN,CLOSE,LOW,HIGH]\n",
       ".Times=[20170215,20170216,20170217,20170220,20170221,20170222,20170223,20170224,20170227,20170228,...]\n",
       ".Data=[[21626791959.0,21707715408.9,21384021609.7,22132563520.3,22294410419.9,22638335081.5,22274179557.5,22334872144.8,21910024033.3,22011178345.6,...],[10.733773956,10.6941134988,10.648001942,10.8212673388,11.0758293289,11.1266023703,11.1103974486,11.0077957604,10.9209702746,10.8843995812,...],[103012297.0,94415569.0,71277725.0,185227817.0,175517006.0,156014192.0,135276744.0,65599781.0,81566237.0,65978901.0,...],[10.83,10.67,10.71,10.58,10.92,11.0,11.1,11.04,11.02,10.82,...],[10.69,10.73,10.57,10.94,11.02,11.19,11.01,11.04,10.83,10.88,...],[10.67,10.65,10.57,10.52,10.9,10.97,10.97,10.94,10.82,10.82,...],[10.86,10.75,10.75,10.95,11.22,11.23,11.25,11.08,11.04,10.96,...]]"
      ]
     },
     "execution_count": 100,
     "metadata": {},
     "output_type": "execute_result"
    }
   ],
   "source": [
    "w.wsd(\"000402.SZ\", \"mkt_freeshares,vwap,amt,open,close,low,high\", \"2017-02-15\", \"2017-03-16\", \"PriceAdj=F\")"
   ]
  },
  {
   "cell_type": "code",
   "execution_count": 74,
   "metadata": {
    "collapsed": true
   },
   "outputs": [],
   "source": [
    "df = pd.read_excel(\"D:/Data/stocks/000004.SZ.xlsx\", index_col=0)"
   ]
  },
  {
   "cell_type": "code",
   "execution_count": 75,
   "metadata": {
    "collapsed": false
   },
   "outputs": [
    {
     "data": {
      "text/html": [
       "<div>\n",
       "<table border=\"1\" class=\"dataframe\">\n",
       "  <thead>\n",
       "    <tr style=\"text-align: right;\">\n",
       "      <th></th>\n",
       "      <th>amt</th>\n",
       "      <th>close</th>\n",
       "      <th>high</th>\n",
       "      <th>low</th>\n",
       "      <th>mkt_freeshares</th>\n",
       "      <th>open</th>\n",
       "      <th>vwap</th>\n",
       "      <th>turnover</th>\n",
       "    </tr>\n",
       "  </thead>\n",
       "  <tbody>\n",
       "    <tr>\n",
       "      <th>2017-03-10 00:00:00.005</th>\n",
       "      <td>38987355.0</td>\n",
       "      <td>39.18</td>\n",
       "      <td>39.93</td>\n",
       "      <td>38.90</td>\n",
       "      <td>1.930627e+09</td>\n",
       "      <td>39.25</td>\n",
       "      <td>39.456213</td>\n",
       "      <td>0.020194</td>\n",
       "    </tr>\n",
       "    <tr>\n",
       "      <th>2017-03-13 00:00:00.005</th>\n",
       "      <td>35056161.0</td>\n",
       "      <td>39.35</td>\n",
       "      <td>39.35</td>\n",
       "      <td>38.17</td>\n",
       "      <td>1.939004e+09</td>\n",
       "      <td>39.00</td>\n",
       "      <td>38.918469</td>\n",
       "      <td>0.018079</td>\n",
       "    </tr>\n",
       "    <tr>\n",
       "      <th>2017-03-14 00:00:00.005</th>\n",
       "      <td>33309054.0</td>\n",
       "      <td>39.21</td>\n",
       "      <td>39.50</td>\n",
       "      <td>38.90</td>\n",
       "      <td>1.932106e+09</td>\n",
       "      <td>39.48</td>\n",
       "      <td>39.228058</td>\n",
       "      <td>0.017240</td>\n",
       "    </tr>\n",
       "    <tr>\n",
       "      <th>2017-03-15 00:00:00.005</th>\n",
       "      <td>34037301.0</td>\n",
       "      <td>38.48</td>\n",
       "      <td>39.21</td>\n",
       "      <td>38.35</td>\n",
       "      <td>1.896134e+09</td>\n",
       "      <td>39.21</td>\n",
       "      <td>38.608379</td>\n",
       "      <td>0.017951</td>\n",
       "    </tr>\n",
       "    <tr>\n",
       "      <th>2017-03-16 00:00:00.005</th>\n",
       "      <td>35122570.0</td>\n",
       "      <td>38.82</td>\n",
       "      <td>38.90</td>\n",
       "      <td>38.01</td>\n",
       "      <td>1.912888e+09</td>\n",
       "      <td>38.51</td>\n",
       "      <td>38.595425</td>\n",
       "      <td>0.018361</td>\n",
       "    </tr>\n",
       "  </tbody>\n",
       "</table>\n",
       "</div>"
      ],
      "text/plain": [
       "                                amt  close   high    low  mkt_freeshares  \\\n",
       "2017-03-10 00:00:00.005  38987355.0  39.18  39.93  38.90    1.930627e+09   \n",
       "2017-03-13 00:00:00.005  35056161.0  39.35  39.35  38.17    1.939004e+09   \n",
       "2017-03-14 00:00:00.005  33309054.0  39.21  39.50  38.90    1.932106e+09   \n",
       "2017-03-15 00:00:00.005  34037301.0  38.48  39.21  38.35    1.896134e+09   \n",
       "2017-03-16 00:00:00.005  35122570.0  38.82  38.90  38.01    1.912888e+09   \n",
       "\n",
       "                          open       vwap  turnover  \n",
       "2017-03-10 00:00:00.005  39.25  39.456213  0.020194  \n",
       "2017-03-13 00:00:00.005  39.00  38.918469  0.018079  \n",
       "2017-03-14 00:00:00.005  39.48  39.228058  0.017240  \n",
       "2017-03-15 00:00:00.005  39.21  38.608379  0.017951  \n",
       "2017-03-16 00:00:00.005  38.51  38.595425  0.018361  "
      ]
     },
     "execution_count": 75,
     "metadata": {},
     "output_type": "execute_result"
    }
   ],
   "source": [
    "df.tail()"
   ]
  },
  {
   "cell_type": "code",
   "execution_count": 76,
   "metadata": {
    "collapsed": false
   },
   "outputs": [],
   "source": [
    "df.loc[:, \"turnover days\"] = old_df[\"turnover days\"]\n",
    "df.loc[:, \"avg cost\"] = old_df[\"avg cost\"]"
   ]
  },
  {
   "cell_type": "code",
   "execution_count": 77,
   "metadata": {
    "collapsed": false
   },
   "outputs": [
    {
     "data": {
      "text/html": [
       "<div>\n",
       "<table border=\"1\" class=\"dataframe\">\n",
       "  <thead>\n",
       "    <tr style=\"text-align: right;\">\n",
       "      <th></th>\n",
       "      <th>amt</th>\n",
       "      <th>close</th>\n",
       "      <th>high</th>\n",
       "      <th>low</th>\n",
       "      <th>mkt_freeshares</th>\n",
       "      <th>open</th>\n",
       "      <th>vwap</th>\n",
       "      <th>turnover</th>\n",
       "      <th>turnover days</th>\n",
       "      <th>avg cost</th>\n",
       "    </tr>\n",
       "  </thead>\n",
       "  <tbody>\n",
       "    <tr>\n",
       "      <th>2017-03-10 00:00:00.005</th>\n",
       "      <td>38987355.0</td>\n",
       "      <td>39.18</td>\n",
       "      <td>39.93</td>\n",
       "      <td>38.90</td>\n",
       "      <td>1.930627e+09</td>\n",
       "      <td>39.25</td>\n",
       "      <td>39.456213</td>\n",
       "      <td>0.020194</td>\n",
       "      <td>64.0</td>\n",
       "      <td>39.245415</td>\n",
       "    </tr>\n",
       "    <tr>\n",
       "      <th>2017-03-13 00:00:00.005</th>\n",
       "      <td>35056161.0</td>\n",
       "      <td>39.35</td>\n",
       "      <td>39.35</td>\n",
       "      <td>38.17</td>\n",
       "      <td>1.939004e+09</td>\n",
       "      <td>39.00</td>\n",
       "      <td>38.918469</td>\n",
       "      <td>0.018079</td>\n",
       "      <td>66.0</td>\n",
       "      <td>39.105009</td>\n",
       "    </tr>\n",
       "    <tr>\n",
       "      <th>2017-03-14 00:00:00.005</th>\n",
       "      <td>33309054.0</td>\n",
       "      <td>39.21</td>\n",
       "      <td>39.50</td>\n",
       "      <td>38.90</td>\n",
       "      <td>1.932106e+09</td>\n",
       "      <td>39.48</td>\n",
       "      <td>39.228058</td>\n",
       "      <td>0.017240</td>\n",
       "      <td>64.0</td>\n",
       "      <td>39.027947</td>\n",
       "    </tr>\n",
       "    <tr>\n",
       "      <th>2017-03-15 00:00:00.005</th>\n",
       "      <td>34037301.0</td>\n",
       "      <td>38.48</td>\n",
       "      <td>39.21</td>\n",
       "      <td>38.35</td>\n",
       "      <td>1.896134e+09</td>\n",
       "      <td>39.21</td>\n",
       "      <td>38.608379</td>\n",
       "      <td>0.017951</td>\n",
       "      <td>NaN</td>\n",
       "      <td>NaN</td>\n",
       "    </tr>\n",
       "    <tr>\n",
       "      <th>2017-03-16 00:00:00.005</th>\n",
       "      <td>35122570.0</td>\n",
       "      <td>38.82</td>\n",
       "      <td>38.90</td>\n",
       "      <td>38.01</td>\n",
       "      <td>1.912888e+09</td>\n",
       "      <td>38.51</td>\n",
       "      <td>38.595425</td>\n",
       "      <td>0.018361</td>\n",
       "      <td>NaN</td>\n",
       "      <td>NaN</td>\n",
       "    </tr>\n",
       "  </tbody>\n",
       "</table>\n",
       "</div>"
      ],
      "text/plain": [
       "                                amt  close   high    low  mkt_freeshares  \\\n",
       "2017-03-10 00:00:00.005  38987355.0  39.18  39.93  38.90    1.930627e+09   \n",
       "2017-03-13 00:00:00.005  35056161.0  39.35  39.35  38.17    1.939004e+09   \n",
       "2017-03-14 00:00:00.005  33309054.0  39.21  39.50  38.90    1.932106e+09   \n",
       "2017-03-15 00:00:00.005  34037301.0  38.48  39.21  38.35    1.896134e+09   \n",
       "2017-03-16 00:00:00.005  35122570.0  38.82  38.90  38.01    1.912888e+09   \n",
       "\n",
       "                          open       vwap  turnover  turnover days   avg cost  \n",
       "2017-03-10 00:00:00.005  39.25  39.456213  0.020194           64.0  39.245415  \n",
       "2017-03-13 00:00:00.005  39.00  38.918469  0.018079           66.0  39.105009  \n",
       "2017-03-14 00:00:00.005  39.48  39.228058  0.017240           64.0  39.027947  \n",
       "2017-03-15 00:00:00.005  39.21  38.608379  0.017951            NaN        NaN  \n",
       "2017-03-16 00:00:00.005  38.51  38.595425  0.018361            NaN        NaN  "
      ]
     },
     "execution_count": 77,
     "metadata": {},
     "output_type": "execute_result"
    }
   ],
   "source": [
    "df.tail()"
   ]
  },
  {
   "cell_type": "code",
   "execution_count": 78,
   "metadata": {
    "collapsed": true
   },
   "outputs": [],
   "source": [
    "k = old_df.shape[0] - old_df[\"turnover days\"][-1]"
   ]
  },
  {
   "cell_type": "code",
   "execution_count": 79,
   "metadata": {
    "collapsed": false
   },
   "outputs": [
    {
     "data": {
      "text/plain": [
       "470"
      ]
     },
     "execution_count": 79,
     "metadata": {},
     "output_type": "execute_result"
    }
   ],
   "source": [
    "k"
   ]
  },
  {
   "cell_type": "code",
   "execution_count": 80,
   "metadata": {
    "collapsed": true
   },
   "outputs": [],
   "source": [
    "dates = df[df.index > old_df.index[-1]].index"
   ]
  },
  {
   "cell_type": "code",
   "execution_count": 81,
   "metadata": {
    "collapsed": false
   },
   "outputs": [
    {
     "data": {
      "text/plain": [
       "DatetimeIndex(['2017-03-15 00:00:00.005000', '2017-03-16 00:00:00.005000'], dtype='datetime64[ns]', freq=None)"
      ]
     },
     "execution_count": 81,
     "metadata": {},
     "output_type": "execute_result"
    }
   ],
   "source": [
    "dates"
   ]
  },
  {
   "cell_type": "code",
   "execution_count": 82,
   "metadata": {
    "collapsed": true
   },
   "outputs": [],
   "source": [
    "for index in dates:\n",
    "    prev_index = df.index[k]\n",
    "    while df[(df.index >= prev_index) & (df.index <= index)][\"turnover\"].sum() > 1:\n",
    "        k += 1\n",
    "        prev_index = df.index[k]\n",
    "    k -=1\n",
    "    prev_index = df.index[k]\n",
    "    \n",
    "    temp_df = df[(df.index >= prev_index) & (df.index <= index)]\n",
    "    cost = (temp_df[\"vwap\"] * temp_df[\"amt\"]).sum() / temp_df[\"amt\"].sum()\n",
    "    df.loc[index, \"avg cost\"] = cost\n",
    "    df.loc[index, \"turnover days\"] = (index - prev_index).days"
   ]
  },
  {
   "cell_type": "code",
   "execution_count": 83,
   "metadata": {
    "collapsed": false
   },
   "outputs": [
    {
     "data": {
      "text/html": [
       "<div>\n",
       "<table border=\"1\" class=\"dataframe\">\n",
       "  <thead>\n",
       "    <tr style=\"text-align: right;\">\n",
       "      <th></th>\n",
       "      <th>amt</th>\n",
       "      <th>close</th>\n",
       "      <th>high</th>\n",
       "      <th>low</th>\n",
       "      <th>mkt_freeshares</th>\n",
       "      <th>open</th>\n",
       "      <th>vwap</th>\n",
       "      <th>turnover</th>\n",
       "      <th>turnover days</th>\n",
       "      <th>avg cost</th>\n",
       "    </tr>\n",
       "  </thead>\n",
       "  <tbody>\n",
       "    <tr>\n",
       "      <th>2017-03-10 00:00:00.005</th>\n",
       "      <td>38987355.0</td>\n",
       "      <td>39.18</td>\n",
       "      <td>39.93</td>\n",
       "      <td>38.90</td>\n",
       "      <td>1.930627e+09</td>\n",
       "      <td>39.25</td>\n",
       "      <td>39.456213</td>\n",
       "      <td>0.020194</td>\n",
       "      <td>64.0</td>\n",
       "      <td>39.245415</td>\n",
       "    </tr>\n",
       "    <tr>\n",
       "      <th>2017-03-13 00:00:00.005</th>\n",
       "      <td>35056161.0</td>\n",
       "      <td>39.35</td>\n",
       "      <td>39.35</td>\n",
       "      <td>38.17</td>\n",
       "      <td>1.939004e+09</td>\n",
       "      <td>39.00</td>\n",
       "      <td>38.918469</td>\n",
       "      <td>0.018079</td>\n",
       "      <td>66.0</td>\n",
       "      <td>39.105009</td>\n",
       "    </tr>\n",
       "    <tr>\n",
       "      <th>2017-03-14 00:00:00.005</th>\n",
       "      <td>33309054.0</td>\n",
       "      <td>39.21</td>\n",
       "      <td>39.50</td>\n",
       "      <td>38.90</td>\n",
       "      <td>1.932106e+09</td>\n",
       "      <td>39.48</td>\n",
       "      <td>39.228058</td>\n",
       "      <td>0.017240</td>\n",
       "      <td>64.0</td>\n",
       "      <td>39.027947</td>\n",
       "    </tr>\n",
       "    <tr>\n",
       "      <th>2017-03-15 00:00:00.005</th>\n",
       "      <td>34037301.0</td>\n",
       "      <td>38.48</td>\n",
       "      <td>39.21</td>\n",
       "      <td>38.35</td>\n",
       "      <td>1.896134e+09</td>\n",
       "      <td>39.21</td>\n",
       "      <td>38.608379</td>\n",
       "      <td>0.017951</td>\n",
       "      <td>64.0</td>\n",
       "      <td>38.908796</td>\n",
       "    </tr>\n",
       "    <tr>\n",
       "      <th>2017-03-16 00:00:00.005</th>\n",
       "      <td>35122570.0</td>\n",
       "      <td>38.82</td>\n",
       "      <td>38.90</td>\n",
       "      <td>38.01</td>\n",
       "      <td>1.912888e+09</td>\n",
       "      <td>38.51</td>\n",
       "      <td>38.595425</td>\n",
       "      <td>0.018361</td>\n",
       "      <td>65.0</td>\n",
       "      <td>38.903162</td>\n",
       "    </tr>\n",
       "  </tbody>\n",
       "</table>\n",
       "</div>"
      ],
      "text/plain": [
       "                                amt  close   high    low  mkt_freeshares  \\\n",
       "2017-03-10 00:00:00.005  38987355.0  39.18  39.93  38.90    1.930627e+09   \n",
       "2017-03-13 00:00:00.005  35056161.0  39.35  39.35  38.17    1.939004e+09   \n",
       "2017-03-14 00:00:00.005  33309054.0  39.21  39.50  38.90    1.932106e+09   \n",
       "2017-03-15 00:00:00.005  34037301.0  38.48  39.21  38.35    1.896134e+09   \n",
       "2017-03-16 00:00:00.005  35122570.0  38.82  38.90  38.01    1.912888e+09   \n",
       "\n",
       "                          open       vwap  turnover  turnover days   avg cost  \n",
       "2017-03-10 00:00:00.005  39.25  39.456213  0.020194           64.0  39.245415  \n",
       "2017-03-13 00:00:00.005  39.00  38.918469  0.018079           66.0  39.105009  \n",
       "2017-03-14 00:00:00.005  39.48  39.228058  0.017240           64.0  39.027947  \n",
       "2017-03-15 00:00:00.005  39.21  38.608379  0.017951           64.0  38.908796  \n",
       "2017-03-16 00:00:00.005  38.51  38.595425  0.018361           65.0  38.903162  "
      ]
     },
     "execution_count": 83,
     "metadata": {},
     "output_type": "execute_result"
    }
   ],
   "source": [
    "df.tail()"
   ]
  },
  {
   "cell_type": "code",
   "execution_count": 101,
   "metadata": {
    "collapsed": true
   },
   "outputs": [],
   "source": [
    "df = pd.read_excel(\"C:/Users/jgtzsx01/Documents/workspace/data/index-component/000906.xlsx\", index_col=0)"
   ]
  },
  {
   "cell_type": "code",
   "execution_count": 102,
   "metadata": {
    "collapsed": true
   },
   "outputs": [],
   "source": [
    "codes = set(df.index)"
   ]
  },
  {
   "cell_type": "code",
   "execution_count": 105,
   "metadata": {
    "collapsed": false
   },
   "outputs": [],
   "source": [
    "files = os.listdir(\"D:/Data/stocks/\")"
   ]
  },
  {
   "cell_type": "code",
   "execution_count": 109,
   "metadata": {
    "collapsed": false
   },
   "outputs": [],
   "source": [
    "for f in files:\n",
    "    if f[:9] not in codes:\n",
    "        os.system(\"mv D:/Data/stocks/%s D:/Data/back/%s\"%(f, f))"
   ]
  },
  {
   "cell_type": "code",
   "execution_count": 110,
   "metadata": {
    "collapsed": true
   },
   "outputs": [],
   "source": [
    "for f in files:\n",
    "    if f.endswith(\".csv\"):\n",
    "        os.system(\"mv D:/Data/stocks/%s D:/Data/back/%s\"%(f, f))"
   ]
  },
  {
   "cell_type": "code",
   "execution_count": 112,
   "metadata": {
    "collapsed": false
   },
   "outputs": [
    {
     "data": {
      "text/plain": [
       "15"
      ]
     },
     "execution_count": 112,
     "metadata": {},
     "output_type": "execute_result"
    }
   ],
   "source": [
    "datetime.datetime.now().hour"
   ]
  },
  {
   "cell_type": "code",
   "execution_count": null,
   "metadata": {
    "collapsed": true
   },
   "outputs": [],
   "source": []
  }
 ],
 "metadata": {
  "anaconda-cloud": {},
  "kernelspec": {
   "display_name": "Python [default]",
   "language": "python",
   "name": "python2"
  },
  "language_info": {
   "codemirror_mode": {
    "name": "ipython",
    "version": 2
   },
   "file_extension": ".py",
   "mimetype": "text/x-python",
   "name": "python",
   "nbconvert_exporter": "python",
   "pygments_lexer": "ipython2",
   "version": "2.7.12"
  }
 },
 "nbformat": 4,
 "nbformat_minor": 1
}
