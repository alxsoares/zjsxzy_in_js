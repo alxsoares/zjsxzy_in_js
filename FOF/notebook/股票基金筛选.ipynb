{
 "cells": [
  {
   "cell_type": "code",
   "execution_count": 37,
   "metadata": {
    "collapsed": true
   },
   "outputs": [],
   "source": [
    "from WindPy import w\n",
    "import pandas as pd\n",
    "import numpy as np\n",
    "import pyfolio as pf\n",
    "import datetime\n",
    "import matplotlib.pyplot as plt\n",
    "import seaborn as sns\n",
    "import sys\n",
    "%matplotlib inline"
   ]
  },
  {
   "cell_type": "code",
   "execution_count": 38,
   "metadata": {
    "collapsed": false
   },
   "outputs": [
    {
     "name": "stdout",
     "output_type": "stream",
     "text": [
      "Welcome to use Wind Quant API for Python (WindPy)!\n",
      "You can use w.menu to help yourself to create commands(WSD,WSS,WST,WSI,WSQ,...)!\n",
      "\n",
      "COPYRIGHT (C) 2016 WIND HONGHUI INFORMATION & TECHKNOLEWDGE CO., LTD. ALL RIGHTS RESERVED.\n",
      "IN NO CIRCUMSTANCE SHALL WIND BE RESPONSIBLE FOR ANY DAMAGES OR LOSSES CAUSED BY USING WIND QUANT API FOR Python.\n"
     ]
    },
    {
     "data": {
      "text/plain": [
       ".ErrorCode=0\n",
       ".Data=[OK!]"
      ]
     },
     "execution_count": 38,
     "metadata": {},
     "output_type": "execute_result"
    }
   ],
   "source": [
    "w.start()"
   ]
  },
  {
   "cell_type": "code",
   "execution_count": 39,
   "metadata": {
    "collapsed": true
   },
   "outputs": [],
   "source": [
    "data = w.wsd('040002.OF', \"NAV_adj\", \"ED-%dD\"%(0), '2017-04-18', \"\")"
   ]
  },
  {
   "cell_type": "code",
   "execution_count": 40,
   "metadata": {
    "collapsed": false
   },
   "outputs": [
    {
     "data": {
      "text/html": [
       "<div>\n",
       "<table border=\"1\" class=\"dataframe\">\n",
       "  <thead>\n",
       "    <tr style=\"text-align: right;\">\n",
       "      <th></th>\n",
       "      <th>nav_adj</th>\n",
       "    </tr>\n",
       "  </thead>\n",
       "  <tbody>\n",
       "    <tr>\n",
       "      <th>0</th>\n",
       "      <td>4.352979</td>\n",
       "    </tr>\n",
       "  </tbody>\n",
       "</table>\n",
       "</div>"
      ],
      "text/plain": [
       "    nav_adj\n",
       "0  4.352979"
      ]
     },
     "execution_count": 40,
     "metadata": {},
     "output_type": "execute_result"
    }
   ],
   "source": [
    "wind2df(data)"
   ]
  },
  {
   "cell_type": "code",
   "execution_count": null,
   "metadata": {
    "collapsed": true
   },
   "outputs": [],
   "source": []
  },
  {
   "cell_type": "code",
   "execution_count": null,
   "metadata": {
    "collapsed": true
   },
   "outputs": [],
   "source": []
  },
  {
   "cell_type": "code",
   "execution_count": null,
   "metadata": {
    "collapsed": true
   },
   "outputs": [],
   "source": []
  },
  {
   "cell_type": "code",
   "execution_count": null,
   "metadata": {
    "collapsed": true
   },
   "outputs": [],
   "source": []
  },
  {
   "cell_type": "code",
   "execution_count": 6,
   "metadata": {
    "collapsed": true
   },
   "outputs": [],
   "source": [
    "DATA_DIR = 'D:/Data/fund'\n",
    "end_date = '2017-04-13'\n",
    "rptDate = '20161231'"
   ]
  },
  {
   "cell_type": "code",
   "execution_count": 7,
   "metadata": {
    "collapsed": true
   },
   "outputs": [],
   "source": [
    "def wind2df(raw_data):\n",
    "    dic = {}\n",
    "    for data, field in zip(raw_data.Data, raw_data.Fields):\n",
    "        dic[str(field.lower())] = data\n",
    "    return pd.DataFrame(dic)"
   ]
  },
  {
   "cell_type": "code",
   "execution_count": 6,
   "metadata": {
    "collapsed": true
   },
   "outputs": [],
   "source": [
    "data = w.wset(\"sectorconstituent\",\"date=2017-04-12;windcode=885012.WI\")"
   ]
  },
  {
   "cell_type": "code",
   "execution_count": 7,
   "metadata": {
    "collapsed": true
   },
   "outputs": [],
   "source": [
    "df = wind2df(data)"
   ]
  },
  {
   "cell_type": "code",
   "execution_count": 9,
   "metadata": {
    "collapsed": false
   },
   "outputs": [],
   "source": [
    "fname = u'%s/股票型基金列表.xlsx'%(DATA_DIR)\n",
    "df[['sec_name', 'wind_code']].to_excel(fname, index=False)"
   ]
  },
  {
   "cell_type": "code",
   "execution_count": 10,
   "metadata": {
    "collapsed": true
   },
   "outputs": [],
   "source": [
    "df = pd.read_excel(fname)"
   ]
  },
  {
   "cell_type": "code",
   "execution_count": 11,
   "metadata": {
    "collapsed": true
   },
   "outputs": [],
   "source": [
    "data = w.wss(df['wind_code'].tolist(), \"fund_investtype\")"
   ]
  },
  {
   "cell_type": "code",
   "execution_count": 12,
   "metadata": {
    "collapsed": true
   },
   "outputs": [],
   "source": [
    "temp = wind2df(data)"
   ]
  },
  {
   "cell_type": "code",
   "execution_count": 13,
   "metadata": {
    "collapsed": true
   },
   "outputs": [],
   "source": [
    "df['investtype'] = temp['fund_investtype']"
   ]
  },
  {
   "cell_type": "code",
   "execution_count": 14,
   "metadata": {
    "collapsed": false
   },
   "outputs": [
    {
     "data": {
      "text/html": [
       "<div>\n",
       "<table border=\"1\" class=\"dataframe\">\n",
       "  <thead>\n",
       "    <tr style=\"text-align: right;\">\n",
       "      <th></th>\n",
       "      <th>sec_name</th>\n",
       "      <th>wind_code</th>\n",
       "      <th>investtype</th>\n",
       "    </tr>\n",
       "  </thead>\n",
       "  <tbody>\n",
       "    <tr>\n",
       "      <th>0</th>\n",
       "      <td>嘉实中证500ETF联接</td>\n",
       "      <td>000008.OF</td>\n",
       "      <td>被动指数型基金</td>\n",
       "    </tr>\n",
       "    <tr>\n",
       "      <th>1</th>\n",
       "      <td>财通中证100增强</td>\n",
       "      <td>000042.OF</td>\n",
       "      <td>增强指数型基金</td>\n",
       "    </tr>\n",
       "    <tr>\n",
       "      <th>2</th>\n",
       "      <td>华夏沪深300ETF联接</td>\n",
       "      <td>000051.OF</td>\n",
       "      <td>被动指数型基金</td>\n",
       "    </tr>\n",
       "    <tr>\n",
       "      <th>3</th>\n",
       "      <td>国联安中证医药100</td>\n",
       "      <td>000059.OF</td>\n",
       "      <td>被动指数型基金</td>\n",
       "    </tr>\n",
       "    <tr>\n",
       "      <th>4</th>\n",
       "      <td>嘉实研究阿尔法</td>\n",
       "      <td>000082.OF</td>\n",
       "      <td>普通股票型基金</td>\n",
       "    </tr>\n",
       "  </tbody>\n",
       "</table>\n",
       "</div>"
      ],
      "text/plain": [
       "       sec_name  wind_code investtype\n",
       "0  嘉实中证500ETF联接  000008.OF    被动指数型基金\n",
       "1     财通中证100增强  000042.OF    增强指数型基金\n",
       "2  华夏沪深300ETF联接  000051.OF    被动指数型基金\n",
       "3    国联安中证医药100  000059.OF    被动指数型基金\n",
       "4       嘉实研究阿尔法  000082.OF    普通股票型基金"
      ]
     },
     "execution_count": 14,
     "metadata": {},
     "output_type": "execute_result"
    }
   ],
   "source": [
    "df.head()"
   ]
  },
  {
   "cell_type": "code",
   "execution_count": 15,
   "metadata": {
    "collapsed": true
   },
   "outputs": [],
   "source": [
    "data = w.wss(df['wind_code'].tolist(), \"issue_date\")"
   ]
  },
  {
   "cell_type": "code",
   "execution_count": 16,
   "metadata": {
    "collapsed": true
   },
   "outputs": [],
   "source": [
    "temp = wind2df(data)"
   ]
  },
  {
   "cell_type": "code",
   "execution_count": 17,
   "metadata": {
    "collapsed": true
   },
   "outputs": [],
   "source": [
    "df['issue_date'] = temp['issue_date']"
   ]
  },
  {
   "cell_type": "code",
   "execution_count": 18,
   "metadata": {
    "collapsed": true
   },
   "outputs": [],
   "source": [
    "data = w.wss(df['wind_code'].tolist(), \"prt_netasset\",\"rptDate=%s\"%(rptDate))"
   ]
  },
  {
   "cell_type": "code",
   "execution_count": 19,
   "metadata": {
    "collapsed": true
   },
   "outputs": [],
   "source": [
    "temp = wind2df(data)"
   ]
  },
  {
   "cell_type": "code",
   "execution_count": 20,
   "metadata": {
    "collapsed": true
   },
   "outputs": [],
   "source": [
    "df['netasset'] = temp['prt_netasset']"
   ]
  },
  {
   "cell_type": "code",
   "execution_count": 21,
   "metadata": {
    "collapsed": true
   },
   "outputs": [],
   "source": [
    "data = w.wss(df['wind_code'].tolist(), \"fund_fundmanager\")"
   ]
  },
  {
   "cell_type": "code",
   "execution_count": 22,
   "metadata": {
    "collapsed": true
   },
   "outputs": [],
   "source": [
    "temp = wind2df(data)"
   ]
  },
  {
   "cell_type": "code",
   "execution_count": 23,
   "metadata": {
    "collapsed": true
   },
   "outputs": [],
   "source": [
    "df['fundmanager'] = temp['fund_fundmanager']"
   ]
  },
  {
   "cell_type": "code",
   "execution_count": 34,
   "metadata": {
    "collapsed": true
   },
   "outputs": [],
   "source": [
    "data = w.wss(df['wind_code'].tolist(), \"fund_dq_status\",\"tradeDate=2017-04-13\")"
   ]
  },
  {
   "cell_type": "code",
   "execution_count": 35,
   "metadata": {
    "collapsed": true
   },
   "outputs": [],
   "source": [
    "temp = wind2df(data)"
   ]
  },
  {
   "cell_type": "code",
   "execution_count": 26,
   "metadata": {
    "collapsed": true
   },
   "outputs": [],
   "source": [
    "df['fund_status'] = temp['fund_dq_status']"
   ]
  },
  {
   "cell_type": "code",
   "execution_count": 27,
   "metadata": {
    "collapsed": true
   },
   "outputs": [],
   "source": [
    "df.to_excel(fname, index=False)"
   ]
  },
  {
   "cell_type": "code",
   "execution_count": 28,
   "metadata": {
    "collapsed": false
   },
   "outputs": [
    {
     "data": {
      "text/plain": [
       "(696, 7)"
      ]
     },
     "execution_count": 28,
     "metadata": {},
     "output_type": "execute_result"
    }
   ],
   "source": [
    "df.shape"
   ]
  },
  {
   "cell_type": "code",
   "execution_count": 30,
   "metadata": {
    "collapsed": false
   },
   "outputs": [
    {
     "name": "stdout",
     "output_type": "stream",
     "text": [
      "被动指数型基金\n",
      "增强指数型基金\n",
      "普通股票型基金\n",
      "偏股混合型基金\n"
     ]
    }
   ],
   "source": [
    "for x in df['investtype'].unique():\n",
    "    print x"
   ]
  },
  {
   "cell_type": "code",
   "execution_count": 31,
   "metadata": {
    "collapsed": true
   },
   "outputs": [],
   "source": [
    "pnl = pd.read_pickle('C:/Users/jgtzsx01/Documents/workspace/data/FOF/stock.pkl')\n",
    "fname = u'%s/股票型基金列表.xlsx'%(DATA_DIR)\n",
    "df = pd.read_excel(fname)"
   ]
  },
  {
   "cell_type": "code",
   "execution_count": 32,
   "metadata": {
    "collapsed": false
   },
   "outputs": [
    {
     "data": {
      "text/html": [
       "<div>\n",
       "<table border=\"1\" class=\"dataframe\">\n",
       "  <thead>\n",
       "    <tr style=\"text-align: right;\">\n",
       "      <th></th>\n",
       "      <th>sec_name</th>\n",
       "      <th>wind_code</th>\n",
       "      <th>investtype</th>\n",
       "      <th>issue_date</th>\n",
       "      <th>netasset</th>\n",
       "      <th>fundmanager</th>\n",
       "      <th>fund_status</th>\n",
       "    </tr>\n",
       "  </thead>\n",
       "  <tbody>\n",
       "    <tr>\n",
       "      <th>4</th>\n",
       "      <td>嘉实研究阿尔法</td>\n",
       "      <td>000082.OF</td>\n",
       "      <td>普通股票型基金</td>\n",
       "      <td>2013-05-02 00:00:00.005</td>\n",
       "      <td>4.786958e+08</td>\n",
       "      <td>赵宇</td>\n",
       "      <td>开放申购|开放赎回</td>\n",
       "    </tr>\n",
       "    <tr>\n",
       "      <th>7</th>\n",
       "      <td>大摩品质生活精选</td>\n",
       "      <td>000309.OF</td>\n",
       "      <td>普通股票型基金</td>\n",
       "      <td>2013-09-23 00:00:00.005</td>\n",
       "      <td>1.591271e+09</td>\n",
       "      <td>袁斌</td>\n",
       "      <td>开放申购|开放赎回</td>\n",
       "    </tr>\n",
       "    <tr>\n",
       "      <th>14</th>\n",
       "      <td>鹏华环保产业</td>\n",
       "      <td>000409.OF</td>\n",
       "      <td>普通股票型基金</td>\n",
       "      <td>2014-02-10 00:00:00.005</td>\n",
       "      <td>3.706680e+08</td>\n",
       "      <td>郑川江</td>\n",
       "      <td>开放申购|开放赎回</td>\n",
       "    </tr>\n",
       "    <tr>\n",
       "      <th>15</th>\n",
       "      <td>景顺长城优质成长</td>\n",
       "      <td>000411.OF</td>\n",
       "      <td>普通股票型基金</td>\n",
       "      <td>2013-11-21 00:00:00.005</td>\n",
       "      <td>5.502587e+07</td>\n",
       "      <td>丁丹</td>\n",
       "      <td>开放申购|开放赎回</td>\n",
       "    </tr>\n",
       "    <tr>\n",
       "      <th>16</th>\n",
       "      <td>景顺长城成长之星</td>\n",
       "      <td>000418.OF</td>\n",
       "      <td>普通股票型基金</td>\n",
       "      <td>2013-11-13 00:00:00.005</td>\n",
       "      <td>7.059492e+07</td>\n",
       "      <td>刘晓明</td>\n",
       "      <td>开放申购|开放赎回</td>\n",
       "    </tr>\n",
       "  </tbody>\n",
       "</table>\n",
       "</div>"
      ],
      "text/plain": [
       "    sec_name  wind_code investtype              issue_date      netasset  \\\n",
       "4    嘉实研究阿尔法  000082.OF    普通股票型基金 2013-05-02 00:00:00.005  4.786958e+08   \n",
       "7   大摩品质生活精选  000309.OF    普通股票型基金 2013-09-23 00:00:00.005  1.591271e+09   \n",
       "14    鹏华环保产业  000409.OF    普通股票型基金 2014-02-10 00:00:00.005  3.706680e+08   \n",
       "15  景顺长城优质成长  000411.OF    普通股票型基金 2013-11-21 00:00:00.005  5.502587e+07   \n",
       "16  景顺长城成长之星  000418.OF    普通股票型基金 2013-11-13 00:00:00.005  7.059492e+07   \n",
       "\n",
       "   fundmanager fund_status  \n",
       "4           赵宇   开放申购|开放赎回  \n",
       "7           袁斌   开放申购|开放赎回  \n",
       "14         郑川江   开放申购|开放赎回  \n",
       "15          丁丹   开放申购|开放赎回  \n",
       "16         刘晓明   开放申购|开放赎回  "
      ]
     },
     "execution_count": 32,
     "metadata": {},
     "output_type": "execute_result"
    }
   ],
   "source": [
    "df[df['investtype'] == u'普通股票型基金'].head()"
   ]
  },
  {
   "cell_type": "code",
   "execution_count": 33,
   "metadata": {
    "collapsed": false
   },
   "outputs": [],
   "source": [
    "ret_df = pnl[df['wind_code']].minor_xs('1-year return')"
   ]
  },
  {
   "cell_type": "code",
   "execution_count": 34,
   "metadata": {
    "collapsed": false
   },
   "outputs": [
    {
     "data": {
      "text/plain": [
       "000008.OF          NaN\n",
       "000042.OF     0.013200\n",
       "000051.OF          NaN\n",
       "000059.OF     0.031572\n",
       "000082.OF     0.018704\n",
       "000176.OF     0.014331\n",
       "000248.OF          NaN\n",
       "000309.OF     0.041086\n",
       "000311.OF     0.016850\n",
       "000312.OF     0.014633\n",
       "000313.OF          NaN\n",
       "000368.OF     0.012153\n",
       "000373.OF     0.020100\n",
       "000376.OF          NaN\n",
       "000409.OF     0.023283\n",
       "000411.OF     0.021204\n",
       "000418.OF     0.022027\n",
       "000457.OF     0.042339\n",
       "000471.OF     0.021194\n",
       "000478.OF     0.029526\n",
       "000513.OF     0.025909\n",
       "000524.OF     0.025110\n",
       "000549.OF     0.032429\n",
       "000577.OF          NaN\n",
       "000586.OF     0.035617\n",
       "000592.OF     0.027773\n",
       "000594.OF     0.022817\n",
       "000596.OF     0.023611\n",
       "000613.OF     0.012556\n",
       "000628.OF     0.025670\n",
       "                ...   \n",
       "519677.OF     0.023175\n",
       "519686.OF          NaN\n",
       "519706.OF          NaN\n",
       "519714.OF     0.031617\n",
       "519931.OF          NaN\n",
       "519935.OF          NaN\n",
       "519965.OF     0.047954\n",
       "519975.OF     0.052696\n",
       "530010.OF          NaN\n",
       "530015.OF          NaN\n",
       "530018.OF     0.016921\n",
       "540006.OF     0.019126\n",
       "540007.OF     0.023636\n",
       "540008.OF     0.020484\n",
       "540009.OF     0.020120\n",
       "540010.OF     0.041948\n",
       "540012.OF     0.012398\n",
       "585001.OF     0.014524\n",
       "590007.OF     0.016465\n",
       "660008.OF     0.012473\n",
       "660011.OF     0.021124\n",
       "660014.OF     0.014497\n",
       "690008.OF     0.021496\n",
       "700002.OF     0.015763\n",
       "740101.OF     0.012817\n",
       "960000.OF          NaN\n",
       "960001.OF          NaN\n",
       "960022.OF          NaN\n",
       "F161604.OF         NaN\n",
       "F202017.OF         NaN\n",
       "dtype: float64"
      ]
     },
     "execution_count": 34,
     "metadata": {},
     "output_type": "execute_result"
    }
   ],
   "source": [
    "ret_df.iloc[-20:].std()"
   ]
  },
  {
   "cell_type": "code",
   "execution_count": 46,
   "metadata": {
    "collapsed": false
   },
   "outputs": [],
   "source": [
    "df.loc[:, 'max return'] = ret_df.max().values"
   ]
  },
  {
   "cell_type": "code",
   "execution_count": 47,
   "metadata": {
    "collapsed": true
   },
   "outputs": [],
   "source": [
    "ret_df = ret_df.rank(axis=1, pct=True)"
   ]
  },
  {
   "cell_type": "code",
   "execution_count": 48,
   "metadata": {
    "collapsed": true
   },
   "outputs": [],
   "source": [
    "df.loc[:, 'max percentage'] = ret_df.max().values"
   ]
  },
  {
   "cell_type": "code",
   "execution_count": 49,
   "metadata": {
    "collapsed": true
   },
   "outputs": [],
   "source": [
    "df.loc[:, 'max percentage date'] = ret_df.idxmax().values"
   ]
  },
  {
   "cell_type": "code",
   "execution_count": 51,
   "metadata": {
    "collapsed": false
   },
   "outputs": [],
   "source": [
    "df = df[df['max percentage'] > 0.9]"
   ]
  },
  {
   "cell_type": "code",
   "execution_count": 53,
   "metadata": {
    "collapsed": false
   },
   "outputs": [],
   "source": [
    "df = df.dropna()"
   ]
  },
  {
   "cell_type": "code",
   "execution_count": 54,
   "metadata": {
    "collapsed": true
   },
   "outputs": [],
   "source": [
    "df.loc[:, 'max percentage'] = 1 - df.loc[:, 'max percentage']"
   ]
  },
  {
   "cell_type": "code",
   "execution_count": 56,
   "metadata": {
    "collapsed": false
   },
   "outputs": [],
   "source": [
    "df = df.sort_values('max return', ascending=False)"
   ]
  },
  {
   "cell_type": "code",
   "execution_count": null,
   "metadata": {
    "collapsed": true
   },
   "outputs": [],
   "source": []
  }
 ],
 "metadata": {
  "anaconda-cloud": {},
  "kernelspec": {
   "display_name": "Python [default]",
   "language": "python",
   "name": "python2"
  },
  "language_info": {
   "codemirror_mode": {
    "name": "ipython",
    "version": 2
   },
   "file_extension": ".py",
   "mimetype": "text/x-python",
   "name": "python",
   "nbconvert_exporter": "python",
   "pygments_lexer": "ipython2",
   "version": "2.7.12"
  }
 },
 "nbformat": 4,
 "nbformat_minor": 1
}
