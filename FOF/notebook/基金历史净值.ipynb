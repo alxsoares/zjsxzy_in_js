{
 "cells": [
  {
   "cell_type": "code",
   "execution_count": 8,
   "metadata": {
    "collapsed": true
   },
   "outputs": [],
   "source": [
    "from WindPy import w\n",
    "import pandas as pd\n",
    "import datetime"
   ]
  },
  {
   "cell_type": "code",
   "execution_count": 2,
   "metadata": {
    "collapsed": false
   },
   "outputs": [
    {
     "name": "stdout",
     "output_type": "stream",
     "text": [
      "Welcome to use Wind Quant API for Python (WindPy)!\n",
      "You can use w.menu to help yourself to create commands(WSD,WSS,WST,WSI,WSQ,...)!\n",
      "\n",
      "COPYRIGHT (C) 2016 WIND HONGHUI INFORMATION & TECHKNOLEWDGE CO., LTD. ALL RIGHTS RESERVED.\n",
      "IN NO CIRCUMSTANCE SHALL WIND BE RESPONSIBLE FOR ANY DAMAGES OR LOSSES CAUSED BY USING WIND QUANT API FOR Python.\n"
     ]
    },
    {
     "data": {
      "text/plain": [
       ".ErrorCode=0\n",
       ".Data=[OK!]"
      ]
     },
     "execution_count": 2,
     "metadata": {},
     "output_type": "execute_result"
    }
   ],
   "source": [
    "w.start()"
   ]
  },
  {
   "cell_type": "code",
   "execution_count": 25,
   "metadata": {
    "collapsed": true
   },
   "outputs": [],
   "source": [
    "DATA_DIR = 'D:/Data/fund'"
   ]
  },
  {
   "cell_type": "code",
   "execution_count": 10,
   "metadata": {
    "collapsed": true
   },
   "outputs": [],
   "source": [
    "fname = u'%s/债券型基金列表.xlsx'%(DATA_DIR)\n",
    "end_date = datetime.datetime.today() - datetime.timedelta(1)\n",
    "end_date = end_date.strftime('%Y-%m-%d')"
   ]
  },
  {
   "cell_type": "code",
   "execution_count": 19,
   "metadata": {
    "collapsed": true
   },
   "outputs": [],
   "source": [
    "def wind2df(raw_data):\n",
    "    dic = {}\n",
    "    for data, field in zip(raw_data.Data, raw_data.Fields):\n",
    "        dic[str(field.lower())] = data\n",
    "    return pd.DataFrame(dic, index=raw_data.Times)"
   ]
  },
  {
   "cell_type": "markdown",
   "metadata": {},
   "source": [
    "# 获得基金历史净值并保存到文件"
   ]
  },
  {
   "cell_type": "code",
   "execution_count": 20,
   "metadata": {
    "collapsed": true
   },
   "outputs": [],
   "source": [
    "df = pd.read_excel(fname)"
   ]
  },
  {
   "cell_type": "code",
   "execution_count": 21,
   "metadata": {
    "collapsed": false
   },
   "outputs": [
    {
     "data": {
      "text/html": [
       "<div>\n",
       "<table border=\"1\" class=\"dataframe\">\n",
       "  <thead>\n",
       "    <tr style=\"text-align: right;\">\n",
       "      <th></th>\n",
       "      <th>sec_name</th>\n",
       "      <th>wind_code</th>\n",
       "      <th>fund_investtype</th>\n",
       "      <th>fundscale</th>\n",
       "      <th>fund_setupdate</th>\n",
       "    </tr>\n",
       "  </thead>\n",
       "  <tbody>\n",
       "    <tr>\n",
       "      <th>1473</th>\n",
       "      <td>南方多利增强H</td>\n",
       "      <td>960040.OF</td>\n",
       "      <td>混合债券型一级基金</td>\n",
       "      <td>0.0</td>\n",
       "      <td>2016-05-27 00:00:00.005</td>\n",
       "    </tr>\n",
       "    <tr>\n",
       "      <th>1474</th>\n",
       "      <td>银华信用季季红H</td>\n",
       "      <td>F000286.OF</td>\n",
       "      <td>中长期纯债型基金</td>\n",
       "      <td>0.0</td>\n",
       "      <td>2016-11-02 00:00:00.005</td>\n",
       "    </tr>\n",
       "    <tr>\n",
       "      <th>1475</th>\n",
       "      <td>南方丰元信用增强H</td>\n",
       "      <td>F000355.OF</td>\n",
       "      <td>混合债券型一级基金</td>\n",
       "      <td>0.0</td>\n",
       "      <td>2016-08-30 00:00:00.005</td>\n",
       "    </tr>\n",
       "    <tr>\n",
       "      <th>1476</th>\n",
       "      <td>南方润元纯债H</td>\n",
       "      <td>F202108.OF</td>\n",
       "      <td>中长期纯债型基金</td>\n",
       "      <td>0.0</td>\n",
       "      <td>2016-07-13 00:00:00.005</td>\n",
       "    </tr>\n",
       "    <tr>\n",
       "      <th>1477</th>\n",
       "      <td>招商安泰债券H</td>\n",
       "      <td>F217003.OF</td>\n",
       "      <td>中长期纯债型基金</td>\n",
       "      <td>0.0</td>\n",
       "      <td>2016-03-17 00:00:00.005</td>\n",
       "    </tr>\n",
       "  </tbody>\n",
       "</table>\n",
       "</div>"
      ],
      "text/plain": [
       "       sec_name   wind_code fund_investtype  fundscale          fund_setupdate\n",
       "1473    南方多利增强H   960040.OF       混合债券型一级基金        0.0 2016-05-27 00:00:00.005\n",
       "1474   银华信用季季红H  F000286.OF        中长期纯债型基金        0.0 2016-11-02 00:00:00.005\n",
       "1475  南方丰元信用增强H  F000355.OF       混合债券型一级基金        0.0 2016-08-30 00:00:00.005\n",
       "1476    南方润元纯债H  F202108.OF        中长期纯债型基金        0.0 2016-07-13 00:00:00.005\n",
       "1477    招商安泰债券H  F217003.OF        中长期纯债型基金        0.0 2016-03-17 00:00:00.005"
      ]
     },
     "execution_count": 21,
     "metadata": {},
     "output_type": "execute_result"
    }
   ],
   "source": [
    "df.tail()"
   ]
  },
  {
   "cell_type": "code",
   "execution_count": 27,
   "metadata": {
    "collapsed": false
   },
   "outputs": [],
   "source": [
    "for index in df.index:\n",
    "    ticker = df.loc[index, 'wind_code']\n",
    "    days = (pd.to_datetime(end_date, format='%Y-%m-%d') - df.loc[index, 'fund_setupdate']).days\n",
    "    data = w.wsd(ticker, \"NAV_adj\", \"ED-%dD\"%(days), end_date, \"\")\n",
    "    temp_df = wind2df(data)\n",
    "    temp_df.to_excel('%s/history/%s.xlsx'%(DATA_DIR, ticker))"
   ]
  },
  {
   "cell_type": "code",
   "execution_count": null,
   "metadata": {
    "collapsed": true
   },
   "outputs": [],
   "source": []
  }
 ],
 "metadata": {
  "anaconda-cloud": {},
  "kernelspec": {
   "display_name": "Python [default]",
   "language": "python",
   "name": "python2"
  },
  "language_info": {
   "codemirror_mode": {
    "name": "ipython",
    "version": 2
   },
   "file_extension": ".py",
   "mimetype": "text/x-python",
   "name": "python",
   "nbconvert_exporter": "python",
   "pygments_lexer": "ipython2",
   "version": "2.7.12"
  }
 },
 "nbformat": 4,
 "nbformat_minor": 1
}
