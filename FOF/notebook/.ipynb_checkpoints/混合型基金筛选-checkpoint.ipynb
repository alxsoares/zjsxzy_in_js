{
 "cells": [
  {
   "cell_type": "code",
   "execution_count": 1,
   "metadata": {
    "collapsed": true
   },
   "outputs": [],
   "source": [
    "from WindPy import w\n",
    "import pandas as pd\n",
    "import numpy as np\n",
    "import pyfolio as pf\n",
    "import datetime\n",
    "import matplotlib.pyplot as plt\n",
    "import seaborn as sns\n",
    "import sys\n",
    "%matplotlib inline"
   ]
  },
  {
   "cell_type": "code",
   "execution_count": 2,
   "metadata": {
    "collapsed": false
   },
   "outputs": [
    {
     "name": "stdout",
     "output_type": "stream",
     "text": [
      "Welcome to use Wind Quant API for Python (WindPy)!\n",
      "You can use w.menu to help yourself to create commands(WSD,WSS,WST,WSI,WSQ,...)!\n",
      "\n",
      "COPYRIGHT (C) 2016 WIND HONGHUI INFORMATION & TECHKNOLEWDGE CO., LTD. ALL RIGHTS RESERVED.\n",
      "IN NO CIRCUMSTANCE SHALL WIND BE RESPONSIBLE FOR ANY DAMAGES OR LOSSES CAUSED BY USING WIND QUANT API FOR Python.\n"
     ]
    },
    {
     "data": {
      "text/plain": [
       ".ErrorCode=0\n",
       ".Data=[OK!]"
      ]
     },
     "execution_count": 2,
     "metadata": {},
     "output_type": "execute_result"
    }
   ],
   "source": [
    "w.start()"
   ]
  },
  {
   "cell_type": "code",
   "execution_count": 3,
   "metadata": {
    "collapsed": true
   },
   "outputs": [],
   "source": [
    "DATA_DIR = 'D:/Data/fund'\n",
    "end_date = '2017-04-17'\n",
    "rptDate = '20161231'"
   ]
  },
  {
   "cell_type": "code",
   "execution_count": 4,
   "metadata": {
    "collapsed": true
   },
   "outputs": [],
   "source": [
    "def wind2df(raw_data):\n",
    "    dic = {}\n",
    "    for data, field in zip(raw_data.Data, raw_data.Fields):\n",
    "        dic[str(field.lower())] = data\n",
    "    return pd.DataFrame(dic)"
   ]
  },
  {
   "cell_type": "code",
   "execution_count": 26,
   "metadata": {
    "collapsed": true
   },
   "outputs": [],
   "source": [
    "data = w.wset(\"sectorconstituent\",\"date=2017-04-17;windcode=885014.WI\")"
   ]
  },
  {
   "cell_type": "code",
   "execution_count": 27,
   "metadata": {
    "collapsed": true
   },
   "outputs": [],
   "source": [
    "df = wind2df(data)"
   ]
  },
  {
   "cell_type": "code",
   "execution_count": 28,
   "metadata": {
    "collapsed": false
   },
   "outputs": [
    {
     "data": {
      "text/html": [
       "<div>\n",
       "<table border=\"1\" class=\"dataframe\">\n",
       "  <thead>\n",
       "    <tr style=\"text-align: right;\">\n",
       "      <th></th>\n",
       "      <th>date</th>\n",
       "      <th>sec_name</th>\n",
       "      <th>wind_code</th>\n",
       "    </tr>\n",
       "  </thead>\n",
       "  <tbody>\n",
       "    <tr>\n",
       "      <th>0</th>\n",
       "      <td>2017-04-17 00:00:00.005</td>\n",
       "      <td>天弘瑞利B</td>\n",
       "      <td>000776.OF</td>\n",
       "    </tr>\n",
       "    <tr>\n",
       "      <th>1</th>\n",
       "      <td>2017-04-17 00:00:00.005</td>\n",
       "      <td>鑫元合享分级B</td>\n",
       "      <td>000815.OF</td>\n",
       "    </tr>\n",
       "    <tr>\n",
       "      <th>2</th>\n",
       "      <td>2017-04-17 00:00:00.005</td>\n",
       "      <td>国投瑞银瑞和小康</td>\n",
       "      <td>150008.OF</td>\n",
       "    </tr>\n",
       "    <tr>\n",
       "      <th>3</th>\n",
       "      <td>2017-04-17 00:00:00.005</td>\n",
       "      <td>国投瑞银瑞和远见</td>\n",
       "      <td>150009.OF</td>\n",
       "    </tr>\n",
       "    <tr>\n",
       "      <th>4</th>\n",
       "      <td>2017-04-17 00:00:00.005</td>\n",
       "      <td>国联安双禧A中证100</td>\n",
       "      <td>150012.OF</td>\n",
       "    </tr>\n",
       "  </tbody>\n",
       "</table>\n",
       "</div>"
      ],
      "text/plain": [
       "                     date     sec_name  wind_code\n",
       "0 2017-04-17 00:00:00.005        天弘瑞利B  000776.OF\n",
       "1 2017-04-17 00:00:00.005      鑫元合享分级B  000815.OF\n",
       "2 2017-04-17 00:00:00.005     国投瑞银瑞和小康  150008.OF\n",
       "3 2017-04-17 00:00:00.005     国投瑞银瑞和远见  150009.OF\n",
       "4 2017-04-17 00:00:00.005  国联安双禧A中证100  150012.OF"
      ]
     },
     "execution_count": 28,
     "metadata": {},
     "output_type": "execute_result"
    }
   ],
   "source": [
    "df.head()"
   ]
  },
  {
   "cell_type": "code",
   "execution_count": 9,
   "metadata": {
    "collapsed": true
   },
   "outputs": [],
   "source": [
    "fname = u'%s/混合型基金列表.xlsx'%(DATA_DIR)\n",
    "df[['sec_name', 'wind_code']].to_excel(fname, index=False)"
   ]
  },
  {
   "cell_type": "code",
   "execution_count": 10,
   "metadata": {
    "collapsed": true
   },
   "outputs": [],
   "source": [
    "df = pd.read_excel(fname)"
   ]
  },
  {
   "cell_type": "code",
   "execution_count": 11,
   "metadata": {
    "collapsed": true
   },
   "outputs": [],
   "source": [
    "data = w.wss(df['wind_code'].tolist(), \"fund_investtype\")"
   ]
  },
  {
   "cell_type": "code",
   "execution_count": 12,
   "metadata": {
    "collapsed": true
   },
   "outputs": [],
   "source": [
    "temp = wind2df(data)"
   ]
  },
  {
   "cell_type": "code",
   "execution_count": 13,
   "metadata": {
    "collapsed": true
   },
   "outputs": [],
   "source": [
    "df['investtype'] = temp['fund_investtype']"
   ]
  },
  {
   "cell_type": "code",
   "execution_count": 14,
   "metadata": {
    "collapsed": false
   },
   "outputs": [
    {
     "data": {
      "text/html": [
       "<div>\n",
       "<table border=\"1\" class=\"dataframe\">\n",
       "  <thead>\n",
       "    <tr style=\"text-align: right;\">\n",
       "      <th></th>\n",
       "      <th>sec_name</th>\n",
       "      <th>wind_code</th>\n",
       "      <th>investtype</th>\n",
       "    </tr>\n",
       "  </thead>\n",
       "  <tbody>\n",
       "    <tr>\n",
       "      <th>0</th>\n",
       "      <td>华夏成长</td>\n",
       "      <td>000001.OF</td>\n",
       "      <td>偏股混合型基金</td>\n",
       "    </tr>\n",
       "    <tr>\n",
       "      <th>1</th>\n",
       "      <td>华夏大盘精选</td>\n",
       "      <td>000011.OF</td>\n",
       "      <td>偏股混合型基金</td>\n",
       "    </tr>\n",
       "    <tr>\n",
       "      <th>2</th>\n",
       "      <td>财通可持续发展主题</td>\n",
       "      <td>000017.OF</td>\n",
       "      <td>偏股混合型基金</td>\n",
       "    </tr>\n",
       "    <tr>\n",
       "      <th>3</th>\n",
       "      <td>景顺长城品质投资</td>\n",
       "      <td>000020.OF</td>\n",
       "      <td>偏股混合型基金</td>\n",
       "    </tr>\n",
       "    <tr>\n",
       "      <th>4</th>\n",
       "      <td>华夏优势增长</td>\n",
       "      <td>000021.OF</td>\n",
       "      <td>偏股混合型基金</td>\n",
       "    </tr>\n",
       "  </tbody>\n",
       "</table>\n",
       "</div>"
      ],
      "text/plain": [
       "    sec_name  wind_code investtype\n",
       "0       华夏成长  000001.OF    偏股混合型基金\n",
       "1     华夏大盘精选  000011.OF    偏股混合型基金\n",
       "2  财通可持续发展主题  000017.OF    偏股混合型基金\n",
       "3   景顺长城品质投资  000020.OF    偏股混合型基金\n",
       "4     华夏优势增长  000021.OF    偏股混合型基金"
      ]
     },
     "execution_count": 14,
     "metadata": {},
     "output_type": "execute_result"
    }
   ],
   "source": [
    "df.head()"
   ]
  },
  {
   "cell_type": "code",
   "execution_count": 30,
   "metadata": {
    "collapsed": false
   },
   "outputs": [
    {
     "name": "stdout",
     "output_type": "stream",
     "text": [
      "偏股混合型基金\n"
     ]
    }
   ],
   "source": [
    "print df.loc[3, 'investtype']"
   ]
  },
  {
   "cell_type": "code",
   "execution_count": 32,
   "metadata": {
    "collapsed": false
   },
   "outputs": [
    {
     "name": "stdout",
     "output_type": "stream",
     "text": [
      "偏股混合型基金\n"
     ]
    }
   ],
   "source": [
    "print df.ix[2, 2]"
   ]
  },
  {
   "cell_type": "code",
   "execution_count": 33,
   "metadata": {
    "collapsed": true
   },
   "outputs": [],
   "source": [
    "df.index = df['wind_code']"
   ]
  },
  {
   "cell_type": "code",
   "execution_count": 35,
   "metadata": {
    "collapsed": false
   },
   "outputs": [
    {
     "data": {
      "text/html": [
       "<div>\n",
       "<table border=\"1\" class=\"dataframe\">\n",
       "  <thead>\n",
       "    <tr style=\"text-align: right;\">\n",
       "      <th></th>\n",
       "      <th>sec_name</th>\n",
       "      <th>wind_code</th>\n",
       "      <th>investtype</th>\n",
       "      <th>issue_date</th>\n",
       "      <th>netasset</th>\n",
       "      <th>fundmanager</th>\n",
       "      <th>fund_status</th>\n",
       "    </tr>\n",
       "    <tr>\n",
       "      <th>wind_code</th>\n",
       "      <th></th>\n",
       "      <th></th>\n",
       "      <th></th>\n",
       "      <th></th>\n",
       "      <th></th>\n",
       "      <th></th>\n",
       "      <th></th>\n",
       "    </tr>\n",
       "  </thead>\n",
       "  <tbody>\n",
       "    <tr>\n",
       "      <th>000001.OF</th>\n",
       "      <td>华夏成长</td>\n",
       "      <td>000001.OF</td>\n",
       "      <td>偏股混合型基金</td>\n",
       "      <td>2001-11-28 00:00:00.005</td>\n",
       "      <td>4.714605e+09</td>\n",
       "      <td>董阳阳</td>\n",
       "      <td>开放申购|开放赎回</td>\n",
       "    </tr>\n",
       "    <tr>\n",
       "      <th>000011.OF</th>\n",
       "      <td>华夏大盘精选</td>\n",
       "      <td>000011.OF</td>\n",
       "      <td>偏股混合型基金</td>\n",
       "      <td>2004-07-06 00:00:00.005</td>\n",
       "      <td>1.877814e+09</td>\n",
       "      <td>佟巍,阳琨</td>\n",
       "      <td>开放申购|开放赎回</td>\n",
       "    </tr>\n",
       "    <tr>\n",
       "      <th>000017.OF</th>\n",
       "      <td>财通可持续发展主题</td>\n",
       "      <td>000017.OF</td>\n",
       "      <td>偏股混合型基金</td>\n",
       "      <td>2013-02-25 00:00:00.005</td>\n",
       "      <td>1.108431e+08</td>\n",
       "      <td>金梓才,夏钦</td>\n",
       "      <td>开放申购|开放赎回</td>\n",
       "    </tr>\n",
       "    <tr>\n",
       "      <th>000020.OF</th>\n",
       "      <td>景顺长城品质投资</td>\n",
       "      <td>000020.OF</td>\n",
       "      <td>偏股混合型基金</td>\n",
       "      <td>2013-02-25 00:00:00.005</td>\n",
       "      <td>3.327711e+08</td>\n",
       "      <td>詹成</td>\n",
       "      <td>开放申购|开放赎回</td>\n",
       "    </tr>\n",
       "    <tr>\n",
       "      <th>000021.OF</th>\n",
       "      <td>华夏优势增长</td>\n",
       "      <td>000021.OF</td>\n",
       "      <td>偏股混合型基金</td>\n",
       "      <td>2006-11-20 00:00:00.005</td>\n",
       "      <td>6.463474e+09</td>\n",
       "      <td>刘平,孙轶佳,郑晓辉</td>\n",
       "      <td>开放申购|开放赎回</td>\n",
       "    </tr>\n",
       "  </tbody>\n",
       "</table>\n",
       "</div>"
      ],
      "text/plain": [
       "            sec_name  wind_code investtype              issue_date  \\\n",
       "wind_code                                                            \n",
       "000001.OF       华夏成长  000001.OF    偏股混合型基金 2001-11-28 00:00:00.005   \n",
       "000011.OF     华夏大盘精选  000011.OF    偏股混合型基金 2004-07-06 00:00:00.005   \n",
       "000017.OF  财通可持续发展主题  000017.OF    偏股混合型基金 2013-02-25 00:00:00.005   \n",
       "000020.OF   景顺长城品质投资  000020.OF    偏股混合型基金 2013-02-25 00:00:00.005   \n",
       "000021.OF     华夏优势增长  000021.OF    偏股混合型基金 2006-11-20 00:00:00.005   \n",
       "\n",
       "               netasset fundmanager fund_status  \n",
       "wind_code                                        \n",
       "000001.OF  4.714605e+09         董阳阳   开放申购|开放赎回  \n",
       "000011.OF  1.877814e+09       佟巍,阳琨   开放申购|开放赎回  \n",
       "000017.OF  1.108431e+08      金梓才,夏钦   开放申购|开放赎回  \n",
       "000020.OF  3.327711e+08          詹成   开放申购|开放赎回  \n",
       "000021.OF  6.463474e+09  刘平,孙轶佳,郑晓辉   开放申购|开放赎回  "
      ]
     },
     "execution_count": 35,
     "metadata": {},
     "output_type": "execute_result"
    }
   ],
   "source": [
    "df.head()"
   ]
  },
  {
   "cell_type": "code",
   "execution_count": 38,
   "metadata": {
    "collapsed": false
   },
   "outputs": [
    {
     "name": "stdout",
     "output_type": "stream",
     "text": [
      "董阳阳\n"
     ]
    }
   ],
   "source": [
    "print df.loc['000001.OF', 'fundmanager']"
   ]
  },
  {
   "cell_type": "code",
   "execution_count": 15,
   "metadata": {
    "collapsed": true
   },
   "outputs": [],
   "source": [
    "data = w.wss(df['wind_code'].tolist(), \"issue_date\")"
   ]
  },
  {
   "cell_type": "code",
   "execution_count": 16,
   "metadata": {
    "collapsed": true
   },
   "outputs": [],
   "source": [
    "temp = wind2df(data)"
   ]
  },
  {
   "cell_type": "code",
   "execution_count": 17,
   "metadata": {
    "collapsed": true
   },
   "outputs": [],
   "source": [
    "df['issue_date'] = temp['issue_date']"
   ]
  },
  {
   "cell_type": "code",
   "execution_count": 18,
   "metadata": {
    "collapsed": true
   },
   "outputs": [],
   "source": [
    "data = w.wss(df['wind_code'].tolist(), \"prt_netasset\",\"rptDate=%s\"%(rptDate))"
   ]
  },
  {
   "cell_type": "code",
   "execution_count": 19,
   "metadata": {
    "collapsed": true
   },
   "outputs": [],
   "source": [
    "temp = wind2df(data)"
   ]
  },
  {
   "cell_type": "code",
   "execution_count": 20,
   "metadata": {
    "collapsed": true
   },
   "outputs": [],
   "source": [
    "df['netasset'] = temp['prt_netasset']"
   ]
  },
  {
   "cell_type": "code",
   "execution_count": 21,
   "metadata": {
    "collapsed": true
   },
   "outputs": [],
   "source": [
    "data = w.wss(df['wind_code'].tolist(), \"fund_fundmanager\")"
   ]
  },
  {
   "cell_type": "code",
   "execution_count": 22,
   "metadata": {
    "collapsed": true
   },
   "outputs": [],
   "source": [
    "temp = wind2df(data)"
   ]
  },
  {
   "cell_type": "code",
   "execution_count": 23,
   "metadata": {
    "collapsed": true
   },
   "outputs": [],
   "source": [
    "df['fundmanager'] = temp['fund_fundmanager']"
   ]
  },
  {
   "cell_type": "code",
   "execution_count": 11,
   "metadata": {
    "collapsed": true
   },
   "outputs": [],
   "source": [
    "today = datetime.datetime.today().strftime('%Y-%m-%d')"
   ]
  },
  {
   "cell_type": "code",
   "execution_count": 15,
   "metadata": {
    "collapsed": true
   },
   "outputs": [],
   "source": [
    "# data = w.wss(df['wind_code'].tolist(), \"fund_dq_status\",\"tradeDate=%s\"%(today))\n",
    "data = w.wss(df['wind_code'].tolist(), \"fund_dq_status\",\"tradeDate=%s\"%(today))"
   ]
  },
  {
   "cell_type": "code",
   "execution_count": 16,
   "metadata": {
    "collapsed": true
   },
   "outputs": [],
   "source": [
    "temp = wind2df(data)"
   ]
  },
  {
   "cell_type": "code",
   "execution_count": 26,
   "metadata": {
    "collapsed": true
   },
   "outputs": [],
   "source": [
    "df['fund_status'] = temp['fund_dq_status']"
   ]
  },
  {
   "cell_type": "code",
   "execution_count": 27,
   "metadata": {
    "collapsed": true
   },
   "outputs": [],
   "source": [
    "df.to_excel(fname, index=False)"
   ]
  },
  {
   "cell_type": "code",
   "execution_count": 28,
   "metadata": {
    "collapsed": false
   },
   "outputs": [
    {
     "name": "stdout",
     "output_type": "stream",
     "text": [
      "偏股混合型基金\n",
      "偏债混合型基金\n",
      "灵活配置型基金\n",
      "平衡混合型基金\n"
     ]
    }
   ],
   "source": [
    "for x in df['investtype'].unique():\n",
    "    print x"
   ]
  },
  {
   "cell_type": "code",
   "execution_count": null,
   "metadata": {
    "collapsed": true
   },
   "outputs": [],
   "source": []
  }
 ],
 "metadata": {
  "anaconda-cloud": {},
  "kernelspec": {
   "display_name": "Python [default]",
   "language": "python",
   "name": "python2"
  },
  "language_info": {
   "codemirror_mode": {
    "name": "ipython",
    "version": 2
   },
   "file_extension": ".py",
   "mimetype": "text/x-python",
   "name": "python",
   "nbconvert_exporter": "python",
   "pygments_lexer": "ipython2",
   "version": "2.7.12"
  }
 },
 "nbformat": 4,
 "nbformat_minor": 1
}
