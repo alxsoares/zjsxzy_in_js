{
 "cells": [
  {
   "cell_type": "code",
   "execution_count": 16,
   "metadata": {
    "collapsed": false
   },
   "outputs": [],
   "source": [
    "from WindPy import w\n",
    "import pandas as pd\n",
    "import numpy as np\n",
    "import pyfolio as pf\n",
    "import datetime\n",
    "import matplotlib.pyplot as plt\n",
    "import seaborn as sns\n",
    "import sys\n",
    "%matplotlib inline"
   ]
  },
  {
   "cell_type": "code",
   "execution_count": 19,
   "metadata": {
    "collapsed": true
   },
   "outputs": [],
   "source": [
    "sys.path.append('../src/')"
   ]
  },
  {
   "cell_type": "code",
   "execution_count": 20,
   "metadata": {
    "collapsed": false
   },
   "outputs": [],
   "source": [
    "import bond_fund"
   ]
  },
  {
   "cell_type": "code",
   "execution_count": 2,
   "metadata": {
    "collapsed": false
   },
   "outputs": [
    {
     "name": "stdout",
     "output_type": "stream",
     "text": [
      "Welcome to use Wind Quant API for Python (WindPy)!\n",
      "You can use w.menu to help yourself to create commands(WSD,WSS,WST,WSI,WSQ,...)!\n",
      "\n",
      "COPYRIGHT (C) 2016 WIND HONGHUI INFORMATION & TECHKNOLEWDGE CO., LTD. ALL RIGHTS RESERVED.\n",
      "IN NO CIRCUMSTANCE SHALL WIND BE RESPONSIBLE FOR ANY DAMAGES OR LOSSES CAUSED BY USING WIND QUANT API FOR Python.\n"
     ]
    },
    {
     "data": {
      "text/plain": [
       ".ErrorCode=0\n",
       ".Data=[OK!]"
      ]
     },
     "execution_count": 2,
     "metadata": {},
     "output_type": "execute_result"
    }
   ],
   "source": [
    "w.start()"
   ]
  },
  {
   "cell_type": "code",
   "execution_count": 3,
   "metadata": {
    "collapsed": true
   },
   "outputs": [],
   "source": [
    "DATA_DIR = 'D:/Data/fund'\n",
    "end_date = '2017-04-12'\n",
    "rptDate = '20161231'"
   ]
  },
  {
   "cell_type": "markdown",
   "metadata": {},
   "source": [
    "# 获取所有债券基金列表并保存"
   ]
  },
  {
   "cell_type": "code",
   "execution_count": 41,
   "metadata": {
    "collapsed": true
   },
   "outputs": [],
   "source": [
    "def wind2df(raw_data):\n",
    "    dic = {}\n",
    "    for data, field in zip(raw_data.Data, raw_data.Fields):\n",
    "        dic[str(field.lower())] = data\n",
    "    return pd.DataFrame(dic)"
   ]
  },
  {
   "cell_type": "code",
   "execution_count": 5,
   "metadata": {
    "collapsed": true
   },
   "outputs": [],
   "source": [
    "data = w.wset(\"sectorconstituent\",\"date=2017-04-12;windcode=885005.WI\")"
   ]
  },
  {
   "cell_type": "code",
   "execution_count": 6,
   "metadata": {
    "collapsed": false
   },
   "outputs": [],
   "source": [
    "df = wind2df(data)"
   ]
  },
  {
   "cell_type": "code",
   "execution_count": 7,
   "metadata": {
    "collapsed": false
   },
   "outputs": [],
   "source": [
    "fname = u'%s/债券型基金列表.xlsx'%(DATA_DIR)\n",
    "df[['sec_name', 'wind_code']].to_excel(fname, index=False)"
   ]
  },
  {
   "cell_type": "markdown",
   "metadata": {},
   "source": [
    "# 得到各债券基金的\n",
    "* 二级分类\n",
    "* 基金资产净值\n",
    "* 发行日\n",
    "* 封闭期\n",
    "* 份额类型\n",
    "* 基金经理"
   ]
  },
  {
   "cell_type": "code",
   "execution_count": 37,
   "metadata": {
    "collapsed": true
   },
   "outputs": [],
   "source": [
    "fname = u'%s/债券型基金列表.xlsx'%(DATA_DIR)"
   ]
  },
  {
   "cell_type": "code",
   "execution_count": 38,
   "metadata": {
    "collapsed": true
   },
   "outputs": [],
   "source": [
    "df = pd.read_excel(fname)"
   ]
  },
  {
   "cell_type": "code",
   "execution_count": 10,
   "metadata": {
    "collapsed": false
   },
   "outputs": [
    {
     "data": {
      "text/html": [
       "<div>\n",
       "<table border=\"1\" class=\"dataframe\">\n",
       "  <thead>\n",
       "    <tr style=\"text-align: right;\">\n",
       "      <th></th>\n",
       "      <th>sec_name</th>\n",
       "      <th>wind_code</th>\n",
       "    </tr>\n",
       "  </thead>\n",
       "  <tbody>\n",
       "    <tr>\n",
       "      <th>0</th>\n",
       "      <td>中海可转换债券A</td>\n",
       "      <td>000003.OF</td>\n",
       "    </tr>\n",
       "    <tr>\n",
       "      <th>1</th>\n",
       "      <td>中海可转换债券C</td>\n",
       "      <td>000004.OF</td>\n",
       "    </tr>\n",
       "    <tr>\n",
       "      <th>2</th>\n",
       "      <td>嘉实增强信用</td>\n",
       "      <td>000005.OF</td>\n",
       "    </tr>\n",
       "    <tr>\n",
       "      <th>3</th>\n",
       "      <td>鹏华国有企业债</td>\n",
       "      <td>000007.OF</td>\n",
       "    </tr>\n",
       "    <tr>\n",
       "      <th>4</th>\n",
       "      <td>华夏聚利</td>\n",
       "      <td>000014.OF</td>\n",
       "    </tr>\n",
       "  </tbody>\n",
       "</table>\n",
       "</div>"
      ],
      "text/plain": [
       "   sec_name  wind_code\n",
       "0  中海可转换债券A  000003.OF\n",
       "1  中海可转换债券C  000004.OF\n",
       "2    嘉实增强信用  000005.OF\n",
       "3   鹏华国有企业债  000007.OF\n",
       "4      华夏聚利  000014.OF"
      ]
     },
     "execution_count": 10,
     "metadata": {},
     "output_type": "execute_result"
    }
   ],
   "source": [
    "df.head()"
   ]
  },
  {
   "cell_type": "markdown",
   "metadata": {},
   "source": [
    "### 基金分类"
   ]
  },
  {
   "cell_type": "code",
   "execution_count": 11,
   "metadata": {
    "collapsed": false
   },
   "outputs": [],
   "source": [
    "data = w.wss(df['wind_code'].tolist(), \"fund_investtype\")"
   ]
  },
  {
   "cell_type": "code",
   "execution_count": 12,
   "metadata": {
    "collapsed": false
   },
   "outputs": [],
   "source": [
    "temp = wind2df(data)"
   ]
  },
  {
   "cell_type": "code",
   "execution_count": 13,
   "metadata": {
    "collapsed": false
   },
   "outputs": [],
   "source": [
    "df['investtype'] = temp['fund_investtype']"
   ]
  },
  {
   "cell_type": "code",
   "execution_count": 14,
   "metadata": {
    "collapsed": false
   },
   "outputs": [
    {
     "data": {
      "text/html": [
       "<div>\n",
       "<table border=\"1\" class=\"dataframe\">\n",
       "  <thead>\n",
       "    <tr style=\"text-align: right;\">\n",
       "      <th></th>\n",
       "      <th>sec_name</th>\n",
       "      <th>wind_code</th>\n",
       "      <th>investtype</th>\n",
       "    </tr>\n",
       "  </thead>\n",
       "  <tbody>\n",
       "    <tr>\n",
       "      <th>0</th>\n",
       "      <td>中海可转换债券A</td>\n",
       "      <td>000003.OF</td>\n",
       "      <td>混合债券型二级基金</td>\n",
       "    </tr>\n",
       "    <tr>\n",
       "      <th>1</th>\n",
       "      <td>中海可转换债券C</td>\n",
       "      <td>000004.OF</td>\n",
       "      <td>混合债券型二级基金</td>\n",
       "    </tr>\n",
       "    <tr>\n",
       "      <th>2</th>\n",
       "      <td>嘉实增强信用</td>\n",
       "      <td>000005.OF</td>\n",
       "      <td>中长期纯债型基金</td>\n",
       "    </tr>\n",
       "    <tr>\n",
       "      <th>3</th>\n",
       "      <td>鹏华国有企业债</td>\n",
       "      <td>000007.OF</td>\n",
       "      <td>混合债券型二级基金</td>\n",
       "    </tr>\n",
       "    <tr>\n",
       "      <th>4</th>\n",
       "      <td>华夏聚利</td>\n",
       "      <td>000014.OF</td>\n",
       "      <td>混合债券型一级基金</td>\n",
       "    </tr>\n",
       "  </tbody>\n",
       "</table>\n",
       "</div>"
      ],
      "text/plain": [
       "   sec_name  wind_code investtype\n",
       "0  中海可转换债券A  000003.OF  混合债券型二级基金\n",
       "1  中海可转换债券C  000004.OF  混合债券型二级基金\n",
       "2    嘉实增强信用  000005.OF   中长期纯债型基金\n",
       "3   鹏华国有企业债  000007.OF  混合债券型二级基金\n",
       "4      华夏聚利  000014.OF  混合债券型一级基金"
      ]
     },
     "execution_count": 14,
     "metadata": {},
     "output_type": "execute_result"
    }
   ],
   "source": [
    "df.head()"
   ]
  },
  {
   "cell_type": "code",
   "execution_count": 38,
   "metadata": {
    "collapsed": true
   },
   "outputs": [],
   "source": [
    "data = w.wss('164302.OF', 'issue_date')"
   ]
  },
  {
   "cell_type": "code",
   "execution_count": 41,
   "metadata": {
    "collapsed": false
   },
   "outputs": [
    {
     "data": {
      "text/plain": [
       "datetime.datetime(2017, 1, 24, 0, 0, 0, 5000)"
      ]
     },
     "execution_count": 41,
     "metadata": {},
     "output_type": "execute_result"
    }
   ],
   "source": [
    "data.Data[0][0]"
   ]
  },
  {
   "cell_type": "markdown",
   "metadata": {},
   "source": [
    "### 基金发行日"
   ]
  },
  {
   "cell_type": "code",
   "execution_count": 15,
   "metadata": {
    "collapsed": false
   },
   "outputs": [],
   "source": [
    "data = w.wss(df['wind_code'].tolist(), \"issue_date\")"
   ]
  },
  {
   "cell_type": "code",
   "execution_count": 16,
   "metadata": {
    "collapsed": true
   },
   "outputs": [],
   "source": [
    "temp = wind2df(data)"
   ]
  },
  {
   "cell_type": "code",
   "execution_count": 17,
   "metadata": {
    "collapsed": false
   },
   "outputs": [],
   "source": [
    "df['issue_date'] = temp['issue_date']"
   ]
  },
  {
   "cell_type": "code",
   "execution_count": 18,
   "metadata": {
    "collapsed": false
   },
   "outputs": [
    {
     "data": {
      "text/html": [
       "<div>\n",
       "<table border=\"1\" class=\"dataframe\">\n",
       "  <thead>\n",
       "    <tr style=\"text-align: right;\">\n",
       "      <th></th>\n",
       "      <th>sec_name</th>\n",
       "      <th>wind_code</th>\n",
       "      <th>investtype</th>\n",
       "      <th>issue_date</th>\n",
       "    </tr>\n",
       "  </thead>\n",
       "  <tbody>\n",
       "    <tr>\n",
       "      <th>0</th>\n",
       "      <td>中海可转换债券A</td>\n",
       "      <td>000003.OF</td>\n",
       "      <td>混合债券型二级基金</td>\n",
       "      <td>2013-02-25 00:00:00.005</td>\n",
       "    </tr>\n",
       "    <tr>\n",
       "      <th>1</th>\n",
       "      <td>中海可转换债券C</td>\n",
       "      <td>000004.OF</td>\n",
       "      <td>混合债券型二级基金</td>\n",
       "      <td>2013-02-25 00:00:00.005</td>\n",
       "    </tr>\n",
       "    <tr>\n",
       "      <th>2</th>\n",
       "      <td>嘉实增强信用</td>\n",
       "      <td>000005.OF</td>\n",
       "      <td>中长期纯债型基金</td>\n",
       "      <td>2013-02-18 00:00:00.005</td>\n",
       "    </tr>\n",
       "    <tr>\n",
       "      <th>3</th>\n",
       "      <td>鹏华国有企业债</td>\n",
       "      <td>000007.OF</td>\n",
       "      <td>混合债券型二级基金</td>\n",
       "      <td>2013-02-04 00:00:00.005</td>\n",
       "    </tr>\n",
       "    <tr>\n",
       "      <th>4</th>\n",
       "      <td>华夏聚利</td>\n",
       "      <td>000014.OF</td>\n",
       "      <td>混合债券型一级基金</td>\n",
       "      <td>2013-02-25 00:00:00.005</td>\n",
       "    </tr>\n",
       "  </tbody>\n",
       "</table>\n",
       "</div>"
      ],
      "text/plain": [
       "   sec_name  wind_code investtype              issue_date\n",
       "0  中海可转换债券A  000003.OF  混合债券型二级基金 2013-02-25 00:00:00.005\n",
       "1  中海可转换债券C  000004.OF  混合债券型二级基金 2013-02-25 00:00:00.005\n",
       "2    嘉实增强信用  000005.OF   中长期纯债型基金 2013-02-18 00:00:00.005\n",
       "3   鹏华国有企业债  000007.OF  混合债券型二级基金 2013-02-04 00:00:00.005\n",
       "4      华夏聚利  000014.OF  混合债券型一级基金 2013-02-25 00:00:00.005"
      ]
     },
     "execution_count": 18,
     "metadata": {},
     "output_type": "execute_result"
    }
   ],
   "source": [
    "df.head()"
   ]
  },
  {
   "cell_type": "markdown",
   "metadata": {},
   "source": [
    "### 基金资产净值"
   ]
  },
  {
   "cell_type": "code",
   "execution_count": 19,
   "metadata": {
    "collapsed": false
   },
   "outputs": [],
   "source": [
    "data = w.wss(df['wind_code'].tolist(), \"prt_netasset\",\"rptDate=%s\"%(rptDate))"
   ]
  },
  {
   "cell_type": "code",
   "execution_count": 20,
   "metadata": {
    "collapsed": true
   },
   "outputs": [],
   "source": [
    "temp = wind2df(data)"
   ]
  },
  {
   "cell_type": "code",
   "execution_count": 22,
   "metadata": {
    "collapsed": false
   },
   "outputs": [],
   "source": [
    "df['netasset'] = temp['prt_netasset']"
   ]
  },
  {
   "cell_type": "code",
   "execution_count": 23,
   "metadata": {
    "collapsed": false
   },
   "outputs": [
    {
     "data": {
      "text/html": [
       "<div>\n",
       "<table border=\"1\" class=\"dataframe\">\n",
       "  <thead>\n",
       "    <tr style=\"text-align: right;\">\n",
       "      <th></th>\n",
       "      <th>sec_name</th>\n",
       "      <th>wind_code</th>\n",
       "      <th>investtype</th>\n",
       "      <th>issue_date</th>\n",
       "      <th>netasset</th>\n",
       "    </tr>\n",
       "  </thead>\n",
       "  <tbody>\n",
       "    <tr>\n",
       "      <th>0</th>\n",
       "      <td>中海可转换债券A</td>\n",
       "      <td>000003.OF</td>\n",
       "      <td>混合债券型二级基金</td>\n",
       "      <td>2013-02-25 00:00:00.005</td>\n",
       "      <td>2.893814e+07</td>\n",
       "    </tr>\n",
       "    <tr>\n",
       "      <th>1</th>\n",
       "      <td>中海可转换债券C</td>\n",
       "      <td>000004.OF</td>\n",
       "      <td>混合债券型二级基金</td>\n",
       "      <td>2013-02-25 00:00:00.005</td>\n",
       "      <td>3.054702e+07</td>\n",
       "    </tr>\n",
       "    <tr>\n",
       "      <th>2</th>\n",
       "      <td>嘉实增强信用</td>\n",
       "      <td>000005.OF</td>\n",
       "      <td>中长期纯债型基金</td>\n",
       "      <td>2013-02-18 00:00:00.005</td>\n",
       "      <td>1.313510e+09</td>\n",
       "    </tr>\n",
       "    <tr>\n",
       "      <th>3</th>\n",
       "      <td>鹏华国有企业债</td>\n",
       "      <td>000007.OF</td>\n",
       "      <td>混合债券型二级基金</td>\n",
       "      <td>2013-02-04 00:00:00.005</td>\n",
       "      <td>2.553934e+08</td>\n",
       "    </tr>\n",
       "    <tr>\n",
       "      <th>4</th>\n",
       "      <td>华夏聚利</td>\n",
       "      <td>000014.OF</td>\n",
       "      <td>混合债券型一级基金</td>\n",
       "      <td>2013-02-25 00:00:00.005</td>\n",
       "      <td>2.029543e+09</td>\n",
       "    </tr>\n",
       "  </tbody>\n",
       "</table>\n",
       "</div>"
      ],
      "text/plain": [
       "   sec_name  wind_code investtype              issue_date      netasset\n",
       "0  中海可转换债券A  000003.OF  混合债券型二级基金 2013-02-25 00:00:00.005  2.893814e+07\n",
       "1  中海可转换债券C  000004.OF  混合债券型二级基金 2013-02-25 00:00:00.005  3.054702e+07\n",
       "2    嘉实增强信用  000005.OF   中长期纯债型基金 2013-02-18 00:00:00.005  1.313510e+09\n",
       "3   鹏华国有企业债  000007.OF  混合债券型二级基金 2013-02-04 00:00:00.005  2.553934e+08\n",
       "4      华夏聚利  000014.OF  混合债券型一级基金 2013-02-25 00:00:00.005  2.029543e+09"
      ]
     },
     "execution_count": 23,
     "metadata": {},
     "output_type": "execute_result"
    }
   ],
   "source": [
    "df.head()"
   ]
  },
  {
   "cell_type": "markdown",
   "metadata": {},
   "source": [
    "### 基金经理"
   ]
  },
  {
   "cell_type": "code",
   "execution_count": 42,
   "metadata": {
    "collapsed": true
   },
   "outputs": [],
   "source": [
    "data = w.wss(df['wind_code'].tolist(), \"fund_fundmanager\")"
   ]
  },
  {
   "cell_type": "code",
   "execution_count": 43,
   "metadata": {
    "collapsed": true
   },
   "outputs": [],
   "source": [
    "temp = wind2df(data)"
   ]
  },
  {
   "cell_type": "code",
   "execution_count": 44,
   "metadata": {
    "collapsed": true
   },
   "outputs": [],
   "source": [
    "df['fundmanager'] = temp['fund_fundmanager']"
   ]
  },
  {
   "cell_type": "code",
   "execution_count": 45,
   "metadata": {
    "collapsed": false
   },
   "outputs": [
    {
     "data": {
      "text/html": [
       "<div>\n",
       "<table border=\"1\" class=\"dataframe\">\n",
       "  <thead>\n",
       "    <tr style=\"text-align: right;\">\n",
       "      <th></th>\n",
       "      <th>sec_name</th>\n",
       "      <th>wind_code</th>\n",
       "      <th>investtype</th>\n",
       "      <th>issue_date</th>\n",
       "      <th>netasset</th>\n",
       "      <th>fundmanager</th>\n",
       "    </tr>\n",
       "  </thead>\n",
       "  <tbody>\n",
       "    <tr>\n",
       "      <th>0</th>\n",
       "      <td>中海可转换债券A</td>\n",
       "      <td>000003.OF</td>\n",
       "      <td>混合债券型二级基金</td>\n",
       "      <td>2013-02-25 00:00:00.005</td>\n",
       "      <td>2.893814e+07</td>\n",
       "      <td>江小震</td>\n",
       "    </tr>\n",
       "    <tr>\n",
       "      <th>1</th>\n",
       "      <td>中海可转换债券C</td>\n",
       "      <td>000004.OF</td>\n",
       "      <td>混合债券型二级基金</td>\n",
       "      <td>2013-02-25 00:00:00.005</td>\n",
       "      <td>3.054702e+07</td>\n",
       "      <td>江小震</td>\n",
       "    </tr>\n",
       "    <tr>\n",
       "      <th>2</th>\n",
       "      <td>嘉实增强信用</td>\n",
       "      <td>000005.OF</td>\n",
       "      <td>中长期纯债型基金</td>\n",
       "      <td>2013-02-18 00:00:00.005</td>\n",
       "      <td>1.313510e+09</td>\n",
       "      <td>刘宁</td>\n",
       "    </tr>\n",
       "    <tr>\n",
       "      <th>3</th>\n",
       "      <td>鹏华国有企业债</td>\n",
       "      <td>000007.OF</td>\n",
       "      <td>混合债券型二级基金</td>\n",
       "      <td>2013-02-04 00:00:00.005</td>\n",
       "      <td>2.553934e+08</td>\n",
       "      <td>刘涛</td>\n",
       "    </tr>\n",
       "    <tr>\n",
       "      <th>4</th>\n",
       "      <td>华夏聚利</td>\n",
       "      <td>000014.OF</td>\n",
       "      <td>混合债券型一级基金</td>\n",
       "      <td>2013-02-25 00:00:00.005</td>\n",
       "      <td>2.029543e+09</td>\n",
       "      <td>魏镇江</td>\n",
       "    </tr>\n",
       "  </tbody>\n",
       "</table>\n",
       "</div>"
      ],
      "text/plain": [
       "   sec_name  wind_code investtype              issue_date      netasset  \\\n",
       "0  中海可转换债券A  000003.OF  混合债券型二级基金 2013-02-25 00:00:00.005  2.893814e+07   \n",
       "1  中海可转换债券C  000004.OF  混合债券型二级基金 2013-02-25 00:00:00.005  3.054702e+07   \n",
       "2    嘉实增强信用  000005.OF   中长期纯债型基金 2013-02-18 00:00:00.005  1.313510e+09   \n",
       "3   鹏华国有企业债  000007.OF  混合债券型二级基金 2013-02-04 00:00:00.005  2.553934e+08   \n",
       "4      华夏聚利  000014.OF  混合债券型一级基金 2013-02-25 00:00:00.005  2.029543e+09   \n",
       "\n",
       "  fundmanager  \n",
       "0         江小震  \n",
       "1         江小震  \n",
       "2          刘宁  \n",
       "3          刘涛  \n",
       "4         魏镇江  "
      ]
     },
     "execution_count": 45,
     "metadata": {},
     "output_type": "execute_result"
    }
   ],
   "source": [
    "df.head()"
   ]
  },
  {
   "cell_type": "markdown",
   "metadata": {
    "collapsed": true
   },
   "source": [
    "### 发行封闭期"
   ]
  },
  {
   "cell_type": "code",
   "execution_count": 39,
   "metadata": {
    "collapsed": false
   },
   "outputs": [],
   "source": [
    "data = w.wss(df['wind_code'].tolist(), \"fund_dq_status\",\"tradeDate=20170413\")"
   ]
  },
  {
   "cell_type": "code",
   "execution_count": 42,
   "metadata": {
    "collapsed": false
   },
   "outputs": [],
   "source": [
    "temp = wind2df(data)"
   ]
  },
  {
   "cell_type": "code",
   "execution_count": 44,
   "metadata": {
    "collapsed": false
   },
   "outputs": [],
   "source": [
    "df['fund_status'] = temp['fund_dq_status']"
   ]
  },
  {
   "cell_type": "code",
   "execution_count": 45,
   "metadata": {
    "collapsed": true
   },
   "outputs": [],
   "source": [
    "df.to_excel(fname, index=False)"
   ]
  },
  {
   "cell_type": "code",
   "execution_count": 47,
   "metadata": {
    "collapsed": false
   },
   "outputs": [
    {
     "data": {
      "text/plain": [
       "(765, 7)"
      ]
     },
     "execution_count": 47,
     "metadata": {},
     "output_type": "execute_result"
    }
   ],
   "source": [
    "df[df['fund_status'] == u'开放申购|开放赎回'].shape"
   ]
  },
  {
   "cell_type": "markdown",
   "metadata": {},
   "source": [
    "# 按基金类型筛选"
   ]
  },
  {
   "cell_type": "code",
   "execution_count": 4,
   "metadata": {
    "collapsed": false
   },
   "outputs": [],
   "source": [
    "fname = u'%s/债券型基金列表.xlsx'%(DATA_DIR)\n",
    "df = pd.read_excel(fname)"
   ]
  },
  {
   "cell_type": "code",
   "execution_count": 5,
   "metadata": {
    "collapsed": false
   },
   "outputs": [],
   "source": [
    "df.index = df['wind_code']"
   ]
  },
  {
   "cell_type": "code",
   "execution_count": 6,
   "metadata": {
    "collapsed": false
   },
   "outputs": [
    {
     "name": "stdout",
     "output_type": "stream",
     "text": [
      "混合债券型二级基金\n",
      "中长期纯债型基金\n",
      "混合债券型一级基金\n",
      "被动指数型债券基金\n",
      "短期纯债型基金\n",
      "增强指数型债券基金\n"
     ]
    }
   ],
   "source": [
    "for fund_type in df['investtype'].unique():\n",
    "    print fund_type"
   ]
  },
  {
   "cell_type": "markdown",
   "metadata": {},
   "source": [
    "### 按时间筛选成立不低于三个月"
   ]
  },
  {
   "cell_type": "code",
   "execution_count": 7,
   "metadata": {
    "collapsed": false
   },
   "outputs": [],
   "source": [
    "df = df[pd.to_datetime(end_date, format='%Y-%m-%d') - df['issue_date'] > datetime.timedelta(90)]"
   ]
  },
  {
   "cell_type": "code",
   "execution_count": 8,
   "metadata": {
    "collapsed": false
   },
   "outputs": [
    {
     "data": {
      "text/html": [
       "<div>\n",
       "<table border=\"1\" class=\"dataframe\">\n",
       "  <thead>\n",
       "    <tr style=\"text-align: right;\">\n",
       "      <th></th>\n",
       "      <th>sec_name</th>\n",
       "      <th>wind_code</th>\n",
       "      <th>investtype</th>\n",
       "      <th>issue_date</th>\n",
       "      <th>netasset</th>\n",
       "      <th>fundmanager</th>\n",
       "      <th>fund_status</th>\n",
       "    </tr>\n",
       "    <tr>\n",
       "      <th>wind_code</th>\n",
       "      <th></th>\n",
       "      <th></th>\n",
       "      <th></th>\n",
       "      <th></th>\n",
       "      <th></th>\n",
       "      <th></th>\n",
       "      <th></th>\n",
       "    </tr>\n",
       "  </thead>\n",
       "  <tbody>\n",
       "    <tr>\n",
       "      <th>000003.OF</th>\n",
       "      <td>中海可转换债券A</td>\n",
       "      <td>000003.OF</td>\n",
       "      <td>混合债券型二级基金</td>\n",
       "      <td>2013-02-25 00:00:00.005</td>\n",
       "      <td>2.893814e+07</td>\n",
       "      <td>江小震</td>\n",
       "      <td>开放申购|开放赎回</td>\n",
       "    </tr>\n",
       "    <tr>\n",
       "      <th>000004.OF</th>\n",
       "      <td>中海可转换债券C</td>\n",
       "      <td>000004.OF</td>\n",
       "      <td>混合债券型二级基金</td>\n",
       "      <td>2013-02-25 00:00:00.005</td>\n",
       "      <td>3.054702e+07</td>\n",
       "      <td>江小震</td>\n",
       "      <td>开放申购|开放赎回</td>\n",
       "    </tr>\n",
       "    <tr>\n",
       "      <th>000005.OF</th>\n",
       "      <td>嘉实增强信用</td>\n",
       "      <td>000005.OF</td>\n",
       "      <td>中长期纯债型基金</td>\n",
       "      <td>2013-02-18 00:00:00.005</td>\n",
       "      <td>1.313510e+09</td>\n",
       "      <td>刘宁</td>\n",
       "      <td>暂停申购|暂停赎回</td>\n",
       "    </tr>\n",
       "    <tr>\n",
       "      <th>000007.OF</th>\n",
       "      <td>鹏华国有企业债</td>\n",
       "      <td>000007.OF</td>\n",
       "      <td>混合债券型二级基金</td>\n",
       "      <td>2013-02-04 00:00:00.005</td>\n",
       "      <td>2.553934e+08</td>\n",
       "      <td>刘涛</td>\n",
       "      <td>开放申购|开放赎回</td>\n",
       "    </tr>\n",
       "    <tr>\n",
       "      <th>000014.OF</th>\n",
       "      <td>华夏聚利</td>\n",
       "      <td>000014.OF</td>\n",
       "      <td>混合债券型一级基金</td>\n",
       "      <td>2013-02-25 00:00:00.005</td>\n",
       "      <td>2.029543e+09</td>\n",
       "      <td>魏镇江</td>\n",
       "      <td>开放申购|开放赎回</td>\n",
       "    </tr>\n",
       "  </tbody>\n",
       "</table>\n",
       "</div>"
      ],
      "text/plain": [
       "           sec_name  wind_code investtype              issue_date  \\\n",
       "wind_code                                                           \n",
       "000003.OF  中海可转换债券A  000003.OF  混合债券型二级基金 2013-02-25 00:00:00.005   \n",
       "000004.OF  中海可转换债券C  000004.OF  混合债券型二级基金 2013-02-25 00:00:00.005   \n",
       "000005.OF    嘉实增强信用  000005.OF   中长期纯债型基金 2013-02-18 00:00:00.005   \n",
       "000007.OF   鹏华国有企业债  000007.OF  混合债券型二级基金 2013-02-04 00:00:00.005   \n",
       "000014.OF      华夏聚利  000014.OF  混合债券型一级基金 2013-02-25 00:00:00.005   \n",
       "\n",
       "               netasset fundmanager fund_status  \n",
       "wind_code                                        \n",
       "000003.OF  2.893814e+07         江小震   开放申购|开放赎回  \n",
       "000004.OF  3.054702e+07         江小震   开放申购|开放赎回  \n",
       "000005.OF  1.313510e+09          刘宁   暂停申购|暂停赎回  \n",
       "000007.OF  2.553934e+08          刘涛   开放申购|开放赎回  \n",
       "000014.OF  2.029543e+09         魏镇江   开放申购|开放赎回  "
      ]
     },
     "execution_count": 8,
     "metadata": {},
     "output_type": "execute_result"
    }
   ],
   "source": [
    "df.head()"
   ]
  },
  {
   "cell_type": "markdown",
   "metadata": {},
   "source": [
    "### 剔除非A类份额\n",
    "包含A或者不包含任何字母"
   ]
  },
  {
   "cell_type": "code",
   "execution_count": 9,
   "metadata": {
    "collapsed": false
   },
   "outputs": [],
   "source": [
    "df = df[(df['sec_name'].str.contains('A')) | (~df['sec_name'].str.contains(r'[A-Z]'))]"
   ]
  },
  {
   "cell_type": "code",
   "execution_count": 10,
   "metadata": {
    "collapsed": false
   },
   "outputs": [
    {
     "name": "stdout",
     "output_type": "stream",
     "text": [
      "混合债券型二级基金\n",
      "中长期纯债型基金\n",
      "混合债券型一级基金\n",
      "被动指数型债券基金\n",
      "短期纯债型基金\n",
      "增强指数型债券基金\n"
     ]
    }
   ],
   "source": [
    "for x in df['investtype'].unique():\n",
    "    print x"
   ]
  },
  {
   "cell_type": "markdown",
   "metadata": {},
   "source": [
    "### 中长期纯债型基金"
   ]
  },
  {
   "cell_type": "code",
   "execution_count": 14,
   "metadata": {
    "collapsed": false
   },
   "outputs": [],
   "source": [
    "lmbond_df = df[df['investtype'] == u'中长期纯债型基金']"
   ]
  },
  {
   "cell_type": "code",
   "execution_count": 12,
   "metadata": {
    "collapsed": false
   },
   "outputs": [],
   "source": [
    "def small_medium_large(df):\n",
    "    small = df[df['netasset'] < 200000000]\n",
    "    medium = df[(df['netasset'] >= 200000000) & (df['netasset'] < 1000000000)]\n",
    "    large = df[df['netasset'] >= 1000000000]\n",
    "    return small, medium, large"
   ]
  },
  {
   "cell_type": "code",
   "execution_count": 13,
   "metadata": {
    "collapsed": false
   },
   "outputs": [],
   "source": [
    "small_df, medium_df, large_df = small_medium_large(lmbond_df)"
   ]
  },
  {
   "cell_type": "markdown",
   "metadata": {},
   "source": [
    "# 历史业绩筛选"
   ]
  },
  {
   "cell_type": "code",
   "execution_count": 51,
   "metadata": {
    "collapsed": true
   },
   "outputs": [],
   "source": [
    "pnl = pd.read_pickle('C:/Users/jgtzsx01/Documents/workspace/data/FOF/bond.pkl')"
   ]
  },
  {
   "cell_type": "code",
   "execution_count": 52,
   "metadata": {
    "collapsed": true
   },
   "outputs": [],
   "source": [
    "bond_df = bond_fund.get_bond_fund()"
   ]
  },
  {
   "cell_type": "code",
   "execution_count": 53,
   "metadata": {
    "collapsed": true
   },
   "outputs": [],
   "source": [
    "df = bond_df[bond_df['investtype'] == u'中长期纯债型基金']"
   ]
  },
  {
   "cell_type": "code",
   "execution_count": 54,
   "metadata": {
    "collapsed": true
   },
   "outputs": [],
   "source": [
    "pnl = pnl[df['wind_code']]"
   ]
  },
  {
   "cell_type": "code",
   "execution_count": 55,
   "metadata": {
    "collapsed": true
   },
   "outputs": [],
   "source": [
    "ret_df = pnl.minor_xs('1-month return')"
   ]
  },
  {
   "cell_type": "code",
   "execution_count": 56,
   "metadata": {
    "collapsed": true
   },
   "outputs": [],
   "source": [
    "ret_df = ret_df.rank(axis=1, pct=True)"
   ]
  },
  {
   "cell_type": "code",
   "execution_count": 61,
   "metadata": {
    "collapsed": false
   },
   "outputs": [],
   "source": [
    "df.loc[:, 'max percentage'] = ret_df.max().values"
   ]
  },
  {
   "cell_type": "code",
   "execution_count": 65,
   "metadata": {
    "collapsed": false
   },
   "outputs": [],
   "source": [
    "df.loc[:, 'max percentage date'] = ret_df.idxmax().values"
   ]
  },
  {
   "cell_type": "code",
   "execution_count": 66,
   "metadata": {
    "collapsed": false
   },
   "outputs": [
    {
     "data": {
      "text/html": [
       "<div>\n",
       "<table border=\"1\" class=\"dataframe\">\n",
       "  <thead>\n",
       "    <tr style=\"text-align: right;\">\n",
       "      <th></th>\n",
       "      <th>sec_name</th>\n",
       "      <th>wind_code</th>\n",
       "      <th>investtype</th>\n",
       "      <th>issue_date</th>\n",
       "      <th>netasset</th>\n",
       "      <th>fundmanager</th>\n",
       "      <th>fund_status</th>\n",
       "      <th>max percentage</th>\n",
       "      <th>max percentage date</th>\n",
       "    </tr>\n",
       "  </thead>\n",
       "  <tbody>\n",
       "    <tr>\n",
       "      <th>5</th>\n",
       "      <td>华夏纯债A</td>\n",
       "      <td>000015.OF</td>\n",
       "      <td>中长期纯债型基金</td>\n",
       "      <td>2013-02-21 00:00:00.005</td>\n",
       "      <td>5.096313e+09</td>\n",
       "      <td>韩会永</td>\n",
       "      <td>开放申购|开放赎回</td>\n",
       "      <td>0.968586</td>\n",
       "      <td>2017-01-19 00:00:00.005</td>\n",
       "    </tr>\n",
       "    <tr>\n",
       "      <th>9</th>\n",
       "      <td>大摩双利增强A</td>\n",
       "      <td>000024.OF</td>\n",
       "      <td>中长期纯债型基金</td>\n",
       "      <td>2013-02-27 00:00:00.005</td>\n",
       "      <td>5.653409e+08</td>\n",
       "      <td>张雪</td>\n",
       "      <td>开放申购|开放赎回</td>\n",
       "      <td>1.000000</td>\n",
       "      <td>2013-06-20 00:00:00.005</td>\n",
       "    </tr>\n",
       "    <tr>\n",
       "      <th>19</th>\n",
       "      <td>长盛纯债A</td>\n",
       "      <td>000050.OF</td>\n",
       "      <td>中长期纯债型基金</td>\n",
       "      <td>2013-02-25 00:00:00.005</td>\n",
       "      <td>2.418698e+08</td>\n",
       "      <td>张帆</td>\n",
       "      <td>开放申购|开放赎回</td>\n",
       "      <td>0.985294</td>\n",
       "      <td>2015-04-15 00:00:00.005</td>\n",
       "    </tr>\n",
       "    <tr>\n",
       "      <th>21</th>\n",
       "      <td>鹏华实业债纯债</td>\n",
       "      <td>000053.OF</td>\n",
       "      <td>中长期纯债型基金</td>\n",
       "      <td>2013-04-01 00:00:00.005</td>\n",
       "      <td>2.265356e+08</td>\n",
       "      <td>刘太阳</td>\n",
       "      <td>开放申购|开放赎回</td>\n",
       "      <td>1.000000</td>\n",
       "      <td>2013-09-06 00:00:00.005</td>\n",
       "    </tr>\n",
       "    <tr>\n",
       "      <th>26</th>\n",
       "      <td>国投瑞银中高等级A</td>\n",
       "      <td>000069.OF</td>\n",
       "      <td>中长期纯债型基金</td>\n",
       "      <td>2013-04-15 00:00:00.005</td>\n",
       "      <td>2.233705e+08</td>\n",
       "      <td>刘莎莎,宋璐</td>\n",
       "      <td>开放申购|开放赎回</td>\n",
       "      <td>1.000000</td>\n",
       "      <td>2013-10-21 00:00:00.005</td>\n",
       "    </tr>\n",
       "    <tr>\n",
       "      <th>32</th>\n",
       "      <td>天治可转债增强A</td>\n",
       "      <td>000080.OF</td>\n",
       "      <td>中长期纯债型基金</td>\n",
       "      <td>2013-05-02 00:00:00.005</td>\n",
       "      <td>7.897296e+07</td>\n",
       "      <td>王洋</td>\n",
       "      <td>开放申购|开放赎回</td>\n",
       "      <td>1.000000</td>\n",
       "      <td>2013-08-15 00:00:00.005</td>\n",
       "    </tr>\n",
       "    <tr>\n",
       "      <th>42</th>\n",
       "      <td>华宸未来信用增利</td>\n",
       "      <td>000104.OF</td>\n",
       "      <td>中长期纯债型基金</td>\n",
       "      <td>2013-07-25 00:00:00.005</td>\n",
       "      <td>1.778576e+07</td>\n",
       "      <td>应晓立</td>\n",
       "      <td>开放申购|开放赎回</td>\n",
       "      <td>1.000000</td>\n",
       "      <td>2013-11-05 00:00:00.005</td>\n",
       "    </tr>\n",
       "    <tr>\n",
       "      <th>54</th>\n",
       "      <td>汇添富实业债A</td>\n",
       "      <td>000122.OF</td>\n",
       "      <td>中长期纯债型基金</td>\n",
       "      <td>2013-05-20 00:00:00.005</td>\n",
       "      <td>2.233867e+08</td>\n",
       "      <td>曾刚,蒋文玲</td>\n",
       "      <td>开放申购|开放赎回</td>\n",
       "      <td>1.000000</td>\n",
       "      <td>2013-07-15 00:00:00.005</td>\n",
       "    </tr>\n",
       "    <tr>\n",
       "      <th>62</th>\n",
       "      <td>富国国有企业债AB</td>\n",
       "      <td>000139.OF</td>\n",
       "      <td>中长期纯债型基金</td>\n",
       "      <td>2013-08-26 00:00:00.005</td>\n",
       "      <td>1.088709e+08</td>\n",
       "      <td>王颀亮</td>\n",
       "      <td>开放申购|开放赎回</td>\n",
       "      <td>0.980000</td>\n",
       "      <td>2014-07-11 00:00:00.005</td>\n",
       "    </tr>\n",
       "    <tr>\n",
       "      <th>65</th>\n",
       "      <td>易方达高等级信用债A</td>\n",
       "      <td>000147.OF</td>\n",
       "      <td>中长期纯债型基金</td>\n",
       "      <td>2013-08-01 00:00:00.005</td>\n",
       "      <td>2.845145e+08</td>\n",
       "      <td>张磊,胡剑</td>\n",
       "      <td>开放申购|开放赎回</td>\n",
       "      <td>0.955556</td>\n",
       "      <td>2014-04-03 00:00:00.005</td>\n",
       "    </tr>\n",
       "    <tr>\n",
       "      <th>70</th>\n",
       "      <td>大成景旭纯债A</td>\n",
       "      <td>000152.OF</td>\n",
       "      <td>中长期纯债型基金</td>\n",
       "      <td>2013-06-28 00:00:00.005</td>\n",
       "      <td>3.164763e+07</td>\n",
       "      <td>陈会荣</td>\n",
       "      <td>开放申购|开放赎回</td>\n",
       "      <td>0.973333</td>\n",
       "      <td>2016-01-05 00:00:00.005</td>\n",
       "    </tr>\n",
       "    <tr>\n",
       "      <th>75</th>\n",
       "      <td>汇添富高息债A</td>\n",
       "      <td>000174.OF</td>\n",
       "      <td>中长期纯债型基金</td>\n",
       "      <td>2013-05-27 00:00:00.005</td>\n",
       "      <td>6.836371e+09</td>\n",
       "      <td>陈加荣</td>\n",
       "      <td>开放申购|开放赎回</td>\n",
       "      <td>1.000000</td>\n",
       "      <td>2013-07-26 00:00:00.005</td>\n",
       "    </tr>\n",
       "    <tr>\n",
       "      <th>86</th>\n",
       "      <td>富国信用债A</td>\n",
       "      <td>000191.OF</td>\n",
       "      <td>中长期纯债型基金</td>\n",
       "      <td>2013-05-29 00:00:00.005</td>\n",
       "      <td>6.351539e+08</td>\n",
       "      <td>黄纪亮</td>\n",
       "      <td>开放申购|开放赎回</td>\n",
       "      <td>1.000000</td>\n",
       "      <td>2014-03-14 00:00:00.005</td>\n",
       "    </tr>\n",
       "    <tr>\n",
       "      <th>114</th>\n",
       "      <td>景顺长城景兴信用纯债A</td>\n",
       "      <td>000252.OF</td>\n",
       "      <td>中长期纯债型基金</td>\n",
       "      <td>2013-07-25 00:00:00.005</td>\n",
       "      <td>9.048579e+08</td>\n",
       "      <td>陈文鹏</td>\n",
       "      <td>开放申购|开放赎回</td>\n",
       "      <td>1.000000</td>\n",
       "      <td>2013-12-16 00:00:00.005</td>\n",
       "    </tr>\n",
       "    <tr>\n",
       "      <th>130</th>\n",
       "      <td>银华信用季季红A</td>\n",
       "      <td>000286.OF</td>\n",
       "      <td>中长期纯债型基金</td>\n",
       "      <td>2013-08-26 00:00:00.005</td>\n",
       "      <td>3.083585e+09</td>\n",
       "      <td>邹维娜</td>\n",
       "      <td>开放申购|开放赎回</td>\n",
       "      <td>1.000000</td>\n",
       "      <td>2013-10-31 00:00:00.005</td>\n",
       "    </tr>\n",
       "    <tr>\n",
       "      <th>140</th>\n",
       "      <td>中海纯债A</td>\n",
       "      <td>000298.OF</td>\n",
       "      <td>中长期纯债型基金</td>\n",
       "      <td>2014-03-19 00:00:00.005</td>\n",
       "      <td>7.279656e+07</td>\n",
       "      <td>江小震</td>\n",
       "      <td>开放申购|开放赎回</td>\n",
       "      <td>1.000000</td>\n",
       "      <td>2016-05-25 00:00:00.005</td>\n",
       "    </tr>\n",
       "    <tr>\n",
       "      <th>142</th>\n",
       "      <td>国泰淘金互联网</td>\n",
       "      <td>000302.OF</td>\n",
       "      <td>中长期纯债型基金</td>\n",
       "      <td>2013-11-01 00:00:00.005</td>\n",
       "      <td>1.048018e+09</td>\n",
       "      <td>黄志翔</td>\n",
       "      <td>开放申购|开放赎回</td>\n",
       "      <td>1.000000</td>\n",
       "      <td>2013-12-20 00:00:00.005</td>\n",
       "    </tr>\n",
       "    <tr>\n",
       "      <th>145</th>\n",
       "      <td>中银中高等级A</td>\n",
       "      <td>000305.OF</td>\n",
       "      <td>中长期纯债型基金</td>\n",
       "      <td>2013-11-07 00:00:00.005</td>\n",
       "      <td>5.739966e+09</td>\n",
       "      <td>王妍</td>\n",
       "      <td>开放申购|开放赎回</td>\n",
       "      <td>1.000000</td>\n",
       "      <td>2014-01-10 00:00:00.005</td>\n",
       "    </tr>\n",
       "    <tr>\n",
       "      <th>175</th>\n",
       "      <td>汇添富安心中国A</td>\n",
       "      <td>000395.OF</td>\n",
       "      <td>中长期纯债型基金</td>\n",
       "      <td>2013-11-07 00:00:00.005</td>\n",
       "      <td>1.857176e+08</td>\n",
       "      <td>何旻</td>\n",
       "      <td>开放申购|开放赎回</td>\n",
       "      <td>1.000000</td>\n",
       "      <td>2014-01-14 00:00:00.005</td>\n",
       "    </tr>\n",
       "    <tr>\n",
       "      <th>179</th>\n",
       "      <td>工银瑞信纯债A</td>\n",
       "      <td>000402.OF</td>\n",
       "      <td>中长期纯债型基金</td>\n",
       "      <td>2014-04-16 00:00:00.005</td>\n",
       "      <td>1.032546e+10</td>\n",
       "      <td>陆欣</td>\n",
       "      <td>开放申购|开放赎回</td>\n",
       "      <td>1.000000</td>\n",
       "      <td>2014-09-02 00:00:00.005</td>\n",
       "    </tr>\n",
       "    <tr>\n",
       "      <th>181</th>\n",
       "      <td>信诚月月定期支付</td>\n",
       "      <td>000405.OF</td>\n",
       "      <td>中长期纯债型基金</td>\n",
       "      <td>2013-11-25 00:00:00.005</td>\n",
       "      <td>3.167215e+06</td>\n",
       "      <td>宋海娟</td>\n",
       "      <td>开放申购|开放赎回</td>\n",
       "      <td>1.000000</td>\n",
       "      <td>2014-04-25 00:00:00.005</td>\n",
       "    </tr>\n",
       "    <tr>\n",
       "      <th>188</th>\n",
       "      <td>大摩优质信价纯债A</td>\n",
       "      <td>000419.OF</td>\n",
       "      <td>中长期纯债型基金</td>\n",
       "      <td>2014-11-03 00:00:00.005</td>\n",
       "      <td>3.402357e+08</td>\n",
       "      <td>施同亮</td>\n",
       "      <td>开放申购|开放赎回</td>\n",
       "      <td>1.000000</td>\n",
       "      <td>2016-01-18 00:00:00.005</td>\n",
       "    </tr>\n",
       "    <tr>\n",
       "      <th>211</th>\n",
       "      <td>财通纯债</td>\n",
       "      <td>000497.OF</td>\n",
       "      <td>中长期纯债型基金</td>\n",
       "      <td>2016-01-19 00:00:00.005</td>\n",
       "      <td>4.185464e+08</td>\n",
       "      <td>张亦博</td>\n",
       "      <td>开放申购|开放赎回</td>\n",
       "      <td>1.000000</td>\n",
       "      <td>2016-06-06 00:00:00.005</td>\n",
       "    </tr>\n",
       "    <tr>\n",
       "      <th>224</th>\n",
       "      <td>南方通利A</td>\n",
       "      <td>000563.OF</td>\n",
       "      <td>中长期纯债型基金</td>\n",
       "      <td>2014-03-25 00:00:00.005</td>\n",
       "      <td>3.249835e+09</td>\n",
       "      <td>李璇</td>\n",
       "      <td>开放申购|开放赎回</td>\n",
       "      <td>1.000000</td>\n",
       "      <td>2015-08-28 00:00:00.005</td>\n",
       "    </tr>\n",
       "    <tr>\n",
       "      <th>234</th>\n",
       "      <td>圆信永丰纯债A</td>\n",
       "      <td>000629.OF</td>\n",
       "      <td>中长期纯债型基金</td>\n",
       "      <td>2014-05-16 00:00:00.005</td>\n",
       "      <td>2.440989e+08</td>\n",
       "      <td>许燕,林铮,余文龙</td>\n",
       "      <td>开放申购|开放赎回</td>\n",
       "      <td>0.992308</td>\n",
       "      <td>2016-10-27 00:00:00.005</td>\n",
       "    </tr>\n",
       "    <tr>\n",
       "      <th>239</th>\n",
       "      <td>鑫元稳利</td>\n",
       "      <td>000655.OF</td>\n",
       "      <td>中长期纯债型基金</td>\n",
       "      <td>2014-05-30 00:00:00.005</td>\n",
       "      <td>3.367997e+09</td>\n",
       "      <td>张明凯</td>\n",
       "      <td>开放申购|开放赎回</td>\n",
       "      <td>0.980392</td>\n",
       "      <td>2016-07-28 00:00:00.005</td>\n",
       "    </tr>\n",
       "    <tr>\n",
       "      <th>240</th>\n",
       "      <td>国寿安保尊享A</td>\n",
       "      <td>000668.OF</td>\n",
       "      <td>中长期纯债型基金</td>\n",
       "      <td>2014-07-02 00:00:00.005</td>\n",
       "      <td>6.624628e+09</td>\n",
       "      <td>董瑞倩</td>\n",
       "      <td>开放申购|开放赎回</td>\n",
       "      <td>0.969231</td>\n",
       "      <td>2016-10-27 00:00:00.005</td>\n",
       "    </tr>\n",
       "    <tr>\n",
       "      <th>246</th>\n",
       "      <td>鑫元鸿利</td>\n",
       "      <td>000694.OF</td>\n",
       "      <td>中长期纯债型基金</td>\n",
       "      <td>2014-06-17 00:00:00.005</td>\n",
       "      <td>1.760486e+09</td>\n",
       "      <td>张明凯,王美芹</td>\n",
       "      <td>开放申购|开放赎回</td>\n",
       "      <td>0.960784</td>\n",
       "      <td>2016-07-27 00:00:00.005</td>\n",
       "    </tr>\n",
       "    <tr>\n",
       "      <th>250</th>\n",
       "      <td>诺安聚利A</td>\n",
       "      <td>000736.OF</td>\n",
       "      <td>中长期纯债型基金</td>\n",
       "      <td>2014-10-20 00:00:00.005</td>\n",
       "      <td>4.716826e+09</td>\n",
       "      <td>谢志华</td>\n",
       "      <td>开放申购|开放赎回</td>\n",
       "      <td>0.959459</td>\n",
       "      <td>2015-12-11 00:00:00.005</td>\n",
       "    </tr>\n",
       "    <tr>\n",
       "      <th>252</th>\n",
       "      <td>北信瑞丰稳定收益A</td>\n",
       "      <td>000744.OF</td>\n",
       "      <td>中长期纯债型基金</td>\n",
       "      <td>2014-07-28 00:00:00.005</td>\n",
       "      <td>2.812464e+08</td>\n",
       "      <td>李富强,郑猛</td>\n",
       "      <td>开放申购|开放赎回</td>\n",
       "      <td>1.000000</td>\n",
       "      <td>2015-06-23 00:00:00.005</td>\n",
       "    </tr>\n",
       "    <tr>\n",
       "      <th>...</th>\n",
       "      <td>...</td>\n",
       "      <td>...</td>\n",
       "      <td>...</td>\n",
       "      <td>...</td>\n",
       "      <td>...</td>\n",
       "      <td>...</td>\n",
       "      <td>...</td>\n",
       "      <td>...</td>\n",
       "      <td>...</td>\n",
       "    </tr>\n",
       "    <tr>\n",
       "      <th>1182</th>\n",
       "      <td>鹏华产业债</td>\n",
       "      <td>206018.OF</td>\n",
       "      <td>中长期纯债型基金</td>\n",
       "      <td>2013-01-14 00:00:00.005</td>\n",
       "      <td>5.161794e+08</td>\n",
       "      <td>陈若劲</td>\n",
       "      <td>开放申购|开放赎回</td>\n",
       "      <td>1.000000</td>\n",
       "      <td>2015-07-17 00:00:00.005</td>\n",
       "    </tr>\n",
       "    <tr>\n",
       "      <th>1185</th>\n",
       "      <td>招商安泰债券A</td>\n",
       "      <td>217003.OF</td>\n",
       "      <td>中长期纯债型基金</td>\n",
       "      <td>2003-03-17 00:00:00.005</td>\n",
       "      <td>6.380436e+08</td>\n",
       "      <td>邓栋</td>\n",
       "      <td>开放申购|开放赎回</td>\n",
       "      <td>1.000000</td>\n",
       "      <td>2003-06-05 00:00:00.005</td>\n",
       "    </tr>\n",
       "    <tr>\n",
       "      <th>1239</th>\n",
       "      <td>上投摩根纯债A</td>\n",
       "      <td>371020.OF</td>\n",
       "      <td>中长期纯债型基金</td>\n",
       "      <td>2009-05-25 00:00:00.005</td>\n",
       "      <td>1.054457e+09</td>\n",
       "      <td>聂曙光</td>\n",
       "      <td>开放申购|开放赎回</td>\n",
       "      <td>1.000000</td>\n",
       "      <td>2009-08-17 00:00:00.005</td>\n",
       "    </tr>\n",
       "    <tr>\n",
       "      <th>1243</th>\n",
       "      <td>中银纯债A</td>\n",
       "      <td>380005.OF</td>\n",
       "      <td>中长期纯债型基金</td>\n",
       "      <td>2012-11-14 00:00:00.005</td>\n",
       "      <td>6.789340e+09</td>\n",
       "      <td>陈玮</td>\n",
       "      <td>开放申购|开放赎回</td>\n",
       "      <td>1.000000</td>\n",
       "      <td>2013-12-19 00:00:00.005</td>\n",
       "    </tr>\n",
       "    <tr>\n",
       "      <th>1253</th>\n",
       "      <td>东方添益</td>\n",
       "      <td>400030.OF</td>\n",
       "      <td>中长期纯债型基金</td>\n",
       "      <td>2014-11-20 00:00:00.005</td>\n",
       "      <td>4.444125e+08</td>\n",
       "      <td>胡伟</td>\n",
       "      <td>开放申购|开放赎回</td>\n",
       "      <td>1.000000</td>\n",
       "      <td>2016-01-21 00:00:00.005</td>\n",
       "    </tr>\n",
       "    <tr>\n",
       "      <th>1262</th>\n",
       "      <td>国富恒久信用A</td>\n",
       "      <td>450018.OF</td>\n",
       "      <td>中长期纯债型基金</td>\n",
       "      <td>2012-08-06 00:00:00.005</td>\n",
       "      <td>1.259580e+08</td>\n",
       "      <td>刘怡敏</td>\n",
       "      <td>开放申购|开放赎回</td>\n",
       "      <td>1.000000</td>\n",
       "      <td>2013-01-04 00:00:00.005</td>\n",
       "    </tr>\n",
       "    <tr>\n",
       "      <th>1265</th>\n",
       "      <td>华泰柏瑞稳健收益A</td>\n",
       "      <td>460008.OF</td>\n",
       "      <td>中长期纯债型基金</td>\n",
       "      <td>2012-10-29 00:00:00.005</td>\n",
       "      <td>8.418045e+09</td>\n",
       "      <td>董元星</td>\n",
       "      <td>开放申购|开放赎回</td>\n",
       "      <td>1.000000</td>\n",
       "      <td>2015-12-11 00:00:00.005</td>\n",
       "    </tr>\n",
       "    <tr>\n",
       "      <th>1312</th>\n",
       "      <td>新华纯债添利A</td>\n",
       "      <td>519152.OF</td>\n",
       "      <td>中长期纯债型基金</td>\n",
       "      <td>2012-11-20 00:00:00.005</td>\n",
       "      <td>5.712567e+08</td>\n",
       "      <td>于泽雨</td>\n",
       "      <td>开放申购|开放赎回</td>\n",
       "      <td>1.000000</td>\n",
       "      <td>2013-07-18 00:00:00.005</td>\n",
       "    </tr>\n",
       "    <tr>\n",
       "      <th>1320</th>\n",
       "      <td>万家信用恒利A</td>\n",
       "      <td>519188.OF</td>\n",
       "      <td>中长期纯债型基金</td>\n",
       "      <td>2012-09-03 00:00:00.005</td>\n",
       "      <td>3.921208e+08</td>\n",
       "      <td>苏谋东,唐俊杰</td>\n",
       "      <td>开放申购|开放赎回</td>\n",
       "      <td>1.000000</td>\n",
       "      <td>2013-04-19 00:00:00.005</td>\n",
       "    </tr>\n",
       "    <tr>\n",
       "      <th>1323</th>\n",
       "      <td>万家家享纯债</td>\n",
       "      <td>519199.OF</td>\n",
       "      <td>中长期纯债型基金</td>\n",
       "      <td>2016-10-17 00:00:00.005</td>\n",
       "      <td>1.002461e+09</td>\n",
       "      <td>苏谋东,柳发超</td>\n",
       "      <td>开放申购|开放赎回</td>\n",
       "      <td>0.962264</td>\n",
       "      <td>2016-12-12 00:00:00.005</td>\n",
       "    </tr>\n",
       "    <tr>\n",
       "      <th>1340</th>\n",
       "      <td>浦银安盛盛泰A</td>\n",
       "      <td>519328.OF</td>\n",
       "      <td>中长期纯债型基金</td>\n",
       "      <td>2016-11-02 00:00:00.005</td>\n",
       "      <td>2.006036e+08</td>\n",
       "      <td>薛铮</td>\n",
       "      <td>开放申购|开放赎回</td>\n",
       "      <td>0.930108</td>\n",
       "      <td>2017-01-10 00:00:00.005</td>\n",
       "    </tr>\n",
       "    <tr>\n",
       "      <th>1352</th>\n",
       "      <td>银河领先债券</td>\n",
       "      <td>519669.OF</td>\n",
       "      <td>中长期纯债型基金</td>\n",
       "      <td>2012-10-25 00:00:00.005</td>\n",
       "      <td>5.035803e+09</td>\n",
       "      <td>杨鑫</td>\n",
       "      <td>开放申购|开放赎回</td>\n",
       "      <td>0.985714</td>\n",
       "      <td>2015-09-14 00:00:00.005</td>\n",
       "    </tr>\n",
       "    <tr>\n",
       "      <th>1359</th>\n",
       "      <td>交银纯债AB</td>\n",
       "      <td>519718.OF</td>\n",
       "      <td>中长期纯债型基金</td>\n",
       "      <td>2012-11-26 00:00:00.005</td>\n",
       "      <td>5.997050e+08</td>\n",
       "      <td>孙超</td>\n",
       "      <td>开放申购|开放赎回</td>\n",
       "      <td>0.956522</td>\n",
       "      <td>2015-07-06 00:00:00.005</td>\n",
       "    </tr>\n",
       "    <tr>\n",
       "      <th>1361</th>\n",
       "      <td>交银双轮动AB</td>\n",
       "      <td>519723.OF</td>\n",
       "      <td>中长期纯债型基金</td>\n",
       "      <td>2013-03-18 00:00:00.005</td>\n",
       "      <td>2.987235e+09</td>\n",
       "      <td>唐赟</td>\n",
       "      <td>开放申购|开放赎回</td>\n",
       "      <td>0.990338</td>\n",
       "      <td>2017-03-24 00:00:00.005</td>\n",
       "    </tr>\n",
       "    <tr>\n",
       "      <th>1368</th>\n",
       "      <td>交银丰润收益A</td>\n",
       "      <td>519743.OF</td>\n",
       "      <td>中长期纯债型基金</td>\n",
       "      <td>2014-11-24 00:00:00.005</td>\n",
       "      <td>7.139035e+07</td>\n",
       "      <td>连端清</td>\n",
       "      <td>开放申购|开放赎回</td>\n",
       "      <td>1.000000</td>\n",
       "      <td>2015-08-19 00:00:00.005</td>\n",
       "    </tr>\n",
       "    <tr>\n",
       "      <th>1371</th>\n",
       "      <td>交银丰泽收益A</td>\n",
       "      <td>519749.OF</td>\n",
       "      <td>中长期纯债型基金</td>\n",
       "      <td>2015-01-14 00:00:00.005</td>\n",
       "      <td>2.285143e+08</td>\n",
       "      <td>黄莹洁,唐赟</td>\n",
       "      <td>开放申购|开放赎回</td>\n",
       "      <td>1.000000</td>\n",
       "      <td>2016-01-22 00:00:00.005</td>\n",
       "    </tr>\n",
       "    <tr>\n",
       "      <th>1372</th>\n",
       "      <td>交银裕通纯债A</td>\n",
       "      <td>519762.OF</td>\n",
       "      <td>中长期纯债型基金</td>\n",
       "      <td>2015-12-16 00:00:00.005</td>\n",
       "      <td>1.700027e+09</td>\n",
       "      <td>黄莹洁,唐赟</td>\n",
       "      <td>开放申购|开放赎回</td>\n",
       "      <td>0.975000</td>\n",
       "      <td>2016-02-22 00:00:00.005</td>\n",
       "    </tr>\n",
       "    <tr>\n",
       "      <th>1374</th>\n",
       "      <td>交银裕兴纯债A</td>\n",
       "      <td>519774.OF</td>\n",
       "      <td>中长期纯债型基金</td>\n",
       "      <td>2016-08-31 00:00:00.005</td>\n",
       "      <td>5.919434e+08</td>\n",
       "      <td>连端清</td>\n",
       "      <td>开放申购|开放赎回</td>\n",
       "      <td>0.977444</td>\n",
       "      <td>2016-11-10 00:00:00.005</td>\n",
       "    </tr>\n",
       "    <tr>\n",
       "      <th>1376</th>\n",
       "      <td>交银裕盈纯债A</td>\n",
       "      <td>519776.OF</td>\n",
       "      <td>中长期纯债型基金</td>\n",
       "      <td>2016-10-26 00:00:00.005</td>\n",
       "      <td>2.013375e+08</td>\n",
       "      <td>连端清</td>\n",
       "      <td>开放申购|开放赎回</td>\n",
       "      <td>0.987500</td>\n",
       "      <td>2016-12-15 00:00:00.005</td>\n",
       "    </tr>\n",
       "    <tr>\n",
       "      <th>1378</th>\n",
       "      <td>交银裕隆纯债A</td>\n",
       "      <td>519782.OF</td>\n",
       "      <td>中长期纯债型基金</td>\n",
       "      <td>2016-11-22 00:00:00.005</td>\n",
       "      <td>4.908166e+09</td>\n",
       "      <td>黄莹洁,连端清</td>\n",
       "      <td>开放申购|开放赎回</td>\n",
       "      <td>0.985507</td>\n",
       "      <td>2017-02-27 00:00:00.005</td>\n",
       "    </tr>\n",
       "    <tr>\n",
       "      <th>1380</th>\n",
       "      <td>交银裕利纯债A</td>\n",
       "      <td>519786.OF</td>\n",
       "      <td>中长期纯债型基金</td>\n",
       "      <td>2016-11-15 00:00:00.005</td>\n",
       "      <td>2.106849e+08</td>\n",
       "      <td>连端清</td>\n",
       "      <td>开放申购|开放赎回</td>\n",
       "      <td>0.982143</td>\n",
       "      <td>2016-12-22 00:00:00.005</td>\n",
       "    </tr>\n",
       "    <tr>\n",
       "      <th>1398</th>\n",
       "      <td>长信纯债壹号A</td>\n",
       "      <td>519985.OF</td>\n",
       "      <td>中长期纯债型基金</td>\n",
       "      <td>2010-05-24 00:00:00.005</td>\n",
       "      <td>1.807610e+09</td>\n",
       "      <td>李小羽</td>\n",
       "      <td>开放申购|开放赎回</td>\n",
       "      <td>1.000000</td>\n",
       "      <td>2010-11-12 00:00:00.005</td>\n",
       "    </tr>\n",
       "    <tr>\n",
       "      <th>1404</th>\n",
       "      <td>建信纯债A</td>\n",
       "      <td>530021.OF</td>\n",
       "      <td>中长期纯债型基金</td>\n",
       "      <td>2012-10-17 00:00:00.005</td>\n",
       "      <td>5.423052e+08</td>\n",
       "      <td>钟敬棣</td>\n",
       "      <td>开放申购|开放赎回</td>\n",
       "      <td>0.913043</td>\n",
       "      <td>2015-05-05 00:00:00.005</td>\n",
       "    </tr>\n",
       "    <tr>\n",
       "      <th>1420</th>\n",
       "      <td>信诚优质纯债A</td>\n",
       "      <td>550018.OF</td>\n",
       "      <td>中长期纯债型基金</td>\n",
       "      <td>2013-01-14 00:00:00.005</td>\n",
       "      <td>2.324622e+08</td>\n",
       "      <td>王国强</td>\n",
       "      <td>开放申购|开放赎回</td>\n",
       "      <td>1.000000</td>\n",
       "      <td>2013-09-18 00:00:00.005</td>\n",
       "    </tr>\n",
       "    <tr>\n",
       "      <th>1428</th>\n",
       "      <td>中邮稳定收益A</td>\n",
       "      <td>590009.OF</td>\n",
       "      <td>中长期纯债型基金</td>\n",
       "      <td>2012-10-15 00:00:00.005</td>\n",
       "      <td>6.736834e+09</td>\n",
       "      <td>吴昊,张萌</td>\n",
       "      <td>开放申购|开放赎回</td>\n",
       "      <td>1.000000</td>\n",
       "      <td>2013-02-19 00:00:00.005</td>\n",
       "    </tr>\n",
       "    <tr>\n",
       "      <th>1435</th>\n",
       "      <td>金元顺安丰祥</td>\n",
       "      <td>620009.OF</td>\n",
       "      <td>中长期纯债型基金</td>\n",
       "      <td>2015-01-14 00:00:00.005</td>\n",
       "      <td>2.103134e+08</td>\n",
       "      <td>梁伟泓,李丹</td>\n",
       "      <td>开放申购|开放赎回</td>\n",
       "      <td>0.989247</td>\n",
       "      <td>2016-05-12 00:00:00.005</td>\n",
       "    </tr>\n",
       "    <tr>\n",
       "      <th>1442</th>\n",
       "      <td>英大纯债A</td>\n",
       "      <td>650001.OF</td>\n",
       "      <td>中长期纯债型基金</td>\n",
       "      <td>2013-03-21 00:00:00.005</td>\n",
       "      <td>3.557055e+08</td>\n",
       "      <td>张琳娜</td>\n",
       "      <td>开放申购|开放赎回</td>\n",
       "      <td>1.000000</td>\n",
       "      <td>2014-06-04 00:00:00.005</td>\n",
       "    </tr>\n",
       "    <tr>\n",
       "      <th>1453</th>\n",
       "      <td>西部利得合赢A</td>\n",
       "      <td>675051.OF</td>\n",
       "      <td>中长期纯债型基金</td>\n",
       "      <td>2016-09-01 00:00:00.005</td>\n",
       "      <td>5.889810e+04</td>\n",
       "      <td>韩丽楠,张维文</td>\n",
       "      <td>开放申购|开放赎回</td>\n",
       "      <td>0.937198</td>\n",
       "      <td>2017-03-10 00:00:00.005</td>\n",
       "    </tr>\n",
       "    <tr>\n",
       "      <th>1463</th>\n",
       "      <td>平安大华添利A</td>\n",
       "      <td>700005.OF</td>\n",
       "      <td>中长期纯债型基金</td>\n",
       "      <td>2012-10-22 00:00:00.005</td>\n",
       "      <td>2.911358e+07</td>\n",
       "      <td>孙健</td>\n",
       "      <td>开放申购|开放赎回</td>\n",
       "      <td>1.000000</td>\n",
       "      <td>2013-01-14 00:00:00.005</td>\n",
       "    </tr>\n",
       "    <tr>\n",
       "      <th>1469</th>\n",
       "      <td>安信目标收益A</td>\n",
       "      <td>750002.OF</td>\n",
       "      <td>中长期纯债型基金</td>\n",
       "      <td>2012-08-27 00:00:00.005</td>\n",
       "      <td>1.158886e+08</td>\n",
       "      <td>张翼飞</td>\n",
       "      <td>开放申购|开放赎回</td>\n",
       "      <td>1.000000</td>\n",
       "      <td>2013-01-23 00:00:00.005</td>\n",
       "    </tr>\n",
       "  </tbody>\n",
       "</table>\n",
       "<p>179 rows × 9 columns</p>\n",
       "</div>"
      ],
      "text/plain": [
       "         sec_name  wind_code investtype              issue_date      netasset  \\\n",
       "5           华夏纯债A  000015.OF   中长期纯债型基金 2013-02-21 00:00:00.005  5.096313e+09   \n",
       "9         大摩双利增强A  000024.OF   中长期纯债型基金 2013-02-27 00:00:00.005  5.653409e+08   \n",
       "19          长盛纯债A  000050.OF   中长期纯债型基金 2013-02-25 00:00:00.005  2.418698e+08   \n",
       "21        鹏华实业债纯债  000053.OF   中长期纯债型基金 2013-04-01 00:00:00.005  2.265356e+08   \n",
       "26      国投瑞银中高等级A  000069.OF   中长期纯债型基金 2013-04-15 00:00:00.005  2.233705e+08   \n",
       "32       天治可转债增强A  000080.OF   中长期纯债型基金 2013-05-02 00:00:00.005  7.897296e+07   \n",
       "42       华宸未来信用增利  000104.OF   中长期纯债型基金 2013-07-25 00:00:00.005  1.778576e+07   \n",
       "54        汇添富实业债A  000122.OF   中长期纯债型基金 2013-05-20 00:00:00.005  2.233867e+08   \n",
       "62      富国国有企业债AB  000139.OF   中长期纯债型基金 2013-08-26 00:00:00.005  1.088709e+08   \n",
       "65     易方达高等级信用债A  000147.OF   中长期纯债型基金 2013-08-01 00:00:00.005  2.845145e+08   \n",
       "70        大成景旭纯债A  000152.OF   中长期纯债型基金 2013-06-28 00:00:00.005  3.164763e+07   \n",
       "75        汇添富高息债A  000174.OF   中长期纯债型基金 2013-05-27 00:00:00.005  6.836371e+09   \n",
       "86         富国信用债A  000191.OF   中长期纯债型基金 2013-05-29 00:00:00.005  6.351539e+08   \n",
       "114   景顺长城景兴信用纯债A  000252.OF   中长期纯债型基金 2013-07-25 00:00:00.005  9.048579e+08   \n",
       "130      银华信用季季红A  000286.OF   中长期纯债型基金 2013-08-26 00:00:00.005  3.083585e+09   \n",
       "140         中海纯债A  000298.OF   中长期纯债型基金 2014-03-19 00:00:00.005  7.279656e+07   \n",
       "142       国泰淘金互联网  000302.OF   中长期纯债型基金 2013-11-01 00:00:00.005  1.048018e+09   \n",
       "145       中银中高等级A  000305.OF   中长期纯债型基金 2013-11-07 00:00:00.005  5.739966e+09   \n",
       "175      汇添富安心中国A  000395.OF   中长期纯债型基金 2013-11-07 00:00:00.005  1.857176e+08   \n",
       "179       工银瑞信纯债A  000402.OF   中长期纯债型基金 2014-04-16 00:00:00.005  1.032546e+10   \n",
       "181      信诚月月定期支付  000405.OF   中长期纯债型基金 2013-11-25 00:00:00.005  3.167215e+06   \n",
       "188     大摩优质信价纯债A  000419.OF   中长期纯债型基金 2014-11-03 00:00:00.005  3.402357e+08   \n",
       "211          财通纯债  000497.OF   中长期纯债型基金 2016-01-19 00:00:00.005  4.185464e+08   \n",
       "224         南方通利A  000563.OF   中长期纯债型基金 2014-03-25 00:00:00.005  3.249835e+09   \n",
       "234       圆信永丰纯债A  000629.OF   中长期纯债型基金 2014-05-16 00:00:00.005  2.440989e+08   \n",
       "239          鑫元稳利  000655.OF   中长期纯债型基金 2014-05-30 00:00:00.005  3.367997e+09   \n",
       "240       国寿安保尊享A  000668.OF   中长期纯债型基金 2014-07-02 00:00:00.005  6.624628e+09   \n",
       "246          鑫元鸿利  000694.OF   中长期纯债型基金 2014-06-17 00:00:00.005  1.760486e+09   \n",
       "250         诺安聚利A  000736.OF   中长期纯债型基金 2014-10-20 00:00:00.005  4.716826e+09   \n",
       "252     北信瑞丰稳定收益A  000744.OF   中长期纯债型基金 2014-07-28 00:00:00.005  2.812464e+08   \n",
       "...           ...        ...        ...                     ...           ...   \n",
       "1182        鹏华产业债  206018.OF   中长期纯债型基金 2013-01-14 00:00:00.005  5.161794e+08   \n",
       "1185      招商安泰债券A  217003.OF   中长期纯债型基金 2003-03-17 00:00:00.005  6.380436e+08   \n",
       "1239      上投摩根纯债A  371020.OF   中长期纯债型基金 2009-05-25 00:00:00.005  1.054457e+09   \n",
       "1243        中银纯债A  380005.OF   中长期纯债型基金 2012-11-14 00:00:00.005  6.789340e+09   \n",
       "1253         东方添益  400030.OF   中长期纯债型基金 2014-11-20 00:00:00.005  4.444125e+08   \n",
       "1262      国富恒久信用A  450018.OF   中长期纯债型基金 2012-08-06 00:00:00.005  1.259580e+08   \n",
       "1265    华泰柏瑞稳健收益A  460008.OF   中长期纯债型基金 2012-10-29 00:00:00.005  8.418045e+09   \n",
       "1312      新华纯债添利A  519152.OF   中长期纯债型基金 2012-11-20 00:00:00.005  5.712567e+08   \n",
       "1320      万家信用恒利A  519188.OF   中长期纯债型基金 2012-09-03 00:00:00.005  3.921208e+08   \n",
       "1323       万家家享纯债  519199.OF   中长期纯债型基金 2016-10-17 00:00:00.005  1.002461e+09   \n",
       "1340      浦银安盛盛泰A  519328.OF   中长期纯债型基金 2016-11-02 00:00:00.005  2.006036e+08   \n",
       "1352       银河领先债券  519669.OF   中长期纯债型基金 2012-10-25 00:00:00.005  5.035803e+09   \n",
       "1359       交银纯债AB  519718.OF   中长期纯债型基金 2012-11-26 00:00:00.005  5.997050e+08   \n",
       "1361      交银双轮动AB  519723.OF   中长期纯债型基金 2013-03-18 00:00:00.005  2.987235e+09   \n",
       "1368      交银丰润收益A  519743.OF   中长期纯债型基金 2014-11-24 00:00:00.005  7.139035e+07   \n",
       "1371      交银丰泽收益A  519749.OF   中长期纯债型基金 2015-01-14 00:00:00.005  2.285143e+08   \n",
       "1372      交银裕通纯债A  519762.OF   中长期纯债型基金 2015-12-16 00:00:00.005  1.700027e+09   \n",
       "1374      交银裕兴纯债A  519774.OF   中长期纯债型基金 2016-08-31 00:00:00.005  5.919434e+08   \n",
       "1376      交银裕盈纯债A  519776.OF   中长期纯债型基金 2016-10-26 00:00:00.005  2.013375e+08   \n",
       "1378      交银裕隆纯债A  519782.OF   中长期纯债型基金 2016-11-22 00:00:00.005  4.908166e+09   \n",
       "1380      交银裕利纯债A  519786.OF   中长期纯债型基金 2016-11-15 00:00:00.005  2.106849e+08   \n",
       "1398      长信纯债壹号A  519985.OF   中长期纯债型基金 2010-05-24 00:00:00.005  1.807610e+09   \n",
       "1404        建信纯债A  530021.OF   中长期纯债型基金 2012-10-17 00:00:00.005  5.423052e+08   \n",
       "1420      信诚优质纯债A  550018.OF   中长期纯债型基金 2013-01-14 00:00:00.005  2.324622e+08   \n",
       "1428      中邮稳定收益A  590009.OF   中长期纯债型基金 2012-10-15 00:00:00.005  6.736834e+09   \n",
       "1435       金元顺安丰祥  620009.OF   中长期纯债型基金 2015-01-14 00:00:00.005  2.103134e+08   \n",
       "1442        英大纯债A  650001.OF   中长期纯债型基金 2013-03-21 00:00:00.005  3.557055e+08   \n",
       "1453      西部利得合赢A  675051.OF   中长期纯债型基金 2016-09-01 00:00:00.005  5.889810e+04   \n",
       "1463      平安大华添利A  700005.OF   中长期纯债型基金 2012-10-22 00:00:00.005  2.911358e+07   \n",
       "1469      安信目标收益A  750002.OF   中长期纯债型基金 2012-08-27 00:00:00.005  1.158886e+08   \n",
       "\n",
       "     fundmanager fund_status  max percentage     max percentage date  \n",
       "5            韩会永   开放申购|开放赎回        0.968586 2017-01-19 00:00:00.005  \n",
       "9             张雪   开放申购|开放赎回        1.000000 2013-06-20 00:00:00.005  \n",
       "19            张帆   开放申购|开放赎回        0.985294 2015-04-15 00:00:00.005  \n",
       "21           刘太阳   开放申购|开放赎回        1.000000 2013-09-06 00:00:00.005  \n",
       "26        刘莎莎,宋璐   开放申购|开放赎回        1.000000 2013-10-21 00:00:00.005  \n",
       "32            王洋   开放申购|开放赎回        1.000000 2013-08-15 00:00:00.005  \n",
       "42           应晓立   开放申购|开放赎回        1.000000 2013-11-05 00:00:00.005  \n",
       "54        曾刚,蒋文玲   开放申购|开放赎回        1.000000 2013-07-15 00:00:00.005  \n",
       "62           王颀亮   开放申购|开放赎回        0.980000 2014-07-11 00:00:00.005  \n",
       "65         张磊,胡剑   开放申购|开放赎回        0.955556 2014-04-03 00:00:00.005  \n",
       "70           陈会荣   开放申购|开放赎回        0.973333 2016-01-05 00:00:00.005  \n",
       "75           陈加荣   开放申购|开放赎回        1.000000 2013-07-26 00:00:00.005  \n",
       "86           黄纪亮   开放申购|开放赎回        1.000000 2014-03-14 00:00:00.005  \n",
       "114          陈文鹏   开放申购|开放赎回        1.000000 2013-12-16 00:00:00.005  \n",
       "130          邹维娜   开放申购|开放赎回        1.000000 2013-10-31 00:00:00.005  \n",
       "140          江小震   开放申购|开放赎回        1.000000 2016-05-25 00:00:00.005  \n",
       "142          黄志翔   开放申购|开放赎回        1.000000 2013-12-20 00:00:00.005  \n",
       "145           王妍   开放申购|开放赎回        1.000000 2014-01-10 00:00:00.005  \n",
       "175           何旻   开放申购|开放赎回        1.000000 2014-01-14 00:00:00.005  \n",
       "179           陆欣   开放申购|开放赎回        1.000000 2014-09-02 00:00:00.005  \n",
       "181          宋海娟   开放申购|开放赎回        1.000000 2014-04-25 00:00:00.005  \n",
       "188          施同亮   开放申购|开放赎回        1.000000 2016-01-18 00:00:00.005  \n",
       "211          张亦博   开放申购|开放赎回        1.000000 2016-06-06 00:00:00.005  \n",
       "224           李璇   开放申购|开放赎回        1.000000 2015-08-28 00:00:00.005  \n",
       "234    许燕,林铮,余文龙   开放申购|开放赎回        0.992308 2016-10-27 00:00:00.005  \n",
       "239          张明凯   开放申购|开放赎回        0.980392 2016-07-28 00:00:00.005  \n",
       "240          董瑞倩   开放申购|开放赎回        0.969231 2016-10-27 00:00:00.005  \n",
       "246      张明凯,王美芹   开放申购|开放赎回        0.960784 2016-07-27 00:00:00.005  \n",
       "250          谢志华   开放申购|开放赎回        0.959459 2015-12-11 00:00:00.005  \n",
       "252       李富强,郑猛   开放申购|开放赎回        1.000000 2015-06-23 00:00:00.005  \n",
       "...          ...         ...             ...                     ...  \n",
       "1182         陈若劲   开放申购|开放赎回        1.000000 2015-07-17 00:00:00.005  \n",
       "1185          邓栋   开放申购|开放赎回        1.000000 2003-06-05 00:00:00.005  \n",
       "1239         聂曙光   开放申购|开放赎回        1.000000 2009-08-17 00:00:00.005  \n",
       "1243          陈玮   开放申购|开放赎回        1.000000 2013-12-19 00:00:00.005  \n",
       "1253          胡伟   开放申购|开放赎回        1.000000 2016-01-21 00:00:00.005  \n",
       "1262         刘怡敏   开放申购|开放赎回        1.000000 2013-01-04 00:00:00.005  \n",
       "1265         董元星   开放申购|开放赎回        1.000000 2015-12-11 00:00:00.005  \n",
       "1312         于泽雨   开放申购|开放赎回        1.000000 2013-07-18 00:00:00.005  \n",
       "1320     苏谋东,唐俊杰   开放申购|开放赎回        1.000000 2013-04-19 00:00:00.005  \n",
       "1323     苏谋东,柳发超   开放申购|开放赎回        0.962264 2016-12-12 00:00:00.005  \n",
       "1340          薛铮   开放申购|开放赎回        0.930108 2017-01-10 00:00:00.005  \n",
       "1352          杨鑫   开放申购|开放赎回        0.985714 2015-09-14 00:00:00.005  \n",
       "1359          孙超   开放申购|开放赎回        0.956522 2015-07-06 00:00:00.005  \n",
       "1361          唐赟   开放申购|开放赎回        0.990338 2017-03-24 00:00:00.005  \n",
       "1368         连端清   开放申购|开放赎回        1.000000 2015-08-19 00:00:00.005  \n",
       "1371      黄莹洁,唐赟   开放申购|开放赎回        1.000000 2016-01-22 00:00:00.005  \n",
       "1372      黄莹洁,唐赟   开放申购|开放赎回        0.975000 2016-02-22 00:00:00.005  \n",
       "1374         连端清   开放申购|开放赎回        0.977444 2016-11-10 00:00:00.005  \n",
       "1376         连端清   开放申购|开放赎回        0.987500 2016-12-15 00:00:00.005  \n",
       "1378     黄莹洁,连端清   开放申购|开放赎回        0.985507 2017-02-27 00:00:00.005  \n",
       "1380         连端清   开放申购|开放赎回        0.982143 2016-12-22 00:00:00.005  \n",
       "1398         李小羽   开放申购|开放赎回        1.000000 2010-11-12 00:00:00.005  \n",
       "1404         钟敬棣   开放申购|开放赎回        0.913043 2015-05-05 00:00:00.005  \n",
       "1420         王国强   开放申购|开放赎回        1.000000 2013-09-18 00:00:00.005  \n",
       "1428       吴昊,张萌   开放申购|开放赎回        1.000000 2013-02-19 00:00:00.005  \n",
       "1435      梁伟泓,李丹   开放申购|开放赎回        0.989247 2016-05-12 00:00:00.005  \n",
       "1442         张琳娜   开放申购|开放赎回        1.000000 2014-06-04 00:00:00.005  \n",
       "1453     韩丽楠,张维文   开放申购|开放赎回        0.937198 2017-03-10 00:00:00.005  \n",
       "1463          孙健   开放申购|开放赎回        1.000000 2013-01-14 00:00:00.005  \n",
       "1469         张翼飞   开放申购|开放赎回        1.000000 2013-01-23 00:00:00.005  \n",
       "\n",
       "[179 rows x 9 columns]"
      ]
     },
     "execution_count": 66,
     "metadata": {},
     "output_type": "execute_result"
    }
   ],
   "source": [
    "df[df['max percentage'] > 0.9]"
   ]
  },
  {
   "cell_type": "code",
   "execution_count": null,
   "metadata": {
    "collapsed": true
   },
   "outputs": [],
   "source": []
  }
 ],
 "metadata": {
  "anaconda-cloud": {},
  "kernelspec": {
   "display_name": "Python [default]",
   "language": "python",
   "name": "python2"
  },
  "language_info": {
   "codemirror_mode": {
    "name": "ipython",
    "version": 2
   },
   "file_extension": ".py",
   "mimetype": "text/x-python",
   "name": "python",
   "nbconvert_exporter": "python",
   "pygments_lexer": "ipython2",
   "version": "2.7.12"
  }
 },
 "nbformat": 4,
 "nbformat_minor": 1
}
